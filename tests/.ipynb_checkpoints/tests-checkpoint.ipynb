{
 "cells": [
  {
   "cell_type": "code",
   "execution_count": 11,
   "metadata": {
    "collapsed": false
   },
   "outputs": [],
   "source": [
    "import sys\n",
    "\n",
    "import pandas as pd\n",
    "\n",
    "gtfs_tk_dir = '../../gtfs-tk/'\n",
    "sys.path.append(gtfs_tk_dir)\n",
    "import gtfs_tk as gt\n"
   ]
  },
  {
   "cell_type": "code",
   "execution_count": 15,
   "metadata": {
    "collapsed": false
   },
   "outputs": [],
   "source": [
    "gt.timestr_to_seconds('11:30:00')\n",
    "feed = gt.Feed('../data/cairns_gtfs.zip', dist_units_out='km')"
   ]
  },
  {
   "cell_type": "code",
   "execution_count": 17,
   "metadata": {
    "collapsed": false
   },
   "outputs": [
    {
     "data": {
      "text/plain": [
       "['location_type',\n",
       " 'wheelchair_boarding',\n",
       " 'route_type',\n",
       " 'direction_id',\n",
       " 'stop_sequence',\n",
       " 'wheelchair_accessible',\n",
       " 'bikes_allowed',\n",
       " 'pickup_type',\n",
       " 'dropoff_type',\n",
       " 'timepoint',\n",
       " 'monday',\n",
       " 'tuesday',\n",
       " 'wednesday',\n",
       " 'thursday',\n",
       " 'friday',\n",
       " 'saturday',\n",
       " 'sunday',\n",
       " 'exception_type',\n",
       " 'payment_method',\n",
       " 'transfers',\n",
       " 'shape_pt_sequence',\n",
       " 'exact_times',\n",
       " 'transfer_type',\n",
       " 'min_transfer_time']"
      ]
     },
     "execution_count": 17,
     "metadata": {},
     "output_type": "execute_result"
    }
   ],
   "source": [
    "gt.INT_COLS"
   ]
  },
  {
   "cell_type": "code",
   "execution_count": null,
   "metadata": {
    "collapsed": true
   },
   "outputs": [],
   "source": []
  }
 ],
 "metadata": {
  "kernelspec": {
   "display_name": "Python 3",
   "language": "python",
   "name": "python3"
  },
  "language_info": {
   "codemirror_mode": {
    "name": "ipython",
    "version": 3
   },
   "file_extension": ".py",
   "mimetype": "text/x-python",
   "name": "python",
   "nbconvert_exporter": "python",
   "pygments_lexer": "ipython3",
   "version": "3.4.2"
  }
 },
 "nbformat": 4,
 "nbformat_minor": 0
}
