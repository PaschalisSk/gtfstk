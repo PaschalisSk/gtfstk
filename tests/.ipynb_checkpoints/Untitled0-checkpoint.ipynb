{
 "metadata": {
  "name": "",
  "signature": "sha256:04bd115d59ac2742c5938c88f1f66a5e375f6764624cc2a9ccf79df3167cbb9c"
 },
 "nbformat": 3,
 "nbformat_minor": 0,
 "worksheets": []
}