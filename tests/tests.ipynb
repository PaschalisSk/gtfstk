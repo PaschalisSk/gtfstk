{
 "cells": [
  {
   "cell_type": "code",
   "execution_count": 6,
   "metadata": {
    "collapsed": false
   },
   "outputs": [],
   "source": [
    "import sys\n",
    "\n",
    "import pandas as pd\n",
    "import rtree as rt\n",
    "\n",
    "gtfstk_dir = '../../gtfstk/'\n",
    "sys.path.append(gtfstk_dir)\n",
    "import gtfstk as gt\n",
    "\n",
    "data_dir = '../data/'"
   ]
  },
  {
   "cell_type": "code",
   "execution_count": 15,
   "metadata": {
    "collapsed": false
   },
   "outputs": [],
   "source": [
    "gt.timestr_to_seconds('11:30:00')\n",
    "feed = gt.Feed('../data/cairns_gtfs.zip', dist_units_out='km')"
   ]
  },
  {
   "cell_type": "code",
   "execution_count": 17,
   "metadata": {
    "collapsed": false
   },
   "outputs": [
    {
     "data": {
      "text/plain": [
       "['location_type',\n",
       " 'wheelchair_boarding',\n",
       " 'route_type',\n",
       " 'direction_id',\n",
       " 'stop_sequence',\n",
       " 'wheelchair_accessible',\n",
       " 'bikes_allowed',\n",
       " 'pickup_type',\n",
       " 'dropoff_type',\n",
       " 'timepoint',\n",
       " 'monday',\n",
       " 'tuesday',\n",
       " 'wednesday',\n",
       " 'thursday',\n",
       " 'friday',\n",
       " 'saturday',\n",
       " 'sunday',\n",
       " 'exception_type',\n",
       " 'payment_method',\n",
       " 'transfers',\n",
       " 'shape_pt_sequence',\n",
       " 'exact_times',\n",
       " 'transfer_type',\n",
       " 'min_transfer_time']"
      ]
     },
     "execution_count": 17,
     "metadata": {},
     "output_type": "execute_result"
    }
   ],
   "source": [
    "def build_shapes_by_segment(self, geometry_by_segment, shape_buffer):\n",
    "    \"\"\"\n",
    "    segment ID -> list of IDs of shapes such that \n",
    "                  the shape buffered by ``shape_buffer`` map units\n",
    "                  contains the segment\n",
    "    \"\"\"\n",
    "    assert self.segments is not None,\\\n",
    "      \"Error: need the files segments.geojson and for this\"\n",
    "\n",
    "    # Get alignment shapes in UTM, excluding shapes \n",
    "    # not in self.frequencies, and buffer them\n",
    "    d = self.get_linestring_by_shape(use_utm=True)     \n",
    "    shapes = self.frequencies['shape_id'].unique()\n",
    "    polygon_by_shape =\\\n",
    "      {shape: linestring.buffer(alignment_buffer) \n",
    "      for shape, linestring in d.items() if shape in shapes}\n",
    "\n",
    "    # Create dict shape -> alignment IDs\n",
    "    alignments_by_shape = {}\n",
    "    for shape, group in self.frequencies[['shape_id', 'alignment_id']].\\\n",
    "      groupby('shape_id'):\n",
    "        alignments_by_shape[shape] = list(group['alignment_id'].unique())\n",
    "\n",
    "    # Build a spatial index with RTree that is \n",
    "    # based on buffered alignment shapes.\n",
    "    # RTree indices must be integers, i believe.  \n",
    "    # So we can't use alignment IDs, which might be strings, as indices. \n",
    "    # So use an auxiliary dictionary.\n",
    "    sp_by_index = dict(zip(range(len(polygon_by_shape)), \n",
    "      polygon_by_shape.items()))\n",
    "    idx = rt.index.Index()\n",
    "    for i, (shape, polygon) in sp_by_index.items():\n",
    "        idx.insert(i, polygon.bounds)\n",
    "\n",
    "    # For each segment, record what alignment shapes contain it\n",
    "    result = {}\n",
    "    linestring_by_segment = self.get_linestring_by_segment(use_utm=True)\n",
    "    for segment, linestring in linestring_by_segment.items():\n",
    "        # Get bounding box\n",
    "        segment_box = linestring.bounds\n",
    "        shapes = [sp_by_index[i][0] \n",
    "          for i in idx.intersection(segment_box)\n",
    "          if sp_by_index[i][1].contains(linestring)] \n",
    "        result[segment] = [alignment for shape in shapes \n",
    "          for alignment in alignments_by_shape[shape]]\n",
    "    return result\n"
   ]
  },
  {
   "cell_type": "code",
   "execution_count": null,
   "metadata": {
    "collapsed": true
   },
   "outputs": [],
   "source": []
  }
 ],
 "metadata": {
  "kernelspec": {
   "display_name": "Python 3",
   "language": "python",
   "name": "python3"
  },
  "language_info": {
   "codemirror_mode": {
    "name": "ipython",
    "version": 3
   },
   "file_extension": ".py",
   "mimetype": "text/x-python",
   "name": "python",
   "nbconvert_exporter": "python",
   "pygments_lexer": "ipython3",
   "version": "3.4.2"
  }
 },
 "nbformat": 4,
 "nbformat_minor": 0
}
