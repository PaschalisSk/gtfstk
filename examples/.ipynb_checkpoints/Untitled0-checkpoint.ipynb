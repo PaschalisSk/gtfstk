{
 "metadata": {
  "name": "",
  "signature": "sha256:5d766cf38651a468d7771784c89a67cc27c98627c1fa3d05fa17202b62d51258"
 },
 "nbformat": 3,
 "nbformat_minor": 0,
 "worksheets": [
  {
   "cells": [
    {
     "cell_type": "code",
     "collapsed": false,
     "input": [
      "import datetime as dt\n",
      "import pandas as pd\n",
      "import numpy as np\n"
     ],
     "language": "python",
     "metadata": {},
     "outputs": [],
     "prompt_number": 4
    },
    {
     "cell_type": "code",
     "collapsed": false,
     "input": [
      "pd.__version__"
     ],
     "language": "python",
     "metadata": {},
     "outputs": [
      {
       "metadata": {},
       "output_type": "pyout",
       "prompt_number": 221,
       "text": [
        "'0.14.0'"
       ]
      }
     ],
     "prompt_number": 221
    },
    {
     "cell_type": "code",
     "collapsed": false,
     "input": [
      "rng = pd.date_range('1/1/2001', periods=6, freq='H')\n",
      "mi = [(dt, i) for dt in rng for i in range(2)]\n",
      "f = pd.DataFrame(np.random.randn(len(mi), 2), index=pd.MultiIndex.from_tuples(mi, names=['time', 'extra']), columns=['A', 'B'])\n",
      "print(f)\n",
      "g = f.unstack('extra')\n",
      "print(g)\n",
      "g.columns"
     ],
     "language": "python",
     "metadata": {},
     "outputs": [
      {
       "output_type": "stream",
       "stream": "stdout",
       "text": [
        "                                  A         B\n",
        "time                extra                    \n",
        "2001-01-01 00:00:00 0      1.434239 -0.602428\n",
        "                    1     -0.420639  0.389772\n",
        "2001-01-01 01:00:00 0     -1.086001 -1.921516\n",
        "                    1      1.461611 -1.416871\n",
        "2001-01-01 02:00:00 0     -0.633879 -0.628671\n",
        "                    1     -0.949577 -1.027686\n",
        "2001-01-01 03:00:00 0      0.001536 -1.230979\n",
        "                    1      0.225070 -1.349338\n",
        "2001-01-01 04:00:00 0      0.544999  1.456218\n",
        "                    1     -0.718632  1.098572\n",
        "2001-01-01 05:00:00 0      0.790477  0.815480\n",
        "                    1     -0.640177 -0.482368\n",
        "                            A                   B          \n",
        "extra                       0         1         0         1\n",
        "time                                                       \n",
        "2001-01-01 00:00:00  1.434239 -0.420639 -0.602428  0.389772\n",
        "2001-01-01 01:00:00 -1.086001  1.461611 -1.921516 -1.416871\n",
        "2001-01-01 02:00:00 -0.633879 -0.949577 -0.628671 -1.027686\n",
        "2001-01-01 03:00:00  0.001536  0.225070 -1.230979 -1.349338\n",
        "2001-01-01 04:00:00  0.544999 -0.718632  1.456218  1.098572\n",
        "2001-01-01 05:00:00  0.790477 -0.640177  0.815480 -0.482368\n"
       ]
      },
      {
       "metadata": {},
       "output_type": "pyout",
       "prompt_number": 235,
       "text": [
        "MultiIndex(levels=[['A', 'B'], [0, 1]],\n",
        "           labels=[[0, 0, 1, 1], [0, 1, 0, 1]],\n",
        "           names=[None, 'extra'])"
       ]
      }
     ],
     "prompt_number": 235
    },
    {
     "cell_type": "code",
     "collapsed": false,
     "input": [
      "ff = g.stack('extra')\n",
      "grp2 = ff.groupby([pd.TimeGrouper('3H', level=0), ff.index.get_level_values('extra')])\n",
      "h = pd.concat([grp2['A'].sum(), grp2['B'].mean()], axis=1, keys=ff.columns)\n",
      "hh = h.unstack('extra')\n",
      "hh.index.name = g.index.name\n",
      "hh\n",
      "#pd.DataFrame([grp2['A'].sum(), grp2['B'].mean()]).T"
     ],
     "language": "python",
     "metadata": {},
     "outputs": [
      {
       "html": [
        "<div style=\"max-height:1000px;max-width:1500px;overflow:auto;\">\n",
        "<table border=\"1\" class=\"dataframe\">\n",
        "  <thead>\n",
        "    <tr>\n",
        "      <th></th>\n",
        "      <th colspan=\"2\" halign=\"left\">A</th>\n",
        "      <th colspan=\"2\" halign=\"left\">B</th>\n",
        "    </tr>\n",
        "    <tr>\n",
        "      <th>extra</th>\n",
        "      <th>0</th>\n",
        "      <th>1</th>\n",
        "      <th>0</th>\n",
        "      <th>1</th>\n",
        "    </tr>\n",
        "    <tr>\n",
        "      <th>time</th>\n",
        "      <th></th>\n",
        "      <th></th>\n",
        "      <th></th>\n",
        "      <th></th>\n",
        "    </tr>\n",
        "  </thead>\n",
        "  <tbody>\n",
        "    <tr>\n",
        "      <th>2001-01-01 00:00:00</th>\n",
        "      <td>-0.285642</td>\n",
        "      <td> 0.091395</td>\n",
        "      <td>-1.050872</td>\n",
        "      <td>-0.684928</td>\n",
        "    </tr>\n",
        "    <tr>\n",
        "      <th>2001-01-01 03:00:00</th>\n",
        "      <td> 1.337012</td>\n",
        "      <td>-1.133740</td>\n",
        "      <td> 0.346906</td>\n",
        "      <td>-0.244378</td>\n",
        "    </tr>\n",
        "  </tbody>\n",
        "</table>\n",
        "</div>"
       ],
       "metadata": {},
       "output_type": "pyout",
       "prompt_number": 256,
       "text": [
        "                            A                   B          \n",
        "extra                       0         1         0         1\n",
        "time                                                       \n",
        "2001-01-01 00:00:00 -0.285642  0.091395 -1.050872 -0.684928\n",
        "2001-01-01 03:00:00  1.337012 -1.133740  0.346906 -0.244378"
       ]
      }
     ],
     "prompt_number": 256
    },
    {
     "cell_type": "code",
     "collapsed": false,
     "input": [
      "f.unstack(['route', 'direction']).resample('12H', how=sum).stack()"
     ],
     "language": "python",
     "metadata": {},
     "outputs": [
      {
       "html": [
        "<div style=\"max-height:1000px;max-width:1500px;overflow:auto;\">\n",
        "<table border=\"1\" class=\"dataframe\">\n",
        "  <thead>\n",
        "    <tr>\n",
        "      <th></th>\n",
        "      <th></th>\n",
        "      <th colspan=\"5\" halign=\"left\">A</th>\n",
        "      <th colspan=\"5\" halign=\"left\">B</th>\n",
        "    </tr>\n",
        "    <tr>\n",
        "      <th></th>\n",
        "      <th>route</th>\n",
        "      <th>0</th>\n",
        "      <th>1</th>\n",
        "      <th>2</th>\n",
        "      <th>3</th>\n",
        "      <th>4</th>\n",
        "      <th>0</th>\n",
        "      <th>1</th>\n",
        "      <th>2</th>\n",
        "      <th>3</th>\n",
        "      <th>4</th>\n",
        "    </tr>\n",
        "    <tr>\n",
        "      <th>time</th>\n",
        "      <th>direction</th>\n",
        "      <th></th>\n",
        "      <th></th>\n",
        "      <th></th>\n",
        "      <th></th>\n",
        "      <th></th>\n",
        "      <th></th>\n",
        "      <th></th>\n",
        "      <th></th>\n",
        "      <th></th>\n",
        "      <th></th>\n",
        "    </tr>\n",
        "  </thead>\n",
        "  <tbody>\n",
        "    <tr>\n",
        "      <th rowspan=\"2\" valign=\"top\">2011-01-01 00:00:00</th>\n",
        "      <th>0</th>\n",
        "      <td> 0</td>\n",
        "      <td> 0</td>\n",
        "      <td> 0</td>\n",
        "      <td> 0</td>\n",
        "      <td> 0</td>\n",
        "      <td> 0</td>\n",
        "      <td> 0</td>\n",
        "      <td> 0</td>\n",
        "      <td> 0</td>\n",
        "      <td> 0</td>\n",
        "    </tr>\n",
        "    <tr>\n",
        "      <th>1</th>\n",
        "      <td> 0</td>\n",
        "      <td> 0</td>\n",
        "      <td> 0</td>\n",
        "      <td> 0</td>\n",
        "      <td> 0</td>\n",
        "      <td> 0</td>\n",
        "      <td> 0</td>\n",
        "      <td> 0</td>\n",
        "      <td> 0</td>\n",
        "      <td> 0</td>\n",
        "    </tr>\n",
        "    <tr>\n",
        "      <th rowspan=\"2\" valign=\"top\">2011-01-01 12:00:00</th>\n",
        "      <th>0</th>\n",
        "      <td> 0</td>\n",
        "      <td> 0</td>\n",
        "      <td> 0</td>\n",
        "      <td> 0</td>\n",
        "      <td> 0</td>\n",
        "      <td> 0</td>\n",
        "      <td> 0</td>\n",
        "      <td> 0</td>\n",
        "      <td> 0</td>\n",
        "      <td> 0</td>\n",
        "    </tr>\n",
        "    <tr>\n",
        "      <th>1</th>\n",
        "      <td> 0</td>\n",
        "      <td> 0</td>\n",
        "      <td> 0</td>\n",
        "      <td> 0</td>\n",
        "      <td> 0</td>\n",
        "      <td> 0</td>\n",
        "      <td> 0</td>\n",
        "      <td> 0</td>\n",
        "      <td> 0</td>\n",
        "      <td> 0</td>\n",
        "    </tr>\n",
        "  </tbody>\n",
        "</table>\n",
        "</div>"
       ],
       "metadata": {},
       "output_type": "pyout",
       "prompt_number": 125,
       "text": [
        "                               A              B            \n",
        "route                          0  1  2  3  4  0  1  2  3  4\n",
        "time                direction                              \n",
        "2011-01-01 00:00:00 0          0  0  0  0  0  0  0  0  0  0\n",
        "                    1          0  0  0  0  0  0  0  0  0  0\n",
        "2011-01-01 12:00:00 0          0  0  0  0  0  0  0  0  0  0\n",
        "                    1          0  0  0  0  0  0  0  0  0  0"
       ]
      }
     ],
     "prompt_number": 125
    },
    {
     "cell_type": "code",
     "collapsed": false,
     "input": [],
     "language": "python",
     "metadata": {},
     "outputs": []
    }
   ],
   "metadata": {}
  }
 ]
}