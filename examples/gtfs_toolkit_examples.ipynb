{
 "metadata": {
  "name": "gtfs_toolkit_examples"
 },
 "nbformat": 3,
 "nbformat_minor": 0,
 "worksheets": [
  {
   "cells": [
    {
     "cell_type": "code",
     "collapsed": false,
     "input": "from __future__ import division\nimport datetime as dt\nfrom collections import OrderedDict\nimport sys, os\nimport dateutil.relativedelta as rd\n\nimport pandas as pd\nimport numpy as np\nimport matplotlib.pyplot as plt\n\n%load_ext autoreload\n%autoreload 2\n%matplotlib inline  \n\n# Set your gtfs_toolkit path here\ngtfs_toolkit_path = '/Users/araichev/gtfs_toolkit/'\nsys.path.append(gtfs_toolkit_path)\nfrom feed import *",
     "language": "python",
     "metadata": {},
     "outputs": [],
     "prompt_number": 2
    },
    {
     "cell_type": "code",
     "collapsed": false,
     "input": "# Import a feed\nfeed_path = gtfs_toolkit_path + 'test/cairns_20140223/'\nfeed = Feed(feed_path)",
     "language": "python",
     "metadata": {},
     "outputs": [],
     "prompt_number": 3
    },
    {
     "cell_type": "code",
     "collapsed": false,
     "input": "# Get trips stats\ntrips_stats = feed.get_trips_stats()\ntrips_stats",
     "language": "python",
     "metadata": {},
     "outputs": [
      {
       "output_type": "stream",
       "stream": "stdout",
       "text": "2014-05-25 11:20:07.996630 Creating trip stats for 2713 trips...\n2014-05-25 11:20:11.975115"
      },
      {
       "output_type": "stream",
       "stream": "stdout",
       "text": " Finished trips stats in 0.05 min\n"
      },
      {
       "html": "<div style=\"max-height:1000px;max-width:1500px;overflow:auto;\">\n<table border=\"1\" class=\"dataframe\">\n  <thead>\n    <tr style=\"text-align: right;\">\n      <th></th>\n      <th>route_id</th>\n      <th>trip_id</th>\n      <th>direction_id</th>\n      <th>start_time</th>\n      <th>end_time</th>\n      <th>duration</th>\n      <th>start_stop</th>\n      <th>end_stop</th>\n      <th>shape_id</th>\n      <th>distance</th>\n    </tr>\n  </thead>\n  <tbody>\n    <tr>\n      <th>0 </th>\n      <td>  110-423</td>\n      <td> CNS2014-CNS_MUL-Weekday-00-4165878</td>\n      <td> 0</td>\n      <td> 05:50:00</td>\n      <td> 06:50:00</td>\n      <td> 3600</td>\n      <td> 750337</td>\n      <td> 750449</td>\n      <td>  1100023</td>\n      <td> 32507</td>\n    </tr>\n    <tr>\n      <th>1 </th>\n      <td>  110-423</td>\n      <td> CNS2014-CNS_MUL-Weekday-00-4165879</td>\n      <td> 0</td>\n      <td> 06:20:00</td>\n      <td> 07:20:00</td>\n      <td> 3600</td>\n      <td> 750337</td>\n      <td> 750449</td>\n      <td>  1100023</td>\n      <td> 32507</td>\n    </tr>\n    <tr>\n      <th>2 </th>\n      <td>  110-423</td>\n      <td> CNS2014-CNS_MUL-Weekday-00-4165880</td>\n      <td> 0</td>\n      <td> 06:50:00</td>\n      <td> 07:50:00</td>\n      <td> 3600</td>\n      <td> 750337</td>\n      <td> 750449</td>\n      <td>  1100023</td>\n      <td> 32507</td>\n    </tr>\n    <tr>\n      <th>3 </th>\n      <td>  110-423</td>\n      <td> CNS2014-CNS_MUL-Weekday-00-4165881</td>\n      <td> 0</td>\n      <td> 07:15:00</td>\n      <td> 08:20:00</td>\n      <td> 3900</td>\n      <td> 750337</td>\n      <td> 750449</td>\n      <td>  1100023</td>\n      <td> 32507</td>\n    </tr>\n    <tr>\n      <th>4 </th>\n      <td>  110-423</td>\n      <td> CNS2014-CNS_MUL-Weekday-00-4165882</td>\n      <td> 0</td>\n      <td> 07:45:00</td>\n      <td> 08:50:00</td>\n      <td> 3900</td>\n      <td> 750337</td>\n      <td> 750449</td>\n      <td>  1100023</td>\n      <td> 32507</td>\n    </tr>\n    <tr>\n      <th>5 </th>\n      <td>  110-423</td>\n      <td> CNS2014-CNS_MUL-Weekday-00-4165883</td>\n      <td> 0</td>\n      <td> 08:15:00</td>\n      <td> 09:20:00</td>\n      <td> 3900</td>\n      <td> 750337</td>\n      <td> 750449</td>\n      <td>  1100023</td>\n      <td> 32507</td>\n    </tr>\n    <tr>\n      <th>6 </th>\n      <td>  110-423</td>\n      <td> CNS2014-CNS_MUL-Weekday-00-4165884</td>\n      <td> 0</td>\n      <td> 08:50:00</td>\n      <td> 09:50:00</td>\n      <td> 3600</td>\n      <td> 750337</td>\n      <td> 750449</td>\n      <td>  1100023</td>\n      <td> 32507</td>\n    </tr>\n    <tr>\n      <th>7 </th>\n      <td>  110-423</td>\n      <td> CNS2014-CNS_MUL-Weekday-00-4165885</td>\n      <td> 0</td>\n      <td> 09:20:00</td>\n      <td> 10:20:00</td>\n      <td> 3600</td>\n      <td> 750337</td>\n      <td> 750449</td>\n      <td>  1100023</td>\n      <td> 32507</td>\n    </tr>\n    <tr>\n      <th>8 </th>\n      <td>  110-423</td>\n      <td> CNS2014-CNS_MUL-Weekday-00-4165886</td>\n      <td> 0</td>\n      <td> 09:50:00</td>\n      <td> 10:50:00</td>\n      <td> 3600</td>\n      <td> 750337</td>\n      <td> 750449</td>\n      <td>  1100023</td>\n      <td> 32507</td>\n    </tr>\n    <tr>\n      <th>9 </th>\n      <td>  110-423</td>\n      <td> CNS2014-CNS_MUL-Weekday-00-4165887</td>\n      <td> 0</td>\n      <td> 10:20:00</td>\n      <td> 11:20:00</td>\n      <td> 3600</td>\n      <td> 750337</td>\n      <td> 750449</td>\n      <td>  1100023</td>\n      <td> 32507</td>\n    </tr>\n    <tr>\n      <th>10</th>\n      <td>  110-423</td>\n      <td> CNS2014-CNS_MUL-Weekday-00-4165888</td>\n      <td> 0</td>\n      <td> 10:50:00</td>\n      <td> 11:50:00</td>\n      <td> 3600</td>\n      <td> 750337</td>\n      <td> 750449</td>\n      <td>  1100023</td>\n      <td> 32507</td>\n    </tr>\n    <tr>\n      <th>11</th>\n      <td>  110-423</td>\n      <td> CNS2014-CNS_MUL-Weekday-00-4165889</td>\n      <td> 0</td>\n      <td> 11:20:00</td>\n      <td> 12:20:00</td>\n      <td> 3600</td>\n      <td> 750337</td>\n      <td> 750449</td>\n      <td>  1100023</td>\n      <td> 32507</td>\n    </tr>\n    <tr>\n      <th>12</th>\n      <td>  110-423</td>\n      <td> CNS2014-CNS_MUL-Weekday-00-4165890</td>\n      <td> 0</td>\n      <td> 11:50:00</td>\n      <td> 12:50:00</td>\n      <td> 3600</td>\n      <td> 750337</td>\n      <td> 750449</td>\n      <td>  1100023</td>\n      <td> 32507</td>\n    </tr>\n    <tr>\n      <th>13</th>\n      <td>  110-423</td>\n      <td> CNS2014-CNS_MUL-Weekday-00-4165891</td>\n      <td> 0</td>\n      <td> 12:20:00</td>\n      <td> 13:20:00</td>\n      <td> 3600</td>\n      <td> 750337</td>\n      <td> 750449</td>\n      <td>  1100023</td>\n      <td> 32507</td>\n    </tr>\n    <tr>\n      <th>14</th>\n      <td>  110-423</td>\n      <td> CNS2014-CNS_MUL-Weekday-00-4165892</td>\n      <td> 0</td>\n      <td> 12:50:00</td>\n      <td> 13:50:00</td>\n      <td> 3600</td>\n      <td> 750337</td>\n      <td> 750449</td>\n      <td>  1100023</td>\n      <td> 32507</td>\n    </tr>\n    <tr>\n      <th>15</th>\n      <td>  110-423</td>\n      <td> CNS2014-CNS_MUL-Weekday-00-4165893</td>\n      <td> 0</td>\n      <td> 13:20:00</td>\n      <td> 14:20:00</td>\n      <td> 3600</td>\n      <td> 750337</td>\n      <td> 750449</td>\n      <td>  1100023</td>\n      <td> 32507</td>\n    </tr>\n    <tr>\n      <th>16</th>\n      <td>  110-423</td>\n      <td> CNS2014-CNS_MUL-Weekday-00-4165894</td>\n      <td> 0</td>\n      <td> 13:50:00</td>\n      <td> 14:50:00</td>\n      <td> 3600</td>\n      <td> 750337</td>\n      <td> 750449</td>\n      <td>  1100023</td>\n      <td> 32507</td>\n    </tr>\n    <tr>\n      <th>17</th>\n      <td>  110-423</td>\n      <td> CNS2014-CNS_MUL-Weekday-00-4165895</td>\n      <td> 0</td>\n      <td> 14:15:00</td>\n      <td> 15:20:00</td>\n      <td> 3900</td>\n      <td> 750337</td>\n      <td> 750449</td>\n      <td>  1100023</td>\n      <td> 32507</td>\n    </tr>\n    <tr>\n      <th>18</th>\n      <td>  110-423</td>\n      <td> CNS2014-CNS_MUL-Weekday-00-4165896</td>\n      <td> 0</td>\n      <td> 14:45:00</td>\n      <td> 15:50:00</td>\n      <td> 3900</td>\n      <td> 750337</td>\n      <td> 750449</td>\n      <td>  1100023</td>\n      <td> 32507</td>\n    </tr>\n    <tr>\n      <th>19</th>\n      <td>  110-423</td>\n      <td> CNS2014-CNS_MUL-Weekday-00-4165897</td>\n      <td> 0</td>\n      <td> 15:15:00</td>\n      <td> 16:20:00</td>\n      <td> 3900</td>\n      <td> 750337</td>\n      <td> 750449</td>\n      <td>  1100023</td>\n      <td> 32507</td>\n    </tr>\n    <tr>\n      <th>20</th>\n      <td>  110-423</td>\n      <td> CNS2014-CNS_MUL-Weekday-00-4165898</td>\n      <td> 0</td>\n      <td> 15:45:00</td>\n      <td> 16:50:00</td>\n      <td> 3900</td>\n      <td> 750337</td>\n      <td> 750449</td>\n      <td>  1100023</td>\n      <td> 32507</td>\n    </tr>\n    <tr>\n      <th>21</th>\n      <td>  110-423</td>\n      <td> CNS2014-CNS_MUL-Weekday-00-4165899</td>\n      <td> 0</td>\n      <td> 16:20:00</td>\n      <td> 17:20:00</td>\n      <td> 3600</td>\n      <td> 750337</td>\n      <td> 750449</td>\n      <td>  1100023</td>\n      <td> 32507</td>\n    </tr>\n    <tr>\n      <th>22</th>\n      <td>  110-423</td>\n      <td> CNS2014-CNS_MUL-Weekday-00-4165900</td>\n      <td> 0</td>\n      <td> 16:50:00</td>\n      <td> 17:50:00</td>\n      <td> 3600</td>\n      <td> 750337</td>\n      <td> 750449</td>\n      <td>  1100023</td>\n      <td> 32507</td>\n    </tr>\n    <tr>\n      <th>23</th>\n      <td>  110-423</td>\n      <td> CNS2014-CNS_MUL-Weekday-00-4165901</td>\n      <td> 0</td>\n      <td> 17:20:00</td>\n      <td> 18:20:00</td>\n      <td> 3600</td>\n      <td> 750337</td>\n      <td> 750449</td>\n      <td>  1100023</td>\n      <td> 32507</td>\n    </tr>\n    <tr>\n      <th>24</th>\n      <td>  110-423</td>\n      <td> CNS2014-CNS_MUL-Weekday-00-4165902</td>\n      <td> 0</td>\n      <td> 17:50:00</td>\n      <td> 18:50:00</td>\n      <td> 3600</td>\n      <td> 750337</td>\n      <td> 750449</td>\n      <td>  1100023</td>\n      <td> 32507</td>\n    </tr>\n    <tr>\n      <th>25</th>\n      <td>  110-423</td>\n      <td> CNS2014-CNS_MUL-Weekday-00-4165903</td>\n      <td> 0</td>\n      <td> 18:13:00</td>\n      <td> 19:05:00</td>\n      <td> 3120</td>\n      <td> 750337</td>\n      <td> 750449</td>\n      <td>  1100023</td>\n      <td> 32507</td>\n    </tr>\n    <tr>\n      <th>26</th>\n      <td>  110-423</td>\n      <td> CNS2014-CNS_MUL-Weekday-00-4165904</td>\n      <td> 0</td>\n      <td> 19:13:00</td>\n      <td> 20:05:00</td>\n      <td> 3120</td>\n      <td> 750337</td>\n      <td> 750449</td>\n      <td>  1100023</td>\n      <td> 32507</td>\n    </tr>\n    <tr>\n      <th>27</th>\n      <td>  110-423</td>\n      <td> CNS2014-CNS_MUL-Weekday-00-4165905</td>\n      <td> 0</td>\n      <td> 20:13:00</td>\n      <td> 21:05:00</td>\n      <td> 3120</td>\n      <td> 750337</td>\n      <td> 750449</td>\n      <td>  1100023</td>\n      <td> 32507</td>\n    </tr>\n    <tr>\n      <th>28</th>\n      <td>  110-423</td>\n      <td> CNS2014-CNS_MUL-Weekday-00-4165906</td>\n      <td> 0</td>\n      <td> 21:13:00</td>\n      <td> 22:05:00</td>\n      <td> 3120</td>\n      <td> 750337</td>\n      <td> 750449</td>\n      <td>  1100023</td>\n      <td> 32507</td>\n    </tr>\n    <tr>\n      <th>29</th>\n      <td>  110-423</td>\n      <td> CNS2014-CNS_MUL-Weekday-00-4165907</td>\n      <td> 0</td>\n      <td> 22:13:00</td>\n      <td> 23:05:00</td>\n      <td> 3120</td>\n      <td> 750337</td>\n      <td> 750449</td>\n      <td>  1100023</td>\n      <td> 32507</td>\n    </tr>\n    <tr>\n      <th>30</th>\n      <td>  110-423</td>\n      <td> CNS2014-CNS_MUL-Weekday-00-4165908</td>\n      <td> 1</td>\n      <td> 07:10:00</td>\n      <td> 08:08:00</td>\n      <td> 3480</td>\n      <td> 750450</td>\n      <td> 750338</td>\n      <td>  1100024</td>\n      <td> 31690</td>\n    </tr>\n    <tr>\n      <th>31</th>\n      <td>  110-423</td>\n      <td> CNS2014-CNS_MUL-Weekday-00-4165909</td>\n      <td> 1</td>\n      <td> 07:40:00</td>\n      <td> 08:38:00</td>\n      <td> 3480</td>\n      <td> 750450</td>\n      <td> 750338</td>\n      <td>  1100024</td>\n      <td> 31690</td>\n    </tr>\n    <tr>\n      <th>32</th>\n      <td>  110-423</td>\n      <td> CNS2014-CNS_MUL-Weekday-00-4165910</td>\n      <td> 1</td>\n      <td> 08:10:00</td>\n      <td> 09:08:00</td>\n      <td> 3480</td>\n      <td> 750450</td>\n      <td> 750338</td>\n      <td>  1100024</td>\n      <td> 31690</td>\n    </tr>\n    <tr>\n      <th>33</th>\n      <td>  110-423</td>\n      <td> CNS2014-CNS_MUL-Weekday-00-4165911</td>\n      <td> 1</td>\n      <td> 08:40:00</td>\n      <td> 09:38:00</td>\n      <td> 3480</td>\n      <td> 750450</td>\n      <td> 750338</td>\n      <td>  1100024</td>\n      <td> 31690</td>\n    </tr>\n    <tr>\n      <th>34</th>\n      <td>  110-423</td>\n      <td> CNS2014-CNS_MUL-Weekday-00-4165912</td>\n      <td> 1</td>\n      <td> 09:10:00</td>\n      <td> 10:08:00</td>\n      <td> 3480</td>\n      <td> 750450</td>\n      <td> 750338</td>\n      <td>  1100024</td>\n      <td> 31690</td>\n    </tr>\n    <tr>\n      <th>35</th>\n      <td>  110-423</td>\n      <td> CNS2014-CNS_MUL-Weekday-00-4165913</td>\n      <td> 1</td>\n      <td> 09:40:00</td>\n      <td> 10:38:00</td>\n      <td> 3480</td>\n      <td> 750450</td>\n      <td> 750338</td>\n      <td>  1100024</td>\n      <td> 31690</td>\n    </tr>\n    <tr>\n      <th>36</th>\n      <td>  110-423</td>\n      <td> CNS2014-CNS_MUL-Weekday-00-4165914</td>\n      <td> 1</td>\n      <td> 10:10:00</td>\n      <td> 11:08:00</td>\n      <td> 3480</td>\n      <td> 750450</td>\n      <td> 750338</td>\n      <td>  1100024</td>\n      <td> 31690</td>\n    </tr>\n    <tr>\n      <th>37</th>\n      <td>  110-423</td>\n      <td> CNS2014-CNS_MUL-Weekday-00-4165915</td>\n      <td> 1</td>\n      <td> 10:40:00</td>\n      <td> 11:38:00</td>\n      <td> 3480</td>\n      <td> 750450</td>\n      <td> 750338</td>\n      <td>  1100024</td>\n      <td> 31690</td>\n    </tr>\n    <tr>\n      <th>38</th>\n      <td>  110-423</td>\n      <td> CNS2014-CNS_MUL-Weekday-00-4165916</td>\n      <td> 1</td>\n      <td> 11:10:00</td>\n      <td> 12:08:00</td>\n      <td> 3480</td>\n      <td> 750450</td>\n      <td> 750338</td>\n      <td>  1100024</td>\n      <td> 31690</td>\n    </tr>\n    <tr>\n      <th>39</th>\n      <td>  110-423</td>\n      <td> CNS2014-CNS_MUL-Weekday-00-4165917</td>\n      <td> 1</td>\n      <td> 11:40:00</td>\n      <td> 12:38:00</td>\n      <td> 3480</td>\n      <td> 750450</td>\n      <td> 750338</td>\n      <td>  1100024</td>\n      <td> 31690</td>\n    </tr>\n    <tr>\n      <th>40</th>\n      <td>  110-423</td>\n      <td> CNS2014-CNS_MUL-Weekday-00-4165918</td>\n      <td> 1</td>\n      <td> 12:10:00</td>\n      <td> 13:08:00</td>\n      <td> 3480</td>\n      <td> 750450</td>\n      <td> 750338</td>\n      <td>  1100024</td>\n      <td> 31690</td>\n    </tr>\n    <tr>\n      <th>41</th>\n      <td>  110-423</td>\n      <td> CNS2014-CNS_MUL-Weekday-00-4165919</td>\n      <td> 1</td>\n      <td> 12:40:00</td>\n      <td> 13:38:00</td>\n      <td> 3480</td>\n      <td> 750450</td>\n      <td> 750338</td>\n      <td>  1100024</td>\n      <td> 31690</td>\n    </tr>\n    <tr>\n      <th>42</th>\n      <td>  110-423</td>\n      <td> CNS2014-CNS_MUL-Weekday-00-4165920</td>\n      <td> 1</td>\n      <td> 13:10:00</td>\n      <td> 14:08:00</td>\n      <td> 3480</td>\n      <td> 750450</td>\n      <td> 750338</td>\n      <td>  1100024</td>\n      <td> 31690</td>\n    </tr>\n    <tr>\n      <th>43</th>\n      <td>  110-423</td>\n      <td> CNS2014-CNS_MUL-Weekday-00-4165921</td>\n      <td> 1</td>\n      <td> 13:40:00</td>\n      <td> 14:38:00</td>\n      <td> 3480</td>\n      <td> 750450</td>\n      <td> 750338</td>\n      <td>  1100024</td>\n      <td> 31690</td>\n    </tr>\n    <tr>\n      <th>44</th>\n      <td>  110-423</td>\n      <td> CNS2014-CNS_MUL-Weekday-00-4165922</td>\n      <td> 1</td>\n      <td> 14:10:00</td>\n      <td> 15:08:00</td>\n      <td> 3480</td>\n      <td> 750450</td>\n      <td> 750338</td>\n      <td>  1100024</td>\n      <td> 31690</td>\n    </tr>\n    <tr>\n      <th>45</th>\n      <td>  110-423</td>\n      <td> CNS2014-CNS_MUL-Weekday-00-4165923</td>\n      <td> 1</td>\n      <td> 14:40:00</td>\n      <td> 15:38:00</td>\n      <td> 3480</td>\n      <td> 750450</td>\n      <td> 750338</td>\n      <td>  1100024</td>\n      <td> 31690</td>\n    </tr>\n    <tr>\n      <th>46</th>\n      <td>  110-423</td>\n      <td> CNS2014-CNS_MUL-Weekday-00-4165924</td>\n      <td> 1</td>\n      <td> 15:10:00</td>\n      <td> 16:08:00</td>\n      <td> 3480</td>\n      <td> 750450</td>\n      <td> 750338</td>\n      <td>  1100024</td>\n      <td> 31690</td>\n    </tr>\n    <tr>\n      <th>47</th>\n      <td>  110-423</td>\n      <td> CNS2014-CNS_MUL-Weekday-00-4165925</td>\n      <td> 1</td>\n      <td> 15:40:00</td>\n      <td> 16:38:00</td>\n      <td> 3480</td>\n      <td> 750450</td>\n      <td> 750338</td>\n      <td>  1100024</td>\n      <td> 31690</td>\n    </tr>\n    <tr>\n      <th>48</th>\n      <td>  110-423</td>\n      <td> CNS2014-CNS_MUL-Weekday-00-4165926</td>\n      <td> 1</td>\n      <td> 16:10:00</td>\n      <td> 17:08:00</td>\n      <td> 3480</td>\n      <td> 750450</td>\n      <td> 750338</td>\n      <td>  1100024</td>\n      <td> 31690</td>\n    </tr>\n    <tr>\n      <th>49</th>\n      <td>  110-423</td>\n      <td> CNS2014-CNS_MUL-Weekday-00-4165927</td>\n      <td> 1</td>\n      <td> 16:40:00</td>\n      <td> 17:38:00</td>\n      <td> 3480</td>\n      <td> 750450</td>\n      <td> 750338</td>\n      <td>  1100024</td>\n      <td> 31690</td>\n    </tr>\n    <tr>\n      <th>50</th>\n      <td>  110-423</td>\n      <td> CNS2014-CNS_MUL-Weekday-00-4165928</td>\n      <td> 1</td>\n      <td> 17:10:00</td>\n      <td> 18:08:00</td>\n      <td> 3480</td>\n      <td> 750450</td>\n      <td> 750338</td>\n      <td>  1100024</td>\n      <td> 31690</td>\n    </tr>\n    <tr>\n      <th>51</th>\n      <td>  110-423</td>\n      <td> CNS2014-CNS_MUL-Weekday-00-4165929</td>\n      <td> 1</td>\n      <td> 17:40:00</td>\n      <td> 18:38:00</td>\n      <td> 3480</td>\n      <td> 750450</td>\n      <td> 750338</td>\n      <td>  1100024</td>\n      <td> 31690</td>\n    </tr>\n    <tr>\n      <th>52</th>\n      <td>  110-423</td>\n      <td> CNS2014-CNS_MUL-Weekday-00-4165930</td>\n      <td> 1</td>\n      <td> 18:10:00</td>\n      <td> 19:08:00</td>\n      <td> 3480</td>\n      <td> 750450</td>\n      <td> 750338</td>\n      <td>  1100024</td>\n      <td> 31690</td>\n    </tr>\n    <tr>\n      <th>53</th>\n      <td>  110-423</td>\n      <td> CNS2014-CNS_MUL-Weekday-00-4165931</td>\n      <td> 1</td>\n      <td> 18:40:00</td>\n      <td> 19:32:00</td>\n      <td> 3120</td>\n      <td> 750450</td>\n      <td> 750338</td>\n      <td>  1100024</td>\n      <td> 31690</td>\n    </tr>\n    <tr>\n      <th>54</th>\n      <td>  110-423</td>\n      <td> CNS2014-CNS_MUL-Weekday-00-4165932</td>\n      <td> 1</td>\n      <td> 19:10:00</td>\n      <td> 20:02:00</td>\n      <td> 3120</td>\n      <td> 750450</td>\n      <td> 750338</td>\n      <td>  1100024</td>\n      <td> 31690</td>\n    </tr>\n    <tr>\n      <th>55</th>\n      <td>  110-423</td>\n      <td> CNS2014-CNS_MUL-Weekday-00-4165933</td>\n      <td> 1</td>\n      <td> 20:10:00</td>\n      <td> 21:02:00</td>\n      <td> 3120</td>\n      <td> 750450</td>\n      <td> 750338</td>\n      <td>  1100024</td>\n      <td> 31690</td>\n    </tr>\n    <tr>\n      <th>56</th>\n      <td>  110-423</td>\n      <td> CNS2014-CNS_MUL-Weekday-00-4165934</td>\n      <td> 1</td>\n      <td> 21:10:00</td>\n      <td> 22:02:00</td>\n      <td> 3120</td>\n      <td> 750450</td>\n      <td> 750338</td>\n      <td>  1100024</td>\n      <td> 31690</td>\n    </tr>\n    <tr>\n      <th>57</th>\n      <td>  110-423</td>\n      <td> CNS2014-CNS_MUL-Weekday-00-4165935</td>\n      <td> 1</td>\n      <td> 22:10:00</td>\n      <td> 23:02:00</td>\n      <td> 3120</td>\n      <td> 750450</td>\n      <td> 750338</td>\n      <td>  1100024</td>\n      <td> 31690</td>\n    </tr>\n    <tr>\n      <th>58</th>\n      <td>  110-423</td>\n      <td> CNS2014-CNS_MUL-Weekday-00-4165936</td>\n      <td> 1</td>\n      <td> 23:10:00</td>\n      <td> 24:02:00</td>\n      <td> 3120</td>\n      <td> 750450</td>\n      <td> 750338</td>\n      <td>  1100024</td>\n      <td> 31690</td>\n    </tr>\n    <tr>\n      <th>59</th>\n      <td> 110N-423</td>\n      <td> CNS2014-CNS_MUL-Weekday-00-4166103</td>\n      <td> 1</td>\n      <td> 24:40:00</td>\n      <td> 25:39:00</td>\n      <td> 3540</td>\n      <td> 750450</td>\n      <td> 750338</td>\n      <td> 110N0011</td>\n      <td> 44345</td>\n    </tr>\n    <tr>\n      <th></th>\n      <td>...</td>\n      <td>...</td>\n      <td>...</td>\n      <td>...</td>\n      <td>...</td>\n      <td>...</td>\n      <td>...</td>\n      <td>...</td>\n      <td>...</td>\n      <td>...</td>\n    </tr>\n  </tbody>\n</table>\n<p>2713 rows \u00d7 10 columns</p>\n</div>",
       "metadata": {},
       "output_type": "pyout",
       "prompt_number": 4,
       "text": "    route_id                             trip_id direction_id start_time  \\\n0    110-423  CNS2014-CNS_MUL-Weekday-00-4165878            0   05:50:00   \n1    110-423  CNS2014-CNS_MUL-Weekday-00-4165879            0   06:20:00   \n2    110-423  CNS2014-CNS_MUL-Weekday-00-4165880            0   06:50:00   \n3    110-423  CNS2014-CNS_MUL-Weekday-00-4165881            0   07:15:00   \n4    110-423  CNS2014-CNS_MUL-Weekday-00-4165882            0   07:45:00   \n5    110-423  CNS2014-CNS_MUL-Weekday-00-4165883            0   08:15:00   \n6    110-423  CNS2014-CNS_MUL-Weekday-00-4165884            0   08:50:00   \n7    110-423  CNS2014-CNS_MUL-Weekday-00-4165885            0   09:20:00   \n8    110-423  CNS2014-CNS_MUL-Weekday-00-4165886            0   09:50:00   \n9    110-423  CNS2014-CNS_MUL-Weekday-00-4165887            0   10:20:00   \n10   110-423  CNS2014-CNS_MUL-Weekday-00-4165888            0   10:50:00   \n11   110-423  CNS2014-CNS_MUL-Weekday-00-4165889            0   11:20:00   \n12   110-423  CNS2014-CNS_MUL-Weekday-00-4165890            0   11:50:00   \n13   110-423  CNS2014-CNS_MUL-Weekday-00-4165891            0   12:20:00   \n14   110-423  CNS2014-CNS_MUL-Weekday-00-4165892            0   12:50:00   \n15   110-423  CNS2014-CNS_MUL-Weekday-00-4165893            0   13:20:00   \n16   110-423  CNS2014-CNS_MUL-Weekday-00-4165894            0   13:50:00   \n17   110-423  CNS2014-CNS_MUL-Weekday-00-4165895            0   14:15:00   \n18   110-423  CNS2014-CNS_MUL-Weekday-00-4165896            0   14:45:00   \n19   110-423  CNS2014-CNS_MUL-Weekday-00-4165897            0   15:15:00   \n20   110-423  CNS2014-CNS_MUL-Weekday-00-4165898            0   15:45:00   \n21   110-423  CNS2014-CNS_MUL-Weekday-00-4165899            0   16:20:00   \n22   110-423  CNS2014-CNS_MUL-Weekday-00-4165900            0   16:50:00   \n23   110-423  CNS2014-CNS_MUL-Weekday-00-4165901            0   17:20:00   \n24   110-423  CNS2014-CNS_MUL-Weekday-00-4165902            0   17:50:00   \n25   110-423  CNS2014-CNS_MUL-Weekday-00-4165903            0   18:13:00   \n26   110-423  CNS2014-CNS_MUL-Weekday-00-4165904            0   19:13:00   \n27   110-423  CNS2014-CNS_MUL-Weekday-00-4165905            0   20:13:00   \n28   110-423  CNS2014-CNS_MUL-Weekday-00-4165906            0   21:13:00   \n29   110-423  CNS2014-CNS_MUL-Weekday-00-4165907            0   22:13:00   \n30   110-423  CNS2014-CNS_MUL-Weekday-00-4165908            1   07:10:00   \n31   110-423  CNS2014-CNS_MUL-Weekday-00-4165909            1   07:40:00   \n32   110-423  CNS2014-CNS_MUL-Weekday-00-4165910            1   08:10:00   \n33   110-423  CNS2014-CNS_MUL-Weekday-00-4165911            1   08:40:00   \n34   110-423  CNS2014-CNS_MUL-Weekday-00-4165912            1   09:10:00   \n35   110-423  CNS2014-CNS_MUL-Weekday-00-4165913            1   09:40:00   \n36   110-423  CNS2014-CNS_MUL-Weekday-00-4165914            1   10:10:00   \n37   110-423  CNS2014-CNS_MUL-Weekday-00-4165915            1   10:40:00   \n38   110-423  CNS2014-CNS_MUL-Weekday-00-4165916            1   11:10:00   \n39   110-423  CNS2014-CNS_MUL-Weekday-00-4165917            1   11:40:00   \n40   110-423  CNS2014-CNS_MUL-Weekday-00-4165918            1   12:10:00   \n41   110-423  CNS2014-CNS_MUL-Weekday-00-4165919            1   12:40:00   \n42   110-423  CNS2014-CNS_MUL-Weekday-00-4165920            1   13:10:00   \n43   110-423  CNS2014-CNS_MUL-Weekday-00-4165921            1   13:40:00   \n44   110-423  CNS2014-CNS_MUL-Weekday-00-4165922            1   14:10:00   \n45   110-423  CNS2014-CNS_MUL-Weekday-00-4165923            1   14:40:00   \n46   110-423  CNS2014-CNS_MUL-Weekday-00-4165924            1   15:10:00   \n47   110-423  CNS2014-CNS_MUL-Weekday-00-4165925            1   15:40:00   \n48   110-423  CNS2014-CNS_MUL-Weekday-00-4165926            1   16:10:00   \n49   110-423  CNS2014-CNS_MUL-Weekday-00-4165927            1   16:40:00   \n50   110-423  CNS2014-CNS_MUL-Weekday-00-4165928            1   17:10:00   \n51   110-423  CNS2014-CNS_MUL-Weekday-00-4165929            1   17:40:00   \n52   110-423  CNS2014-CNS_MUL-Weekday-00-4165930            1   18:10:00   \n53   110-423  CNS2014-CNS_MUL-Weekday-00-4165931            1   18:40:00   \n54   110-423  CNS2014-CNS_MUL-Weekday-00-4165932            1   19:10:00   \n55   110-423  CNS2014-CNS_MUL-Weekday-00-4165933            1   20:10:00   \n56   110-423  CNS2014-CNS_MUL-Weekday-00-4165934            1   21:10:00   \n57   110-423  CNS2014-CNS_MUL-Weekday-00-4165935            1   22:10:00   \n58   110-423  CNS2014-CNS_MUL-Weekday-00-4165936            1   23:10:00   \n59  110N-423  CNS2014-CNS_MUL-Weekday-00-4166103            1   24:40:00   \n         ...                                 ...          ...        ...   \n\n    end_time  duration start_stop end_stop  shape_id  distance  \n0   06:50:00      3600     750337   750449   1100023     32507  \n1   07:20:00      3600     750337   750449   1100023     32507  \n2   07:50:00      3600     750337   750449   1100023     32507  \n3   08:20:00      3900     750337   750449   1100023     32507  \n4   08:50:00      3900     750337   750449   1100023     32507  \n5   09:20:00      3900     750337   750449   1100023     32507  \n6   09:50:00      3600     750337   750449   1100023     32507  \n7   10:20:00      3600     750337   750449   1100023     32507  \n8   10:50:00      3600     750337   750449   1100023     32507  \n9   11:20:00      3600     750337   750449   1100023     32507  \n10  11:50:00      3600     750337   750449   1100023     32507  \n11  12:20:00      3600     750337   750449   1100023     32507  \n12  12:50:00      3600     750337   750449   1100023     32507  \n13  13:20:00      3600     750337   750449   1100023     32507  \n14  13:50:00      3600     750337   750449   1100023     32507  \n15  14:20:00      3600     750337   750449   1100023     32507  \n16  14:50:00      3600     750337   750449   1100023     32507  \n17  15:20:00      3900     750337   750449   1100023     32507  \n18  15:50:00      3900     750337   750449   1100023     32507  \n19  16:20:00      3900     750337   750449   1100023     32507  \n20  16:50:00      3900     750337   750449   1100023     32507  \n21  17:20:00      3600     750337   750449   1100023     32507  \n22  17:50:00      3600     750337   750449   1100023     32507  \n23  18:20:00      3600     750337   750449   1100023     32507  \n24  18:50:00      3600     750337   750449   1100023     32507  \n25  19:05:00      3120     750337   750449   1100023     32507  \n26  20:05:00      3120     750337   750449   1100023     32507  \n27  21:05:00      3120     750337   750449   1100023     32507  \n28  22:05:00      3120     750337   750449   1100023     32507  \n29  23:05:00      3120     750337   750449   1100023     32507  \n30  08:08:00      3480     750450   750338   1100024     31690  \n31  08:38:00      3480     750450   750338   1100024     31690  \n32  09:08:00      3480     750450   750338   1100024     31690  \n33  09:38:00      3480     750450   750338   1100024     31690  \n34  10:08:00      3480     750450   750338   1100024     31690  \n35  10:38:00      3480     750450   750338   1100024     31690  \n36  11:08:00      3480     750450   750338   1100024     31690  \n37  11:38:00      3480     750450   750338   1100024     31690  \n38  12:08:00      3480     750450   750338   1100024     31690  \n39  12:38:00      3480     750450   750338   1100024     31690  \n40  13:08:00      3480     750450   750338   1100024     31690  \n41  13:38:00      3480     750450   750338   1100024     31690  \n42  14:08:00      3480     750450   750338   1100024     31690  \n43  14:38:00      3480     750450   750338   1100024     31690  \n44  15:08:00      3480     750450   750338   1100024     31690  \n45  15:38:00      3480     750450   750338   1100024     31690  \n46  16:08:00      3480     750450   750338   1100024     31690  \n47  16:38:00      3480     750450   750338   1100024     31690  \n48  17:08:00      3480     750450   750338   1100024     31690  \n49  17:38:00      3480     750450   750338   1100024     31690  \n50  18:08:00      3480     750450   750338   1100024     31690  \n51  18:38:00      3480     750450   750338   1100024     31690  \n52  19:08:00      3480     750450   750338   1100024     31690  \n53  19:32:00      3120     750450   750338   1100024     31690  \n54  20:02:00      3120     750450   750338   1100024     31690  \n55  21:02:00      3120     750450   750338   1100024     31690  \n56  22:02:00      3120     750450   750338   1100024     31690  \n57  23:02:00      3120     750450   750338   1100024     31690  \n58  24:02:00      3120     750450   750338   1100024     31690  \n59  25:39:00      3540     750450   750338  110N0011     44345  \n         ...       ...        ...      ...       ...       ...  \n\n[2713 rows x 10 columns]"
      }
     ],
     "prompt_number": 4
    },
    {
     "cell_type": "code",
     "collapsed": false,
     "input": "# Get trips activity for the first week of the feed\ndates = feed.get_first_week()\nprint(dates)\ntrips_activity = feed.get_trips_activity(dates)\ntrips_activity",
     "language": "python",
     "metadata": {},
     "outputs": [
      {
       "output_type": "stream",
       "stream": "stdout",
       "text": "[datetime.date(2013, 12, 2), datetime.date(2013, 12, 3), datetime.date(2013, 12, 4), datetime.date(2013, 12, 5), datetime.date(2013, 12, 6), datetime.date(2013, 12, 7), datetime.date(2013, 12, 8)]\n2014-05-25 11:20:45.547848 Getting activity for 2713 trips over 7 dates...\n2014-05-25 11:21:28.966308"
      },
      {
       "output_type": "stream",
       "stream": "stdout",
       "text": " Finished routes stats in 0.72 min\n"
      },
      {
       "html": "<div style=\"max-height:1000px;max-width:1500px;overflow:auto;\">\n<table border=\"1\" class=\"dataframe\">\n  <thead>\n    <tr style=\"text-align: right;\">\n      <th></th>\n      <th>trip_id</th>\n      <th>route_id</th>\n      <th>2013-12-02</th>\n      <th>2013-12-03</th>\n      <th>2013-12-04</th>\n      <th>2013-12-05</th>\n      <th>2013-12-06</th>\n      <th>2013-12-07</th>\n      <th>2013-12-08</th>\n    </tr>\n  </thead>\n  <tbody>\n    <tr>\n      <th>0 </th>\n      <td> CNS2014-CNS_MUL-Weekday-00-4165878</td>\n      <td>  110-423</td>\n      <td> 0</td>\n      <td> 0</td>\n      <td> 0</td>\n      <td> 0</td>\n      <td> 0</td>\n      <td> 0</td>\n      <td> 0</td>\n    </tr>\n    <tr>\n      <th>1 </th>\n      <td> CNS2014-CNS_MUL-Weekday-00-4165879</td>\n      <td>  110-423</td>\n      <td> 0</td>\n      <td> 0</td>\n      <td> 0</td>\n      <td> 0</td>\n      <td> 0</td>\n      <td> 0</td>\n      <td> 0</td>\n    </tr>\n    <tr>\n      <th>2 </th>\n      <td> CNS2014-CNS_MUL-Weekday-00-4165880</td>\n      <td>  110-423</td>\n      <td> 0</td>\n      <td> 0</td>\n      <td> 0</td>\n      <td> 0</td>\n      <td> 0</td>\n      <td> 0</td>\n      <td> 0</td>\n    </tr>\n    <tr>\n      <th>3 </th>\n      <td> CNS2014-CNS_MUL-Weekday-00-4165881</td>\n      <td>  110-423</td>\n      <td> 0</td>\n      <td> 0</td>\n      <td> 0</td>\n      <td> 0</td>\n      <td> 0</td>\n      <td> 0</td>\n      <td> 0</td>\n    </tr>\n    <tr>\n      <th>4 </th>\n      <td> CNS2014-CNS_MUL-Weekday-00-4165882</td>\n      <td>  110-423</td>\n      <td> 0</td>\n      <td> 0</td>\n      <td> 0</td>\n      <td> 0</td>\n      <td> 0</td>\n      <td> 0</td>\n      <td> 0</td>\n    </tr>\n    <tr>\n      <th>5 </th>\n      <td> CNS2014-CNS_MUL-Weekday-00-4165883</td>\n      <td>  110-423</td>\n      <td> 0</td>\n      <td> 0</td>\n      <td> 0</td>\n      <td> 0</td>\n      <td> 0</td>\n      <td> 0</td>\n      <td> 0</td>\n    </tr>\n    <tr>\n      <th>6 </th>\n      <td> CNS2014-CNS_MUL-Weekday-00-4165884</td>\n      <td>  110-423</td>\n      <td> 0</td>\n      <td> 0</td>\n      <td> 0</td>\n      <td> 0</td>\n      <td> 0</td>\n      <td> 0</td>\n      <td> 0</td>\n    </tr>\n    <tr>\n      <th>7 </th>\n      <td> CNS2014-CNS_MUL-Weekday-00-4165885</td>\n      <td>  110-423</td>\n      <td> 0</td>\n      <td> 0</td>\n      <td> 0</td>\n      <td> 0</td>\n      <td> 0</td>\n      <td> 0</td>\n      <td> 0</td>\n    </tr>\n    <tr>\n      <th>8 </th>\n      <td> CNS2014-CNS_MUL-Weekday-00-4165886</td>\n      <td>  110-423</td>\n      <td> 0</td>\n      <td> 0</td>\n      <td> 0</td>\n      <td> 0</td>\n      <td> 0</td>\n      <td> 0</td>\n      <td> 0</td>\n    </tr>\n    <tr>\n      <th>9 </th>\n      <td> CNS2014-CNS_MUL-Weekday-00-4165887</td>\n      <td>  110-423</td>\n      <td> 0</td>\n      <td> 0</td>\n      <td> 0</td>\n      <td> 0</td>\n      <td> 0</td>\n      <td> 0</td>\n      <td> 0</td>\n    </tr>\n    <tr>\n      <th>10</th>\n      <td> CNS2014-CNS_MUL-Weekday-00-4165888</td>\n      <td>  110-423</td>\n      <td> 0</td>\n      <td> 0</td>\n      <td> 0</td>\n      <td> 0</td>\n      <td> 0</td>\n      <td> 0</td>\n      <td> 0</td>\n    </tr>\n    <tr>\n      <th>11</th>\n      <td> CNS2014-CNS_MUL-Weekday-00-4165889</td>\n      <td>  110-423</td>\n      <td> 0</td>\n      <td> 0</td>\n      <td> 0</td>\n      <td> 0</td>\n      <td> 0</td>\n      <td> 0</td>\n      <td> 0</td>\n    </tr>\n    <tr>\n      <th>12</th>\n      <td> CNS2014-CNS_MUL-Weekday-00-4165890</td>\n      <td>  110-423</td>\n      <td> 0</td>\n      <td> 0</td>\n      <td> 0</td>\n      <td> 0</td>\n      <td> 0</td>\n      <td> 0</td>\n      <td> 0</td>\n    </tr>\n    <tr>\n      <th>13</th>\n      <td> CNS2014-CNS_MUL-Weekday-00-4165891</td>\n      <td>  110-423</td>\n      <td> 0</td>\n      <td> 0</td>\n      <td> 0</td>\n      <td> 0</td>\n      <td> 0</td>\n      <td> 0</td>\n      <td> 0</td>\n    </tr>\n    <tr>\n      <th>14</th>\n      <td> CNS2014-CNS_MUL-Weekday-00-4165892</td>\n      <td>  110-423</td>\n      <td> 0</td>\n      <td> 0</td>\n      <td> 0</td>\n      <td> 0</td>\n      <td> 0</td>\n      <td> 0</td>\n      <td> 0</td>\n    </tr>\n    <tr>\n      <th>15</th>\n      <td> CNS2014-CNS_MUL-Weekday-00-4165893</td>\n      <td>  110-423</td>\n      <td> 0</td>\n      <td> 0</td>\n      <td> 0</td>\n      <td> 0</td>\n      <td> 0</td>\n      <td> 0</td>\n      <td> 0</td>\n    </tr>\n    <tr>\n      <th>16</th>\n      <td> CNS2014-CNS_MUL-Weekday-00-4165894</td>\n      <td>  110-423</td>\n      <td> 0</td>\n      <td> 0</td>\n      <td> 0</td>\n      <td> 0</td>\n      <td> 0</td>\n      <td> 0</td>\n      <td> 0</td>\n    </tr>\n    <tr>\n      <th>17</th>\n      <td> CNS2014-CNS_MUL-Weekday-00-4165895</td>\n      <td>  110-423</td>\n      <td> 0</td>\n      <td> 0</td>\n      <td> 0</td>\n      <td> 0</td>\n      <td> 0</td>\n      <td> 0</td>\n      <td> 0</td>\n    </tr>\n    <tr>\n      <th>18</th>\n      <td> CNS2014-CNS_MUL-Weekday-00-4165896</td>\n      <td>  110-423</td>\n      <td> 0</td>\n      <td> 0</td>\n      <td> 0</td>\n      <td> 0</td>\n      <td> 0</td>\n      <td> 0</td>\n      <td> 0</td>\n    </tr>\n    <tr>\n      <th>19</th>\n      <td> CNS2014-CNS_MUL-Weekday-00-4165897</td>\n      <td>  110-423</td>\n      <td> 0</td>\n      <td> 0</td>\n      <td> 0</td>\n      <td> 0</td>\n      <td> 0</td>\n      <td> 0</td>\n      <td> 0</td>\n    </tr>\n    <tr>\n      <th>20</th>\n      <td> CNS2014-CNS_MUL-Weekday-00-4165898</td>\n      <td>  110-423</td>\n      <td> 0</td>\n      <td> 0</td>\n      <td> 0</td>\n      <td> 0</td>\n      <td> 0</td>\n      <td> 0</td>\n      <td> 0</td>\n    </tr>\n    <tr>\n      <th>21</th>\n      <td> CNS2014-CNS_MUL-Weekday-00-4165899</td>\n      <td>  110-423</td>\n      <td> 0</td>\n      <td> 0</td>\n      <td> 0</td>\n      <td> 0</td>\n      <td> 0</td>\n      <td> 0</td>\n      <td> 0</td>\n    </tr>\n    <tr>\n      <th>22</th>\n      <td> CNS2014-CNS_MUL-Weekday-00-4165900</td>\n      <td>  110-423</td>\n      <td> 0</td>\n      <td> 0</td>\n      <td> 0</td>\n      <td> 0</td>\n      <td> 0</td>\n      <td> 0</td>\n      <td> 0</td>\n    </tr>\n    <tr>\n      <th>23</th>\n      <td> CNS2014-CNS_MUL-Weekday-00-4165901</td>\n      <td>  110-423</td>\n      <td> 0</td>\n      <td> 0</td>\n      <td> 0</td>\n      <td> 0</td>\n      <td> 0</td>\n      <td> 0</td>\n      <td> 0</td>\n    </tr>\n    <tr>\n      <th>24</th>\n      <td> CNS2014-CNS_MUL-Weekday-00-4165902</td>\n      <td>  110-423</td>\n      <td> 0</td>\n      <td> 0</td>\n      <td> 0</td>\n      <td> 0</td>\n      <td> 0</td>\n      <td> 0</td>\n      <td> 0</td>\n    </tr>\n    <tr>\n      <th>25</th>\n      <td> CNS2014-CNS_MUL-Weekday-00-4165903</td>\n      <td>  110-423</td>\n      <td> 0</td>\n      <td> 0</td>\n      <td> 0</td>\n      <td> 0</td>\n      <td> 0</td>\n      <td> 0</td>\n      <td> 0</td>\n    </tr>\n    <tr>\n      <th>26</th>\n      <td> CNS2014-CNS_MUL-Weekday-00-4165904</td>\n      <td>  110-423</td>\n      <td> 0</td>\n      <td> 0</td>\n      <td> 0</td>\n      <td> 0</td>\n      <td> 0</td>\n      <td> 0</td>\n      <td> 0</td>\n    </tr>\n    <tr>\n      <th>27</th>\n      <td> CNS2014-CNS_MUL-Weekday-00-4165905</td>\n      <td>  110-423</td>\n      <td> 0</td>\n      <td> 0</td>\n      <td> 0</td>\n      <td> 0</td>\n      <td> 0</td>\n      <td> 0</td>\n      <td> 0</td>\n    </tr>\n    <tr>\n      <th>28</th>\n      <td> CNS2014-CNS_MUL-Weekday-00-4165906</td>\n      <td>  110-423</td>\n      <td> 0</td>\n      <td> 0</td>\n      <td> 0</td>\n      <td> 0</td>\n      <td> 0</td>\n      <td> 0</td>\n      <td> 0</td>\n    </tr>\n    <tr>\n      <th>29</th>\n      <td> CNS2014-CNS_MUL-Weekday-00-4165907</td>\n      <td>  110-423</td>\n      <td> 0</td>\n      <td> 0</td>\n      <td> 0</td>\n      <td> 0</td>\n      <td> 0</td>\n      <td> 0</td>\n      <td> 0</td>\n    </tr>\n    <tr>\n      <th>30</th>\n      <td> CNS2014-CNS_MUL-Weekday-00-4165908</td>\n      <td>  110-423</td>\n      <td> 0</td>\n      <td> 0</td>\n      <td> 0</td>\n      <td> 0</td>\n      <td> 0</td>\n      <td> 0</td>\n      <td> 0</td>\n    </tr>\n    <tr>\n      <th>31</th>\n      <td> CNS2014-CNS_MUL-Weekday-00-4165909</td>\n      <td>  110-423</td>\n      <td> 0</td>\n      <td> 0</td>\n      <td> 0</td>\n      <td> 0</td>\n      <td> 0</td>\n      <td> 0</td>\n      <td> 0</td>\n    </tr>\n    <tr>\n      <th>32</th>\n      <td> CNS2014-CNS_MUL-Weekday-00-4165910</td>\n      <td>  110-423</td>\n      <td> 0</td>\n      <td> 0</td>\n      <td> 0</td>\n      <td> 0</td>\n      <td> 0</td>\n      <td> 0</td>\n      <td> 0</td>\n    </tr>\n    <tr>\n      <th>33</th>\n      <td> CNS2014-CNS_MUL-Weekday-00-4165911</td>\n      <td>  110-423</td>\n      <td> 0</td>\n      <td> 0</td>\n      <td> 0</td>\n      <td> 0</td>\n      <td> 0</td>\n      <td> 0</td>\n      <td> 0</td>\n    </tr>\n    <tr>\n      <th>34</th>\n      <td> CNS2014-CNS_MUL-Weekday-00-4165912</td>\n      <td>  110-423</td>\n      <td> 0</td>\n      <td> 0</td>\n      <td> 0</td>\n      <td> 0</td>\n      <td> 0</td>\n      <td> 0</td>\n      <td> 0</td>\n    </tr>\n    <tr>\n      <th>35</th>\n      <td> CNS2014-CNS_MUL-Weekday-00-4165913</td>\n      <td>  110-423</td>\n      <td> 0</td>\n      <td> 0</td>\n      <td> 0</td>\n      <td> 0</td>\n      <td> 0</td>\n      <td> 0</td>\n      <td> 0</td>\n    </tr>\n    <tr>\n      <th>36</th>\n      <td> CNS2014-CNS_MUL-Weekday-00-4165914</td>\n      <td>  110-423</td>\n      <td> 0</td>\n      <td> 0</td>\n      <td> 0</td>\n      <td> 0</td>\n      <td> 0</td>\n      <td> 0</td>\n      <td> 0</td>\n    </tr>\n    <tr>\n      <th>37</th>\n      <td> CNS2014-CNS_MUL-Weekday-00-4165915</td>\n      <td>  110-423</td>\n      <td> 0</td>\n      <td> 0</td>\n      <td> 0</td>\n      <td> 0</td>\n      <td> 0</td>\n      <td> 0</td>\n      <td> 0</td>\n    </tr>\n    <tr>\n      <th>38</th>\n      <td> CNS2014-CNS_MUL-Weekday-00-4165916</td>\n      <td>  110-423</td>\n      <td> 0</td>\n      <td> 0</td>\n      <td> 0</td>\n      <td> 0</td>\n      <td> 0</td>\n      <td> 0</td>\n      <td> 0</td>\n    </tr>\n    <tr>\n      <th>39</th>\n      <td> CNS2014-CNS_MUL-Weekday-00-4165917</td>\n      <td>  110-423</td>\n      <td> 0</td>\n      <td> 0</td>\n      <td> 0</td>\n      <td> 0</td>\n      <td> 0</td>\n      <td> 0</td>\n      <td> 0</td>\n    </tr>\n    <tr>\n      <th>40</th>\n      <td> CNS2014-CNS_MUL-Weekday-00-4165918</td>\n      <td>  110-423</td>\n      <td> 0</td>\n      <td> 0</td>\n      <td> 0</td>\n      <td> 0</td>\n      <td> 0</td>\n      <td> 0</td>\n      <td> 0</td>\n    </tr>\n    <tr>\n      <th>41</th>\n      <td> CNS2014-CNS_MUL-Weekday-00-4165919</td>\n      <td>  110-423</td>\n      <td> 0</td>\n      <td> 0</td>\n      <td> 0</td>\n      <td> 0</td>\n      <td> 0</td>\n      <td> 0</td>\n      <td> 0</td>\n    </tr>\n    <tr>\n      <th>42</th>\n      <td> CNS2014-CNS_MUL-Weekday-00-4165920</td>\n      <td>  110-423</td>\n      <td> 0</td>\n      <td> 0</td>\n      <td> 0</td>\n      <td> 0</td>\n      <td> 0</td>\n      <td> 0</td>\n      <td> 0</td>\n    </tr>\n    <tr>\n      <th>43</th>\n      <td> CNS2014-CNS_MUL-Weekday-00-4165921</td>\n      <td>  110-423</td>\n      <td> 0</td>\n      <td> 0</td>\n      <td> 0</td>\n      <td> 0</td>\n      <td> 0</td>\n      <td> 0</td>\n      <td> 0</td>\n    </tr>\n    <tr>\n      <th>44</th>\n      <td> CNS2014-CNS_MUL-Weekday-00-4165922</td>\n      <td>  110-423</td>\n      <td> 0</td>\n      <td> 0</td>\n      <td> 0</td>\n      <td> 0</td>\n      <td> 0</td>\n      <td> 0</td>\n      <td> 0</td>\n    </tr>\n    <tr>\n      <th>45</th>\n      <td> CNS2014-CNS_MUL-Weekday-00-4165923</td>\n      <td>  110-423</td>\n      <td> 0</td>\n      <td> 0</td>\n      <td> 0</td>\n      <td> 0</td>\n      <td> 0</td>\n      <td> 0</td>\n      <td> 0</td>\n    </tr>\n    <tr>\n      <th>46</th>\n      <td> CNS2014-CNS_MUL-Weekday-00-4165924</td>\n      <td>  110-423</td>\n      <td> 0</td>\n      <td> 0</td>\n      <td> 0</td>\n      <td> 0</td>\n      <td> 0</td>\n      <td> 0</td>\n      <td> 0</td>\n    </tr>\n    <tr>\n      <th>47</th>\n      <td> CNS2014-CNS_MUL-Weekday-00-4165925</td>\n      <td>  110-423</td>\n      <td> 0</td>\n      <td> 0</td>\n      <td> 0</td>\n      <td> 0</td>\n      <td> 0</td>\n      <td> 0</td>\n      <td> 0</td>\n    </tr>\n    <tr>\n      <th>48</th>\n      <td> CNS2014-CNS_MUL-Weekday-00-4165926</td>\n      <td>  110-423</td>\n      <td> 0</td>\n      <td> 0</td>\n      <td> 0</td>\n      <td> 0</td>\n      <td> 0</td>\n      <td> 0</td>\n      <td> 0</td>\n    </tr>\n    <tr>\n      <th>49</th>\n      <td> CNS2014-CNS_MUL-Weekday-00-4165927</td>\n      <td>  110-423</td>\n      <td> 0</td>\n      <td> 0</td>\n      <td> 0</td>\n      <td> 0</td>\n      <td> 0</td>\n      <td> 0</td>\n      <td> 0</td>\n    </tr>\n    <tr>\n      <th>50</th>\n      <td> CNS2014-CNS_MUL-Weekday-00-4165928</td>\n      <td>  110-423</td>\n      <td> 0</td>\n      <td> 0</td>\n      <td> 0</td>\n      <td> 0</td>\n      <td> 0</td>\n      <td> 0</td>\n      <td> 0</td>\n    </tr>\n    <tr>\n      <th>51</th>\n      <td> CNS2014-CNS_MUL-Weekday-00-4165929</td>\n      <td>  110-423</td>\n      <td> 0</td>\n      <td> 0</td>\n      <td> 0</td>\n      <td> 0</td>\n      <td> 0</td>\n      <td> 0</td>\n      <td> 0</td>\n    </tr>\n    <tr>\n      <th>52</th>\n      <td> CNS2014-CNS_MUL-Weekday-00-4165930</td>\n      <td>  110-423</td>\n      <td> 0</td>\n      <td> 0</td>\n      <td> 0</td>\n      <td> 0</td>\n      <td> 0</td>\n      <td> 0</td>\n      <td> 0</td>\n    </tr>\n    <tr>\n      <th>53</th>\n      <td> CNS2014-CNS_MUL-Weekday-00-4165931</td>\n      <td>  110-423</td>\n      <td> 0</td>\n      <td> 0</td>\n      <td> 0</td>\n      <td> 0</td>\n      <td> 0</td>\n      <td> 0</td>\n      <td> 0</td>\n    </tr>\n    <tr>\n      <th>54</th>\n      <td> CNS2014-CNS_MUL-Weekday-00-4165932</td>\n      <td>  110-423</td>\n      <td> 0</td>\n      <td> 0</td>\n      <td> 0</td>\n      <td> 0</td>\n      <td> 0</td>\n      <td> 0</td>\n      <td> 0</td>\n    </tr>\n    <tr>\n      <th>55</th>\n      <td> CNS2014-CNS_MUL-Weekday-00-4165933</td>\n      <td>  110-423</td>\n      <td> 0</td>\n      <td> 0</td>\n      <td> 0</td>\n      <td> 0</td>\n      <td> 0</td>\n      <td> 0</td>\n      <td> 0</td>\n    </tr>\n    <tr>\n      <th>56</th>\n      <td> CNS2014-CNS_MUL-Weekday-00-4165934</td>\n      <td>  110-423</td>\n      <td> 0</td>\n      <td> 0</td>\n      <td> 0</td>\n      <td> 0</td>\n      <td> 0</td>\n      <td> 0</td>\n      <td> 0</td>\n    </tr>\n    <tr>\n      <th>57</th>\n      <td> CNS2014-CNS_MUL-Weekday-00-4165935</td>\n      <td>  110-423</td>\n      <td> 0</td>\n      <td> 0</td>\n      <td> 0</td>\n      <td> 0</td>\n      <td> 0</td>\n      <td> 0</td>\n      <td> 0</td>\n    </tr>\n    <tr>\n      <th>58</th>\n      <td> CNS2014-CNS_MUL-Weekday-00-4165936</td>\n      <td>  110-423</td>\n      <td> 0</td>\n      <td> 0</td>\n      <td> 0</td>\n      <td> 0</td>\n      <td> 0</td>\n      <td> 0</td>\n      <td> 0</td>\n    </tr>\n    <tr>\n      <th>59</th>\n      <td> CNS2014-CNS_MUL-Weekday-00-4166103</td>\n      <td> 110N-423</td>\n      <td> 0</td>\n      <td> 0</td>\n      <td> 0</td>\n      <td> 0</td>\n      <td> 0</td>\n      <td> 0</td>\n      <td> 0</td>\n    </tr>\n    <tr>\n      <th></th>\n      <td>...</td>\n      <td>...</td>\n      <td>...</td>\n      <td>...</td>\n      <td>...</td>\n      <td>...</td>\n      <td>...</td>\n      <td>...</td>\n      <td>...</td>\n    </tr>\n  </tbody>\n</table>\n<p>2713 rows \u00d7 9 columns</p>\n</div>",
       "metadata": {},
       "output_type": "pyout",
       "prompt_number": 6,
       "text": "                               trip_id  route_id  2013-12-02  2013-12-03  \\\n0   CNS2014-CNS_MUL-Weekday-00-4165878   110-423           0           0   \n1   CNS2014-CNS_MUL-Weekday-00-4165879   110-423           0           0   \n2   CNS2014-CNS_MUL-Weekday-00-4165880   110-423           0           0   \n3   CNS2014-CNS_MUL-Weekday-00-4165881   110-423           0           0   \n4   CNS2014-CNS_MUL-Weekday-00-4165882   110-423           0           0   \n5   CNS2014-CNS_MUL-Weekday-00-4165883   110-423           0           0   \n6   CNS2014-CNS_MUL-Weekday-00-4165884   110-423           0           0   \n7   CNS2014-CNS_MUL-Weekday-00-4165885   110-423           0           0   \n8   CNS2014-CNS_MUL-Weekday-00-4165886   110-423           0           0   \n9   CNS2014-CNS_MUL-Weekday-00-4165887   110-423           0           0   \n10  CNS2014-CNS_MUL-Weekday-00-4165888   110-423           0           0   \n11  CNS2014-CNS_MUL-Weekday-00-4165889   110-423           0           0   \n12  CNS2014-CNS_MUL-Weekday-00-4165890   110-423           0           0   \n13  CNS2014-CNS_MUL-Weekday-00-4165891   110-423           0           0   \n14  CNS2014-CNS_MUL-Weekday-00-4165892   110-423           0           0   \n15  CNS2014-CNS_MUL-Weekday-00-4165893   110-423           0           0   \n16  CNS2014-CNS_MUL-Weekday-00-4165894   110-423           0           0   \n17  CNS2014-CNS_MUL-Weekday-00-4165895   110-423           0           0   \n18  CNS2014-CNS_MUL-Weekday-00-4165896   110-423           0           0   \n19  CNS2014-CNS_MUL-Weekday-00-4165897   110-423           0           0   \n20  CNS2014-CNS_MUL-Weekday-00-4165898   110-423           0           0   \n21  CNS2014-CNS_MUL-Weekday-00-4165899   110-423           0           0   \n22  CNS2014-CNS_MUL-Weekday-00-4165900   110-423           0           0   \n23  CNS2014-CNS_MUL-Weekday-00-4165901   110-423           0           0   \n24  CNS2014-CNS_MUL-Weekday-00-4165902   110-423           0           0   \n25  CNS2014-CNS_MUL-Weekday-00-4165903   110-423           0           0   \n26  CNS2014-CNS_MUL-Weekday-00-4165904   110-423           0           0   \n27  CNS2014-CNS_MUL-Weekday-00-4165905   110-423           0           0   \n28  CNS2014-CNS_MUL-Weekday-00-4165906   110-423           0           0   \n29  CNS2014-CNS_MUL-Weekday-00-4165907   110-423           0           0   \n30  CNS2014-CNS_MUL-Weekday-00-4165908   110-423           0           0   \n31  CNS2014-CNS_MUL-Weekday-00-4165909   110-423           0           0   \n32  CNS2014-CNS_MUL-Weekday-00-4165910   110-423           0           0   \n33  CNS2014-CNS_MUL-Weekday-00-4165911   110-423           0           0   \n34  CNS2014-CNS_MUL-Weekday-00-4165912   110-423           0           0   \n35  CNS2014-CNS_MUL-Weekday-00-4165913   110-423           0           0   \n36  CNS2014-CNS_MUL-Weekday-00-4165914   110-423           0           0   \n37  CNS2014-CNS_MUL-Weekday-00-4165915   110-423           0           0   \n38  CNS2014-CNS_MUL-Weekday-00-4165916   110-423           0           0   \n39  CNS2014-CNS_MUL-Weekday-00-4165917   110-423           0           0   \n40  CNS2014-CNS_MUL-Weekday-00-4165918   110-423           0           0   \n41  CNS2014-CNS_MUL-Weekday-00-4165919   110-423           0           0   \n42  CNS2014-CNS_MUL-Weekday-00-4165920   110-423           0           0   \n43  CNS2014-CNS_MUL-Weekday-00-4165921   110-423           0           0   \n44  CNS2014-CNS_MUL-Weekday-00-4165922   110-423           0           0   \n45  CNS2014-CNS_MUL-Weekday-00-4165923   110-423           0           0   \n46  CNS2014-CNS_MUL-Weekday-00-4165924   110-423           0           0   \n47  CNS2014-CNS_MUL-Weekday-00-4165925   110-423           0           0   \n48  CNS2014-CNS_MUL-Weekday-00-4165926   110-423           0           0   \n49  CNS2014-CNS_MUL-Weekday-00-4165927   110-423           0           0   \n50  CNS2014-CNS_MUL-Weekday-00-4165928   110-423           0           0   \n51  CNS2014-CNS_MUL-Weekday-00-4165929   110-423           0           0   \n52  CNS2014-CNS_MUL-Weekday-00-4165930   110-423           0           0   \n53  CNS2014-CNS_MUL-Weekday-00-4165931   110-423           0           0   \n54  CNS2014-CNS_MUL-Weekday-00-4165932   110-423           0           0   \n55  CNS2014-CNS_MUL-Weekday-00-4165933   110-423           0           0   \n56  CNS2014-CNS_MUL-Weekday-00-4165934   110-423           0           0   \n57  CNS2014-CNS_MUL-Weekday-00-4165935   110-423           0           0   \n58  CNS2014-CNS_MUL-Weekday-00-4165936   110-423           0           0   \n59  CNS2014-CNS_MUL-Weekday-00-4166103  110N-423           0           0   \n                                   ...       ...         ...         ...   \n\n    2013-12-04  2013-12-05  2013-12-06  2013-12-07  2013-12-08  \n0            0           0           0           0           0  \n1            0           0           0           0           0  \n2            0           0           0           0           0  \n3            0           0           0           0           0  \n4            0           0           0           0           0  \n5            0           0           0           0           0  \n6            0           0           0           0           0  \n7            0           0           0           0           0  \n8            0           0           0           0           0  \n9            0           0           0           0           0  \n10           0           0           0           0           0  \n11           0           0           0           0           0  \n12           0           0           0           0           0  \n13           0           0           0           0           0  \n14           0           0           0           0           0  \n15           0           0           0           0           0  \n16           0           0           0           0           0  \n17           0           0           0           0           0  \n18           0           0           0           0           0  \n19           0           0           0           0           0  \n20           0           0           0           0           0  \n21           0           0           0           0           0  \n22           0           0           0           0           0  \n23           0           0           0           0           0  \n24           0           0           0           0           0  \n25           0           0           0           0           0  \n26           0           0           0           0           0  \n27           0           0           0           0           0  \n28           0           0           0           0           0  \n29           0           0           0           0           0  \n30           0           0           0           0           0  \n31           0           0           0           0           0  \n32           0           0           0           0           0  \n33           0           0           0           0           0  \n34           0           0           0           0           0  \n35           0           0           0           0           0  \n36           0           0           0           0           0  \n37           0           0           0           0           0  \n38           0           0           0           0           0  \n39           0           0           0           0           0  \n40           0           0           0           0           0  \n41           0           0           0           0           0  \n42           0           0           0           0           0  \n43           0           0           0           0           0  \n44           0           0           0           0           0  \n45           0           0           0           0           0  \n46           0           0           0           0           0  \n47           0           0           0           0           0  \n48           0           0           0           0           0  \n49           0           0           0           0           0  \n50           0           0           0           0           0  \n51           0           0           0           0           0  \n52           0           0           0           0           0  \n53           0           0           0           0           0  \n54           0           0           0           0           0  \n55           0           0           0           0           0  \n56           0           0           0           0           0  \n57           0           0           0           0           0  \n58           0           0           0           0           0  \n59           0           0           0           0           0  \n           ...         ...         ...         ...         ...  \n\n[2713 rows x 9 columns]"
      }
     ],
     "prompt_number": 6
    },
    {
     "cell_type": "code",
     "collapsed": false,
     "input": "# Get routes stats for first workweek of feed\ndates = feed.get_first_week()[:5]\nroutes_stats = feed.get_routes_stats(trips_stats, dates)\nroutes_stats",
     "language": "python",
     "metadata": {},
     "outputs": [
      {
       "output_type": "stream",
       "stream": "stdout",
       "text": "2014-05-25 11:20:13.509661 Creating routes stats for 2713 trips...\n2014-05-25 11:20:13.509748 Getting activity for 2713 trips over 5 dates...\n2014-05-25 11:20:45.196047"
      },
      {
       "output_type": "stream",
       "stream": "stdout",
       "text": " Finished routes stats in 0.52 min\n2014-05-25 11:20:45.443617"
      },
      {
       "output_type": "stream",
       "stream": "stdout",
       "text": " Finished routes stats in 0.52 min\n"
      },
      {
       "html": "<div style=\"max-height:1000px;max-width:1500px;overflow:auto;\">\n<table border=\"1\" class=\"dataframe\">\n  <thead>\n    <tr style=\"text-align: right;\">\n      <th></th>\n      <th>route_id</th>\n      <th>min_start_time</th>\n      <th>max_end_time</th>\n      <th>mean_daily_num_trips</th>\n      <th>max_headway</th>\n      <th>mean_headway</th>\n      <th>mean_daily_duration</th>\n      <th>mean_daily_distance</th>\n    </tr>\n  </thead>\n  <tbody>\n    <tr>\n      <th>0 </th>\n      <td>  110-275</td>\n      <td> 05:51:00</td>\n      <td> 24:02:00</td>\n      <td> 59.0</td>\n      <td> 1800</td>\n      <td> 1789</td>\n      <td> 202860</td>\n      <td> 1879685.0</td>\n    </tr>\n    <tr>\n      <th>1 </th>\n      <td> 110N-275</td>\n      <td> 24:40:00</td>\n      <td> 29:32:00</td>\n      <td>  1.8</td>\n      <td>  NaN</td>\n      <td>  NaN</td>\n      <td>   5616</td>\n      <td>   65566.2</td>\n    </tr>\n    <tr>\n      <th>2 </th>\n      <td>  111-275</td>\n      <td> 06:03:00</td>\n      <td> 24:36:00</td>\n      <td> 58.0</td>\n      <td> 3960</td>\n      <td> 1848</td>\n      <td> 210420</td>\n      <td> 1988269.0</td>\n    </tr>\n    <tr>\n      <th>3 </th>\n      <td>  112-275</td>\n      <td> 07:55:00</td>\n      <td> 22:31:00</td>\n      <td> 30.0</td>\n      <td> 2760</td>\n      <td> 1800</td>\n      <td>  32400</td>\n      <td>  358140.0</td>\n    </tr>\n    <tr>\n      <th>4 </th>\n      <td>  113-275</td>\n      <td> 06:10:00</td>\n      <td> 18:42:00</td>\n      <td>  6.0</td>\n      <td> 3600</td>\n      <td> 3600</td>\n      <td>  13800</td>\n      <td>  146112.0</td>\n    </tr>\n    <tr>\n      <th>5 </th>\n      <td>  120-275</td>\n      <td> 05:36:00</td>\n      <td> 22:25:00</td>\n      <td> 32.0</td>\n      <td> 3600</td>\n      <td> 3600</td>\n      <td>  94080</td>\n      <td>  891366.0</td>\n    </tr>\n    <tr>\n      <th>6 </th>\n      <td> 120N-275</td>\n      <td> 22:02:00</td>\n      <td> 23:51:00</td>\n      <td>  2.0</td>\n      <td>  NaN</td>\n      <td>  NaN</td>\n      <td>   5880</td>\n      <td>   78872.0</td>\n    </tr>\n    <tr>\n      <th>7 </th>\n      <td>  121-275</td>\n      <td> 06:30:00</td>\n      <td> 22:02:00</td>\n      <td> 34.0</td>\n      <td> 3600</td>\n      <td> 3168</td>\n      <td>  65280</td>\n      <td>  577915.0</td>\n    </tr>\n    <tr>\n      <th>8 </th>\n      <td>  122-275</td>\n      <td> 06:16:00</td>\n      <td> 21:32:00</td>\n      <td> 33.0</td>\n      <td> 3600</td>\n      <td> 3240</td>\n      <td>  55440</td>\n      <td>  541878.0</td>\n    </tr>\n    <tr>\n      <th>9 </th>\n      <td>  123-275</td>\n      <td> 06:14:00</td>\n      <td> 24:15:00</td>\n      <td> 60.0</td>\n      <td> 3000</td>\n      <td> 1774</td>\n      <td> 141900</td>\n      <td> 1087568.0</td>\n    </tr>\n    <tr>\n      <th>10</th>\n      <td>  130-275</td>\n      <td> 06:04:00</td>\n      <td> 23:01:00</td>\n      <td> 33.0</td>\n      <td> 3600</td>\n      <td> 3600</td>\n      <td>  58380</td>\n      <td>  352610.0</td>\n    </tr>\n    <tr>\n      <th>11</th>\n      <td>  131-275</td>\n      <td> 06:34:00</td>\n      <td> 22:31:00</td>\n      <td> 32.0</td>\n      <td> 3600</td>\n      <td> 3600</td>\n      <td>  56640</td>\n      <td>  387872.0</td>\n    </tr>\n    <tr>\n      <th>12</th>\n      <td> 131N-275</td>\n      <td> 23:02:00</td>\n      <td> 23:31:00</td>\n      <td>  1.0</td>\n      <td>  NaN</td>\n      <td>  NaN</td>\n      <td>   1740</td>\n      <td>    8447.0</td>\n    </tr>\n    <tr>\n      <th>13</th>\n      <td>  133-275</td>\n      <td> 06:21:00</td>\n      <td> 24:12:00</td>\n      <td> 36.0</td>\n      <td> 3600</td>\n      <td> 3535</td>\n      <td>  77940</td>\n      <td>  548024.0</td>\n    </tr>\n    <tr>\n      <th>14</th>\n      <td>  140-275</td>\n      <td> 05:43:00</td>\n      <td> 24:04:00</td>\n      <td> 40.0</td>\n      <td> 3600</td>\n      <td> 2400</td>\n      <td> 126720</td>\n      <td>  937668.0</td>\n    </tr>\n    <tr>\n      <th>15</th>\n      <td> 140N-275</td>\n      <td> 24:15:00</td>\n      <td> 28:50:00</td>\n      <td>  1.0</td>\n      <td>  NaN</td>\n      <td>  NaN</td>\n      <td>   2100</td>\n      <td>   22580.0</td>\n    </tr>\n    <tr>\n      <th>16</th>\n      <td>  141-275</td>\n      <td> 06:42:00</td>\n      <td> 19:03:00</td>\n      <td> 47.0</td>\n      <td> 1800</td>\n      <td> 1800</td>\n      <td> 107160</td>\n      <td>  606297.0</td>\n    </tr>\n    <tr>\n      <th>17</th>\n      <td>  142-275</td>\n      <td> 06:28:00</td>\n      <td> 22:38:00</td>\n      <td> 42.0</td>\n      <td> 3600</td>\n      <td> 2409</td>\n      <td> 133560</td>\n      <td>  996429.0</td>\n    </tr>\n    <tr>\n      <th>18</th>\n      <td>  143-275</td>\n      <td> 06:34:00</td>\n      <td> 19:22:00</td>\n      <td> 48.0</td>\n      <td> 1800</td>\n      <td> 1800</td>\n      <td> 129960</td>\n      <td>  770840.0</td>\n    </tr>\n    <tr>\n      <th>19</th>\n      <td> 143W-275</td>\n      <td> 18:15:00</td>\n      <td> 23:00:00</td>\n      <td>  9.0</td>\n      <td>  NaN</td>\n      <td>  NaN</td>\n      <td>  24300</td>\n      <td>  176236.0</td>\n    </tr>\n    <tr>\n      <th>20</th>\n      <td>  150-275</td>\n      <td> 06:25:00</td>\n      <td> 19:30:00</td>\n      <td> 27.0</td>\n      <td> 3600</td>\n      <td> 3287</td>\n      <td>  97200</td>\n      <td>  881315.0</td>\n    </tr>\n    <tr>\n      <th>21</th>\n      <td> 150E-275</td>\n      <td> 18:15:00</td>\n      <td> 23:32:00</td>\n      <td>  8.0</td>\n      <td>  NaN</td>\n      <td>  NaN</td>\n      <td>  32160</td>\n      <td>  308708.0</td>\n    </tr>\n  </tbody>\n</table>\n<p>22 rows \u00d7 8 columns</p>\n</div>",
       "metadata": {},
       "output_type": "pyout",
       "prompt_number": 5,
       "text": "    route_id min_start_time max_end_time  mean_daily_num_trips  max_headway  \\\n0    110-275       05:51:00     24:02:00                  59.0         1800   \n1   110N-275       24:40:00     29:32:00                   1.8          NaN   \n2    111-275       06:03:00     24:36:00                  58.0         3960   \n3    112-275       07:55:00     22:31:00                  30.0         2760   \n4    113-275       06:10:00     18:42:00                   6.0         3600   \n5    120-275       05:36:00     22:25:00                  32.0         3600   \n6   120N-275       22:02:00     23:51:00                   2.0          NaN   \n7    121-275       06:30:00     22:02:00                  34.0         3600   \n8    122-275       06:16:00     21:32:00                  33.0         3600   \n9    123-275       06:14:00     24:15:00                  60.0         3000   \n10   130-275       06:04:00     23:01:00                  33.0         3600   \n11   131-275       06:34:00     22:31:00                  32.0         3600   \n12  131N-275       23:02:00     23:31:00                   1.0          NaN   \n13   133-275       06:21:00     24:12:00                  36.0         3600   \n14   140-275       05:43:00     24:04:00                  40.0         3600   \n15  140N-275       24:15:00     28:50:00                   1.0          NaN   \n16   141-275       06:42:00     19:03:00                  47.0         1800   \n17   142-275       06:28:00     22:38:00                  42.0         3600   \n18   143-275       06:34:00     19:22:00                  48.0         1800   \n19  143W-275       18:15:00     23:00:00                   9.0          NaN   \n20   150-275       06:25:00     19:30:00                  27.0         3600   \n21  150E-275       18:15:00     23:32:00                   8.0          NaN   \n\n    mean_headway  mean_daily_duration  mean_daily_distance  \n0           1789               202860            1879685.0  \n1            NaN                 5616              65566.2  \n2           1848               210420            1988269.0  \n3           1800                32400             358140.0  \n4           3600                13800             146112.0  \n5           3600                94080             891366.0  \n6            NaN                 5880              78872.0  \n7           3168                65280             577915.0  \n8           3240                55440             541878.0  \n9           1774               141900            1087568.0  \n10          3600                58380             352610.0  \n11          3600                56640             387872.0  \n12           NaN                 1740               8447.0  \n13          3535                77940             548024.0  \n14          2400               126720             937668.0  \n15           NaN                 2100              22580.0  \n16          1800               107160             606297.0  \n17          2409               133560             996429.0  \n18          1800               129960             770840.0  \n19           NaN                24300             176236.0  \n20          3287                97200             881315.0  \n21           NaN                32160             308708.0  \n\n[22 rows x 8 columns]"
      }
     ],
     "prompt_number": 5
    },
    {
     "cell_type": "code",
     "collapsed": false,
     "input": "# Draw histograms for route headways\ncolors = ['red', 'blue'] \nalpha = 0.7\ncolumns = ['max_headway', 'mean_headway']\ntitles = ['Max Headway','Mean Headway']\nylabels = ['count', 'count']\nxlabels = ['minutes', 'minutes']\nbins = [[5*j for j in range(4*60//5)], [5*j for j in range(4*60//5)]]\nfig, axes = plt.subplots(nrows=1, ncols=2)\nfor (i, column) in enumerate(columns):\n    F = routes_stats[column]/60\n    F.hist(bins=bins[i], ax=axes[i], color=colors[i], alpha=alpha, figsize=(10, 5))\n    axes[i].set_title(titles[i])\n    axes[i].set_xlabel(xlabels[i])\n    axes[i].set_ylabel(ylabels[i])\n\nfig.tight_layout() # Or equivalently,  \"plt.tight_layout()\"\n",
     "language": "python",
     "metadata": {},
     "outputs": [
      {
       "metadata": {},
       "output_type": "display_data",
       "png": "[encoded data removed]",
       "text": "<matplotlib.figure.Figure at 0x10781a690>"
      }
     ],
     "prompt_number": 7
    },
    {
     "cell_type": "code",
     "collapsed": false,
     "input": "# Get routes time series for first workweek\nrts = feed.get_routes_time_series(trips_stats, dates)\nrts = downsample_routes_time_series(rts, freq='3H')\nrts['mean_daily_speed'].T.head()",
     "language": "python",
     "metadata": {},
     "outputs": [
      {
       "output_type": "stream",
       "stream": "stdout",
       "text": "2014-05-25 11:21:53.671022 Creating routes time series for 2713 trips...\n2014-05-25 11:21:53.671314 Getting activity for 2713 trips over 7 dates...\n2014-05-25 11:22:34.503986"
      },
      {
       "output_type": "stream",
       "stream": "stdout",
       "text": " Finished routes stats in 0.67 min\nProgress 0.0%\rProgress 0.1%\rProgress 0.1%\rProgress 0.1%\rProgress 0.2%\rProgress 0.2%\rProgress 0.3%\rProgress 0.3%\rProgress 0.3%\rProgress 0.4%\rProgress 0.4%\rProgress 0.4%\rProgress 0.5%"
      },
      {
       "output_type": "stream",
       "stream": "stdout",
       "text": "\rProgress 0.5%\rProgress 0.6%\rProgress 0.6%\rProgress 0.6%\rProgress 0.7%\rProgress 0.7%\rProgress 0.7%\rProgress 0.8%\rProgress 0.8%\rProgress 0.8%\rProgress 0.9%\rProgress 0.9%\rProgress 1.0%"
      },
      {
       "output_type": "stream",
       "stream": "stdout",
       "text": "\rProgress 1.0%\rProgress 1.0%\rProgress 1.1%\rProgress 1.1%\rProgress 1.1%\rProgress 1.2%\rProgress 1.2%\rProgress 1.3%\rProgress 1.3%\rProgress 1.3%\rProgress 1.4%"
      },
      {
       "output_type": "stream",
       "stream": "stdout",
       "text": "\rProgress 1.4%\rProgress 1.4%\rProgress 1.5%\rProgress 1.5%\rProgress 1.5%\rProgress 1.6%\rProgress 1.6%\rProgress 1.7%\rProgress 1.7%\rProgress 1.7%\rProgress 1.8%"
      },
      {
       "output_type": "stream",
       "stream": "stdout",
       "text": "\rProgress 1.8%\rProgress 1.8%\rProgress 1.9%\rProgress 1.9%\rProgress 2.0%\rProgress 2.0%\rProgress 2.0%\rProgress 2.1%\rProgress 2.1%\rProgress 2.1%\rProgress 2.2%\rProgress 2.2%\rProgress 2.2%\rProgress 2.3%"
      },
      {
       "output_type": "stream",
       "stream": "stdout",
       "text": "\rProgress 2.3%\rProgress 2.4%\rProgress 2.4%\rProgress 2.4%\rProgress 2.5%\rProgress 2.5%\rProgress 2.5%\rProgress 2.6%\rProgress 2.6%\rProgress 2.7%"
      },
      {
       "output_type": "stream",
       "stream": "stdout",
       "text": "\rProgress 2.7%\rProgress 2.7%\rProgress 2.8%\rProgress 2.8%\rProgress 2.8%\rProgress 2.9%\rProgress 2.9%\rProgress 2.9%\rProgress 3.0%\rProgress 3.0%\rProgress 3.1%"
      },
      {
       "output_type": "stream",
       "stream": "stdout",
       "text": "\rProgress 3.1%\rProgress 3.1%\rProgress 3.2%\rProgress 3.2%\rProgress 3.2%\rProgress 3.3%"
      },
      {
       "output_type": "stream",
       "stream": "stdout",
       "text": "\rProgress 3.3%\rProgress 3.4%\rProgress 3.4%\rProgress 3.4%\rProgress 3.5%\rProgress 3.5%\rProgress 3.5%\rProgress 3.6%"
      },
      {
       "output_type": "stream",
       "stream": "stdout",
       "text": "\rProgress 3.6%\rProgress 3.6%\rProgress 3.7%\rProgress 3.7%\rProgress 3.8%\rProgress 3.8%\rProgress 3.8%\rProgress 3.9%"
      },
      {
       "output_type": "stream",
       "stream": "stdout",
       "text": "\rProgress 3.9%\rProgress 3.9%\rProgress 4.0%\rProgress 4.0%\rProgress 4.1%\rProgress 4.1%\rProgress 4.1%\rProgress 4.2%"
      },
      {
       "output_type": "stream",
       "stream": "stdout",
       "text": "\rProgress 4.2%\rProgress 4.2%\rProgress 4.3%\rProgress 4.3%\rProgress 4.3%\rProgress 4.4%\rProgress 4.4%"
      },
      {
       "output_type": "stream",
       "stream": "stdout",
       "text": "\rProgress 4.5%\rProgress 4.5%\rProgress 4.5%\rProgress 4.6%\rProgress 4.6%\rProgress 4.6%\rProgress 4.7%\rProgress 4.7%\rProgress 4.8%\rProgress 4.8%"
      },
      {
       "output_type": "stream",
       "stream": "stdout",
       "text": "\rProgress 4.8%\rProgress 4.9%\rProgress 4.9%\rProgress 4.9%\rProgress 5.0%\rProgress 5.0%\rProgress 5.0%\rProgress 5.1%\rProgress 5.1%\rProgress 5.2%\rProgress 5.2%\rProgress 5.2%\rProgress 5.3%\rProgress 5.3%"
      },
      {
       "output_type": "stream",
       "stream": "stdout",
       "text": "\rProgress 5.3%\rProgress 5.4%\rProgress 5.4%\rProgress 5.5%\rProgress 5.5%\rProgress 5.5%\rProgress 5.6%\rProgress 5.6%\rProgress 5.6%\rProgress 5.7%\rProgress 5.7%\rProgress 5.8%\rProgress 5.8%\rProgress 5.8%"
      },
      {
       "output_type": "stream",
       "stream": "stdout",
       "text": "\rProgress 5.9%\rProgress 5.9%\rProgress 5.9%\rProgress 6.0%\rProgress 6.0%\rProgress 6.0%\rProgress 6.1%\rProgress 6.1%\rProgress 6.2%\rProgress 6.2%\rProgress 6.2%"
      },
      {
       "output_type": "stream",
       "stream": "stdout",
       "text": "\rProgress 6.3%\rProgress 6.3%\rProgress 6.3%\rProgress 6.4%\rProgress 6.4%\rProgress 6.5%\rProgress 6.5%\rProgress 6.5%\rProgress 6.6%\rProgress 6.6%\rProgress 6.6%\rProgress 6.7%\rProgress 6.7%\rProgress 6.7%\rProgress 6.8%"
      },
      {
       "output_type": "stream",
       "stream": "stdout",
       "text": "\rProgress 6.8%\rProgress 6.9%\rProgress 6.9%\rProgress 6.9%\rProgress 7.0%\rProgress 7.0%\rProgress 7.0%\rProgress 7.1%\rProgress 7.1%\rProgress 7.2%\rProgress 7.2%\rProgress 7.2%\rProgress 7.3%"
      },
      {
       "output_type": "stream",
       "stream": "stdout",
       "text": "\rProgress 7.3%\rProgress 7.3%\rProgress 7.4%\rProgress 7.4%\rProgress 7.4%\rProgress 7.5%\rProgress 7.5%\rProgress 7.6%\rProgress 7.6%\rProgress 7.6%\rProgress 7.7%\rProgress 7.7%\rProgress 7.7%"
      },
      {
       "output_type": "stream",
       "stream": "stdout",
       "text": "\rProgress 7.8%\rProgress 7.8%\rProgress 7.9%\rProgress 7.9%\rProgress 7.9%\rProgress 8.0%\rProgress 8.0%\rProgress 8.0%\rProgress 8.1%\rProgress 8.1%\rProgress 8.1%\rProgress 8.2%\rProgress 8.2%\rProgress 8.3%"
      },
      {
       "output_type": "stream",
       "stream": "stdout",
       "text": "\rProgress 8.3%\rProgress 8.3%\rProgress 8.4%\rProgress 8.4%\rProgress 8.4%\rProgress 8.5%\rProgress 8.5%\rProgress 8.6%\rProgress 8.6%\rProgress 8.6%\rProgress 8.7%\rProgress 8.7%\rProgress 8.7%\rProgress 8.8%\rProgress 8.8%"
      },
      {
       "output_type": "stream",
       "stream": "stdout",
       "text": "\rProgress 8.8%\rProgress 8.9%\rProgress 8.9%\rProgress 9.0%\rProgress 9.0%\rProgress 9.0%\rProgress 9.1%\rProgress 9.1%\rProgress 9.1%\rProgress 9.2%\rProgress 9.2%\rProgress 9.3%\rProgress 9.3%\rProgress 9.3%"
      },
      {
       "output_type": "stream",
       "stream": "stdout",
       "text": "\rProgress 9.4%\rProgress 9.4%\rProgress 9.4%\rProgress 9.5%\rProgress 9.5%\rProgress 9.5%\rProgress 9.6%\rProgress 9.6%\rProgress 9.7%\rProgress 9.7%\rProgress 9.7%\rProgress 9.8%\rProgress 9.8%\rProgress 9.8%"
      },
      {
       "output_type": "stream",
       "stream": "stdout",
       "text": "\rProgress 9.9%\rProgress 9.9%\rProgress 10.0%\rProgress 10.0%\rProgress 10.0%\rProgress 10.1%\rProgress 10.1%\rProgress 10.1%\rProgress 10.2%\rProgress 10.2%\rProgress 10.2%\rProgress 10.3%\rProgress 10.3%\rProgress 10.4%"
      },
      {
       "output_type": "stream",
       "stream": "stdout",
       "text": "\rProgress 10.4%\rProgress 10.4%\rProgress 10.5%\rProgress 10.5%\rProgress 10.5%\rProgress 10.6%\rProgress 10.6%\rProgress 10.7%\rProgress 10.7%\rProgress 10.7%\rProgress 10.8%\rProgress 10.8%\rProgress 10.8%"
      },
      {
       "output_type": "stream",
       "stream": "stdout",
       "text": "\rProgress 10.9%\rProgress 10.9%\rProgress 10.9%\rProgress 11.0%\rProgress 11.0%\rProgress 11.1%\rProgress 11.1%\rProgress 11.1%\rProgress 11.2%\rProgress 11.2%\rProgress 11.2%\rProgress 11.3%\rProgress 11.3%"
      },
      {
       "output_type": "stream",
       "stream": "stdout",
       "text": "\rProgress 11.4%\rProgress 11.4%\rProgress 11.4%\rProgress 11.5%\rProgress 11.5%\rProgress 11.5%\rProgress 11.6%\rProgress 11.6%\rProgress 11.6%\rProgress 11.7%"
      },
      {
       "output_type": "stream",
       "stream": "stdout",
       "text": "\rProgress 11.7%\rProgress 11.8%\rProgress 11.8%\rProgress 11.8%\rProgress 11.9%\rProgress 11.9%\rProgress 11.9%\rProgress 12.0%\rProgress 12.0%\rProgress 12.1%\rProgress 12.1%\rProgress 12.1%"
      },
      {
       "output_type": "stream",
       "stream": "stdout",
       "text": "\rProgress 12.2%\rProgress 12.2%\rProgress 12.2%\rProgress 12.3%\rProgress 12.3%\rProgress 12.3%\rProgress 12.4%\rProgress 12.4%\rProgress 12.5%\rProgress 12.5%\rProgress 12.5%"
      },
      {
       "output_type": "stream",
       "stream": "stdout",
       "text": "\rProgress 12.6%\rProgress 12.6%\rProgress 12.6%\rProgress 12.7%\rProgress 12.7%\rProgress 12.8%\rProgress 12.8%\rProgress 12.8%\rProgress 12.9%\rProgress 12.9%\rProgress 12.9%\rProgress 13.0%\rProgress 13.0%\rProgress 13.0%"
      },
      {
       "output_type": "stream",
       "stream": "stdout",
       "text": "\rProgress 13.1%\rProgress 13.1%\rProgress 13.2%\rProgress 13.2%\rProgress 13.2%\rProgress 13.3%\rProgress 13.3%\rProgress 13.3%\rProgress 13.4%\rProgress 13.4%\rProgress 13.5%\rProgress 13.5%\rProgress 13.5%\rProgress 13.6%"
      },
      {
       "output_type": "stream",
       "stream": "stdout",
       "text": "\rProgress 13.6%\rProgress 13.6%\rProgress 13.7%\rProgress 13.7%\rProgress 13.7%\rProgress 13.8%\rProgress 13.8%\rProgress 13.9%\rProgress 13.9%\rProgress 13.9%\rProgress 14.0%\rProgress 14.0%\rProgress 14.0%\rProgress 14.1%"
      },
      {
       "output_type": "stream",
       "stream": "stdout",
       "text": "\rProgress 14.1%\rProgress 14.2%\rProgress 14.2%\rProgress 14.2%\rProgress 14.3%\rProgress 14.3%\rProgress 14.3%\rProgress 14.4%\rProgress 14.4%\rProgress 14.4%\rProgress 14.5%\rProgress 14.5%"
      },
      {
       "output_type": "stream",
       "stream": "stdout",
       "text": "\rProgress 14.6%\rProgress 14.6%\rProgress 14.6%\rProgress 14.7%\rProgress 14.7%\rProgress 14.7%\rProgress 14.8%\rProgress 14.8%\rProgress 14.9%\rProgress 14.9%"
      },
      {
       "output_type": "stream",
       "stream": "stdout",
       "text": "\rProgress 14.9%\rProgress 15.0%\rProgress 15.0%\rProgress 15.0%\rProgress 15.1%\rProgress 15.1%\rProgress 15.1%\rProgress 15.2%\rProgress 15.2%\rProgress 15.3%"
      },
      {
       "output_type": "stream",
       "stream": "stdout",
       "text": "\rProgress 15.3%\rProgress 15.3%\rProgress 15.4%\rProgress 15.4%\rProgress 15.4%\rProgress 15.5%\rProgress 15.5%\rProgress 15.6%\rProgress 15.6%\rProgress 15.6%"
      },
      {
       "output_type": "stream",
       "stream": "stdout",
       "text": "\rProgress 15.7%\rProgress 15.7%\rProgress 15.7%\rProgress 15.8%\rProgress 15.8%\rProgress 15.8%\rProgress 15.9%\rProgress 15.9%\rProgress 16.0%\rProgress 16.0%\rProgress 16.0%\rProgress 16.1%"
      },
      {
       "output_type": "stream",
       "stream": "stdout",
       "text": "\rProgress 16.1%\rProgress 16.1%\rProgress 16.2%\rProgress 16.2%\rProgress 16.3%\rProgress 16.3%\rProgress 16.3%\rProgress 16.4%\rProgress 16.4%\rProgress 16.4%\rProgress 16.5%"
      },
      {
       "output_type": "stream",
       "stream": "stdout",
       "text": "\rProgress 16.5%\rProgress 16.5%\rProgress 16.6%\rProgress 16.6%\rProgress 16.7%\rProgress 16.7%\rProgress 16.7%\rProgress 16.8%\rProgress 16.8%\rProgress 16.8%"
      },
      {
       "output_type": "stream",
       "stream": "stdout",
       "text": "\rProgress 16.9%\rProgress 16.9%\rProgress 17.0%\rProgress 17.0%\rProgress 17.0%\rProgress 17.1%\rProgress 17.1%\rProgress 17.1%\rProgress 17.2%"
      },
      {
       "output_type": "stream",
       "stream": "stdout",
       "text": "\rProgress 17.2%\rProgress 17.3%\rProgress 17.3%\rProgress 17.3%\rProgress 17.4%\rProgress 17.4%\rProgress 17.4%\rProgress 17.5%\rProgress 17.5%"
      },
      {
       "output_type": "stream",
       "stream": "stdout",
       "text": "\rProgress 17.5%\rProgress 17.6%\rProgress 17.6%\rProgress 17.7%\rProgress 17.7%\rProgress 17.7%\rProgress 17.8%\rProgress 17.8%\rProgress 17.8%\rProgress 17.9%\rProgress 17.9%"
      },
      {
       "output_type": "stream",
       "stream": "stdout",
       "text": "\rProgress 18.0%\rProgress 18.0%\rProgress 18.0%\rProgress 18.1%\rProgress 18.1%\rProgress 18.1%\rProgress 18.2%\rProgress 18.2%\rProgress 18.2%"
      },
      {
       "output_type": "stream",
       "stream": "stdout",
       "text": "\rProgress 18.3%\rProgress 18.3%\rProgress 18.4%\rProgress 18.4%\rProgress 18.4%\rProgress 18.5%\rProgress 18.5%"
      },
      {
       "output_type": "stream",
       "stream": "stdout",
       "text": "\rProgress 18.5%\rProgress 18.6%\rProgress 18.6%\rProgress 18.7%\rProgress 18.7%\rProgress 18.7%\rProgress 18.8%\rProgress 18.8%\rProgress 18.8%\rProgress 18.9%\rProgress 18.9%\rProgress 18.9%\rProgress 19.0%"
      },
      {
       "output_type": "stream",
       "stream": "stdout",
       "text": "\rProgress 19.0%\rProgress 19.1%\rProgress 19.1%\rProgress 19.1%\rProgress 19.2%\rProgress 19.2%\rProgress 19.2%\rProgress 19.3%\rProgress 19.3%\rProgress 19.4%\rProgress 19.4%\rProgress 19.4%\rProgress 19.5%\rProgress 19.5%"
      },
      {
       "output_type": "stream",
       "stream": "stdout",
       "text": "\rProgress 19.5%\rProgress 19.6%\rProgress 19.6%\rProgress 19.6%\rProgress 19.7%\rProgress 19.7%\rProgress 19.8%\rProgress 19.8%\rProgress 19.8%\rProgress 19.9%\rProgress 19.9%\rProgress 19.9%\rProgress 20.0%\rProgress 20.0%\rProgress 20.1%\rProgress 20.1%"
      },
      {
       "output_type": "stream",
       "stream": "stdout",
       "text": "\rProgress 20.1%\rProgress 20.2%\rProgress 20.2%\rProgress 20.2%\rProgress 20.3%\rProgress 20.3%\rProgress 20.3%\rProgress 20.4%\rProgress 20.4%\rProgress 20.5%\rProgress 20.5%\rProgress 20.5%\rProgress 20.6%\rProgress 20.6%"
      },
      {
       "output_type": "stream",
       "stream": "stdout",
       "text": "\rProgress 20.6%\rProgress 20.7%\rProgress 20.7%\rProgress 20.8%\rProgress 20.8%\rProgress 20.8%\rProgress 20.9%\rProgress 20.9%\rProgress 20.9%\rProgress 21.0%\rProgress 21.0%"
      },
      {
       "output_type": "stream",
       "stream": "stdout",
       "text": "\rProgress 21.0%\rProgress 21.1%\rProgress 21.1%\rProgress 21.2%\rProgress 21.2%\rProgress 21.2%\rProgress 21.3%\rProgress 21.3%\rProgress 21.3%\rProgress 21.4%\rProgress 21.4%\rProgress 21.5%"
      },
      {
       "output_type": "stream",
       "stream": "stdout",
       "text": "\rProgress 21.5%\rProgress 21.5%\rProgress 21.6%\rProgress 21.6%\rProgress 21.6%\rProgress 21.7%\rProgress 21.7%\rProgress 21.7%\rProgress 21.8%\rProgress 21.8%\rProgress 21.9%\rProgress 21.9%\rProgress 21.9%\rProgress 22.0%"
      },
      {
       "output_type": "stream",
       "stream": "stdout",
       "text": "\rProgress 22.0%\rProgress 22.0%\rProgress 22.1%\rProgress 22.1%\rProgress 22.2%\rProgress 22.2%\rProgress 22.2%\rProgress 22.3%\rProgress 22.3%\rProgress 22.3%\rProgress 22.4%\rProgress 22.4%\rProgress 22.4%\rProgress 22.5%"
      },
      {
       "output_type": "stream",
       "stream": "stdout",
       "text": "\rProgress 22.5%\rProgress 22.6%\rProgress 22.6%\rProgress 22.6%\rProgress 22.7%\rProgress 22.7%\rProgress 22.7%\rProgress 22.8%\rProgress 22.8%\rProgress 22.9%\rProgress 22.9%\rProgress 22.9%\rProgress 23.0%\rProgress 23.0%"
      },
      {
       "output_type": "stream",
       "stream": "stdout",
       "text": "\rProgress 23.0%\rProgress 23.1%\rProgress 23.1%\rProgress 23.1%\rProgress 23.2%\rProgress 23.2%\rProgress 23.3%\rProgress 23.3%\rProgress 23.3%\rProgress 23.4%\rProgress 23.4%\rProgress 23.4%\rProgress 23.5%"
      },
      {
       "output_type": "stream",
       "stream": "stdout",
       "text": "\rProgress 23.5%\rProgress 23.6%\rProgress 23.6%\rProgress 23.6%\rProgress 23.7%\rProgress 23.7%\rProgress 23.7%\rProgress 23.8%\rProgress 23.8%\rProgress 23.8%\rProgress 23.9%\rProgress 23.9%"
      },
      {
       "output_type": "stream",
       "stream": "stdout",
       "text": "\rProgress 24.0%\rProgress 24.0%\rProgress 24.0%\rProgress 24.1%\rProgress 24.1%\rProgress 24.1%\rProgress 24.2%\rProgress 24.2%\rProgress 24.3%\rProgress 24.3%\rProgress 24.3%\rProgress 24.4%"
      },
      {
       "output_type": "stream",
       "stream": "stdout",
       "text": "\rProgress 24.4%\rProgress 24.4%\rProgress 24.5%\rProgress 24.5%\rProgress 24.5%\rProgress 24.6%\rProgress 24.6%\rProgress 24.7%\rProgress 24.7%\rProgress 24.7%\rProgress 24.8%\rProgress 24.8%"
      },
      {
       "output_type": "stream",
       "stream": "stdout",
       "text": "\rProgress 24.8%\rProgress 24.9%\rProgress 24.9%\rProgress 25.0%\rProgress 25.0%\rProgress 25.0%\rProgress 25.1%\rProgress 25.1%\rProgress 25.1%\rProgress 25.2%\rProgress 25.2%\rProgress 25.2%\rProgress 25.3%"
      },
      {
       "output_type": "stream",
       "stream": "stdout",
       "text": "\rProgress 25.3%\rProgress 25.4%\rProgress 25.4%\rProgress 25.4%\rProgress 25.5%\rProgress 25.5%\rProgress 25.5%\rProgress 25.6%\rProgress 25.6%\rProgress 25.7%\rProgress 25.7%\rProgress 25.7%"
      },
      {
       "output_type": "stream",
       "stream": "stdout",
       "text": "\rProgress 25.8%\rProgress 25.8%\rProgress 25.8%\rProgress 25.9%\rProgress 25.9%\rProgress 25.9%\rProgress 26.0%\rProgress 26.0%\rProgress 26.1%\rProgress 26.1%\rProgress 26.1%\rProgress 26.2%"
      },
      {
       "output_type": "stream",
       "stream": "stdout",
       "text": "\rProgress 26.2%\rProgress 26.2%\rProgress 26.3%\rProgress 26.3%\rProgress 26.4%\rProgress 26.4%\rProgress 26.4%\rProgress 26.5%\rProgress 26.5%\rProgress 26.5%\rProgress 26.6%\rProgress 26.6%\rProgress 26.6%\rProgress 26.7%"
      },
      {
       "output_type": "stream",
       "stream": "stdout",
       "text": "\rProgress 26.7%\rProgress 26.8%\rProgress 26.8%\rProgress 26.8%\rProgress 26.9%\rProgress 26.9%\rProgress 26.9%\rProgress 27.0%\rProgress 27.0%\rProgress 27.1%\rProgress 27.1%\rProgress 27.1%\rProgress 27.2%\rProgress 27.2%\rProgress 27.2%"
      },
      {
       "output_type": "stream",
       "stream": "stdout",
       "text": "\rProgress 27.3%\rProgress 27.3%\rProgress 27.3%\rProgress 27.4%\rProgress 27.4%\rProgress 27.5%\rProgress 27.5%\rProgress 27.5%\rProgress 27.6%\rProgress 27.6%\rProgress 27.6%\rProgress 27.7%\rProgress 27.7%\rProgress 27.8%\rProgress 27.8%"
      },
      {
       "output_type": "stream",
       "stream": "stdout",
       "text": "\rProgress 27.8%\rProgress 27.9%\rProgress 27.9%\rProgress 27.9%\rProgress 28.0%\rProgress 28.0%\rProgress 28.1%\rProgress 28.1%\rProgress 28.1%\rProgress 28.2%\rProgress 28.2%\rProgress 28.2%\rProgress 28.3%\rProgress 28.3%\rProgress 28.3%"
      },
      {
       "output_type": "stream",
       "stream": "stdout",
       "text": "\rProgress 28.4%\rProgress 28.4%\rProgress 28.5%\rProgress 28.5%\rProgress 28.5%\rProgress 28.6%\rProgress 28.6%\rProgress 28.6%\rProgress 28.7%\rProgress 28.7%\rProgress 28.8%\rProgress 28.8%\rProgress 28.8%\rProgress 28.9%"
      },
      {
       "output_type": "stream",
       "stream": "stdout",
       "text": "\rProgress 28.9%\rProgress 28.9%\rProgress 29.0%\rProgress 29.0%\rProgress 29.0%\rProgress 29.1%\rProgress 29.1%\rProgress 29.2%\rProgress 29.2%\rProgress 29.2%\rProgress 29.3%\rProgress 29.3%"
      },
      {
       "output_type": "stream",
       "stream": "stdout",
       "text": "\rProgress 29.3%\rProgress 29.4%\rProgress 29.4%\rProgress 29.5%\rProgress 29.5%\rProgress 29.5%\rProgress 29.6%\rProgress 29.6%\rProgress 29.6%\rProgress 29.7%\rProgress 29.7%\rProgress 29.7%\rProgress 29.8%\rProgress 29.8%\rProgress 29.9%\rProgress 29.9%"
      },
      {
       "output_type": "stream",
       "stream": "stdout",
       "text": "\rProgress 29.9%\rProgress 30.0%\rProgress 30.0%\rProgress 30.0%\rProgress 30.1%\rProgress 30.1%\rProgress 30.2%\rProgress 30.2%\rProgress 30.2%\rProgress 30.3%\rProgress 30.3%\rProgress 30.3%\rProgress 30.4%\rProgress 30.4%\rProgress 30.4%"
      },
      {
       "output_type": "stream",
       "stream": "stdout",
       "text": "\rProgress 30.5%\rProgress 30.5%\rProgress 30.6%\rProgress 30.6%\rProgress 30.6%\rProgress 30.7%\rProgress 30.7%\rProgress 30.7%\rProgress 30.8%\rProgress 30.8%\rProgress 30.9%\rProgress 30.9%\rProgress 30.9%\rProgress 31.0%\rProgress 31.0%"
      },
      {
       "output_type": "stream",
       "stream": "stdout",
       "text": "\rProgress 31.0%\rProgress 31.1%\rProgress 31.1%\rProgress 31.1%\rProgress 31.2%\rProgress 31.2%\rProgress 31.3%\rProgress 31.3%\rProgress 31.3%\rProgress 31.4%\rProgress 31.4%\rProgress 31.4%\rProgress 31.5%\rProgress 31.5%\rProgress 31.6%"
      },
      {
       "output_type": "stream",
       "stream": "stdout",
       "text": "\rProgress 31.6%\rProgress 31.6%\rProgress 31.7%\rProgress 31.7%\rProgress 31.7%\rProgress 31.8%\rProgress 31.8%\rProgress 31.8%\rProgress 31.9%\rProgress 31.9%\rProgress 32.0%"
      },
      {
       "output_type": "stream",
       "stream": "stdout",
       "text": "\rProgress 32.0%\rProgress 32.0%\rProgress 32.1%\rProgress 32.1%\rProgress 32.1%\rProgress 32.2%\rProgress 32.2%\rProgress 32.3%\rProgress 32.3%\rProgress 32.3%\rProgress 32.4%\rProgress 32.4%\rProgress 32.4%\rProgress 32.5%"
      },
      {
       "output_type": "stream",
       "stream": "stdout",
       "text": "\rProgress 32.5%\rProgress 32.5%\rProgress 32.6%\rProgress 32.6%\rProgress 32.7%\rProgress 32.7%\rProgress 32.7%\rProgress 32.8%\rProgress 32.8%\rProgress 32.8%\rProgress 32.9%\rProgress 32.9%\rProgress 33.0%\rProgress 33.0%"
      },
      {
       "output_type": "stream",
       "stream": "stdout",
       "text": "\rProgress 33.0%\rProgress 33.1%\rProgress 33.1%\rProgress 33.1%\rProgress 33.2%\rProgress 33.2%\rProgress 33.2%\rProgress 33.3%\rProgress 33.3%\rProgress 33.4%\rProgress 33.4%\rProgress 33.4%\rProgress 33.5%\rProgress 33.5%"
      },
      {
       "output_type": "stream",
       "stream": "stdout",
       "text": "\rProgress 33.5%\rProgress 33.6%\rProgress 33.6%\rProgress 33.7%\rProgress 33.7%\rProgress 33.7%\rProgress 33.8%\rProgress 33.8%\rProgress 33.8%\rProgress 33.9%\rProgress 33.9%\rProgress 33.9%\rProgress 34.0%\rProgress 34.0%"
      },
      {
       "output_type": "stream",
       "stream": "stdout",
       "text": "\rProgress 34.1%\rProgress 34.1%\rProgress 34.1%\rProgress 34.2%\rProgress 34.2%\rProgress 34.2%\rProgress 34.3%\rProgress 34.3%\rProgress 34.4%\rProgress 34.4%\rProgress 34.4%\rProgress 34.5%\rProgress 34.5%\rProgress 34.5%"
      },
      {
       "output_type": "stream",
       "stream": "stdout",
       "text": "\rProgress 34.6%\rProgress 34.6%\rProgress 34.6%\rProgress 34.7%\rProgress 34.7%\rProgress 34.8%\rProgress 34.8%\rProgress 34.8%\rProgress 34.9%\rProgress 34.9%\rProgress 34.9%\rProgress 35.0%\rProgress 35.0%\rProgress 35.1%"
      },
      {
       "output_type": "stream",
       "stream": "stdout",
       "text": "\rProgress 35.1%\rProgress 35.1%\rProgress 35.2%\rProgress 35.2%\rProgress 35.2%\rProgress 35.3%\rProgress 35.3%\rProgress 35.3%\rProgress 35.4%\rProgress 35.4%\rProgress 35.5%\rProgress 35.5%\rProgress 35.5%\rProgress 35.6%"
      },
      {
       "output_type": "stream",
       "stream": "stdout",
       "text": "\rProgress 35.6%\rProgress 35.6%\rProgress 35.7%\rProgress 35.7%\rProgress 35.8%\rProgress 35.8%\rProgress 35.8%\rProgress 35.9%\rProgress 35.9%\rProgress 35.9%\rProgress 36.0%\rProgress 36.0%\rProgress 36.0%\rProgress 36.1%"
      },
      {
       "output_type": "stream",
       "stream": "stdout",
       "text": "\rProgress 36.1%\rProgress 36.2%\rProgress 36.2%\rProgress 36.2%\rProgress 36.3%\rProgress 36.3%\rProgress 36.3%\rProgress 36.4%\rProgress 36.4%\rProgress 36.5%\rProgress 36.5%\rProgress 36.5%\rProgress 36.6%\rProgress 36.6%"
      },
      {
       "output_type": "stream",
       "stream": "stdout",
       "text": "\rProgress 36.6%\rProgress 36.7%\rProgress 36.7%\rProgress 36.7%\rProgress 36.8%\rProgress 36.8%\rProgress 36.9%\rProgress 36.9%\rProgress 36.9%"
      },
      {
       "output_type": "stream",
       "stream": "stdout",
       "text": "\rProgress 37.0%\rProgress 37.0%\rProgress 37.0%\rProgress 37.1%\rProgress 37.1%\rProgress 37.2%\rProgress 37.2%\rProgress 37.2%"
      },
      {
       "output_type": "stream",
       "stream": "stdout",
       "text": "\rProgress 37.3%\rProgress 37.3%\rProgress 37.3%\rProgress 37.4%\rProgress 37.4%\rProgress 37.4%\rProgress 37.5%"
      },
      {
       "output_type": "stream",
       "stream": "stdout",
       "text": "\rProgress 37.5%\rProgress 37.6%\rProgress 37.6%\rProgress 37.6%\rProgress 37.7%\rProgress 37.7%\rProgress 37.7%\rProgress 37.8%\rProgress 37.8%\rProgress 37.9%\rProgress 37.9%\rProgress 37.9%\rProgress 38.0%\rProgress 38.0%"
      },
      {
       "output_type": "stream",
       "stream": "stdout",
       "text": "\rProgress 38.0%\rProgress 38.1%\rProgress 38.1%\rProgress 38.1%\rProgress 38.2%\rProgress 38.2%\rProgress 38.3%\rProgress 38.3%\rProgress 38.3%\rProgress 38.4%\rProgress 38.4%\rProgress 38.4%"
      },
      {
       "output_type": "stream",
       "stream": "stdout",
       "text": "\rProgress 38.5%\rProgress 38.5%\rProgress 38.6%\rProgress 38.6%\rProgress 38.6%\rProgress 38.7%\rProgress 38.7%\rProgress 38.7%\rProgress 38.8%\rProgress 38.8%\rProgress 38.8%\rProgress 38.9%\rProgress 38.9%\rProgress 39.0%\rProgress 39.0%\rProgress 39.0%"
      },
      {
       "output_type": "stream",
       "stream": "stdout",
       "text": "\rProgress 39.1%\rProgress 39.1%\rProgress 39.1%\rProgress 39.2%\rProgress 39.2%\rProgress 39.3%\rProgress 39.3%\rProgress 39.3%\rProgress 39.4%\rProgress 39.4%\rProgress 39.4%\rProgress 39.5%"
      },
      {
       "output_type": "stream",
       "stream": "stdout",
       "text": "\rProgress 39.5%\rProgress 39.6%\rProgress 39.6%\rProgress 39.6%\rProgress 39.7%\rProgress 39.7%\rProgress 39.7%\rProgress 39.8%\rProgress 39.8%\rProgress 39.8%\rProgress 39.9%\rProgress 39.9%\rProgress 40.0%\rProgress 40.0%"
      },
      {
       "output_type": "stream",
       "stream": "stdout",
       "text": "\rProgress 40.0%\rProgress 40.1%\rProgress 40.1%\rProgress 40.1%\rProgress 40.2%\rProgress 40.2%\rProgress 40.3%\rProgress 40.3%\rProgress 40.3%\rProgress 40.4%\rProgress 40.4%\rProgress 40.4%\rProgress 40.5%\rProgress 40.5%\rProgress 40.5%"
      },
      {
       "output_type": "stream",
       "stream": "stdout",
       "text": "\rProgress 40.6%\rProgress 40.6%\rProgress 40.7%\rProgress 40.7%\rProgress 40.7%\rProgress 40.8%\rProgress 40.8%\rProgress 40.8%\rProgress 40.9%\rProgress 40.9%\rProgress 41.0%\rProgress 41.0%"
      },
      {
       "output_type": "stream",
       "stream": "stdout",
       "text": "\rProgress 41.0%\rProgress 41.1%\rProgress 41.1%\rProgress 41.1%\rProgress 41.2%\rProgress 41.2%\rProgress 41.2%\rProgress 41.3%\rProgress 41.3%\rProgress 41.4%\rProgress 41.4%\rProgress 41.4%\rProgress 41.5%\rProgress 41.5%"
      },
      {
       "output_type": "stream",
       "stream": "stdout",
       "text": "\rProgress 41.5%\rProgress 41.6%\rProgress 41.6%\rProgress 41.7%\rProgress 41.7%\rProgress 41.7%\rProgress 41.8%\rProgress 41.8%\rProgress 41.8%\rProgress 41.9%\rProgress 41.9%\rProgress 41.9%\rProgress 42.0%\rProgress 42.0%\rProgress 42.1%"
      },
      {
       "output_type": "stream",
       "stream": "stdout",
       "text": "\rProgress 42.1%\rProgress 42.1%\rProgress 42.2%\rProgress 42.2%\rProgress 42.2%\rProgress 42.3%\rProgress 42.3%\rProgress 42.4%\rProgress 42.4%\rProgress 42.4%\rProgress 42.5%\rProgress 42.5%\rProgress 42.5%"
      },
      {
       "output_type": "stream",
       "stream": "stdout",
       "text": "\rProgress 42.6%\rProgress 42.6%\rProgress 42.6%\rProgress 42.7%\rProgress 42.7%\rProgress 42.8%\rProgress 42.8%\rProgress 42.8%\rProgress 42.9%\rProgress 42.9%\rProgress 42.9%\rProgress 43.0%\rProgress 43.0%\rProgress 43.1%"
      },
      {
       "output_type": "stream",
       "stream": "stdout",
       "text": "\rProgress 43.1%\rProgress 43.1%\rProgress 43.2%\rProgress 43.2%\rProgress 43.2%\rProgress 43.3%\rProgress 43.3%\rProgress 43.3%\rProgress 43.4%\rProgress 43.4%\rProgress 43.5%\rProgress 43.5%\rProgress 43.5%"
      },
      {
       "output_type": "stream",
       "stream": "stdout",
       "text": "\rProgress 43.6%\rProgress 43.6%\rProgress 43.6%\rProgress 43.7%\rProgress 43.7%\rProgress 43.8%\rProgress 43.8%\rProgress 43.8%\rProgress 43.9%\rProgress 43.9%\rProgress 43.9%\rProgress 44.0%\rProgress 44.0%"
      },
      {
       "output_type": "stream",
       "stream": "stdout",
       "text": "\rProgress 44.0%\rProgress 44.1%\rProgress 44.1%\rProgress 44.2%\rProgress 44.2%\rProgress 44.2%\rProgress 44.3%\rProgress 44.3%\rProgress 44.3%\rProgress 44.4%\rProgress 44.4%\rProgress 44.5%\rProgress 44.5%\rProgress 44.5%"
      },
      {
       "output_type": "stream",
       "stream": "stdout",
       "text": "\rProgress 44.6%\rProgress 44.6%\rProgress 44.6%\rProgress 44.7%\rProgress 44.7%\rProgress 44.7%\rProgress 44.8%\rProgress 44.8%\rProgress 44.9%\rProgress 44.9%\rProgress 44.9%\rProgress 45.0%\rProgress 45.0%\rProgress 45.0%"
      },
      {
       "output_type": "stream",
       "stream": "stdout",
       "text": "\rProgress 45.1%\rProgress 45.1%\rProgress 45.2%\rProgress 45.2%\rProgress 45.2%\rProgress 45.3%\rProgress 45.3%\rProgress 45.3%\rProgress 45.4%\rProgress 45.4%\rProgress 45.4%\rProgress 45.5%\rProgress 45.5%\rProgress 45.6%"
      },
      {
       "output_type": "stream",
       "stream": "stdout",
       "text": "\rProgress 45.6%\rProgress 45.6%\rProgress 45.7%\rProgress 45.7%\rProgress 45.7%\rProgress 45.8%\rProgress 45.8%\rProgress 45.9%\rProgress 45.9%\rProgress 45.9%\rProgress 46.0%\rProgress 46.0%\rProgress 46.0%\rProgress 46.1%\rProgress 46.1%"
      },
      {
       "output_type": "stream",
       "stream": "stdout",
       "text": "\rProgress 46.1%\rProgress 46.2%\rProgress 46.2%\rProgress 46.3%\rProgress 46.3%\rProgress 46.3%\rProgress 46.4%\rProgress 46.4%\rProgress 46.4%\rProgress 46.5%\rProgress 46.5%\rProgress 46.6%\rProgress 46.6%\rProgress 46.6%"
      },
      {
       "output_type": "stream",
       "stream": "stdout",
       "text": "\rProgress 46.7%\rProgress 46.7%\rProgress 46.7%\rProgress 46.8%\rProgress 46.8%\rProgress 46.8%\rProgress 46.9%\rProgress 46.9%\rProgress 47.0%\rProgress 47.0%\rProgress 47.0%\rProgress 47.1%\rProgress 47.1%\rProgress 47.1%\rProgress 47.2%"
      },
      {
       "output_type": "stream",
       "stream": "stdout",
       "text": "\rProgress 47.2%\rProgress 47.3%\rProgress 47.3%\rProgress 47.3%\rProgress 47.4%\rProgress 47.4%\rProgress 47.4%\rProgress 47.5%\rProgress 47.5%\rProgress 47.5%\rProgress 47.6%\rProgress 47.6%\rProgress 47.7%\rProgress 47.7%\rProgress 47.7%\rProgress 47.8%"
      },
      {
       "output_type": "stream",
       "stream": "stdout",
       "text": "\rProgress 47.8%\rProgress 47.8%\rProgress 47.9%\rProgress 47.9%\rProgress 48.0%\rProgress 48.0%\rProgress 48.0%\rProgress 48.1%\rProgress 48.1%\rProgress 48.1%\rProgress 48.2%\rProgress 48.2%"
      },
      {
       "output_type": "stream",
       "stream": "stdout",
       "text": "\rProgress 48.2%\rProgress 48.3%\rProgress 48.3%\rProgress 48.4%\rProgress 48.4%\rProgress 48.4%\rProgress 48.5%\rProgress 48.5%\rProgress 48.5%\rProgress 48.6%\rProgress 48.6%\rProgress 48.7%\rProgress 48.7%\rProgress 48.7%\rProgress 48.8%"
      },
      {
       "output_type": "stream",
       "stream": "stdout",
       "text": "\rProgress 48.8%\rProgress 48.8%\rProgress 48.9%\rProgress 48.9%\rProgress 48.9%\rProgress 49.0%\rProgress 49.0%\rProgress 49.1%\rProgress 49.1%\rProgress 49.1%\rProgress 49.2%\rProgress 49.2%\rProgress 49.2%\rProgress 49.3%\rProgress 49.3%"
      },
      {
       "output_type": "stream",
       "stream": "stdout",
       "text": "\rProgress 49.4%\rProgress 49.4%\rProgress 49.4%\rProgress 49.5%\rProgress 49.5%\rProgress 49.5%\rProgress 49.6%\rProgress 49.6%\rProgress 49.6%\rProgress 49.7%\rProgress 49.7%\rProgress 49.8%\rProgress 49.8%\rProgress 49.8%\rProgress 49.9%"
      },
      {
       "output_type": "stream",
       "stream": "stdout",
       "text": "\rProgress 49.9%\rProgress 49.9%\rProgress 50.0%\rProgress 50.0%\rProgress 50.1%\rProgress 50.1%\rProgress 50.1%\rProgress 50.2%\rProgress 50.2%\rProgress 50.2%\rProgress 50.3%\rProgress 50.3%\rProgress 50.4%\rProgress 50.4%\rProgress 50.4%"
      },
      {
       "output_type": "stream",
       "stream": "stdout",
       "text": "\rProgress 50.5%\rProgress 50.5%\rProgress 50.5%\rProgress 50.6%\rProgress 50.6%\rProgress 50.6%\r2014-05-25 11:22:40.284022 Finished routes time series in 0.77 min\n"
      },
      {
       "html": "<div style=\"max-height:1000px;max-width:1500px;overflow:auto;\">\n<table border=\"1\" class=\"dataframe\">\n  <thead>\n    <tr style=\"text-align: right;\">\n      <th></th>\n      <th>2000-01-01 00:00:00</th>\n      <th>2000-01-01 03:00:00</th>\n      <th>2000-01-01 06:00:00</th>\n      <th>2000-01-01 09:00:00</th>\n      <th>2000-01-01 12:00:00</th>\n      <th>2000-01-01 15:00:00</th>\n      <th>2000-01-01 18:00:00</th>\n      <th>2000-01-01 21:00:00</th>\n    </tr>\n  </thead>\n  <tbody>\n    <tr>\n      <th>110-275</th>\n      <td>  2.390922</td>\n      <td> 9.148305</td>\n      <td> 8.549519</td>\n      <td> 8.467054</td>\n      <td> 8.465127</td>\n      <td> 8.467708</td>\n      <td> 8.808839</td>\n      <td>  8.691148</td>\n    </tr>\n    <tr>\n      <th>110-423</th>\n      <td>       NaN</td>\n      <td>      NaN</td>\n      <td>      NaN</td>\n      <td>      NaN</td>\n      <td>      NaN</td>\n      <td>      NaN</td>\n      <td>      NaN</td>\n      <td>       NaN</td>\n    </tr>\n    <tr>\n      <th>110N-275</th>\n      <td>  7.802690</td>\n      <td> 9.203258</td>\n      <td>      NaN</td>\n      <td>      NaN</td>\n      <td>      NaN</td>\n      <td>      NaN</td>\n      <td>      NaN</td>\n      <td>       NaN</td>\n    </tr>\n    <tr>\n      <th>110N-423</th>\n      <td>       NaN</td>\n      <td>      NaN</td>\n      <td>      NaN</td>\n      <td>      NaN</td>\n      <td>      NaN</td>\n      <td>      NaN</td>\n      <td>      NaN</td>\n      <td>       NaN</td>\n    </tr>\n    <tr>\n      <th>111-275</th>\n      <td> 10.052074</td>\n      <td>      NaN</td>\n      <td> 9.371891</td>\n      <td> 9.391918</td>\n      <td> 9.391918</td>\n      <td> 9.391918</td>\n      <td> 9.855688</td>\n      <td> 10.119315</td>\n    </tr>\n  </tbody>\n</table>\n<p>5 rows \u00d7 8 columns</p>\n</div>",
       "metadata": {},
       "output_type": "pyout",
       "prompt_number": 8,
       "text": "          2000-01-01 00:00:00  2000-01-01 03:00:00  2000-01-01 06:00:00  \\\n110-275              2.390922             9.148305             8.549519   \n110-423                   NaN                  NaN                  NaN   \n110N-275             7.802690             9.203258                  NaN   \n110N-423                  NaN                  NaN                  NaN   \n111-275             10.052074                  NaN             9.371891   \n\n          2000-01-01 09:00:00  2000-01-01 12:00:00  2000-01-01 15:00:00  \\\n110-275              8.467054             8.465127             8.467708   \n110-423                   NaN                  NaN                  NaN   \n110N-275                  NaN                  NaN                  NaN   \n110N-423                  NaN                  NaN                  NaN   \n111-275              9.391918             9.391918             9.391918   \n\n          2000-01-01 18:00:00  2000-01-01 21:00:00  \n110-275              8.808839             8.691148  \n110-423                   NaN                  NaN  \n110N-275                  NaN                  NaN  \n110N-423                  NaN                  NaN  \n111-275              9.855688            10.119315  \n\n[5 rows x 8 columns]"
      }
     ],
     "prompt_number": 8
    },
    {
     "cell_type": "code",
     "collapsed": false,
     "input": "# Get stops stats for first workweek of feed\ndates = feed.get_first_week()[:5]\nstops_stats = feed.get_stops_stats(dates)\nstops_stats",
     "language": "python",
     "metadata": {},
     "outputs": [
      {
       "output_type": "stream",
       "stream": "stdout",
       "text": "2014-05-25 11:22:40.426818 Calculating stops stats...\n2014-05-25 11:22:40.426886 Getting activity for 2713 trips over 5 dates...\n2014-05-25 11:23:08.747455"
      },
      {
       "output_type": "stream",
       "stream": "stdout",
       "text": " Finished routes stats in 0.47 min\n2014-05-25 11:23:10.211901"
      },
      {
       "output_type": "stream",
       "stream": "stdout",
       "text": " Finished stops stats in 0.48 min\n"
      },
      {
       "html": "<div style=\"max-height:1000px;max-width:1500px;overflow:auto;\">\n<table border=\"1\" class=\"dataframe\">\n  <thead>\n    <tr style=\"text-align: right;\">\n      <th></th>\n      <th>stop_id</th>\n      <th>min_start_time</th>\n      <th>max_end_time</th>\n      <th>mean_daily_num_vehicles</th>\n      <th>max_headway</th>\n      <th>mean_headway</th>\n    </tr>\n  </thead>\n  <tbody>\n    <tr>\n      <th>0 </th>\n      <td> 750000</td>\n      <td> 05:51:00</td>\n      <td> 22:13:00</td>\n      <td>  30</td>\n      <td>  1800</td>\n      <td>  1778</td>\n    </tr>\n    <tr>\n      <th>1 </th>\n      <td> 750001</td>\n      <td> 05:53:00</td>\n      <td> 22:15:00</td>\n      <td>  30</td>\n      <td>  1800</td>\n      <td>  1778</td>\n    </tr>\n    <tr>\n      <th>2 </th>\n      <td> 750002</td>\n      <td> 05:55:00</td>\n      <td> 22:17:00</td>\n      <td>  30</td>\n      <td>  1800</td>\n      <td>  1778</td>\n    </tr>\n    <tr>\n      <th>3 </th>\n      <td> 750003</td>\n      <td> 05:56:00</td>\n      <td> 22:18:00</td>\n      <td>  30</td>\n      <td>  1800</td>\n      <td>  1778</td>\n    </tr>\n    <tr>\n      <th>4 </th>\n      <td> 750004</td>\n      <td> 05:58:00</td>\n      <td> 22:20:00</td>\n      <td>  30</td>\n      <td>  1800</td>\n      <td>  1778</td>\n    </tr>\n    <tr>\n      <th>5 </th>\n      <td> 750005</td>\n      <td> 06:00:00</td>\n      <td> 22:22:00</td>\n      <td>  30</td>\n      <td>  1800</td>\n      <td>  1779</td>\n    </tr>\n    <tr>\n      <th>6 </th>\n      <td> 750006</td>\n      <td> 06:01:00</td>\n      <td> 22:23:00</td>\n      <td>  30</td>\n      <td>  1800</td>\n      <td>  1779</td>\n    </tr>\n    <tr>\n      <th>7 </th>\n      <td> 750007</td>\n      <td> 06:02:00</td>\n      <td> 22:24:00</td>\n      <td>  30</td>\n      <td>  1800</td>\n      <td>  1779</td>\n    </tr>\n    <tr>\n      <th>8 </th>\n      <td> 750008</td>\n      <td> 06:03:00</td>\n      <td> 22:25:00</td>\n      <td>  30</td>\n      <td>  1800</td>\n      <td>  1779</td>\n    </tr>\n    <tr>\n      <th>9 </th>\n      <td> 750009</td>\n      <td> 06:04:00</td>\n      <td> 22:26:00</td>\n      <td>  30</td>\n      <td>  1800</td>\n      <td>  1779</td>\n    </tr>\n    <tr>\n      <th>10</th>\n      <td> 750010</td>\n      <td> 06:05:00</td>\n      <td> 22:27:00</td>\n      <td>  30</td>\n      <td>  1800</td>\n      <td>  1779</td>\n    </tr>\n    <tr>\n      <th>11</th>\n      <td> 750011</td>\n      <td> 06:06:00</td>\n      <td> 22:28:00</td>\n      <td>  30</td>\n      <td>  1800</td>\n      <td>  1779</td>\n    </tr>\n    <tr>\n      <th>12</th>\n      <td> 750012</td>\n      <td> 06:06:00</td>\n      <td> 22:28:00</td>\n      <td>  30</td>\n      <td>  1800</td>\n      <td>  1779</td>\n    </tr>\n    <tr>\n      <th>13</th>\n      <td> 750013</td>\n      <td> 06:03:00</td>\n      <td> 22:39:00</td>\n      <td>  29</td>\n      <td>  3960</td>\n      <td>  1898</td>\n    </tr>\n    <tr>\n      <th>14</th>\n      <td> 750014</td>\n      <td> 06:08:00</td>\n      <td> 22:44:00</td>\n      <td>  29</td>\n      <td>  3960</td>\n      <td>  1898</td>\n    </tr>\n    <tr>\n      <th>15</th>\n      <td> 750015</td>\n      <td> 06:10:00</td>\n      <td> 22:46:00</td>\n      <td>  59</td>\n      <td>  1800</td>\n      <td>   908</td>\n    </tr>\n    <tr>\n      <th>16</th>\n      <td> 750016</td>\n      <td> 06:12:00</td>\n      <td> 22:48:00</td>\n      <td>  29</td>\n      <td>  3960</td>\n      <td>  1898</td>\n    </tr>\n    <tr>\n      <th>17</th>\n      <td> 750017</td>\n      <td> 06:13:00</td>\n      <td> 22:49:00</td>\n      <td>  29</td>\n      <td>  3960</td>\n      <td>  1898</td>\n    </tr>\n    <tr>\n      <th>18</th>\n      <td> 750018</td>\n      <td> 06:15:00</td>\n      <td> 24:24:00</td>\n      <td>  58</td>\n      <td>  1800</td>\n      <td>   949</td>\n    </tr>\n    <tr>\n      <th>19</th>\n      <td> 750019</td>\n      <td> 08:14:00</td>\n      <td> 24:24:00</td>\n      <td>  29</td>\n      <td>  1800</td>\n      <td>  1800</td>\n    </tr>\n    <tr>\n      <th>20</th>\n      <td> 750020</td>\n      <td> 06:16:00</td>\n      <td> 22:52:00</td>\n      <td>  29</td>\n      <td>  3960</td>\n      <td>  1898</td>\n    </tr>\n    <tr>\n      <th>21</th>\n      <td> 750021</td>\n      <td> 06:18:00</td>\n      <td> 22:54:00</td>\n      <td>  29</td>\n      <td>  3960</td>\n      <td>  1898</td>\n    </tr>\n    <tr>\n      <th>22</th>\n      <td> 750022</td>\n      <td> 08:17:00</td>\n      <td> 24:27:00</td>\n      <td>  29</td>\n      <td>  1800</td>\n      <td>  1800</td>\n    </tr>\n    <tr>\n      <th>23</th>\n      <td> 750024</td>\n      <td> 08:11:00</td>\n      <td> 24:21:00</td>\n      <td>  29</td>\n      <td>  1800</td>\n      <td>  1800</td>\n    </tr>\n    <tr>\n      <th>24</th>\n      <td> 750025</td>\n      <td> 08:11:00</td>\n      <td> 24:21:00</td>\n      <td>  29</td>\n      <td>  1800</td>\n      <td>  1800</td>\n    </tr>\n    <tr>\n      <th>25</th>\n      <td> 750026</td>\n      <td> 08:12:00</td>\n      <td> 24:22:00</td>\n      <td>  29</td>\n      <td>  1800</td>\n      <td>  1800</td>\n    </tr>\n    <tr>\n      <th>26</th>\n      <td> 750027</td>\n      <td> 08:15:00</td>\n      <td> 24:25:00</td>\n      <td>  29</td>\n      <td>  1800</td>\n      <td>  1800</td>\n    </tr>\n    <tr>\n      <th>27</th>\n      <td> 750028</td>\n      <td> 07:49:00</td>\n      <td> 24:28:00</td>\n      <td>  58</td>\n      <td>  1740</td>\n      <td>   900</td>\n    </tr>\n    <tr>\n      <th>28</th>\n      <td> 750029</td>\n      <td> 08:21:00</td>\n      <td> 24:31:00</td>\n      <td>  29</td>\n      <td>  1800</td>\n      <td>  1800</td>\n    </tr>\n    <tr>\n      <th>29</th>\n      <td> 750030</td>\n      <td> 08:23:00</td>\n      <td> 24:33:00</td>\n      <td>  29</td>\n      <td>  1800</td>\n      <td>  1800</td>\n    </tr>\n    <tr>\n      <th>30</th>\n      <td> 750031</td>\n      <td> 08:24:00</td>\n      <td> 24:34:00</td>\n      <td>  29</td>\n      <td>  1800</td>\n      <td>  1800</td>\n    </tr>\n    <tr>\n      <th>31</th>\n      <td> 750032</td>\n      <td> 08:24:00</td>\n      <td> 24:34:00</td>\n      <td>  29</td>\n      <td>  1800</td>\n      <td>  1800</td>\n    </tr>\n    <tr>\n      <th>32</th>\n      <td> 750033</td>\n      <td> 08:26:00</td>\n      <td> 24:36:00</td>\n      <td>  29</td>\n      <td>  1800</td>\n      <td>  1800</td>\n    </tr>\n    <tr>\n      <th>33</th>\n      <td> 750034</td>\n      <td> 07:52:00</td>\n      <td> 23:46:00</td>\n      <td>  29</td>\n      <td>  1800</td>\n      <td>  1800</td>\n    </tr>\n    <tr>\n      <th>34</th>\n      <td> 750035</td>\n      <td> 07:53:00</td>\n      <td> 23:47:00</td>\n      <td>  29</td>\n      <td>  1800</td>\n      <td>  1800</td>\n    </tr>\n    <tr>\n      <th>35</th>\n      <td> 750036</td>\n      <td> 07:58:00</td>\n      <td> 23:52:00</td>\n      <td>  29</td>\n      <td>  1800</td>\n      <td>  1800</td>\n    </tr>\n    <tr>\n      <th>36</th>\n      <td> 750037</td>\n      <td> 07:58:00</td>\n      <td> 23:52:00</td>\n      <td>  29</td>\n      <td>  1800</td>\n      <td>  1800</td>\n    </tr>\n    <tr>\n      <th>37</th>\n      <td> 750038</td>\n      <td> 08:00:00</td>\n      <td> 23:54:00</td>\n      <td>  29</td>\n      <td>  1800</td>\n      <td>  1800</td>\n    </tr>\n    <tr>\n      <th>38</th>\n      <td> 750039</td>\n      <td> 08:05:00</td>\n      <td> 23:59:00</td>\n      <td>  29</td>\n      <td>  1800</td>\n      <td>  1800</td>\n    </tr>\n    <tr>\n      <th>39</th>\n      <td> 750040</td>\n      <td> 08:06:00</td>\n      <td> 29:31:00</td>\n      <td>  30</td>\n      <td>  1800</td>\n      <td>  1800</td>\n    </tr>\n    <tr>\n      <th>40</th>\n      <td> 750041</td>\n      <td> 06:12:00</td>\n      <td> 22:32:00</td>\n      <td>  30</td>\n      <td>  1800</td>\n      <td>  1774</td>\n    </tr>\n    <tr>\n      <th>41</th>\n      <td> 750042</td>\n      <td> 06:13:00</td>\n      <td> 22:34:00</td>\n      <td>  30</td>\n      <td>  1800</td>\n      <td>  1777</td>\n    </tr>\n    <tr>\n      <th>42</th>\n      <td> 750043</td>\n      <td> 07:45:00</td>\n      <td> 23:40:00</td>\n      <td>  29</td>\n      <td>  1800</td>\n      <td>  1800</td>\n    </tr>\n    <tr>\n      <th>43</th>\n      <td> 750044</td>\n      <td> 08:04:00</td>\n      <td> 24:14:00</td>\n      <td>  29</td>\n      <td>  1800</td>\n      <td>  1800</td>\n    </tr>\n    <tr>\n      <th>44</th>\n      <td> 750045</td>\n      <td> 06:27:00</td>\n      <td> 23:03:00</td>\n      <td>  29</td>\n      <td>  1800</td>\n      <td>  1800</td>\n    </tr>\n    <tr>\n      <th>45</th>\n      <td> 750046</td>\n      <td> 06:28:00</td>\n      <td> 23:04:00</td>\n      <td>  44</td>\n      <td>  1800</td>\n      <td>  1224</td>\n    </tr>\n    <tr>\n      <th>46</th>\n      <td> 750047</td>\n      <td> 06:16:00</td>\n      <td> 24:09:00</td>\n      <td> 207</td>\n      <td>   900</td>\n      <td>   261</td>\n    </tr>\n    <tr>\n      <th>47</th>\n      <td> 750048</td>\n      <td> 06:17:00</td>\n      <td> 22:25:00</td>\n      <td>  32</td>\n      <td>  2280</td>\n      <td>  1725</td>\n    </tr>\n    <tr>\n      <th>48</th>\n      <td> 750049</td>\n      <td> 06:19:00</td>\n      <td> 22:27:00</td>\n      <td>  32</td>\n      <td>  2280</td>\n      <td>  1725</td>\n    </tr>\n    <tr>\n      <th>49</th>\n      <td> 750050</td>\n      <td> 07:27:00</td>\n      <td> 21:57:00</td>\n      <td>  31</td>\n      <td>  1800</td>\n      <td>  1725</td>\n    </tr>\n    <tr>\n      <th>50</th>\n      <td> 750051</td>\n      <td> 08:01:00</td>\n      <td> 24:11:00</td>\n      <td>  44</td>\n      <td>  1800</td>\n      <td>  1181</td>\n    </tr>\n    <tr>\n      <th>51</th>\n      <td> 750052</td>\n      <td> 06:19:00</td>\n      <td> 23:08:00</td>\n      <td>  59</td>\n      <td>  1140</td>\n      <td>   905</td>\n    </tr>\n    <tr>\n      <th>52</th>\n      <td> 750053</td>\n      <td> 05:36:00</td>\n      <td> 23:51:00</td>\n      <td> 154</td>\n      <td>   900</td>\n      <td>   356</td>\n    </tr>\n    <tr>\n      <th>53</th>\n      <td> 750054</td>\n      <td> 05:37:00</td>\n      <td> 21:37:00</td>\n      <td>  17</td>\n      <td>  3600</td>\n      <td>  3600</td>\n    </tr>\n    <tr>\n      <th>54</th>\n      <td> 750055</td>\n      <td> 06:15:00</td>\n      <td> 18:30:00</td>\n      <td>   6</td>\n      <td> 32100</td>\n      <td> 13100</td>\n    </tr>\n    <tr>\n      <th>55</th>\n      <td> 750056</td>\n      <td> 06:15:00</td>\n      <td> 22:09:00</td>\n      <td>  36</td>\n      <td>  3600</td>\n      <td>  1572</td>\n    </tr>\n    <tr>\n      <th>56</th>\n      <td> 750057</td>\n      <td> 06:16:00</td>\n      <td> 22:10:00</td>\n      <td>  21</td>\n      <td>  3600</td>\n      <td>  2807</td>\n    </tr>\n    <tr>\n      <th>57</th>\n      <td> 750058</td>\n      <td> 06:17:00</td>\n      <td> 22:10:00</td>\n      <td>  21</td>\n      <td>  3600</td>\n      <td>  2803</td>\n    </tr>\n    <tr>\n      <th>58</th>\n      <td> 750059</td>\n      <td> 06:18:00</td>\n      <td> 22:12:00</td>\n      <td>  21</td>\n      <td>  3600</td>\n      <td>  2803</td>\n    </tr>\n    <tr>\n      <th>59</th>\n      <td> 750060</td>\n      <td> 06:18:00</td>\n      <td> 22:12:00</td>\n      <td>  21</td>\n      <td>  3600</td>\n      <td>  2803</td>\n    </tr>\n    <tr>\n      <th></th>\n      <td>...</td>\n      <td>...</td>\n      <td>...</td>\n      <td>...</td>\n      <td>...</td>\n      <td>...</td>\n    </tr>\n  </tbody>\n</table>\n<p>411 rows \u00d7 6 columns</p>\n</div>",
       "metadata": {},
       "output_type": "pyout",
       "prompt_number": 9,
       "text": "   stop_id min_start_time max_end_time  mean_daily_num_vehicles  max_headway  \\\n0   750000       05:51:00     22:13:00                       30         1800   \n1   750001       05:53:00     22:15:00                       30         1800   \n2   750002       05:55:00     22:17:00                       30         1800   \n3   750003       05:56:00     22:18:00                       30         1800   \n4   750004       05:58:00     22:20:00                       30         1800   \n5   750005       06:00:00     22:22:00                       30         1800   \n6   750006       06:01:00     22:23:00                       30         1800   \n7   750007       06:02:00     22:24:00                       30         1800   \n8   750008       06:03:00     22:25:00                       30         1800   \n9   750009       06:04:00     22:26:00                       30         1800   \n10  750010       06:05:00     22:27:00                       30         1800   \n11  750011       06:06:00     22:28:00                       30         1800   \n12  750012       06:06:00     22:28:00                       30         1800   \n13  750013       06:03:00     22:39:00                       29         3960   \n14  750014       06:08:00     22:44:00                       29         3960   \n15  750015       06:10:00     22:46:00                       59         1800   \n16  750016       06:12:00     22:48:00                       29         3960   \n17  750017       06:13:00     22:49:00                       29         3960   \n18  750018       06:15:00     24:24:00                       58         1800   \n19  750019       08:14:00     24:24:00                       29         1800   \n20  750020       06:16:00     22:52:00                       29         3960   \n21  750021       06:18:00     22:54:00                       29         3960   \n22  750022       08:17:00     24:27:00                       29         1800   \n23  750024       08:11:00     24:21:00                       29         1800   \n24  750025       08:11:00     24:21:00                       29         1800   \n25  750026       08:12:00     24:22:00                       29         1800   \n26  750027       08:15:00     24:25:00                       29         1800   \n27  750028       07:49:00     24:28:00                       58         1740   \n28  750029       08:21:00     24:31:00                       29         1800   \n29  750030       08:23:00     24:33:00                       29         1800   \n30  750031       08:24:00     24:34:00                       29         1800   \n31  750032       08:24:00     24:34:00                       29         1800   \n32  750033       08:26:00     24:36:00                       29         1800   \n33  750034       07:52:00     23:46:00                       29         1800   \n34  750035       07:53:00     23:47:00                       29         1800   \n35  750036       07:58:00     23:52:00                       29         1800   \n36  750037       07:58:00     23:52:00                       29         1800   \n37  750038       08:00:00     23:54:00                       29         1800   \n38  750039       08:05:00     23:59:00                       29         1800   \n39  750040       08:06:00     29:31:00                       30         1800   \n40  750041       06:12:00     22:32:00                       30         1800   \n41  750042       06:13:00     22:34:00                       30         1800   \n42  750043       07:45:00     23:40:00                       29         1800   \n43  750044       08:04:00     24:14:00                       29         1800   \n44  750045       06:27:00     23:03:00                       29         1800   \n45  750046       06:28:00     23:04:00                       44         1800   \n46  750047       06:16:00     24:09:00                      207          900   \n47  750048       06:17:00     22:25:00                       32         2280   \n48  750049       06:19:00     22:27:00                       32         2280   \n49  750050       07:27:00     21:57:00                       31         1800   \n50  750051       08:01:00     24:11:00                       44         1800   \n51  750052       06:19:00     23:08:00                       59         1140   \n52  750053       05:36:00     23:51:00                      154          900   \n53  750054       05:37:00     21:37:00                       17         3600   \n54  750055       06:15:00     18:30:00                        6        32100   \n55  750056       06:15:00     22:09:00                       36         3600   \n56  750057       06:16:00     22:10:00                       21         3600   \n57  750058       06:17:00     22:10:00                       21         3600   \n58  750059       06:18:00     22:12:00                       21         3600   \n59  750060       06:18:00     22:12:00                       21         3600   \n       ...            ...          ...                      ...          ...   \n\n    mean_headway  \n0           1778  \n1           1778  \n2           1778  \n3           1778  \n4           1778  \n5           1779  \n6           1779  \n7           1779  \n8           1779  \n9           1779  \n10          1779  \n11          1779  \n12          1779  \n13          1898  \n14          1898  \n15           908  \n16          1898  \n17          1898  \n18           949  \n19          1800  \n20          1898  \n21          1898  \n22          1800  \n23          1800  \n24          1800  \n25          1800  \n26          1800  \n27           900  \n28          1800  \n29          1800  \n30          1800  \n31          1800  \n32          1800  \n33          1800  \n34          1800  \n35          1800  \n36          1800  \n37          1800  \n38          1800  \n39          1800  \n40          1774  \n41          1777  \n42          1800  \n43          1800  \n44          1800  \n45          1224  \n46           261  \n47          1725  \n48          1725  \n49          1725  \n50          1181  \n51           905  \n52           356  \n53          3600  \n54         13100  \n55          1572  \n56          2807  \n57          2803  \n58          2803  \n59          2803  \n             ...  \n\n[411 rows x 6 columns]"
      }
     ],
     "prompt_number": 9
    },
    {
     "cell_type": "code",
     "collapsed": false,
     "input": "# Draw histograms for stop headways\ncolors = ['red', 'blue'] \nalpha = 0.7\ncolumns = ['max_headway', 'mean_headway']\ntitles = ['Max Headway','Mean Headway']\nylabels = ['count', 'count']\nxlabels = ['minutes', 'minutes']\nbins = [[5*j for j in range(4*60//5)], [5*j for j in range(4*60//5)]]\nfig, axes = plt.subplots(nrows=1, ncols=2)\nfor (i, column) in enumerate(columns):\n    F = stops_stats[column]/60\n    F.hist(bins=bins[i], ax=axes[i], color=colors[i], alpha=alpha, figsize=(10, 5))\n    axes[i].set_title(titles[i])\n    axes[i].set_xlabel(xlabels[i])\n    axes[i].set_ylabel(ylabels[i])\n\nfig.tight_layout() # Or equivalently,  \"plt.tight_layout()\"\nplt.show()\n",
     "language": "python",
     "metadata": {},
     "outputs": [
      {
       "metadata": {},
       "output_type": "display_data",
       "png": "[encoded data removed]",
       "text": "<matplotlib.figure.Figure at 0x10601c210>"
      }
     ],
     "prompt_number": 11
    },
    {
     "cell_type": "code",
     "collapsed": false,
     "input": "# Create and dump all stats to CSV\nfeed.dump_all_stats()",
     "language": "python",
     "metadata": {},
     "outputs": [
      {
       "output_type": "stream",
       "stream": "stdout",
       "text": "2014-05-25 11:24:26.765013 Beginning process...\n2014-05-25 11:24:26.948653"
      },
      {
       "output_type": "stream",
       "stream": "stdout",
       "text": " Creating trip stats for 2713 trips...\n2014-05-25 11:24:30.445066"
      },
      {
       "output_type": "stream",
       "stream": "stdout",
       "text": " Finished trips stats in 0.05 min\n2014-05-25 11:24:30.455343 Creating routes stats for 2713 trips...\n2014-05-25 11:24:30.455416 Getting activity for 2713 trips over 5 dates...\n2014-05-25 11:24:58.044695"
      },
      {
       "output_type": "stream",
       "stream": "stdout",
       "text": " Finished routes stats in 0.45 min\n2014-05-25 11:24:58.316635"
      },
      {
       "output_type": "stream",
       "stream": "stdout",
       "text": " Finished routes stats in 0.45 min\n2014-05-25 11:24:58.318233 Creating routes time series for 2713 trips...\n2014-05-25 11:24:58.318349 Getting activity for 2713 trips over 5 dates...\n2014-05-25 11:25:29.611514"
      },
      {
       "output_type": "stream",
       "stream": "stdout",
       "text": " Finished routes stats in 0.52 min\nProgress 0.0%\rProgress 0.1%\rProgress 0.1%\rProgress 0.1%\rProgress 0.2%\rProgress 0.2%\rProgress 0.3%\rProgress 0.3%\rProgress 0.3%\rProgress 0.4%\rProgress 0.4%\rProgress 0.4%\rProgress 0.5%\rProgress 0.5%"
      },
      {
       "output_type": "stream",
       "stream": "stdout",
       "text": "\rProgress 0.6%\rProgress 0.6%\rProgress 0.6%\rProgress 0.7%\rProgress 0.7%\rProgress 0.7%\rProgress 0.8%\rProgress 0.8%\rProgress 0.8%\rProgress 0.9%\rProgress 0.9%\rProgress 1.0%"
      },
      {
       "output_type": "stream",
       "stream": "stdout",
       "text": "\rProgress 1.0%\rProgress 1.0%\rProgress 1.1%\rProgress 1.1%\rProgress 1.1%\rProgress 1.2%\rProgress 1.2%\rProgress 1.3%\rProgress 1.3%\rProgress 1.3%\rProgress 1.4%\rProgress 1.4%\rProgress 1.4%\rProgress 1.5%\rProgress 1.5%\rProgress 1.5%"
      },
      {
       "output_type": "stream",
       "stream": "stdout",
       "text": "\rProgress 1.6%\rProgress 1.6%\rProgress 1.7%\rProgress 1.7%\rProgress 1.7%\rProgress 1.8%\rProgress 1.8%\rProgress 1.8%\rProgress 1.9%\rProgress 1.9%\rProgress 2.0%\rProgress 2.0%\rProgress 2.0%\rProgress 2.1%\rProgress 2.1%\rProgress 2.1%"
      },
      {
       "output_type": "stream",
       "stream": "stdout",
       "text": "\rProgress 2.2%\rProgress 2.2%\rProgress 2.2%\rProgress 2.3%\rProgress 2.3%\rProgress 2.4%\rProgress 2.4%\rProgress 2.4%\rProgress 2.5%\rProgress 2.5%\rProgress 2.5%\rProgress 2.6%\rProgress 2.6%\rProgress 2.7%\rProgress 2.7%\rProgress 2.7%\rProgress 2.8%"
      },
      {
       "output_type": "stream",
       "stream": "stdout",
       "text": "\rProgress 2.8%\rProgress 2.8%\rProgress 2.9%\rProgress 2.9%\rProgress 2.9%\rProgress 3.0%\rProgress 3.0%\rProgress 3.1%\rProgress 3.1%\rProgress 3.1%\rProgress 3.2%\rProgress 3.2%\rProgress 3.2%\rProgress 3.3%\rProgress 3.3%\rProgress 3.4%\rProgress 3.4%"
      },
      {
       "output_type": "stream",
       "stream": "stdout",
       "text": "\rProgress 3.4%\rProgress 3.5%\rProgress 3.5%\rProgress 3.5%\rProgress 3.6%\rProgress 3.6%\rProgress 3.6%\rProgress 3.7%\rProgress 3.7%\rProgress 3.8%\rProgress 3.8%\rProgress 3.8%\rProgress 3.9%\rProgress 3.9%\rProgress 3.9%\rProgress 4.0%"
      },
      {
       "output_type": "stream",
       "stream": "stdout",
       "text": "\rProgress 4.0%\rProgress 4.1%\rProgress 4.1%\rProgress 4.1%\rProgress 4.2%\rProgress 4.2%\rProgress 4.2%\rProgress 4.3%\rProgress 4.3%\rProgress 4.3%\rProgress 4.4%\rProgress 4.4%\rProgress 4.5%\rProgress 4.5%\rProgress 4.5%\rProgress 4.6%\rProgress 4.6%"
      },
      {
       "output_type": "stream",
       "stream": "stdout",
       "text": "\rProgress 4.6%\rProgress 4.7%\rProgress 4.7%\rProgress 4.8%\rProgress 4.8%\rProgress 4.8%\rProgress 4.9%\rProgress 4.9%\rProgress 4.9%\rProgress 5.0%\rProgress 5.0%\rProgress 5.0%\rProgress 5.1%\rProgress 5.1%\rProgress 5.2%\rProgress 5.2%\rProgress 5.2%"
      },
      {
       "output_type": "stream",
       "stream": "stdout",
       "text": "\rProgress 5.3%\rProgress 5.3%\rProgress 5.3%\rProgress 5.4%\rProgress 5.4%\rProgress 5.5%\rProgress 5.5%\rProgress 5.5%\rProgress 5.6%\rProgress 5.6%\rProgress 5.6%\rProgress 5.7%\rProgress 5.7%\rProgress 5.8%\rProgress 5.8%\rProgress 5.8%\rProgress 5.9%"
      },
      {
       "output_type": "stream",
       "stream": "stdout",
       "text": "\rProgress 5.9%\rProgress 5.9%\rProgress 6.0%\rProgress 6.0%\rProgress 6.0%\rProgress 6.1%\rProgress 6.1%\rProgress 6.2%\rProgress 6.2%\rProgress 6.2%\rProgress 6.3%\rProgress 6.3%\rProgress 6.3%\rProgress 6.4%\rProgress 6.4%\rProgress 6.5%\rProgress 6.5%"
      },
      {
       "output_type": "stream",
       "stream": "stdout",
       "text": "\rProgress 6.5%\rProgress 6.6%\rProgress 6.6%\rProgress 6.6%\rProgress 6.7%\rProgress 6.7%\rProgress 6.7%\rProgress 6.8%\rProgress 6.8%\rProgress 6.9%\rProgress 6.9%\rProgress 6.9%\rProgress 7.0%\rProgress 7.0%\rProgress 7.0%\rProgress 7.1%\rProgress 7.1%"
      },
      {
       "output_type": "stream",
       "stream": "stdout",
       "text": "\rProgress 7.2%\rProgress 7.2%\rProgress 7.2%\rProgress 7.3%\rProgress 7.3%\rProgress 7.3%\rProgress 7.4%\rProgress 7.4%\rProgress 7.4%\rProgress 7.5%\rProgress 7.5%\rProgress 7.6%\rProgress 7.6%\rProgress 7.6%\rProgress 7.7%\rProgress 7.7%\rProgress 7.7%"
      },
      {
       "output_type": "stream",
       "stream": "stdout",
       "text": "\rProgress 7.8%\rProgress 7.8%\rProgress 7.9%\rProgress 7.9%\rProgress 7.9%\rProgress 8.0%\rProgress 8.0%\rProgress 8.0%\rProgress 8.1%\rProgress 8.1%\rProgress 8.1%\rProgress 8.2%\rProgress 8.2%\rProgress 8.3%\rProgress 8.3%\rProgress 8.3%\rProgress 8.4%"
      },
      {
       "output_type": "stream",
       "stream": "stdout",
       "text": "\rProgress 8.4%\rProgress 8.4%\rProgress 8.5%\rProgress 8.5%\rProgress 8.6%\rProgress 8.6%\rProgress 8.6%\rProgress 8.7%\rProgress 8.7%\rProgress 8.7%\rProgress 8.8%\rProgress 8.8%\rProgress 8.8%\rProgress 8.9%\rProgress 8.9%\rProgress 9.0%\rProgress 9.0%"
      },
      {
       "output_type": "stream",
       "stream": "stdout",
       "text": "\rProgress 9.0%\rProgress 9.1%\rProgress 9.1%\rProgress 9.1%\rProgress 9.2%\rProgress 9.2%\rProgress 9.3%\rProgress 9.3%\rProgress 9.3%\rProgress 9.4%\rProgress 9.4%\rProgress 9.4%\rProgress 9.5%\rProgress 9.5%\rProgress 9.5%\rProgress 9.6%\rProgress 9.6%"
      },
      {
       "output_type": "stream",
       "stream": "stdout",
       "text": "\rProgress 9.7%\rProgress 9.7%\rProgress 9.7%\rProgress 9.8%\rProgress 9.8%\rProgress 9.8%\rProgress 9.9%\rProgress 9.9%\rProgress 10.0%\rProgress 10.0%\rProgress 10.0%\rProgress 10.1%\rProgress 10.1%\rProgress 10.1%\rProgress 10.2%\rProgress 10.2%\rProgress 10.2%"
      },
      {
       "output_type": "stream",
       "stream": "stdout",
       "text": "\rProgress 10.3%\rProgress 10.3%\rProgress 10.4%\rProgress 10.4%\rProgress 10.4%\rProgress 10.5%\rProgress 10.5%\rProgress 10.5%\rProgress 10.6%\rProgress 10.6%\rProgress 10.7%\rProgress 10.7%"
      },
      {
       "output_type": "stream",
       "stream": "stdout",
       "text": "\rProgress 10.7%\rProgress 10.8%\rProgress 10.8%\rProgress 10.8%\rProgress 10.9%\rProgress 10.9%\rProgress 10.9%\rProgress 11.0%\rProgress 11.0%\rProgress 11.1%"
      },
      {
       "output_type": "stream",
       "stream": "stdout",
       "text": "\rProgress 11.1%\rProgress 11.1%\rProgress 11.2%\rProgress 11.2%\rProgress 11.2%\rProgress 11.3%\rProgress 11.3%"
      },
      {
       "output_type": "stream",
       "stream": "stdout",
       "text": "\rProgress 11.4%\rProgress 11.4%\rProgress 11.4%\rProgress 11.5%\rProgress 11.5%\rProgress 11.5%\rProgress 11.6%"
      },
      {
       "output_type": "stream",
       "stream": "stdout",
       "text": "\rProgress 11.6%\rProgress 11.6%\rProgress 11.7%\rProgress 11.7%\rProgress 11.8%\rProgress 11.8%\rProgress 11.8%"
      },
      {
       "output_type": "stream",
       "stream": "stdout",
       "text": "\rProgress 11.9%\rProgress 11.9%\rProgress 11.9%\rProgress 12.0%\rProgress 12.0%\rProgress 12.1%\rProgress 12.1%\rProgress 12.1%\rProgress 12.2%\rProgress 12.2%\rProgress 12.2%\rProgress 12.3%\rProgress 12.3%\rProgress 12.3%\rProgress 12.4%\rProgress 12.4%\rProgress 12.5%"
      },
      {
       "output_type": "stream",
       "stream": "stdout",
       "text": "\rProgress 12.5%\rProgress 12.5%\rProgress 12.6%\rProgress 12.6%\rProgress 12.6%\rProgress 12.7%\rProgress 12.7%\rProgress 12.8%\rProgress 12.8%\rProgress 12.8%\rProgress 12.9%\rProgress 12.9%\rProgress 12.9%\rProgress 13.0%"
      },
      {
       "output_type": "stream",
       "stream": "stdout",
       "text": "\rProgress 13.0%\rProgress 13.0%\rProgress 13.1%\rProgress 13.1%\rProgress 13.2%\rProgress 13.2%\rProgress 13.2%\rProgress 13.3%\rProgress 13.3%\rProgress 13.3%\rProgress 13.4%\rProgress 13.4%\rProgress 13.5%\rProgress 13.5%\rProgress 13.5%\rProgress 13.6%"
      },
      {
       "output_type": "stream",
       "stream": "stdout",
       "text": "\rProgress 13.6%\rProgress 13.6%\rProgress 13.7%\rProgress 13.7%\rProgress 13.7%\rProgress 13.8%\rProgress 13.8%\rProgress 13.9%\rProgress 13.9%\rProgress 13.9%\rProgress 14.0%\rProgress 14.0%\rProgress 14.0%\rProgress 14.1%\rProgress 14.1%\rProgress 14.2%"
      },
      {
       "output_type": "stream",
       "stream": "stdout",
       "text": "\rProgress 14.2%\rProgress 14.2%\rProgress 14.3%\rProgress 14.3%\rProgress 14.3%\rProgress 14.4%\rProgress 14.4%\rProgress 14.4%\rProgress 14.5%\rProgress 14.5%\rProgress 14.6%\rProgress 14.6%\rProgress 14.6%\rProgress 14.7%\rProgress 14.7%\rProgress 14.7%\rProgress 14.8%"
      },
      {
       "output_type": "stream",
       "stream": "stdout",
       "text": "\rProgress 14.8%\rProgress 14.9%\rProgress 14.9%\rProgress 14.9%\rProgress 15.0%\rProgress 15.0%\rProgress 15.0%\rProgress 15.1%\rProgress 15.1%\rProgress 15.1%\rProgress 15.2%\rProgress 15.2%\rProgress 15.3%\rProgress 15.3%\rProgress 15.3%\rProgress 15.4%\rProgress 15.4%"
      },
      {
       "output_type": "stream",
       "stream": "stdout",
       "text": "\rProgress 15.4%\rProgress 15.5%\rProgress 15.5%\rProgress 15.6%\rProgress 15.6%\rProgress 15.6%\rProgress 15.7%\rProgress 15.7%\rProgress 15.7%\rProgress 15.8%\rProgress 15.8%\rProgress 15.8%\rProgress 15.9%\rProgress 15.9%\rProgress 16.0%\rProgress 16.0%\rProgress 16.0%"
      },
      {
       "output_type": "stream",
       "stream": "stdout",
       "text": "\rProgress 16.1%\rProgress 16.1%\rProgress 16.1%\rProgress 16.2%\rProgress 16.2%\rProgress 16.3%\rProgress 16.3%\rProgress 16.3%\rProgress 16.4%\rProgress 16.4%\rProgress 16.4%\rProgress 16.5%\rProgress 16.5%\rProgress 16.5%\rProgress 16.6%\rProgress 16.6%\rProgress 16.7%"
      },
      {
       "output_type": "stream",
       "stream": "stdout",
       "text": "\rProgress 16.7%\rProgress 16.7%\rProgress 16.8%\rProgress 16.8%\rProgress 16.8%\rProgress 16.9%\rProgress 16.9%\rProgress 17.0%\rProgress 17.0%\rProgress 17.0%\rProgress 17.1%\rProgress 17.1%\rProgress 17.1%\rProgress 17.2%\rProgress 17.2%\rProgress 17.3%\rProgress 17.3%"
      },
      {
       "output_type": "stream",
       "stream": "stdout",
       "text": "\rProgress 17.3%\rProgress 17.4%\rProgress 17.4%\rProgress 17.4%\rProgress 17.5%\rProgress 17.5%\rProgress 17.5%\rProgress 17.6%\rProgress 17.6%\rProgress 17.7%\rProgress 17.7%\rProgress 17.7%\rProgress 17.8%\rProgress 17.8%\rProgress 17.8%\rProgress 17.9%\rProgress 17.9%"
      },
      {
       "output_type": "stream",
       "stream": "stdout",
       "text": "\rProgress 18.0%\rProgress 18.0%\rProgress 18.0%\rProgress 18.1%\rProgress 18.1%\rProgress 18.1%\rProgress 18.2%\rProgress 18.2%\rProgress 18.2%\rProgress 18.3%\rProgress 18.3%\rProgress 18.4%\rProgress 18.4%\rProgress 18.4%\rProgress 18.5%\rProgress 18.5%\rProgress 18.5%"
      },
      {
       "output_type": "stream",
       "stream": "stdout",
       "text": "\rProgress 18.6%\rProgress 18.6%\rProgress 18.7%\rProgress 18.7%\rProgress 18.7%\rProgress 18.8%\rProgress 18.8%\rProgress 18.8%\rProgress 18.9%\rProgress 18.9%\rProgress 18.9%\rProgress 19.0%\rProgress 19.0%\rProgress 19.1%\rProgress 19.1%\rProgress 19.1%\rProgress 19.2%"
      },
      {
       "output_type": "stream",
       "stream": "stdout",
       "text": "\rProgress 19.2%\rProgress 19.2%\rProgress 19.3%\rProgress 19.3%\rProgress 19.4%\rProgress 19.4%\rProgress 19.4%\rProgress 19.5%\rProgress 19.5%\rProgress 19.5%\rProgress 19.6%\rProgress 19.6%\rProgress 19.6%\rProgress 19.7%\rProgress 19.7%\rProgress 19.8%\rProgress 19.8%"
      },
      {
       "output_type": "stream",
       "stream": "stdout",
       "text": "\rProgress 19.8%\rProgress 19.9%\rProgress 19.9%\rProgress 19.9%\rProgress 20.0%\rProgress 20.0%\rProgress 20.1%\rProgress 20.1%\rProgress 20.1%\rProgress 20.2%\rProgress 20.2%\rProgress 20.2%\rProgress 20.3%\rProgress 20.3%\rProgress 20.3%\rProgress 20.4%\rProgress 20.4%"
      },
      {
       "output_type": "stream",
       "stream": "stdout",
       "text": "\rProgress 20.5%\rProgress 20.5%\rProgress 20.5%\rProgress 20.6%\rProgress 20.6%\rProgress 20.6%\rProgress 20.7%\rProgress 20.7%\rProgress 20.8%\rProgress 20.8%\rProgress 20.8%\rProgress 20.9%\rProgress 20.9%\rProgress 20.9%\rProgress 21.0%\rProgress 21.0%\rProgress 21.0%"
      },
      {
       "output_type": "stream",
       "stream": "stdout",
       "text": "\rProgress 21.1%\rProgress 21.1%\rProgress 21.2%\rProgress 21.2%\rProgress 21.2%\rProgress 21.3%\rProgress 21.3%\rProgress 21.3%\rProgress 21.4%\rProgress 21.4%\rProgress 21.5%\rProgress 21.5%\rProgress 21.5%\rProgress 21.6%\rProgress 21.6%\rProgress 21.6%"
      },
      {
       "output_type": "stream",
       "stream": "stdout",
       "text": "\rProgress 21.7%\rProgress 21.7%\rProgress 21.7%\rProgress 21.8%\rProgress 21.8%\rProgress 21.9%\rProgress 21.9%\rProgress 21.9%\rProgress 22.0%\rProgress 22.0%\rProgress 22.0%\rProgress 22.1%\rProgress 22.1%\rProgress 22.2%\rProgress 22.2%\rProgress 22.2%"
      },
      {
       "output_type": "stream",
       "stream": "stdout",
       "text": "\rProgress 22.3%\rProgress 22.3%\rProgress 22.3%\rProgress 22.4%\rProgress 22.4%\rProgress 22.4%\rProgress 22.5%\rProgress 22.5%\rProgress 22.6%\rProgress 22.6%\rProgress 22.6%\rProgress 22.7%\rProgress 22.7%\rProgress 22.7%\rProgress 22.8%\rProgress 22.8%"
      },
      {
       "output_type": "stream",
       "stream": "stdout",
       "text": "\rProgress 22.9%\rProgress 22.9%\rProgress 22.9%\rProgress 23.0%\rProgress 23.0%\rProgress 23.0%\rProgress 23.1%\rProgress 23.1%\rProgress 23.1%\rProgress 23.2%\rProgress 23.2%\rProgress 23.3%\rProgress 23.3%\rProgress 23.3%\rProgress 23.4%\rProgress 23.4%\rProgress 23.4%"
      },
      {
       "output_type": "stream",
       "stream": "stdout",
       "text": "\rProgress 23.5%\rProgress 23.5%\rProgress 23.6%\rProgress 23.6%\rProgress 23.6%\rProgress 23.7%\rProgress 23.7%\rProgress 23.7%\rProgress 23.8%\rProgress 23.8%\rProgress 23.8%\rProgress 23.9%\rProgress 23.9%\rProgress 24.0%\rProgress 24.0%\r2014-05-25 11:25:31.811385 Finished routes time series in 0.55 min\n2014-05-25 11:25:31.821768"
      },
      {
       "output_type": "stream",
       "stream": "stdout",
       "text": " Creating stops time series for 421 stops...\n2014-05-25 11:25:31.822173 Getting activity for 2713 trips over 5 dates...\n2014-05-25 11:25:58.989233"
      },
      {
       "output_type": "stream",
       "stream": "stdout",
       "text": " Finished routes stats in 0.45 min\nProgress 0.2%"
      },
      {
       "output_type": "stream",
       "stream": "stdout",
       "text": "\rProgress 0.5%\rProgress 0.7%\rProgress 1.0%"
      },
      {
       "output_type": "stream",
       "stream": "stdout",
       "text": "\rProgress 1.2%"
      },
      {
       "output_type": "stream",
       "stream": "stdout",
       "text": "\rProgress 1.4%\rProgress 1.7%"
      },
      {
       "output_type": "stream",
       "stream": "stdout",
       "text": "\rProgress 1.9%\rProgress 2.1%"
      },
      {
       "output_type": "stream",
       "stream": "stdout",
       "text": "\rProgress 2.4%\rProgress 2.6%"
      },
      {
       "output_type": "stream",
       "stream": "stdout",
       "text": "\rProgress 2.9%\rProgress 3.1%"
      },
      {
       "output_type": "stream",
       "stream": "stdout",
       "text": "\rProgress 3.3%\rProgress 3.6%"
      },
      {
       "output_type": "stream",
       "stream": "stdout",
       "text": "\rProgress 3.8%\rProgress 4.0%"
      },
      {
       "output_type": "stream",
       "stream": "stdout",
       "text": "\rProgress 4.3%\rProgress 4.5%"
      },
      {
       "output_type": "stream",
       "stream": "stdout",
       "text": "\rProgress 4.8%"
      },
      {
       "output_type": "stream",
       "stream": "stdout",
       "text": "\rProgress 5.0%\rProgress 5.2%"
      },
      {
       "output_type": "stream",
       "stream": "stdout",
       "text": "\rProgress 5.5%\rProgress 5.7%"
      },
      {
       "output_type": "stream",
       "stream": "stdout",
       "text": "\rProgress 5.9%\rProgress 6.2%"
      },
      {
       "output_type": "stream",
       "stream": "stdout",
       "text": "\rProgress 6.4%\rProgress 6.7%"
      },
      {
       "output_type": "stream",
       "stream": "stdout",
       "text": "\rProgress 6.9%"
      },
      {
       "output_type": "stream",
       "stream": "stdout",
       "text": "\rProgress 7.1%\rProgress 7.4%"
      },
      {
       "output_type": "stream",
       "stream": "stdout",
       "text": "\rProgress 7.6%\rProgress 7.8%\rProgress 8.1%"
      },
      {
       "output_type": "stream",
       "stream": "stdout",
       "text": "\rProgress 8.3%\rProgress 8.6%"
      },
      {
       "output_type": "stream",
       "stream": "stdout",
       "text": "\rProgress 8.8%\rProgress 9.0%"
      },
      {
       "output_type": "stream",
       "stream": "stdout",
       "text": "\rProgress 9.3%\rProgress 9.5%"
      },
      {
       "output_type": "stream",
       "stream": "stdout",
       "text": "\rProgress 9.7%\rProgress 10.0%"
      },
      {
       "output_type": "stream",
       "stream": "stdout",
       "text": "\rProgress 10.2%\rProgress 10.5%"
      },
      {
       "output_type": "stream",
       "stream": "stdout",
       "text": "\rProgress 10.7%\rProgress 10.9%"
      },
      {
       "output_type": "stream",
       "stream": "stdout",
       "text": "\rProgress 11.2%\rProgress 11.4%"
      },
      {
       "output_type": "stream",
       "stream": "stdout",
       "text": "\rProgress 11.6%\rProgress 11.9%\rProgress 12.1%"
      },
      {
       "output_type": "stream",
       "stream": "stdout",
       "text": "\rProgress 12.4%\rProgress 12.6%"
      },
      {
       "output_type": "stream",
       "stream": "stdout",
       "text": "\rProgress 12.8%"
      },
      {
       "output_type": "stream",
       "stream": "stdout",
       "text": "\rProgress 13.1%\rProgress 13.3%\rProgress 13.5%\rProgress 13.8%"
      },
      {
       "output_type": "stream",
       "stream": "stdout",
       "text": "\rProgress 14.0%\rProgress 14.3%\rProgress 14.5%\rProgress 14.7%"
      },
      {
       "output_type": "stream",
       "stream": "stdout",
       "text": "\rProgress 15.0%\rProgress 15.2%\rProgress 15.4%\rProgress 15.7%"
      },
      {
       "output_type": "stream",
       "stream": "stdout",
       "text": "\rProgress 15.9%\rProgress 16.2%"
      },
      {
       "output_type": "stream",
       "stream": "stdout",
       "text": "\rProgress 16.4%\rProgress 16.6%"
      },
      {
       "output_type": "stream",
       "stream": "stdout",
       "text": "\rProgress 16.9%\rProgress 17.1%"
      },
      {
       "output_type": "stream",
       "stream": "stdout",
       "text": "\rProgress 17.3%\rProgress 17.6%"
      },
      {
       "output_type": "stream",
       "stream": "stdout",
       "text": "\rProgress 17.8%\rProgress 18.1%\rProgress 18.3%"
      },
      {
       "output_type": "stream",
       "stream": "stdout",
       "text": "\rProgress 18.5%\rProgress 18.8%\rProgress 19.0%"
      },
      {
       "output_type": "stream",
       "stream": "stdout",
       "text": "\rProgress 19.2%\rProgress 19.5%\rProgress 19.7%"
      },
      {
       "output_type": "stream",
       "stream": "stdout",
       "text": "\rProgress 20.0%\rProgress 20.2%"
      },
      {
       "output_type": "stream",
       "stream": "stdout",
       "text": "\rProgress 20.4%\rProgress 20.7%\rProgress 20.9%"
      },
      {
       "output_type": "stream",
       "stream": "stdout",
       "text": "\rProgress 21.1%\rProgress 21.4%\rProgress 21.6%\rProgress 21.9%\rProgress 22.1%"
      },
      {
       "output_type": "stream",
       "stream": "stdout",
       "text": "\rProgress 22.3%\rProgress 22.6%\rProgress 22.8%\rProgress 23.0%\rProgress 23.3%"
      },
      {
       "output_type": "stream",
       "stream": "stdout",
       "text": "\rProgress 23.5%\rProgress 23.8%\rProgress 24.0%\rProgress 24.2%"
      },
      {
       "output_type": "stream",
       "stream": "stdout",
       "text": "\rProgress 24.5%"
      },
      {
       "output_type": "stream",
       "stream": "stdout",
       "text": "\rProgress 24.7%"
      },
      {
       "output_type": "stream",
       "stream": "stdout",
       "text": "\rProgress 24.9%"
      },
      {
       "output_type": "stream",
       "stream": "stdout",
       "text": "\rProgress 25.2%"
      },
      {
       "output_type": "stream",
       "stream": "stdout",
       "text": "\rProgress 25.4%"
      },
      {
       "output_type": "stream",
       "stream": "stdout",
       "text": "\rProgress 25.7%"
      },
      {
       "output_type": "stream",
       "stream": "stdout",
       "text": "\rProgress 25.9%"
      },
      {
       "output_type": "stream",
       "stream": "stdout",
       "text": "\rProgress 26.1%\rProgress 26.4%"
      },
      {
       "output_type": "stream",
       "stream": "stdout",
       "text": "\rProgress 26.6%\rProgress 26.8%\rProgress 27.1%"
      },
      {
       "output_type": "stream",
       "stream": "stdout",
       "text": "\rProgress 27.3%"
      },
      {
       "output_type": "stream",
       "stream": "stdout",
       "text": "\rProgress 27.6%"
      },
      {
       "output_type": "stream",
       "stream": "stdout",
       "text": "\rProgress 27.8%"
      },
      {
       "output_type": "stream",
       "stream": "stdout",
       "text": "\rProgress 28.0%"
      },
      {
       "output_type": "stream",
       "stream": "stdout",
       "text": "\rProgress 28.3%\rProgress 28.5%"
      },
      {
       "output_type": "stream",
       "stream": "stdout",
       "text": "\rProgress 28.7%"
      },
      {
       "output_type": "stream",
       "stream": "stdout",
       "text": "\rProgress 29.0%"
      },
      {
       "output_type": "stream",
       "stream": "stdout",
       "text": "\rProgress 29.2%"
      },
      {
       "output_type": "stream",
       "stream": "stdout",
       "text": "\rProgress 29.5%"
      },
      {
       "output_type": "stream",
       "stream": "stdout",
       "text": "\rProgress 29.7%"
      },
      {
       "output_type": "stream",
       "stream": "stdout",
       "text": "\rProgress 29.9%"
      },
      {
       "output_type": "stream",
       "stream": "stdout",
       "text": "\rProgress 30.2%"
      },
      {
       "output_type": "stream",
       "stream": "stdout",
       "text": "\rProgress 30.4%"
      },
      {
       "output_type": "stream",
       "stream": "stdout",
       "text": "\rProgress 30.6%"
      },
      {
       "output_type": "stream",
       "stream": "stdout",
       "text": "\rProgress 30.9%"
      },
      {
       "output_type": "stream",
       "stream": "stdout",
       "text": "\rProgress 31.1%"
      },
      {
       "output_type": "stream",
       "stream": "stdout",
       "text": "\rProgress 31.4%"
      },
      {
       "output_type": "stream",
       "stream": "stdout",
       "text": "\rProgress 31.6%"
      },
      {
       "output_type": "stream",
       "stream": "stdout",
       "text": "\rProgress 31.8%"
      },
      {
       "output_type": "stream",
       "stream": "stdout",
       "text": "\rProgress 32.1%"
      },
      {
       "output_type": "stream",
       "stream": "stdout",
       "text": "\rProgress 32.3%\rProgress 32.5%\rProgress 32.8%\rProgress 33.0%\rProgress 33.3%"
      },
      {
       "output_type": "stream",
       "stream": "stdout",
       "text": "\rProgress 33.5%\rProgress 33.7%\rProgress 34.0%\rProgress 34.2%"
      },
      {
       "output_type": "stream",
       "stream": "stdout",
       "text": "\rProgress 34.4%\rProgress 34.7%\rProgress 34.9%\rProgress 35.2%"
      },
      {
       "output_type": "stream",
       "stream": "stdout",
       "text": "\rProgress 35.4%\rProgress 35.6%\rProgress 35.9%\rProgress 36.1%"
      },
      {
       "output_type": "stream",
       "stream": "stdout",
       "text": "\rProgress 36.3%\rProgress 36.6%\rProgress 36.8%\rProgress 37.1%"
      },
      {
       "output_type": "stream",
       "stream": "stdout",
       "text": "\rProgress 37.3%\rProgress 37.5%\rProgress 37.8%\rProgress 38.0%\rProgress 38.2%"
      },
      {
       "output_type": "stream",
       "stream": "stdout",
       "text": "\rProgress 38.5%\rProgress 38.7%\rProgress 39.0%\rProgress 39.2%\rProgress 39.4%"
      },
      {
       "output_type": "stream",
       "stream": "stdout",
       "text": "\rProgress 39.7%\rProgress 39.9%\rProgress 40.1%\rProgress 40.4%\rProgress 40.6%"
      },
      {
       "output_type": "stream",
       "stream": "stdout",
       "text": "\rProgress 40.9%\rProgress 41.1%"
      },
      {
       "output_type": "stream",
       "stream": "stdout",
       "text": "\rProgress 41.3%"
      },
      {
       "output_type": "stream",
       "stream": "stdout",
       "text": "\rProgress 41.6%"
      },
      {
       "output_type": "stream",
       "stream": "stdout",
       "text": "\rProgress 41.8%"
      },
      {
       "output_type": "stream",
       "stream": "stdout",
       "text": "\rProgress 42.0%\rProgress 42.3%"
      },
      {
       "output_type": "stream",
       "stream": "stdout",
       "text": "\rProgress 42.5%\rProgress 42.8%\rProgress 43.0%"
      },
      {
       "output_type": "stream",
       "stream": "stdout",
       "text": "\rProgress 43.2%\rProgress 43.5%\rProgress 43.7%"
      },
      {
       "output_type": "stream",
       "stream": "stdout",
       "text": "\rProgress 43.9%\rProgress 44.2%\rProgress 44.4%"
      },
      {
       "output_type": "stream",
       "stream": "stdout",
       "text": "\rProgress 44.7%\rProgress 44.9%\rProgress 45.1%"
      },
      {
       "output_type": "stream",
       "stream": "stdout",
       "text": "\rProgress 45.4%\rProgress 45.6%\rProgress 45.8%"
      },
      {
       "output_type": "stream",
       "stream": "stdout",
       "text": "\rProgress 46.1%\rProgress 46.3%"
      },
      {
       "output_type": "stream",
       "stream": "stdout",
       "text": "\rProgress 46.6%"
      },
      {
       "output_type": "stream",
       "stream": "stdout",
       "text": "\rProgress 46.8%\rProgress 47.0%\rProgress 47.3%\rProgress 47.5%"
      },
      {
       "output_type": "stream",
       "stream": "stdout",
       "text": "\rProgress 47.7%\rProgress 48.0%\rProgress 48.2%\rProgress 48.5%\rProgress 48.7%"
      },
      {
       "output_type": "stream",
       "stream": "stdout",
       "text": "\rProgress 48.9%\rProgress 49.2%\rProgress 49.4%"
      },
      {
       "output_type": "stream",
       "stream": "stdout",
       "text": "\rProgress 49.6%\rProgress 49.9%\rProgress 50.1%"
      },
      {
       "output_type": "stream",
       "stream": "stdout",
       "text": "\rProgress 50.4%\rProgress 50.6%\rProgress 50.8%\rProgress 51.1%\rProgress 51.3%"
      },
      {
       "output_type": "stream",
       "stream": "stdout",
       "text": "\rProgress 51.5%\rProgress 51.8%\rProgress 52.0%\rProgress 52.3%\rProgress 52.5%"
      },
      {
       "output_type": "stream",
       "stream": "stdout",
       "text": "\rProgress 52.7%"
      },
      {
       "output_type": "stream",
       "stream": "stdout",
       "text": "\rProgress 53.0%"
      },
      {
       "output_type": "stream",
       "stream": "stdout",
       "text": "\rProgress 53.2%"
      },
      {
       "output_type": "stream",
       "stream": "stdout",
       "text": "\rProgress 53.4%"
      },
      {
       "output_type": "stream",
       "stream": "stdout",
       "text": "\rProgress 53.7%"
      },
      {
       "output_type": "stream",
       "stream": "stdout",
       "text": "\rProgress 53.9%"
      },
      {
       "output_type": "stream",
       "stream": "stdout",
       "text": "\rProgress 54.2%"
      },
      {
       "output_type": "stream",
       "stream": "stdout",
       "text": "\rProgress 54.4%"
      },
      {
       "output_type": "stream",
       "stream": "stdout",
       "text": "\rProgress 54.6%"
      },
      {
       "output_type": "stream",
       "stream": "stdout",
       "text": "\rProgress 54.9%"
      },
      {
       "output_type": "stream",
       "stream": "stdout",
       "text": "\rProgress 55.1%"
      },
      {
       "output_type": "stream",
       "stream": "stdout",
       "text": "\rProgress 55.3%"
      },
      {
       "output_type": "stream",
       "stream": "stdout",
       "text": "\rProgress 55.6%"
      },
      {
       "output_type": "stream",
       "stream": "stdout",
       "text": "\rProgress 55.8%\rProgress 56.1%"
      },
      {
       "output_type": "stream",
       "stream": "stdout",
       "text": "\rProgress 56.3%"
      },
      {
       "output_type": "stream",
       "stream": "stdout",
       "text": "\rProgress 56.5%"
      },
      {
       "output_type": "stream",
       "stream": "stdout",
       "text": "\rProgress 56.8%"
      },
      {
       "output_type": "stream",
       "stream": "stdout",
       "text": "\rProgress 57.0%"
      },
      {
       "output_type": "stream",
       "stream": "stdout",
       "text": "\rProgress 57.2%\rProgress 57.5%\rProgress 57.7%"
      },
      {
       "output_type": "stream",
       "stream": "stdout",
       "text": "\rProgress 58.0%\rProgress 58.2%\rProgress 58.4%"
      },
      {
       "output_type": "stream",
       "stream": "stdout",
       "text": "\rProgress 58.7%\rProgress 58.9%\rProgress 59.1%"
      },
      {
       "output_type": "stream",
       "stream": "stdout",
       "text": "\rProgress 59.4%\rProgress 59.6%\rProgress 59.9%"
      },
      {
       "output_type": "stream",
       "stream": "stdout",
       "text": "\rProgress 60.1%"
      },
      {
       "output_type": "stream",
       "stream": "stdout",
       "text": "\rProgress 60.3%\rProgress 60.6%\rProgress 60.8%"
      },
      {
       "output_type": "stream",
       "stream": "stdout",
       "text": "\rProgress 61.0%\rProgress 61.3%\rProgress 61.5%"
      },
      {
       "output_type": "stream",
       "stream": "stdout",
       "text": "\rProgress 61.8%\rProgress 62.0%\rProgress 62.2%\rProgress 62.5%"
      },
      {
       "output_type": "stream",
       "stream": "stdout",
       "text": "\rProgress 62.7%\rProgress 62.9%"
      },
      {
       "output_type": "stream",
       "stream": "stdout",
       "text": "\rProgress 63.2%\rProgress 63.4%\rProgress 63.7%"
      },
      {
       "output_type": "stream",
       "stream": "stdout",
       "text": "\rProgress 63.9%\rProgress 64.1%\rProgress 64.4%\rProgress 64.6%"
      },
      {
       "output_type": "stream",
       "stream": "stdout",
       "text": "\rProgress 64.8%\rProgress 65.1%\rProgress 65.3%\rProgress 65.6%"
      },
      {
       "output_type": "stream",
       "stream": "stdout",
       "text": "\rProgress 65.8%\rProgress 66.0%\rProgress 66.3%"
      },
      {
       "output_type": "stream",
       "stream": "stdout",
       "text": "\rProgress 66.5%\rProgress 66.7%\rProgress 67.0%\rProgress 67.2%"
      },
      {
       "output_type": "stream",
       "stream": "stdout",
       "text": "\rProgress 67.5%\rProgress 67.7%"
      },
      {
       "output_type": "stream",
       "stream": "stdout",
       "text": "\rProgress 67.9%\rProgress 68.2%\rProgress 68.4%\rProgress 68.6%"
      },
      {
       "output_type": "stream",
       "stream": "stdout",
       "text": "\rProgress 68.9%\rProgress 69.1%"
      },
      {
       "output_type": "stream",
       "stream": "stdout",
       "text": "\rProgress 69.4%\rProgress 69.6%\rProgress 69.8%"
      },
      {
       "output_type": "stream",
       "stream": "stdout",
       "text": "\rProgress 70.1%\rProgress 70.3%\rProgress 70.5%\rProgress 70.8%"
      },
      {
       "output_type": "stream",
       "stream": "stdout",
       "text": "\rProgress 71.0%\rProgress 71.3%\rProgress 71.5%\rProgress 71.7%"
      },
      {
       "output_type": "stream",
       "stream": "stdout",
       "text": "\rProgress 72.0%\rProgress 72.2%\rProgress 72.4%\rProgress 72.7%\rProgress 72.9%"
      },
      {
       "output_type": "stream",
       "stream": "stdout",
       "text": "\rProgress 73.2%\rProgress 73.4%\rProgress 73.6%"
      },
      {
       "output_type": "stream",
       "stream": "stdout",
       "text": "\rProgress 73.9%\rProgress 74.1%\rProgress 74.3%"
      },
      {
       "output_type": "stream",
       "stream": "stdout",
       "text": "\rProgress 74.6%\rProgress 74.8%"
      },
      {
       "output_type": "stream",
       "stream": "stdout",
       "text": "\rProgress 75.1%"
      },
      {
       "output_type": "stream",
       "stream": "stdout",
       "text": "\rProgress 75.3%"
      },
      {
       "output_type": "stream",
       "stream": "stdout",
       "text": "\rProgress 75.5%\rProgress 75.8%\rProgress 76.0%"
      },
      {
       "output_type": "stream",
       "stream": "stdout",
       "text": "\rProgress 76.2%\rProgress 76.5%\rProgress 76.7%"
      },
      {
       "output_type": "stream",
       "stream": "stdout",
       "text": "\rProgress 77.0%\rProgress 77.2%\rProgress 77.4%"
      },
      {
       "output_type": "stream",
       "stream": "stdout",
       "text": "\rProgress 77.7%\rProgress 77.9%\rProgress 78.1%"
      },
      {
       "output_type": "stream",
       "stream": "stdout",
       "text": "\rProgress 78.4%\rProgress 78.6%\rProgress 78.9%"
      },
      {
       "output_type": "stream",
       "stream": "stdout",
       "text": "\rProgress 79.1%\rProgress 79.3%\rProgress 79.6%"
      },
      {
       "output_type": "stream",
       "stream": "stdout",
       "text": "\rProgress 79.8%\rProgress 80.0%\rProgress 80.3%"
      },
      {
       "output_type": "stream",
       "stream": "stdout",
       "text": "\rProgress 80.5%\rProgress 80.8%\rProgress 81.0%"
      },
      {
       "output_type": "stream",
       "stream": "stdout",
       "text": "\rProgress 81.2%\rProgress 81.5%\rProgress 81.7%"
      },
      {
       "output_type": "stream",
       "stream": "stdout",
       "text": "\rProgress 81.9%\rProgress 82.2%\rProgress 82.4%\rProgress 82.7%"
      },
      {
       "output_type": "stream",
       "stream": "stdout",
       "text": "\rProgress 82.9%\rProgress 83.1%\rProgress 83.4%"
      },
      {
       "output_type": "stream",
       "stream": "stdout",
       "text": "\rProgress 83.6%\rProgress 83.8%\rProgress 84.1%"
      },
      {
       "output_type": "stream",
       "stream": "stdout",
       "text": "\rProgress 84.3%\rProgress 84.6%\rProgress 84.8%\rProgress 85.0%\rProgress 85.3%"
      },
      {
       "output_type": "stream",
       "stream": "stdout",
       "text": "\rProgress 85.5%\rProgress 85.7%\rProgress 86.0%\rProgress 86.2%"
      },
      {
       "output_type": "stream",
       "stream": "stdout",
       "text": "\rProgress 86.5%\rProgress 86.7%\rProgress 86.9%\rProgress 87.2%"
      },
      {
       "output_type": "stream",
       "stream": "stdout",
       "text": "\rProgress 87.4%\rProgress 87.6%\rProgress 87.9%\rProgress 88.1%"
      },
      {
       "output_type": "stream",
       "stream": "stdout",
       "text": "\rProgress 88.4%\rProgress 88.6%\rProgress 88.8%\rProgress 89.1%"
      },
      {
       "output_type": "stream",
       "stream": "stdout",
       "text": "\rProgress 89.3%\rProgress 89.5%\rProgress 89.8%\rProgress 90.0%"
      },
      {
       "output_type": "stream",
       "stream": "stdout",
       "text": "\rProgress 90.3%\rProgress 90.5%\rProgress 90.7%"
      },
      {
       "output_type": "stream",
       "stream": "stdout",
       "text": "\rProgress 91.0%\rProgress 91.2%\rProgress 91.4%\rProgress 91.7%"
      },
      {
       "output_type": "stream",
       "stream": "stdout",
       "text": "\rProgress 91.9%"
      },
      {
       "output_type": "stream",
       "stream": "stdout",
       "text": "\rProgress 92.2%\rProgress 92.4%\rProgress 92.6%\rProgress 92.9%"
      },
      {
       "output_type": "stream",
       "stream": "stdout",
       "text": "\rProgress 93.1%\rProgress 93.3%\rProgress 93.6%\rProgress 93.8%"
      },
      {
       "output_type": "stream",
       "stream": "stdout",
       "text": "\rProgress 94.1%\rProgress 94.3%\rProgress 94.5%"
      },
      {
       "output_type": "stream",
       "stream": "stdout",
       "text": "\rProgress 94.8%\rProgress 95.0%\rProgress 95.2%"
      },
      {
       "output_type": "stream",
       "stream": "stdout",
       "text": "\rProgress 95.5%\rProgress 95.7%\rProgress 96.0%"
      },
      {
       "output_type": "stream",
       "stream": "stdout",
       "text": "\rProgress 96.2%\rProgress 96.4%\rProgress 96.7%"
      },
      {
       "output_type": "stream",
       "stream": "stdout",
       "text": "\rProgress 96.9%\rProgress 97.1%\rProgress 97.4%\rProgress 97.6%\r2014-05-25 11:26:14.840179"
      },
      {
       "output_type": "stream",
       "stream": "stdout",
       "text": " Finished routes time series in 0.72 min\n2014-05-25 11:26:15.765699"
      },
      {
       "output_type": "stream",
       "stream": "stdout",
       "text": " Finished process in 1.82 min\n"
      },
      {
       "metadata": {},
       "output_type": "display_data",
       "png": "[encoded data removed]",
       "text": "<matplotlib.figure.Figure at 0x107f9ad50>"
      }
     ],
     "prompt_number": 12
    },
    {
     "cell_type": "code",
     "collapsed": false,
     "input": "",
     "language": "python",
     "metadata": {},
     "outputs": []
    }
   ],
   "metadata": {}
  }
 ]
}