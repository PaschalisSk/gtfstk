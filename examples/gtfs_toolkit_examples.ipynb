{
 "metadata": {
  "name": "gtfs_toolkit_examples"
 },
 "nbformat": 3,
 "nbformat_minor": 0,
 "worksheets": [
  {
   "cells": [
    {
     "cell_type": "code",
     "collapsed": false,
     "input": "from __future__ import division\nimport datetime as dt\nfrom collections import OrderedDict\nimport sys, os\nimport dateutil.relativedelta as rd\n\nimport pandas as pd\nimport numpy as np\nimport matplotlib.pyplot as plt\n\n%load_ext autoreload\n%autoreload 2\n%matplotlib inline  \n\n# Set your gtfs_toolkit path here\ngtfs_toolkit_path = '/Users/araichev/gtfs-toolkit/'\nsys.path.append(gtfs_toolkit_path)\nfrom gtfs_toolkit.feed import *",
     "language": "python",
     "metadata": {},
     "outputs": [
      {
       "output_type": "stream",
       "stream": "stdout",
       "text": "The autoreload extension is already loaded. To reload it, use:\n  %reload_ext autoreload\n"
      }
     ],
     "prompt_number": 38
    },
    {
     "cell_type": "code",
     "collapsed": false,
     "input": "# Import a feed\nfeed_path = gtfs_toolkit_path + 'gtfs_toolkit/tests/cairns_20140223.zip'\nfeed = Feed(feed_path)",
     "language": "python",
     "metadata": {},
     "outputs": [],
     "prompt_number": 39
    },
    {
     "cell_type": "code",
     "collapsed": false,
     "input": "# Get trips activity for the first week of the feed\ndates = feed.get_first_week()\nprint(dates)\ntrips_activity = feed.get_trips_activity(dates)\ntrips_activity",
     "language": "python",
     "metadata": {},
     "outputs": [
      {
       "output_type": "stream",
       "stream": "stdout",
       "text": "[datetime.date(2013, 12, 2), datetime.date(2013, 12, 3), datetime.date(2013, 12, 4), datetime.date(2013, 12, 5), datetime.date(2013, 12, 6), datetime.date(2013, 12, 7), datetime.date(2013, 12, 8)]\n2014-05-26 19:48:09.082804 Getting activity for 2713 trips over 7 dates...\n2014-05-26 19:48:09.448863"
      },
      {
       "output_type": "stream",
       "stream": "stdout",
       "text": " Finished trips activity in 0.00 min\n"
      },
      {
       "html": "<div style=\"max-height:1000px;max-width:1500px;overflow:auto;\">\n<table border=\"1\" class=\"dataframe\">\n  <thead>\n    <tr style=\"text-align: right;\">\n      <th></th>\n      <th>trip_id</th>\n      <th>direction_id</th>\n      <th>route_id</th>\n      <th>2013-12-02</th>\n      <th>2013-12-03</th>\n      <th>2013-12-04</th>\n      <th>2013-12-05</th>\n      <th>2013-12-06</th>\n      <th>2013-12-07</th>\n      <th>2013-12-08</th>\n    </tr>\n  </thead>\n  <tbody>\n    <tr>\n      <th>0 </th>\n      <td> CNS2014-CNS_MUL-Weekday-00-4165878</td>\n      <td> 0</td>\n      <td>  110-423</td>\n      <td> 0</td>\n      <td> 0</td>\n      <td> 0</td>\n      <td> 0</td>\n      <td> 0</td>\n      <td> 0</td>\n      <td> 0</td>\n    </tr>\n    <tr>\n      <th>1 </th>\n      <td> CNS2014-CNS_MUL-Weekday-00-4165879</td>\n      <td> 0</td>\n      <td>  110-423</td>\n      <td> 0</td>\n      <td> 0</td>\n      <td> 0</td>\n      <td> 0</td>\n      <td> 0</td>\n      <td> 0</td>\n      <td> 0</td>\n    </tr>\n    <tr>\n      <th>2 </th>\n      <td> CNS2014-CNS_MUL-Weekday-00-4165880</td>\n      <td> 0</td>\n      <td>  110-423</td>\n      <td> 0</td>\n      <td> 0</td>\n      <td> 0</td>\n      <td> 0</td>\n      <td> 0</td>\n      <td> 0</td>\n      <td> 0</td>\n    </tr>\n    <tr>\n      <th>3 </th>\n      <td> CNS2014-CNS_MUL-Weekday-00-4165881</td>\n      <td> 0</td>\n      <td>  110-423</td>\n      <td> 0</td>\n      <td> 0</td>\n      <td> 0</td>\n      <td> 0</td>\n      <td> 0</td>\n      <td> 0</td>\n      <td> 0</td>\n    </tr>\n    <tr>\n      <th>4 </th>\n      <td> CNS2014-CNS_MUL-Weekday-00-4165882</td>\n      <td> 0</td>\n      <td>  110-423</td>\n      <td> 0</td>\n      <td> 0</td>\n      <td> 0</td>\n      <td> 0</td>\n      <td> 0</td>\n      <td> 0</td>\n      <td> 0</td>\n    </tr>\n    <tr>\n      <th>5 </th>\n      <td> CNS2014-CNS_MUL-Weekday-00-4165883</td>\n      <td> 0</td>\n      <td>  110-423</td>\n      <td> 0</td>\n      <td> 0</td>\n      <td> 0</td>\n      <td> 0</td>\n      <td> 0</td>\n      <td> 0</td>\n      <td> 0</td>\n    </tr>\n    <tr>\n      <th>6 </th>\n      <td> CNS2014-CNS_MUL-Weekday-00-4165884</td>\n      <td> 0</td>\n      <td>  110-423</td>\n      <td> 0</td>\n      <td> 0</td>\n      <td> 0</td>\n      <td> 0</td>\n      <td> 0</td>\n      <td> 0</td>\n      <td> 0</td>\n    </tr>\n    <tr>\n      <th>7 </th>\n      <td> CNS2014-CNS_MUL-Weekday-00-4165885</td>\n      <td> 0</td>\n      <td>  110-423</td>\n      <td> 0</td>\n      <td> 0</td>\n      <td> 0</td>\n      <td> 0</td>\n      <td> 0</td>\n      <td> 0</td>\n      <td> 0</td>\n    </tr>\n    <tr>\n      <th>8 </th>\n      <td> CNS2014-CNS_MUL-Weekday-00-4165886</td>\n      <td> 0</td>\n      <td>  110-423</td>\n      <td> 0</td>\n      <td> 0</td>\n      <td> 0</td>\n      <td> 0</td>\n      <td> 0</td>\n      <td> 0</td>\n      <td> 0</td>\n    </tr>\n    <tr>\n      <th>9 </th>\n      <td> CNS2014-CNS_MUL-Weekday-00-4165887</td>\n      <td> 0</td>\n      <td>  110-423</td>\n      <td> 0</td>\n      <td> 0</td>\n      <td> 0</td>\n      <td> 0</td>\n      <td> 0</td>\n      <td> 0</td>\n      <td> 0</td>\n    </tr>\n    <tr>\n      <th>10</th>\n      <td> CNS2014-CNS_MUL-Weekday-00-4165888</td>\n      <td> 0</td>\n      <td>  110-423</td>\n      <td> 0</td>\n      <td> 0</td>\n      <td> 0</td>\n      <td> 0</td>\n      <td> 0</td>\n      <td> 0</td>\n      <td> 0</td>\n    </tr>\n    <tr>\n      <th>11</th>\n      <td> CNS2014-CNS_MUL-Weekday-00-4165889</td>\n      <td> 0</td>\n      <td>  110-423</td>\n      <td> 0</td>\n      <td> 0</td>\n      <td> 0</td>\n      <td> 0</td>\n      <td> 0</td>\n      <td> 0</td>\n      <td> 0</td>\n    </tr>\n    <tr>\n      <th>12</th>\n      <td> CNS2014-CNS_MUL-Weekday-00-4165890</td>\n      <td> 0</td>\n      <td>  110-423</td>\n      <td> 0</td>\n      <td> 0</td>\n      <td> 0</td>\n      <td> 0</td>\n      <td> 0</td>\n      <td> 0</td>\n      <td> 0</td>\n    </tr>\n    <tr>\n      <th>13</th>\n      <td> CNS2014-CNS_MUL-Weekday-00-4165891</td>\n      <td> 0</td>\n      <td>  110-423</td>\n      <td> 0</td>\n      <td> 0</td>\n      <td> 0</td>\n      <td> 0</td>\n      <td> 0</td>\n      <td> 0</td>\n      <td> 0</td>\n    </tr>\n    <tr>\n      <th>14</th>\n      <td> CNS2014-CNS_MUL-Weekday-00-4165892</td>\n      <td> 0</td>\n      <td>  110-423</td>\n      <td> 0</td>\n      <td> 0</td>\n      <td> 0</td>\n      <td> 0</td>\n      <td> 0</td>\n      <td> 0</td>\n      <td> 0</td>\n    </tr>\n    <tr>\n      <th>15</th>\n      <td> CNS2014-CNS_MUL-Weekday-00-4165893</td>\n      <td> 0</td>\n      <td>  110-423</td>\n      <td> 0</td>\n      <td> 0</td>\n      <td> 0</td>\n      <td> 0</td>\n      <td> 0</td>\n      <td> 0</td>\n      <td> 0</td>\n    </tr>\n    <tr>\n      <th>16</th>\n      <td> CNS2014-CNS_MUL-Weekday-00-4165894</td>\n      <td> 0</td>\n      <td>  110-423</td>\n      <td> 0</td>\n      <td> 0</td>\n      <td> 0</td>\n      <td> 0</td>\n      <td> 0</td>\n      <td> 0</td>\n      <td> 0</td>\n    </tr>\n    <tr>\n      <th>17</th>\n      <td> CNS2014-CNS_MUL-Weekday-00-4165895</td>\n      <td> 0</td>\n      <td>  110-423</td>\n      <td> 0</td>\n      <td> 0</td>\n      <td> 0</td>\n      <td> 0</td>\n      <td> 0</td>\n      <td> 0</td>\n      <td> 0</td>\n    </tr>\n    <tr>\n      <th>18</th>\n      <td> CNS2014-CNS_MUL-Weekday-00-4165896</td>\n      <td> 0</td>\n      <td>  110-423</td>\n      <td> 0</td>\n      <td> 0</td>\n      <td> 0</td>\n      <td> 0</td>\n      <td> 0</td>\n      <td> 0</td>\n      <td> 0</td>\n    </tr>\n    <tr>\n      <th>19</th>\n      <td> CNS2014-CNS_MUL-Weekday-00-4165897</td>\n      <td> 0</td>\n      <td>  110-423</td>\n      <td> 0</td>\n      <td> 0</td>\n      <td> 0</td>\n      <td> 0</td>\n      <td> 0</td>\n      <td> 0</td>\n      <td> 0</td>\n    </tr>\n    <tr>\n      <th>20</th>\n      <td> CNS2014-CNS_MUL-Weekday-00-4165898</td>\n      <td> 0</td>\n      <td>  110-423</td>\n      <td> 0</td>\n      <td> 0</td>\n      <td> 0</td>\n      <td> 0</td>\n      <td> 0</td>\n      <td> 0</td>\n      <td> 0</td>\n    </tr>\n    <tr>\n      <th>21</th>\n      <td> CNS2014-CNS_MUL-Weekday-00-4165899</td>\n      <td> 0</td>\n      <td>  110-423</td>\n      <td> 0</td>\n      <td> 0</td>\n      <td> 0</td>\n      <td> 0</td>\n      <td> 0</td>\n      <td> 0</td>\n      <td> 0</td>\n    </tr>\n    <tr>\n      <th>22</th>\n      <td> CNS2014-CNS_MUL-Weekday-00-4165900</td>\n      <td> 0</td>\n      <td>  110-423</td>\n      <td> 0</td>\n      <td> 0</td>\n      <td> 0</td>\n      <td> 0</td>\n      <td> 0</td>\n      <td> 0</td>\n      <td> 0</td>\n    </tr>\n    <tr>\n      <th>23</th>\n      <td> CNS2014-CNS_MUL-Weekday-00-4165901</td>\n      <td> 0</td>\n      <td>  110-423</td>\n      <td> 0</td>\n      <td> 0</td>\n      <td> 0</td>\n      <td> 0</td>\n      <td> 0</td>\n      <td> 0</td>\n      <td> 0</td>\n    </tr>\n    <tr>\n      <th>24</th>\n      <td> CNS2014-CNS_MUL-Weekday-00-4165902</td>\n      <td> 0</td>\n      <td>  110-423</td>\n      <td> 0</td>\n      <td> 0</td>\n      <td> 0</td>\n      <td> 0</td>\n      <td> 0</td>\n      <td> 0</td>\n      <td> 0</td>\n    </tr>\n    <tr>\n      <th>25</th>\n      <td> CNS2014-CNS_MUL-Weekday-00-4165903</td>\n      <td> 0</td>\n      <td>  110-423</td>\n      <td> 0</td>\n      <td> 0</td>\n      <td> 0</td>\n      <td> 0</td>\n      <td> 0</td>\n      <td> 0</td>\n      <td> 0</td>\n    </tr>\n    <tr>\n      <th>26</th>\n      <td> CNS2014-CNS_MUL-Weekday-00-4165904</td>\n      <td> 0</td>\n      <td>  110-423</td>\n      <td> 0</td>\n      <td> 0</td>\n      <td> 0</td>\n      <td> 0</td>\n      <td> 0</td>\n      <td> 0</td>\n      <td> 0</td>\n    </tr>\n    <tr>\n      <th>27</th>\n      <td> CNS2014-CNS_MUL-Weekday-00-4165905</td>\n      <td> 0</td>\n      <td>  110-423</td>\n      <td> 0</td>\n      <td> 0</td>\n      <td> 0</td>\n      <td> 0</td>\n      <td> 0</td>\n      <td> 0</td>\n      <td> 0</td>\n    </tr>\n    <tr>\n      <th>28</th>\n      <td> CNS2014-CNS_MUL-Weekday-00-4165906</td>\n      <td> 0</td>\n      <td>  110-423</td>\n      <td> 0</td>\n      <td> 0</td>\n      <td> 0</td>\n      <td> 0</td>\n      <td> 0</td>\n      <td> 0</td>\n      <td> 0</td>\n    </tr>\n    <tr>\n      <th>29</th>\n      <td> CNS2014-CNS_MUL-Weekday-00-4165907</td>\n      <td> 0</td>\n      <td>  110-423</td>\n      <td> 0</td>\n      <td> 0</td>\n      <td> 0</td>\n      <td> 0</td>\n      <td> 0</td>\n      <td> 0</td>\n      <td> 0</td>\n    </tr>\n    <tr>\n      <th>30</th>\n      <td> CNS2014-CNS_MUL-Weekday-00-4165908</td>\n      <td> 1</td>\n      <td>  110-423</td>\n      <td> 0</td>\n      <td> 0</td>\n      <td> 0</td>\n      <td> 0</td>\n      <td> 0</td>\n      <td> 0</td>\n      <td> 0</td>\n    </tr>\n    <tr>\n      <th>31</th>\n      <td> CNS2014-CNS_MUL-Weekday-00-4165909</td>\n      <td> 1</td>\n      <td>  110-423</td>\n      <td> 0</td>\n      <td> 0</td>\n      <td> 0</td>\n      <td> 0</td>\n      <td> 0</td>\n      <td> 0</td>\n      <td> 0</td>\n    </tr>\n    <tr>\n      <th>32</th>\n      <td> CNS2014-CNS_MUL-Weekday-00-4165910</td>\n      <td> 1</td>\n      <td>  110-423</td>\n      <td> 0</td>\n      <td> 0</td>\n      <td> 0</td>\n      <td> 0</td>\n      <td> 0</td>\n      <td> 0</td>\n      <td> 0</td>\n    </tr>\n    <tr>\n      <th>33</th>\n      <td> CNS2014-CNS_MUL-Weekday-00-4165911</td>\n      <td> 1</td>\n      <td>  110-423</td>\n      <td> 0</td>\n      <td> 0</td>\n      <td> 0</td>\n      <td> 0</td>\n      <td> 0</td>\n      <td> 0</td>\n      <td> 0</td>\n    </tr>\n    <tr>\n      <th>34</th>\n      <td> CNS2014-CNS_MUL-Weekday-00-4165912</td>\n      <td> 1</td>\n      <td>  110-423</td>\n      <td> 0</td>\n      <td> 0</td>\n      <td> 0</td>\n      <td> 0</td>\n      <td> 0</td>\n      <td> 0</td>\n      <td> 0</td>\n    </tr>\n    <tr>\n      <th>35</th>\n      <td> CNS2014-CNS_MUL-Weekday-00-4165913</td>\n      <td> 1</td>\n      <td>  110-423</td>\n      <td> 0</td>\n      <td> 0</td>\n      <td> 0</td>\n      <td> 0</td>\n      <td> 0</td>\n      <td> 0</td>\n      <td> 0</td>\n    </tr>\n    <tr>\n      <th>36</th>\n      <td> CNS2014-CNS_MUL-Weekday-00-4165914</td>\n      <td> 1</td>\n      <td>  110-423</td>\n      <td> 0</td>\n      <td> 0</td>\n      <td> 0</td>\n      <td> 0</td>\n      <td> 0</td>\n      <td> 0</td>\n      <td> 0</td>\n    </tr>\n    <tr>\n      <th>37</th>\n      <td> CNS2014-CNS_MUL-Weekday-00-4165915</td>\n      <td> 1</td>\n      <td>  110-423</td>\n      <td> 0</td>\n      <td> 0</td>\n      <td> 0</td>\n      <td> 0</td>\n      <td> 0</td>\n      <td> 0</td>\n      <td> 0</td>\n    </tr>\n    <tr>\n      <th>38</th>\n      <td> CNS2014-CNS_MUL-Weekday-00-4165916</td>\n      <td> 1</td>\n      <td>  110-423</td>\n      <td> 0</td>\n      <td> 0</td>\n      <td> 0</td>\n      <td> 0</td>\n      <td> 0</td>\n      <td> 0</td>\n      <td> 0</td>\n    </tr>\n    <tr>\n      <th>39</th>\n      <td> CNS2014-CNS_MUL-Weekday-00-4165917</td>\n      <td> 1</td>\n      <td>  110-423</td>\n      <td> 0</td>\n      <td> 0</td>\n      <td> 0</td>\n      <td> 0</td>\n      <td> 0</td>\n      <td> 0</td>\n      <td> 0</td>\n    </tr>\n    <tr>\n      <th>40</th>\n      <td> CNS2014-CNS_MUL-Weekday-00-4165918</td>\n      <td> 1</td>\n      <td>  110-423</td>\n      <td> 0</td>\n      <td> 0</td>\n      <td> 0</td>\n      <td> 0</td>\n      <td> 0</td>\n      <td> 0</td>\n      <td> 0</td>\n    </tr>\n    <tr>\n      <th>41</th>\n      <td> CNS2014-CNS_MUL-Weekday-00-4165919</td>\n      <td> 1</td>\n      <td>  110-423</td>\n      <td> 0</td>\n      <td> 0</td>\n      <td> 0</td>\n      <td> 0</td>\n      <td> 0</td>\n      <td> 0</td>\n      <td> 0</td>\n    </tr>\n    <tr>\n      <th>42</th>\n      <td> CNS2014-CNS_MUL-Weekday-00-4165920</td>\n      <td> 1</td>\n      <td>  110-423</td>\n      <td> 0</td>\n      <td> 0</td>\n      <td> 0</td>\n      <td> 0</td>\n      <td> 0</td>\n      <td> 0</td>\n      <td> 0</td>\n    </tr>\n    <tr>\n      <th>43</th>\n      <td> CNS2014-CNS_MUL-Weekday-00-4165921</td>\n      <td> 1</td>\n      <td>  110-423</td>\n      <td> 0</td>\n      <td> 0</td>\n      <td> 0</td>\n      <td> 0</td>\n      <td> 0</td>\n      <td> 0</td>\n      <td> 0</td>\n    </tr>\n    <tr>\n      <th>44</th>\n      <td> CNS2014-CNS_MUL-Weekday-00-4165922</td>\n      <td> 1</td>\n      <td>  110-423</td>\n      <td> 0</td>\n      <td> 0</td>\n      <td> 0</td>\n      <td> 0</td>\n      <td> 0</td>\n      <td> 0</td>\n      <td> 0</td>\n    </tr>\n    <tr>\n      <th>45</th>\n      <td> CNS2014-CNS_MUL-Weekday-00-4165923</td>\n      <td> 1</td>\n      <td>  110-423</td>\n      <td> 0</td>\n      <td> 0</td>\n      <td> 0</td>\n      <td> 0</td>\n      <td> 0</td>\n      <td> 0</td>\n      <td> 0</td>\n    </tr>\n    <tr>\n      <th>46</th>\n      <td> CNS2014-CNS_MUL-Weekday-00-4165924</td>\n      <td> 1</td>\n      <td>  110-423</td>\n      <td> 0</td>\n      <td> 0</td>\n      <td> 0</td>\n      <td> 0</td>\n      <td> 0</td>\n      <td> 0</td>\n      <td> 0</td>\n    </tr>\n    <tr>\n      <th>47</th>\n      <td> CNS2014-CNS_MUL-Weekday-00-4165925</td>\n      <td> 1</td>\n      <td>  110-423</td>\n      <td> 0</td>\n      <td> 0</td>\n      <td> 0</td>\n      <td> 0</td>\n      <td> 0</td>\n      <td> 0</td>\n      <td> 0</td>\n    </tr>\n    <tr>\n      <th>48</th>\n      <td> CNS2014-CNS_MUL-Weekday-00-4165926</td>\n      <td> 1</td>\n      <td>  110-423</td>\n      <td> 0</td>\n      <td> 0</td>\n      <td> 0</td>\n      <td> 0</td>\n      <td> 0</td>\n      <td> 0</td>\n      <td> 0</td>\n    </tr>\n    <tr>\n      <th>49</th>\n      <td> CNS2014-CNS_MUL-Weekday-00-4165927</td>\n      <td> 1</td>\n      <td>  110-423</td>\n      <td> 0</td>\n      <td> 0</td>\n      <td> 0</td>\n      <td> 0</td>\n      <td> 0</td>\n      <td> 0</td>\n      <td> 0</td>\n    </tr>\n    <tr>\n      <th>50</th>\n      <td> CNS2014-CNS_MUL-Weekday-00-4165928</td>\n      <td> 1</td>\n      <td>  110-423</td>\n      <td> 0</td>\n      <td> 0</td>\n      <td> 0</td>\n      <td> 0</td>\n      <td> 0</td>\n      <td> 0</td>\n      <td> 0</td>\n    </tr>\n    <tr>\n      <th>51</th>\n      <td> CNS2014-CNS_MUL-Weekday-00-4165929</td>\n      <td> 1</td>\n      <td>  110-423</td>\n      <td> 0</td>\n      <td> 0</td>\n      <td> 0</td>\n      <td> 0</td>\n      <td> 0</td>\n      <td> 0</td>\n      <td> 0</td>\n    </tr>\n    <tr>\n      <th>52</th>\n      <td> CNS2014-CNS_MUL-Weekday-00-4165930</td>\n      <td> 1</td>\n      <td>  110-423</td>\n      <td> 0</td>\n      <td> 0</td>\n      <td> 0</td>\n      <td> 0</td>\n      <td> 0</td>\n      <td> 0</td>\n      <td> 0</td>\n    </tr>\n    <tr>\n      <th>53</th>\n      <td> CNS2014-CNS_MUL-Weekday-00-4165931</td>\n      <td> 1</td>\n      <td>  110-423</td>\n      <td> 0</td>\n      <td> 0</td>\n      <td> 0</td>\n      <td> 0</td>\n      <td> 0</td>\n      <td> 0</td>\n      <td> 0</td>\n    </tr>\n    <tr>\n      <th>54</th>\n      <td> CNS2014-CNS_MUL-Weekday-00-4165932</td>\n      <td> 1</td>\n      <td>  110-423</td>\n      <td> 0</td>\n      <td> 0</td>\n      <td> 0</td>\n      <td> 0</td>\n      <td> 0</td>\n      <td> 0</td>\n      <td> 0</td>\n    </tr>\n    <tr>\n      <th>55</th>\n      <td> CNS2014-CNS_MUL-Weekday-00-4165933</td>\n      <td> 1</td>\n      <td>  110-423</td>\n      <td> 0</td>\n      <td> 0</td>\n      <td> 0</td>\n      <td> 0</td>\n      <td> 0</td>\n      <td> 0</td>\n      <td> 0</td>\n    </tr>\n    <tr>\n      <th>56</th>\n      <td> CNS2014-CNS_MUL-Weekday-00-4165934</td>\n      <td> 1</td>\n      <td>  110-423</td>\n      <td> 0</td>\n      <td> 0</td>\n      <td> 0</td>\n      <td> 0</td>\n      <td> 0</td>\n      <td> 0</td>\n      <td> 0</td>\n    </tr>\n    <tr>\n      <th>57</th>\n      <td> CNS2014-CNS_MUL-Weekday-00-4165935</td>\n      <td> 1</td>\n      <td>  110-423</td>\n      <td> 0</td>\n      <td> 0</td>\n      <td> 0</td>\n      <td> 0</td>\n      <td> 0</td>\n      <td> 0</td>\n      <td> 0</td>\n    </tr>\n    <tr>\n      <th>58</th>\n      <td> CNS2014-CNS_MUL-Weekday-00-4165936</td>\n      <td> 1</td>\n      <td>  110-423</td>\n      <td> 0</td>\n      <td> 0</td>\n      <td> 0</td>\n      <td> 0</td>\n      <td> 0</td>\n      <td> 0</td>\n      <td> 0</td>\n    </tr>\n    <tr>\n      <th>59</th>\n      <td> CNS2014-CNS_MUL-Weekday-00-4166103</td>\n      <td> 1</td>\n      <td> 110N-423</td>\n      <td> 0</td>\n      <td> 0</td>\n      <td> 0</td>\n      <td> 0</td>\n      <td> 0</td>\n      <td> 0</td>\n      <td> 0</td>\n    </tr>\n    <tr>\n      <th></th>\n      <td>...</td>\n      <td>...</td>\n      <td>...</td>\n      <td>...</td>\n      <td>...</td>\n      <td>...</td>\n      <td>...</td>\n      <td>...</td>\n      <td>...</td>\n      <td>...</td>\n    </tr>\n  </tbody>\n</table>\n<p>2713 rows \u00d7 10 columns</p>\n</div>",
       "metadata": {},
       "output_type": "pyout",
       "prompt_number": 40,
       "text": "                               trip_id  direction_id  route_id  2013-12-02  \\\n0   CNS2014-CNS_MUL-Weekday-00-4165878             0   110-423           0   \n1   CNS2014-CNS_MUL-Weekday-00-4165879             0   110-423           0   \n2   CNS2014-CNS_MUL-Weekday-00-4165880             0   110-423           0   \n3   CNS2014-CNS_MUL-Weekday-00-4165881             0   110-423           0   \n4   CNS2014-CNS_MUL-Weekday-00-4165882             0   110-423           0   \n5   CNS2014-CNS_MUL-Weekday-00-4165883             0   110-423           0   \n6   CNS2014-CNS_MUL-Weekday-00-4165884             0   110-423           0   \n7   CNS2014-CNS_MUL-Weekday-00-4165885             0   110-423           0   \n8   CNS2014-CNS_MUL-Weekday-00-4165886             0   110-423           0   \n9   CNS2014-CNS_MUL-Weekday-00-4165887             0   110-423           0   \n10  CNS2014-CNS_MUL-Weekday-00-4165888             0   110-423           0   \n11  CNS2014-CNS_MUL-Weekday-00-4165889             0   110-423           0   \n12  CNS2014-CNS_MUL-Weekday-00-4165890             0   110-423           0   \n13  CNS2014-CNS_MUL-Weekday-00-4165891             0   110-423           0   \n14  CNS2014-CNS_MUL-Weekday-00-4165892             0   110-423           0   \n15  CNS2014-CNS_MUL-Weekday-00-4165893             0   110-423           0   \n16  CNS2014-CNS_MUL-Weekday-00-4165894             0   110-423           0   \n17  CNS2014-CNS_MUL-Weekday-00-4165895             0   110-423           0   \n18  CNS2014-CNS_MUL-Weekday-00-4165896             0   110-423           0   \n19  CNS2014-CNS_MUL-Weekday-00-4165897             0   110-423           0   \n20  CNS2014-CNS_MUL-Weekday-00-4165898             0   110-423           0   \n21  CNS2014-CNS_MUL-Weekday-00-4165899             0   110-423           0   \n22  CNS2014-CNS_MUL-Weekday-00-4165900             0   110-423           0   \n23  CNS2014-CNS_MUL-Weekday-00-4165901             0   110-423           0   \n24  CNS2014-CNS_MUL-Weekday-00-4165902             0   110-423           0   \n25  CNS2014-CNS_MUL-Weekday-00-4165903             0   110-423           0   \n26  CNS2014-CNS_MUL-Weekday-00-4165904             0   110-423           0   \n27  CNS2014-CNS_MUL-Weekday-00-4165905             0   110-423           0   \n28  CNS2014-CNS_MUL-Weekday-00-4165906             0   110-423           0   \n29  CNS2014-CNS_MUL-Weekday-00-4165907             0   110-423           0   \n30  CNS2014-CNS_MUL-Weekday-00-4165908             1   110-423           0   \n31  CNS2014-CNS_MUL-Weekday-00-4165909             1   110-423           0   \n32  CNS2014-CNS_MUL-Weekday-00-4165910             1   110-423           0   \n33  CNS2014-CNS_MUL-Weekday-00-4165911             1   110-423           0   \n34  CNS2014-CNS_MUL-Weekday-00-4165912             1   110-423           0   \n35  CNS2014-CNS_MUL-Weekday-00-4165913             1   110-423           0   \n36  CNS2014-CNS_MUL-Weekday-00-4165914             1   110-423           0   \n37  CNS2014-CNS_MUL-Weekday-00-4165915             1   110-423           0   \n38  CNS2014-CNS_MUL-Weekday-00-4165916             1   110-423           0   \n39  CNS2014-CNS_MUL-Weekday-00-4165917             1   110-423           0   \n40  CNS2014-CNS_MUL-Weekday-00-4165918             1   110-423           0   \n41  CNS2014-CNS_MUL-Weekday-00-4165919             1   110-423           0   \n42  CNS2014-CNS_MUL-Weekday-00-4165920             1   110-423           0   \n43  CNS2014-CNS_MUL-Weekday-00-4165921             1   110-423           0   \n44  CNS2014-CNS_MUL-Weekday-00-4165922             1   110-423           0   \n45  CNS2014-CNS_MUL-Weekday-00-4165923             1   110-423           0   \n46  CNS2014-CNS_MUL-Weekday-00-4165924             1   110-423           0   \n47  CNS2014-CNS_MUL-Weekday-00-4165925             1   110-423           0   \n48  CNS2014-CNS_MUL-Weekday-00-4165926             1   110-423           0   \n49  CNS2014-CNS_MUL-Weekday-00-4165927             1   110-423           0   \n50  CNS2014-CNS_MUL-Weekday-00-4165928             1   110-423           0   \n51  CNS2014-CNS_MUL-Weekday-00-4165929             1   110-423           0   \n52  CNS2014-CNS_MUL-Weekday-00-4165930             1   110-423           0   \n53  CNS2014-CNS_MUL-Weekday-00-4165931             1   110-423           0   \n54  CNS2014-CNS_MUL-Weekday-00-4165932             1   110-423           0   \n55  CNS2014-CNS_MUL-Weekday-00-4165933             1   110-423           0   \n56  CNS2014-CNS_MUL-Weekday-00-4165934             1   110-423           0   \n57  CNS2014-CNS_MUL-Weekday-00-4165935             1   110-423           0   \n58  CNS2014-CNS_MUL-Weekday-00-4165936             1   110-423           0   \n59  CNS2014-CNS_MUL-Weekday-00-4166103             1  110N-423           0   \n                                   ...           ...       ...         ...   \n\n    2013-12-03  2013-12-04  2013-12-05  2013-12-06  2013-12-07  2013-12-08  \n0            0           0           0           0           0           0  \n1            0           0           0           0           0           0  \n2            0           0           0           0           0           0  \n3            0           0           0           0           0           0  \n4            0           0           0           0           0           0  \n5            0           0           0           0           0           0  \n6            0           0           0           0           0           0  \n7            0           0           0           0           0           0  \n8            0           0           0           0           0           0  \n9            0           0           0           0           0           0  \n10           0           0           0           0           0           0  \n11           0           0           0           0           0           0  \n12           0           0           0           0           0           0  \n13           0           0           0           0           0           0  \n14           0           0           0           0           0           0  \n15           0           0           0           0           0           0  \n16           0           0           0           0           0           0  \n17           0           0           0           0           0           0  \n18           0           0           0           0           0           0  \n19           0           0           0           0           0           0  \n20           0           0           0           0           0           0  \n21           0           0           0           0           0           0  \n22           0           0           0           0           0           0  \n23           0           0           0           0           0           0  \n24           0           0           0           0           0           0  \n25           0           0           0           0           0           0  \n26           0           0           0           0           0           0  \n27           0           0           0           0           0           0  \n28           0           0           0           0           0           0  \n29           0           0           0           0           0           0  \n30           0           0           0           0           0           0  \n31           0           0           0           0           0           0  \n32           0           0           0           0           0           0  \n33           0           0           0           0           0           0  \n34           0           0           0           0           0           0  \n35           0           0           0           0           0           0  \n36           0           0           0           0           0           0  \n37           0           0           0           0           0           0  \n38           0           0           0           0           0           0  \n39           0           0           0           0           0           0  \n40           0           0           0           0           0           0  \n41           0           0           0           0           0           0  \n42           0           0           0           0           0           0  \n43           0           0           0           0           0           0  \n44           0           0           0           0           0           0  \n45           0           0           0           0           0           0  \n46           0           0           0           0           0           0  \n47           0           0           0           0           0           0  \n48           0           0           0           0           0           0  \n49           0           0           0           0           0           0  \n50           0           0           0           0           0           0  \n51           0           0           0           0           0           0  \n52           0           0           0           0           0           0  \n53           0           0           0           0           0           0  \n54           0           0           0           0           0           0  \n55           0           0           0           0           0           0  \n56           0           0           0           0           0           0  \n57           0           0           0           0           0           0  \n58           0           0           0           0           0           0  \n59           0           0           0           0           0           0  \n           ...         ...         ...         ...         ...         ...  \n\n[2713 rows x 10 columns]"
      }
     ],
     "prompt_number": 40
    },
    {
     "cell_type": "code",
     "collapsed": false,
     "input": "# Get stops stats for first workweek of feed\ndates = feed.get_first_week()[:5]\nstops_stats = feed.get_stops_stats(dates)\nstops_stats",
     "language": "python",
     "metadata": {},
     "outputs": [
      {
       "output_type": "stream",
       "stream": "stdout",
       "text": "2014-05-26 19:48:13.191850 Calculating stops stats...\n2014-05-26 19:48:13.191924 Getting activity for 2713 trips over 5 dates...\n2014-05-26 19:48:13.494760"
      },
      {
       "output_type": "stream",
       "stream": "stdout",
       "text": " Finished trips activity in 0.00 min\n2014-05-26 19:48:16.881460"
      },
      {
       "output_type": "stream",
       "stream": "stdout",
       "text": " Finished stops stats in 0.05 min\n"
      },
      {
       "html": "<div style=\"max-height:1000px;max-width:1500px;overflow:auto;\">\n<table border=\"1\" class=\"dataframe\">\n  <thead>\n    <tr style=\"text-align: right;\">\n      <th></th>\n      <th>stop_id</th>\n      <th>direction_id</th>\n      <th>min_start_time</th>\n      <th>max_end_time</th>\n      <th>mean_daily_num_vehicles</th>\n      <th>max_headway</th>\n      <th>mean_headway</th>\n    </tr>\n  </thead>\n  <tbody>\n    <tr>\n      <th>0 </th>\n      <td> 750000</td>\n      <td> 0</td>\n      <td> 05:51:00</td>\n      <td> 22:13:00</td>\n      <td> 30</td>\n      <td> 1800</td>\n      <td> 1778</td>\n    </tr>\n    <tr>\n      <th>1 </th>\n      <td> 750000</td>\n      <td> 1</td>\n      <td>     None</td>\n      <td>     None</td>\n      <td>  0</td>\n      <td>  NaN</td>\n      <td>  NaN</td>\n    </tr>\n    <tr>\n      <th>2 </th>\n      <td> 750001</td>\n      <td> 0</td>\n      <td> 05:53:00</td>\n      <td> 22:15:00</td>\n      <td> 30</td>\n      <td> 1800</td>\n      <td> 1778</td>\n    </tr>\n    <tr>\n      <th>3 </th>\n      <td> 750001</td>\n      <td> 1</td>\n      <td>     None</td>\n      <td>     None</td>\n      <td>  0</td>\n      <td>  NaN</td>\n      <td>  NaN</td>\n    </tr>\n    <tr>\n      <th>4 </th>\n      <td> 750002</td>\n      <td> 0</td>\n      <td> 05:55:00</td>\n      <td> 22:17:00</td>\n      <td> 30</td>\n      <td> 1800</td>\n      <td> 1778</td>\n    </tr>\n    <tr>\n      <th>5 </th>\n      <td> 750002</td>\n      <td> 1</td>\n      <td>     None</td>\n      <td>     None</td>\n      <td>  0</td>\n      <td>  NaN</td>\n      <td>  NaN</td>\n    </tr>\n    <tr>\n      <th>6 </th>\n      <td> 750003</td>\n      <td> 0</td>\n      <td> 05:56:00</td>\n      <td> 22:18:00</td>\n      <td> 30</td>\n      <td> 1800</td>\n      <td> 1778</td>\n    </tr>\n    <tr>\n      <th>7 </th>\n      <td> 750003</td>\n      <td> 1</td>\n      <td>     None</td>\n      <td>     None</td>\n      <td>  0</td>\n      <td>  NaN</td>\n      <td>  NaN</td>\n    </tr>\n    <tr>\n      <th>8 </th>\n      <td> 750004</td>\n      <td> 0</td>\n      <td> 05:58:00</td>\n      <td> 22:20:00</td>\n      <td> 30</td>\n      <td> 1800</td>\n      <td> 1778</td>\n    </tr>\n    <tr>\n      <th>9 </th>\n      <td> 750004</td>\n      <td> 1</td>\n      <td>     None</td>\n      <td>     None</td>\n      <td>  0</td>\n      <td>  NaN</td>\n      <td>  NaN</td>\n    </tr>\n    <tr>\n      <th>10</th>\n      <td> 750005</td>\n      <td> 0</td>\n      <td> 06:00:00</td>\n      <td> 22:22:00</td>\n      <td> 30</td>\n      <td> 1800</td>\n      <td> 1779</td>\n    </tr>\n    <tr>\n      <th>11</th>\n      <td> 750005</td>\n      <td> 1</td>\n      <td>     None</td>\n      <td>     None</td>\n      <td>  0</td>\n      <td>  NaN</td>\n      <td>  NaN</td>\n    </tr>\n    <tr>\n      <th>12</th>\n      <td> 750006</td>\n      <td> 0</td>\n      <td> 06:01:00</td>\n      <td> 22:23:00</td>\n      <td> 30</td>\n      <td> 1800</td>\n      <td> 1779</td>\n    </tr>\n    <tr>\n      <th>13</th>\n      <td> 750006</td>\n      <td> 1</td>\n      <td>     None</td>\n      <td>     None</td>\n      <td>  0</td>\n      <td>  NaN</td>\n      <td>  NaN</td>\n    </tr>\n    <tr>\n      <th>14</th>\n      <td> 750007</td>\n      <td> 0</td>\n      <td> 06:02:00</td>\n      <td> 22:24:00</td>\n      <td> 30</td>\n      <td> 1800</td>\n      <td> 1779</td>\n    </tr>\n    <tr>\n      <th>15</th>\n      <td> 750007</td>\n      <td> 1</td>\n      <td>     None</td>\n      <td>     None</td>\n      <td>  0</td>\n      <td>  NaN</td>\n      <td>  NaN</td>\n    </tr>\n    <tr>\n      <th>16</th>\n      <td> 750008</td>\n      <td> 0</td>\n      <td> 06:03:00</td>\n      <td> 22:25:00</td>\n      <td> 30</td>\n      <td> 1800</td>\n      <td> 1779</td>\n    </tr>\n    <tr>\n      <th>17</th>\n      <td> 750008</td>\n      <td> 1</td>\n      <td>     None</td>\n      <td>     None</td>\n      <td>  0</td>\n      <td>  NaN</td>\n      <td>  NaN</td>\n    </tr>\n    <tr>\n      <th>18</th>\n      <td> 750009</td>\n      <td> 0</td>\n      <td> 06:04:00</td>\n      <td> 22:26:00</td>\n      <td> 30</td>\n      <td> 1800</td>\n      <td> 1779</td>\n    </tr>\n    <tr>\n      <th>19</th>\n      <td> 750009</td>\n      <td> 1</td>\n      <td>     None</td>\n      <td>     None</td>\n      <td>  0</td>\n      <td>  NaN</td>\n      <td>  NaN</td>\n    </tr>\n    <tr>\n      <th>20</th>\n      <td> 750010</td>\n      <td> 0</td>\n      <td> 06:05:00</td>\n      <td> 22:27:00</td>\n      <td> 30</td>\n      <td> 1800</td>\n      <td> 1779</td>\n    </tr>\n    <tr>\n      <th>21</th>\n      <td> 750010</td>\n      <td> 1</td>\n      <td>     None</td>\n      <td>     None</td>\n      <td>  0</td>\n      <td>  NaN</td>\n      <td>  NaN</td>\n    </tr>\n    <tr>\n      <th>22</th>\n      <td> 750011</td>\n      <td> 0</td>\n      <td> 06:06:00</td>\n      <td> 22:28:00</td>\n      <td> 30</td>\n      <td> 1800</td>\n      <td> 1779</td>\n    </tr>\n    <tr>\n      <th>23</th>\n      <td> 750011</td>\n      <td> 1</td>\n      <td>     None</td>\n      <td>     None</td>\n      <td>  0</td>\n      <td>  NaN</td>\n      <td>  NaN</td>\n    </tr>\n    <tr>\n      <th>24</th>\n      <td> 750012</td>\n      <td> 0</td>\n      <td> 06:06:00</td>\n      <td> 22:28:00</td>\n      <td> 30</td>\n      <td> 1800</td>\n      <td> 1779</td>\n    </tr>\n    <tr>\n      <th>25</th>\n      <td> 750012</td>\n      <td> 1</td>\n      <td>     None</td>\n      <td>     None</td>\n      <td>  0</td>\n      <td>  NaN</td>\n      <td>  NaN</td>\n    </tr>\n    <tr>\n      <th>26</th>\n      <td> 750013</td>\n      <td> 0</td>\n      <td> 06:03:00</td>\n      <td> 22:39:00</td>\n      <td> 29</td>\n      <td> 3960</td>\n      <td> 1898</td>\n    </tr>\n    <tr>\n      <th>27</th>\n      <td> 750013</td>\n      <td> 1</td>\n      <td>     None</td>\n      <td>     None</td>\n      <td>  0</td>\n      <td>  NaN</td>\n      <td>  NaN</td>\n    </tr>\n    <tr>\n      <th>28</th>\n      <td> 750014</td>\n      <td> 0</td>\n      <td> 06:08:00</td>\n      <td> 22:44:00</td>\n      <td> 29</td>\n      <td> 3960</td>\n      <td> 1898</td>\n    </tr>\n    <tr>\n      <th>29</th>\n      <td> 750014</td>\n      <td> 1</td>\n      <td>     None</td>\n      <td>     None</td>\n      <td>  0</td>\n      <td>  NaN</td>\n      <td>  NaN</td>\n    </tr>\n    <tr>\n      <th>30</th>\n      <td> 750015</td>\n      <td> 0</td>\n      <td> 06:10:00</td>\n      <td> 22:46:00</td>\n      <td> 59</td>\n      <td> 1800</td>\n      <td>  908</td>\n    </tr>\n    <tr>\n      <th>31</th>\n      <td> 750015</td>\n      <td> 1</td>\n      <td>     None</td>\n      <td>     None</td>\n      <td>  0</td>\n      <td>  NaN</td>\n      <td>  NaN</td>\n    </tr>\n    <tr>\n      <th>32</th>\n      <td> 750016</td>\n      <td> 0</td>\n      <td> 06:12:00</td>\n      <td> 22:48:00</td>\n      <td> 29</td>\n      <td> 3960</td>\n      <td> 1898</td>\n    </tr>\n    <tr>\n      <th>33</th>\n      <td> 750016</td>\n      <td> 1</td>\n      <td>     None</td>\n      <td>     None</td>\n      <td>  0</td>\n      <td>  NaN</td>\n      <td>  NaN</td>\n    </tr>\n    <tr>\n      <th>34</th>\n      <td> 750017</td>\n      <td> 0</td>\n      <td> 06:13:00</td>\n      <td> 22:49:00</td>\n      <td> 29</td>\n      <td> 3960</td>\n      <td> 1898</td>\n    </tr>\n    <tr>\n      <th>35</th>\n      <td> 750017</td>\n      <td> 1</td>\n      <td>     None</td>\n      <td>     None</td>\n      <td>  0</td>\n      <td>  NaN</td>\n      <td>  NaN</td>\n    </tr>\n    <tr>\n      <th>36</th>\n      <td> 750018</td>\n      <td> 0</td>\n      <td> 06:15:00</td>\n      <td> 22:51:00</td>\n      <td> 29</td>\n      <td> 3960</td>\n      <td> 1898</td>\n    </tr>\n    <tr>\n      <th>37</th>\n      <td> 750018</td>\n      <td> 1</td>\n      <td> 08:14:00</td>\n      <td> 24:24:00</td>\n      <td> 29</td>\n      <td> 1800</td>\n      <td> 1800</td>\n    </tr>\n    <tr>\n      <th>38</th>\n      <td> 750019</td>\n      <td> 0</td>\n      <td>     None</td>\n      <td>     None</td>\n      <td>  0</td>\n      <td>  NaN</td>\n      <td>  NaN</td>\n    </tr>\n    <tr>\n      <th>39</th>\n      <td> 750019</td>\n      <td> 1</td>\n      <td> 08:14:00</td>\n      <td> 24:24:00</td>\n      <td> 29</td>\n      <td> 1800</td>\n      <td> 1800</td>\n    </tr>\n    <tr>\n      <th>40</th>\n      <td> 750020</td>\n      <td> 0</td>\n      <td> 06:16:00</td>\n      <td> 22:52:00</td>\n      <td> 29</td>\n      <td> 3960</td>\n      <td> 1898</td>\n    </tr>\n    <tr>\n      <th>41</th>\n      <td> 750020</td>\n      <td> 1</td>\n      <td>     None</td>\n      <td>     None</td>\n      <td>  0</td>\n      <td>  NaN</td>\n      <td>  NaN</td>\n    </tr>\n    <tr>\n      <th>42</th>\n      <td> 750021</td>\n      <td> 0</td>\n      <td> 06:18:00</td>\n      <td> 22:54:00</td>\n      <td> 29</td>\n      <td> 3960</td>\n      <td> 1898</td>\n    </tr>\n    <tr>\n      <th>43</th>\n      <td> 750021</td>\n      <td> 1</td>\n      <td>     None</td>\n      <td>     None</td>\n      <td>  0</td>\n      <td>  NaN</td>\n      <td>  NaN</td>\n    </tr>\n    <tr>\n      <th>44</th>\n      <td> 750022</td>\n      <td> 0</td>\n      <td>     None</td>\n      <td>     None</td>\n      <td>  0</td>\n      <td>  NaN</td>\n      <td>  NaN</td>\n    </tr>\n    <tr>\n      <th>45</th>\n      <td> 750022</td>\n      <td> 1</td>\n      <td> 08:17:00</td>\n      <td> 24:27:00</td>\n      <td> 29</td>\n      <td> 1800</td>\n      <td> 1800</td>\n    </tr>\n    <tr>\n      <th>46</th>\n      <td> 750024</td>\n      <td> 0</td>\n      <td>     None</td>\n      <td>     None</td>\n      <td>  0</td>\n      <td>  NaN</td>\n      <td>  NaN</td>\n    </tr>\n    <tr>\n      <th>47</th>\n      <td> 750024</td>\n      <td> 1</td>\n      <td> 08:11:00</td>\n      <td> 24:21:00</td>\n      <td> 29</td>\n      <td> 1800</td>\n      <td> 1800</td>\n    </tr>\n    <tr>\n      <th>48</th>\n      <td> 750025</td>\n      <td> 0</td>\n      <td>     None</td>\n      <td>     None</td>\n      <td>  0</td>\n      <td>  NaN</td>\n      <td>  NaN</td>\n    </tr>\n    <tr>\n      <th>49</th>\n      <td> 750025</td>\n      <td> 1</td>\n      <td> 08:11:00</td>\n      <td> 24:21:00</td>\n      <td> 29</td>\n      <td> 1800</td>\n      <td> 1800</td>\n    </tr>\n    <tr>\n      <th>50</th>\n      <td> 750026</td>\n      <td> 0</td>\n      <td>     None</td>\n      <td>     None</td>\n      <td>  0</td>\n      <td>  NaN</td>\n      <td>  NaN</td>\n    </tr>\n    <tr>\n      <th>51</th>\n      <td> 750026</td>\n      <td> 1</td>\n      <td> 08:12:00</td>\n      <td> 24:22:00</td>\n      <td> 29</td>\n      <td> 1800</td>\n      <td> 1800</td>\n    </tr>\n    <tr>\n      <th>52</th>\n      <td> 750027</td>\n      <td> 0</td>\n      <td>     None</td>\n      <td>     None</td>\n      <td>  0</td>\n      <td>  NaN</td>\n      <td>  NaN</td>\n    </tr>\n    <tr>\n      <th>53</th>\n      <td> 750027</td>\n      <td> 1</td>\n      <td> 08:15:00</td>\n      <td> 24:25:00</td>\n      <td> 29</td>\n      <td> 1800</td>\n      <td> 1800</td>\n    </tr>\n    <tr>\n      <th>54</th>\n      <td> 750028</td>\n      <td> 0</td>\n      <td>     None</td>\n      <td>     None</td>\n      <td>  0</td>\n      <td>  NaN</td>\n      <td>  NaN</td>\n    </tr>\n    <tr>\n      <th>55</th>\n      <td> 750028</td>\n      <td> 1</td>\n      <td> 07:49:00</td>\n      <td> 24:28:00</td>\n      <td> 58</td>\n      <td> 1740</td>\n      <td>  900</td>\n    </tr>\n    <tr>\n      <th>56</th>\n      <td> 750029</td>\n      <td> 0</td>\n      <td>     None</td>\n      <td>     None</td>\n      <td>  0</td>\n      <td>  NaN</td>\n      <td>  NaN</td>\n    </tr>\n    <tr>\n      <th>57</th>\n      <td> 750029</td>\n      <td> 1</td>\n      <td> 08:21:00</td>\n      <td> 24:31:00</td>\n      <td> 29</td>\n      <td> 1800</td>\n      <td> 1800</td>\n    </tr>\n    <tr>\n      <th>58</th>\n      <td> 750030</td>\n      <td> 0</td>\n      <td>     None</td>\n      <td>     None</td>\n      <td>  0</td>\n      <td>  NaN</td>\n      <td>  NaN</td>\n    </tr>\n    <tr>\n      <th>59</th>\n      <td> 750030</td>\n      <td> 1</td>\n      <td> 08:23:00</td>\n      <td> 24:33:00</td>\n      <td> 29</td>\n      <td> 1800</td>\n      <td> 1800</td>\n    </tr>\n    <tr>\n      <th></th>\n      <td>...</td>\n      <td>...</td>\n      <td>...</td>\n      <td>...</td>\n      <td>...</td>\n      <td>...</td>\n      <td>...</td>\n    </tr>\n  </tbody>\n</table>\n<p>822 rows \u00d7 7 columns</p>\n</div>",
       "metadata": {},
       "output_type": "pyout",
       "prompt_number": 41,
       "text": "   stop_id  direction_id min_start_time max_end_time  mean_daily_num_vehicles  \\\n0   750000             0       05:51:00     22:13:00                       30   \n1   750000             1           None         None                        0   \n2   750001             0       05:53:00     22:15:00                       30   \n3   750001             1           None         None                        0   \n4   750002             0       05:55:00     22:17:00                       30   \n5   750002             1           None         None                        0   \n6   750003             0       05:56:00     22:18:00                       30   \n7   750003             1           None         None                        0   \n8   750004             0       05:58:00     22:20:00                       30   \n9   750004             1           None         None                        0   \n10  750005             0       06:00:00     22:22:00                       30   \n11  750005             1           None         None                        0   \n12  750006             0       06:01:00     22:23:00                       30   \n13  750006             1           None         None                        0   \n14  750007             0       06:02:00     22:24:00                       30   \n15  750007             1           None         None                        0   \n16  750008             0       06:03:00     22:25:00                       30   \n17  750008             1           None         None                        0   \n18  750009             0       06:04:00     22:26:00                       30   \n19  750009             1           None         None                        0   \n20  750010             0       06:05:00     22:27:00                       30   \n21  750010             1           None         None                        0   \n22  750011             0       06:06:00     22:28:00                       30   \n23  750011             1           None         None                        0   \n24  750012             0       06:06:00     22:28:00                       30   \n25  750012             1           None         None                        0   \n26  750013             0       06:03:00     22:39:00                       29   \n27  750013             1           None         None                        0   \n28  750014             0       06:08:00     22:44:00                       29   \n29  750014             1           None         None                        0   \n30  750015             0       06:10:00     22:46:00                       59   \n31  750015             1           None         None                        0   \n32  750016             0       06:12:00     22:48:00                       29   \n33  750016             1           None         None                        0   \n34  750017             0       06:13:00     22:49:00                       29   \n35  750017             1           None         None                        0   \n36  750018             0       06:15:00     22:51:00                       29   \n37  750018             1       08:14:00     24:24:00                       29   \n38  750019             0           None         None                        0   \n39  750019             1       08:14:00     24:24:00                       29   \n40  750020             0       06:16:00     22:52:00                       29   \n41  750020             1           None         None                        0   \n42  750021             0       06:18:00     22:54:00                       29   \n43  750021             1           None         None                        0   \n44  750022             0           None         None                        0   \n45  750022             1       08:17:00     24:27:00                       29   \n46  750024             0           None         None                        0   \n47  750024             1       08:11:00     24:21:00                       29   \n48  750025             0           None         None                        0   \n49  750025             1       08:11:00     24:21:00                       29   \n50  750026             0           None         None                        0   \n51  750026             1       08:12:00     24:22:00                       29   \n52  750027             0           None         None                        0   \n53  750027             1       08:15:00     24:25:00                       29   \n54  750028             0           None         None                        0   \n55  750028             1       07:49:00     24:28:00                       58   \n56  750029             0           None         None                        0   \n57  750029             1       08:21:00     24:31:00                       29   \n58  750030             0           None         None                        0   \n59  750030             1       08:23:00     24:33:00                       29   \n       ...           ...            ...          ...                      ...   \n\n    max_headway  mean_headway  \n0          1800          1778  \n1           NaN           NaN  \n2          1800          1778  \n3           NaN           NaN  \n4          1800          1778  \n5           NaN           NaN  \n6          1800          1778  \n7           NaN           NaN  \n8          1800          1778  \n9           NaN           NaN  \n10         1800          1779  \n11          NaN           NaN  \n12         1800          1779  \n13          NaN           NaN  \n14         1800          1779  \n15          NaN           NaN  \n16         1800          1779  \n17          NaN           NaN  \n18         1800          1779  \n19          NaN           NaN  \n20         1800          1779  \n21          NaN           NaN  \n22         1800          1779  \n23          NaN           NaN  \n24         1800          1779  \n25          NaN           NaN  \n26         3960          1898  \n27          NaN           NaN  \n28         3960          1898  \n29          NaN           NaN  \n30         1800           908  \n31          NaN           NaN  \n32         3960          1898  \n33          NaN           NaN  \n34         3960          1898  \n35          NaN           NaN  \n36         3960          1898  \n37         1800          1800  \n38          NaN           NaN  \n39         1800          1800  \n40         3960          1898  \n41          NaN           NaN  \n42         3960          1898  \n43          NaN           NaN  \n44          NaN           NaN  \n45         1800          1800  \n46          NaN           NaN  \n47         1800          1800  \n48          NaN           NaN  \n49         1800          1800  \n50          NaN           NaN  \n51         1800          1800  \n52          NaN           NaN  \n53         1800          1800  \n54          NaN           NaN  \n55         1740           900  \n56          NaN           NaN  \n57         1800          1800  \n58          NaN           NaN  \n59         1800          1800  \n            ...           ...  \n\n[822 rows x 7 columns]"
      }
     ],
     "prompt_number": 41
    },
    {
     "cell_type": "code",
     "collapsed": false,
     "input": "# Get trips stats\ntrips_stats = feed.get_trips_stats()\ntrips_stats",
     "language": "python",
     "metadata": {},
     "outputs": [
      {
       "output_type": "stream",
       "stream": "stdout",
       "text": "2014-05-26 19:49:09.183475 Creating trip stats for 2713 trips...\n2014-05-26 19:49:13.740751"
      },
      {
       "output_type": "stream",
       "stream": "stdout",
       "text": " Finished trips stats in 0.07 min\n"
      },
      {
       "html": "<div style=\"max-height:1000px;max-width:1500px;overflow:auto;\">\n<table border=\"1\" class=\"dataframe\">\n  <thead>\n    <tr style=\"text-align: right;\">\n      <th></th>\n      <th>route_id</th>\n      <th>trip_id</th>\n      <th>direction_id</th>\n      <th>start_time</th>\n      <th>end_time</th>\n      <th>duration</th>\n      <th>start_stop</th>\n      <th>end_stop</th>\n      <th>shape_id</th>\n      <th>distance</th>\n    </tr>\n  </thead>\n  <tbody>\n    <tr>\n      <th>0 </th>\n      <td>  110-423</td>\n      <td> CNS2014-CNS_MUL-Weekday-00-4165878</td>\n      <td> 0</td>\n      <td> 05:50:00</td>\n      <td> 06:50:00</td>\n      <td> 3600</td>\n      <td> 750337</td>\n      <td> 750449</td>\n      <td>  1100023</td>\n      <td> 32507</td>\n    </tr>\n    <tr>\n      <th>1 </th>\n      <td>  110-423</td>\n      <td> CNS2014-CNS_MUL-Weekday-00-4165879</td>\n      <td> 0</td>\n      <td> 06:20:00</td>\n      <td> 07:20:00</td>\n      <td> 3600</td>\n      <td> 750337</td>\n      <td> 750449</td>\n      <td>  1100023</td>\n      <td> 32507</td>\n    </tr>\n    <tr>\n      <th>2 </th>\n      <td>  110-423</td>\n      <td> CNS2014-CNS_MUL-Weekday-00-4165880</td>\n      <td> 0</td>\n      <td> 06:50:00</td>\n      <td> 07:50:00</td>\n      <td> 3600</td>\n      <td> 750337</td>\n      <td> 750449</td>\n      <td>  1100023</td>\n      <td> 32507</td>\n    </tr>\n    <tr>\n      <th>3 </th>\n      <td>  110-423</td>\n      <td> CNS2014-CNS_MUL-Weekday-00-4165881</td>\n      <td> 0</td>\n      <td> 07:15:00</td>\n      <td> 08:20:00</td>\n      <td> 3900</td>\n      <td> 750337</td>\n      <td> 750449</td>\n      <td>  1100023</td>\n      <td> 32507</td>\n    </tr>\n    <tr>\n      <th>4 </th>\n      <td>  110-423</td>\n      <td> CNS2014-CNS_MUL-Weekday-00-4165882</td>\n      <td> 0</td>\n      <td> 07:45:00</td>\n      <td> 08:50:00</td>\n      <td> 3900</td>\n      <td> 750337</td>\n      <td> 750449</td>\n      <td>  1100023</td>\n      <td> 32507</td>\n    </tr>\n    <tr>\n      <th>5 </th>\n      <td>  110-423</td>\n      <td> CNS2014-CNS_MUL-Weekday-00-4165883</td>\n      <td> 0</td>\n      <td> 08:15:00</td>\n      <td> 09:20:00</td>\n      <td> 3900</td>\n      <td> 750337</td>\n      <td> 750449</td>\n      <td>  1100023</td>\n      <td> 32507</td>\n    </tr>\n    <tr>\n      <th>6 </th>\n      <td>  110-423</td>\n      <td> CNS2014-CNS_MUL-Weekday-00-4165884</td>\n      <td> 0</td>\n      <td> 08:50:00</td>\n      <td> 09:50:00</td>\n      <td> 3600</td>\n      <td> 750337</td>\n      <td> 750449</td>\n      <td>  1100023</td>\n      <td> 32507</td>\n    </tr>\n    <tr>\n      <th>7 </th>\n      <td>  110-423</td>\n      <td> CNS2014-CNS_MUL-Weekday-00-4165885</td>\n      <td> 0</td>\n      <td> 09:20:00</td>\n      <td> 10:20:00</td>\n      <td> 3600</td>\n      <td> 750337</td>\n      <td> 750449</td>\n      <td>  1100023</td>\n      <td> 32507</td>\n    </tr>\n    <tr>\n      <th>8 </th>\n      <td>  110-423</td>\n      <td> CNS2014-CNS_MUL-Weekday-00-4165886</td>\n      <td> 0</td>\n      <td> 09:50:00</td>\n      <td> 10:50:00</td>\n      <td> 3600</td>\n      <td> 750337</td>\n      <td> 750449</td>\n      <td>  1100023</td>\n      <td> 32507</td>\n    </tr>\n    <tr>\n      <th>9 </th>\n      <td>  110-423</td>\n      <td> CNS2014-CNS_MUL-Weekday-00-4165887</td>\n      <td> 0</td>\n      <td> 10:20:00</td>\n      <td> 11:20:00</td>\n      <td> 3600</td>\n      <td> 750337</td>\n      <td> 750449</td>\n      <td>  1100023</td>\n      <td> 32507</td>\n    </tr>\n    <tr>\n      <th>10</th>\n      <td>  110-423</td>\n      <td> CNS2014-CNS_MUL-Weekday-00-4165888</td>\n      <td> 0</td>\n      <td> 10:50:00</td>\n      <td> 11:50:00</td>\n      <td> 3600</td>\n      <td> 750337</td>\n      <td> 750449</td>\n      <td>  1100023</td>\n      <td> 32507</td>\n    </tr>\n    <tr>\n      <th>11</th>\n      <td>  110-423</td>\n      <td> CNS2014-CNS_MUL-Weekday-00-4165889</td>\n      <td> 0</td>\n      <td> 11:20:00</td>\n      <td> 12:20:00</td>\n      <td> 3600</td>\n      <td> 750337</td>\n      <td> 750449</td>\n      <td>  1100023</td>\n      <td> 32507</td>\n    </tr>\n    <tr>\n      <th>12</th>\n      <td>  110-423</td>\n      <td> CNS2014-CNS_MUL-Weekday-00-4165890</td>\n      <td> 0</td>\n      <td> 11:50:00</td>\n      <td> 12:50:00</td>\n      <td> 3600</td>\n      <td> 750337</td>\n      <td> 750449</td>\n      <td>  1100023</td>\n      <td> 32507</td>\n    </tr>\n    <tr>\n      <th>13</th>\n      <td>  110-423</td>\n      <td> CNS2014-CNS_MUL-Weekday-00-4165891</td>\n      <td> 0</td>\n      <td> 12:20:00</td>\n      <td> 13:20:00</td>\n      <td> 3600</td>\n      <td> 750337</td>\n      <td> 750449</td>\n      <td>  1100023</td>\n      <td> 32507</td>\n    </tr>\n    <tr>\n      <th>14</th>\n      <td>  110-423</td>\n      <td> CNS2014-CNS_MUL-Weekday-00-4165892</td>\n      <td> 0</td>\n      <td> 12:50:00</td>\n      <td> 13:50:00</td>\n      <td> 3600</td>\n      <td> 750337</td>\n      <td> 750449</td>\n      <td>  1100023</td>\n      <td> 32507</td>\n    </tr>\n    <tr>\n      <th>15</th>\n      <td>  110-423</td>\n      <td> CNS2014-CNS_MUL-Weekday-00-4165893</td>\n      <td> 0</td>\n      <td> 13:20:00</td>\n      <td> 14:20:00</td>\n      <td> 3600</td>\n      <td> 750337</td>\n      <td> 750449</td>\n      <td>  1100023</td>\n      <td> 32507</td>\n    </tr>\n    <tr>\n      <th>16</th>\n      <td>  110-423</td>\n      <td> CNS2014-CNS_MUL-Weekday-00-4165894</td>\n      <td> 0</td>\n      <td> 13:50:00</td>\n      <td> 14:50:00</td>\n      <td> 3600</td>\n      <td> 750337</td>\n      <td> 750449</td>\n      <td>  1100023</td>\n      <td> 32507</td>\n    </tr>\n    <tr>\n      <th>17</th>\n      <td>  110-423</td>\n      <td> CNS2014-CNS_MUL-Weekday-00-4165895</td>\n      <td> 0</td>\n      <td> 14:15:00</td>\n      <td> 15:20:00</td>\n      <td> 3900</td>\n      <td> 750337</td>\n      <td> 750449</td>\n      <td>  1100023</td>\n      <td> 32507</td>\n    </tr>\n    <tr>\n      <th>18</th>\n      <td>  110-423</td>\n      <td> CNS2014-CNS_MUL-Weekday-00-4165896</td>\n      <td> 0</td>\n      <td> 14:45:00</td>\n      <td> 15:50:00</td>\n      <td> 3900</td>\n      <td> 750337</td>\n      <td> 750449</td>\n      <td>  1100023</td>\n      <td> 32507</td>\n    </tr>\n    <tr>\n      <th>19</th>\n      <td>  110-423</td>\n      <td> CNS2014-CNS_MUL-Weekday-00-4165897</td>\n      <td> 0</td>\n      <td> 15:15:00</td>\n      <td> 16:20:00</td>\n      <td> 3900</td>\n      <td> 750337</td>\n      <td> 750449</td>\n      <td>  1100023</td>\n      <td> 32507</td>\n    </tr>\n    <tr>\n      <th>20</th>\n      <td>  110-423</td>\n      <td> CNS2014-CNS_MUL-Weekday-00-4165898</td>\n      <td> 0</td>\n      <td> 15:45:00</td>\n      <td> 16:50:00</td>\n      <td> 3900</td>\n      <td> 750337</td>\n      <td> 750449</td>\n      <td>  1100023</td>\n      <td> 32507</td>\n    </tr>\n    <tr>\n      <th>21</th>\n      <td>  110-423</td>\n      <td> CNS2014-CNS_MUL-Weekday-00-4165899</td>\n      <td> 0</td>\n      <td> 16:20:00</td>\n      <td> 17:20:00</td>\n      <td> 3600</td>\n      <td> 750337</td>\n      <td> 750449</td>\n      <td>  1100023</td>\n      <td> 32507</td>\n    </tr>\n    <tr>\n      <th>22</th>\n      <td>  110-423</td>\n      <td> CNS2014-CNS_MUL-Weekday-00-4165900</td>\n      <td> 0</td>\n      <td> 16:50:00</td>\n      <td> 17:50:00</td>\n      <td> 3600</td>\n      <td> 750337</td>\n      <td> 750449</td>\n      <td>  1100023</td>\n      <td> 32507</td>\n    </tr>\n    <tr>\n      <th>23</th>\n      <td>  110-423</td>\n      <td> CNS2014-CNS_MUL-Weekday-00-4165901</td>\n      <td> 0</td>\n      <td> 17:20:00</td>\n      <td> 18:20:00</td>\n      <td> 3600</td>\n      <td> 750337</td>\n      <td> 750449</td>\n      <td>  1100023</td>\n      <td> 32507</td>\n    </tr>\n    <tr>\n      <th>24</th>\n      <td>  110-423</td>\n      <td> CNS2014-CNS_MUL-Weekday-00-4165902</td>\n      <td> 0</td>\n      <td> 17:50:00</td>\n      <td> 18:50:00</td>\n      <td> 3600</td>\n      <td> 750337</td>\n      <td> 750449</td>\n      <td>  1100023</td>\n      <td> 32507</td>\n    </tr>\n    <tr>\n      <th>25</th>\n      <td>  110-423</td>\n      <td> CNS2014-CNS_MUL-Weekday-00-4165903</td>\n      <td> 0</td>\n      <td> 18:13:00</td>\n      <td> 19:05:00</td>\n      <td> 3120</td>\n      <td> 750337</td>\n      <td> 750449</td>\n      <td>  1100023</td>\n      <td> 32507</td>\n    </tr>\n    <tr>\n      <th>26</th>\n      <td>  110-423</td>\n      <td> CNS2014-CNS_MUL-Weekday-00-4165904</td>\n      <td> 0</td>\n      <td> 19:13:00</td>\n      <td> 20:05:00</td>\n      <td> 3120</td>\n      <td> 750337</td>\n      <td> 750449</td>\n      <td>  1100023</td>\n      <td> 32507</td>\n    </tr>\n    <tr>\n      <th>27</th>\n      <td>  110-423</td>\n      <td> CNS2014-CNS_MUL-Weekday-00-4165905</td>\n      <td> 0</td>\n      <td> 20:13:00</td>\n      <td> 21:05:00</td>\n      <td> 3120</td>\n      <td> 750337</td>\n      <td> 750449</td>\n      <td>  1100023</td>\n      <td> 32507</td>\n    </tr>\n    <tr>\n      <th>28</th>\n      <td>  110-423</td>\n      <td> CNS2014-CNS_MUL-Weekday-00-4165906</td>\n      <td> 0</td>\n      <td> 21:13:00</td>\n      <td> 22:05:00</td>\n      <td> 3120</td>\n      <td> 750337</td>\n      <td> 750449</td>\n      <td>  1100023</td>\n      <td> 32507</td>\n    </tr>\n    <tr>\n      <th>29</th>\n      <td>  110-423</td>\n      <td> CNS2014-CNS_MUL-Weekday-00-4165907</td>\n      <td> 0</td>\n      <td> 22:13:00</td>\n      <td> 23:05:00</td>\n      <td> 3120</td>\n      <td> 750337</td>\n      <td> 750449</td>\n      <td>  1100023</td>\n      <td> 32507</td>\n    </tr>\n    <tr>\n      <th>30</th>\n      <td>  110-423</td>\n      <td> CNS2014-CNS_MUL-Weekday-00-4165908</td>\n      <td> 1</td>\n      <td> 07:10:00</td>\n      <td> 08:08:00</td>\n      <td> 3480</td>\n      <td> 750450</td>\n      <td> 750338</td>\n      <td>  1100024</td>\n      <td> 31690</td>\n    </tr>\n    <tr>\n      <th>31</th>\n      <td>  110-423</td>\n      <td> CNS2014-CNS_MUL-Weekday-00-4165909</td>\n      <td> 1</td>\n      <td> 07:40:00</td>\n      <td> 08:38:00</td>\n      <td> 3480</td>\n      <td> 750450</td>\n      <td> 750338</td>\n      <td>  1100024</td>\n      <td> 31690</td>\n    </tr>\n    <tr>\n      <th>32</th>\n      <td>  110-423</td>\n      <td> CNS2014-CNS_MUL-Weekday-00-4165910</td>\n      <td> 1</td>\n      <td> 08:10:00</td>\n      <td> 09:08:00</td>\n      <td> 3480</td>\n      <td> 750450</td>\n      <td> 750338</td>\n      <td>  1100024</td>\n      <td> 31690</td>\n    </tr>\n    <tr>\n      <th>33</th>\n      <td>  110-423</td>\n      <td> CNS2014-CNS_MUL-Weekday-00-4165911</td>\n      <td> 1</td>\n      <td> 08:40:00</td>\n      <td> 09:38:00</td>\n      <td> 3480</td>\n      <td> 750450</td>\n      <td> 750338</td>\n      <td>  1100024</td>\n      <td> 31690</td>\n    </tr>\n    <tr>\n      <th>34</th>\n      <td>  110-423</td>\n      <td> CNS2014-CNS_MUL-Weekday-00-4165912</td>\n      <td> 1</td>\n      <td> 09:10:00</td>\n      <td> 10:08:00</td>\n      <td> 3480</td>\n      <td> 750450</td>\n      <td> 750338</td>\n      <td>  1100024</td>\n      <td> 31690</td>\n    </tr>\n    <tr>\n      <th>35</th>\n      <td>  110-423</td>\n      <td> CNS2014-CNS_MUL-Weekday-00-4165913</td>\n      <td> 1</td>\n      <td> 09:40:00</td>\n      <td> 10:38:00</td>\n      <td> 3480</td>\n      <td> 750450</td>\n      <td> 750338</td>\n      <td>  1100024</td>\n      <td> 31690</td>\n    </tr>\n    <tr>\n      <th>36</th>\n      <td>  110-423</td>\n      <td> CNS2014-CNS_MUL-Weekday-00-4165914</td>\n      <td> 1</td>\n      <td> 10:10:00</td>\n      <td> 11:08:00</td>\n      <td> 3480</td>\n      <td> 750450</td>\n      <td> 750338</td>\n      <td>  1100024</td>\n      <td> 31690</td>\n    </tr>\n    <tr>\n      <th>37</th>\n      <td>  110-423</td>\n      <td> CNS2014-CNS_MUL-Weekday-00-4165915</td>\n      <td> 1</td>\n      <td> 10:40:00</td>\n      <td> 11:38:00</td>\n      <td> 3480</td>\n      <td> 750450</td>\n      <td> 750338</td>\n      <td>  1100024</td>\n      <td> 31690</td>\n    </tr>\n    <tr>\n      <th>38</th>\n      <td>  110-423</td>\n      <td> CNS2014-CNS_MUL-Weekday-00-4165916</td>\n      <td> 1</td>\n      <td> 11:10:00</td>\n      <td> 12:08:00</td>\n      <td> 3480</td>\n      <td> 750450</td>\n      <td> 750338</td>\n      <td>  1100024</td>\n      <td> 31690</td>\n    </tr>\n    <tr>\n      <th>39</th>\n      <td>  110-423</td>\n      <td> CNS2014-CNS_MUL-Weekday-00-4165917</td>\n      <td> 1</td>\n      <td> 11:40:00</td>\n      <td> 12:38:00</td>\n      <td> 3480</td>\n      <td> 750450</td>\n      <td> 750338</td>\n      <td>  1100024</td>\n      <td> 31690</td>\n    </tr>\n    <tr>\n      <th>40</th>\n      <td>  110-423</td>\n      <td> CNS2014-CNS_MUL-Weekday-00-4165918</td>\n      <td> 1</td>\n      <td> 12:10:00</td>\n      <td> 13:08:00</td>\n      <td> 3480</td>\n      <td> 750450</td>\n      <td> 750338</td>\n      <td>  1100024</td>\n      <td> 31690</td>\n    </tr>\n    <tr>\n      <th>41</th>\n      <td>  110-423</td>\n      <td> CNS2014-CNS_MUL-Weekday-00-4165919</td>\n      <td> 1</td>\n      <td> 12:40:00</td>\n      <td> 13:38:00</td>\n      <td> 3480</td>\n      <td> 750450</td>\n      <td> 750338</td>\n      <td>  1100024</td>\n      <td> 31690</td>\n    </tr>\n    <tr>\n      <th>42</th>\n      <td>  110-423</td>\n      <td> CNS2014-CNS_MUL-Weekday-00-4165920</td>\n      <td> 1</td>\n      <td> 13:10:00</td>\n      <td> 14:08:00</td>\n      <td> 3480</td>\n      <td> 750450</td>\n      <td> 750338</td>\n      <td>  1100024</td>\n      <td> 31690</td>\n    </tr>\n    <tr>\n      <th>43</th>\n      <td>  110-423</td>\n      <td> CNS2014-CNS_MUL-Weekday-00-4165921</td>\n      <td> 1</td>\n      <td> 13:40:00</td>\n      <td> 14:38:00</td>\n      <td> 3480</td>\n      <td> 750450</td>\n      <td> 750338</td>\n      <td>  1100024</td>\n      <td> 31690</td>\n    </tr>\n    <tr>\n      <th>44</th>\n      <td>  110-423</td>\n      <td> CNS2014-CNS_MUL-Weekday-00-4165922</td>\n      <td> 1</td>\n      <td> 14:10:00</td>\n      <td> 15:08:00</td>\n      <td> 3480</td>\n      <td> 750450</td>\n      <td> 750338</td>\n      <td>  1100024</td>\n      <td> 31690</td>\n    </tr>\n    <tr>\n      <th>45</th>\n      <td>  110-423</td>\n      <td> CNS2014-CNS_MUL-Weekday-00-4165923</td>\n      <td> 1</td>\n      <td> 14:40:00</td>\n      <td> 15:38:00</td>\n      <td> 3480</td>\n      <td> 750450</td>\n      <td> 750338</td>\n      <td>  1100024</td>\n      <td> 31690</td>\n    </tr>\n    <tr>\n      <th>46</th>\n      <td>  110-423</td>\n      <td> CNS2014-CNS_MUL-Weekday-00-4165924</td>\n      <td> 1</td>\n      <td> 15:10:00</td>\n      <td> 16:08:00</td>\n      <td> 3480</td>\n      <td> 750450</td>\n      <td> 750338</td>\n      <td>  1100024</td>\n      <td> 31690</td>\n    </tr>\n    <tr>\n      <th>47</th>\n      <td>  110-423</td>\n      <td> CNS2014-CNS_MUL-Weekday-00-4165925</td>\n      <td> 1</td>\n      <td> 15:40:00</td>\n      <td> 16:38:00</td>\n      <td> 3480</td>\n      <td> 750450</td>\n      <td> 750338</td>\n      <td>  1100024</td>\n      <td> 31690</td>\n    </tr>\n    <tr>\n      <th>48</th>\n      <td>  110-423</td>\n      <td> CNS2014-CNS_MUL-Weekday-00-4165926</td>\n      <td> 1</td>\n      <td> 16:10:00</td>\n      <td> 17:08:00</td>\n      <td> 3480</td>\n      <td> 750450</td>\n      <td> 750338</td>\n      <td>  1100024</td>\n      <td> 31690</td>\n    </tr>\n    <tr>\n      <th>49</th>\n      <td>  110-423</td>\n      <td> CNS2014-CNS_MUL-Weekday-00-4165927</td>\n      <td> 1</td>\n      <td> 16:40:00</td>\n      <td> 17:38:00</td>\n      <td> 3480</td>\n      <td> 750450</td>\n      <td> 750338</td>\n      <td>  1100024</td>\n      <td> 31690</td>\n    </tr>\n    <tr>\n      <th>50</th>\n      <td>  110-423</td>\n      <td> CNS2014-CNS_MUL-Weekday-00-4165928</td>\n      <td> 1</td>\n      <td> 17:10:00</td>\n      <td> 18:08:00</td>\n      <td> 3480</td>\n      <td> 750450</td>\n      <td> 750338</td>\n      <td>  1100024</td>\n      <td> 31690</td>\n    </tr>\n    <tr>\n      <th>51</th>\n      <td>  110-423</td>\n      <td> CNS2014-CNS_MUL-Weekday-00-4165929</td>\n      <td> 1</td>\n      <td> 17:40:00</td>\n      <td> 18:38:00</td>\n      <td> 3480</td>\n      <td> 750450</td>\n      <td> 750338</td>\n      <td>  1100024</td>\n      <td> 31690</td>\n    </tr>\n    <tr>\n      <th>52</th>\n      <td>  110-423</td>\n      <td> CNS2014-CNS_MUL-Weekday-00-4165930</td>\n      <td> 1</td>\n      <td> 18:10:00</td>\n      <td> 19:08:00</td>\n      <td> 3480</td>\n      <td> 750450</td>\n      <td> 750338</td>\n      <td>  1100024</td>\n      <td> 31690</td>\n    </tr>\n    <tr>\n      <th>53</th>\n      <td>  110-423</td>\n      <td> CNS2014-CNS_MUL-Weekday-00-4165931</td>\n      <td> 1</td>\n      <td> 18:40:00</td>\n      <td> 19:32:00</td>\n      <td> 3120</td>\n      <td> 750450</td>\n      <td> 750338</td>\n      <td>  1100024</td>\n      <td> 31690</td>\n    </tr>\n    <tr>\n      <th>54</th>\n      <td>  110-423</td>\n      <td> CNS2014-CNS_MUL-Weekday-00-4165932</td>\n      <td> 1</td>\n      <td> 19:10:00</td>\n      <td> 20:02:00</td>\n      <td> 3120</td>\n      <td> 750450</td>\n      <td> 750338</td>\n      <td>  1100024</td>\n      <td> 31690</td>\n    </tr>\n    <tr>\n      <th>55</th>\n      <td>  110-423</td>\n      <td> CNS2014-CNS_MUL-Weekday-00-4165933</td>\n      <td> 1</td>\n      <td> 20:10:00</td>\n      <td> 21:02:00</td>\n      <td> 3120</td>\n      <td> 750450</td>\n      <td> 750338</td>\n      <td>  1100024</td>\n      <td> 31690</td>\n    </tr>\n    <tr>\n      <th>56</th>\n      <td>  110-423</td>\n      <td> CNS2014-CNS_MUL-Weekday-00-4165934</td>\n      <td> 1</td>\n      <td> 21:10:00</td>\n      <td> 22:02:00</td>\n      <td> 3120</td>\n      <td> 750450</td>\n      <td> 750338</td>\n      <td>  1100024</td>\n      <td> 31690</td>\n    </tr>\n    <tr>\n      <th>57</th>\n      <td>  110-423</td>\n      <td> CNS2014-CNS_MUL-Weekday-00-4165935</td>\n      <td> 1</td>\n      <td> 22:10:00</td>\n      <td> 23:02:00</td>\n      <td> 3120</td>\n      <td> 750450</td>\n      <td> 750338</td>\n      <td>  1100024</td>\n      <td> 31690</td>\n    </tr>\n    <tr>\n      <th>58</th>\n      <td>  110-423</td>\n      <td> CNS2014-CNS_MUL-Weekday-00-4165936</td>\n      <td> 1</td>\n      <td> 23:10:00</td>\n      <td> 24:02:00</td>\n      <td> 3120</td>\n      <td> 750450</td>\n      <td> 750338</td>\n      <td>  1100024</td>\n      <td> 31690</td>\n    </tr>\n    <tr>\n      <th>59</th>\n      <td> 110N-423</td>\n      <td> CNS2014-CNS_MUL-Weekday-00-4166103</td>\n      <td> 1</td>\n      <td> 24:40:00</td>\n      <td> 25:39:00</td>\n      <td> 3540</td>\n      <td> 750450</td>\n      <td> 750338</td>\n      <td> 110N0011</td>\n      <td> 44345</td>\n    </tr>\n    <tr>\n      <th></th>\n      <td>...</td>\n      <td>...</td>\n      <td>...</td>\n      <td>...</td>\n      <td>...</td>\n      <td>...</td>\n      <td>...</td>\n      <td>...</td>\n      <td>...</td>\n      <td>...</td>\n    </tr>\n  </tbody>\n</table>\n<p>2713 rows \u00d7 10 columns</p>\n</div>",
       "metadata": {},
       "output_type": "pyout",
       "prompt_number": 45,
       "text": "    route_id                             trip_id  direction_id start_time  \\\n0    110-423  CNS2014-CNS_MUL-Weekday-00-4165878             0   05:50:00   \n1    110-423  CNS2014-CNS_MUL-Weekday-00-4165879             0   06:20:00   \n2    110-423  CNS2014-CNS_MUL-Weekday-00-4165880             0   06:50:00   \n3    110-423  CNS2014-CNS_MUL-Weekday-00-4165881             0   07:15:00   \n4    110-423  CNS2014-CNS_MUL-Weekday-00-4165882             0   07:45:00   \n5    110-423  CNS2014-CNS_MUL-Weekday-00-4165883             0   08:15:00   \n6    110-423  CNS2014-CNS_MUL-Weekday-00-4165884             0   08:50:00   \n7    110-423  CNS2014-CNS_MUL-Weekday-00-4165885             0   09:20:00   \n8    110-423  CNS2014-CNS_MUL-Weekday-00-4165886             0   09:50:00   \n9    110-423  CNS2014-CNS_MUL-Weekday-00-4165887             0   10:20:00   \n10   110-423  CNS2014-CNS_MUL-Weekday-00-4165888             0   10:50:00   \n11   110-423  CNS2014-CNS_MUL-Weekday-00-4165889             0   11:20:00   \n12   110-423  CNS2014-CNS_MUL-Weekday-00-4165890             0   11:50:00   \n13   110-423  CNS2014-CNS_MUL-Weekday-00-4165891             0   12:20:00   \n14   110-423  CNS2014-CNS_MUL-Weekday-00-4165892             0   12:50:00   \n15   110-423  CNS2014-CNS_MUL-Weekday-00-4165893             0   13:20:00   \n16   110-423  CNS2014-CNS_MUL-Weekday-00-4165894             0   13:50:00   \n17   110-423  CNS2014-CNS_MUL-Weekday-00-4165895             0   14:15:00   \n18   110-423  CNS2014-CNS_MUL-Weekday-00-4165896             0   14:45:00   \n19   110-423  CNS2014-CNS_MUL-Weekday-00-4165897             0   15:15:00   \n20   110-423  CNS2014-CNS_MUL-Weekday-00-4165898             0   15:45:00   \n21   110-423  CNS2014-CNS_MUL-Weekday-00-4165899             0   16:20:00   \n22   110-423  CNS2014-CNS_MUL-Weekday-00-4165900             0   16:50:00   \n23   110-423  CNS2014-CNS_MUL-Weekday-00-4165901             0   17:20:00   \n24   110-423  CNS2014-CNS_MUL-Weekday-00-4165902             0   17:50:00   \n25   110-423  CNS2014-CNS_MUL-Weekday-00-4165903             0   18:13:00   \n26   110-423  CNS2014-CNS_MUL-Weekday-00-4165904             0   19:13:00   \n27   110-423  CNS2014-CNS_MUL-Weekday-00-4165905             0   20:13:00   \n28   110-423  CNS2014-CNS_MUL-Weekday-00-4165906             0   21:13:00   \n29   110-423  CNS2014-CNS_MUL-Weekday-00-4165907             0   22:13:00   \n30   110-423  CNS2014-CNS_MUL-Weekday-00-4165908             1   07:10:00   \n31   110-423  CNS2014-CNS_MUL-Weekday-00-4165909             1   07:40:00   \n32   110-423  CNS2014-CNS_MUL-Weekday-00-4165910             1   08:10:00   \n33   110-423  CNS2014-CNS_MUL-Weekday-00-4165911             1   08:40:00   \n34   110-423  CNS2014-CNS_MUL-Weekday-00-4165912             1   09:10:00   \n35   110-423  CNS2014-CNS_MUL-Weekday-00-4165913             1   09:40:00   \n36   110-423  CNS2014-CNS_MUL-Weekday-00-4165914             1   10:10:00   \n37   110-423  CNS2014-CNS_MUL-Weekday-00-4165915             1   10:40:00   \n38   110-423  CNS2014-CNS_MUL-Weekday-00-4165916             1   11:10:00   \n39   110-423  CNS2014-CNS_MUL-Weekday-00-4165917             1   11:40:00   \n40   110-423  CNS2014-CNS_MUL-Weekday-00-4165918             1   12:10:00   \n41   110-423  CNS2014-CNS_MUL-Weekday-00-4165919             1   12:40:00   \n42   110-423  CNS2014-CNS_MUL-Weekday-00-4165920             1   13:10:00   \n43   110-423  CNS2014-CNS_MUL-Weekday-00-4165921             1   13:40:00   \n44   110-423  CNS2014-CNS_MUL-Weekday-00-4165922             1   14:10:00   \n45   110-423  CNS2014-CNS_MUL-Weekday-00-4165923             1   14:40:00   \n46   110-423  CNS2014-CNS_MUL-Weekday-00-4165924             1   15:10:00   \n47   110-423  CNS2014-CNS_MUL-Weekday-00-4165925             1   15:40:00   \n48   110-423  CNS2014-CNS_MUL-Weekday-00-4165926             1   16:10:00   \n49   110-423  CNS2014-CNS_MUL-Weekday-00-4165927             1   16:40:00   \n50   110-423  CNS2014-CNS_MUL-Weekday-00-4165928             1   17:10:00   \n51   110-423  CNS2014-CNS_MUL-Weekday-00-4165929             1   17:40:00   \n52   110-423  CNS2014-CNS_MUL-Weekday-00-4165930             1   18:10:00   \n53   110-423  CNS2014-CNS_MUL-Weekday-00-4165931             1   18:40:00   \n54   110-423  CNS2014-CNS_MUL-Weekday-00-4165932             1   19:10:00   \n55   110-423  CNS2014-CNS_MUL-Weekday-00-4165933             1   20:10:00   \n56   110-423  CNS2014-CNS_MUL-Weekday-00-4165934             1   21:10:00   \n57   110-423  CNS2014-CNS_MUL-Weekday-00-4165935             1   22:10:00   \n58   110-423  CNS2014-CNS_MUL-Weekday-00-4165936             1   23:10:00   \n59  110N-423  CNS2014-CNS_MUL-Weekday-00-4166103             1   24:40:00   \n         ...                                 ...           ...        ...   \n\n    end_time  duration start_stop end_stop  shape_id  distance  \n0   06:50:00      3600     750337   750449   1100023     32507  \n1   07:20:00      3600     750337   750449   1100023     32507  \n2   07:50:00      3600     750337   750449   1100023     32507  \n3   08:20:00      3900     750337   750449   1100023     32507  \n4   08:50:00      3900     750337   750449   1100023     32507  \n5   09:20:00      3900     750337   750449   1100023     32507  \n6   09:50:00      3600     750337   750449   1100023     32507  \n7   10:20:00      3600     750337   750449   1100023     32507  \n8   10:50:00      3600     750337   750449   1100023     32507  \n9   11:20:00      3600     750337   750449   1100023     32507  \n10  11:50:00      3600     750337   750449   1100023     32507  \n11  12:20:00      3600     750337   750449   1100023     32507  \n12  12:50:00      3600     750337   750449   1100023     32507  \n13  13:20:00      3600     750337   750449   1100023     32507  \n14  13:50:00      3600     750337   750449   1100023     32507  \n15  14:20:00      3600     750337   750449   1100023     32507  \n16  14:50:00      3600     750337   750449   1100023     32507  \n17  15:20:00      3900     750337   750449   1100023     32507  \n18  15:50:00      3900     750337   750449   1100023     32507  \n19  16:20:00      3900     750337   750449   1100023     32507  \n20  16:50:00      3900     750337   750449   1100023     32507  \n21  17:20:00      3600     750337   750449   1100023     32507  \n22  17:50:00      3600     750337   750449   1100023     32507  \n23  18:20:00      3600     750337   750449   1100023     32507  \n24  18:50:00      3600     750337   750449   1100023     32507  \n25  19:05:00      3120     750337   750449   1100023     32507  \n26  20:05:00      3120     750337   750449   1100023     32507  \n27  21:05:00      3120     750337   750449   1100023     32507  \n28  22:05:00      3120     750337   750449   1100023     32507  \n29  23:05:00      3120     750337   750449   1100023     32507  \n30  08:08:00      3480     750450   750338   1100024     31690  \n31  08:38:00      3480     750450   750338   1100024     31690  \n32  09:08:00      3480     750450   750338   1100024     31690  \n33  09:38:00      3480     750450   750338   1100024     31690  \n34  10:08:00      3480     750450   750338   1100024     31690  \n35  10:38:00      3480     750450   750338   1100024     31690  \n36  11:08:00      3480     750450   750338   1100024     31690  \n37  11:38:00      3480     750450   750338   1100024     31690  \n38  12:08:00      3480     750450   750338   1100024     31690  \n39  12:38:00      3480     750450   750338   1100024     31690  \n40  13:08:00      3480     750450   750338   1100024     31690  \n41  13:38:00      3480     750450   750338   1100024     31690  \n42  14:08:00      3480     750450   750338   1100024     31690  \n43  14:38:00      3480     750450   750338   1100024     31690  \n44  15:08:00      3480     750450   750338   1100024     31690  \n45  15:38:00      3480     750450   750338   1100024     31690  \n46  16:08:00      3480     750450   750338   1100024     31690  \n47  16:38:00      3480     750450   750338   1100024     31690  \n48  17:08:00      3480     750450   750338   1100024     31690  \n49  17:38:00      3480     750450   750338   1100024     31690  \n50  18:08:00      3480     750450   750338   1100024     31690  \n51  18:38:00      3480     750450   750338   1100024     31690  \n52  19:08:00      3480     750450   750338   1100024     31690  \n53  19:32:00      3120     750450   750338   1100024     31690  \n54  20:02:00      3120     750450   750338   1100024     31690  \n55  21:02:00      3120     750450   750338   1100024     31690  \n56  22:02:00      3120     750450   750338   1100024     31690  \n57  23:02:00      3120     750450   750338   1100024     31690  \n58  24:02:00      3120     750450   750338   1100024     31690  \n59  25:39:00      3540     750450   750338  110N0011     44345  \n         ...       ...        ...      ...       ...       ...  \n\n[2713 rows x 10 columns]"
      }
     ],
     "prompt_number": 45
    },
    {
     "cell_type": "code",
     "collapsed": false,
     "input": "# Get routes stats for first workweek of feed\ndates = feed.get_first_week()[:5]\nroutes_stats = feed.get_routes_stats(trips_stats, dates)\nroutes_stats",
     "language": "python",
     "metadata": {},
     "outputs": [
      {
       "output_type": "stream",
       "stream": "stdout",
       "text": "2014-05-26 19:48:33.116272 Creating routes stats for 44 routes...\n2014-05-26 19:48:33.116335 Getting activity for 2713 trips over 5 dates...\n2014-05-26 19:48:33.400079"
      },
      {
       "output_type": "stream",
       "stream": "stdout",
       "text": " Finished trips activity in 0.00 min\n2014-05-26 19:48:33.637429"
      },
      {
       "output_type": "stream",
       "stream": "stdout",
       "text": " Finished routes stats in 0.00 min\n"
      },
      {
       "html": "<div style=\"max-height:1000px;max-width:1500px;overflow:auto;\">\n<table border=\"1\" class=\"dataframe\">\n  <thead>\n    <tr style=\"text-align: right;\">\n      <th></th>\n      <th>route_id</th>\n      <th>direction_id</th>\n      <th>min_start_time</th>\n      <th>max_end_time</th>\n      <th>mean_daily_num_trips</th>\n      <th>max_headway</th>\n      <th>mean_headway</th>\n      <th>mean_daily_duration</th>\n      <th>mean_daily_distance</th>\n    </tr>\n  </thead>\n  <tbody>\n    <tr>\n      <th>0 </th>\n      <td>  110-275</td>\n      <td> 0</td>\n      <td> 05:51:00</td>\n      <td> 23:05:00</td>\n      <td> 30.0</td>\n      <td> 1800</td>\n      <td> 1778</td>\n      <td> 104100</td>\n      <td>  971550.0</td>\n    </tr>\n    <tr>\n      <th>1 </th>\n      <td>  110-275</td>\n      <td> 1</td>\n      <td> 07:10:00</td>\n      <td> 24:02:00</td>\n      <td> 29.0</td>\n      <td> 1800</td>\n      <td> 1800</td>\n      <td>  98760</td>\n      <td>  908135.0</td>\n    </tr>\n    <tr>\n      <th>2 </th>\n      <td> 110N-275</td>\n      <td> 0</td>\n      <td> 24:50:00</td>\n      <td> 28:42:00</td>\n      <td>  0.8</td>\n      <td>  NaN</td>\n      <td>  NaN</td>\n      <td>   2496</td>\n      <td>   21331.2</td>\n    </tr>\n    <tr>\n      <th>3 </th>\n      <td> 110N-275</td>\n      <td> 1</td>\n      <td> 24:40:00</td>\n      <td> 29:32:00</td>\n      <td>  1.0</td>\n      <td>  NaN</td>\n      <td>  NaN</td>\n      <td>   3120</td>\n      <td>   44235.0</td>\n    </tr>\n    <tr>\n      <th>4 </th>\n      <td>  111-275</td>\n      <td> 0</td>\n      <td> 06:03:00</td>\n      <td> 23:35:00</td>\n      <td> 29.0</td>\n      <td> 3960</td>\n      <td> 1898</td>\n      <td> 106080</td>\n      <td> 1001834.0</td>\n    </tr>\n    <tr>\n      <th>5 </th>\n      <td>  111-275</td>\n      <td> 1</td>\n      <td> 07:25:00</td>\n      <td> 24:36:00</td>\n      <td> 29.0</td>\n      <td> 1800</td>\n      <td> 1800</td>\n      <td> 104340</td>\n      <td>  986435.0</td>\n    </tr>\n    <tr>\n      <th>6 </th>\n      <td>  112-275</td>\n      <td> 0</td>\n      <td>     None</td>\n      <td>      NaN</td>\n      <td>  0.0</td>\n      <td>  NaN</td>\n      <td>  NaN</td>\n      <td>      0</td>\n      <td>       0.0</td>\n    </tr>\n    <tr>\n      <th>7 </th>\n      <td>  112-275</td>\n      <td> 1</td>\n      <td> 07:55:00</td>\n      <td> 22:31:00</td>\n      <td> 30.0</td>\n      <td> 2760</td>\n      <td> 1800</td>\n      <td>  32400</td>\n      <td>  358140.0</td>\n    </tr>\n    <tr>\n      <th>8 </th>\n      <td>  113-275</td>\n      <td> 0</td>\n      <td> 06:10:00</td>\n      <td> 08:13:00</td>\n      <td>  3.0</td>\n      <td>  NaN</td>\n      <td>  NaN</td>\n      <td>   7140</td>\n      <td>   73932.0</td>\n    </tr>\n    <tr>\n      <th>9 </th>\n      <td>  113-275</td>\n      <td> 1</td>\n      <td> 16:05:00</td>\n      <td> 18:42:00</td>\n      <td>  3.0</td>\n      <td> 3600</td>\n      <td> 3600</td>\n      <td>   6660</td>\n      <td>   72180.0</td>\n    </tr>\n    <tr>\n      <th>10</th>\n      <td>  120-275</td>\n      <td> 0</td>\n      <td> 05:36:00</td>\n      <td> 22:25:00</td>\n      <td> 17.0</td>\n      <td> 3600</td>\n      <td> 3600</td>\n      <td>  49980</td>\n      <td>  468486.0</td>\n    </tr>\n    <tr>\n      <th>11</th>\n      <td>  120-275</td>\n      <td> 1</td>\n      <td> 07:02:00</td>\n      <td> 21:51:00</td>\n      <td> 15.0</td>\n      <td> 3600</td>\n      <td> 3600</td>\n      <td>  44100</td>\n      <td>  422880.0</td>\n    </tr>\n    <tr>\n      <th>12</th>\n      <td> 120N-275</td>\n      <td> 0</td>\n      <td>     None</td>\n      <td>      NaN</td>\n      <td>  0.0</td>\n      <td>  NaN</td>\n      <td>  NaN</td>\n      <td>      0</td>\n      <td>       0.0</td>\n    </tr>\n    <tr>\n      <th>13</th>\n      <td> 120N-275</td>\n      <td> 1</td>\n      <td> 22:02:00</td>\n      <td> 23:51:00</td>\n      <td>  2.0</td>\n      <td>  NaN</td>\n      <td>  NaN</td>\n      <td>   5880</td>\n      <td>   78872.0</td>\n    </tr>\n    <tr>\n      <th>14</th>\n      <td>  121-275</td>\n      <td> 0</td>\n      <td> 06:46:00</td>\n      <td> 20:48:00</td>\n      <td> 17.0</td>\n      <td> 3600</td>\n      <td> 3046</td>\n      <td>  32640</td>\n      <td>  283730.0</td>\n    </tr>\n    <tr>\n      <th>15</th>\n      <td>  121-275</td>\n      <td> 1</td>\n      <td> 06:30:00</td>\n      <td> 22:02:00</td>\n      <td> 17.0</td>\n      <td> 3600</td>\n      <td> 3300</td>\n      <td>  32640</td>\n      <td>  294185.0</td>\n    </tr>\n    <tr>\n      <th>16</th>\n      <td>  122-275</td>\n      <td> 0</td>\n      <td> 07:04:00</td>\n      <td> 21:32:00</td>\n      <td> 16.0</td>\n      <td> 3600</td>\n      <td> 3300</td>\n      <td>  26880</td>\n      <td>  253728.0</td>\n    </tr>\n    <tr>\n      <th>17</th>\n      <td>  122-275</td>\n      <td> 1</td>\n      <td> 06:16:00</td>\n      <td> 20:14:00</td>\n      <td> 17.0</td>\n      <td> 3600</td>\n      <td> 3185</td>\n      <td>  28560</td>\n      <td>  288150.0</td>\n    </tr>\n    <tr>\n      <th>18</th>\n      <td>  123-275</td>\n      <td> 0</td>\n      <td> 06:14:00</td>\n      <td> 22:50:00</td>\n      <td> 30.0</td>\n      <td> 3000</td>\n      <td> 1748</td>\n      <td>  73260</td>\n      <td>  563728.0</td>\n    </tr>\n    <tr>\n      <th>19</th>\n      <td>  123-275</td>\n      <td> 1</td>\n      <td> 06:38:00</td>\n      <td> 24:15:00</td>\n      <td> 30.0</td>\n      <td> 1800</td>\n      <td> 1800</td>\n      <td>  68640</td>\n      <td>  523840.0</td>\n    </tr>\n    <tr>\n      <th>20</th>\n      <td>  130-275</td>\n      <td> 0</td>\n      <td> 06:04:00</td>\n      <td> 21:34:00</td>\n      <td> 16.0</td>\n      <td> 3600</td>\n      <td> 3600</td>\n      <td>  28800</td>\n      <td>  172784.0</td>\n    </tr>\n    <tr>\n      <th>21</th>\n      <td>  130-275</td>\n      <td> 1</td>\n      <td> 06:32:00</td>\n      <td> 23:01:00</td>\n      <td> 17.0</td>\n      <td> 3600</td>\n      <td> 3600</td>\n      <td>  29580</td>\n      <td>  179826.0</td>\n    </tr>\n    <tr>\n      <th>22</th>\n      <td>  131-275</td>\n      <td> 0</td>\n      <td> 06:34:00</td>\n      <td> 22:04:00</td>\n      <td> 16.0</td>\n      <td> 3600</td>\n      <td> 3600</td>\n      <td>  28800</td>\n      <td>  196736.0</td>\n    </tr>\n    <tr>\n      <th>23</th>\n      <td>  131-275</td>\n      <td> 1</td>\n      <td> 07:02:00</td>\n      <td> 22:31:00</td>\n      <td> 16.0</td>\n      <td> 3600</td>\n      <td> 3600</td>\n      <td>  27840</td>\n      <td>  191136.0</td>\n    </tr>\n    <tr>\n      <th>24</th>\n      <td> 131N-275</td>\n      <td> 0</td>\n      <td>     None</td>\n      <td>      NaN</td>\n      <td>  0.0</td>\n      <td>  NaN</td>\n      <td>  NaN</td>\n      <td>      0</td>\n      <td>       0.0</td>\n    </tr>\n    <tr>\n      <th>25</th>\n      <td> 131N-275</td>\n      <td> 1</td>\n      <td> 23:02:00</td>\n      <td> 23:31:00</td>\n      <td>  1.0</td>\n      <td>  NaN</td>\n      <td>  NaN</td>\n      <td>   1740</td>\n      <td>    8447.0</td>\n    </tr>\n    <tr>\n      <th>26</th>\n      <td>  133-275</td>\n      <td> 0</td>\n      <td> 06:21:00</td>\n      <td> 23:50:00</td>\n      <td> 18.0</td>\n      <td> 3600</td>\n      <td> 3600</td>\n      <td>  39840</td>\n      <td>  272160.0</td>\n    </tr>\n    <tr>\n      <th>27</th>\n      <td>  133-275</td>\n      <td> 1</td>\n      <td> 07:03:00</td>\n      <td> 24:12:00</td>\n      <td> 18.0</td>\n      <td> 3600</td>\n      <td> 3475</td>\n      <td>  38100</td>\n      <td>  275864.0</td>\n    </tr>\n    <tr>\n      <th>28</th>\n      <td>  140-275</td>\n      <td> 0</td>\n      <td> 05:43:00</td>\n      <td> 19:36:00</td>\n      <td> 21.0</td>\n      <td> 3600</td>\n      <td> 2435</td>\n      <td>  66780</td>\n      <td>  474201.0</td>\n    </tr>\n    <tr>\n      <th>29</th>\n      <td>  140-275</td>\n      <td> 1</td>\n      <td> 07:15:00</td>\n      <td> 24:04:00</td>\n      <td> 19.0</td>\n      <td> 3600</td>\n      <td> 2363</td>\n      <td>  59940</td>\n      <td>  463467.0</td>\n    </tr>\n    <tr>\n      <th>30</th>\n      <td> 140N-275</td>\n      <td> 0</td>\n      <td>     None</td>\n      <td>      NaN</td>\n      <td>  0.0</td>\n      <td>  NaN</td>\n      <td>  NaN</td>\n      <td>      0</td>\n      <td>       0.0</td>\n    </tr>\n    <tr>\n      <th>31</th>\n      <td> 140N-275</td>\n      <td> 1</td>\n      <td> 24:15:00</td>\n      <td> 28:50:00</td>\n      <td>  1.0</td>\n      <td>  NaN</td>\n      <td>  NaN</td>\n      <td>   2100</td>\n      <td>   22580.0</td>\n    </tr>\n    <tr>\n      <th>32</th>\n      <td>  141-275</td>\n      <td> 0</td>\n      <td> 06:55:00</td>\n      <td> 19:03:00</td>\n      <td> 24.0</td>\n      <td> 1800</td>\n      <td> 1800</td>\n      <td>  54720</td>\n      <td>  313392.0</td>\n    </tr>\n    <tr>\n      <th>33</th>\n      <td>  141-275</td>\n      <td> 1</td>\n      <td> 06:42:00</td>\n      <td> 18:20:00</td>\n      <td> 23.0</td>\n      <td> 1800</td>\n      <td> 1800</td>\n      <td>  52440</td>\n      <td>  292905.0</td>\n    </tr>\n    <tr>\n      <th>34</th>\n      <td>  142-275</td>\n      <td> 0</td>\n      <td> 06:28:00</td>\n      <td> 20:36:00</td>\n      <td> 21.0</td>\n      <td> 3600</td>\n      <td> 2435</td>\n      <td>  66780</td>\n      <td>  492828.0</td>\n    </tr>\n    <tr>\n      <th>35</th>\n      <td>  142-275</td>\n      <td> 1</td>\n      <td> 07:30:00</td>\n      <td> 22:38:00</td>\n      <td> 21.0</td>\n      <td> 3600</td>\n      <td> 2382</td>\n      <td>  66780</td>\n      <td>  503601.0</td>\n    </tr>\n    <tr>\n      <th>36</th>\n      <td>  143-275</td>\n      <td> 0</td>\n      <td> 06:34:00</td>\n      <td> 19:22:00</td>\n      <td> 25.0</td>\n      <td> 1800</td>\n      <td> 1800</td>\n      <td>  72000</td>\n      <td>  420550.0</td>\n    </tr>\n    <tr>\n      <th>37</th>\n      <td>  143-275</td>\n      <td> 1</td>\n      <td> 06:48:00</td>\n      <td> 18:30:00</td>\n      <td> 23.0</td>\n      <td> 1800</td>\n      <td> 1800</td>\n      <td>  57960</td>\n      <td>  350290.0</td>\n    </tr>\n    <tr>\n      <th>38</th>\n      <td> 143W-275</td>\n      <td> 0</td>\n      <td> 19:05:00</td>\n      <td> 22:50:00</td>\n      <td>  4.0</td>\n      <td>  NaN</td>\n      <td>  NaN</td>\n      <td>  10800</td>\n      <td>   81296.0</td>\n    </tr>\n    <tr>\n      <th>39</th>\n      <td> 143W-275</td>\n      <td> 1</td>\n      <td> 18:15:00</td>\n      <td> 23:00:00</td>\n      <td>  5.0</td>\n      <td>  NaN</td>\n      <td>  NaN</td>\n      <td>  13500</td>\n      <td>   94940.0</td>\n    </tr>\n    <tr>\n      <th>40</th>\n      <td>  150-275</td>\n      <td> 0</td>\n      <td> 06:30:00</td>\n      <td> 19:30:00</td>\n      <td> 14.0</td>\n      <td> 3600</td>\n      <td> 3300</td>\n      <td>  50400</td>\n      <td>  448532.0</td>\n    </tr>\n    <tr>\n      <th>41</th>\n      <td>  150-275</td>\n      <td> 1</td>\n      <td> 06:25:00</td>\n      <td> 18:25:00</td>\n      <td> 13.0</td>\n      <td> 3600</td>\n      <td> 3273</td>\n      <td>  46800</td>\n      <td>  432783.0</td>\n    </tr>\n    <tr>\n      <th>42</th>\n      <td> 150E-275</td>\n      <td> 0</td>\n      <td> 19:25:00</td>\n      <td> 23:32:00</td>\n      <td>  4.0</td>\n      <td>  NaN</td>\n      <td>  NaN</td>\n      <td>  16080</td>\n      <td>  151992.0</td>\n    </tr>\n    <tr>\n      <th>43</th>\n      <td> 150E-275</td>\n      <td> 1</td>\n      <td> 18:15:00</td>\n      <td> 22:22:00</td>\n      <td>  4.0</td>\n      <td>  NaN</td>\n      <td>  NaN</td>\n      <td>  16080</td>\n      <td>  156716.0</td>\n    </tr>\n  </tbody>\n</table>\n<p>44 rows \u00d7 9 columns</p>\n</div>",
       "metadata": {},
       "output_type": "pyout",
       "prompt_number": 43,
       "text": "    route_id  direction_id min_start_time max_end_time  mean_daily_num_trips  \\\n0    110-275             0       05:51:00     23:05:00                  30.0   \n1    110-275             1       07:10:00     24:02:00                  29.0   \n2   110N-275             0       24:50:00     28:42:00                   0.8   \n3   110N-275             1       24:40:00     29:32:00                   1.0   \n4    111-275             0       06:03:00     23:35:00                  29.0   \n5    111-275             1       07:25:00     24:36:00                  29.0   \n6    112-275             0           None          NaN                   0.0   \n7    112-275             1       07:55:00     22:31:00                  30.0   \n8    113-275             0       06:10:00     08:13:00                   3.0   \n9    113-275             1       16:05:00     18:42:00                   3.0   \n10   120-275             0       05:36:00     22:25:00                  17.0   \n11   120-275             1       07:02:00     21:51:00                  15.0   \n12  120N-275             0           None          NaN                   0.0   \n13  120N-275             1       22:02:00     23:51:00                   2.0   \n14   121-275             0       06:46:00     20:48:00                  17.0   \n15   121-275             1       06:30:00     22:02:00                  17.0   \n16   122-275             0       07:04:00     21:32:00                  16.0   \n17   122-275             1       06:16:00     20:14:00                  17.0   \n18   123-275             0       06:14:00     22:50:00                  30.0   \n19   123-275             1       06:38:00     24:15:00                  30.0   \n20   130-275             0       06:04:00     21:34:00                  16.0   \n21   130-275             1       06:32:00     23:01:00                  17.0   \n22   131-275             0       06:34:00     22:04:00                  16.0   \n23   131-275             1       07:02:00     22:31:00                  16.0   \n24  131N-275             0           None          NaN                   0.0   \n25  131N-275             1       23:02:00     23:31:00                   1.0   \n26   133-275             0       06:21:00     23:50:00                  18.0   \n27   133-275             1       07:03:00     24:12:00                  18.0   \n28   140-275             0       05:43:00     19:36:00                  21.0   \n29   140-275             1       07:15:00     24:04:00                  19.0   \n30  140N-275             0           None          NaN                   0.0   \n31  140N-275             1       24:15:00     28:50:00                   1.0   \n32   141-275             0       06:55:00     19:03:00                  24.0   \n33   141-275             1       06:42:00     18:20:00                  23.0   \n34   142-275             0       06:28:00     20:36:00                  21.0   \n35   142-275             1       07:30:00     22:38:00                  21.0   \n36   143-275             0       06:34:00     19:22:00                  25.0   \n37   143-275             1       06:48:00     18:30:00                  23.0   \n38  143W-275             0       19:05:00     22:50:00                   4.0   \n39  143W-275             1       18:15:00     23:00:00                   5.0   \n40   150-275             0       06:30:00     19:30:00                  14.0   \n41   150-275             1       06:25:00     18:25:00                  13.0   \n42  150E-275             0       19:25:00     23:32:00                   4.0   \n43  150E-275             1       18:15:00     22:22:00                   4.0   \n\n    max_headway  mean_headway  mean_daily_duration  mean_daily_distance  \n0          1800          1778               104100             971550.0  \n1          1800          1800                98760             908135.0  \n2           NaN           NaN                 2496              21331.2  \n3           NaN           NaN                 3120              44235.0  \n4          3960          1898               106080            1001834.0  \n5          1800          1800               104340             986435.0  \n6           NaN           NaN                    0                  0.0  \n7          2760          1800                32400             358140.0  \n8           NaN           NaN                 7140              73932.0  \n9          3600          3600                 6660              72180.0  \n10         3600          3600                49980             468486.0  \n11         3600          3600                44100             422880.0  \n12          NaN           NaN                    0                  0.0  \n13          NaN           NaN                 5880              78872.0  \n14         3600          3046                32640             283730.0  \n15         3600          3300                32640             294185.0  \n16         3600          3300                26880             253728.0  \n17         3600          3185                28560             288150.0  \n18         3000          1748                73260             563728.0  \n19         1800          1800                68640             523840.0  \n20         3600          3600                28800             172784.0  \n21         3600          3600                29580             179826.0  \n22         3600          3600                28800             196736.0  \n23         3600          3600                27840             191136.0  \n24          NaN           NaN                    0                  0.0  \n25          NaN           NaN                 1740               8447.0  \n26         3600          3600                39840             272160.0  \n27         3600          3475                38100             275864.0  \n28         3600          2435                66780             474201.0  \n29         3600          2363                59940             463467.0  \n30          NaN           NaN                    0                  0.0  \n31          NaN           NaN                 2100              22580.0  \n32         1800          1800                54720             313392.0  \n33         1800          1800                52440             292905.0  \n34         3600          2435                66780             492828.0  \n35         3600          2382                66780             503601.0  \n36         1800          1800                72000             420550.0  \n37         1800          1800                57960             350290.0  \n38          NaN           NaN                10800              81296.0  \n39          NaN           NaN                13500              94940.0  \n40         3600          3300                50400             448532.0  \n41         3600          3273                46800             432783.0  \n42          NaN           NaN                16080             151992.0  \n43          NaN           NaN                16080             156716.0  \n\n[44 rows x 9 columns]"
      }
     ],
     "prompt_number": 43
    },
    {
     "cell_type": "code",
     "collapsed": false,
     "input": "# Plot route headways\nf0 = routes_stats[routes_stats['direction_id'] == 0].\\\n  set_index('route_id').sort_index(ascending=False)\nf1 = routes_stats[routes_stats['direction_id'] == 1].\\\n  set_index('route_id').sort_index(ascending=False)\ndata_frames = [f0, f1]\n\ncolors = ['red', 'blue'] \nalpha = 0.7\ncolumns = ['max_headway', 'mean_headway']\ntitles = ['Max Headway','Mean Headway']\nylabels = ['stop_id', 'stop_id']\nxlabels = ['minutes', 'minutes']\nfig, axes = plt.subplots(nrows=1, ncols=2)\nfor (i, column) in enumerate(columns):\n    F = pd.DataFrame({'direction_0': f0[column]/60, 'direction_1': f1[column]/60})\n    F.plot(kind='barh', ax=axes[i], color=colors, alpha=alpha, figsize=(10, 10))\n    axes[i].set_title(titles[i])\n    axes[i].set_xlabel(xlabels[i])\n    axes[i].set_ylabel(ylabels[i])\nfig.tight_layout() \n",
     "language": "python",
     "metadata": {},
     "outputs": [
      {
       "metadata": {},
       "output_type": "display_data",
       "png": "[encoded data removed]",
       "text": "<matplotlib.figure.Figure at 0x109043c10>"
      }
     ],
     "prompt_number": 9
    },
    {
     "cell_type": "code",
     "collapsed": false,
     "input": "# Get routes time series for first workweek\nrts = feed.get_routes_time_series(trips_stats, dates)\nrts = downsample_routes_time_series(rts, freq='3H')\nrts['mean_daily_speed'].T.head()",
     "language": "python",
     "metadata": {},
     "outputs": [
      {
       "output_type": "stream",
       "stream": "stdout",
       "text": "2014-05-26 19:33:46.671271 Creating routes time series for 44 routes...\n2014-05-26 19:33:46.671556 Getting activity for 2713 trips over 5 dates...\n2014-05-26 19:33:46.939082"
      },
      {
       "output_type": "stream",
       "stream": "stdout",
       "text": " Finished trips activity in 0.00 min\nProgress 0.2%\rProgress 0.3%\rProgress 0.5%\rProgress 0.6%\rProgress 0.8%\rProgress 0.9%\rProgress 1.1%\rProgress 1.2%\rProgress 1.4%\rProgress 1.5%\rProgress 1.7%\rProgress 1.8%"
      },
      {
       "output_type": "stream",
       "stream": "stdout",
       "text": "\rProgress 2.0%\rProgress 2.2%\rProgress 2.3%\rProgress 2.5%\rProgress 2.6%\rProgress 2.8%\rProgress 2.9%\rProgress 3.1%\rProgress 3.2%\rProgress 3.4%\rProgress 3.5%\rProgress 3.7%"
      },
      {
       "output_type": "stream",
       "stream": "stdout",
       "text": "\rProgress 3.8%\rProgress 4.0%\rProgress 4.1%\rProgress 4.3%\rProgress 4.5%\rProgress 4.6%\rProgress 4.8%\rProgress 4.9%\rProgress 5.1%\rProgress 5.2%\rProgress 5.4%\rProgress 5.5%"
      },
      {
       "output_type": "stream",
       "stream": "stdout",
       "text": "\rProgress 5.7%\rProgress 5.8%\rProgress 6.0%\rProgress 6.1%\rProgress 6.3%\rProgress 6.5%\rProgress 6.6%\rProgress 6.8%\rProgress 6.9%"
      },
      {
       "output_type": "stream",
       "stream": "stdout",
       "text": "\rProgress 7.1%\rProgress 7.2%\rProgress 7.4%\rProgress 7.5%\rProgress 7.7%\rProgress 7.8%\rProgress 8.0%\rProgress 8.1%\rProgress 8.3%\rProgress 8.4%"
      },
      {
       "output_type": "stream",
       "stream": "stdout",
       "text": "\rProgress 8.6%\rProgress 8.8%\rProgress 8.9%\rProgress 9.1%\rProgress 9.2%\rProgress 9.4%\rProgress 9.5%\rProgress 9.7%\rProgress 9.8%\rProgress 10.0%\rProgress 10.1%"
      },
      {
       "output_type": "stream",
       "stream": "stdout",
       "text": "\rProgress 10.3%\rProgress 10.4%\rProgress 10.6%\rProgress 10.8%\rProgress 10.9%\rProgress 11.1%\rProgress 11.2%\rProgress 11.4%\rProgress 11.5%\rProgress 11.7%"
      },
      {
       "output_type": "stream",
       "stream": "stdout",
       "text": "\rProgress 11.8%\rProgress 12.0%\rProgress 12.1%\rProgress 12.3%\rProgress 12.4%\rProgress 12.6%\rProgress 12.7%\rProgress 12.9%\rProgress 13.1%\rProgress 13.2%\rProgress 13.4%"
      },
      {
       "output_type": "stream",
       "stream": "stdout",
       "text": "\rProgress 13.5%\rProgress 13.7%\rProgress 13.8%\rProgress 14.0%\rProgress 14.1%\rProgress 14.3%\rProgress 14.4%\rProgress 14.6%\rProgress 14.7%\rProgress 14.9%\rProgress 15.1%\rProgress 15.2%\rProgress 15.4%\rProgress 15.5%"
      },
      {
       "output_type": "stream",
       "stream": "stdout",
       "text": "\rProgress 15.7%\rProgress 15.8%\rProgress 16.0%\rProgress 16.1%\rProgress 16.3%\rProgress 16.4%\rProgress 16.6%\rProgress 16.7%\rProgress 16.9%\rProgress 17.1%\rProgress 17.2%\rProgress 17.4%\rProgress 17.5%"
      },
      {
       "output_type": "stream",
       "stream": "stdout",
       "text": "\rProgress 17.7%\rProgress 17.8%\rProgress 18.0%\rProgress 18.1%\rProgress 18.3%\rProgress 18.4%\rProgress 18.6%\rProgress 18.7%\rProgress 18.9%"
      },
      {
       "output_type": "stream",
       "stream": "stdout",
       "text": "\rProgress 19.0%\rProgress 19.2%\rProgress 19.4%\rProgress 19.5%\rProgress 19.7%\rProgress 19.8%\rProgress 20.0%\rProgress 20.1%\rProgress 20.3%\rProgress 20.4%\rProgress 20.6%\rProgress 20.7%\rProgress 20.9%\rProgress 21.0%"
      },
      {
       "output_type": "stream",
       "stream": "stdout",
       "text": "\rProgress 21.2%\rProgress 21.4%\rProgress 21.5%\rProgress 21.7%\rProgress 21.8%\rProgress 22.0%\rProgress 22.1%\rProgress 22.3%\rProgress 22.4%"
      },
      {
       "output_type": "stream",
       "stream": "stdout",
       "text": "\rProgress 22.6%\rProgress 22.7%\rProgress 22.9%\rProgress 23.0%\rProgress 23.2%\rProgress 23.3%\rProgress 23.5%\rProgress 23.7%\rProgress 23.8%"
      },
      {
       "output_type": "stream",
       "stream": "stdout",
       "text": "\rProgress 24.0%\rProgress 24.1%\rProgress 24.3%\rProgress 24.4%\rProgress 24.6%\rProgress 24.7%\rProgress 24.9%\rProgress 25.0%\rProgress 25.2%"
      },
      {
       "output_type": "stream",
       "stream": "stdout",
       "text": "\rProgress 25.3%\rProgress 25.5%\rProgress 25.7%\rProgress 25.8%\rProgress 26.0%\rProgress 26.1%\rProgress 26.3%\rProgress 26.4%\rProgress 26.6%\rProgress 26.7%\rProgress 26.9%\rProgress 27.0%\rProgress 27.2%\rProgress 27.3%"
      },
      {
       "output_type": "stream",
       "stream": "stdout",
       "text": "\rProgress 27.5%\rProgress 27.6%\rProgress 27.8%\rProgress 28.0%\rProgress 28.1%\rProgress 28.3%\rProgress 28.4%\rProgress 28.6%\rProgress 28.7%\rProgress 28.9%\rProgress 29.0%\rProgress 29.2%\rProgress 29.3%\rProgress 29.5%"
      },
      {
       "output_type": "stream",
       "stream": "stdout",
       "text": "\rProgress 29.6%\rProgress 29.8%\rProgress 30.0%\rProgress 30.1%\rProgress 30.3%\rProgress 30.4%\rProgress 30.6%\rProgress 30.7%\rProgress 30.9%\rProgress 31.0%\rProgress 31.2%\rProgress 31.3%\rProgress 31.5%"
      },
      {
       "output_type": "stream",
       "stream": "stdout",
       "text": "\rProgress 31.6%\rProgress 31.8%\rProgress 32.0%\rProgress 32.1%\rProgress 32.3%\rProgress 32.4%\rProgress 32.6%\rProgress 32.7%\rProgress 32.9%\rProgress 33.0%\rProgress 33.2%\rProgress 33.3%"
      },
      {
       "output_type": "stream",
       "stream": "stdout",
       "text": "\rProgress 33.5%\rProgress 33.6%\rProgress 33.8%\rProgress 33.9%\rProgress 34.1%\rProgress 34.3%\rProgress 34.4%\rProgress 34.6%\rProgress 34.7%\rProgress 34.9%\rProgress 35.0%\rProgress 35.2%"
      },
      {
       "output_type": "stream",
       "stream": "stdout",
       "text": "\rProgress 35.3%\rProgress 35.5%\rProgress 35.6%\rProgress 35.8%\rProgress 35.9%\rProgress 36.1%\rProgress 36.3%\rProgress 36.4%"
      },
      {
       "output_type": "stream",
       "stream": "stdout",
       "text": "\rProgress 36.6%\rProgress 36.7%\rProgress 36.9%\rProgress 37.0%\rProgress 37.2%\rProgress 37.3%\rProgress 37.5%\rProgress 37.6%\rProgress 37.8%\rProgress 37.9%"
      },
      {
       "output_type": "stream",
       "stream": "stdout",
       "text": "\rProgress 38.1%\rProgress 38.2%\rProgress 38.4%\rProgress 38.6%\rProgress 38.7%\rProgress 38.9%\rProgress 39.0%\rProgress 39.2%\rProgress 39.3%\rProgress 39.5%\rProgress 39.6%"
      },
      {
       "output_type": "stream",
       "stream": "stdout",
       "text": "\rProgress 39.8%\rProgress 39.9%\rProgress 40.1%\rProgress 40.2%\rProgress 40.4%\rProgress 40.6%\rProgress 40.7%\rProgress 40.9%\rProgress 41.0%\rProgress 41.2%\rProgress 41.3%\rProgress 41.5%\rProgress 41.6%\rProgress 41.8%"
      },
      {
       "output_type": "stream",
       "stream": "stdout",
       "text": "\rProgress 41.9%\rProgress 42.1%\rProgress 42.2%\rProgress 42.4%\rProgress 42.5%\rProgress 42.7%\rProgress 42.9%\rProgress 43.0%\rProgress 43.2%\rProgress 43.3%\rProgress 43.5%\rProgress 43.6%\rProgress 43.8%\rProgress 43.9%\rProgress 44.1%"
      },
      {
       "output_type": "stream",
       "stream": "stdout",
       "text": "\rProgress 44.2%\rProgress 44.4%\rProgress 44.5%\rProgress 44.7%\rProgress 44.9%\rProgress 45.0%\rProgress 45.2%\rProgress 45.3%\rProgress 45.5%\rProgress 45.6%\rProgress 45.8%"
      },
      {
       "output_type": "stream",
       "stream": "stdout",
       "text": "\rProgress 45.9%\rProgress 46.1%\rProgress 46.2%\rProgress 46.4%\rProgress 46.5%\rProgress 46.7%\rProgress 46.9%\rProgress 47.0%\rProgress 47.2%\rProgress 47.3%\rProgress 47.5%\rProgress 47.6%\rProgress 47.8%\rProgress 47.9%\rProgress 48.1%"
      },
      {
       "output_type": "stream",
       "stream": "stdout",
       "text": "\rProgress 48.2%\rProgress 48.4%\rProgress 48.5%\rProgress 48.7%\rProgress 48.8%\rProgress 49.0%\rProgress 49.2%\rProgress 49.3%\rProgress 49.5%\rProgress 49.6%\rProgress 49.8%\rProgress 49.9%"
      },
      {
       "output_type": "stream",
       "stream": "stdout",
       "text": "\rProgress 50.1%\rProgress 50.2%\rProgress 50.4%\rProgress 50.5%\rProgress 50.7%\rProgress 50.8%\rProgress 51.0%\rProgress 51.2%\rProgress 51.3%\rProgress 51.5%\rProgress 51.6%"
      },
      {
       "output_type": "stream",
       "stream": "stdout",
       "text": "\rProgress 51.8%\rProgress 51.9%\rProgress 52.1%\rProgress 52.2%\rProgress 52.4%\rProgress 52.5%\rProgress 52.7%\rProgress 52.8%"
      },
      {
       "output_type": "stream",
       "stream": "stdout",
       "text": "\rProgress 53.0%\rProgress 53.1%\rProgress 53.3%\rProgress 53.5%\rProgress 53.6%\rProgress 53.8%\rProgress 53.9%"
      },
      {
       "output_type": "stream",
       "stream": "stdout",
       "text": "\rProgress 54.1%\rProgress 54.2%\rProgress 54.4%\rProgress 54.5%\rProgress 54.7%\rProgress 54.8%\rProgress 55.0%\rProgress 55.1%"
      },
      {
       "output_type": "stream",
       "stream": "stdout",
       "text": "\rProgress 55.3%\rProgress 55.5%\rProgress 55.6%\rProgress 55.8%\rProgress 55.9%\rProgress 56.1%\rProgress 56.2%\rProgress 56.4%\rProgress 56.5%\rProgress 56.7%"
      },
      {
       "output_type": "stream",
       "stream": "stdout",
       "text": "\rProgress 56.8%\rProgress 57.0%\rProgress 57.1%\rProgress 57.3%\rProgress 57.5%\rProgress 57.6%\rProgress 57.8%\rProgress 57.9%\rProgress 58.1%\rProgress 58.2%\rProgress 58.4%\rProgress 58.5%\rProgress 58.7%\rProgress 58.8%\rProgress 59.0%\rProgress 59.1%\rProgress 59.3%"
      },
      {
       "output_type": "stream",
       "stream": "stdout",
       "text": "\rProgress 59.4%\rProgress 59.6%\rProgress 59.8%\rProgress 59.9%\rProgress 60.1%\rProgress 60.2%\rProgress 60.4%\rProgress 60.5%\rProgress 60.7%\rProgress 60.8%\rProgress 61.0%\rProgress 61.1%\rProgress 61.3%\rProgress 61.4%\rProgress 61.6%\rProgress 61.8%"
      },
      {
       "output_type": "stream",
       "stream": "stdout",
       "text": "\rProgress 61.9%\rProgress 62.1%\rProgress 62.2%\rProgress 62.4%\rProgress 62.5%\rProgress 62.7%\rProgress 62.8%\rProgress 63.0%\rProgress 63.1%\rProgress 63.3%\rProgress 63.4%\rProgress 63.6%\rProgress 63.7%"
      },
      {
       "output_type": "stream",
       "stream": "stdout",
       "text": "\rProgress 63.9%\rProgress 64.1%\rProgress 64.2%\rProgress 64.4%\rProgress 64.5%\rProgress 64.7%\rProgress 64.8%\rProgress 65.0%\rProgress 65.1%\rProgress 65.3%\rProgress 65.4%\rProgress 65.6%\rProgress 65.7%\rProgress 65.9%\rProgress 66.1%\rProgress 66.2%"
      },
      {
       "output_type": "stream",
       "stream": "stdout",
       "text": "\rProgress 66.4%\rProgress 66.5%\rProgress 66.7%\rProgress 66.8%\rProgress 67.0%\rProgress 67.1%\rProgress 67.3%\rProgress 67.4%\rProgress 67.6%\rProgress 67.7%\rProgress 67.9%\rProgress 68.0%"
      },
      {
       "output_type": "stream",
       "stream": "stdout",
       "text": "\rProgress 68.2%\rProgress 68.4%\rProgress 68.5%\rProgress 68.7%\rProgress 68.8%\rProgress 69.0%\rProgress 69.1%\rProgress 69.3%\rProgress 69.4%\rProgress 69.6%\rProgress 69.7%\rProgress 69.9%\rProgress 70.0%\rProgress 70.2%\rProgress 70.4%\rProgress 70.5%\rProgress 70.7%"
      },
      {
       "output_type": "stream",
       "stream": "stdout",
       "text": "\rProgress 70.8%\rProgress 71.0%\rProgress 71.1%\rProgress 71.3%\rProgress 71.4%\rProgress 71.6%\rProgress 71.7%\rProgress 71.9%\rProgress 72.0%\rProgress 72.2%\rProgress 72.4%\rProgress 72.5%\rProgress 72.7%\rProgress 72.8%"
      },
      {
       "output_type": "stream",
       "stream": "stdout",
       "text": "\rProgress 73.0%\rProgress 73.1%\rProgress 73.3%\rProgress 73.4%\rProgress 73.6%\rProgress 73.7%\rProgress 73.9%\rProgress 74.0%\rProgress 74.2%\rProgress 74.3%\rProgress 74.5%\rProgress 74.7%"
      },
      {
       "output_type": "stream",
       "stream": "stdout",
       "text": "\rProgress 74.8%\rProgress 75.0%\rProgress 75.1%\rProgress 75.3%\rProgress 75.4%\rProgress 75.6%\rProgress 75.7%\rProgress 75.9%\rProgress 76.0%\rProgress 76.2%\rProgress 76.3%\rProgress 76.5%"
      },
      {
       "output_type": "stream",
       "stream": "stdout",
       "text": "\rProgress 76.7%\rProgress 76.8%\rProgress 77.0%\rProgress 77.1%\rProgress 77.3%\rProgress 77.4%\rProgress 77.6%\rProgress 77.7%\rProgress 77.9%"
      },
      {
       "output_type": "stream",
       "stream": "stdout",
       "text": "\rProgress 78.0%\rProgress 78.2%\rProgress 78.3%\rProgress 78.5%\rProgress 78.6%\rProgress 78.8%\rProgress 79.0%\rProgress 79.1%\rProgress 79.3%\rProgress 79.4%\rProgress 79.6%\rProgress 79.7%"
      },
      {
       "output_type": "stream",
       "stream": "stdout",
       "text": "\rProgress 79.9%\rProgress 80.0%\rProgress 80.2%\rProgress 80.3%\rProgress 80.5%\rProgress 80.6%\rProgress 80.8%\rProgress 81.0%\rProgress 81.1%\rProgress 81.3%\rProgress 81.4%\rProgress 81.6%\rProgress 81.7%"
      },
      {
       "output_type": "stream",
       "stream": "stdout",
       "text": "\rProgress 81.9%\rProgress 82.0%\rProgress 82.2%\rProgress 82.3%\rProgress 82.5%\rProgress 82.6%\rProgress 82.8%\rProgress 82.9%\rProgress 83.1%\rProgress 83.3%"
      },
      {
       "output_type": "stream",
       "stream": "stdout",
       "text": "\rProgress 83.4%\rProgress 83.6%\rProgress 83.7%\rProgress 83.9%\rProgress 84.0%\rProgress 84.2%\rProgress 84.3%\rProgress 84.5%\rProgress 84.6%\rProgress 84.8%\rProgress 84.9%\rProgress 85.1%\rProgress 85.3%\rProgress 85.4%"
      },
      {
       "output_type": "stream",
       "stream": "stdout",
       "text": "\rProgress 85.6%\rProgress 85.7%\rProgress 85.9%\rProgress 86.0%\rProgress 86.2%\rProgress 86.3%\rProgress 86.5%\rProgress 86.6%\rProgress 86.8%\rProgress 86.9%\rProgress 87.1%\rProgress 87.3%"
      },
      {
       "output_type": "stream",
       "stream": "stdout",
       "text": "\rProgress 87.4%\rProgress 87.6%\rProgress 87.7%\rProgress 87.9%\rProgress 88.0%\rProgress 88.2%\rProgress 88.3%\rProgress 88.5%\rProgress 88.6%\rProgress 88.8%\rProgress 88.9%"
      },
      {
       "output_type": "stream",
       "stream": "stdout",
       "text": "\rProgress 89.1%\rProgress 89.2%\rProgress 89.4%\rProgress 89.6%\rProgress 89.7%\rProgress 89.9%\rProgress 90.0%\rProgress 90.2%\rProgress 90.3%\rProgress 90.5%\rProgress 90.6%\rProgress 90.8%"
      },
      {
       "output_type": "stream",
       "stream": "stdout",
       "text": "\rProgress 90.9%\rProgress 91.1%\rProgress 91.2%\rProgress 91.4%\rProgress 91.6%\rProgress 91.7%\rProgress 91.9%\rProgress 92.0%\rProgress 92.2%\rProgress 92.3%\rProgress 92.5%\rProgress 92.6%\rProgress 92.8%\rProgress 92.9%"
      },
      {
       "output_type": "stream",
       "stream": "stdout",
       "text": "\rProgress 93.1%\rProgress 93.2%\rProgress 93.4%\rProgress 93.5%\rProgress 93.7%\rProgress 93.9%\rProgress 94.0%\rProgress 94.2%\rProgress 94.3%\rProgress 94.5%\rProgress 94.6%\rProgress 94.8%\rProgress 94.9%\rProgress 95.1%"
      },
      {
       "output_type": "stream",
       "stream": "stdout",
       "text": "\rProgress 95.2%\rProgress 95.4%\rProgress 95.5%\rProgress 95.7%\rProgress 95.9%\rProgress 96.0%\rProgress 96.2%\rProgress 96.3%\rProgress 96.5%\rProgress 96.6%\rProgress 96.8%\rProgress 96.9%"
      },
      {
       "output_type": "stream",
       "stream": "stdout",
       "text": "\rProgress 97.1%\rProgress 97.2%\rProgress 97.4%\rProgress 97.5%\rProgress 97.7%\rProgress 97.8%\rProgress 98.0%\rProgress 98.2%\rProgress 98.3%\rProgress 98.5%\rProgress 98.6%\rProgress 98.8%\rProgress 98.9%\rProgress 99.1%"
      },
      {
       "output_type": "stream",
       "stream": "stdout",
       "text": "\rProgress 99.2%\rProgress 99.4%\rProgress 99.5%\rProgress 99.7%\rProgress 99.8%\rProgress 100.0%\r2014-05-26 19:33:49.842018 Finished routes time series in 0.05 min\n"
      },
      {
       "html": "<div style=\"max-height:1000px;max-width:1500px;overflow:auto;\">\n<table border=\"1\" class=\"dataframe\">\n  <thead>\n    <tr style=\"text-align: right;\">\n      <th></th>\n      <th>2000-01-01 00:00:00</th>\n      <th>2000-01-01 03:00:00</th>\n      <th>2000-01-01 06:00:00</th>\n      <th>2000-01-01 09:00:00</th>\n      <th>2000-01-01 12:00:00</th>\n      <th>2000-01-01 15:00:00</th>\n      <th>2000-01-01 18:00:00</th>\n      <th>2000-01-01 21:00:00</th>\n    </tr>\n  </thead>\n  <tbody>\n    <tr>\n      <th>110-275</th>\n      <td> 10.036859</td>\n      <td>  9.148305</td>\n      <td> 9.094744</td>\n      <td> 9.074074</td>\n      <td> 9.074074</td>\n      <td> 9.074074</td>\n      <td> 9.789685</td>\n      <td> 10.177921</td>\n    </tr>\n    <tr>\n      <th>110-423</th>\n      <td>       NaN</td>\n      <td>       NaN</td>\n      <td>      NaN</td>\n      <td>      NaN</td>\n      <td>      NaN</td>\n      <td>      NaN</td>\n      <td>      NaN</td>\n      <td>       NaN</td>\n    </tr>\n    <tr>\n      <th>110N-275</th>\n      <td> 11.480333</td>\n      <td> 11.876221</td>\n      <td>      NaN</td>\n      <td>      NaN</td>\n      <td>      NaN</td>\n      <td>      NaN</td>\n      <td>      NaN</td>\n      <td>       NaN</td>\n    </tr>\n    <tr>\n      <th>110N-423</th>\n      <td>       NaN</td>\n      <td>       NaN</td>\n      <td>      NaN</td>\n      <td>      NaN</td>\n      <td>      NaN</td>\n      <td>      NaN</td>\n      <td>      NaN</td>\n      <td>       NaN</td>\n    </tr>\n    <tr>\n      <th>111-275</th>\n      <td> 10.123512</td>\n      <td>       NaN</td>\n      <td> 9.288906</td>\n      <td> 9.290108</td>\n      <td> 9.290108</td>\n      <td> 9.290108</td>\n      <td> 9.830833</td>\n      <td> 10.197262</td>\n    </tr>\n  </tbody>\n</table>\n<p>5 rows \u00d7 8 columns</p>\n</div>",
       "metadata": {},
       "output_type": "pyout",
       "prompt_number": 10,
       "text": "          2000-01-01 00:00:00  2000-01-01 03:00:00  2000-01-01 06:00:00  \\\n110-275             10.036859             9.148305             9.094744   \n110-423                   NaN                  NaN                  NaN   \n110N-275            11.480333            11.876221                  NaN   \n110N-423                  NaN                  NaN                  NaN   \n111-275             10.123512                  NaN             9.288906   \n\n          2000-01-01 09:00:00  2000-01-01 12:00:00  2000-01-01 15:00:00  \\\n110-275              9.074074             9.074074             9.074074   \n110-423                   NaN                  NaN                  NaN   \n110N-275                  NaN                  NaN                  NaN   \n110N-423                  NaN                  NaN                  NaN   \n111-275              9.290108             9.290108             9.290108   \n\n          2000-01-01 18:00:00  2000-01-01 21:00:00  \n110-275              9.789685            10.177921  \n110-423                   NaN                  NaN  \n110N-275                  NaN                  NaN  \n110N-423                  NaN                  NaN  \n111-275              9.830833            10.197262  \n\n[5 rows x 8 columns]"
      }
     ],
     "prompt_number": 10
    },
    {
     "cell_type": "code",
     "collapsed": false,
     "input": "# Create and dump all stats to CSV\nfeed.dump_all_stats(gtfs_toolkit_path + 'examples/stats/')",
     "language": "python",
     "metadata": {},
     "outputs": [
      {
       "output_type": "stream",
       "stream": "stdout",
       "text": "2014-05-26 19:53:22.485715 Beginning process...\n2014-05-26 19:53:22.492166 Calculating stops stats...\n2014-05-26 19:53:22.492243 Getting activity for 2713 trips over 5 dates...\n2014-05-26 19:53:22.783779"
      },
      {
       "output_type": "stream",
       "stream": "stdout",
       "text": " Finished trips activity in 0.00 min\n2014-05-26 19:53:25.344758"
      },
      {
       "output_type": "stream",
       "stream": "stdout",
       "text": " Finished stops stats in 0.03 min\n2014-05-26 19:53:25.349590 Creating stops time series for 421 stops...\n2014-05-26 19:53:25.349901 Getting activity for 2713 trips over 5 dates...\n2014-05-26 19:53:25.602051"
      },
      {
       "output_type": "stream",
       "stream": "stdout",
       "text": " Finished trips activity in 0.00 min\nProgress 0.2%"
      },
      {
       "output_type": "stream",
       "stream": "stdout",
       "text": "\rProgress 0.5%\rProgress 0.7%\rProgress 1.0%"
      },
      {
       "output_type": "stream",
       "stream": "stdout",
       "text": "\rProgress 1.2%\rProgress 1.4%"
      },
      {
       "output_type": "stream",
       "stream": "stdout",
       "text": "\rProgress 1.7%\rProgress 1.9%\rProgress 2.1%"
      },
      {
       "output_type": "stream",
       "stream": "stdout",
       "text": "\rProgress 2.4%\rProgress 2.6%\rProgress 2.9%"
      },
      {
       "output_type": "stream",
       "stream": "stdout",
       "text": "\rProgress 3.1%\rProgress 3.3%\rProgress 3.6%"
      },
      {
       "output_type": "stream",
       "stream": "stdout",
       "text": "\rProgress 3.8%\rProgress 4.0%"
      },
      {
       "output_type": "stream",
       "stream": "stdout",
       "text": "\rProgress 4.3%\rProgress 4.5%\rProgress 4.8%"
      },
      {
       "output_type": "stream",
       "stream": "stdout",
       "text": "\rProgress 5.0%\rProgress 5.2%\rProgress 5.5%"
      },
      {
       "output_type": "stream",
       "stream": "stdout",
       "text": "\rProgress 5.7%\rProgress 5.9%"
      },
      {
       "output_type": "stream",
       "stream": "stdout",
       "text": "\rProgress 6.2%\rProgress 6.4%"
      },
      {
       "output_type": "stream",
       "stream": "stdout",
       "text": "\rProgress 6.7%\rProgress 6.9%"
      },
      {
       "output_type": "stream",
       "stream": "stdout",
       "text": "\rProgress 7.1%\rProgress 7.4%\rProgress 7.6%"
      },
      {
       "output_type": "stream",
       "stream": "stdout",
       "text": "\rProgress 7.8%\rProgress 8.1%\rProgress 8.3%"
      },
      {
       "output_type": "stream",
       "stream": "stdout",
       "text": "\rProgress 8.6%\rProgress 8.8%\rProgress 9.0%"
      },
      {
       "output_type": "stream",
       "stream": "stdout",
       "text": "\rProgress 9.3%\rProgress 9.5%"
      },
      {
       "output_type": "stream",
       "stream": "stdout",
       "text": "\rProgress 9.7%\rProgress 10.0%"
      },
      {
       "output_type": "stream",
       "stream": "stdout",
       "text": "\rProgress 10.2%\rProgress 10.5%"
      },
      {
       "output_type": "stream",
       "stream": "stdout",
       "text": "\rProgress 10.7%\rProgress 10.9%"
      },
      {
       "output_type": "stream",
       "stream": "stdout",
       "text": "\rProgress 11.2%\rProgress 11.4%"
      },
      {
       "output_type": "stream",
       "stream": "stdout",
       "text": "\rProgress 11.6%\rProgress 11.9%"
      },
      {
       "output_type": "stream",
       "stream": "stdout",
       "text": "\rProgress 12.1%\rProgress 12.4%"
      },
      {
       "output_type": "stream",
       "stream": "stdout",
       "text": "\rProgress 12.6%\rProgress 12.8%"
      },
      {
       "output_type": "stream",
       "stream": "stdout",
       "text": "\rProgress 13.1%\rProgress 13.3%\rProgress 13.5%\rProgress 13.8%"
      },
      {
       "output_type": "stream",
       "stream": "stdout",
       "text": "\rProgress 14.0%\rProgress 14.3%\rProgress 14.5%\rProgress 14.7%"
      },
      {
       "output_type": "stream",
       "stream": "stdout",
       "text": "\rProgress 15.0%\rProgress 15.2%\rProgress 15.4%\rProgress 15.7%"
      },
      {
       "output_type": "stream",
       "stream": "stdout",
       "text": "\rProgress 15.9%\rProgress 16.2%\rProgress 16.4%"
      },
      {
       "output_type": "stream",
       "stream": "stdout",
       "text": "\rProgress 16.6%\rProgress 16.9%\rProgress 17.1%"
      },
      {
       "output_type": "stream",
       "stream": "stdout",
       "text": "\rProgress 17.3%\rProgress 17.6%"
      },
      {
       "output_type": "stream",
       "stream": "stdout",
       "text": "\rProgress 17.8%\rProgress 18.1%\rProgress 18.3%"
      },
      {
       "output_type": "stream",
       "stream": "stdout",
       "text": "\rProgress 18.5%\rProgress 18.8%"
      },
      {
       "output_type": "stream",
       "stream": "stdout",
       "text": "\rProgress 19.0%\rProgress 19.2%"
      },
      {
       "output_type": "stream",
       "stream": "stdout",
       "text": "\rProgress 19.5%\rProgress 19.7%"
      },
      {
       "output_type": "stream",
       "stream": "stdout",
       "text": "\rProgress 20.0%\rProgress 20.2%"
      },
      {
       "output_type": "stream",
       "stream": "stdout",
       "text": "\rProgress 20.4%\rProgress 20.7%"
      },
      {
       "output_type": "stream",
       "stream": "stdout",
       "text": "\rProgress 20.9%\rProgress 21.1%\rProgress 21.4%\rProgress 21.6%"
      },
      {
       "output_type": "stream",
       "stream": "stdout",
       "text": "\rProgress 21.9%\rProgress 22.1%\rProgress 22.3%"
      },
      {
       "output_type": "stream",
       "stream": "stdout",
       "text": "\rProgress 22.6%\rProgress 22.8%\rProgress 23.0%"
      },
      {
       "output_type": "stream",
       "stream": "stdout",
       "text": "\rProgress 23.3%\rProgress 23.5%\rProgress 23.8%"
      },
      {
       "output_type": "stream",
       "stream": "stdout",
       "text": "\rProgress 24.0%\rProgress 24.2%"
      },
      {
       "output_type": "stream",
       "stream": "stdout",
       "text": "\rProgress 24.5%"
      },
      {
       "output_type": "stream",
       "stream": "stdout",
       "text": "\rProgress 24.7%"
      },
      {
       "output_type": "stream",
       "stream": "stdout",
       "text": "\rProgress 24.9%"
      },
      {
       "output_type": "stream",
       "stream": "stdout",
       "text": "\rProgress 25.2%"
      },
      {
       "output_type": "stream",
       "stream": "stdout",
       "text": "\rProgress 25.4%"
      },
      {
       "output_type": "stream",
       "stream": "stdout",
       "text": "\rProgress 25.7%"
      },
      {
       "output_type": "stream",
       "stream": "stdout",
       "text": "\rProgress 25.9%"
      },
      {
       "output_type": "stream",
       "stream": "stdout",
       "text": "\rProgress 26.1%\rProgress 26.4%"
      },
      {
       "output_type": "stream",
       "stream": "stdout",
       "text": "\rProgress 26.6%\rProgress 26.8%"
      },
      {
       "output_type": "stream",
       "stream": "stdout",
       "text": "\rProgress 27.1%"
      },
      {
       "output_type": "stream",
       "stream": "stdout",
       "text": "\rProgress 27.3%"
      },
      {
       "output_type": "stream",
       "stream": "stdout",
       "text": "\rProgress 27.6%"
      },
      {
       "output_type": "stream",
       "stream": "stdout",
       "text": "\rProgress 27.8%"
      },
      {
       "output_type": "stream",
       "stream": "stdout",
       "text": "\rProgress 28.0%"
      },
      {
       "output_type": "stream",
       "stream": "stdout",
       "text": "\rProgress 28.3%\rProgress 28.5%"
      },
      {
       "output_type": "stream",
       "stream": "stdout",
       "text": "\rProgress 28.7%"
      },
      {
       "output_type": "stream",
       "stream": "stdout",
       "text": "\rProgress 29.0%"
      },
      {
       "output_type": "stream",
       "stream": "stdout",
       "text": "\rProgress 29.2%"
      },
      {
       "output_type": "stream",
       "stream": "stdout",
       "text": "\rProgress 29.5%"
      },
      {
       "output_type": "stream",
       "stream": "stdout",
       "text": "\rProgress 29.7%"
      },
      {
       "output_type": "stream",
       "stream": "stdout",
       "text": "\rProgress 29.9%"
      },
      {
       "output_type": "stream",
       "stream": "stdout",
       "text": "\rProgress 30.2%"
      },
      {
       "output_type": "stream",
       "stream": "stdout",
       "text": "\rProgress 30.4%"
      },
      {
       "output_type": "stream",
       "stream": "stdout",
       "text": "\rProgress 30.6%"
      },
      {
       "output_type": "stream",
       "stream": "stdout",
       "text": "\rProgress 30.9%"
      },
      {
       "output_type": "stream",
       "stream": "stdout",
       "text": "\rProgress 31.1%"
      },
      {
       "output_type": "stream",
       "stream": "stdout",
       "text": "\rProgress 31.4%"
      },
      {
       "output_type": "stream",
       "stream": "stdout",
       "text": "\rProgress 31.6%"
      },
      {
       "output_type": "stream",
       "stream": "stdout",
       "text": "\rProgress 31.8%"
      },
      {
       "output_type": "stream",
       "stream": "stdout",
       "text": "\rProgress 32.1%"
      },
      {
       "output_type": "stream",
       "stream": "stdout",
       "text": "\rProgress 32.3%\rProgress 32.5%\rProgress 32.8%\rProgress 33.0%"
      },
      {
       "output_type": "stream",
       "stream": "stdout",
       "text": "\rProgress 33.3%\rProgress 33.5%\rProgress 33.7%\rProgress 34.0%"
      },
      {
       "output_type": "stream",
       "stream": "stdout",
       "text": "\rProgress 34.2%\rProgress 34.4%\rProgress 34.7%\rProgress 34.9%"
      },
      {
       "output_type": "stream",
       "stream": "stdout",
       "text": "\rProgress 35.2%\rProgress 35.4%\rProgress 35.6%\rProgress 35.9%"
      },
      {
       "output_type": "stream",
       "stream": "stdout",
       "text": "\rProgress 36.1%\rProgress 36.3%\rProgress 36.6%\rProgress 36.8%"
      },
      {
       "output_type": "stream",
       "stream": "stdout",
       "text": "\rProgress 37.1%\rProgress 37.3%\rProgress 37.5%\rProgress 37.8%"
      },
      {
       "output_type": "stream",
       "stream": "stdout",
       "text": "\rProgress 38.0%\rProgress 38.2%\rProgress 38.5%\rProgress 38.7%"
      },
      {
       "output_type": "stream",
       "stream": "stdout",
       "text": "\rProgress 39.0%\rProgress 39.2%\rProgress 39.4%\rProgress 39.7%"
      },
      {
       "output_type": "stream",
       "stream": "stdout",
       "text": "\rProgress 39.9%\rProgress 40.1%\rProgress 40.4%\rProgress 40.6%\rProgress 40.9%"
      },
      {
       "output_type": "stream",
       "stream": "stdout",
       "text": "\rProgress 41.1%\rProgress 41.3%"
      },
      {
       "output_type": "stream",
       "stream": "stdout",
       "text": "\rProgress 41.6%"
      },
      {
       "output_type": "stream",
       "stream": "stdout",
       "text": "\rProgress 41.8%"
      },
      {
       "output_type": "stream",
       "stream": "stdout",
       "text": "\rProgress 42.0%\rProgress 42.3%"
      },
      {
       "output_type": "stream",
       "stream": "stdout",
       "text": "\rProgress 42.5%\rProgress 42.8%\rProgress 43.0%"
      },
      {
       "output_type": "stream",
       "stream": "stdout",
       "text": "\rProgress 43.2%\rProgress 43.5%\rProgress 43.7%"
      },
      {
       "output_type": "stream",
       "stream": "stdout",
       "text": "\rProgress 43.9%\rProgress 44.2%\rProgress 44.4%"
      },
      {
       "output_type": "stream",
       "stream": "stdout",
       "text": "\rProgress 44.7%\rProgress 44.9%\rProgress 45.1%"
      },
      {
       "output_type": "stream",
       "stream": "stdout",
       "text": "\rProgress 45.4%\rProgress 45.6%\rProgress 45.8%"
      },
      {
       "output_type": "stream",
       "stream": "stdout",
       "text": "\rProgress 46.1%\rProgress 46.3%"
      },
      {
       "output_type": "stream",
       "stream": "stdout",
       "text": "\rProgress 46.6%"
      },
      {
       "output_type": "stream",
       "stream": "stdout",
       "text": "\rProgress 46.8%\rProgress 47.0%\rProgress 47.3%\rProgress 47.5%"
      },
      {
       "output_type": "stream",
       "stream": "stdout",
       "text": "\rProgress 47.7%\rProgress 48.0%\rProgress 48.2%\rProgress 48.5%"
      },
      {
       "output_type": "stream",
       "stream": "stdout",
       "text": "\rProgress 48.7%\rProgress 48.9%\rProgress 49.2%"
      },
      {
       "output_type": "stream",
       "stream": "stdout",
       "text": "\rProgress 49.4%"
      },
      {
       "output_type": "stream",
       "stream": "stdout",
       "text": "\rProgress 49.6%\rProgress 49.9%\rProgress 50.1%"
      },
      {
       "output_type": "stream",
       "stream": "stdout",
       "text": "\rProgress 50.4%\rProgress 50.6%\rProgress 50.8%\rProgress 51.1%\rProgress 51.3%"
      },
      {
       "output_type": "stream",
       "stream": "stdout",
       "text": "\rProgress 51.5%\rProgress 51.8%\rProgress 52.0%\rProgress 52.3%"
      },
      {
       "output_type": "stream",
       "stream": "stdout",
       "text": "\rProgress 52.5%\rProgress 52.7%"
      },
      {
       "output_type": "stream",
       "stream": "stdout",
       "text": "\rProgress 53.0%"
      },
      {
       "output_type": "stream",
       "stream": "stdout",
       "text": "\rProgress 53.2%"
      },
      {
       "output_type": "stream",
       "stream": "stdout",
       "text": "\rProgress 53.4%"
      },
      {
       "output_type": "stream",
       "stream": "stdout",
       "text": "\rProgress 53.7%"
      },
      {
       "output_type": "stream",
       "stream": "stdout",
       "text": "\rProgress 53.9%"
      },
      {
       "output_type": "stream",
       "stream": "stdout",
       "text": "\rProgress 54.2%"
      },
      {
       "output_type": "stream",
       "stream": "stdout",
       "text": "\rProgress 54.4%"
      },
      {
       "output_type": "stream",
       "stream": "stdout",
       "text": "\rProgress 54.6%"
      },
      {
       "output_type": "stream",
       "stream": "stdout",
       "text": "\rProgress 54.9%"
      },
      {
       "output_type": "stream",
       "stream": "stdout",
       "text": "\rProgress 55.1%"
      },
      {
       "output_type": "stream",
       "stream": "stdout",
       "text": "\rProgress 55.3%"
      },
      {
       "output_type": "stream",
       "stream": "stdout",
       "text": "\rProgress 55.6%"
      },
      {
       "output_type": "stream",
       "stream": "stdout",
       "text": "\rProgress 55.8%\rProgress 56.1%"
      },
      {
       "output_type": "stream",
       "stream": "stdout",
       "text": "\rProgress 56.3%"
      },
      {
       "output_type": "stream",
       "stream": "stdout",
       "text": "\rProgress 56.5%"
      },
      {
       "output_type": "stream",
       "stream": "stdout",
       "text": "\rProgress 56.8%"
      },
      {
       "output_type": "stream",
       "stream": "stdout",
       "text": "\rProgress 57.0%"
      },
      {
       "output_type": "stream",
       "stream": "stdout",
       "text": "\rProgress 57.2%\rProgress 57.5%\rProgress 57.7%"
      },
      {
       "output_type": "stream",
       "stream": "stdout",
       "text": "\rProgress 58.0%\rProgress 58.2%\rProgress 58.4%"
      },
      {
       "output_type": "stream",
       "stream": "stdout",
       "text": "\rProgress 58.7%\rProgress 58.9%"
      },
      {
       "output_type": "stream",
       "stream": "stdout",
       "text": "\rProgress 59.1%\rProgress 59.4%"
      },
      {
       "output_type": "stream",
       "stream": "stdout",
       "text": "\rProgress 59.6%\rProgress 59.9%"
      },
      {
       "output_type": "stream",
       "stream": "stdout",
       "text": "\rProgress 60.1%"
      },
      {
       "output_type": "stream",
       "stream": "stdout",
       "text": "\rProgress 60.3%\rProgress 60.6%\rProgress 60.8%"
      },
      {
       "output_type": "stream",
       "stream": "stdout",
       "text": "\rProgress 61.0%\rProgress 61.3%\rProgress 61.5%"
      },
      {
       "output_type": "stream",
       "stream": "stdout",
       "text": "\rProgress 61.8%\rProgress 62.0%\rProgress 62.2%\rProgress 62.5%"
      },
      {
       "output_type": "stream",
       "stream": "stdout",
       "text": "\rProgress 62.7%\rProgress 62.9%"
      },
      {
       "output_type": "stream",
       "stream": "stdout",
       "text": "\rProgress 63.2%\rProgress 63.4%\rProgress 63.7%"
      },
      {
       "output_type": "stream",
       "stream": "stdout",
       "text": "\rProgress 63.9%\rProgress 64.1%\rProgress 64.4%"
      },
      {
       "output_type": "stream",
       "stream": "stdout",
       "text": "\rProgress 64.6%\rProgress 64.8%\rProgress 65.1%"
      },
      {
       "output_type": "stream",
       "stream": "stdout",
       "text": "\rProgress 65.3%\rProgress 65.6%"
      },
      {
       "output_type": "stream",
       "stream": "stdout",
       "text": "\rProgress 65.8%\rProgress 66.0%\rProgress 66.3%"
      },
      {
       "output_type": "stream",
       "stream": "stdout",
       "text": "\rProgress 66.5%\rProgress 66.7%\rProgress 67.0%"
      },
      {
       "output_type": "stream",
       "stream": "stdout",
       "text": "\rProgress 67.2%\rProgress 67.5%\rProgress 67.7%"
      },
      {
       "output_type": "stream",
       "stream": "stdout",
       "text": "\rProgress 67.9%\rProgress 68.2%\rProgress 68.4%"
      },
      {
       "output_type": "stream",
       "stream": "stdout",
       "text": "\rProgress 68.6%\rProgress 68.9%"
      },
      {
       "output_type": "stream",
       "stream": "stdout",
       "text": "\rProgress 69.1%\rProgress 69.4%\rProgress 69.6%"
      },
      {
       "output_type": "stream",
       "stream": "stdout",
       "text": "\rProgress 69.8%\rProgress 70.1%\rProgress 70.3%"
      },
      {
       "output_type": "stream",
       "stream": "stdout",
       "text": "\rProgress 70.5%\rProgress 70.8%\rProgress 71.0%"
      },
      {
       "output_type": "stream",
       "stream": "stdout",
       "text": "\rProgress 71.3%\rProgress 71.5%\rProgress 71.7%\rProgress 72.0%"
      },
      {
       "output_type": "stream",
       "stream": "stdout",
       "text": "\rProgress 72.2%\rProgress 72.4%\rProgress 72.7%\rProgress 72.9%"
      },
      {
       "output_type": "stream",
       "stream": "stdout",
       "text": "\rProgress 73.2%\rProgress 73.4%"
      },
      {
       "output_type": "stream",
       "stream": "stdout",
       "text": "\rProgress 73.6%\rProgress 73.9%\rProgress 74.1%"
      },
      {
       "output_type": "stream",
       "stream": "stdout",
       "text": "\rProgress 74.3%\rProgress 74.6%\rProgress 74.8%"
      },
      {
       "output_type": "stream",
       "stream": "stdout",
       "text": "\rProgress 75.1%"
      },
      {
       "output_type": "stream",
       "stream": "stdout",
       "text": "\rProgress 75.3%"
      },
      {
       "output_type": "stream",
       "stream": "stdout",
       "text": "\rProgress 75.5%\rProgress 75.8%\rProgress 76.0%"
      },
      {
       "output_type": "stream",
       "stream": "stdout",
       "text": "\rProgress 76.2%\rProgress 76.5%\rProgress 76.7%"
      },
      {
       "output_type": "stream",
       "stream": "stdout",
       "text": "\rProgress 77.0%\rProgress 77.2%"
      },
      {
       "output_type": "stream",
       "stream": "stdout",
       "text": "\rProgress 77.4%\rProgress 77.7%\rProgress 77.9%"
      },
      {
       "output_type": "stream",
       "stream": "stdout",
       "text": "\rProgress 78.1%\rProgress 78.4%"
      },
      {
       "output_type": "stream",
       "stream": "stdout",
       "text": "\rProgress 78.6%\rProgress 78.9%"
      },
      {
       "output_type": "stream",
       "stream": "stdout",
       "text": "\rProgress 79.1%\rProgress 79.3%\rProgress 79.6%"
      },
      {
       "output_type": "stream",
       "stream": "stdout",
       "text": "\rProgress 79.8%\rProgress 80.0%\rProgress 80.3%"
      },
      {
       "output_type": "stream",
       "stream": "stdout",
       "text": "\rProgress 80.5%\rProgress 80.8%\rProgress 81.0%"
      },
      {
       "output_type": "stream",
       "stream": "stdout",
       "text": "\rProgress 81.2%\rProgress 81.5%\rProgress 81.7%"
      },
      {
       "output_type": "stream",
       "stream": "stdout",
       "text": "\rProgress 81.9%\rProgress 82.2%\rProgress 82.4%\rProgress 82.7%"
      },
      {
       "output_type": "stream",
       "stream": "stdout",
       "text": "\rProgress 82.9%\rProgress 83.1%"
      },
      {
       "output_type": "stream",
       "stream": "stdout",
       "text": "\rProgress 83.4%\rProgress 83.6%"
      },
      {
       "output_type": "stream",
       "stream": "stdout",
       "text": "\rProgress 83.8%\rProgress 84.1%\rProgress 84.3%"
      },
      {
       "output_type": "stream",
       "stream": "stdout",
       "text": "\rProgress 84.6%\rProgress 84.8%\rProgress 85.0%\rProgress 85.3%"
      },
      {
       "output_type": "stream",
       "stream": "stdout",
       "text": "\rProgress 85.5%\rProgress 85.7%\rProgress 86.0%\rProgress 86.2%\rProgress 86.5%"
      },
      {
       "output_type": "stream",
       "stream": "stdout",
       "text": "\rProgress 86.7%\rProgress 86.9%\rProgress 87.2%\rProgress 87.4%\rProgress 87.6%"
      },
      {
       "output_type": "stream",
       "stream": "stdout",
       "text": "\rProgress 87.9%\rProgress 88.1%\rProgress 88.4%\rProgress 88.6%"
      },
      {
       "output_type": "stream",
       "stream": "stdout",
       "text": "\rProgress 88.8%\rProgress 89.1%\rProgress 89.3%"
      },
      {
       "output_type": "stream",
       "stream": "stdout",
       "text": "\rProgress 89.5%\rProgress 89.8%\rProgress 90.0%"
      },
      {
       "output_type": "stream",
       "stream": "stdout",
       "text": "\rProgress 90.3%\rProgress 90.5%"
      },
      {
       "output_type": "stream",
       "stream": "stdout",
       "text": "\rProgress 90.7%\rProgress 91.0%\rProgress 91.2%"
      },
      {
       "output_type": "stream",
       "stream": "stdout",
       "text": "\rProgress 91.4%\rProgress 91.7%\rProgress 91.9%"
      },
      {
       "output_type": "stream",
       "stream": "stdout",
       "text": "\rProgress 92.2%\rProgress 92.4%\rProgress 92.6%"
      },
      {
       "output_type": "stream",
       "stream": "stdout",
       "text": "\rProgress 92.9%\rProgress 93.1%\rProgress 93.3%\rProgress 93.6%"
      },
      {
       "output_type": "stream",
       "stream": "stdout",
       "text": "\rProgress 93.8%\rProgress 94.1%"
      },
      {
       "output_type": "stream",
       "stream": "stdout",
       "text": "\rProgress 94.3%\rProgress 94.5%\rProgress 94.8%"
      },
      {
       "output_type": "stream",
       "stream": "stdout",
       "text": "\rProgress 95.0%\rProgress 95.2%\rProgress 95.5%"
      },
      {
       "output_type": "stream",
       "stream": "stdout",
       "text": "\rProgress 95.7%\rProgress 96.0%"
      },
      {
       "output_type": "stream",
       "stream": "stdout",
       "text": "\rProgress 96.2%\rProgress 96.4%\rProgress 96.7%"
      },
      {
       "output_type": "stream",
       "stream": "stdout",
       "text": "\rProgress 96.9%\rProgress 97.1%\rProgress 97.4%\rProgress 97.6%\r2014-05-26 19:53:41.530459"
      },
      {
       "output_type": "stream",
       "stream": "stdout",
       "text": " Finished stops time series in 0.27 min\n2014-05-26 19:53:41.538104 Creating trip stats for 2713 trips...\n2014-05-26 19:53:45.099106"
      },
      {
       "output_type": "stream",
       "stream": "stdout",
       "text": " Finished trips stats in 0.05 min\n2014-05-26 19:53:45.113721 Creating routes stats for 44 routes...\n2014-05-26 19:53:45.113810 Getting activity for 2713 trips over 5 dates...\n2014-05-26 19:53:45.354504"
      },
      {
       "output_type": "stream",
       "stream": "stdout",
       "text": " Finished trips activity in 0.00 min\n2014-05-26 19:53:45.577640"
      },
      {
       "output_type": "stream",
       "stream": "stdout",
       "text": " Finished routes stats in 0.00 min\n2014-05-26 19:53:45.579614 Creating routes time series for 44 routes...\n2014-05-26 19:53:45.579871 Getting activity for 2713 trips over 5 dates...\n2014-05-26 19:53:45.839161"
      },
      {
       "output_type": "stream",
       "stream": "stdout",
       "text": " Finished trips activity in 0.00 min\nProgress 0.2%\rProgress 0.3%\rProgress 0.5%\rProgress 0.6%\rProgress 0.8%\rProgress 0.9%\rProgress 1.1%\rProgress 1.2%\rProgress 1.4%\rProgress 1.5%\rProgress 1.7%\rProgress 1.8%\rProgress 2.0%"
      },
      {
       "output_type": "stream",
       "stream": "stdout",
       "text": "\rProgress 2.2%\rProgress 2.3%\rProgress 2.5%\rProgress 2.6%\rProgress 2.8%\rProgress 2.9%\rProgress 3.1%\rProgress 3.2%\rProgress 3.4%\rProgress 3.5%\rProgress 3.7%\rProgress 3.8%"
      },
      {
       "output_type": "stream",
       "stream": "stdout",
       "text": "\rProgress 4.0%\rProgress 4.1%\rProgress 4.3%\rProgress 4.5%\rProgress 4.6%\rProgress 4.8%\rProgress 4.9%\rProgress 5.1%\rProgress 5.2%\rProgress 5.4%\rProgress 5.5%\rProgress 5.7%\rProgress 5.8%\rProgress 6.0%"
      },
      {
       "output_type": "stream",
       "stream": "stdout",
       "text": "\rProgress 6.1%\rProgress 6.3%\rProgress 6.5%\rProgress 6.6%\rProgress 6.8%\rProgress 6.9%\rProgress 7.1%\rProgress 7.2%\rProgress 7.4%\rProgress 7.5%\rProgress 7.7%"
      },
      {
       "output_type": "stream",
       "stream": "stdout",
       "text": "\rProgress 7.8%\rProgress 8.0%\rProgress 8.1%\rProgress 8.3%\rProgress 8.4%\rProgress 8.6%\rProgress 8.8%\rProgress 8.9%\rProgress 9.1%\rProgress 9.2%"
      },
      {
       "output_type": "stream",
       "stream": "stdout",
       "text": "\rProgress 9.4%\rProgress 9.5%\rProgress 9.7%\rProgress 9.8%\rProgress 10.0%\rProgress 10.1%\rProgress 10.3%\rProgress 10.4%\rProgress 10.6%\rProgress 10.8%"
      },
      {
       "output_type": "stream",
       "stream": "stdout",
       "text": "\rProgress 10.9%\rProgress 11.1%\rProgress 11.2%\rProgress 11.4%\rProgress 11.5%\rProgress 11.7%\rProgress 11.8%\rProgress 12.0%\rProgress 12.1%\rProgress 12.3%\rProgress 12.4%"
      },
      {
       "output_type": "stream",
       "stream": "stdout",
       "text": "\rProgress 12.6%\rProgress 12.7%\rProgress 12.9%\rProgress 13.1%\rProgress 13.2%\rProgress 13.4%\rProgress 13.5%\rProgress 13.7%\rProgress 13.8%\rProgress 14.0%\rProgress 14.1%\rProgress 14.3%"
      },
      {
       "output_type": "stream",
       "stream": "stdout",
       "text": "\rProgress 14.4%\rProgress 14.6%\rProgress 14.7%\rProgress 14.9%\rProgress 15.1%\rProgress 15.2%\rProgress 15.4%\rProgress 15.5%\rProgress 15.7%\rProgress 15.8%\rProgress 16.0%\rProgress 16.1%"
      },
      {
       "output_type": "stream",
       "stream": "stdout",
       "text": "\rProgress 16.3%\rProgress 16.4%\rProgress 16.6%\rProgress 16.7%\rProgress 16.9%\rProgress 17.1%\rProgress 17.2%\rProgress 17.4%\rProgress 17.5%\rProgress 17.7%\rProgress 17.8%\rProgress 18.0%\rProgress 18.1%"
      },
      {
       "output_type": "stream",
       "stream": "stdout",
       "text": "\rProgress 18.3%\rProgress 18.4%\rProgress 18.6%\rProgress 18.7%\rProgress 18.9%\rProgress 19.0%\rProgress 19.2%\rProgress 19.4%\rProgress 19.5%\rProgress 19.7%\rProgress 19.8%\rProgress 20.0%\rProgress 20.1%\rProgress 20.3%\rProgress 20.4%"
      },
      {
       "output_type": "stream",
       "stream": "stdout",
       "text": "\rProgress 20.6%\rProgress 20.7%\rProgress 20.9%\rProgress 21.0%\rProgress 21.2%\rProgress 21.4%\rProgress 21.5%\rProgress 21.7%\rProgress 21.8%\rProgress 22.0%"
      },
      {
       "output_type": "stream",
       "stream": "stdout",
       "text": "\rProgress 22.1%\rProgress 22.3%\rProgress 22.4%\rProgress 22.6%\rProgress 22.7%\rProgress 22.9%\rProgress 23.0%\rProgress 23.2%\rProgress 23.3%\rProgress 23.5%"
      },
      {
       "output_type": "stream",
       "stream": "stdout",
       "text": "\rProgress 23.7%\rProgress 23.8%\rProgress 24.0%\rProgress 24.1%\rProgress 24.3%\rProgress 24.4%\rProgress 24.6%\rProgress 24.7%\rProgress 24.9%\rProgress 25.0%"
      },
      {
       "output_type": "stream",
       "stream": "stdout",
       "text": "\rProgress 25.2%\rProgress 25.3%\rProgress 25.5%\rProgress 25.7%\rProgress 25.8%\rProgress 26.0%\rProgress 26.1%\rProgress 26.3%\rProgress 26.4%\rProgress 26.6%"
      },
      {
       "output_type": "stream",
       "stream": "stdout",
       "text": "\rProgress 26.7%\rProgress 26.9%\rProgress 27.0%\rProgress 27.2%\rProgress 27.3%\rProgress 27.5%\rProgress 27.6%\rProgress 27.8%\rProgress 28.0%\rProgress 28.1%\rProgress 28.3%\rProgress 28.4%\rProgress 28.6%\rProgress 28.7%"
      },
      {
       "output_type": "stream",
       "stream": "stdout",
       "text": "\rProgress 28.9%\rProgress 29.0%\rProgress 29.2%\rProgress 29.3%\rProgress 29.5%\rProgress 29.6%\rProgress 29.8%\rProgress 30.0%\rProgress 30.1%"
      },
      {
       "output_type": "stream",
       "stream": "stdout",
       "text": "\rProgress 30.3%\rProgress 30.4%\rProgress 30.6%\rProgress 30.7%\rProgress 30.9%\rProgress 31.0%\rProgress 31.2%\rProgress 31.3%\rProgress 31.5%\rProgress 31.6%"
      },
      {
       "output_type": "stream",
       "stream": "stdout",
       "text": "\rProgress 31.8%\rProgress 32.0%\rProgress 32.1%\rProgress 32.3%\rProgress 32.4%\rProgress 32.6%\rProgress 32.7%\rProgress 32.9%\rProgress 33.0%\rProgress 33.2%\rProgress 33.3%\rProgress 33.5%\rProgress 33.6%\rProgress 33.8%"
      },
      {
       "output_type": "stream",
       "stream": "stdout",
       "text": "\rProgress 33.9%\rProgress 34.1%\rProgress 34.3%\rProgress 34.4%\rProgress 34.6%\rProgress 34.7%\rProgress 34.9%\rProgress 35.0%\rProgress 35.2%"
      },
      {
       "output_type": "stream",
       "stream": "stdout",
       "text": "\rProgress 35.3%\rProgress 35.5%\rProgress 35.6%\rProgress 35.8%\rProgress 35.9%\rProgress 36.1%\rProgress 36.3%"
      },
      {
       "output_type": "stream",
       "stream": "stdout",
       "text": "\rProgress 36.4%\rProgress 36.6%\rProgress 36.7%\rProgress 36.9%\rProgress 37.0%"
      },
      {
       "output_type": "stream",
       "stream": "stdout",
       "text": "\rProgress 37.2%\rProgress 37.3%\rProgress 37.5%\rProgress 37.6%\rProgress 37.8%\rProgress 37.9%"
      },
      {
       "output_type": "stream",
       "stream": "stdout",
       "text": "\rProgress 38.1%\rProgress 38.2%\rProgress 38.4%\rProgress 38.6%\rProgress 38.7%\rProgress 38.9%\rProgress 39.0%"
      },
      {
       "output_type": "stream",
       "stream": "stdout",
       "text": "\rProgress 39.2%\rProgress 39.3%\rProgress 39.5%\rProgress 39.6%\rProgress 39.8%\rProgress 39.9%\rProgress 40.1%\rProgress 40.2%\rProgress 40.4%\rProgress 40.6%\rProgress 40.7%\rProgress 40.9%\rProgress 41.0%\rProgress 41.2%"
      },
      {
       "output_type": "stream",
       "stream": "stdout",
       "text": "\rProgress 41.3%\rProgress 41.5%\rProgress 41.6%\rProgress 41.8%\rProgress 41.9%\rProgress 42.1%\rProgress 42.2%\rProgress 42.4%\rProgress 42.5%\rProgress 42.7%\rProgress 42.9%\rProgress 43.0%\rProgress 43.2%"
      },
      {
       "output_type": "stream",
       "stream": "stdout",
       "text": "\rProgress 43.3%\rProgress 43.5%\rProgress 43.6%\rProgress 43.8%\rProgress 43.9%\rProgress 44.1%\rProgress 44.2%\rProgress 44.4%\rProgress 44.5%\rProgress 44.7%\rProgress 44.9%\rProgress 45.0%"
      },
      {
       "output_type": "stream",
       "stream": "stdout",
       "text": "\rProgress 45.2%\rProgress 45.3%\rProgress 45.5%\rProgress 45.6%\rProgress 45.8%\rProgress 45.9%\rProgress 46.1%\rProgress 46.2%\rProgress 46.4%\rProgress 46.5%\rProgress 46.7%"
      },
      {
       "output_type": "stream",
       "stream": "stdout",
       "text": "\rProgress 46.9%\rProgress 47.0%\rProgress 47.2%\rProgress 47.3%\rProgress 47.5%\rProgress 47.6%\rProgress 47.8%\rProgress 47.9%\rProgress 48.1%\rProgress 48.2%\rProgress 48.4%"
      },
      {
       "output_type": "stream",
       "stream": "stdout",
       "text": "\rProgress 48.5%\rProgress 48.7%\rProgress 48.8%\rProgress 49.0%\rProgress 49.2%\rProgress 49.3%\rProgress 49.5%\rProgress 49.6%\rProgress 49.8%\rProgress 49.9%\rProgress 50.1%\rProgress 50.2%"
      },
      {
       "output_type": "stream",
       "stream": "stdout",
       "text": "\rProgress 50.4%\rProgress 50.5%\rProgress 50.7%\rProgress 50.8%\rProgress 51.0%\rProgress 51.2%\rProgress 51.3%\rProgress 51.5%\rProgress 51.6%\rProgress 51.8%\rProgress 51.9%"
      },
      {
       "output_type": "stream",
       "stream": "stdout",
       "text": "\rProgress 52.1%\rProgress 52.2%\rProgress 52.4%\rProgress 52.5%\rProgress 52.7%\rProgress 52.8%\rProgress 53.0%\rProgress 53.1%\rProgress 53.3%\rProgress 53.5%\rProgress 53.6%\rProgress 53.8%\rProgress 53.9%\rProgress 54.1%"
      },
      {
       "output_type": "stream",
       "stream": "stdout",
       "text": "\rProgress 54.2%\rProgress 54.4%\rProgress 54.5%\rProgress 54.7%\rProgress 54.8%\rProgress 55.0%\rProgress 55.1%\rProgress 55.3%\rProgress 55.5%\rProgress 55.6%\rProgress 55.8%"
      },
      {
       "output_type": "stream",
       "stream": "stdout",
       "text": "\rProgress 55.9%\rProgress 56.1%\rProgress 56.2%\rProgress 56.4%\rProgress 56.5%\rProgress 56.7%\rProgress 56.8%\rProgress 57.0%\rProgress 57.1%\rProgress 57.3%"
      },
      {
       "output_type": "stream",
       "stream": "stdout",
       "text": "\rProgress 57.5%\rProgress 57.6%\rProgress 57.8%\rProgress 57.9%\rProgress 58.1%\rProgress 58.2%\rProgress 58.4%\rProgress 58.5%\rProgress 58.7%\rProgress 58.8%"
      },
      {
       "output_type": "stream",
       "stream": "stdout",
       "text": "\rProgress 59.0%\rProgress 59.1%\rProgress 59.3%\rProgress 59.4%\rProgress 59.6%\rProgress 59.8%\rProgress 59.9%\rProgress 60.1%\rProgress 60.2%\rProgress 60.4%\rProgress 60.5%"
      },
      {
       "output_type": "stream",
       "stream": "stdout",
       "text": "\rProgress 60.7%\rProgress 60.8%\rProgress 61.0%\rProgress 61.1%\rProgress 61.3%\rProgress 61.4%\rProgress 61.6%\rProgress 61.8%\rProgress 61.9%\rProgress 62.1%\rProgress 62.2%\rProgress 62.4%\rProgress 62.5%\rProgress 62.7%"
      },
      {
       "output_type": "stream",
       "stream": "stdout",
       "text": "\rProgress 62.8%\rProgress 63.0%\rProgress 63.1%\rProgress 63.3%\rProgress 63.4%\rProgress 63.6%\rProgress 63.7%\rProgress 63.9%\rProgress 64.1%\rProgress 64.2%\rProgress 64.4%"
      },
      {
       "output_type": "stream",
       "stream": "stdout",
       "text": "\rProgress 64.5%\rProgress 64.7%\rProgress 64.8%\rProgress 65.0%\rProgress 65.1%\rProgress 65.3%\rProgress 65.4%\rProgress 65.6%\rProgress 65.7%\rProgress 65.9%\rProgress 66.1%"
      },
      {
       "output_type": "stream",
       "stream": "stdout",
       "text": "\rProgress 66.2%\rProgress 66.4%\rProgress 66.5%\rProgress 66.7%\rProgress 66.8%\rProgress 67.0%\rProgress 67.1%\rProgress 67.3%\rProgress 67.4%\rProgress 67.6%\rProgress 67.7%"
      },
      {
       "output_type": "stream",
       "stream": "stdout",
       "text": "\rProgress 67.9%\rProgress 68.0%\rProgress 68.2%\rProgress 68.4%\rProgress 68.5%\rProgress 68.7%\rProgress 68.8%\rProgress 69.0%\rProgress 69.1%\rProgress 69.3%\rProgress 69.4%"
      },
      {
       "output_type": "stream",
       "stream": "stdout",
       "text": "\rProgress 69.6%\rProgress 69.7%\rProgress 69.9%\rProgress 70.0%\rProgress 70.2%\rProgress 70.4%\rProgress 70.5%\rProgress 70.7%\rProgress 70.8%\rProgress 71.0%\rProgress 71.1%\rProgress 71.3%\rProgress 71.4%"
      },
      {
       "output_type": "stream",
       "stream": "stdout",
       "text": "\rProgress 71.6%\rProgress 71.7%\rProgress 71.9%\rProgress 72.0%\rProgress 72.2%\rProgress 72.4%\rProgress 72.5%\rProgress 72.7%\rProgress 72.8%\rProgress 73.0%\rProgress 73.1%"
      },
      {
       "output_type": "stream",
       "stream": "stdout",
       "text": "\rProgress 73.3%\rProgress 73.4%\rProgress 73.6%\rProgress 73.7%\rProgress 73.9%\rProgress 74.0%\rProgress 74.2%\rProgress 74.3%\rProgress 74.5%\rProgress 74.7%\rProgress 74.8%\rProgress 75.0%\rProgress 75.1%\rProgress 75.3%"
      },
      {
       "output_type": "stream",
       "stream": "stdout",
       "text": "\rProgress 75.4%\rProgress 75.6%\rProgress 75.7%\rProgress 75.9%\rProgress 76.0%\rProgress 76.2%\rProgress 76.3%\rProgress 76.5%\rProgress 76.7%\rProgress 76.8%\rProgress 77.0%\rProgress 77.1%\rProgress 77.3%\rProgress 77.4%"
      },
      {
       "output_type": "stream",
       "stream": "stdout",
       "text": "\rProgress 77.6%\rProgress 77.7%\rProgress 77.9%\rProgress 78.0%\rProgress 78.2%\rProgress 78.3%\rProgress 78.5%\rProgress 78.6%\rProgress 78.8%\rProgress 79.0%\rProgress 79.1%\rProgress 79.3%\rProgress 79.4%\rProgress 79.6%"
      },
      {
       "output_type": "stream",
       "stream": "stdout",
       "text": "\rProgress 79.7%\rProgress 79.9%\rProgress 80.0%\rProgress 80.2%\rProgress 80.3%\rProgress 80.5%\rProgress 80.6%\rProgress 80.8%\rProgress 81.0%\rProgress 81.1%\rProgress 81.3%\rProgress 81.4%"
      },
      {
       "output_type": "stream",
       "stream": "stdout",
       "text": "\rProgress 81.6%\rProgress 81.7%\rProgress 81.9%\rProgress 82.0%\rProgress 82.2%\rProgress 82.3%\rProgress 82.5%\rProgress 82.6%\rProgress 82.8%"
      },
      {
       "output_type": "stream",
       "stream": "stdout",
       "text": "\rProgress 82.9%\rProgress 83.1%\rProgress 83.3%\rProgress 83.4%\rProgress 83.6%\rProgress 83.7%\rProgress 83.9%\rProgress 84.0%\rProgress 84.2%\rProgress 84.3%\rProgress 84.5%\rProgress 84.6%\rProgress 84.8%"
      },
      {
       "output_type": "stream",
       "stream": "stdout",
       "text": "\rProgress 84.9%\rProgress 85.1%\rProgress 85.3%\rProgress 85.4%\rProgress 85.6%\rProgress 85.7%\rProgress 85.9%\rProgress 86.0%\rProgress 86.2%\rProgress 86.3%\rProgress 86.5%\rProgress 86.6%"
      },
      {
       "output_type": "stream",
       "stream": "stdout",
       "text": "\rProgress 86.8%\rProgress 86.9%\rProgress 87.1%\rProgress 87.3%\rProgress 87.4%\rProgress 87.6%\rProgress 87.7%\rProgress 87.9%\rProgress 88.0%\rProgress 88.2%\rProgress 88.3%\rProgress 88.5%\rProgress 88.6%\rProgress 88.8%"
      },
      {
       "output_type": "stream",
       "stream": "stdout",
       "text": "\rProgress 88.9%\rProgress 89.1%\rProgress 89.2%\rProgress 89.4%\rProgress 89.6%\rProgress 89.7%\rProgress 89.9%\rProgress 90.0%\rProgress 90.2%\rProgress 90.3%\rProgress 90.5%\rProgress 90.6%\rProgress 90.8%\rProgress 90.9%"
      },
      {
       "output_type": "stream",
       "stream": "stdout",
       "text": "\rProgress 91.1%\rProgress 91.2%\rProgress 91.4%\rProgress 91.6%\rProgress 91.7%\rProgress 91.9%\rProgress 92.0%\rProgress 92.2%\rProgress 92.3%\rProgress 92.5%\rProgress 92.6%\rProgress 92.8%\rProgress 92.9%\rProgress 93.1%"
      },
      {
       "output_type": "stream",
       "stream": "stdout",
       "text": "\rProgress 93.2%\rProgress 93.4%\rProgress 93.5%\rProgress 93.7%\rProgress 93.9%\rProgress 94.0%\rProgress 94.2%\rProgress 94.3%\rProgress 94.5%\rProgress 94.6%\rProgress 94.8%\rProgress 94.9%\rProgress 95.1%\rProgress 95.2%"
      },
      {
       "output_type": "stream",
       "stream": "stdout",
       "text": "\rProgress 95.4%\rProgress 95.5%\rProgress 95.7%\rProgress 95.9%\rProgress 96.0%\rProgress 96.2%\rProgress 96.3%\rProgress 96.5%\rProgress 96.6%\rProgress 96.8%\rProgress 96.9%\rProgress 97.1%\rProgress 97.2%\rProgress 97.4%\rProgress 97.5%\rProgress 97.7%"
      },
      {
       "output_type": "stream",
       "stream": "stdout",
       "text": "\rProgress 97.8%\rProgress 98.0%\rProgress 98.2%\rProgress 98.3%\rProgress 98.5%\rProgress 98.6%\rProgress 98.8%\rProgress 98.9%\rProgress 99.1%\rProgress 99.2%"
      },
      {
       "output_type": "stream",
       "stream": "stdout",
       "text": "\rProgress 99.4%\rProgress 99.5%\rProgress 99.7%\rProgress 99.8%\rProgress 100.0%\r2014-05-26 19:53:48.812718 Finished routes time series in 0.05 min\n2014-05-26 19:53:49.697667"
      },
      {
       "output_type": "stream",
       "stream": "stdout",
       "text": " Finished process in 0.45 min\n"
      },
      {
       "metadata": {},
       "output_type": "display_data",
       "png": "[encoded data removed]",
       "text": "<matplotlib.figure.Figure at 0x10764ae10>"
      }
     ],
     "prompt_number": 46
    },
    {
     "cell_type": "code",
     "collapsed": false,
     "input": "",
     "language": "python",
     "metadata": {},
     "outputs": []
    }
   ],
   "metadata": {}
  }
 ]
}