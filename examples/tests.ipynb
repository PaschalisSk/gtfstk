{
 "metadata": {
  "name": "",
  "signature": "sha256:413b7de80faf2f9e910e0638c5d4e0f2c7961b09e4bba458c28caa3e6904a98a"
 },
 "nbformat": 3,
 "nbformat_minor": 0,
 "worksheets": [
  {
   "cells": [
    {
     "cell_type": "code",
     "collapsed": false,
     "input": [
      "from __future__ import division\n",
      "import datetime as dt\n",
      "from collections import OrderedDict\n",
      "import sys, os\n",
      "import dateutil.relativedelta as rd\n",
      "\n",
      "import pandas as pd\n",
      "import numpy as np\n",
      "import matplotlib.pyplot as plt\n",
      "\n",
      "%load_ext autoreload\n",
      "%autoreload 2\n",
      "%matplotlib inline  \n",
      "\n",
      "# Set your gtfs_toolkit path here\n",
      "gtfs_toolkit_path = '/Users/araichev/gtfs-toolkit/'\n",
      "sys.path.append(gtfs_toolkit_path)\n",
      "from gtfs_toolkit.feed import *"
     ],
     "language": "python",
     "metadata": {},
     "outputs": [],
     "prompt_number": 1
    },
    {
     "cell_type": "code",
     "collapsed": false,
     "input": [
      "# Import a feed\n",
      "feed = Feed('/Users/araichev/gtfse/data/cairns/cairns_gtfs.zip')\n"
     ],
     "language": "python",
     "metadata": {},
     "outputs": [],
     "prompt_number": 2
    },
    {
     "cell_type": "code",
     "collapsed": false,
     "input": [
      "trips_stats = feed.get_trips_stats()\n",
      "dates = feed.get_first_week()[:5]"
     ],
     "language": "python",
     "metadata": {},
     "outputs": [],
     "prompt_number": 3
    },
    {
     "cell_type": "code",
     "collapsed": false,
     "input": [
      "routes_stats = feed.get_routes_stats(trips_stats, dates)\n",
      "routes_stats\n",
      "routes_stats.groupby('route_id').get_group('110-275')"
     ],
     "language": "python",
     "metadata": {},
     "outputs": [
      {
       "html": [
        "<div style=\"max-height:1000px;max-width:1500px;overflow:auto;\">\n",
        "<table border=\"1\" class=\"dataframe\">\n",
        "  <thead>\n",
        "    <tr style=\"text-align: right;\">\n",
        "      <th></th>\n",
        "      <th>route_id</th>\n",
        "      <th>direction_id</th>\n",
        "      <th>min_start_time</th>\n",
        "      <th>max_end_time</th>\n",
        "      <th>mean_daily_num_trips</th>\n",
        "      <th>max_headway</th>\n",
        "      <th>mean_headway</th>\n",
        "      <th>mean_daily_duration</th>\n",
        "      <th>mean_daily_distance</th>\n",
        "      <th>mean_daily_speed</th>\n",
        "    </tr>\n",
        "  </thead>\n",
        "  <tbody>\n",
        "    <tr>\n",
        "      <th>0</th>\n",
        "      <td> 110-275</td>\n",
        "      <td> 0</td>\n",
        "      <td> 05:51:00</td>\n",
        "      <td> 23:05:00</td>\n",
        "      <td> 30</td>\n",
        "      <td> 1800</td>\n",
        "      <td> 1778</td>\n",
        "      <td> 28.916667</td>\n",
        "      <td> 971.550</td>\n",
        "      <td> 33.598271</td>\n",
        "    </tr>\n",
        "    <tr>\n",
        "      <th>1</th>\n",
        "      <td> 110-275</td>\n",
        "      <td> 1</td>\n",
        "      <td> 07:10:00</td>\n",
        "      <td> 24:02:00</td>\n",
        "      <td> 29</td>\n",
        "      <td> 1800</td>\n",
        "      <td> 1800</td>\n",
        "      <td> 27.433333</td>\n",
        "      <td> 908.135</td>\n",
        "      <td> 33.103341</td>\n",
        "    </tr>\n",
        "  </tbody>\n",
        "</table>\n",
        "</div>"
       ],
       "metadata": {},
       "output_type": "pyout",
       "prompt_number": 5,
       "text": [
        "  route_id  direction_id min_start_time max_end_time  mean_daily_num_trips  \\\n",
        "0  110-275             0       05:51:00     23:05:00                    30   \n",
        "1  110-275             1       07:10:00     24:02:00                    29   \n",
        "\n",
        "   max_headway  mean_headway  mean_daily_duration  mean_daily_distance  \\\n",
        "0         1800          1778            28.916667              971.550   \n",
        "1         1800          1800            27.433333              908.135   \n",
        "\n",
        "   mean_daily_speed  \n",
        "0         33.598271  \n",
        "1         33.103341  "
       ]
      }
     ],
     "prompt_number": 5
    },
    {
     "cell_type": "code",
     "collapsed": false,
     "input": [
      "#ts = feed.get_routes_time_series(trips_stats, dates)\n",
      "ts = feed.get_stops_time_series(dates)\n",
      "ts"
     ],
     "language": "python",
     "metadata": {},
     "outputs": [
      {
       "output_type": "stream",
       "stream": "stdout",
       "text": [
        "Progress 0.1%\r",
        "Progress 0.2%\r",
        "Progress 0.4%\r",
        "Progress 0.5%"
       ]
      },
      {
       "output_type": "stream",
       "stream": "stdout",
       "text": [
        "\r",
        "Progress 0.6%\r",
        "Progress 0.7%"
       ]
      },
      {
       "output_type": "stream",
       "stream": "stdout",
       "text": [
        "\r",
        "Progress 0.8%\r",
        "Progress 1.0%\r",
        "Progress 1.1%"
       ]
      },
      {
       "output_type": "stream",
       "stream": "stdout",
       "text": [
        "\r",
        "Progress 1.2%\r",
        "Progress 1.3%\r",
        "Progress 1.4%"
       ]
      },
      {
       "output_type": "stream",
       "stream": "stdout",
       "text": [
        "\r",
        "Progress 1.5%\r",
        "Progress 1.7%\r",
        "Progress 1.8%"
       ]
      },
      {
       "output_type": "stream",
       "stream": "stdout",
       "text": [
        "\r",
        "Progress 1.9%\r",
        "Progress 2.0%"
       ]
      },
      {
       "output_type": "stream",
       "stream": "stdout",
       "text": [
        "\r",
        "Progress 2.1%\r",
        "Progress 2.3%\r",
        "Progress 2.4%"
       ]
      },
      {
       "output_type": "stream",
       "stream": "stdout",
       "text": [
        "\r",
        "Progress 2.5%\r",
        "Progress 2.6%\r",
        "Progress 2.7%"
       ]
      },
      {
       "output_type": "stream",
       "stream": "stdout",
       "text": [
        "\r",
        "Progress 2.9%\r",
        "Progress 3.0%\r",
        "Progress 3.1%"
       ]
      },
      {
       "output_type": "stream",
       "stream": "stdout",
       "text": [
        "\r",
        "Progress 3.2%\r",
        "Progress 3.3%\r",
        "Progress 3.4%"
       ]
      },
      {
       "output_type": "stream",
       "stream": "stdout",
       "text": [
        "\r",
        "Progress 3.6%\r",
        "Progress 3.7%"
       ]
      },
      {
       "output_type": "stream",
       "stream": "stdout",
       "text": [
        "\r",
        "Progress 3.8%\r",
        "Progress 3.9%\r",
        "Progress 4.0%"
       ]
      },
      {
       "output_type": "stream",
       "stream": "stdout",
       "text": [
        "\r",
        "Progress 4.2%\r",
        "Progress 4.3%\r",
        "Progress 4.4%"
       ]
      },
      {
       "output_type": "stream",
       "stream": "stdout",
       "text": [
        "\r",
        "Progress 4.5%\r",
        "Progress 4.6%\r",
        "Progress 4.8%"
       ]
      },
      {
       "output_type": "stream",
       "stream": "stdout",
       "text": [
        "\r",
        "Progress 4.9%\r",
        "Progress 5.0%\r",
        "Progress 5.1%"
       ]
      },
      {
       "output_type": "stream",
       "stream": "stdout",
       "text": [
        "\r",
        "Progress 5.2%\r",
        "Progress 5.3%\r",
        "Progress 5.5%"
       ]
      },
      {
       "output_type": "stream",
       "stream": "stdout",
       "text": [
        "\r",
        "Progress 5.6%\r",
        "Progress 5.7%\r",
        "Progress 5.8%"
       ]
      },
      {
       "output_type": "stream",
       "stream": "stdout",
       "text": [
        "\r",
        "Progress 5.9%"
       ]
      },
      {
       "output_type": "stream",
       "stream": "stdout",
       "text": [
        "\r",
        "Progress 6.1%"
       ]
      },
      {
       "output_type": "stream",
       "stream": "stdout",
       "text": [
        "\r",
        "Progress 6.2%\r",
        "Progress 6.3%"
       ]
      },
      {
       "output_type": "stream",
       "stream": "stdout",
       "text": [
        "\r",
        "Progress 6.4%\r",
        "Progress 6.5%\r",
        "Progress 6.7%"
       ]
      },
      {
       "output_type": "stream",
       "stream": "stdout",
       "text": [
        "\r",
        "Progress 6.8%\r",
        "Progress 6.9%"
       ]
      },
      {
       "output_type": "stream",
       "stream": "stdout",
       "text": [
        "\r",
        "Progress 7.0%\r",
        "Progress 7.1%"
       ]
      },
      {
       "output_type": "stream",
       "stream": "stdout",
       "text": [
        "\r",
        "Progress 7.2%\r",
        "Progress 7.4%\r",
        "Progress 7.5%\r",
        "Progress 7.6%\r",
        "Progress 7.7%\r",
        "Progress 7.8%\r",
        "Progress 8.0%"
       ]
      },
      {
       "output_type": "stream",
       "stream": "stdout",
       "text": [
        "\r",
        "Progress 8.1%\r",
        "Progress 8.2%\r",
        "Progress 8.3%\r",
        "Progress 8.4%\r",
        "Progress 8.6%\r",
        "Progress 8.7%\r",
        "Progress 8.8%"
       ]
      },
      {
       "output_type": "stream",
       "stream": "stdout",
       "text": [
        "\r",
        "Progress 8.9%\r",
        "Progress 9.0%\r",
        "Progress 9.1%\r",
        "Progress 9.3%\r",
        "Progress 9.4%\r",
        "Progress 9.5%\r",
        "Progress 9.6%"
       ]
      },
      {
       "output_type": "stream",
       "stream": "stdout",
       "text": [
        "\r",
        "Progress 9.7%\r",
        "Progress 9.9%\r",
        "Progress 10.0%\r",
        "Progress 10.1%"
       ]
      },
      {
       "output_type": "stream",
       "stream": "stdout",
       "text": [
        "\r",
        "Progress 10.2%\r",
        "Progress 10.3%\r",
        "Progress 10.5%\r",
        "Progress 10.6%\r",
        "Progress 10.7%"
       ]
      },
      {
       "output_type": "stream",
       "stream": "stdout",
       "text": [
        "\r",
        "Progress 10.8%\r",
        "Progress 10.9%\r",
        "Progress 11.0%\r",
        "Progress 11.2%"
       ]
      },
      {
       "output_type": "stream",
       "stream": "stdout",
       "text": [
        "\r",
        "Progress 11.3%\r",
        "Progress 11.4%\r",
        "Progress 11.5%\r",
        "Progress 11.6%"
       ]
      },
      {
       "output_type": "stream",
       "stream": "stdout",
       "text": [
        "\r",
        "Progress 11.8%\r",
        "Progress 11.9%\r",
        "Progress 12.0%\r",
        "Progress 12.1%\r",
        "Progress 12.2%"
       ]
      },
      {
       "output_type": "stream",
       "stream": "stdout",
       "text": [
        "\r",
        "Progress 12.4%\r",
        "Progress 12.5%\r",
        "Progress 12.6%\r",
        "Progress 12.7%\r",
        "Progress 12.8%"
       ]
      },
      {
       "output_type": "stream",
       "stream": "stdout",
       "text": [
        "\r",
        "Progress 12.9%\r",
        "Progress 13.1%"
       ]
      },
      {
       "output_type": "stream",
       "stream": "stdout",
       "text": [
        "\r",
        "Progress 13.2%\r",
        "Progress 13.3%"
       ]
      },
      {
       "output_type": "stream",
       "stream": "stdout",
       "text": [
        "\r",
        "Progress 13.4%\r",
        "Progress 13.5%"
       ]
      },
      {
       "output_type": "stream",
       "stream": "stdout",
       "text": [
        "\r",
        "Progress 13.7%\r",
        "Progress 13.8%"
       ]
      },
      {
       "output_type": "stream",
       "stream": "stdout",
       "text": [
        "\r",
        "Progress 13.9%\r",
        "Progress 14.0%\r",
        "Progress 14.1%\r",
        "Progress 14.3%"
       ]
      },
      {
       "output_type": "stream",
       "stream": "stdout",
       "text": [
        "\r",
        "Progress 14.4%\r",
        "Progress 14.5%\r",
        "Progress 14.6%\r",
        "Progress 14.7%"
       ]
      },
      {
       "output_type": "stream",
       "stream": "stdout",
       "text": [
        "\r",
        "Progress 14.8%\r",
        "Progress 15.0%\r",
        "Progress 15.1%\r",
        "Progress 15.2%"
       ]
      },
      {
       "output_type": "stream",
       "stream": "stdout",
       "text": [
        "\r",
        "Progress 15.3%\r",
        "Progress 15.4%\r",
        "Progress 15.6%\r",
        "Progress 15.7%"
       ]
      },
      {
       "output_type": "stream",
       "stream": "stdout",
       "text": [
        "\r",
        "Progress 15.8%"
       ]
      },
      {
       "output_type": "stream",
       "stream": "stdout",
       "text": [
        "\r",
        "Progress 15.9%"
       ]
      },
      {
       "output_type": "stream",
       "stream": "stdout",
       "text": [
        "\r",
        "Progress 16.0%"
       ]
      },
      {
       "output_type": "stream",
       "stream": "stdout",
       "text": [
        "\r",
        "Progress 16.2%"
       ]
      },
      {
       "output_type": "stream",
       "stream": "stdout",
       "text": [
        "\r",
        "Progress 16.3%"
       ]
      },
      {
       "output_type": "stream",
       "stream": "stdout",
       "text": [
        "\r",
        "Progress 16.4%"
       ]
      },
      {
       "output_type": "stream",
       "stream": "stdout",
       "text": [
        "\r",
        "Progress 16.5%"
       ]
      },
      {
       "output_type": "stream",
       "stream": "stdout",
       "text": [
        "\r",
        "Progress 16.6%\r",
        "Progress 16.7%"
       ]
      },
      {
       "output_type": "stream",
       "stream": "stdout",
       "text": [
        "\r",
        "Progress 16.9%\r",
        "Progress 17.0%"
       ]
      },
      {
       "output_type": "stream",
       "stream": "stdout",
       "text": [
        "\r",
        "Progress 17.1%"
       ]
      },
      {
       "output_type": "stream",
       "stream": "stdout",
       "text": [
        "\r",
        "Progress 17.2%"
       ]
      },
      {
       "output_type": "stream",
       "stream": "stdout",
       "text": [
        "\r",
        "Progress 17.3%"
       ]
      },
      {
       "output_type": "stream",
       "stream": "stdout",
       "text": [
        "\r",
        "Progress 17.5%"
       ]
      },
      {
       "output_type": "stream",
       "stream": "stdout",
       "text": [
        "\r",
        "Progress 17.6%"
       ]
      },
      {
       "output_type": "stream",
       "stream": "stdout",
       "text": [
        "\r",
        "Progress 17.7%\r",
        "Progress 17.8%"
       ]
      },
      {
       "output_type": "stream",
       "stream": "stdout",
       "text": [
        "\r",
        "Progress 17.9%"
       ]
      },
      {
       "output_type": "stream",
       "stream": "stdout",
       "text": [
        "\r",
        "Progress 18.1%"
       ]
      },
      {
       "output_type": "stream",
       "stream": "stdout",
       "text": [
        "\r",
        "Progress 18.2%"
       ]
      },
      {
       "output_type": "stream",
       "stream": "stdout",
       "text": [
        "\r",
        "Progress 18.3%"
       ]
      },
      {
       "output_type": "stream",
       "stream": "stdout",
       "text": [
        "\r",
        "Progress 18.4%"
       ]
      },
      {
       "output_type": "stream",
       "stream": "stdout",
       "text": [
        "\r",
        "Progress 18.5%"
       ]
      },
      {
       "output_type": "stream",
       "stream": "stdout",
       "text": [
        "\r",
        "Progress 18.6%"
       ]
      },
      {
       "output_type": "stream",
       "stream": "stdout",
       "text": [
        "\r",
        "Progress 18.8%"
       ]
      },
      {
       "output_type": "stream",
       "stream": "stdout",
       "text": [
        "\r",
        "Progress 18.9%"
       ]
      },
      {
       "output_type": "stream",
       "stream": "stdout",
       "text": [
        "\r",
        "Progress 19.0%"
       ]
      },
      {
       "output_type": "stream",
       "stream": "stdout",
       "text": [
        "\r",
        "Progress 19.1%"
       ]
      },
      {
       "output_type": "stream",
       "stream": "stdout",
       "text": [
        "\r",
        "Progress 19.2%"
       ]
      },
      {
       "output_type": "stream",
       "stream": "stdout",
       "text": [
        "\r",
        "Progress 19.4%"
       ]
      },
      {
       "output_type": "stream",
       "stream": "stdout",
       "text": [
        "\r",
        "Progress 19.5%"
       ]
      },
      {
       "output_type": "stream",
       "stream": "stdout",
       "text": [
        "\r",
        "Progress 19.6%"
       ]
      },
      {
       "output_type": "stream",
       "stream": "stdout",
       "text": [
        "\r",
        "Progress 19.7%"
       ]
      },
      {
       "output_type": "stream",
       "stream": "stdout",
       "text": [
        "\r",
        "Progress 19.8%\r",
        "Progress 20.0%\r",
        "Progress 20.1%\r",
        "Progress 20.2%\r",
        "Progress 20.3%"
       ]
      },
      {
       "output_type": "stream",
       "stream": "stdout",
       "text": [
        "\r",
        "Progress 20.4%\r",
        "Progress 20.5%\r",
        "Progress 20.7%\r",
        "Progress 20.8%"
       ]
      },
      {
       "output_type": "stream",
       "stream": "stdout",
       "text": [
        "\r",
        "Progress 20.9%\r",
        "Progress 21.0%\r",
        "Progress 21.1%\r",
        "Progress 21.3%"
       ]
      },
      {
       "output_type": "stream",
       "stream": "stdout",
       "text": [
        "\r",
        "Progress 21.4%\r",
        "Progress 21.5%\r",
        "Progress 21.6%\r",
        "Progress 21.7%"
       ]
      },
      {
       "output_type": "stream",
       "stream": "stdout",
       "text": [
        "\r",
        "Progress 21.9%\r",
        "Progress 22.0%\r",
        "Progress 22.1%\r",
        "Progress 22.2%"
       ]
      },
      {
       "output_type": "stream",
       "stream": "stdout",
       "text": [
        "\r",
        "Progress 22.3%\r",
        "Progress 22.4%\r",
        "Progress 22.6%\r",
        "Progress 22.7%"
       ]
      },
      {
       "output_type": "stream",
       "stream": "stdout",
       "text": [
        "\r",
        "Progress 22.8%\r",
        "Progress 22.9%\r",
        "Progress 23.0%\r",
        "Progress 23.2%"
       ]
      },
      {
       "output_type": "stream",
       "stream": "stdout",
       "text": [
        "\r",
        "Progress 23.3%\r",
        "Progress 23.4%\r",
        "Progress 23.5%\r",
        "Progress 23.6%\r",
        "Progress 23.8%"
       ]
      },
      {
       "output_type": "stream",
       "stream": "stdout",
       "text": [
        "\r",
        "Progress 23.9%\r",
        "Progress 24.0%\r",
        "Progress 24.1%\r",
        "Progress 24.2%"
       ]
      },
      {
       "output_type": "stream",
       "stream": "stdout",
       "text": [
        "\r",
        "Progress 24.3%\r",
        "Progress 24.5%"
       ]
      },
      {
       "output_type": "stream",
       "stream": "stdout",
       "text": [
        "\r",
        "Progress 24.6%"
       ]
      },
      {
       "output_type": "stream",
       "stream": "stdout",
       "text": [
        "\r",
        "Progress 24.7%"
       ]
      },
      {
       "output_type": "stream",
       "stream": "stdout",
       "text": [
        "\r",
        "Progress 24.8%\r",
        "Progress 24.9%"
       ]
      },
      {
       "output_type": "stream",
       "stream": "stdout",
       "text": [
        "\r",
        "Progress 25.1%\r",
        "Progress 25.2%\r",
        "Progress 25.3%"
       ]
      },
      {
       "output_type": "stream",
       "stream": "stdout",
       "text": [
        "\r",
        "Progress 25.4%\r",
        "Progress 25.5%\r",
        "Progress 25.7%"
       ]
      },
      {
       "output_type": "stream",
       "stream": "stdout",
       "text": [
        "\r",
        "Progress 25.8%\r",
        "Progress 25.9%\r",
        "Progress 26.0%"
       ]
      },
      {
       "output_type": "stream",
       "stream": "stdout",
       "text": [
        "\r",
        "Progress 26.1%\r",
        "Progress 26.2%\r",
        "Progress 26.4%"
       ]
      },
      {
       "output_type": "stream",
       "stream": "stdout",
       "text": [
        "\r",
        "Progress 26.5%\r",
        "Progress 26.6%\r",
        "Progress 26.7%"
       ]
      },
      {
       "output_type": "stream",
       "stream": "stdout",
       "text": [
        "\r",
        "Progress 26.8%\r",
        "Progress 27.0%\r",
        "Progress 27.1%"
       ]
      },
      {
       "output_type": "stream",
       "stream": "stdout",
       "text": [
        "\r",
        "Progress 27.2%\r",
        "Progress 27.3%"
       ]
      },
      {
       "output_type": "stream",
       "stream": "stdout",
       "text": [
        "\r",
        "Progress 27.4%\r",
        "Progress 27.6%"
       ]
      },
      {
       "output_type": "stream",
       "stream": "stdout",
       "text": [
        "\r",
        "Progress 27.7%\r",
        "Progress 27.8%\r",
        "Progress 27.9%\r",
        "Progress 28.0%"
       ]
      },
      {
       "output_type": "stream",
       "stream": "stdout",
       "text": [
        "\r",
        "Progress 28.1%\r",
        "Progress 28.3%\r",
        "Progress 28.4%\r",
        "Progress 28.5%"
       ]
      },
      {
       "output_type": "stream",
       "stream": "stdout",
       "text": [
        "\r",
        "Progress 28.6%\r",
        "Progress 28.7%\r",
        "Progress 28.9%\r",
        "Progress 29.0%"
       ]
      },
      {
       "output_type": "stream",
       "stream": "stdout",
       "text": [
        "\r",
        "Progress 29.1%"
       ]
      },
      {
       "output_type": "stream",
       "stream": "stdout",
       "text": [
        "\r",
        "Progress 29.2%"
       ]
      },
      {
       "output_type": "stream",
       "stream": "stdout",
       "text": [
        "\r",
        "Progress 29.3%\r",
        "Progress 29.5%\r",
        "Progress 29.6%"
       ]
      },
      {
       "output_type": "stream",
       "stream": "stdout",
       "text": [
        "\r",
        "Progress 29.7%\r",
        "Progress 29.8%\r",
        "Progress 29.9%\r",
        "Progress 30.0%"
       ]
      },
      {
       "output_type": "stream",
       "stream": "stdout",
       "text": [
        "\r",
        "Progress 30.2%\r",
        "Progress 30.3%\r",
        "Progress 30.4%\r",
        "Progress 30.5%"
       ]
      },
      {
       "output_type": "stream",
       "stream": "stdout",
       "text": [
        "\r",
        "Progress 30.6%\r",
        "Progress 30.8%\r",
        "Progress 30.9%"
       ]
      },
      {
       "output_type": "stream",
       "stream": "stdout",
       "text": [
        "\r",
        "Progress 31.0%\r",
        "Progress 31.1%"
       ]
      },
      {
       "output_type": "stream",
       "stream": "stdout",
       "text": [
        "\r",
        "Progress 31.2%"
       ]
      },
      {
       "output_type": "stream",
       "stream": "stdout",
       "text": [
        "\r",
        "Progress 31.4%"
       ]
      },
      {
       "output_type": "stream",
       "stream": "stdout",
       "text": [
        "\r",
        "Progress 31.5%"
       ]
      },
      {
       "output_type": "stream",
       "stream": "stdout",
       "text": [
        "\r",
        "Progress 31.6%"
       ]
      },
      {
       "output_type": "stream",
       "stream": "stdout",
       "text": [
        "\r",
        "Progress 31.7%"
       ]
      },
      {
       "output_type": "stream",
       "stream": "stdout",
       "text": [
        "\r",
        "Progress 31.8%"
       ]
      },
      {
       "output_type": "stream",
       "stream": "stdout",
       "text": [
        "\r",
        "Progress 31.9%"
       ]
      },
      {
       "output_type": "stream",
       "stream": "stdout",
       "text": [
        "\r",
        "Progress 32.1%"
       ]
      },
      {
       "output_type": "stream",
       "stream": "stdout",
       "text": [
        "\r",
        "Progress 32.2%"
       ]
      },
      {
       "output_type": "stream",
       "stream": "stdout",
       "text": [
        "\r",
        "Progress 32.3%"
       ]
      },
      {
       "output_type": "stream",
       "stream": "stdout",
       "text": [
        "\r",
        "Progress 32.4%"
       ]
      },
      {
       "output_type": "stream",
       "stream": "stdout",
       "text": [
        "\r",
        "Progress 32.5%"
       ]
      },
      {
       "output_type": "stream",
       "stream": "stdout",
       "text": [
        "\r",
        "Progress 32.7%"
       ]
      },
      {
       "output_type": "stream",
       "stream": "stdout",
       "text": [
        "\r",
        "Progress 32.8%"
       ]
      },
      {
       "output_type": "stream",
       "stream": "stdout",
       "text": [
        "\r",
        "Progress 32.9%"
       ]
      },
      {
       "output_type": "stream",
       "stream": "stdout",
       "text": [
        "\r",
        "Progress 33.0%"
       ]
      },
      {
       "output_type": "stream",
       "stream": "stdout",
       "text": [
        "\r",
        "Progress 33.1%"
       ]
      },
      {
       "output_type": "stream",
       "stream": "stdout",
       "text": [
        "\r",
        "Progress 33.3%\r",
        "Progress 33.4%\r",
        "Progress 33.5%"
       ]
      },
      {
       "output_type": "stream",
       "stream": "stdout",
       "text": [
        "\r",
        "Progress 33.6%\r",
        "Progress 33.7%\r",
        "Progress 33.8%"
       ]
      },
      {
       "output_type": "stream",
       "stream": "stdout",
       "text": [
        "\r",
        "Progress 34.0%\r",
        "Progress 34.1%\r",
        "Progress 34.2%"
       ]
      },
      {
       "output_type": "stream",
       "stream": "stdout",
       "text": [
        "\r",
        "Progress 34.3%\r",
        "Progress 34.4%\r",
        "Progress 34.6%"
       ]
      },
      {
       "output_type": "stream",
       "stream": "stdout",
       "text": [
        "\r",
        "Progress 34.7%"
       ]
      },
      {
       "output_type": "stream",
       "stream": "stdout",
       "text": [
        "\r",
        "Progress 34.8%\r",
        "Progress 34.9%\r",
        "Progress 35.0%"
       ]
      },
      {
       "output_type": "stream",
       "stream": "stdout",
       "text": [
        "\r",
        "Progress 35.2%\r",
        "Progress 35.3%\r",
        "Progress 35.4%"
       ]
      },
      {
       "output_type": "stream",
       "stream": "stdout",
       "text": [
        "\r",
        "Progress 35.5%\r",
        "Progress 35.6%\r",
        "Progress 35.7%"
       ]
      },
      {
       "output_type": "stream",
       "stream": "stdout",
       "text": [
        "\r",
        "Progress 35.9%\r",
        "Progress 36.0%\r",
        "Progress 36.1%"
       ]
      },
      {
       "output_type": "stream",
       "stream": "stdout",
       "text": [
        "\r",
        "Progress 36.2%\r",
        "Progress 36.3%"
       ]
      },
      {
       "output_type": "stream",
       "stream": "stdout",
       "text": [
        "\r",
        "Progress 36.5%\r",
        "Progress 36.6%\r",
        "Progress 36.7%\r",
        "Progress 36.8%"
       ]
      },
      {
       "output_type": "stream",
       "stream": "stdout",
       "text": [
        "\r",
        "Progress 36.9%\r",
        "Progress 37.1%\r",
        "Progress 37.2%\r",
        "Progress 37.3%"
       ]
      },
      {
       "output_type": "stream",
       "stream": "stdout",
       "text": [
        "\r",
        "Progress 37.4%\r",
        "Progress 37.5%\r",
        "Progress 37.6%"
       ]
      },
      {
       "output_type": "stream",
       "stream": "stdout",
       "text": [
        "\r",
        "Progress 37.8%\r",
        "Progress 37.9%\r",
        "Progress 38.0%"
       ]
      },
      {
       "output_type": "stream",
       "stream": "stdout",
       "text": [
        "\r",
        "Progress 38.1%\r",
        "Progress 38.2%\r",
        "Progress 38.4%"
       ]
      },
      {
       "output_type": "stream",
       "stream": "stdout",
       "text": [
        "\r",
        "Progress 38.5%\r",
        "Progress 38.6%\r",
        "Progress 38.7%"
       ]
      },
      {
       "output_type": "stream",
       "stream": "stdout",
       "text": [
        "\r",
        "Progress 38.8%\r",
        "Progress 39.0%\r",
        "Progress 39.1%"
       ]
      },
      {
       "output_type": "stream",
       "stream": "stdout",
       "text": [
        "\r",
        "Progress 39.2%\r",
        "Progress 39.3%\r",
        "Progress 39.4%"
       ]
      },
      {
       "output_type": "stream",
       "stream": "stdout",
       "text": [
        "\r",
        "Progress 39.5%\r",
        "Progress 39.7%\r",
        "Progress 39.8%"
       ]
      },
      {
       "output_type": "stream",
       "stream": "stdout",
       "text": [
        "\r",
        "Progress 39.9%\r",
        "Progress 40.0%\r",
        "Progress 40.1%"
       ]
      },
      {
       "output_type": "stream",
       "stream": "stdout",
       "text": [
        "\r",
        "Progress 40.3%\r",
        "Progress 40.4%\r",
        "Progress 40.5%\r",
        "Progress 40.6%"
       ]
      },
      {
       "output_type": "stream",
       "stream": "stdout",
       "text": [
        "\r",
        "Progress 40.7%\r",
        "Progress 40.9%\r",
        "Progress 41.0%\r",
        "Progress 41.1%"
       ]
      },
      {
       "output_type": "stream",
       "stream": "stdout",
       "text": [
        "\r",
        "Progress 41.2%\r",
        "Progress 41.3%\r",
        "Progress 41.4%\r",
        "Progress 41.6%"
       ]
      },
      {
       "output_type": "stream",
       "stream": "stdout",
       "text": [
        "\r",
        "Progress 41.7%\r",
        "Progress 41.8%"
       ]
      },
      {
       "output_type": "stream",
       "stream": "stdout",
       "text": [
        "\r",
        "Progress 41.9%\r",
        "Progress 42.0%\r",
        "Progress 42.2%"
       ]
      },
      {
       "output_type": "stream",
       "stream": "stdout",
       "text": [
        "\r",
        "Progress 42.3%\r",
        "Progress 42.4%\r",
        "Progress 42.5%"
       ]
      },
      {
       "output_type": "stream",
       "stream": "stdout",
       "text": [
        "\r",
        "Progress 42.6%"
       ]
      },
      {
       "output_type": "stream",
       "stream": "stdout",
       "text": [
        "\r",
        "Progress 42.8%"
       ]
      },
      {
       "output_type": "stream",
       "stream": "stdout",
       "text": [
        "\r",
        "Progress 42.9%\r",
        "Progress 43.0%\r",
        "Progress 43.1%\r",
        "Progress 43.2%"
       ]
      },
      {
       "output_type": "stream",
       "stream": "stdout",
       "text": [
        "\r",
        "Progress 43.3%\r",
        "Progress 43.5%\r",
        "Progress 43.6%\r",
        "Progress 43.7%"
       ]
      },
      {
       "output_type": "stream",
       "stream": "stdout",
       "text": [
        "\r",
        "Progress 43.8%\r",
        "Progress 43.9%"
       ]
      },
      {
       "output_type": "stream",
       "stream": "stdout",
       "text": [
        "\r",
        "Progress 44.1%\r",
        "Progress 44.2%\r",
        "Progress 44.3%"
       ]
      },
      {
       "output_type": "stream",
       "stream": "stdout",
       "text": [
        "\r",
        "Progress 44.4%\r",
        "Progress 44.5%\r",
        "Progress 44.7%"
       ]
      },
      {
       "output_type": "stream",
       "stream": "stdout",
       "text": [
        "\r",
        "Progress 44.8%\r",
        "Progress 44.9%\r",
        "Progress 45.0%"
       ]
      },
      {
       "output_type": "stream",
       "stream": "stdout",
       "text": [
        "\r",
        "Progress 45.1%\r",
        "Progress 45.2%\r",
        "Progress 45.4%"
       ]
      },
      {
       "output_type": "stream",
       "stream": "stdout",
       "text": [
        "\r",
        "Progress 45.5%\r",
        "Progress 45.6%\r",
        "Progress 45.7%"
       ]
      },
      {
       "output_type": "stream",
       "stream": "stdout",
       "text": [
        "\r",
        "Progress 45.8%\r",
        "Progress 46.0%\r",
        "Progress 46.1%"
       ]
      },
      {
       "output_type": "stream",
       "stream": "stdout",
       "text": [
        "\r",
        "Progress 46.2%\r",
        "Progress 46.3%\r",
        "Progress 46.4%"
       ]
      },
      {
       "output_type": "stream",
       "stream": "stdout",
       "text": [
        "\r",
        "Progress 46.6%\r",
        "Progress 46.7%\r",
        "Progress 46.8%\r",
        "Progress 46.9%"
       ]
      },
      {
       "output_type": "stream",
       "stream": "stdout",
       "text": [
        "\r",
        "Progress 47.0%\r",
        "Progress 47.1%\r",
        "Progress 47.3%\r",
        "Progress 47.4%"
       ]
      },
      {
       "output_type": "stream",
       "stream": "stdout",
       "text": [
        "\r",
        "Progress 47.5%\r",
        "Progress 47.6%"
       ]
      },
      {
       "output_type": "stream",
       "stream": "stdout",
       "text": [
        "\r",
        "Progress 47.7%\r",
        "Progress 47.9%\r",
        "Progress 48.0%"
       ]
      },
      {
       "output_type": "stream",
       "stream": "stdout",
       "text": [
        "\r",
        "Progress 48.1%\r",
        "Progress 48.2%\r",
        "Progress 48.3%\r",
        "Progress 48.5%"
       ]
      },
      {
       "output_type": "stream",
       "stream": "stdout",
       "text": [
        "\r",
        "Progress 48.6%\r",
        "Progress 48.7%\r",
        "Progress 48.8%\r",
        "Progress 48.9%"
       ]
      },
      {
       "output_type": "stream",
       "stream": "stdout",
       "text": [
        "\r",
        "Progress 49.0%\r",
        "Progress 49.2%\r",
        "Progress 49.3%\r",
        "Progress 49.4%"
       ]
      },
      {
       "output_type": "stream",
       "stream": "stdout",
       "text": [
        "\r",
        "Progress 49.5%\r",
        "Progress 49.6%\r",
        "Progress 49.8%\r",
        "Progress 49.9%"
       ]
      },
      {
       "output_type": "stream",
       "stream": "stdout",
       "text": [
        "\r",
        "Progress 50.0%\r",
        "Progress 50.1%\r",
        "Progress 50.2%"
       ]
      },
      {
       "output_type": "stream",
       "stream": "stdout",
       "text": [
        "\r",
        "Progress 50.4%\r",
        "Progress 50.5%\r",
        "Progress 50.6%"
       ]
      },
      {
       "output_type": "stream",
       "stream": "stdout",
       "text": [
        "\r",
        "Progress 50.7%\r",
        "Progress 50.8%\r",
        "Progress 51.0%"
       ]
      },
      {
       "output_type": "stream",
       "stream": "stdout",
       "text": [
        "\r",
        "Progress 51.1%\r",
        "Progress 51.2%\r",
        "Progress 51.3%"
       ]
      },
      {
       "output_type": "stream",
       "stream": "stdout",
       "text": [
        "\r",
        "Progress 51.4%\r",
        "Progress 51.5%\r",
        "Progress 51.7%"
       ]
      },
      {
       "output_type": "stream",
       "stream": "stdout",
       "text": [
        "\r",
        "Progress 51.8%\r",
        "Progress 51.9%"
       ]
      },
      {
       "output_type": "stream",
       "stream": "stdout",
       "text": [
        "\r",
        "Progress 52.0%\r",
        "Progress 52.1%\r",
        "Progress 52.3%\r",
        "Progress 52.4%"
       ]
      },
      {
       "output_type": "stream",
       "stream": "stdout",
       "text": [
        "\r",
        "Progress 52.5%\r",
        "Progress 52.6%\r",
        "Progress 52.7%\r",
        "Progress 52.9%"
       ]
      },
      {
       "output_type": "stream",
       "stream": "stdout",
       "text": [
        "\r",
        "Progress 53.0%\r",
        "Progress 53.1%\r",
        "Progress 53.2%"
       ]
      },
      {
       "output_type": "stream",
       "stream": "stdout",
       "text": [
        "\r",
        "Progress 53.3%\r",
        "Progress 53.4%\r",
        "Progress 53.6%"
       ]
      },
      {
       "output_type": "stream",
       "stream": "stdout",
       "text": [
        "\r",
        "Progress 53.7%\r",
        "Progress 53.8%\r",
        "Progress 53.9%"
       ]
      },
      {
       "output_type": "stream",
       "stream": "stdout",
       "text": [
        "\r",
        "Progress 54.0%\r",
        "Progress 54.2%\r",
        "Progress 54.3%"
       ]
      },
      {
       "output_type": "stream",
       "stream": "stdout",
       "text": [
        "\r",
        "Progress 54.4%\r",
        "Progress 54.5%\r",
        "Progress 54.6%\r",
        "Progress 54.8%\r",
        "Progress 54.9%"
       ]
      },
      {
       "output_type": "stream",
       "stream": "stdout",
       "text": [
        "\r",
        "Progress 55.0%\r"
       ]
      },
      {
       "html": [
        "<div style=\"max-height:1000px;max-width:1500px;overflow:auto;\">\n",
        "<table border=\"1\" class=\"dataframe\">\n",
        "  <thead>\n",
        "    <tr>\n",
        "      <th>statistic</th>\n",
        "      <th colspan=\"21\" halign=\"left\">mean_daily_num_vehicles</th>\n",
        "    </tr>\n",
        "    <tr>\n",
        "      <th>stop_id</th>\n",
        "      <th colspan=\"2\" halign=\"left\">750000</th>\n",
        "      <th colspan=\"2\" halign=\"left\">750001</th>\n",
        "      <th colspan=\"2\" halign=\"left\">750002</th>\n",
        "      <th colspan=\"2\" halign=\"left\">750003</th>\n",
        "      <th colspan=\"2\" halign=\"left\">750004</th>\n",
        "      <th>...</th>\n",
        "      <th colspan=\"2\" halign=\"left\">750432</th>\n",
        "      <th colspan=\"2\" halign=\"left\">750435</th>\n",
        "      <th colspan=\"2\" halign=\"left\">750436</th>\n",
        "      <th colspan=\"2\" halign=\"left\">750437</th>\n",
        "      <th colspan=\"2\" halign=\"left\">750448</th>\n",
        "    </tr>\n",
        "    <tr>\n",
        "      <th>direction_id</th>\n",
        "      <th>0</th>\n",
        "      <th>1</th>\n",
        "      <th>0</th>\n",
        "      <th>1</th>\n",
        "      <th>0</th>\n",
        "      <th>1</th>\n",
        "      <th>0</th>\n",
        "      <th>1</th>\n",
        "      <th>0</th>\n",
        "      <th>1</th>\n",
        "      <th>...</th>\n",
        "      <th>0</th>\n",
        "      <th>1</th>\n",
        "      <th>0</th>\n",
        "      <th>1</th>\n",
        "      <th>0</th>\n",
        "      <th>1</th>\n",
        "      <th>0</th>\n",
        "      <th>1</th>\n",
        "      <th>0</th>\n",
        "      <th>1</th>\n",
        "    </tr>\n",
        "  </thead>\n",
        "  <tbody>\n",
        "    <tr>\n",
        "      <th>2000-01-01 00:00:00</th>\n",
        "      <td>NaN</td>\n",
        "      <td>NaN</td>\n",
        "      <td>NaN</td>\n",
        "      <td>NaN</td>\n",
        "      <td>NaN</td>\n",
        "      <td>NaN</td>\n",
        "      <td>NaN</td>\n",
        "      <td>NaN</td>\n",
        "      <td>NaN</td>\n",
        "      <td>NaN</td>\n",
        "      <td>...</td>\n",
        "      <td>NaN</td>\n",
        "      <td>NaN</td>\n",
        "      <td>NaN</td>\n",
        "      <td>NaN</td>\n",
        "      <td>NaN</td>\n",
        "      <td>NaN</td>\n",
        "      <td>NaN</td>\n",
        "      <td>NaN</td>\n",
        "      <td>NaN</td>\n",
        "      <td>NaN</td>\n",
        "    </tr>\n",
        "    <tr>\n",
        "      <th>2000-01-01 00:05:00</th>\n",
        "      <td>NaN</td>\n",
        "      <td>NaN</td>\n",
        "      <td>NaN</td>\n",
        "      <td>NaN</td>\n",
        "      <td>NaN</td>\n",
        "      <td>NaN</td>\n",
        "      <td>NaN</td>\n",
        "      <td>NaN</td>\n",
        "      <td>NaN</td>\n",
        "      <td>NaN</td>\n",
        "      <td>...</td>\n",
        "      <td>NaN</td>\n",
        "      <td>NaN</td>\n",
        "      <td>NaN</td>\n",
        "      <td>NaN</td>\n",
        "      <td>NaN</td>\n",
        "      <td>NaN</td>\n",
        "      <td>NaN</td>\n",
        "      <td>NaN</td>\n",
        "      <td>NaN</td>\n",
        "      <td>NaN</td>\n",
        "    </tr>\n",
        "    <tr>\n",
        "      <th>2000-01-01 00:10:00</th>\n",
        "      <td>NaN</td>\n",
        "      <td>NaN</td>\n",
        "      <td>NaN</td>\n",
        "      <td>NaN</td>\n",
        "      <td>NaN</td>\n",
        "      <td>NaN</td>\n",
        "      <td>NaN</td>\n",
        "      <td>NaN</td>\n",
        "      <td>NaN</td>\n",
        "      <td>NaN</td>\n",
        "      <td>...</td>\n",
        "      <td>NaN</td>\n",
        "      <td>NaN</td>\n",
        "      <td>NaN</td>\n",
        "      <td>NaN</td>\n",
        "      <td>NaN</td>\n",
        "      <td>NaN</td>\n",
        "      <td>NaN</td>\n",
        "      <td>NaN</td>\n",
        "      <td>NaN</td>\n",
        "      <td>NaN</td>\n",
        "    </tr>\n",
        "    <tr>\n",
        "      <th>2000-01-01 00:15:00</th>\n",
        "      <td>NaN</td>\n",
        "      <td>NaN</td>\n",
        "      <td>NaN</td>\n",
        "      <td>NaN</td>\n",
        "      <td>NaN</td>\n",
        "      <td>NaN</td>\n",
        "      <td>NaN</td>\n",
        "      <td>NaN</td>\n",
        "      <td>NaN</td>\n",
        "      <td>NaN</td>\n",
        "      <td>...</td>\n",
        "      <td>NaN</td>\n",
        "      <td>NaN</td>\n",
        "      <td>NaN</td>\n",
        "      <td>NaN</td>\n",
        "      <td>NaN</td>\n",
        "      <td>NaN</td>\n",
        "      <td>NaN</td>\n",
        "      <td>NaN</td>\n",
        "      <td>NaN</td>\n",
        "      <td>NaN</td>\n",
        "    </tr>\n",
        "    <tr>\n",
        "      <th>2000-01-01 00:20:00</th>\n",
        "      <td>NaN</td>\n",
        "      <td>NaN</td>\n",
        "      <td>NaN</td>\n",
        "      <td>NaN</td>\n",
        "      <td>NaN</td>\n",
        "      <td>NaN</td>\n",
        "      <td>NaN</td>\n",
        "      <td>NaN</td>\n",
        "      <td>NaN</td>\n",
        "      <td>NaN</td>\n",
        "      <td>...</td>\n",
        "      <td>NaN</td>\n",
        "      <td>NaN</td>\n",
        "      <td>NaN</td>\n",
        "      <td>NaN</td>\n",
        "      <td>NaN</td>\n",
        "      <td>NaN</td>\n",
        "      <td>NaN</td>\n",
        "      <td>NaN</td>\n",
        "      <td>NaN</td>\n",
        "      <td>NaN</td>\n",
        "    </tr>\n",
        "    <tr>\n",
        "      <th>2000-01-01 00:25:00</th>\n",
        "      <td>NaN</td>\n",
        "      <td>NaN</td>\n",
        "      <td>NaN</td>\n",
        "      <td>NaN</td>\n",
        "      <td>NaN</td>\n",
        "      <td>NaN</td>\n",
        "      <td>NaN</td>\n",
        "      <td>NaN</td>\n",
        "      <td>NaN</td>\n",
        "      <td>NaN</td>\n",
        "      <td>...</td>\n",
        "      <td>NaN</td>\n",
        "      <td>NaN</td>\n",
        "      <td>NaN</td>\n",
        "      <td>NaN</td>\n",
        "      <td>NaN</td>\n",
        "      <td>NaN</td>\n",
        "      <td>NaN</td>\n",
        "      <td>NaN</td>\n",
        "      <td>NaN</td>\n",
        "      <td>NaN</td>\n",
        "    </tr>\n",
        "    <tr>\n",
        "      <th>2000-01-01 00:30:00</th>\n",
        "      <td>NaN</td>\n",
        "      <td>NaN</td>\n",
        "      <td>NaN</td>\n",
        "      <td>NaN</td>\n",
        "      <td>NaN</td>\n",
        "      <td>NaN</td>\n",
        "      <td>NaN</td>\n",
        "      <td>NaN</td>\n",
        "      <td>NaN</td>\n",
        "      <td>NaN</td>\n",
        "      <td>...</td>\n",
        "      <td>NaN</td>\n",
        "      <td>NaN</td>\n",
        "      <td>NaN</td>\n",
        "      <td>NaN</td>\n",
        "      <td>NaN</td>\n",
        "      <td>NaN</td>\n",
        "      <td>NaN</td>\n",
        "      <td>NaN</td>\n",
        "      <td>NaN</td>\n",
        "      <td>NaN</td>\n",
        "    </tr>\n",
        "    <tr>\n",
        "      <th>2000-01-01 00:35:00</th>\n",
        "      <td>NaN</td>\n",
        "      <td>NaN</td>\n",
        "      <td>NaN</td>\n",
        "      <td>NaN</td>\n",
        "      <td>NaN</td>\n",
        "      <td>NaN</td>\n",
        "      <td>NaN</td>\n",
        "      <td>NaN</td>\n",
        "      <td>NaN</td>\n",
        "      <td>NaN</td>\n",
        "      <td>...</td>\n",
        "      <td>NaN</td>\n",
        "      <td>NaN</td>\n",
        "      <td>NaN</td>\n",
        "      <td>NaN</td>\n",
        "      <td>NaN</td>\n",
        "      <td>NaN</td>\n",
        "      <td>NaN</td>\n",
        "      <td>NaN</td>\n",
        "      <td>NaN</td>\n",
        "      <td>NaN</td>\n",
        "    </tr>\n",
        "    <tr>\n",
        "      <th>2000-01-01 00:40:00</th>\n",
        "      <td>NaN</td>\n",
        "      <td>NaN</td>\n",
        "      <td>NaN</td>\n",
        "      <td>NaN</td>\n",
        "      <td>NaN</td>\n",
        "      <td>NaN</td>\n",
        "      <td>NaN</td>\n",
        "      <td>NaN</td>\n",
        "      <td>NaN</td>\n",
        "      <td>NaN</td>\n",
        "      <td>...</td>\n",
        "      <td>NaN</td>\n",
        "      <td>NaN</td>\n",
        "      <td>NaN</td>\n",
        "      <td>NaN</td>\n",
        "      <td>NaN</td>\n",
        "      <td>NaN</td>\n",
        "      <td>NaN</td>\n",
        "      <td>NaN</td>\n",
        "      <td>NaN</td>\n",
        "      <td>NaN</td>\n",
        "    </tr>\n",
        "    <tr>\n",
        "      <th>2000-01-01 00:45:00</th>\n",
        "      <td>NaN</td>\n",
        "      <td>NaN</td>\n",
        "      <td>NaN</td>\n",
        "      <td>NaN</td>\n",
        "      <td>NaN</td>\n",
        "      <td>NaN</td>\n",
        "      <td>NaN</td>\n",
        "      <td>NaN</td>\n",
        "      <td>NaN</td>\n",
        "      <td>NaN</td>\n",
        "      <td>...</td>\n",
        "      <td>NaN</td>\n",
        "      <td>NaN</td>\n",
        "      <td>NaN</td>\n",
        "      <td>NaN</td>\n",
        "      <td>NaN</td>\n",
        "      <td>NaN</td>\n",
        "      <td>NaN</td>\n",
        "      <td>NaN</td>\n",
        "      <td>NaN</td>\n",
        "      <td>NaN</td>\n",
        "    </tr>\n",
        "    <tr>\n",
        "      <th>2000-01-01 00:50:00</th>\n",
        "      <td>NaN</td>\n",
        "      <td>NaN</td>\n",
        "      <td>NaN</td>\n",
        "      <td>NaN</td>\n",
        "      <td>NaN</td>\n",
        "      <td>NaN</td>\n",
        "      <td>NaN</td>\n",
        "      <td>NaN</td>\n",
        "      <td>NaN</td>\n",
        "      <td>NaN</td>\n",
        "      <td>...</td>\n",
        "      <td>NaN</td>\n",
        "      <td>NaN</td>\n",
        "      <td>NaN</td>\n",
        "      <td>NaN</td>\n",
        "      <td>NaN</td>\n",
        "      <td>NaN</td>\n",
        "      <td>NaN</td>\n",
        "      <td>NaN</td>\n",
        "      <td>NaN</td>\n",
        "      <td>NaN</td>\n",
        "    </tr>\n",
        "    <tr>\n",
        "      <th>2000-01-01 00:55:00</th>\n",
        "      <td>NaN</td>\n",
        "      <td>NaN</td>\n",
        "      <td>NaN</td>\n",
        "      <td>NaN</td>\n",
        "      <td>NaN</td>\n",
        "      <td>NaN</td>\n",
        "      <td>NaN</td>\n",
        "      <td>NaN</td>\n",
        "      <td>NaN</td>\n",
        "      <td>NaN</td>\n",
        "      <td>...</td>\n",
        "      <td>NaN</td>\n",
        "      <td>NaN</td>\n",
        "      <td>NaN</td>\n",
        "      <td>NaN</td>\n",
        "      <td>NaN</td>\n",
        "      <td>NaN</td>\n",
        "      <td>NaN</td>\n",
        "      <td>NaN</td>\n",
        "      <td>NaN</td>\n",
        "      <td>NaN</td>\n",
        "    </tr>\n",
        "    <tr>\n",
        "      <th>2000-01-01 01:00:00</th>\n",
        "      <td>NaN</td>\n",
        "      <td>NaN</td>\n",
        "      <td>NaN</td>\n",
        "      <td>NaN</td>\n",
        "      <td>NaN</td>\n",
        "      <td>NaN</td>\n",
        "      <td>NaN</td>\n",
        "      <td>NaN</td>\n",
        "      <td>NaN</td>\n",
        "      <td>NaN</td>\n",
        "      <td>...</td>\n",
        "      <td>NaN</td>\n",
        "      <td>NaN</td>\n",
        "      <td>NaN</td>\n",
        "      <td>NaN</td>\n",
        "      <td>NaN</td>\n",
        "      <td>NaN</td>\n",
        "      <td>NaN</td>\n",
        "      <td>NaN</td>\n",
        "      <td>NaN</td>\n",
        "      <td>NaN</td>\n",
        "    </tr>\n",
        "    <tr>\n",
        "      <th>2000-01-01 01:05:00</th>\n",
        "      <td>NaN</td>\n",
        "      <td>NaN</td>\n",
        "      <td>NaN</td>\n",
        "      <td>NaN</td>\n",
        "      <td>NaN</td>\n",
        "      <td>NaN</td>\n",
        "      <td>NaN</td>\n",
        "      <td>NaN</td>\n",
        "      <td>NaN</td>\n",
        "      <td>NaN</td>\n",
        "      <td>...</td>\n",
        "      <td>NaN</td>\n",
        "      <td>NaN</td>\n",
        "      <td>NaN</td>\n",
        "      <td>NaN</td>\n",
        "      <td>NaN</td>\n",
        "      <td>NaN</td>\n",
        "      <td>NaN</td>\n",
        "      <td>NaN</td>\n",
        "      <td>NaN</td>\n",
        "      <td>NaN</td>\n",
        "    </tr>\n",
        "    <tr>\n",
        "      <th>2000-01-01 01:10:00</th>\n",
        "      <td>NaN</td>\n",
        "      <td>NaN</td>\n",
        "      <td>NaN</td>\n",
        "      <td>NaN</td>\n",
        "      <td>NaN</td>\n",
        "      <td>NaN</td>\n",
        "      <td>NaN</td>\n",
        "      <td>NaN</td>\n",
        "      <td>NaN</td>\n",
        "      <td>NaN</td>\n",
        "      <td>...</td>\n",
        "      <td>NaN</td>\n",
        "      <td>NaN</td>\n",
        "      <td>NaN</td>\n",
        "      <td>NaN</td>\n",
        "      <td>NaN</td>\n",
        "      <td>NaN</td>\n",
        "      <td>NaN</td>\n",
        "      <td>NaN</td>\n",
        "      <td>NaN</td>\n",
        "      <td>NaN</td>\n",
        "    </tr>\n",
        "    <tr>\n",
        "      <th>2000-01-01 01:15:00</th>\n",
        "      <td>NaN</td>\n",
        "      <td>NaN</td>\n",
        "      <td>NaN</td>\n",
        "      <td>NaN</td>\n",
        "      <td>NaN</td>\n",
        "      <td>NaN</td>\n",
        "      <td>NaN</td>\n",
        "      <td>NaN</td>\n",
        "      <td>NaN</td>\n",
        "      <td>NaN</td>\n",
        "      <td>...</td>\n",
        "      <td>NaN</td>\n",
        "      <td>NaN</td>\n",
        "      <td>NaN</td>\n",
        "      <td>NaN</td>\n",
        "      <td>NaN</td>\n",
        "      <td>NaN</td>\n",
        "      <td>NaN</td>\n",
        "      <td>NaN</td>\n",
        "      <td>NaN</td>\n",
        "      <td>NaN</td>\n",
        "    </tr>\n",
        "    <tr>\n",
        "      <th>2000-01-01 01:20:00</th>\n",
        "      <td>NaN</td>\n",
        "      <td>NaN</td>\n",
        "      <td>NaN</td>\n",
        "      <td>NaN</td>\n",
        "      <td>NaN</td>\n",
        "      <td>NaN</td>\n",
        "      <td>NaN</td>\n",
        "      <td>NaN</td>\n",
        "      <td>NaN</td>\n",
        "      <td>NaN</td>\n",
        "      <td>...</td>\n",
        "      <td>NaN</td>\n",
        "      <td>NaN</td>\n",
        "      <td>NaN</td>\n",
        "      <td>NaN</td>\n",
        "      <td>NaN</td>\n",
        "      <td>NaN</td>\n",
        "      <td>NaN</td>\n",
        "      <td>NaN</td>\n",
        "      <td>NaN</td>\n",
        "      <td>NaN</td>\n",
        "    </tr>\n",
        "    <tr>\n",
        "      <th>2000-01-01 01:25:00</th>\n",
        "      <td>NaN</td>\n",
        "      <td>NaN</td>\n",
        "      <td>NaN</td>\n",
        "      <td>NaN</td>\n",
        "      <td>NaN</td>\n",
        "      <td>NaN</td>\n",
        "      <td>NaN</td>\n",
        "      <td>NaN</td>\n",
        "      <td>NaN</td>\n",
        "      <td>NaN</td>\n",
        "      <td>...</td>\n",
        "      <td>NaN</td>\n",
        "      <td>NaN</td>\n",
        "      <td>NaN</td>\n",
        "      <td>NaN</td>\n",
        "      <td>NaN</td>\n",
        "      <td>NaN</td>\n",
        "      <td>NaN</td>\n",
        "      <td>NaN</td>\n",
        "      <td>NaN</td>\n",
        "      <td>NaN</td>\n",
        "    </tr>\n",
        "    <tr>\n",
        "      <th>2000-01-01 01:30:00</th>\n",
        "      <td>NaN</td>\n",
        "      <td>NaN</td>\n",
        "      <td>NaN</td>\n",
        "      <td>NaN</td>\n",
        "      <td>NaN</td>\n",
        "      <td>NaN</td>\n",
        "      <td>NaN</td>\n",
        "      <td>NaN</td>\n",
        "      <td>NaN</td>\n",
        "      <td>NaN</td>\n",
        "      <td>...</td>\n",
        "      <td>NaN</td>\n",
        "      <td>NaN</td>\n",
        "      <td>NaN</td>\n",
        "      <td>NaN</td>\n",
        "      <td>NaN</td>\n",
        "      <td>NaN</td>\n",
        "      <td>NaN</td>\n",
        "      <td>NaN</td>\n",
        "      <td>NaN</td>\n",
        "      <td>NaN</td>\n",
        "    </tr>\n",
        "    <tr>\n",
        "      <th>2000-01-01 01:35:00</th>\n",
        "      <td>NaN</td>\n",
        "      <td>NaN</td>\n",
        "      <td>NaN</td>\n",
        "      <td>NaN</td>\n",
        "      <td>NaN</td>\n",
        "      <td>NaN</td>\n",
        "      <td>NaN</td>\n",
        "      <td>NaN</td>\n",
        "      <td>NaN</td>\n",
        "      <td>NaN</td>\n",
        "      <td>...</td>\n",
        "      <td>NaN</td>\n",
        "      <td>NaN</td>\n",
        "      <td>NaN</td>\n",
        "      <td>NaN</td>\n",
        "      <td>NaN</td>\n",
        "      <td>NaN</td>\n",
        "      <td>NaN</td>\n",
        "      <td>NaN</td>\n",
        "      <td>NaN</td>\n",
        "      <td>NaN</td>\n",
        "    </tr>\n",
        "    <tr>\n",
        "      <th>2000-01-01 01:40:00</th>\n",
        "      <td>NaN</td>\n",
        "      <td>NaN</td>\n",
        "      <td>NaN</td>\n",
        "      <td>NaN</td>\n",
        "      <td>NaN</td>\n",
        "      <td>NaN</td>\n",
        "      <td>NaN</td>\n",
        "      <td>NaN</td>\n",
        "      <td>NaN</td>\n",
        "      <td>NaN</td>\n",
        "      <td>...</td>\n",
        "      <td>NaN</td>\n",
        "      <td>NaN</td>\n",
        "      <td>NaN</td>\n",
        "      <td>NaN</td>\n",
        "      <td>NaN</td>\n",
        "      <td>NaN</td>\n",
        "      <td>NaN</td>\n",
        "      <td>NaN</td>\n",
        "      <td>NaN</td>\n",
        "      <td>NaN</td>\n",
        "    </tr>\n",
        "    <tr>\n",
        "      <th>2000-01-01 01:45:00</th>\n",
        "      <td>NaN</td>\n",
        "      <td>NaN</td>\n",
        "      <td>NaN</td>\n",
        "      <td>NaN</td>\n",
        "      <td>NaN</td>\n",
        "      <td>NaN</td>\n",
        "      <td>NaN</td>\n",
        "      <td>NaN</td>\n",
        "      <td>NaN</td>\n",
        "      <td>NaN</td>\n",
        "      <td>...</td>\n",
        "      <td>NaN</td>\n",
        "      <td>NaN</td>\n",
        "      <td>NaN</td>\n",
        "      <td>NaN</td>\n",
        "      <td>NaN</td>\n",
        "      <td>NaN</td>\n",
        "      <td>NaN</td>\n",
        "      <td>NaN</td>\n",
        "      <td>NaN</td>\n",
        "      <td>NaN</td>\n",
        "    </tr>\n",
        "    <tr>\n",
        "      <th>2000-01-01 01:50:00</th>\n",
        "      <td>NaN</td>\n",
        "      <td>NaN</td>\n",
        "      <td>NaN</td>\n",
        "      <td>NaN</td>\n",
        "      <td>NaN</td>\n",
        "      <td>NaN</td>\n",
        "      <td>NaN</td>\n",
        "      <td>NaN</td>\n",
        "      <td>NaN</td>\n",
        "      <td>NaN</td>\n",
        "      <td>...</td>\n",
        "      <td>NaN</td>\n",
        "      <td>NaN</td>\n",
        "      <td>NaN</td>\n",
        "      <td>NaN</td>\n",
        "      <td>NaN</td>\n",
        "      <td>NaN</td>\n",
        "      <td>NaN</td>\n",
        "      <td>NaN</td>\n",
        "      <td>NaN</td>\n",
        "      <td>NaN</td>\n",
        "    </tr>\n",
        "    <tr>\n",
        "      <th>2000-01-01 01:55:00</th>\n",
        "      <td>NaN</td>\n",
        "      <td>NaN</td>\n",
        "      <td>NaN</td>\n",
        "      <td>NaN</td>\n",
        "      <td>NaN</td>\n",
        "      <td>NaN</td>\n",
        "      <td>NaN</td>\n",
        "      <td>NaN</td>\n",
        "      <td>NaN</td>\n",
        "      <td>NaN</td>\n",
        "      <td>...</td>\n",
        "      <td>NaN</td>\n",
        "      <td>NaN</td>\n",
        "      <td>NaN</td>\n",
        "      <td>NaN</td>\n",
        "      <td>NaN</td>\n",
        "      <td>NaN</td>\n",
        "      <td>NaN</td>\n",
        "      <td>NaN</td>\n",
        "      <td>NaN</td>\n",
        "      <td>NaN</td>\n",
        "    </tr>\n",
        "    <tr>\n",
        "      <th>2000-01-01 02:00:00</th>\n",
        "      <td>NaN</td>\n",
        "      <td>NaN</td>\n",
        "      <td>NaN</td>\n",
        "      <td>NaN</td>\n",
        "      <td>NaN</td>\n",
        "      <td>NaN</td>\n",
        "      <td>NaN</td>\n",
        "      <td>NaN</td>\n",
        "      <td>NaN</td>\n",
        "      <td>NaN</td>\n",
        "      <td>...</td>\n",
        "      <td>NaN</td>\n",
        "      <td>NaN</td>\n",
        "      <td>NaN</td>\n",
        "      <td>NaN</td>\n",
        "      <td>NaN</td>\n",
        "      <td>NaN</td>\n",
        "      <td>NaN</td>\n",
        "      <td>NaN</td>\n",
        "      <td>NaN</td>\n",
        "      <td>NaN</td>\n",
        "    </tr>\n",
        "    <tr>\n",
        "      <th>2000-01-01 02:05:00</th>\n",
        "      <td>NaN</td>\n",
        "      <td>NaN</td>\n",
        "      <td>NaN</td>\n",
        "      <td>NaN</td>\n",
        "      <td>NaN</td>\n",
        "      <td>NaN</td>\n",
        "      <td>NaN</td>\n",
        "      <td>NaN</td>\n",
        "      <td>NaN</td>\n",
        "      <td>NaN</td>\n",
        "      <td>...</td>\n",
        "      <td>NaN</td>\n",
        "      <td>NaN</td>\n",
        "      <td>NaN</td>\n",
        "      <td>NaN</td>\n",
        "      <td>NaN</td>\n",
        "      <td>NaN</td>\n",
        "      <td>NaN</td>\n",
        "      <td>NaN</td>\n",
        "      <td>NaN</td>\n",
        "      <td>NaN</td>\n",
        "    </tr>\n",
        "    <tr>\n",
        "      <th>2000-01-01 02:10:00</th>\n",
        "      <td>NaN</td>\n",
        "      <td>NaN</td>\n",
        "      <td>NaN</td>\n",
        "      <td>NaN</td>\n",
        "      <td>NaN</td>\n",
        "      <td>NaN</td>\n",
        "      <td>NaN</td>\n",
        "      <td>NaN</td>\n",
        "      <td>NaN</td>\n",
        "      <td>NaN</td>\n",
        "      <td>...</td>\n",
        "      <td>NaN</td>\n",
        "      <td>NaN</td>\n",
        "      <td>NaN</td>\n",
        "      <td>NaN</td>\n",
        "      <td>NaN</td>\n",
        "      <td>NaN</td>\n",
        "      <td>NaN</td>\n",
        "      <td>NaN</td>\n",
        "      <td>NaN</td>\n",
        "      <td>NaN</td>\n",
        "    </tr>\n",
        "    <tr>\n",
        "      <th>2000-01-01 02:15:00</th>\n",
        "      <td>NaN</td>\n",
        "      <td>NaN</td>\n",
        "      <td>NaN</td>\n",
        "      <td>NaN</td>\n",
        "      <td>NaN</td>\n",
        "      <td>NaN</td>\n",
        "      <td>NaN</td>\n",
        "      <td>NaN</td>\n",
        "      <td>NaN</td>\n",
        "      <td>NaN</td>\n",
        "      <td>...</td>\n",
        "      <td>NaN</td>\n",
        "      <td>NaN</td>\n",
        "      <td>NaN</td>\n",
        "      <td>NaN</td>\n",
        "      <td>NaN</td>\n",
        "      <td>NaN</td>\n",
        "      <td>NaN</td>\n",
        "      <td>NaN</td>\n",
        "      <td>NaN</td>\n",
        "      <td>NaN</td>\n",
        "    </tr>\n",
        "    <tr>\n",
        "      <th>2000-01-01 02:20:00</th>\n",
        "      <td>NaN</td>\n",
        "      <td>NaN</td>\n",
        "      <td>NaN</td>\n",
        "      <td>NaN</td>\n",
        "      <td>NaN</td>\n",
        "      <td>NaN</td>\n",
        "      <td>NaN</td>\n",
        "      <td>NaN</td>\n",
        "      <td>NaN</td>\n",
        "      <td>NaN</td>\n",
        "      <td>...</td>\n",
        "      <td>NaN</td>\n",
        "      <td>NaN</td>\n",
        "      <td>NaN</td>\n",
        "      <td>NaN</td>\n",
        "      <td>NaN</td>\n",
        "      <td>NaN</td>\n",
        "      <td>NaN</td>\n",
        "      <td>NaN</td>\n",
        "      <td>NaN</td>\n",
        "      <td>NaN</td>\n",
        "    </tr>\n",
        "    <tr>\n",
        "      <th>2000-01-01 02:25:00</th>\n",
        "      <td>NaN</td>\n",
        "      <td>NaN</td>\n",
        "      <td>NaN</td>\n",
        "      <td>NaN</td>\n",
        "      <td>NaN</td>\n",
        "      <td>NaN</td>\n",
        "      <td>NaN</td>\n",
        "      <td>NaN</td>\n",
        "      <td>NaN</td>\n",
        "      <td>NaN</td>\n",
        "      <td>...</td>\n",
        "      <td>NaN</td>\n",
        "      <td>NaN</td>\n",
        "      <td>NaN</td>\n",
        "      <td>NaN</td>\n",
        "      <td>NaN</td>\n",
        "      <td>NaN</td>\n",
        "      <td>NaN</td>\n",
        "      <td>NaN</td>\n",
        "      <td>NaN</td>\n",
        "      <td>NaN</td>\n",
        "    </tr>\n",
        "    <tr>\n",
        "      <th>...</th>\n",
        "      <td>...</td>\n",
        "      <td>...</td>\n",
        "      <td>...</td>\n",
        "      <td>...</td>\n",
        "      <td>...</td>\n",
        "      <td>...</td>\n",
        "      <td>...</td>\n",
        "      <td>...</td>\n",
        "      <td>...</td>\n",
        "      <td>...</td>\n",
        "      <td>...</td>\n",
        "      <td>...</td>\n",
        "      <td>...</td>\n",
        "      <td>...</td>\n",
        "      <td>...</td>\n",
        "      <td>...</td>\n",
        "      <td>...</td>\n",
        "      <td>...</td>\n",
        "      <td>...</td>\n",
        "      <td>...</td>\n",
        "      <td>...</td>\n",
        "    </tr>\n",
        "    <tr>\n",
        "      <th>2000-01-01 21:30:00</th>\n",
        "      <td>NaN</td>\n",
        "      <td>NaN</td>\n",
        "      <td>NaN</td>\n",
        "      <td>NaN</td>\n",
        "      <td>NaN</td>\n",
        "      <td>NaN</td>\n",
        "      <td>NaN</td>\n",
        "      <td>NaN</td>\n",
        "      <td>NaN</td>\n",
        "      <td>NaN</td>\n",
        "      <td>...</td>\n",
        "      <td>NaN</td>\n",
        "      <td>NaN</td>\n",
        "      <td>NaN</td>\n",
        "      <td>  1</td>\n",
        "      <td>NaN</td>\n",
        "      <td>NaN</td>\n",
        "      <td>NaN</td>\n",
        "      <td>NaN</td>\n",
        "      <td>NaN</td>\n",
        "      <td>NaN</td>\n",
        "    </tr>\n",
        "    <tr>\n",
        "      <th>2000-01-01 21:35:00</th>\n",
        "      <td>NaN</td>\n",
        "      <td>NaN</td>\n",
        "      <td>NaN</td>\n",
        "      <td>NaN</td>\n",
        "      <td>NaN</td>\n",
        "      <td>NaN</td>\n",
        "      <td>NaN</td>\n",
        "      <td>NaN</td>\n",
        "      <td>NaN</td>\n",
        "      <td>NaN</td>\n",
        "      <td>...</td>\n",
        "      <td>NaN</td>\n",
        "      <td>NaN</td>\n",
        "      <td>NaN</td>\n",
        "      <td>NaN</td>\n",
        "      <td>NaN</td>\n",
        "      <td>NaN</td>\n",
        "      <td>NaN</td>\n",
        "      <td>NaN</td>\n",
        "      <td>NaN</td>\n",
        "      <td>NaN</td>\n",
        "    </tr>\n",
        "    <tr>\n",
        "      <th>2000-01-01 21:40:00</th>\n",
        "      <td>NaN</td>\n",
        "      <td>NaN</td>\n",
        "      <td>NaN</td>\n",
        "      <td>NaN</td>\n",
        "      <td>NaN</td>\n",
        "      <td>NaN</td>\n",
        "      <td>NaN</td>\n",
        "      <td>NaN</td>\n",
        "      <td>NaN</td>\n",
        "      <td>NaN</td>\n",
        "      <td>...</td>\n",
        "      <td>NaN</td>\n",
        "      <td>NaN</td>\n",
        "      <td>NaN</td>\n",
        "      <td>NaN</td>\n",
        "      <td>NaN</td>\n",
        "      <td>NaN</td>\n",
        "      <td>NaN</td>\n",
        "      <td>NaN</td>\n",
        "      <td>NaN</td>\n",
        "      <td>NaN</td>\n",
        "    </tr>\n",
        "    <tr>\n",
        "      <th>2000-01-01 21:45:00</th>\n",
        "      <td>NaN</td>\n",
        "      <td>NaN</td>\n",
        "      <td>NaN</td>\n",
        "      <td>NaN</td>\n",
        "      <td>NaN</td>\n",
        "      <td>NaN</td>\n",
        "      <td>NaN</td>\n",
        "      <td>NaN</td>\n",
        "      <td>NaN</td>\n",
        "      <td>NaN</td>\n",
        "      <td>...</td>\n",
        "      <td>NaN</td>\n",
        "      <td>NaN</td>\n",
        "      <td>NaN</td>\n",
        "      <td>NaN</td>\n",
        "      <td>NaN</td>\n",
        "      <td>NaN</td>\n",
        "      <td>NaN</td>\n",
        "      <td>NaN</td>\n",
        "      <td>NaN</td>\n",
        "      <td>NaN</td>\n",
        "    </tr>\n",
        "    <tr>\n",
        "      <th>2000-01-01 21:50:00</th>\n",
        "      <td>NaN</td>\n",
        "      <td>NaN</td>\n",
        "      <td>NaN</td>\n",
        "      <td>NaN</td>\n",
        "      <td>NaN</td>\n",
        "      <td>NaN</td>\n",
        "      <td>NaN</td>\n",
        "      <td>NaN</td>\n",
        "      <td>NaN</td>\n",
        "      <td>NaN</td>\n",
        "      <td>...</td>\n",
        "      <td>NaN</td>\n",
        "      <td>NaN</td>\n",
        "      <td>NaN</td>\n",
        "      <td>NaN</td>\n",
        "      <td>NaN</td>\n",
        "      <td>NaN</td>\n",
        "      <td>  1</td>\n",
        "      <td>NaN</td>\n",
        "      <td>NaN</td>\n",
        "      <td>NaN</td>\n",
        "    </tr>\n",
        "    <tr>\n",
        "      <th>2000-01-01 21:55:00</th>\n",
        "      <td>NaN</td>\n",
        "      <td>NaN</td>\n",
        "      <td>NaN</td>\n",
        "      <td>NaN</td>\n",
        "      <td>NaN</td>\n",
        "      <td>NaN</td>\n",
        "      <td>NaN</td>\n",
        "      <td>NaN</td>\n",
        "      <td>NaN</td>\n",
        "      <td>NaN</td>\n",
        "      <td>...</td>\n",
        "      <td>NaN</td>\n",
        "      <td>NaN</td>\n",
        "      <td>NaN</td>\n",
        "      <td>NaN</td>\n",
        "      <td>NaN</td>\n",
        "      <td>NaN</td>\n",
        "      <td>NaN</td>\n",
        "      <td>NaN</td>\n",
        "      <td>NaN</td>\n",
        "      <td>NaN</td>\n",
        "    </tr>\n",
        "    <tr>\n",
        "      <th>2000-01-01 22:00:00</th>\n",
        "      <td>NaN</td>\n",
        "      <td>NaN</td>\n",
        "      <td>NaN</td>\n",
        "      <td>NaN</td>\n",
        "      <td>NaN</td>\n",
        "      <td>NaN</td>\n",
        "      <td>NaN</td>\n",
        "      <td>NaN</td>\n",
        "      <td>NaN</td>\n",
        "      <td>NaN</td>\n",
        "      <td>...</td>\n",
        "      <td>NaN</td>\n",
        "      <td>NaN</td>\n",
        "      <td>NaN</td>\n",
        "      <td>NaN</td>\n",
        "      <td>NaN</td>\n",
        "      <td>NaN</td>\n",
        "      <td>NaN</td>\n",
        "      <td>NaN</td>\n",
        "      <td>NaN</td>\n",
        "      <td>NaN</td>\n",
        "    </tr>\n",
        "    <tr>\n",
        "      <th>2000-01-01 22:05:00</th>\n",
        "      <td>NaN</td>\n",
        "      <td>NaN</td>\n",
        "      <td>NaN</td>\n",
        "      <td>NaN</td>\n",
        "      <td>NaN</td>\n",
        "      <td>NaN</td>\n",
        "      <td>NaN</td>\n",
        "      <td>NaN</td>\n",
        "      <td>NaN</td>\n",
        "      <td>NaN</td>\n",
        "      <td>...</td>\n",
        "      <td>NaN</td>\n",
        "      <td>NaN</td>\n",
        "      <td>NaN</td>\n",
        "      <td>NaN</td>\n",
        "      <td>NaN</td>\n",
        "      <td>NaN</td>\n",
        "      <td>NaN</td>\n",
        "      <td>NaN</td>\n",
        "      <td>NaN</td>\n",
        "      <td>NaN</td>\n",
        "    </tr>\n",
        "    <tr>\n",
        "      <th>2000-01-01 22:10:00</th>\n",
        "      <td>  1</td>\n",
        "      <td>NaN</td>\n",
        "      <td>NaN</td>\n",
        "      <td>NaN</td>\n",
        "      <td>NaN</td>\n",
        "      <td>NaN</td>\n",
        "      <td>NaN</td>\n",
        "      <td>NaN</td>\n",
        "      <td>NaN</td>\n",
        "      <td>NaN</td>\n",
        "      <td>...</td>\n",
        "      <td>NaN</td>\n",
        "      <td>NaN</td>\n",
        "      <td>NaN</td>\n",
        "      <td>NaN</td>\n",
        "      <td>NaN</td>\n",
        "      <td>NaN</td>\n",
        "      <td>NaN</td>\n",
        "      <td>NaN</td>\n",
        "      <td>NaN</td>\n",
        "      <td>NaN</td>\n",
        "    </tr>\n",
        "    <tr>\n",
        "      <th>2000-01-01 22:15:00</th>\n",
        "      <td>NaN</td>\n",
        "      <td>NaN</td>\n",
        "      <td>  1</td>\n",
        "      <td>NaN</td>\n",
        "      <td>  1</td>\n",
        "      <td>NaN</td>\n",
        "      <td>  1</td>\n",
        "      <td>NaN</td>\n",
        "      <td>NaN</td>\n",
        "      <td>NaN</td>\n",
        "      <td>...</td>\n",
        "      <td>NaN</td>\n",
        "      <td>NaN</td>\n",
        "      <td>NaN</td>\n",
        "      <td>NaN</td>\n",
        "      <td>NaN</td>\n",
        "      <td>NaN</td>\n",
        "      <td>NaN</td>\n",
        "      <td>NaN</td>\n",
        "      <td>NaN</td>\n",
        "      <td>NaN</td>\n",
        "    </tr>\n",
        "    <tr>\n",
        "      <th>2000-01-01 22:20:00</th>\n",
        "      <td>NaN</td>\n",
        "      <td>NaN</td>\n",
        "      <td>NaN</td>\n",
        "      <td>NaN</td>\n",
        "      <td>NaN</td>\n",
        "      <td>NaN</td>\n",
        "      <td>NaN</td>\n",
        "      <td>NaN</td>\n",
        "      <td>  1</td>\n",
        "      <td>NaN</td>\n",
        "      <td>...</td>\n",
        "      <td>NaN</td>\n",
        "      <td>NaN</td>\n",
        "      <td>NaN</td>\n",
        "      <td>NaN</td>\n",
        "      <td>NaN</td>\n",
        "      <td>NaN</td>\n",
        "      <td>NaN</td>\n",
        "      <td>NaN</td>\n",
        "      <td>NaN</td>\n",
        "      <td>NaN</td>\n",
        "    </tr>\n",
        "    <tr>\n",
        "      <th>2000-01-01 22:25:00</th>\n",
        "      <td>NaN</td>\n",
        "      <td>NaN</td>\n",
        "      <td>NaN</td>\n",
        "      <td>NaN</td>\n",
        "      <td>NaN</td>\n",
        "      <td>NaN</td>\n",
        "      <td>NaN</td>\n",
        "      <td>NaN</td>\n",
        "      <td>NaN</td>\n",
        "      <td>NaN</td>\n",
        "      <td>...</td>\n",
        "      <td>NaN</td>\n",
        "      <td>NaN</td>\n",
        "      <td>NaN</td>\n",
        "      <td>NaN</td>\n",
        "      <td>NaN</td>\n",
        "      <td>NaN</td>\n",
        "      <td>NaN</td>\n",
        "      <td>NaN</td>\n",
        "      <td>NaN</td>\n",
        "      <td>NaN</td>\n",
        "    </tr>\n",
        "    <tr>\n",
        "      <th>2000-01-01 22:30:00</th>\n",
        "      <td>NaN</td>\n",
        "      <td>NaN</td>\n",
        "      <td>NaN</td>\n",
        "      <td>NaN</td>\n",
        "      <td>NaN</td>\n",
        "      <td>NaN</td>\n",
        "      <td>NaN</td>\n",
        "      <td>NaN</td>\n",
        "      <td>NaN</td>\n",
        "      <td>NaN</td>\n",
        "      <td>...</td>\n",
        "      <td>NaN</td>\n",
        "      <td>NaN</td>\n",
        "      <td>NaN</td>\n",
        "      <td>  1</td>\n",
        "      <td>NaN</td>\n",
        "      <td>NaN</td>\n",
        "      <td>NaN</td>\n",
        "      <td>NaN</td>\n",
        "      <td>NaN</td>\n",
        "      <td>NaN</td>\n",
        "    </tr>\n",
        "    <tr>\n",
        "      <th>2000-01-01 22:35:00</th>\n",
        "      <td>NaN</td>\n",
        "      <td>NaN</td>\n",
        "      <td>NaN</td>\n",
        "      <td>NaN</td>\n",
        "      <td>NaN</td>\n",
        "      <td>NaN</td>\n",
        "      <td>NaN</td>\n",
        "      <td>NaN</td>\n",
        "      <td>NaN</td>\n",
        "      <td>NaN</td>\n",
        "      <td>...</td>\n",
        "      <td>NaN</td>\n",
        "      <td>NaN</td>\n",
        "      <td>NaN</td>\n",
        "      <td>NaN</td>\n",
        "      <td>NaN</td>\n",
        "      <td>NaN</td>\n",
        "      <td>NaN</td>\n",
        "      <td>NaN</td>\n",
        "      <td>NaN</td>\n",
        "      <td>NaN</td>\n",
        "    </tr>\n",
        "    <tr>\n",
        "      <th>2000-01-01 22:40:00</th>\n",
        "      <td>NaN</td>\n",
        "      <td>NaN</td>\n",
        "      <td>NaN</td>\n",
        "      <td>NaN</td>\n",
        "      <td>NaN</td>\n",
        "      <td>NaN</td>\n",
        "      <td>NaN</td>\n",
        "      <td>NaN</td>\n",
        "      <td>NaN</td>\n",
        "      <td>NaN</td>\n",
        "      <td>...</td>\n",
        "      <td>NaN</td>\n",
        "      <td>NaN</td>\n",
        "      <td>NaN</td>\n",
        "      <td>NaN</td>\n",
        "      <td>NaN</td>\n",
        "      <td>NaN</td>\n",
        "      <td>NaN</td>\n",
        "      <td>NaN</td>\n",
        "      <td>NaN</td>\n",
        "      <td>NaN</td>\n",
        "    </tr>\n",
        "    <tr>\n",
        "      <th>2000-01-01 22:45:00</th>\n",
        "      <td>NaN</td>\n",
        "      <td>NaN</td>\n",
        "      <td>NaN</td>\n",
        "      <td>NaN</td>\n",
        "      <td>NaN</td>\n",
        "      <td>NaN</td>\n",
        "      <td>NaN</td>\n",
        "      <td>NaN</td>\n",
        "      <td>NaN</td>\n",
        "      <td>NaN</td>\n",
        "      <td>...</td>\n",
        "      <td>NaN</td>\n",
        "      <td>NaN</td>\n",
        "      <td>NaN</td>\n",
        "      <td>NaN</td>\n",
        "      <td>NaN</td>\n",
        "      <td>NaN</td>\n",
        "      <td>NaN</td>\n",
        "      <td>NaN</td>\n",
        "      <td>NaN</td>\n",
        "      <td>NaN</td>\n",
        "    </tr>\n",
        "    <tr>\n",
        "      <th>2000-01-01 22:50:00</th>\n",
        "      <td>NaN</td>\n",
        "      <td>NaN</td>\n",
        "      <td>NaN</td>\n",
        "      <td>NaN</td>\n",
        "      <td>NaN</td>\n",
        "      <td>NaN</td>\n",
        "      <td>NaN</td>\n",
        "      <td>NaN</td>\n",
        "      <td>NaN</td>\n",
        "      <td>NaN</td>\n",
        "      <td>...</td>\n",
        "      <td>NaN</td>\n",
        "      <td>NaN</td>\n",
        "      <td>NaN</td>\n",
        "      <td>NaN</td>\n",
        "      <td>NaN</td>\n",
        "      <td>NaN</td>\n",
        "      <td>NaN</td>\n",
        "      <td>NaN</td>\n",
        "      <td>NaN</td>\n",
        "      <td>NaN</td>\n",
        "    </tr>\n",
        "    <tr>\n",
        "      <th>2000-01-01 22:55:00</th>\n",
        "      <td>NaN</td>\n",
        "      <td>NaN</td>\n",
        "      <td>NaN</td>\n",
        "      <td>NaN</td>\n",
        "      <td>NaN</td>\n",
        "      <td>NaN</td>\n",
        "      <td>NaN</td>\n",
        "      <td>NaN</td>\n",
        "      <td>NaN</td>\n",
        "      <td>NaN</td>\n",
        "      <td>...</td>\n",
        "      <td>NaN</td>\n",
        "      <td>NaN</td>\n",
        "      <td>NaN</td>\n",
        "      <td>NaN</td>\n",
        "      <td>NaN</td>\n",
        "      <td>NaN</td>\n",
        "      <td>NaN</td>\n",
        "      <td>NaN</td>\n",
        "      <td>NaN</td>\n",
        "      <td>NaN</td>\n",
        "    </tr>\n",
        "    <tr>\n",
        "      <th>2000-01-01 23:00:00</th>\n",
        "      <td>NaN</td>\n",
        "      <td>NaN</td>\n",
        "      <td>NaN</td>\n",
        "      <td>NaN</td>\n",
        "      <td>NaN</td>\n",
        "      <td>NaN</td>\n",
        "      <td>NaN</td>\n",
        "      <td>NaN</td>\n",
        "      <td>NaN</td>\n",
        "      <td>NaN</td>\n",
        "      <td>...</td>\n",
        "      <td>NaN</td>\n",
        "      <td>NaN</td>\n",
        "      <td>NaN</td>\n",
        "      <td>NaN</td>\n",
        "      <td>NaN</td>\n",
        "      <td>NaN</td>\n",
        "      <td>NaN</td>\n",
        "      <td>NaN</td>\n",
        "      <td>NaN</td>\n",
        "      <td>NaN</td>\n",
        "    </tr>\n",
        "    <tr>\n",
        "      <th>2000-01-01 23:05:00</th>\n",
        "      <td>NaN</td>\n",
        "      <td>NaN</td>\n",
        "      <td>NaN</td>\n",
        "      <td>NaN</td>\n",
        "      <td>NaN</td>\n",
        "      <td>NaN</td>\n",
        "      <td>NaN</td>\n",
        "      <td>NaN</td>\n",
        "      <td>NaN</td>\n",
        "      <td>NaN</td>\n",
        "      <td>...</td>\n",
        "      <td>NaN</td>\n",
        "      <td>NaN</td>\n",
        "      <td>NaN</td>\n",
        "      <td>NaN</td>\n",
        "      <td>NaN</td>\n",
        "      <td>NaN</td>\n",
        "      <td>NaN</td>\n",
        "      <td>NaN</td>\n",
        "      <td>NaN</td>\n",
        "      <td>NaN</td>\n",
        "    </tr>\n",
        "    <tr>\n",
        "      <th>2000-01-01 23:10:00</th>\n",
        "      <td>NaN</td>\n",
        "      <td>NaN</td>\n",
        "      <td>NaN</td>\n",
        "      <td>NaN</td>\n",
        "      <td>NaN</td>\n",
        "      <td>NaN</td>\n",
        "      <td>NaN</td>\n",
        "      <td>NaN</td>\n",
        "      <td>NaN</td>\n",
        "      <td>NaN</td>\n",
        "      <td>...</td>\n",
        "      <td>NaN</td>\n",
        "      <td>NaN</td>\n",
        "      <td>NaN</td>\n",
        "      <td>NaN</td>\n",
        "      <td>NaN</td>\n",
        "      <td>NaN</td>\n",
        "      <td>NaN</td>\n",
        "      <td>NaN</td>\n",
        "      <td>NaN</td>\n",
        "      <td>NaN</td>\n",
        "    </tr>\n",
        "    <tr>\n",
        "      <th>2000-01-01 23:15:00</th>\n",
        "      <td>NaN</td>\n",
        "      <td>NaN</td>\n",
        "      <td>NaN</td>\n",
        "      <td>NaN</td>\n",
        "      <td>NaN</td>\n",
        "      <td>NaN</td>\n",
        "      <td>NaN</td>\n",
        "      <td>NaN</td>\n",
        "      <td>NaN</td>\n",
        "      <td>NaN</td>\n",
        "      <td>...</td>\n",
        "      <td>NaN</td>\n",
        "      <td>NaN</td>\n",
        "      <td>NaN</td>\n",
        "      <td>NaN</td>\n",
        "      <td>NaN</td>\n",
        "      <td>NaN</td>\n",
        "      <td>NaN</td>\n",
        "      <td>NaN</td>\n",
        "      <td>NaN</td>\n",
        "      <td>NaN</td>\n",
        "    </tr>\n",
        "    <tr>\n",
        "      <th>2000-01-01 23:20:00</th>\n",
        "      <td>NaN</td>\n",
        "      <td>NaN</td>\n",
        "      <td>NaN</td>\n",
        "      <td>NaN</td>\n",
        "      <td>NaN</td>\n",
        "      <td>NaN</td>\n",
        "      <td>NaN</td>\n",
        "      <td>NaN</td>\n",
        "      <td>NaN</td>\n",
        "      <td>NaN</td>\n",
        "      <td>...</td>\n",
        "      <td>NaN</td>\n",
        "      <td>NaN</td>\n",
        "      <td>NaN</td>\n",
        "      <td>NaN</td>\n",
        "      <td>NaN</td>\n",
        "      <td>NaN</td>\n",
        "      <td>NaN</td>\n",
        "      <td>NaN</td>\n",
        "      <td>NaN</td>\n",
        "      <td>NaN</td>\n",
        "    </tr>\n",
        "    <tr>\n",
        "      <th>2000-01-01 23:25:00</th>\n",
        "      <td>NaN</td>\n",
        "      <td>NaN</td>\n",
        "      <td>NaN</td>\n",
        "      <td>NaN</td>\n",
        "      <td>NaN</td>\n",
        "      <td>NaN</td>\n",
        "      <td>NaN</td>\n",
        "      <td>NaN</td>\n",
        "      <td>NaN</td>\n",
        "      <td>NaN</td>\n",
        "      <td>...</td>\n",
        "      <td>NaN</td>\n",
        "      <td>NaN</td>\n",
        "      <td>NaN</td>\n",
        "      <td>NaN</td>\n",
        "      <td>NaN</td>\n",
        "      <td>NaN</td>\n",
        "      <td>NaN</td>\n",
        "      <td>NaN</td>\n",
        "      <td>NaN</td>\n",
        "      <td>NaN</td>\n",
        "    </tr>\n",
        "    <tr>\n",
        "      <th>2000-01-01 23:30:00</th>\n",
        "      <td>NaN</td>\n",
        "      <td>NaN</td>\n",
        "      <td>NaN</td>\n",
        "      <td>NaN</td>\n",
        "      <td>NaN</td>\n",
        "      <td>NaN</td>\n",
        "      <td>NaN</td>\n",
        "      <td>NaN</td>\n",
        "      <td>NaN</td>\n",
        "      <td>NaN</td>\n",
        "      <td>...</td>\n",
        "      <td>NaN</td>\n",
        "      <td>NaN</td>\n",
        "      <td>NaN</td>\n",
        "      <td>NaN</td>\n",
        "      <td>NaN</td>\n",
        "      <td>NaN</td>\n",
        "      <td>NaN</td>\n",
        "      <td>NaN</td>\n",
        "      <td>NaN</td>\n",
        "      <td>NaN</td>\n",
        "    </tr>\n",
        "    <tr>\n",
        "      <th>2000-01-01 23:35:00</th>\n",
        "      <td>NaN</td>\n",
        "      <td>NaN</td>\n",
        "      <td>NaN</td>\n",
        "      <td>NaN</td>\n",
        "      <td>NaN</td>\n",
        "      <td>NaN</td>\n",
        "      <td>NaN</td>\n",
        "      <td>NaN</td>\n",
        "      <td>NaN</td>\n",
        "      <td>NaN</td>\n",
        "      <td>...</td>\n",
        "      <td>NaN</td>\n",
        "      <td>NaN</td>\n",
        "      <td>NaN</td>\n",
        "      <td>NaN</td>\n",
        "      <td>NaN</td>\n",
        "      <td>NaN</td>\n",
        "      <td>NaN</td>\n",
        "      <td>NaN</td>\n",
        "      <td>NaN</td>\n",
        "      <td>NaN</td>\n",
        "    </tr>\n",
        "    <tr>\n",
        "      <th>2000-01-01 23:40:00</th>\n",
        "      <td>NaN</td>\n",
        "      <td>NaN</td>\n",
        "      <td>NaN</td>\n",
        "      <td>NaN</td>\n",
        "      <td>NaN</td>\n",
        "      <td>NaN</td>\n",
        "      <td>NaN</td>\n",
        "      <td>NaN</td>\n",
        "      <td>NaN</td>\n",
        "      <td>NaN</td>\n",
        "      <td>...</td>\n",
        "      <td>NaN</td>\n",
        "      <td>NaN</td>\n",
        "      <td>NaN</td>\n",
        "      <td>NaN</td>\n",
        "      <td>NaN</td>\n",
        "      <td>NaN</td>\n",
        "      <td>NaN</td>\n",
        "      <td>NaN</td>\n",
        "      <td>NaN</td>\n",
        "      <td>NaN</td>\n",
        "    </tr>\n",
        "    <tr>\n",
        "      <th>2000-01-01 23:45:00</th>\n",
        "      <td>NaN</td>\n",
        "      <td>NaN</td>\n",
        "      <td>NaN</td>\n",
        "      <td>NaN</td>\n",
        "      <td>NaN</td>\n",
        "      <td>NaN</td>\n",
        "      <td>NaN</td>\n",
        "      <td>NaN</td>\n",
        "      <td>NaN</td>\n",
        "      <td>NaN</td>\n",
        "      <td>...</td>\n",
        "      <td>NaN</td>\n",
        "      <td>NaN</td>\n",
        "      <td>NaN</td>\n",
        "      <td>NaN</td>\n",
        "      <td>NaN</td>\n",
        "      <td>NaN</td>\n",
        "      <td>NaN</td>\n",
        "      <td>NaN</td>\n",
        "      <td>NaN</td>\n",
        "      <td>NaN</td>\n",
        "    </tr>\n",
        "    <tr>\n",
        "      <th>2000-01-01 23:50:00</th>\n",
        "      <td>NaN</td>\n",
        "      <td>NaN</td>\n",
        "      <td>NaN</td>\n",
        "      <td>NaN</td>\n",
        "      <td>NaN</td>\n",
        "      <td>NaN</td>\n",
        "      <td>NaN</td>\n",
        "      <td>NaN</td>\n",
        "      <td>NaN</td>\n",
        "      <td>NaN</td>\n",
        "      <td>...</td>\n",
        "      <td>NaN</td>\n",
        "      <td>NaN</td>\n",
        "      <td>NaN</td>\n",
        "      <td>NaN</td>\n",
        "      <td>NaN</td>\n",
        "      <td>NaN</td>\n",
        "      <td>NaN</td>\n",
        "      <td>NaN</td>\n",
        "      <td>NaN</td>\n",
        "      <td>NaN</td>\n",
        "    </tr>\n",
        "    <tr>\n",
        "      <th>2000-01-01 23:55:00</th>\n",
        "      <td>NaN</td>\n",
        "      <td>NaN</td>\n",
        "      <td>NaN</td>\n",
        "      <td>NaN</td>\n",
        "      <td>NaN</td>\n",
        "      <td>NaN</td>\n",
        "      <td>NaN</td>\n",
        "      <td>NaN</td>\n",
        "      <td>NaN</td>\n",
        "      <td>NaN</td>\n",
        "      <td>...</td>\n",
        "      <td>NaN</td>\n",
        "      <td>NaN</td>\n",
        "      <td>NaN</td>\n",
        "      <td>NaN</td>\n",
        "      <td>NaN</td>\n",
        "      <td>NaN</td>\n",
        "      <td>NaN</td>\n",
        "      <td>NaN</td>\n",
        "      <td>NaN</td>\n",
        "      <td>NaN</td>\n",
        "    </tr>\n",
        "  </tbody>\n",
        "</table>\n",
        "<p>288 rows \u00d7 822 columns</p>\n",
        "</div>"
       ],
       "metadata": {},
       "output_type": "pyout",
       "prompt_number": 48,
       "text": [
        "statistic            mean_daily_num_vehicles                              \\\n",
        "stop_id                               750000      750001      750002       \n",
        "direction_id                               0   1       0   1       0   1   \n",
        "2000-01-01 00:00:00                      NaN NaN     NaN NaN     NaN NaN   \n",
        "2000-01-01 00:05:00                      NaN NaN     NaN NaN     NaN NaN   \n",
        "2000-01-01 00:10:00                      NaN NaN     NaN NaN     NaN NaN   \n",
        "2000-01-01 00:15:00                      NaN NaN     NaN NaN     NaN NaN   \n",
        "2000-01-01 00:20:00                      NaN NaN     NaN NaN     NaN NaN   \n",
        "2000-01-01 00:25:00                      NaN NaN     NaN NaN     NaN NaN   \n",
        "2000-01-01 00:30:00                      NaN NaN     NaN NaN     NaN NaN   \n",
        "2000-01-01 00:35:00                      NaN NaN     NaN NaN     NaN NaN   \n",
        "2000-01-01 00:40:00                      NaN NaN     NaN NaN     NaN NaN   \n",
        "2000-01-01 00:45:00                      NaN NaN     NaN NaN     NaN NaN   \n",
        "2000-01-01 00:50:00                      NaN NaN     NaN NaN     NaN NaN   \n",
        "2000-01-01 00:55:00                      NaN NaN     NaN NaN     NaN NaN   \n",
        "2000-01-01 01:00:00                      NaN NaN     NaN NaN     NaN NaN   \n",
        "2000-01-01 01:05:00                      NaN NaN     NaN NaN     NaN NaN   \n",
        "2000-01-01 01:10:00                      NaN NaN     NaN NaN     NaN NaN   \n",
        "2000-01-01 01:15:00                      NaN NaN     NaN NaN     NaN NaN   \n",
        "2000-01-01 01:20:00                      NaN NaN     NaN NaN     NaN NaN   \n",
        "2000-01-01 01:25:00                      NaN NaN     NaN NaN     NaN NaN   \n",
        "2000-01-01 01:30:00                      NaN NaN     NaN NaN     NaN NaN   \n",
        "2000-01-01 01:35:00                      NaN NaN     NaN NaN     NaN NaN   \n",
        "2000-01-01 01:40:00                      NaN NaN     NaN NaN     NaN NaN   \n",
        "2000-01-01 01:45:00                      NaN NaN     NaN NaN     NaN NaN   \n",
        "2000-01-01 01:50:00                      NaN NaN     NaN NaN     NaN NaN   \n",
        "2000-01-01 01:55:00                      NaN NaN     NaN NaN     NaN NaN   \n",
        "2000-01-01 02:00:00                      NaN NaN     NaN NaN     NaN NaN   \n",
        "2000-01-01 02:05:00                      NaN NaN     NaN NaN     NaN NaN   \n",
        "2000-01-01 02:10:00                      NaN NaN     NaN NaN     NaN NaN   \n",
        "2000-01-01 02:15:00                      NaN NaN     NaN NaN     NaN NaN   \n",
        "2000-01-01 02:20:00                      NaN NaN     NaN NaN     NaN NaN   \n",
        "2000-01-01 02:25:00                      NaN NaN     NaN NaN     NaN NaN   \n",
        "...                                      ...  ..     ...  ..     ...  ..   \n",
        "2000-01-01 21:30:00                      NaN NaN     NaN NaN     NaN NaN   \n",
        "2000-01-01 21:35:00                      NaN NaN     NaN NaN     NaN NaN   \n",
        "2000-01-01 21:40:00                      NaN NaN     NaN NaN     NaN NaN   \n",
        "2000-01-01 21:45:00                      NaN NaN     NaN NaN     NaN NaN   \n",
        "2000-01-01 21:50:00                      NaN NaN     NaN NaN     NaN NaN   \n",
        "2000-01-01 21:55:00                      NaN NaN     NaN NaN     NaN NaN   \n",
        "2000-01-01 22:00:00                      NaN NaN     NaN NaN     NaN NaN   \n",
        "2000-01-01 22:05:00                      NaN NaN     NaN NaN     NaN NaN   \n",
        "2000-01-01 22:10:00                        1 NaN     NaN NaN     NaN NaN   \n",
        "2000-01-01 22:15:00                      NaN NaN       1 NaN       1 NaN   \n",
        "2000-01-01 22:20:00                      NaN NaN     NaN NaN     NaN NaN   \n",
        "2000-01-01 22:25:00                      NaN NaN     NaN NaN     NaN NaN   \n",
        "2000-01-01 22:30:00                      NaN NaN     NaN NaN     NaN NaN   \n",
        "2000-01-01 22:35:00                      NaN NaN     NaN NaN     NaN NaN   \n",
        "2000-01-01 22:40:00                      NaN NaN     NaN NaN     NaN NaN   \n",
        "2000-01-01 22:45:00                      NaN NaN     NaN NaN     NaN NaN   \n",
        "2000-01-01 22:50:00                      NaN NaN     NaN NaN     NaN NaN   \n",
        "2000-01-01 22:55:00                      NaN NaN     NaN NaN     NaN NaN   \n",
        "2000-01-01 23:00:00                      NaN NaN     NaN NaN     NaN NaN   \n",
        "2000-01-01 23:05:00                      NaN NaN     NaN NaN     NaN NaN   \n",
        "2000-01-01 23:10:00                      NaN NaN     NaN NaN     NaN NaN   \n",
        "2000-01-01 23:15:00                      NaN NaN     NaN NaN     NaN NaN   \n",
        "2000-01-01 23:20:00                      NaN NaN     NaN NaN     NaN NaN   \n",
        "2000-01-01 23:25:00                      NaN NaN     NaN NaN     NaN NaN   \n",
        "2000-01-01 23:30:00                      NaN NaN     NaN NaN     NaN NaN   \n",
        "2000-01-01 23:35:00                      NaN NaN     NaN NaN     NaN NaN   \n",
        "2000-01-01 23:40:00                      NaN NaN     NaN NaN     NaN NaN   \n",
        "2000-01-01 23:45:00                      NaN NaN     NaN NaN     NaN NaN   \n",
        "2000-01-01 23:50:00                      NaN NaN     NaN NaN     NaN NaN   \n",
        "2000-01-01 23:55:00                      NaN NaN     NaN NaN     NaN NaN   \n",
        "\n",
        "statistic                                   ...                          \\\n",
        "stop_id              750003      750004     ...  750432      750435       \n",
        "direction_id              0   1       0   1 ...       0   1       0   1   \n",
        "2000-01-01 00:00:00     NaN NaN     NaN NaN ...     NaN NaN     NaN NaN   \n",
        "2000-01-01 00:05:00     NaN NaN     NaN NaN ...     NaN NaN     NaN NaN   \n",
        "2000-01-01 00:10:00     NaN NaN     NaN NaN ...     NaN NaN     NaN NaN   \n",
        "2000-01-01 00:15:00     NaN NaN     NaN NaN ...     NaN NaN     NaN NaN   \n",
        "2000-01-01 00:20:00     NaN NaN     NaN NaN ...     NaN NaN     NaN NaN   \n",
        "2000-01-01 00:25:00     NaN NaN     NaN NaN ...     NaN NaN     NaN NaN   \n",
        "2000-01-01 00:30:00     NaN NaN     NaN NaN ...     NaN NaN     NaN NaN   \n",
        "2000-01-01 00:35:00     NaN NaN     NaN NaN ...     NaN NaN     NaN NaN   \n",
        "2000-01-01 00:40:00     NaN NaN     NaN NaN ...     NaN NaN     NaN NaN   \n",
        "2000-01-01 00:45:00     NaN NaN     NaN NaN ...     NaN NaN     NaN NaN   \n",
        "2000-01-01 00:50:00     NaN NaN     NaN NaN ...     NaN NaN     NaN NaN   \n",
        "2000-01-01 00:55:00     NaN NaN     NaN NaN ...     NaN NaN     NaN NaN   \n",
        "2000-01-01 01:00:00     NaN NaN     NaN NaN ...     NaN NaN     NaN NaN   \n",
        "2000-01-01 01:05:00     NaN NaN     NaN NaN ...     NaN NaN     NaN NaN   \n",
        "2000-01-01 01:10:00     NaN NaN     NaN NaN ...     NaN NaN     NaN NaN   \n",
        "2000-01-01 01:15:00     NaN NaN     NaN NaN ...     NaN NaN     NaN NaN   \n",
        "2000-01-01 01:20:00     NaN NaN     NaN NaN ...     NaN NaN     NaN NaN   \n",
        "2000-01-01 01:25:00     NaN NaN     NaN NaN ...     NaN NaN     NaN NaN   \n",
        "2000-01-01 01:30:00     NaN NaN     NaN NaN ...     NaN NaN     NaN NaN   \n",
        "2000-01-01 01:35:00     NaN NaN     NaN NaN ...     NaN NaN     NaN NaN   \n",
        "2000-01-01 01:40:00     NaN NaN     NaN NaN ...     NaN NaN     NaN NaN   \n",
        "2000-01-01 01:45:00     NaN NaN     NaN NaN ...     NaN NaN     NaN NaN   \n",
        "2000-01-01 01:50:00     NaN NaN     NaN NaN ...     NaN NaN     NaN NaN   \n",
        "2000-01-01 01:55:00     NaN NaN     NaN NaN ...     NaN NaN     NaN NaN   \n",
        "2000-01-01 02:00:00     NaN NaN     NaN NaN ...     NaN NaN     NaN NaN   \n",
        "2000-01-01 02:05:00     NaN NaN     NaN NaN ...     NaN NaN     NaN NaN   \n",
        "2000-01-01 02:10:00     NaN NaN     NaN NaN ...     NaN NaN     NaN NaN   \n",
        "2000-01-01 02:15:00     NaN NaN     NaN NaN ...     NaN NaN     NaN NaN   \n",
        "2000-01-01 02:20:00     NaN NaN     NaN NaN ...     NaN NaN     NaN NaN   \n",
        "2000-01-01 02:25:00     NaN NaN     NaN NaN ...     NaN NaN     NaN NaN   \n",
        "...                     ...  ..     ...  .. ...     ...  ..     ...  ..   \n",
        "2000-01-01 21:30:00     NaN NaN     NaN NaN ...     NaN NaN     NaN   1   \n",
        "2000-01-01 21:35:00     NaN NaN     NaN NaN ...     NaN NaN     NaN NaN   \n",
        "2000-01-01 21:40:00     NaN NaN     NaN NaN ...     NaN NaN     NaN NaN   \n",
        "2000-01-01 21:45:00     NaN NaN     NaN NaN ...     NaN NaN     NaN NaN   \n",
        "2000-01-01 21:50:00     NaN NaN     NaN NaN ...     NaN NaN     NaN NaN   \n",
        "2000-01-01 21:55:00     NaN NaN     NaN NaN ...     NaN NaN     NaN NaN   \n",
        "2000-01-01 22:00:00     NaN NaN     NaN NaN ...     NaN NaN     NaN NaN   \n",
        "2000-01-01 22:05:00     NaN NaN     NaN NaN ...     NaN NaN     NaN NaN   \n",
        "2000-01-01 22:10:00     NaN NaN     NaN NaN ...     NaN NaN     NaN NaN   \n",
        "2000-01-01 22:15:00       1 NaN     NaN NaN ...     NaN NaN     NaN NaN   \n",
        "2000-01-01 22:20:00     NaN NaN       1 NaN ...     NaN NaN     NaN NaN   \n",
        "2000-01-01 22:25:00     NaN NaN     NaN NaN ...     NaN NaN     NaN NaN   \n",
        "2000-01-01 22:30:00     NaN NaN     NaN NaN ...     NaN NaN     NaN   1   \n",
        "2000-01-01 22:35:00     NaN NaN     NaN NaN ...     NaN NaN     NaN NaN   \n",
        "2000-01-01 22:40:00     NaN NaN     NaN NaN ...     NaN NaN     NaN NaN   \n",
        "2000-01-01 22:45:00     NaN NaN     NaN NaN ...     NaN NaN     NaN NaN   \n",
        "2000-01-01 22:50:00     NaN NaN     NaN NaN ...     NaN NaN     NaN NaN   \n",
        "2000-01-01 22:55:00     NaN NaN     NaN NaN ...     NaN NaN     NaN NaN   \n",
        "2000-01-01 23:00:00     NaN NaN     NaN NaN ...     NaN NaN     NaN NaN   \n",
        "2000-01-01 23:05:00     NaN NaN     NaN NaN ...     NaN NaN     NaN NaN   \n",
        "2000-01-01 23:10:00     NaN NaN     NaN NaN ...     NaN NaN     NaN NaN   \n",
        "2000-01-01 23:15:00     NaN NaN     NaN NaN ...     NaN NaN     NaN NaN   \n",
        "2000-01-01 23:20:00     NaN NaN     NaN NaN ...     NaN NaN     NaN NaN   \n",
        "2000-01-01 23:25:00     NaN NaN     NaN NaN ...     NaN NaN     NaN NaN   \n",
        "2000-01-01 23:30:00     NaN NaN     NaN NaN ...     NaN NaN     NaN NaN   \n",
        "2000-01-01 23:35:00     NaN NaN     NaN NaN ...     NaN NaN     NaN NaN   \n",
        "2000-01-01 23:40:00     NaN NaN     NaN NaN ...     NaN NaN     NaN NaN   \n",
        "2000-01-01 23:45:00     NaN NaN     NaN NaN ...     NaN NaN     NaN NaN   \n",
        "2000-01-01 23:50:00     NaN NaN     NaN NaN ...     NaN NaN     NaN NaN   \n",
        "2000-01-01 23:55:00     NaN NaN     NaN NaN ...     NaN NaN     NaN NaN   \n",
        "\n",
        "statistic                                                \n",
        "stop_id              750436      750437      750448      \n",
        "direction_id              0   1       0   1       0   1  \n",
        "2000-01-01 00:00:00     NaN NaN     NaN NaN     NaN NaN  \n",
        "2000-01-01 00:05:00     NaN NaN     NaN NaN     NaN NaN  \n",
        "2000-01-01 00:10:00     NaN NaN     NaN NaN     NaN NaN  \n",
        "2000-01-01 00:15:00     NaN NaN     NaN NaN     NaN NaN  \n",
        "2000-01-01 00:20:00     NaN NaN     NaN NaN     NaN NaN  \n",
        "2000-01-01 00:25:00     NaN NaN     NaN NaN     NaN NaN  \n",
        "2000-01-01 00:30:00     NaN NaN     NaN NaN     NaN NaN  \n",
        "2000-01-01 00:35:00     NaN NaN     NaN NaN     NaN NaN  \n",
        "2000-01-01 00:40:00     NaN NaN     NaN NaN     NaN NaN  \n",
        "2000-01-01 00:45:00     NaN NaN     NaN NaN     NaN NaN  \n",
        "2000-01-01 00:50:00     NaN NaN     NaN NaN     NaN NaN  \n",
        "2000-01-01 00:55:00     NaN NaN     NaN NaN     NaN NaN  \n",
        "2000-01-01 01:00:00     NaN NaN     NaN NaN     NaN NaN  \n",
        "2000-01-01 01:05:00     NaN NaN     NaN NaN     NaN NaN  \n",
        "2000-01-01 01:10:00     NaN NaN     NaN NaN     NaN NaN  \n",
        "2000-01-01 01:15:00     NaN NaN     NaN NaN     NaN NaN  \n",
        "2000-01-01 01:20:00     NaN NaN     NaN NaN     NaN NaN  \n",
        "2000-01-01 01:25:00     NaN NaN     NaN NaN     NaN NaN  \n",
        "2000-01-01 01:30:00     NaN NaN     NaN NaN     NaN NaN  \n",
        "2000-01-01 01:35:00     NaN NaN     NaN NaN     NaN NaN  \n",
        "2000-01-01 01:40:00     NaN NaN     NaN NaN     NaN NaN  \n",
        "2000-01-01 01:45:00     NaN NaN     NaN NaN     NaN NaN  \n",
        "2000-01-01 01:50:00     NaN NaN     NaN NaN     NaN NaN  \n",
        "2000-01-01 01:55:00     NaN NaN     NaN NaN     NaN NaN  \n",
        "2000-01-01 02:00:00     NaN NaN     NaN NaN     NaN NaN  \n",
        "2000-01-01 02:05:00     NaN NaN     NaN NaN     NaN NaN  \n",
        "2000-01-01 02:10:00     NaN NaN     NaN NaN     NaN NaN  \n",
        "2000-01-01 02:15:00     NaN NaN     NaN NaN     NaN NaN  \n",
        "2000-01-01 02:20:00     NaN NaN     NaN NaN     NaN NaN  \n",
        "2000-01-01 02:25:00     NaN NaN     NaN NaN     NaN NaN  \n",
        "...                     ...  ..     ...  ..     ...  ..  \n",
        "2000-01-01 21:30:00     NaN NaN     NaN NaN     NaN NaN  \n",
        "2000-01-01 21:35:00     NaN NaN     NaN NaN     NaN NaN  \n",
        "2000-01-01 21:40:00     NaN NaN     NaN NaN     NaN NaN  \n",
        "2000-01-01 21:45:00     NaN NaN     NaN NaN     NaN NaN  \n",
        "2000-01-01 21:50:00     NaN NaN       1 NaN     NaN NaN  \n",
        "2000-01-01 21:55:00     NaN NaN     NaN NaN     NaN NaN  \n",
        "2000-01-01 22:00:00     NaN NaN     NaN NaN     NaN NaN  \n",
        "2000-01-01 22:05:00     NaN NaN     NaN NaN     NaN NaN  \n",
        "2000-01-01 22:10:00     NaN NaN     NaN NaN     NaN NaN  \n",
        "2000-01-01 22:15:00     NaN NaN     NaN NaN     NaN NaN  \n",
        "2000-01-01 22:20:00     NaN NaN     NaN NaN     NaN NaN  \n",
        "2000-01-01 22:25:00     NaN NaN     NaN NaN     NaN NaN  \n",
        "2000-01-01 22:30:00     NaN NaN     NaN NaN     NaN NaN  \n",
        "2000-01-01 22:35:00     NaN NaN     NaN NaN     NaN NaN  \n",
        "2000-01-01 22:40:00     NaN NaN     NaN NaN     NaN NaN  \n",
        "2000-01-01 22:45:00     NaN NaN     NaN NaN     NaN NaN  \n",
        "2000-01-01 22:50:00     NaN NaN     NaN NaN     NaN NaN  \n",
        "2000-01-01 22:55:00     NaN NaN     NaN NaN     NaN NaN  \n",
        "2000-01-01 23:00:00     NaN NaN     NaN NaN     NaN NaN  \n",
        "2000-01-01 23:05:00     NaN NaN     NaN NaN     NaN NaN  \n",
        "2000-01-01 23:10:00     NaN NaN     NaN NaN     NaN NaN  \n",
        "2000-01-01 23:15:00     NaN NaN     NaN NaN     NaN NaN  \n",
        "2000-01-01 23:20:00     NaN NaN     NaN NaN     NaN NaN  \n",
        "2000-01-01 23:25:00     NaN NaN     NaN NaN     NaN NaN  \n",
        "2000-01-01 23:30:00     NaN NaN     NaN NaN     NaN NaN  \n",
        "2000-01-01 23:35:00     NaN NaN     NaN NaN     NaN NaN  \n",
        "2000-01-01 23:40:00     NaN NaN     NaN NaN     NaN NaN  \n",
        "2000-01-01 23:45:00     NaN NaN     NaN NaN     NaN NaN  \n",
        "2000-01-01 23:50:00     NaN NaN     NaN NaN     NaN NaN  \n",
        "2000-01-01 23:55:00     NaN NaN     NaN NaN     NaN NaN  \n",
        "\n",
        "[288 rows x 822 columns]"
       ]
      }
     ],
     "prompt_number": 48
    },
    {
     "cell_type": "code",
     "collapsed": false,
     "input": [
      "g = ts.loc[:,(slice(None), ['750000'], slice(None))]\n",
      "utils.downsample(g, freq='6H')"
     ],
     "language": "python",
     "metadata": {},
     "outputs": [
      {
       "html": [
        "<div style=\"max-height:1000px;max-width:1500px;overflow:auto;\">\n",
        "<table border=\"1\" class=\"dataframe\">\n",
        "  <thead>\n",
        "    <tr>\n",
        "      <th>statistic</th>\n",
        "      <th colspan=\"2\" halign=\"left\">mean_daily_num_vehicles</th>\n",
        "    </tr>\n",
        "    <tr>\n",
        "      <th>stop_id</th>\n",
        "      <th colspan=\"2\" halign=\"left\">750000</th>\n",
        "    </tr>\n",
        "    <tr>\n",
        "      <th>direction_id</th>\n",
        "      <th>0</th>\n",
        "      <th>1</th>\n",
        "    </tr>\n",
        "  </thead>\n",
        "  <tbody>\n",
        "    <tr>\n",
        "      <th>2000-01-01 00:00:00</th>\n",
        "      <td>  1</td>\n",
        "      <td>NaN</td>\n",
        "    </tr>\n",
        "    <tr>\n",
        "      <th>2000-01-01 06:00:00</th>\n",
        "      <td> 12</td>\n",
        "      <td>NaN</td>\n",
        "    </tr>\n",
        "    <tr>\n",
        "      <th>2000-01-01 12:00:00</th>\n",
        "      <td> 12</td>\n",
        "      <td>NaN</td>\n",
        "    </tr>\n",
        "    <tr>\n",
        "      <th>2000-01-01 18:00:00</th>\n",
        "      <td>  5</td>\n",
        "      <td>NaN</td>\n",
        "    </tr>\n",
        "  </tbody>\n",
        "</table>\n",
        "</div>"
       ],
       "metadata": {},
       "output_type": "pyout",
       "prompt_number": 49,
       "text": [
        "statistic            mean_daily_num_vehicles    \n",
        "stop_id                               750000    \n",
        "direction_id                               0   1\n",
        "2000-01-01 00:00:00                        1 NaN\n",
        "2000-01-01 06:00:00                       12 NaN\n",
        "2000-01-01 12:00:00                       12 NaN\n",
        "2000-01-01 18:00:00                        5 NaN"
       ]
      }
     ],
     "prompt_number": 49
    },
    {
     "cell_type": "code",
     "collapsed": false,
     "input": [
      "rts.T[:].loc"
     ],
     "language": "python",
     "metadata": {},
     "outputs": []
    },
    {
     "cell_type": "code",
     "collapsed": false,
     "input": [],
     "language": "python",
     "metadata": {},
     "outputs": []
    }
   ],
   "metadata": {}
  }
 ]
}