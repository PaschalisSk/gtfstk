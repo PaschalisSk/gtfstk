{
 "metadata": {
  "name": "gtfs_toolkit_examples"
 },
 "nbformat": 3,
 "nbformat_minor": 0,
 "worksheets": [
  {
   "cells": [
    {
     "cell_type": "code",
     "collapsed": false,
     "input": "from __future__ import division\nimport datetime as dt\nfrom collections import OrderedDict\nimport sys, os\nimport dateutil.relativedelta as rd\n\nimport pandas as pd\nimport numpy as np\nimport matplotlib.pyplot as plt\n\n%load_ext autoreload\n%autoreload 2\n%matplotlib inline  \n\n# Set your gtfs_toolkit path here\ngtfs_toolkit_path = '/Users/araichev/gtfs_toolkit/'\nsys.path.append(gtfs_toolkit_path)\nfrom feed import *",
     "language": "python",
     "metadata": {},
     "outputs": [],
     "prompt_number": 1
    },
    {
     "cell_type": "code",
     "collapsed": false,
     "input": "# Import a feed\nfeed_path = gtfs_toolkit_path + 'test/darwin_20130903/'\nfeed = Feed(feed_path)",
     "language": "python",
     "metadata": {},
     "outputs": [],
     "prompt_number": 2
    },
    {
     "cell_type": "code",
     "collapsed": false,
     "input": "# Get trips stats\ntrips_stats = feed.get_trips_stats()\ntrips_stats",
     "language": "python",
     "metadata": {},
     "outputs": [
      {
       "output_type": "stream",
       "stream": "stdout",
       "text": "2014-05-20 19:56:11.876881 Creating trip stats for 1463 trips...\n2014-05-20 19:56:15.041670"
      },
      {
       "output_type": "stream",
       "stream": "stdout",
       "text": " Finished trips stats in 0.05 min\n"
      },
      {
       "html": "<div style=\"max-height:1000px;max-width:1500px;overflow:auto;\">\n<table border=\"1\" class=\"dataframe\">\n  <thead>\n    <tr style=\"text-align: right;\">\n      <th></th>\n      <th>route_id</th>\n      <th>trip_id</th>\n      <th>direction_id</th>\n      <th>start_time</th>\n      <th>end_time</th>\n      <th>duration</th>\n      <th>start_stop</th>\n      <th>end_stop</th>\n      <th>shape_id</th>\n      <th>distance</th>\n    </tr>\n  </thead>\n  <tbody>\n    <tr>\n      <th>0 </th>\n      <td>  1</td>\n      <td>  i1_1</td>\n      <td> 1</td>\n      <td> 06:25:00</td>\n      <td> 06:51:00</td>\n      <td> 1560</td>\n      <td> OOBUS003</td>\n      <td> OOBUS758</td>\n      <td>  i1_shp</td>\n      <td> 9162</td>\n    </tr>\n    <tr>\n      <th>1 </th>\n      <td>  1</td>\n      <td>  i1_2</td>\n      <td> 1</td>\n      <td> 06:56:00</td>\n      <td> 07:22:00</td>\n      <td> 1560</td>\n      <td> OOBUS003</td>\n      <td> OOBUS758</td>\n      <td>  i1_shp</td>\n      <td> 9162</td>\n    </tr>\n    <tr>\n      <th>2 </th>\n      <td>  1</td>\n      <td>  i1_3</td>\n      <td> 1</td>\n      <td> 07:28:00</td>\n      <td> 07:54:00</td>\n      <td> 1560</td>\n      <td> OOBUS003</td>\n      <td> OOBUS758</td>\n      <td>  i1_shp</td>\n      <td> 9162</td>\n    </tr>\n    <tr>\n      <th>3 </th>\n      <td>  1</td>\n      <td>  i1_4</td>\n      <td> 1</td>\n      <td> 07:48:00</td>\n      <td> 08:14:00</td>\n      <td> 1560</td>\n      <td> OOBUS003</td>\n      <td> OOBUS758</td>\n      <td>  i1_shp</td>\n      <td> 9162</td>\n    </tr>\n    <tr>\n      <th>4 </th>\n      <td>  1</td>\n      <td>  i1_5</td>\n      <td> 1</td>\n      <td> 08:00:00</td>\n      <td> 08:26:00</td>\n      <td> 1560</td>\n      <td> OOBUS003</td>\n      <td> OOBUS758</td>\n      <td>  i1_shp</td>\n      <td> 9162</td>\n    </tr>\n    <tr>\n      <th>5 </th>\n      <td>  1</td>\n      <td>  i1_6</td>\n      <td> 1</td>\n      <td> 08:30:00</td>\n      <td> 08:56:00</td>\n      <td> 1560</td>\n      <td> OOBUS003</td>\n      <td> OOBUS758</td>\n      <td>  i1_shp</td>\n      <td> 9162</td>\n    </tr>\n    <tr>\n      <th>6 </th>\n      <td>  1</td>\n      <td>  i1_7</td>\n      <td> 1</td>\n      <td> 09:02:00</td>\n      <td> 09:28:00</td>\n      <td> 1560</td>\n      <td> OOBUS003</td>\n      <td> OOBUS758</td>\n      <td>  i1_shp</td>\n      <td> 9162</td>\n    </tr>\n    <tr>\n      <th>7 </th>\n      <td>  1</td>\n      <td>  i1_8</td>\n      <td> 1</td>\n      <td> 09:30:00</td>\n      <td> 09:56:00</td>\n      <td> 1560</td>\n      <td> OOBUS003</td>\n      <td> OOBUS758</td>\n      <td>  i1_shp</td>\n      <td> 9162</td>\n    </tr>\n    <tr>\n      <th>8 </th>\n      <td>  1</td>\n      <td>  i1_9</td>\n      <td> 1</td>\n      <td> 10:32:00</td>\n      <td> 10:58:00</td>\n      <td> 1560</td>\n      <td> OOBUS003</td>\n      <td> OOBUS758</td>\n      <td>  i1_shp</td>\n      <td> 9162</td>\n    </tr>\n    <tr>\n      <th>9 </th>\n      <td>  1</td>\n      <td> i1_10</td>\n      <td> 1</td>\n      <td> 11:45:00</td>\n      <td> 12:11:00</td>\n      <td> 1560</td>\n      <td> OOBUS003</td>\n      <td> OOBUS758</td>\n      <td>  i1_shp</td>\n      <td> 9162</td>\n    </tr>\n    <tr>\n      <th>10</th>\n      <td>  1</td>\n      <td> i1_11</td>\n      <td> 1</td>\n      <td> 12:30:00</td>\n      <td> 12:56:00</td>\n      <td> 1560</td>\n      <td> OOBUS003</td>\n      <td> OOBUS758</td>\n      <td>  i1_shp</td>\n      <td> 9162</td>\n    </tr>\n    <tr>\n      <th>11</th>\n      <td>  1</td>\n      <td> i1_12</td>\n      <td> 1</td>\n      <td> 13:00:00</td>\n      <td> 13:26:00</td>\n      <td> 1560</td>\n      <td> OOBUS003</td>\n      <td> OOBUS758</td>\n      <td>  i1_shp</td>\n      <td> 9162</td>\n    </tr>\n    <tr>\n      <th>12</th>\n      <td>  1</td>\n      <td> i1_13</td>\n      <td> 1</td>\n      <td> 13:44:00</td>\n      <td> 14:10:00</td>\n      <td> 1560</td>\n      <td> OOBUS003</td>\n      <td> OOBUS758</td>\n      <td>  i1_shp</td>\n      <td> 9162</td>\n    </tr>\n    <tr>\n      <th>13</th>\n      <td>  1</td>\n      <td> i1_14</td>\n      <td> 1</td>\n      <td> 14:20:00</td>\n      <td> 14:46:00</td>\n      <td> 1560</td>\n      <td> OOBUS003</td>\n      <td> OOBUS758</td>\n      <td>  i1_shp</td>\n      <td> 9162</td>\n    </tr>\n    <tr>\n      <th>14</th>\n      <td>  1</td>\n      <td> i1_15</td>\n      <td> 1</td>\n      <td> 14:50:00</td>\n      <td> 15:16:00</td>\n      <td> 1560</td>\n      <td> OOBUS003</td>\n      <td> OOBUS758</td>\n      <td>  i1_shp</td>\n      <td> 9162</td>\n    </tr>\n    <tr>\n      <th>15</th>\n      <td>  1</td>\n      <td> i1_16</td>\n      <td> 1</td>\n      <td> 15:28:00</td>\n      <td> 15:54:00</td>\n      <td> 1560</td>\n      <td> OOBUS003</td>\n      <td> OOBUS758</td>\n      <td>  i1_shp</td>\n      <td> 9162</td>\n    </tr>\n    <tr>\n      <th>16</th>\n      <td>  1</td>\n      <td> i1_17</td>\n      <td> 1</td>\n      <td> 15:58:00</td>\n      <td> 16:24:00</td>\n      <td> 1560</td>\n      <td> OOBUS003</td>\n      <td> OOBUS758</td>\n      <td>  i1_shp</td>\n      <td> 9162</td>\n    </tr>\n    <tr>\n      <th>17</th>\n      <td>  1</td>\n      <td> i1_18</td>\n      <td> 1</td>\n      <td> 16:20:00</td>\n      <td> 16:46:00</td>\n      <td> 1560</td>\n      <td> OOBUS003</td>\n      <td> OOBUS758</td>\n      <td>  i1_shp</td>\n      <td> 9162</td>\n    </tr>\n    <tr>\n      <th>18</th>\n      <td>  1</td>\n      <td> i1_19</td>\n      <td> 1</td>\n      <td> 17:02:00</td>\n      <td> 17:28:00</td>\n      <td> 1560</td>\n      <td> OOBUS003</td>\n      <td> OOBUS758</td>\n      <td>  i1_shp</td>\n      <td> 9162</td>\n    </tr>\n    <tr>\n      <th>19</th>\n      <td>  1</td>\n      <td> i1_20</td>\n      <td> 1</td>\n      <td> 17:31:00</td>\n      <td> 17:57:00</td>\n      <td> 1560</td>\n      <td> OOBUS003</td>\n      <td> OOBUS758</td>\n      <td>  i1_shp</td>\n      <td> 9162</td>\n    </tr>\n    <tr>\n      <th>20</th>\n      <td>  1</td>\n      <td> i1_21</td>\n      <td> 1</td>\n      <td> 18:00:00</td>\n      <td> 18:26:00</td>\n      <td> 1560</td>\n      <td> OOBUS003</td>\n      <td> OOBUS758</td>\n      <td>  i1_shp</td>\n      <td> 9162</td>\n    </tr>\n    <tr>\n      <th>21</th>\n      <td>  1</td>\n      <td> i1_22</td>\n      <td> 1</td>\n      <td> 18:34:00</td>\n      <td> 19:00:00</td>\n      <td> 1560</td>\n      <td> OOBUS003</td>\n      <td> OOBUS758</td>\n      <td>  i1_shp</td>\n      <td> 9162</td>\n    </tr>\n    <tr>\n      <th>22</th>\n      <td>  1</td>\n      <td> i1_23</td>\n      <td> 1</td>\n      <td> 19:25:00</td>\n      <td> 19:51:00</td>\n      <td> 1560</td>\n      <td> OOBUS003</td>\n      <td> OOBUS758</td>\n      <td>  i1_shp</td>\n      <td> 9162</td>\n    </tr>\n    <tr>\n      <th>23</th>\n      <td>  1</td>\n      <td> i1_24</td>\n      <td> 1</td>\n      <td> 20:00:00</td>\n      <td> 20:26:00</td>\n      <td> 1560</td>\n      <td> OOBUS003</td>\n      <td> OOBUS758</td>\n      <td>  i1_shp</td>\n      <td> 9162</td>\n    </tr>\n    <tr>\n      <th>24</th>\n      <td>  1</td>\n      <td> i1_25</td>\n      <td> 1</td>\n      <td> 20:40:00</td>\n      <td> 21:06:00</td>\n      <td> 1560</td>\n      <td> OOBUS003</td>\n      <td> OOBUS758</td>\n      <td>  i1_shp</td>\n      <td> 9162</td>\n    </tr>\n    <tr>\n      <th>25</th>\n      <td>  1</td>\n      <td> i1_26</td>\n      <td> 1</td>\n      <td> 06:30:00</td>\n      <td> 06:56:00</td>\n      <td> 1560</td>\n      <td> OOBUS003</td>\n      <td> OOBUS758</td>\n      <td>  i1_shp</td>\n      <td> 9162</td>\n    </tr>\n    <tr>\n      <th>26</th>\n      <td>  1</td>\n      <td> i1_27</td>\n      <td> 1</td>\n      <td> 07:05:00</td>\n      <td> 07:31:00</td>\n      <td> 1560</td>\n      <td> OOBUS003</td>\n      <td> OOBUS758</td>\n      <td>  i1_shp</td>\n      <td> 9162</td>\n    </tr>\n    <tr>\n      <th>27</th>\n      <td>  1</td>\n      <td> i1_28</td>\n      <td> 1</td>\n      <td> 07:55:00</td>\n      <td> 08:21:00</td>\n      <td> 1560</td>\n      <td> OOBUS003</td>\n      <td> OOBUS758</td>\n      <td>  i1_shp</td>\n      <td> 9162</td>\n    </tr>\n    <tr>\n      <th>28</th>\n      <td>  1</td>\n      <td> i1_29</td>\n      <td> 1</td>\n      <td> 08:55:00</td>\n      <td> 09:21:00</td>\n      <td> 1560</td>\n      <td> OOBUS003</td>\n      <td> OOBUS758</td>\n      <td>  i1_shp</td>\n      <td> 9162</td>\n    </tr>\n    <tr>\n      <th>29</th>\n      <td>  1</td>\n      <td> i1_30</td>\n      <td> 1</td>\n      <td> 09:30:00</td>\n      <td> 09:56:00</td>\n      <td> 1560</td>\n      <td> OOBUS003</td>\n      <td> OOBUS758</td>\n      <td>  i1_shp</td>\n      <td> 9162</td>\n    </tr>\n    <tr>\n      <th>30</th>\n      <td>  1</td>\n      <td> i1_31</td>\n      <td> 1</td>\n      <td> 10:20:00</td>\n      <td> 10:46:00</td>\n      <td> 1560</td>\n      <td> OOBUS003</td>\n      <td> OOBUS758</td>\n      <td>  i1_shp</td>\n      <td> 9162</td>\n    </tr>\n    <tr>\n      <th>31</th>\n      <td>  1</td>\n      <td> i1_32</td>\n      <td> 1</td>\n      <td> 11:15:00</td>\n      <td> 11:41:00</td>\n      <td> 1560</td>\n      <td> OOBUS003</td>\n      <td> OOBUS758</td>\n      <td>  i1_shp</td>\n      <td> 9162</td>\n    </tr>\n    <tr>\n      <th>32</th>\n      <td>  1</td>\n      <td> i1_33</td>\n      <td> 1</td>\n      <td> 12:20:00</td>\n      <td> 12:46:00</td>\n      <td> 1560</td>\n      <td> OOBUS003</td>\n      <td> OOBUS758</td>\n      <td>  i1_shp</td>\n      <td> 9162</td>\n    </tr>\n    <tr>\n      <th>33</th>\n      <td>  1</td>\n      <td> i1_34</td>\n      <td> 1</td>\n      <td> 13:20:00</td>\n      <td> 13:46:00</td>\n      <td> 1560</td>\n      <td> OOBUS003</td>\n      <td> OOBUS758</td>\n      <td>  i1_shp</td>\n      <td> 9162</td>\n    </tr>\n    <tr>\n      <th>34</th>\n      <td>  1</td>\n      <td> i1_35</td>\n      <td> 1</td>\n      <td> 14:25:00</td>\n      <td> 14:51:00</td>\n      <td> 1560</td>\n      <td> OOBUS003</td>\n      <td> OOBUS758</td>\n      <td>  i1_shp</td>\n      <td> 9162</td>\n    </tr>\n    <tr>\n      <th>35</th>\n      <td>  1</td>\n      <td> i1_36</td>\n      <td> 1</td>\n      <td> 15:30:00</td>\n      <td> 15:56:00</td>\n      <td> 1560</td>\n      <td> OOBUS003</td>\n      <td> OOBUS758</td>\n      <td>  i1_shp</td>\n      <td> 9162</td>\n    </tr>\n    <tr>\n      <th>36</th>\n      <td>  1</td>\n      <td> i1_37</td>\n      <td> 1</td>\n      <td> 16:40:00</td>\n      <td> 17:06:00</td>\n      <td> 1560</td>\n      <td> OOBUS003</td>\n      <td> OOBUS758</td>\n      <td>  i1_shp</td>\n      <td> 9162</td>\n    </tr>\n    <tr>\n      <th>37</th>\n      <td>  1</td>\n      <td> i1_38</td>\n      <td> 1</td>\n      <td> 17:45:00</td>\n      <td> 18:11:00</td>\n      <td> 1560</td>\n      <td> OOBUS003</td>\n      <td> OOBUS758</td>\n      <td>  i1_shp</td>\n      <td> 9162</td>\n    </tr>\n    <tr>\n      <th>38</th>\n      <td>  1</td>\n      <td> i1_39</td>\n      <td> 1</td>\n      <td> 18:45:00</td>\n      <td> 19:11:00</td>\n      <td> 1560</td>\n      <td> OOBUS003</td>\n      <td> OOBUS758</td>\n      <td>  i1_shp</td>\n      <td> 9162</td>\n    </tr>\n    <tr>\n      <th>39</th>\n      <td>  1</td>\n      <td> i1_40</td>\n      <td> 1</td>\n      <td> 20:05:00</td>\n      <td> 20:31:00</td>\n      <td> 1560</td>\n      <td> OOBUS003</td>\n      <td> OOBUS758</td>\n      <td>  i1_shp</td>\n      <td> 9162</td>\n    </tr>\n    <tr>\n      <th>40</th>\n      <td>  1</td>\n      <td> i1_41</td>\n      <td> 1</td>\n      <td> 07:05:00</td>\n      <td> 07:31:00</td>\n      <td> 1560</td>\n      <td> OOBUS003</td>\n      <td> OOBUS758</td>\n      <td>  i1_shp</td>\n      <td> 9162</td>\n    </tr>\n    <tr>\n      <th>41</th>\n      <td>  1</td>\n      <td> i1_42</td>\n      <td> 1</td>\n      <td> 07:55:00</td>\n      <td> 08:21:00</td>\n      <td> 1560</td>\n      <td> OOBUS003</td>\n      <td> OOBUS758</td>\n      <td>  i1_shp</td>\n      <td> 9162</td>\n    </tr>\n    <tr>\n      <th>42</th>\n      <td>  1</td>\n      <td> i1_43</td>\n      <td> 1</td>\n      <td> 08:55:00</td>\n      <td> 09:21:00</td>\n      <td> 1560</td>\n      <td> OOBUS003</td>\n      <td> OOBUS758</td>\n      <td>  i1_shp</td>\n      <td> 9162</td>\n    </tr>\n    <tr>\n      <th>43</th>\n      <td>  1</td>\n      <td> i1_44</td>\n      <td> 1</td>\n      <td> 09:30:00</td>\n      <td> 09:56:00</td>\n      <td> 1560</td>\n      <td> OOBUS003</td>\n      <td> OOBUS758</td>\n      <td>  i1_shp</td>\n      <td> 9162</td>\n    </tr>\n    <tr>\n      <th>44</th>\n      <td>  1</td>\n      <td> i1_45</td>\n      <td> 1</td>\n      <td> 10:20:00</td>\n      <td> 10:46:00</td>\n      <td> 1560</td>\n      <td> OOBUS003</td>\n      <td> OOBUS758</td>\n      <td>  i1_shp</td>\n      <td> 9162</td>\n    </tr>\n    <tr>\n      <th>45</th>\n      <td>  1</td>\n      <td> i1_46</td>\n      <td> 1</td>\n      <td> 11:15:00</td>\n      <td> 11:41:00</td>\n      <td> 1560</td>\n      <td> OOBUS003</td>\n      <td> OOBUS758</td>\n      <td>  i1_shp</td>\n      <td> 9162</td>\n    </tr>\n    <tr>\n      <th>46</th>\n      <td>  1</td>\n      <td> i1_47</td>\n      <td> 1</td>\n      <td> 12:20:00</td>\n      <td> 12:46:00</td>\n      <td> 1560</td>\n      <td> OOBUS003</td>\n      <td> OOBUS758</td>\n      <td>  i1_shp</td>\n      <td> 9162</td>\n    </tr>\n    <tr>\n      <th>47</th>\n      <td>  1</td>\n      <td> i1_48</td>\n      <td> 1</td>\n      <td> 13:20:00</td>\n      <td> 13:46:00</td>\n      <td> 1560</td>\n      <td> OOBUS003</td>\n      <td> OOBUS758</td>\n      <td>  i1_shp</td>\n      <td> 9162</td>\n    </tr>\n    <tr>\n      <th>48</th>\n      <td>  1</td>\n      <td> i1_49</td>\n      <td> 1</td>\n      <td> 14:25:00</td>\n      <td> 14:51:00</td>\n      <td> 1560</td>\n      <td> OOBUS003</td>\n      <td> OOBUS758</td>\n      <td>  i1_shp</td>\n      <td> 9162</td>\n    </tr>\n    <tr>\n      <th>49</th>\n      <td>  1</td>\n      <td> i1_50</td>\n      <td> 1</td>\n      <td> 15:30:00</td>\n      <td> 15:56:00</td>\n      <td> 1560</td>\n      <td> OOBUS003</td>\n      <td> OOBUS758</td>\n      <td>  i1_shp</td>\n      <td> 9162</td>\n    </tr>\n    <tr>\n      <th>50</th>\n      <td>  1</td>\n      <td> i1_51</td>\n      <td> 1</td>\n      <td> 16:40:00</td>\n      <td> 17:06:00</td>\n      <td> 1560</td>\n      <td> OOBUS003</td>\n      <td> OOBUS758</td>\n      <td>  i1_shp</td>\n      <td> 9162</td>\n    </tr>\n    <tr>\n      <th>51</th>\n      <td>  1</td>\n      <td> i1_52</td>\n      <td> 1</td>\n      <td> 17:45:00</td>\n      <td> 18:11:00</td>\n      <td> 1560</td>\n      <td> OOBUS003</td>\n      <td> OOBUS758</td>\n      <td>  i1_shp</td>\n      <td> 9162</td>\n    </tr>\n    <tr>\n      <th>52</th>\n      <td>  1</td>\n      <td> i1_53</td>\n      <td> 1</td>\n      <td> 18:45:00</td>\n      <td> 19:11:00</td>\n      <td> 1560</td>\n      <td> OOBUS003</td>\n      <td> OOBUS758</td>\n      <td>  i1_shp</td>\n      <td> 9162</td>\n    </tr>\n    <tr>\n      <th>53</th>\n      <td>  1</td>\n      <td> i1a_1</td>\n      <td> 1</td>\n      <td> 21:30:00</td>\n      <td> 21:47:00</td>\n      <td> 1020</td>\n      <td> OOBUS003</td>\n      <td> OOBUS758</td>\n      <td> i1a_shp</td>\n      <td> 5330</td>\n    </tr>\n    <tr>\n      <th>54</th>\n      <td> 1h</td>\n      <td> i1h_1</td>\n      <td> 1</td>\n      <td> 07:18:00</td>\n      <td> 07:33:00</td>\n      <td>  900</td>\n      <td> OOBUS003</td>\n      <td> OOBUS758</td>\n      <td> i1h_shp</td>\n      <td> 6093</td>\n    </tr>\n    <tr>\n      <th>55</th>\n      <td> 1h</td>\n      <td> i1h_2</td>\n      <td> 1</td>\n      <td> 08:15:00</td>\n      <td> 08:30:00</td>\n      <td>  900</td>\n      <td> OOBUS003</td>\n      <td> OOBUS758</td>\n      <td> i1h_shp</td>\n      <td> 6093</td>\n    </tr>\n    <tr>\n      <th>56</th>\n      <td> 1h</td>\n      <td> i1h_3</td>\n      <td> 1</td>\n      <td> 08:45:00</td>\n      <td> 09:00:00</td>\n      <td>  900</td>\n      <td> OOBUS003</td>\n      <td> OOBUS758</td>\n      <td> i1h_shp</td>\n      <td> 6093</td>\n    </tr>\n    <tr>\n      <th>57</th>\n      <td> 1h</td>\n      <td> i1h_4</td>\n      <td> 1</td>\n      <td> 09:15:00</td>\n      <td> 09:30:00</td>\n      <td>  900</td>\n      <td> OOBUS003</td>\n      <td> OOBUS758</td>\n      <td> i1h_shp</td>\n      <td> 6093</td>\n    </tr>\n    <tr>\n      <th>58</th>\n      <td> 1h</td>\n      <td> i1h_5</td>\n      <td> 1</td>\n      <td> 09:48:00</td>\n      <td> 10:03:00</td>\n      <td>  900</td>\n      <td> OOBUS003</td>\n      <td> OOBUS758</td>\n      <td> i1h_shp</td>\n      <td> 6093</td>\n    </tr>\n    <tr>\n      <th>59</th>\n      <td> 1h</td>\n      <td> i1h_6</td>\n      <td> 1</td>\n      <td> 10:08:00</td>\n      <td> 10:23:00</td>\n      <td>  900</td>\n      <td> OOBUS003</td>\n      <td> OOBUS758</td>\n      <td> i1h_shp</td>\n      <td> 6093</td>\n    </tr>\n    <tr>\n      <th></th>\n      <td>...</td>\n      <td>...</td>\n      <td>...</td>\n      <td>...</td>\n      <td>...</td>\n      <td>...</td>\n      <td>...</td>\n      <td>...</td>\n      <td>...</td>\n      <td>...</td>\n    </tr>\n  </tbody>\n</table>\n<p>1463 rows \u00d7 10 columns</p>\n</div>",
       "metadata": {},
       "output_type": "pyout",
       "prompt_number": 3,
       "text": "   route_id trip_id direction_id start_time  end_time  duration start_stop  \\\n0         1    i1_1            1   06:25:00  06:51:00      1560   OOBUS003   \n1         1    i1_2            1   06:56:00  07:22:00      1560   OOBUS003   \n2         1    i1_3            1   07:28:00  07:54:00      1560   OOBUS003   \n3         1    i1_4            1   07:48:00  08:14:00      1560   OOBUS003   \n4         1    i1_5            1   08:00:00  08:26:00      1560   OOBUS003   \n5         1    i1_6            1   08:30:00  08:56:00      1560   OOBUS003   \n6         1    i1_7            1   09:02:00  09:28:00      1560   OOBUS003   \n7         1    i1_8            1   09:30:00  09:56:00      1560   OOBUS003   \n8         1    i1_9            1   10:32:00  10:58:00      1560   OOBUS003   \n9         1   i1_10            1   11:45:00  12:11:00      1560   OOBUS003   \n10        1   i1_11            1   12:30:00  12:56:00      1560   OOBUS003   \n11        1   i1_12            1   13:00:00  13:26:00      1560   OOBUS003   \n12        1   i1_13            1   13:44:00  14:10:00      1560   OOBUS003   \n13        1   i1_14            1   14:20:00  14:46:00      1560   OOBUS003   \n14        1   i1_15            1   14:50:00  15:16:00      1560   OOBUS003   \n15        1   i1_16            1   15:28:00  15:54:00      1560   OOBUS003   \n16        1   i1_17            1   15:58:00  16:24:00      1560   OOBUS003   \n17        1   i1_18            1   16:20:00  16:46:00      1560   OOBUS003   \n18        1   i1_19            1   17:02:00  17:28:00      1560   OOBUS003   \n19        1   i1_20            1   17:31:00  17:57:00      1560   OOBUS003   \n20        1   i1_21            1   18:00:00  18:26:00      1560   OOBUS003   \n21        1   i1_22            1   18:34:00  19:00:00      1560   OOBUS003   \n22        1   i1_23            1   19:25:00  19:51:00      1560   OOBUS003   \n23        1   i1_24            1   20:00:00  20:26:00      1560   OOBUS003   \n24        1   i1_25            1   20:40:00  21:06:00      1560   OOBUS003   \n25        1   i1_26            1   06:30:00  06:56:00      1560   OOBUS003   \n26        1   i1_27            1   07:05:00  07:31:00      1560   OOBUS003   \n27        1   i1_28            1   07:55:00  08:21:00      1560   OOBUS003   \n28        1   i1_29            1   08:55:00  09:21:00      1560   OOBUS003   \n29        1   i1_30            1   09:30:00  09:56:00      1560   OOBUS003   \n30        1   i1_31            1   10:20:00  10:46:00      1560   OOBUS003   \n31        1   i1_32            1   11:15:00  11:41:00      1560   OOBUS003   \n32        1   i1_33            1   12:20:00  12:46:00      1560   OOBUS003   \n33        1   i1_34            1   13:20:00  13:46:00      1560   OOBUS003   \n34        1   i1_35            1   14:25:00  14:51:00      1560   OOBUS003   \n35        1   i1_36            1   15:30:00  15:56:00      1560   OOBUS003   \n36        1   i1_37            1   16:40:00  17:06:00      1560   OOBUS003   \n37        1   i1_38            1   17:45:00  18:11:00      1560   OOBUS003   \n38        1   i1_39            1   18:45:00  19:11:00      1560   OOBUS003   \n39        1   i1_40            1   20:05:00  20:31:00      1560   OOBUS003   \n40        1   i1_41            1   07:05:00  07:31:00      1560   OOBUS003   \n41        1   i1_42            1   07:55:00  08:21:00      1560   OOBUS003   \n42        1   i1_43            1   08:55:00  09:21:00      1560   OOBUS003   \n43        1   i1_44            1   09:30:00  09:56:00      1560   OOBUS003   \n44        1   i1_45            1   10:20:00  10:46:00      1560   OOBUS003   \n45        1   i1_46            1   11:15:00  11:41:00      1560   OOBUS003   \n46        1   i1_47            1   12:20:00  12:46:00      1560   OOBUS003   \n47        1   i1_48            1   13:20:00  13:46:00      1560   OOBUS003   \n48        1   i1_49            1   14:25:00  14:51:00      1560   OOBUS003   \n49        1   i1_50            1   15:30:00  15:56:00      1560   OOBUS003   \n50        1   i1_51            1   16:40:00  17:06:00      1560   OOBUS003   \n51        1   i1_52            1   17:45:00  18:11:00      1560   OOBUS003   \n52        1   i1_53            1   18:45:00  19:11:00      1560   OOBUS003   \n53        1   i1a_1            1   21:30:00  21:47:00      1020   OOBUS003   \n54       1h   i1h_1            1   07:18:00  07:33:00       900   OOBUS003   \n55       1h   i1h_2            1   08:15:00  08:30:00       900   OOBUS003   \n56       1h   i1h_3            1   08:45:00  09:00:00       900   OOBUS003   \n57       1h   i1h_4            1   09:15:00  09:30:00       900   OOBUS003   \n58       1h   i1h_5            1   09:48:00  10:03:00       900   OOBUS003   \n59       1h   i1h_6            1   10:08:00  10:23:00       900   OOBUS003   \n        ...     ...          ...        ...       ...       ...        ...   \n\n    end_stop shape_id  distance  \n0   OOBUS758   i1_shp      9162  \n1   OOBUS758   i1_shp      9162  \n2   OOBUS758   i1_shp      9162  \n3   OOBUS758   i1_shp      9162  \n4   OOBUS758   i1_shp      9162  \n5   OOBUS758   i1_shp      9162  \n6   OOBUS758   i1_shp      9162  \n7   OOBUS758   i1_shp      9162  \n8   OOBUS758   i1_shp      9162  \n9   OOBUS758   i1_shp      9162  \n10  OOBUS758   i1_shp      9162  \n11  OOBUS758   i1_shp      9162  \n12  OOBUS758   i1_shp      9162  \n13  OOBUS758   i1_shp      9162  \n14  OOBUS758   i1_shp      9162  \n15  OOBUS758   i1_shp      9162  \n16  OOBUS758   i1_shp      9162  \n17  OOBUS758   i1_shp      9162  \n18  OOBUS758   i1_shp      9162  \n19  OOBUS758   i1_shp      9162  \n20  OOBUS758   i1_shp      9162  \n21  OOBUS758   i1_shp      9162  \n22  OOBUS758   i1_shp      9162  \n23  OOBUS758   i1_shp      9162  \n24  OOBUS758   i1_shp      9162  \n25  OOBUS758   i1_shp      9162  \n26  OOBUS758   i1_shp      9162  \n27  OOBUS758   i1_shp      9162  \n28  OOBUS758   i1_shp      9162  \n29  OOBUS758   i1_shp      9162  \n30  OOBUS758   i1_shp      9162  \n31  OOBUS758   i1_shp      9162  \n32  OOBUS758   i1_shp      9162  \n33  OOBUS758   i1_shp      9162  \n34  OOBUS758   i1_shp      9162  \n35  OOBUS758   i1_shp      9162  \n36  OOBUS758   i1_shp      9162  \n37  OOBUS758   i1_shp      9162  \n38  OOBUS758   i1_shp      9162  \n39  OOBUS758   i1_shp      9162  \n40  OOBUS758   i1_shp      9162  \n41  OOBUS758   i1_shp      9162  \n42  OOBUS758   i1_shp      9162  \n43  OOBUS758   i1_shp      9162  \n44  OOBUS758   i1_shp      9162  \n45  OOBUS758   i1_shp      9162  \n46  OOBUS758   i1_shp      9162  \n47  OOBUS758   i1_shp      9162  \n48  OOBUS758   i1_shp      9162  \n49  OOBUS758   i1_shp      9162  \n50  OOBUS758   i1_shp      9162  \n51  OOBUS758   i1_shp      9162  \n52  OOBUS758   i1_shp      9162  \n53  OOBUS758  i1a_shp      5330  \n54  OOBUS758  i1h_shp      6093  \n55  OOBUS758  i1h_shp      6093  \n56  OOBUS758  i1h_shp      6093  \n57  OOBUS758  i1h_shp      6093  \n58  OOBUS758  i1h_shp      6093  \n59  OOBUS758  i1h_shp      6093  \n         ...      ...       ...  \n\n[1463 rows x 10 columns]"
      }
     ],
     "prompt_number": 3
    },
    {
     "cell_type": "code",
     "collapsed": false,
     "input": "# Get trips activity for the first week of the feed\ndates = feed.get_first_week()\nprint(dates)\ntrips_activity = feed.get_trips_activity(dates)\ntrips_activity",
     "language": "python",
     "metadata": {},
     "outputs": [
      {
       "output_type": "stream",
       "stream": "stdout",
       "text": "[datetime.date(2012, 11, 5), datetime.date(2012, 11, 6), datetime.date(2012, 11, 7), datetime.date(2012, 11, 8), datetime.date(2012, 11, 9), datetime.date(2012, 11, 10), datetime.date(2012, 11, 11)]\n"
      },
      {
       "html": "<div style=\"max-height:1000px;max-width:1500px;overflow:auto;\">\n<table border=\"1\" class=\"dataframe\">\n  <thead>\n    <tr style=\"text-align: right;\">\n      <th></th>\n      <th>trip_id</th>\n      <th>route_id</th>\n      <th>2012-11-05</th>\n      <th>2012-11-06</th>\n      <th>2012-11-07</th>\n      <th>2012-11-08</th>\n      <th>2012-11-09</th>\n      <th>2012-11-10</th>\n      <th>2012-11-11</th>\n    </tr>\n  </thead>\n  <tbody>\n    <tr>\n      <th>0 </th>\n      <td>  i1_1</td>\n      <td>  1</td>\n      <td> 1</td>\n      <td> 1</td>\n      <td> 1</td>\n      <td> 1</td>\n      <td> 1</td>\n      <td> 0</td>\n      <td> 0</td>\n    </tr>\n    <tr>\n      <th>1 </th>\n      <td>  i1_2</td>\n      <td>  1</td>\n      <td> 1</td>\n      <td> 1</td>\n      <td> 1</td>\n      <td> 1</td>\n      <td> 1</td>\n      <td> 0</td>\n      <td> 0</td>\n    </tr>\n    <tr>\n      <th>2 </th>\n      <td>  i1_3</td>\n      <td>  1</td>\n      <td> 1</td>\n      <td> 1</td>\n      <td> 1</td>\n      <td> 1</td>\n      <td> 1</td>\n      <td> 0</td>\n      <td> 0</td>\n    </tr>\n    <tr>\n      <th>3 </th>\n      <td>  i1_4</td>\n      <td>  1</td>\n      <td> 1</td>\n      <td> 1</td>\n      <td> 1</td>\n      <td> 1</td>\n      <td> 1</td>\n      <td> 0</td>\n      <td> 0</td>\n    </tr>\n    <tr>\n      <th>4 </th>\n      <td>  i1_5</td>\n      <td>  1</td>\n      <td> 1</td>\n      <td> 1</td>\n      <td> 1</td>\n      <td> 1</td>\n      <td> 1</td>\n      <td> 0</td>\n      <td> 0</td>\n    </tr>\n    <tr>\n      <th>5 </th>\n      <td>  i1_6</td>\n      <td>  1</td>\n      <td> 1</td>\n      <td> 1</td>\n      <td> 1</td>\n      <td> 1</td>\n      <td> 1</td>\n      <td> 0</td>\n      <td> 0</td>\n    </tr>\n    <tr>\n      <th>6 </th>\n      <td>  i1_7</td>\n      <td>  1</td>\n      <td> 1</td>\n      <td> 1</td>\n      <td> 1</td>\n      <td> 1</td>\n      <td> 1</td>\n      <td> 0</td>\n      <td> 0</td>\n    </tr>\n    <tr>\n      <th>7 </th>\n      <td>  i1_8</td>\n      <td>  1</td>\n      <td> 1</td>\n      <td> 1</td>\n      <td> 1</td>\n      <td> 1</td>\n      <td> 1</td>\n      <td> 0</td>\n      <td> 0</td>\n    </tr>\n    <tr>\n      <th>8 </th>\n      <td>  i1_9</td>\n      <td>  1</td>\n      <td> 1</td>\n      <td> 1</td>\n      <td> 1</td>\n      <td> 1</td>\n      <td> 1</td>\n      <td> 0</td>\n      <td> 0</td>\n    </tr>\n    <tr>\n      <th>9 </th>\n      <td> i1_10</td>\n      <td>  1</td>\n      <td> 1</td>\n      <td> 1</td>\n      <td> 1</td>\n      <td> 1</td>\n      <td> 1</td>\n      <td> 0</td>\n      <td> 0</td>\n    </tr>\n    <tr>\n      <th>10</th>\n      <td> i1_11</td>\n      <td>  1</td>\n      <td> 1</td>\n      <td> 1</td>\n      <td> 1</td>\n      <td> 1</td>\n      <td> 1</td>\n      <td> 0</td>\n      <td> 0</td>\n    </tr>\n    <tr>\n      <th>11</th>\n      <td> i1_12</td>\n      <td>  1</td>\n      <td> 1</td>\n      <td> 1</td>\n      <td> 1</td>\n      <td> 1</td>\n      <td> 1</td>\n      <td> 0</td>\n      <td> 0</td>\n    </tr>\n    <tr>\n      <th>12</th>\n      <td> i1_13</td>\n      <td>  1</td>\n      <td> 1</td>\n      <td> 1</td>\n      <td> 1</td>\n      <td> 1</td>\n      <td> 1</td>\n      <td> 0</td>\n      <td> 0</td>\n    </tr>\n    <tr>\n      <th>13</th>\n      <td> i1_14</td>\n      <td>  1</td>\n      <td> 1</td>\n      <td> 1</td>\n      <td> 1</td>\n      <td> 1</td>\n      <td> 1</td>\n      <td> 0</td>\n      <td> 0</td>\n    </tr>\n    <tr>\n      <th>14</th>\n      <td> i1_15</td>\n      <td>  1</td>\n      <td> 1</td>\n      <td> 1</td>\n      <td> 1</td>\n      <td> 1</td>\n      <td> 1</td>\n      <td> 0</td>\n      <td> 0</td>\n    </tr>\n    <tr>\n      <th>15</th>\n      <td> i1_16</td>\n      <td>  1</td>\n      <td> 1</td>\n      <td> 1</td>\n      <td> 1</td>\n      <td> 1</td>\n      <td> 1</td>\n      <td> 0</td>\n      <td> 0</td>\n    </tr>\n    <tr>\n      <th>16</th>\n      <td> i1_17</td>\n      <td>  1</td>\n      <td> 1</td>\n      <td> 1</td>\n      <td> 1</td>\n      <td> 1</td>\n      <td> 1</td>\n      <td> 0</td>\n      <td> 0</td>\n    </tr>\n    <tr>\n      <th>17</th>\n      <td> i1_18</td>\n      <td>  1</td>\n      <td> 1</td>\n      <td> 1</td>\n      <td> 1</td>\n      <td> 1</td>\n      <td> 1</td>\n      <td> 0</td>\n      <td> 0</td>\n    </tr>\n    <tr>\n      <th>18</th>\n      <td> i1_19</td>\n      <td>  1</td>\n      <td> 1</td>\n      <td> 1</td>\n      <td> 1</td>\n      <td> 1</td>\n      <td> 1</td>\n      <td> 0</td>\n      <td> 0</td>\n    </tr>\n    <tr>\n      <th>19</th>\n      <td> i1_20</td>\n      <td>  1</td>\n      <td> 1</td>\n      <td> 1</td>\n      <td> 1</td>\n      <td> 1</td>\n      <td> 1</td>\n      <td> 0</td>\n      <td> 0</td>\n    </tr>\n    <tr>\n      <th>20</th>\n      <td> i1_21</td>\n      <td>  1</td>\n      <td> 1</td>\n      <td> 1</td>\n      <td> 1</td>\n      <td> 1</td>\n      <td> 1</td>\n      <td> 0</td>\n      <td> 0</td>\n    </tr>\n    <tr>\n      <th>21</th>\n      <td> i1_22</td>\n      <td>  1</td>\n      <td> 1</td>\n      <td> 1</td>\n      <td> 1</td>\n      <td> 1</td>\n      <td> 1</td>\n      <td> 0</td>\n      <td> 0</td>\n    </tr>\n    <tr>\n      <th>22</th>\n      <td> i1_23</td>\n      <td>  1</td>\n      <td> 1</td>\n      <td> 1</td>\n      <td> 1</td>\n      <td> 1</td>\n      <td> 1</td>\n      <td> 0</td>\n      <td> 0</td>\n    </tr>\n    <tr>\n      <th>23</th>\n      <td> i1_24</td>\n      <td>  1</td>\n      <td> 1</td>\n      <td> 1</td>\n      <td> 1</td>\n      <td> 1</td>\n      <td> 1</td>\n      <td> 0</td>\n      <td> 0</td>\n    </tr>\n    <tr>\n      <th>24</th>\n      <td> i1_25</td>\n      <td>  1</td>\n      <td> 1</td>\n      <td> 1</td>\n      <td> 1</td>\n      <td> 1</td>\n      <td> 1</td>\n      <td> 0</td>\n      <td> 0</td>\n    </tr>\n    <tr>\n      <th>25</th>\n      <td> i1_26</td>\n      <td>  1</td>\n      <td> 0</td>\n      <td> 0</td>\n      <td> 0</td>\n      <td> 0</td>\n      <td> 0</td>\n      <td> 1</td>\n      <td> 0</td>\n    </tr>\n    <tr>\n      <th>26</th>\n      <td> i1_27</td>\n      <td>  1</td>\n      <td> 0</td>\n      <td> 0</td>\n      <td> 0</td>\n      <td> 0</td>\n      <td> 0</td>\n      <td> 1</td>\n      <td> 0</td>\n    </tr>\n    <tr>\n      <th>27</th>\n      <td> i1_28</td>\n      <td>  1</td>\n      <td> 0</td>\n      <td> 0</td>\n      <td> 0</td>\n      <td> 0</td>\n      <td> 0</td>\n      <td> 1</td>\n      <td> 0</td>\n    </tr>\n    <tr>\n      <th>28</th>\n      <td> i1_29</td>\n      <td>  1</td>\n      <td> 0</td>\n      <td> 0</td>\n      <td> 0</td>\n      <td> 0</td>\n      <td> 0</td>\n      <td> 1</td>\n      <td> 0</td>\n    </tr>\n    <tr>\n      <th>29</th>\n      <td> i1_30</td>\n      <td>  1</td>\n      <td> 0</td>\n      <td> 0</td>\n      <td> 0</td>\n      <td> 0</td>\n      <td> 0</td>\n      <td> 1</td>\n      <td> 0</td>\n    </tr>\n    <tr>\n      <th>30</th>\n      <td> i1_31</td>\n      <td>  1</td>\n      <td> 0</td>\n      <td> 0</td>\n      <td> 0</td>\n      <td> 0</td>\n      <td> 0</td>\n      <td> 1</td>\n      <td> 0</td>\n    </tr>\n    <tr>\n      <th>31</th>\n      <td> i1_32</td>\n      <td>  1</td>\n      <td> 0</td>\n      <td> 0</td>\n      <td> 0</td>\n      <td> 0</td>\n      <td> 0</td>\n      <td> 1</td>\n      <td> 0</td>\n    </tr>\n    <tr>\n      <th>32</th>\n      <td> i1_33</td>\n      <td>  1</td>\n      <td> 0</td>\n      <td> 0</td>\n      <td> 0</td>\n      <td> 0</td>\n      <td> 0</td>\n      <td> 1</td>\n      <td> 0</td>\n    </tr>\n    <tr>\n      <th>33</th>\n      <td> i1_34</td>\n      <td>  1</td>\n      <td> 0</td>\n      <td> 0</td>\n      <td> 0</td>\n      <td> 0</td>\n      <td> 0</td>\n      <td> 1</td>\n      <td> 0</td>\n    </tr>\n    <tr>\n      <th>34</th>\n      <td> i1_35</td>\n      <td>  1</td>\n      <td> 0</td>\n      <td> 0</td>\n      <td> 0</td>\n      <td> 0</td>\n      <td> 0</td>\n      <td> 1</td>\n      <td> 0</td>\n    </tr>\n    <tr>\n      <th>35</th>\n      <td> i1_36</td>\n      <td>  1</td>\n      <td> 0</td>\n      <td> 0</td>\n      <td> 0</td>\n      <td> 0</td>\n      <td> 0</td>\n      <td> 1</td>\n      <td> 0</td>\n    </tr>\n    <tr>\n      <th>36</th>\n      <td> i1_37</td>\n      <td>  1</td>\n      <td> 0</td>\n      <td> 0</td>\n      <td> 0</td>\n      <td> 0</td>\n      <td> 0</td>\n      <td> 1</td>\n      <td> 0</td>\n    </tr>\n    <tr>\n      <th>37</th>\n      <td> i1_38</td>\n      <td>  1</td>\n      <td> 0</td>\n      <td> 0</td>\n      <td> 0</td>\n      <td> 0</td>\n      <td> 0</td>\n      <td> 1</td>\n      <td> 0</td>\n    </tr>\n    <tr>\n      <th>38</th>\n      <td> i1_39</td>\n      <td>  1</td>\n      <td> 0</td>\n      <td> 0</td>\n      <td> 0</td>\n      <td> 0</td>\n      <td> 0</td>\n      <td> 1</td>\n      <td> 0</td>\n    </tr>\n    <tr>\n      <th>39</th>\n      <td> i1_40</td>\n      <td>  1</td>\n      <td> 0</td>\n      <td> 0</td>\n      <td> 0</td>\n      <td> 0</td>\n      <td> 0</td>\n      <td> 1</td>\n      <td> 0</td>\n    </tr>\n    <tr>\n      <th>40</th>\n      <td> i1_41</td>\n      <td>  1</td>\n      <td> 0</td>\n      <td> 0</td>\n      <td> 0</td>\n      <td> 0</td>\n      <td> 0</td>\n      <td> 0</td>\n      <td> 1</td>\n    </tr>\n    <tr>\n      <th>41</th>\n      <td> i1_42</td>\n      <td>  1</td>\n      <td> 0</td>\n      <td> 0</td>\n      <td> 0</td>\n      <td> 0</td>\n      <td> 0</td>\n      <td> 0</td>\n      <td> 1</td>\n    </tr>\n    <tr>\n      <th>42</th>\n      <td> i1_43</td>\n      <td>  1</td>\n      <td> 0</td>\n      <td> 0</td>\n      <td> 0</td>\n      <td> 0</td>\n      <td> 0</td>\n      <td> 0</td>\n      <td> 1</td>\n    </tr>\n    <tr>\n      <th>43</th>\n      <td> i1_44</td>\n      <td>  1</td>\n      <td> 0</td>\n      <td> 0</td>\n      <td> 0</td>\n      <td> 0</td>\n      <td> 0</td>\n      <td> 0</td>\n      <td> 1</td>\n    </tr>\n    <tr>\n      <th>44</th>\n      <td> i1_45</td>\n      <td>  1</td>\n      <td> 0</td>\n      <td> 0</td>\n      <td> 0</td>\n      <td> 0</td>\n      <td> 0</td>\n      <td> 0</td>\n      <td> 1</td>\n    </tr>\n    <tr>\n      <th>45</th>\n      <td> i1_46</td>\n      <td>  1</td>\n      <td> 0</td>\n      <td> 0</td>\n      <td> 0</td>\n      <td> 0</td>\n      <td> 0</td>\n      <td> 0</td>\n      <td> 1</td>\n    </tr>\n    <tr>\n      <th>46</th>\n      <td> i1_47</td>\n      <td>  1</td>\n      <td> 0</td>\n      <td> 0</td>\n      <td> 0</td>\n      <td> 0</td>\n      <td> 0</td>\n      <td> 0</td>\n      <td> 1</td>\n    </tr>\n    <tr>\n      <th>47</th>\n      <td> i1_48</td>\n      <td>  1</td>\n      <td> 0</td>\n      <td> 0</td>\n      <td> 0</td>\n      <td> 0</td>\n      <td> 0</td>\n      <td> 0</td>\n      <td> 1</td>\n    </tr>\n    <tr>\n      <th>48</th>\n      <td> i1_49</td>\n      <td>  1</td>\n      <td> 0</td>\n      <td> 0</td>\n      <td> 0</td>\n      <td> 0</td>\n      <td> 0</td>\n      <td> 0</td>\n      <td> 1</td>\n    </tr>\n    <tr>\n      <th>49</th>\n      <td> i1_50</td>\n      <td>  1</td>\n      <td> 0</td>\n      <td> 0</td>\n      <td> 0</td>\n      <td> 0</td>\n      <td> 0</td>\n      <td> 0</td>\n      <td> 1</td>\n    </tr>\n    <tr>\n      <th>50</th>\n      <td> i1_51</td>\n      <td>  1</td>\n      <td> 0</td>\n      <td> 0</td>\n      <td> 0</td>\n      <td> 0</td>\n      <td> 0</td>\n      <td> 0</td>\n      <td> 1</td>\n    </tr>\n    <tr>\n      <th>51</th>\n      <td> i1_52</td>\n      <td>  1</td>\n      <td> 0</td>\n      <td> 0</td>\n      <td> 0</td>\n      <td> 0</td>\n      <td> 0</td>\n      <td> 0</td>\n      <td> 1</td>\n    </tr>\n    <tr>\n      <th>52</th>\n      <td> i1_53</td>\n      <td>  1</td>\n      <td> 0</td>\n      <td> 0</td>\n      <td> 0</td>\n      <td> 0</td>\n      <td> 0</td>\n      <td> 0</td>\n      <td> 1</td>\n    </tr>\n    <tr>\n      <th>53</th>\n      <td> i1a_1</td>\n      <td>  1</td>\n      <td> 1</td>\n      <td> 1</td>\n      <td> 1</td>\n      <td> 1</td>\n      <td> 1</td>\n      <td> 0</td>\n      <td> 0</td>\n    </tr>\n    <tr>\n      <th>54</th>\n      <td> i1h_1</td>\n      <td> 1h</td>\n      <td> 1</td>\n      <td> 1</td>\n      <td> 1</td>\n      <td> 1</td>\n      <td> 1</td>\n      <td> 0</td>\n      <td> 0</td>\n    </tr>\n    <tr>\n      <th>55</th>\n      <td> i1h_2</td>\n      <td> 1h</td>\n      <td> 1</td>\n      <td> 1</td>\n      <td> 1</td>\n      <td> 1</td>\n      <td> 1</td>\n      <td> 0</td>\n      <td> 0</td>\n    </tr>\n    <tr>\n      <th>56</th>\n      <td> i1h_3</td>\n      <td> 1h</td>\n      <td> 1</td>\n      <td> 1</td>\n      <td> 1</td>\n      <td> 1</td>\n      <td> 1</td>\n      <td> 0</td>\n      <td> 0</td>\n    </tr>\n    <tr>\n      <th>57</th>\n      <td> i1h_4</td>\n      <td> 1h</td>\n      <td> 1</td>\n      <td> 1</td>\n      <td> 1</td>\n      <td> 1</td>\n      <td> 1</td>\n      <td> 0</td>\n      <td> 0</td>\n    </tr>\n    <tr>\n      <th>58</th>\n      <td> i1h_5</td>\n      <td> 1h</td>\n      <td> 1</td>\n      <td> 1</td>\n      <td> 1</td>\n      <td> 1</td>\n      <td> 1</td>\n      <td> 0</td>\n      <td> 0</td>\n    </tr>\n    <tr>\n      <th>59</th>\n      <td> i1h_6</td>\n      <td> 1h</td>\n      <td> 1</td>\n      <td> 1</td>\n      <td> 1</td>\n      <td> 1</td>\n      <td> 1</td>\n      <td> 0</td>\n      <td> 0</td>\n    </tr>\n    <tr>\n      <th></th>\n      <td>...</td>\n      <td>...</td>\n      <td>...</td>\n      <td>...</td>\n      <td>...</td>\n      <td>...</td>\n      <td>...</td>\n      <td>...</td>\n      <td>...</td>\n    </tr>\n  </tbody>\n</table>\n<p>1463 rows \u00d7 9 columns</p>\n</div>",
       "metadata": {},
       "output_type": "pyout",
       "prompt_number": 4,
       "text": "   trip_id route_id  2012-11-05  2012-11-06  2012-11-07  2012-11-08  \\\n0     i1_1        1           1           1           1           1   \n1     i1_2        1           1           1           1           1   \n2     i1_3        1           1           1           1           1   \n3     i1_4        1           1           1           1           1   \n4     i1_5        1           1           1           1           1   \n5     i1_6        1           1           1           1           1   \n6     i1_7        1           1           1           1           1   \n7     i1_8        1           1           1           1           1   \n8     i1_9        1           1           1           1           1   \n9    i1_10        1           1           1           1           1   \n10   i1_11        1           1           1           1           1   \n11   i1_12        1           1           1           1           1   \n12   i1_13        1           1           1           1           1   \n13   i1_14        1           1           1           1           1   \n14   i1_15        1           1           1           1           1   \n15   i1_16        1           1           1           1           1   \n16   i1_17        1           1           1           1           1   \n17   i1_18        1           1           1           1           1   \n18   i1_19        1           1           1           1           1   \n19   i1_20        1           1           1           1           1   \n20   i1_21        1           1           1           1           1   \n21   i1_22        1           1           1           1           1   \n22   i1_23        1           1           1           1           1   \n23   i1_24        1           1           1           1           1   \n24   i1_25        1           1           1           1           1   \n25   i1_26        1           0           0           0           0   \n26   i1_27        1           0           0           0           0   \n27   i1_28        1           0           0           0           0   \n28   i1_29        1           0           0           0           0   \n29   i1_30        1           0           0           0           0   \n30   i1_31        1           0           0           0           0   \n31   i1_32        1           0           0           0           0   \n32   i1_33        1           0           0           0           0   \n33   i1_34        1           0           0           0           0   \n34   i1_35        1           0           0           0           0   \n35   i1_36        1           0           0           0           0   \n36   i1_37        1           0           0           0           0   \n37   i1_38        1           0           0           0           0   \n38   i1_39        1           0           0           0           0   \n39   i1_40        1           0           0           0           0   \n40   i1_41        1           0           0           0           0   \n41   i1_42        1           0           0           0           0   \n42   i1_43        1           0           0           0           0   \n43   i1_44        1           0           0           0           0   \n44   i1_45        1           0           0           0           0   \n45   i1_46        1           0           0           0           0   \n46   i1_47        1           0           0           0           0   \n47   i1_48        1           0           0           0           0   \n48   i1_49        1           0           0           0           0   \n49   i1_50        1           0           0           0           0   \n50   i1_51        1           0           0           0           0   \n51   i1_52        1           0           0           0           0   \n52   i1_53        1           0           0           0           0   \n53   i1a_1        1           1           1           1           1   \n54   i1h_1       1h           1           1           1           1   \n55   i1h_2       1h           1           1           1           1   \n56   i1h_3       1h           1           1           1           1   \n57   i1h_4       1h           1           1           1           1   \n58   i1h_5       1h           1           1           1           1   \n59   i1h_6       1h           1           1           1           1   \n       ...      ...         ...         ...         ...         ...   \n\n    2012-11-09  2012-11-10  2012-11-11  \n0            1           0           0  \n1            1           0           0  \n2            1           0           0  \n3            1           0           0  \n4            1           0           0  \n5            1           0           0  \n6            1           0           0  \n7            1           0           0  \n8            1           0           0  \n9            1           0           0  \n10           1           0           0  \n11           1           0           0  \n12           1           0           0  \n13           1           0           0  \n14           1           0           0  \n15           1           0           0  \n16           1           0           0  \n17           1           0           0  \n18           1           0           0  \n19           1           0           0  \n20           1           0           0  \n21           1           0           0  \n22           1           0           0  \n23           1           0           0  \n24           1           0           0  \n25           0           1           0  \n26           0           1           0  \n27           0           1           0  \n28           0           1           0  \n29           0           1           0  \n30           0           1           0  \n31           0           1           0  \n32           0           1           0  \n33           0           1           0  \n34           0           1           0  \n35           0           1           0  \n36           0           1           0  \n37           0           1           0  \n38           0           1           0  \n39           0           1           0  \n40           0           0           1  \n41           0           0           1  \n42           0           0           1  \n43           0           0           1  \n44           0           0           1  \n45           0           0           1  \n46           0           0           1  \n47           0           0           1  \n48           0           0           1  \n49           0           0           1  \n50           0           0           1  \n51           0           0           1  \n52           0           0           1  \n53           1           0           0  \n54           1           0           0  \n55           1           0           0  \n56           1           0           0  \n57           1           0           0  \n58           1           0           0  \n59           1           0           0  \n           ...         ...         ...  \n\n[1463 rows x 9 columns]"
      }
     ],
     "prompt_number": 4
    },
    {
     "cell_type": "code",
     "collapsed": false,
     "input": "# Get routes stats for first workweek of feed\ndates = feed.get_first_week()[:5]\nroutes_stats = feed.get_routes_stats(trips_stats, dates)\nroutes_stats",
     "language": "python",
     "metadata": {},
     "outputs": [
      {
       "output_type": "stream",
       "stream": "stdout",
       "text": "2014-05-20 19:57:13.010975 Creating routes stats for 1463 trips...\n2014-05-20 19:57:30.415343"
      },
      {
       "output_type": "stream",
       "stream": "stdout",
       "text": " Finished routes stats in 0.28 min\n"
      },
      {
       "html": "<div style=\"max-height:1000px;max-width:1500px;overflow:auto;\">\n<table border=\"1\" class=\"dataframe\">\n  <thead>\n    <tr style=\"text-align: right;\">\n      <th></th>\n      <th>route_id</th>\n      <th>min_start_time</th>\n      <th>max_end_time</th>\n      <th>mean_daily_num_trips</th>\n      <th>max_headway</th>\n      <th>mean_headway</th>\n      <th>mean_daily_duration</th>\n      <th>mean_daily_distance</th>\n    </tr>\n  </thead>\n  <tbody>\n    <tr>\n      <th>0 </th>\n      <td>   1</td>\n      <td> 06:25:00</td>\n      <td> 21:47:00</td>\n      <td> 26.0</td>\n      <td>  4380</td>\n      <td>  2103</td>\n      <td>  40020</td>\n      <td>  234380.0</td>\n    </tr>\n    <tr>\n      <th>1 </th>\n      <td>  10</td>\n      <td> 05:45:00</td>\n      <td> 23:37:00</td>\n      <td> 89.0</td>\n      <td>  1740</td>\n      <td>   596</td>\n      <td> 194976</td>\n      <td> 1277661.0</td>\n    </tr>\n    <tr>\n      <th>2 </th>\n      <td>  11</td>\n      <td> 06:25:00</td>\n      <td> 17:54:00</td>\n      <td> 16.0</td>\n      <td>  3420</td>\n      <td>  2580</td>\n      <td>  30360</td>\n      <td>  212817.0</td>\n    </tr>\n    <tr>\n      <th>3 </th>\n      <td>  12</td>\n      <td> 06:15:00</td>\n      <td> 20:32:00</td>\n      <td> 21.0</td>\n      <td>  4380</td>\n      <td>  2550</td>\n      <td>  47520</td>\n      <td>  315462.0</td>\n    </tr>\n    <tr>\n      <th>4 </th>\n      <td>  14</td>\n      <td> 06:15:00</td>\n      <td> 21:20:00</td>\n      <td> 17.0</td>\n      <td>  3900</td>\n      <td>  3350</td>\n      <td>  34800</td>\n      <td>   88740.0</td>\n    </tr>\n    <tr>\n      <th>5 </th>\n      <td>  1h</td>\n      <td> 07:18:00</td>\n      <td> 19:19:00</td>\n      <td> 18.0</td>\n      <td>  5400</td>\n      <td>  2576</td>\n      <td>  16200</td>\n      <td>  109674.0</td>\n    </tr>\n    <tr>\n      <th>6 </th>\n      <td>   2</td>\n      <td> 06:25:00</td>\n      <td> 19:03:00</td>\n      <td> 16.0</td>\n      <td>  4440</td>\n      <td>  3092</td>\n      <td>  26880</td>\n      <td>  188896.0</td>\n    </tr>\n    <tr>\n      <th>7 </th>\n      <td>  21</td>\n      <td> 07:20:00</td>\n      <td> 17:50:00</td>\n      <td>  3.0</td>\n      <td> 33300</td>\n      <td> 17850</td>\n      <td>   6300</td>\n      <td>   52068.0</td>\n    </tr>\n    <tr>\n      <th>8 </th>\n      <td>  22</td>\n      <td> 07:10:00</td>\n      <td> 17:50:00</td>\n      <td>  3.0</td>\n      <td> 33600</td>\n      <td> 18150</td>\n      <td>   6600</td>\n      <td>   51930.0</td>\n    </tr>\n    <tr>\n      <th>9 </th>\n      <td>  24</td>\n      <td> 06:25:00</td>\n      <td> 19:02:00</td>\n      <td> 14.0</td>\n      <td>  7200</td>\n      <td>  3655</td>\n      <td>  21000</td>\n      <td>     490.0</td>\n    </tr>\n    <tr>\n      <th>10</th>\n      <td>  25</td>\n      <td> 07:10:00</td>\n      <td> 17:55:00</td>\n      <td>  3.0</td>\n      <td> 33600</td>\n      <td> 18000</td>\n      <td>   8100</td>\n      <td>   71022.0</td>\n    </tr>\n    <tr>\n      <th>11</th>\n      <td>  28</td>\n      <td> 06:05:00</td>\n      <td> 18:25:00</td>\n      <td>  6.0</td>\n      <td> 32400</td>\n      <td>  9450</td>\n      <td>  19800</td>\n      <td>  248283.0</td>\n    </tr>\n    <tr>\n      <th>12</th>\n      <td>   3</td>\n      <td> 06:25:00</td>\n      <td> 19:04:00</td>\n      <td> 18.0</td>\n      <td>  4200</td>\n      <td>  2668</td>\n      <td>  33840</td>\n      <td>  242014.0</td>\n    </tr>\n    <tr>\n      <th>13</th>\n      <td>   4</td>\n      <td> 06:30:00</td>\n      <td> 24:32:00</td>\n      <td> 73.2</td>\n      <td>  1980</td>\n      <td>   710</td>\n      <td> 202728</td>\n      <td> 1394770.8</td>\n    </tr>\n    <tr>\n      <th>14</th>\n      <td> 440</td>\n      <td> 09:15:00</td>\n      <td> 15:15:00</td>\n      <td>  2.0</td>\n      <td> 13500</td>\n      <td> 13500</td>\n      <td>  16200</td>\n      <td>  197792.0</td>\n    </tr>\n    <tr>\n      <th>15</th>\n      <td> 445</td>\n      <td> 06:05:00</td>\n      <td> 18:55:00</td>\n      <td>  5.0</td>\n      <td> 31200</td>\n      <td> 13100</td>\n      <td>  16500</td>\n      <td>  226491.0</td>\n    </tr>\n    <tr>\n      <th>16</th>\n      <td> 446</td>\n      <td> 06:30:00</td>\n      <td> 18:30:00</td>\n      <td>  5.0</td>\n      <td> 30000</td>\n      <td> 12700</td>\n      <td>   9000</td>\n      <td>  102740.0</td>\n    </tr>\n    <tr>\n      <th>17</th>\n      <td> 447</td>\n      <td> 06:15:00</td>\n      <td> 18:40:00</td>\n      <td>  8.0</td>\n      <td> 28800</td>\n      <td>  6450</td>\n      <td>  18000</td>\n      <td>  222272.0</td>\n    </tr>\n    <tr>\n      <th>18</th>\n      <td> 450</td>\n      <td> 07:05:00</td>\n      <td> 16:25:00</td>\n      <td>  2.0</td>\n      <td> 31200</td>\n      <td> 31200</td>\n      <td>   4800</td>\n      <td>   59778.0</td>\n    </tr>\n    <tr>\n      <th>19</th>\n      <td>   5</td>\n      <td> 06:24:00</td>\n      <td> 18:52:00</td>\n      <td> 27.0</td>\n      <td>  5100</td>\n      <td>  1714</td>\n      <td>  78540</td>\n      <td>  700461.0</td>\n    </tr>\n    <tr>\n      <th>20</th>\n      <td>   6</td>\n      <td> 06:35:00</td>\n      <td> 18:05:00</td>\n      <td> 11.0</td>\n      <td>  8100</td>\n      <td>  4167</td>\n      <td>  20400</td>\n      <td>  165625.0</td>\n    </tr>\n    <tr>\n      <th>21</th>\n      <td>   7</td>\n      <td> 06:35:00</td>\n      <td> 18:05:00</td>\n      <td> 11.0</td>\n      <td>  7800</td>\n      <td>  4167</td>\n      <td>  19800</td>\n      <td>  165044.0</td>\n    </tr>\n    <tr>\n      <th>22</th>\n      <td>  70</td>\n      <td> 05:55:00</td>\n      <td> 21:53:00</td>\n      <td> 28.0</td>\n      <td>  3000</td>\n      <td>  1934</td>\n      <td>  54420</td>\n      <td>  405263.0</td>\n    </tr>\n    <tr>\n      <th>23</th>\n      <td>  71</td>\n      <td> 05:55:00</td>\n      <td> 21:53:00</td>\n      <td> 29.0</td>\n      <td>  3000</td>\n      <td>  1929</td>\n      <td>  56520</td>\n      <td>  393211.0</td>\n    </tr>\n    <tr>\n      <th>24</th>\n      <td>  72</td>\n      <td> 05:55:00</td>\n      <td> 21:53:00</td>\n      <td> 28.0</td>\n      <td>  3360</td>\n      <td>  1929</td>\n      <td>  48480</td>\n      <td>  312881.0</td>\n    </tr>\n    <tr>\n      <th>25</th>\n      <td>  73</td>\n      <td> 06:00:00</td>\n      <td> 21:51:00</td>\n      <td> 29.0</td>\n      <td>  3240</td>\n      <td>  1914</td>\n      <td>  46620</td>\n      <td>  334863.0</td>\n    </tr>\n    <tr>\n      <th>26</th>\n      <td>  74</td>\n      <td> 06:45:00</td>\n      <td> 17:40:00</td>\n      <td> 13.0</td>\n      <td>  5400</td>\n      <td>  3191</td>\n      <td>  19500</td>\n      <td>  169074.0</td>\n    </tr>\n    <tr>\n      <th>27</th>\n      <td>  76</td>\n      <td> 05:47:00</td>\n      <td> 18:42:00</td>\n      <td> 12.0</td>\n      <td> 27000</td>\n      <td>  4950</td>\n      <td>  18000</td>\n      <td>  161268.0</td>\n    </tr>\n    <tr>\n      <th>28</th>\n      <td>  77</td>\n      <td> 05:57:00</td>\n      <td> 21:56:00</td>\n      <td> 22.0</td>\n      <td>  5100</td>\n      <td>  2546</td>\n      <td>  38160</td>\n      <td>     264.0</td>\n    </tr>\n    <tr>\n      <th>29</th>\n      <td>   8</td>\n      <td> 06:10:00</td>\n      <td> 22:02:00</td>\n      <td> 52.0</td>\n      <td>  2400</td>\n      <td>   973</td>\n      <td> 114420</td>\n      <td> 1159993.0</td>\n    </tr>\n    <tr>\n      <th>30</th>\n      <td>   9</td>\n      <td> 05:46:00</td>\n      <td> 22:31:00</td>\n      <td> 55.0</td>\n      <td>  3600</td>\n      <td>   993</td>\n      <td> 124500</td>\n      <td> 1099902.0</td>\n    </tr>\n    <tr>\n      <th>31</th>\n      <td> Man</td>\n      <td> 00:00:00</td>\n      <td> 23:35:00</td>\n      <td> 28.0</td>\n      <td>  6000</td>\n      <td>  2700</td>\n      <td>  25200</td>\n      <td>  161084.0</td>\n    </tr>\n    <tr>\n      <th>32</th>\n      <td> OL1</td>\n      <td> 06:15:00</td>\n      <td> 18:15:00</td>\n      <td> 12.0</td>\n      <td> 27000</td>\n      <td>  4050</td>\n      <td>  64800</td>\n      <td>  684092.0</td>\n    </tr>\n    <tr>\n      <th>33</th>\n      <td> OL2</td>\n      <td> 06:15:00</td>\n      <td> 18:15:00</td>\n      <td> 12.0</td>\n      <td> 27000</td>\n      <td>  4629</td>\n      <td>  64800</td>\n      <td>  682480.0</td>\n    </tr>\n  </tbody>\n</table>\n<p>34 rows \u00d7 8 columns</p>\n</div>",
       "metadata": {},
       "output_type": "pyout",
       "prompt_number": 5,
       "text": "   route_id min_start_time max_end_time  mean_daily_num_trips  max_headway  \\\n0         1       06:25:00     21:47:00                  26.0         4380   \n1        10       05:45:00     23:37:00                  89.0         1740   \n2        11       06:25:00     17:54:00                  16.0         3420   \n3        12       06:15:00     20:32:00                  21.0         4380   \n4        14       06:15:00     21:20:00                  17.0         3900   \n5        1h       07:18:00     19:19:00                  18.0         5400   \n6         2       06:25:00     19:03:00                  16.0         4440   \n7        21       07:20:00     17:50:00                   3.0        33300   \n8        22       07:10:00     17:50:00                   3.0        33600   \n9        24       06:25:00     19:02:00                  14.0         7200   \n10       25       07:10:00     17:55:00                   3.0        33600   \n11       28       06:05:00     18:25:00                   6.0        32400   \n12        3       06:25:00     19:04:00                  18.0         4200   \n13        4       06:30:00     24:32:00                  73.2         1980   \n14      440       09:15:00     15:15:00                   2.0        13500   \n15      445       06:05:00     18:55:00                   5.0        31200   \n16      446       06:30:00     18:30:00                   5.0        30000   \n17      447       06:15:00     18:40:00                   8.0        28800   \n18      450       07:05:00     16:25:00                   2.0        31200   \n19        5       06:24:00     18:52:00                  27.0         5100   \n20        6       06:35:00     18:05:00                  11.0         8100   \n21        7       06:35:00     18:05:00                  11.0         7800   \n22       70       05:55:00     21:53:00                  28.0         3000   \n23       71       05:55:00     21:53:00                  29.0         3000   \n24       72       05:55:00     21:53:00                  28.0         3360   \n25       73       06:00:00     21:51:00                  29.0         3240   \n26       74       06:45:00     17:40:00                  13.0         5400   \n27       76       05:47:00     18:42:00                  12.0        27000   \n28       77       05:57:00     21:56:00                  22.0         5100   \n29        8       06:10:00     22:02:00                  52.0         2400   \n30        9       05:46:00     22:31:00                  55.0         3600   \n31      Man       00:00:00     23:35:00                  28.0         6000   \n32      OL1       06:15:00     18:15:00                  12.0        27000   \n33      OL2       06:15:00     18:15:00                  12.0        27000   \n\n    mean_headway  mean_daily_duration  mean_daily_distance  \n0           2103                40020             234380.0  \n1            596               194976            1277661.0  \n2           2580                30360             212817.0  \n3           2550                47520             315462.0  \n4           3350                34800              88740.0  \n5           2576                16200             109674.0  \n6           3092                26880             188896.0  \n7          17850                 6300              52068.0  \n8          18150                 6600              51930.0  \n9           3655                21000                490.0  \n10         18000                 8100              71022.0  \n11          9450                19800             248283.0  \n12          2668                33840             242014.0  \n13           710               202728            1394770.8  \n14         13500                16200             197792.0  \n15         13100                16500             226491.0  \n16         12700                 9000             102740.0  \n17          6450                18000             222272.0  \n18         31200                 4800              59778.0  \n19          1714                78540             700461.0  \n20          4167                20400             165625.0  \n21          4167                19800             165044.0  \n22          1934                54420             405263.0  \n23          1929                56520             393211.0  \n24          1929                48480             312881.0  \n25          1914                46620             334863.0  \n26          3191                19500             169074.0  \n27          4950                18000             161268.0  \n28          2546                38160                264.0  \n29           973               114420            1159993.0  \n30           993               124500            1099902.0  \n31          2700                25200             161084.0  \n32          4050                64800             684092.0  \n33          4629                64800             682480.0  \n\n[34 rows x 8 columns]"
      }
     ],
     "prompt_number": 5
    },
    {
     "cell_type": "code",
     "collapsed": false,
     "input": "# Draw histograms for route headways\ncolors = ['red', 'blue'] \nalpha = 0.7\ncolumns = ['max_headway', 'mean_headway']\ntitles = ['Max Headway','Mean Headway']\nylabels = ['count', 'count']\nxlabels = ['minutes', 'minutes']\nbins = [[5*j for j in range(4*60//5)], [5*j for j in range(4*60//5)]]\nfig, axes = plt.subplots(nrows=1, ncols=2)\nfor (i, column) in enumerate(columns):\n    F = routes_stats[column]/60\n    F.hist(bins=bins[i], ax=axes[i], color=colors[i], alpha=alpha, figsize=(10, 5))\n    axes[i].set_title(titles[i])\n    axes[i].set_xlabel(xlabels[i])\n    axes[i].set_ylabel(ylabels[i])\n\nfig.tight_layout() # Or equivalently,  \"plt.tight_layout()\"\n",
     "language": "python",
     "metadata": {},
     "outputs": [
      {
       "metadata": {},
       "output_type": "display_data",
       "png": "[encoded data removed]",
       "text": "<matplotlib.figure.Figure at 0x1078fdf90>"
      }
     ],
     "prompt_number": 6
    },
    {
     "cell_type": "code",
     "collapsed": false,
     "input": "# Get routes time series for first workweek\nrts = feed.get_routes_time_series(trips_stats, dates)\nrts = downsample_routes_time_series(rts, freq='3H')\nrts['mean_daily_speed'].T.head()",
     "language": "python",
     "metadata": {},
     "outputs": [
      {
       "output_type": "stream",
       "stream": "stdout",
       "text": "2014-05-20 20:05:12.772831 Creating routes time series for 1463 trips...\nProgress 0.1%"
      },
      {
       "output_type": "stream",
       "stream": "stdout",
       "text": "\rProgress 0.1%\rProgress 0.2%\rProgress 0.3%\rProgress 0.3%\rProgress 0.4%\rProgress 0.5%\rProgress 0.5%\rProgress 0.6%"
      },
      {
       "output_type": "stream",
       "stream": "stdout",
       "text": "\rProgress 0.7%\rProgress 0.8%\rProgress 0.8%\rProgress 0.9%\rProgress 1.0%\rProgress 1.0%\rProgress 1.1%\rProgress 1.2%\rProgress 1.2%\rProgress 1.3%\rProgress 1.4%"
      },
      {
       "output_type": "stream",
       "stream": "stdout",
       "text": "\rProgress 1.4%\rProgress 1.5%\rProgress 1.6%\rProgress 1.6%\rProgress 1.7%\rProgress 1.8%\rProgress 1.8%\rProgress 1.9%\rProgress 2.0%\rProgress 2.1%\rProgress 2.1%\rProgress 2.2%\rProgress 2.3%"
      },
      {
       "output_type": "stream",
       "stream": "stdout",
       "text": "\rProgress 2.3%\rProgress 2.4%\rProgress 2.5%\rProgress 2.5%\rProgress 2.6%\rProgress 2.7%\rProgress 2.7%\rProgress 2.8%\rProgress 2.9%\rProgress 2.9%\rProgress 3.0%\rProgress 3.1%\rProgress 3.1%\rProgress 3.2%\rProgress 3.3%\rProgress 3.3%\rProgress 3.4%"
      },
      {
       "output_type": "stream",
       "stream": "stdout",
       "text": "\rProgress 3.5%\rProgress 3.6%\rProgress 3.6%\rProgress 3.7%\rProgress 3.8%\rProgress 3.8%\rProgress 3.9%\rProgress 4.0%"
      },
      {
       "output_type": "stream",
       "stream": "stdout",
       "text": "\rProgress 4.0%\rProgress 4.1%\rProgress 4.2%\rProgress 4.2%"
      },
      {
       "output_type": "stream",
       "stream": "stdout",
       "text": "\rProgress 4.3%\rProgress 4.4%\rProgress 4.4%\rProgress 4.5%"
      },
      {
       "output_type": "stream",
       "stream": "stdout",
       "text": "\rProgress 4.6%\rProgress 4.6%\rProgress 4.7%\rProgress 4.8%"
      },
      {
       "output_type": "stream",
       "stream": "stdout",
       "text": "\rProgress 4.9%\rProgress 4.9%\rProgress 5.0%\rProgress 5.1%"
      },
      {
       "output_type": "stream",
       "stream": "stdout",
       "text": "\rProgress 5.1%\rProgress 5.2%\rProgress 5.3%\rProgress 5.3%\rProgress 5.4%\rProgress 5.5%"
      },
      {
       "output_type": "stream",
       "stream": "stdout",
       "text": "\rProgress 5.5%\rProgress 5.6%\rProgress 5.7%\rProgress 5.7%\rProgress 5.8%"
      },
      {
       "output_type": "stream",
       "stream": "stdout",
       "text": "\rProgress 5.9%\rProgress 5.9%\rProgress 6.0%\rProgress 6.1%\rProgress 6.2%"
      },
      {
       "output_type": "stream",
       "stream": "stdout",
       "text": "\rProgress 6.2%\rProgress 6.3%\rProgress 6.4%\rProgress 6.4%\rProgress 6.5%\rProgress 6.6%\rProgress 6.6%\rProgress 6.7%\rProgress 6.8%\rProgress 6.8%\rProgress 6.9%\rProgress 7.0%\rProgress 7.0%"
      },
      {
       "output_type": "stream",
       "stream": "stdout",
       "text": "\rProgress 7.1%\rProgress 7.2%\rProgress 7.2%\rProgress 7.3%\rProgress 7.4%\rProgress 7.5%\rProgress 7.5%\rProgress 7.6%\rProgress 7.7%\rProgress 7.7%\rProgress 7.8%\rProgress 7.9%\rProgress 7.9%\rProgress 8.0%"
      },
      {
       "output_type": "stream",
       "stream": "stdout",
       "text": "\rProgress 8.1%\rProgress 8.1%\rProgress 8.2%\rProgress 8.3%\rProgress 8.3%\rProgress 8.4%\rProgress 8.5%\rProgress 8.5%\rProgress 8.6%\rProgress 8.7%\rProgress 8.7%\rProgress 8.8%\rProgress 8.9%\rProgress 9.0%\rProgress 9.0%\rProgress 9.1%\rProgress 9.2%"
      },
      {
       "output_type": "stream",
       "stream": "stdout",
       "text": "\rProgress 9.2%\rProgress 9.3%\rProgress 9.4%\rProgress 9.4%\rProgress 9.5%\rProgress 9.6%\rProgress 9.6%\rProgress 9.7%\rProgress 9.8%\rProgress 9.8%\rProgress 9.9%\rProgress 10.0%\rProgress 10.0%\rProgress 10.1%\rProgress 10.2%\rProgress 10.3%\rProgress 10.3%\rProgress 10.4%"
      },
      {
       "output_type": "stream",
       "stream": "stdout",
       "text": "\rProgress 10.5%\rProgress 10.5%\rProgress 10.6%\rProgress 10.7%\rProgress 10.7%\rProgress 10.8%\rProgress 10.9%\rProgress 10.9%\rProgress 11.0%\rProgress 11.1%\rProgress 11.1%\rProgress 11.2%\rProgress 11.3%\rProgress 11.3%\rProgress 11.4%\rProgress 11.5%\rProgress 11.6%"
      },
      {
       "output_type": "stream",
       "stream": "stdout",
       "text": "\rProgress 11.6%\rProgress 11.7%\rProgress 11.8%\rProgress 11.8%\rProgress 11.9%\rProgress 12.0%\rProgress 12.0%\rProgress 12.1%\rProgress 12.2%\rProgress 12.2%\rProgress 12.3%\rProgress 12.4%\rProgress 12.4%\rProgress 12.5%\rProgress 12.6%\rProgress 12.6%\rProgress 12.7%"
      },
      {
       "output_type": "stream",
       "stream": "stdout",
       "text": "\rProgress 12.8%\rProgress 12.9%\rProgress 12.9%\rProgress 13.0%\rProgress 13.1%\rProgress 13.1%\rProgress 13.2%\rProgress 13.3%\rProgress 13.3%\rProgress 13.4%\rProgress 13.5%"
      },
      {
       "output_type": "stream",
       "stream": "stdout",
       "text": "\rProgress 13.5%\rProgress 13.6%\rProgress 13.7%\rProgress 13.7%"
      },
      {
       "output_type": "stream",
       "stream": "stdout",
       "text": "\rProgress 13.8%\rProgress 13.9%\rProgress 13.9%\rProgress 14.0%"
      },
      {
       "output_type": "stream",
       "stream": "stdout",
       "text": "\rProgress 14.1%\rProgress 14.1%\rProgress 14.2%\rProgress 14.3%\rProgress 14.4%"
      },
      {
       "output_type": "stream",
       "stream": "stdout",
       "text": "\rProgress 14.4%\rProgress 14.5%\rProgress 14.6%\rProgress 14.6%\rProgress 14.7%\rProgress 14.8%\rProgress 14.8%"
      },
      {
       "output_type": "stream",
       "stream": "stdout",
       "text": "\rProgress 14.9%\rProgress 15.0%\rProgress 15.0%\rProgress 15.1%"
      },
      {
       "output_type": "stream",
       "stream": "stdout",
       "text": "\rProgress 15.2%\rProgress 15.2%\rProgress 15.3%\rProgress 15.4%\rProgress 15.4%\rProgress 15.5%\rProgress 15.6%\rProgress 15.7%\rProgress 15.7%\rProgress 15.8%"
      },
      {
       "output_type": "stream",
       "stream": "stdout",
       "text": "\rProgress 15.9%\rProgress 15.9%\rProgress 16.0%\rProgress 16.1%"
      },
      {
       "output_type": "stream",
       "stream": "stdout",
       "text": "\rProgress 16.1%\rProgress 16.2%\rProgress 16.3%\rProgress 16.3%\rProgress 16.4%\rProgress 16.5%"
      },
      {
       "output_type": "stream",
       "stream": "stdout",
       "text": "\rProgress 16.5%\rProgress 16.6%\rProgress 16.7%\rProgress 16.7%\rProgress 16.8%\rProgress 16.9%"
      },
      {
       "output_type": "stream",
       "stream": "stdout",
       "text": "\rProgress 17.0%\rProgress 17.0%\rProgress 17.1%\rProgress 17.2%\rProgress 17.2%"
      },
      {
       "output_type": "stream",
       "stream": "stdout",
       "text": "\rProgress 17.3%\rProgress 17.4%\rProgress 17.4%\rProgress 17.5%\rProgress 17.6%\rProgress 17.6%\rProgress 17.7%\rProgress 17.8%\rProgress 17.8%\rProgress 17.9%"
      },
      {
       "output_type": "stream",
       "stream": "stdout",
       "text": "\rProgress 18.0%\rProgress 18.0%\rProgress 18.1%\rProgress 18.2%\rProgress 18.3%\rProgress 18.3%\rProgress 18.4%"
      },
      {
       "output_type": "stream",
       "stream": "stdout",
       "text": "\rProgress 18.5%\rProgress 18.5%\rProgress 18.6%\rProgress 18.7%\rProgress 18.7%\rProgress 18.8%\rProgress 18.9%\rProgress 18.9%\rProgress 19.0%\rProgress 19.1%\rProgress 19.1%\rProgress 19.2%"
      },
      {
       "output_type": "stream",
       "stream": "stdout",
       "text": "\rProgress 19.3%\rProgress 19.3%\rProgress 19.4%\rProgress 19.5%\rProgress 19.5%\rProgress 19.6%\rProgress 19.7%"
      },
      {
       "output_type": "stream",
       "stream": "stdout",
       "text": "\rProgress 19.8%\rProgress 19.8%\rProgress 19.9%\rProgress 20.0%\rProgress 20.0%\rProgress 20.1%\rProgress 20.2%\rProgress 20.2%"
      },
      {
       "output_type": "stream",
       "stream": "stdout",
       "text": "\rProgress 20.3%\rProgress 20.4%\rProgress 20.4%\rProgress 20.5%\rProgress 20.6%\rProgress 20.6%\rProgress 20.7%\rProgress 20.8%\rProgress 20.8%\rProgress 20.9%\rProgress 21.0%"
      },
      {
       "output_type": "stream",
       "stream": "stdout",
       "text": "\rProgress 21.1%\rProgress 21.1%\rProgress 21.2%\rProgress 21.3%\rProgress 21.3%\rProgress 21.4%\rProgress 21.5%\rProgress 21.5%\rProgress 21.6%\rProgress 21.7%"
      },
      {
       "output_type": "stream",
       "stream": "stdout",
       "text": "\rProgress 21.7%\rProgress 21.8%\rProgress 21.9%\rProgress 21.9%\rProgress 22.0%\rProgress 22.1%\rProgress 22.1%\rProgress 22.2%\rProgress 22.3%\rProgress 22.4%\rProgress 22.4%\rProgress 22.5%\rProgress 22.6%\rProgress 22.6%\rProgress 22.7%\rProgress 22.8%\rProgress 22.8%"
      },
      {
       "output_type": "stream",
       "stream": "stdout",
       "text": "\rProgress 22.9%\rProgress 23.0%\rProgress 23.0%\rProgress 23.1%\rProgress 23.2%\rProgress 23.2%\rProgress 23.3%\rProgress 23.4%\rProgress 23.4%\rProgress 23.5%\rProgress 23.6%\rProgress 23.7%\rProgress 23.7%\rProgress 23.8%\rProgress 23.9%\rProgress 23.9%"
      },
      {
       "output_type": "stream",
       "stream": "stdout",
       "text": "\rProgress 24.0%\rProgress 24.1%\rProgress 24.1%\rProgress 24.2%\rProgress 24.3%\rProgress 24.3%\rProgress 24.4%\rProgress 24.5%\rProgress 24.5%\rProgress 24.6%"
      },
      {
       "output_type": "stream",
       "stream": "stdout",
       "text": "\rProgress 24.7%\rProgress 24.7%\rProgress 24.8%\rProgress 24.9%\rProgress 24.9%\rProgress 25.0%\rProgress 25.1%\rProgress 25.2%\rProgress 25.2%\rProgress 25.3%"
      },
      {
       "output_type": "stream",
       "stream": "stdout",
       "text": "\rProgress 25.4%\rProgress 25.4%\rProgress 25.5%\rProgress 25.6%\rProgress 25.6%\rProgress 25.7%\rProgress 25.8%\rProgress 25.8%\rProgress 25.9%\rProgress 26.0%"
      },
      {
       "output_type": "stream",
       "stream": "stdout",
       "text": "\rProgress 26.0%\rProgress 26.1%\rProgress 26.2%\rProgress 26.2%\rProgress 26.3%\rProgress 26.4%\rProgress 26.5%\rProgress 26.5%"
      },
      {
       "output_type": "stream",
       "stream": "stdout",
       "text": "\rProgress 26.6%\rProgress 26.7%\rProgress 26.7%\rProgress 26.8%\rProgress 26.9%\rProgress 26.9%\rProgress 27.0%\rProgress 27.1%\rProgress 27.1%"
      },
      {
       "output_type": "stream",
       "stream": "stdout",
       "text": "\rProgress 27.2%\rProgress 27.3%\rProgress 27.3%\rProgress 27.4%\rProgress 27.5%\rProgress 27.5%\rProgress 27.6%"
      },
      {
       "output_type": "stream",
       "stream": "stdout",
       "text": "\rProgress 27.7%\rProgress 27.8%\rProgress 27.8%\rProgress 27.9%\rProgress 28.0%\rProgress 28.0%\rProgress 28.1%"
      },
      {
       "output_type": "stream",
       "stream": "stdout",
       "text": "\rProgress 28.2%\rProgress 28.2%\rProgress 28.3%\rProgress 28.4%\rProgress 28.4%\rProgress 28.5%\rProgress 28.6%\rProgress 28.6%\rProgress 28.7%\rProgress 28.8%\rProgress 28.8%"
      },
      {
       "output_type": "stream",
       "stream": "stdout",
       "text": "\rProgress 28.9%\rProgress 29.0%\rProgress 29.0%\rProgress 29.1%\rProgress 29.2%\rProgress 29.3%\rProgress 29.3%"
      },
      {
       "output_type": "stream",
       "stream": "stdout",
       "text": "\rProgress 29.4%\rProgress 29.5%\rProgress 29.5%\rProgress 29.6%\rProgress 29.7%\rProgress 29.7%"
      },
      {
       "output_type": "stream",
       "stream": "stdout",
       "text": "\rProgress 29.8%\rProgress 29.9%\rProgress 29.9%\rProgress 30.0%\rProgress 30.1%\rProgress 30.1%\rProgress 30.2%"
      },
      {
       "output_type": "stream",
       "stream": "stdout",
       "text": "\rProgress 30.3%\rProgress 30.3%\rProgress 30.4%\rProgress 30.5%\rProgress 30.6%\rProgress 30.6%\rProgress 30.7%\rProgress 30.8%\rProgress 30.8%"
      },
      {
       "output_type": "stream",
       "stream": "stdout",
       "text": "\rProgress 30.9%\rProgress 31.0%\rProgress 31.0%\rProgress 31.1%\rProgress 31.2%\rProgress 31.2%\rProgress 31.3%"
      },
      {
       "output_type": "stream",
       "stream": "stdout",
       "text": "\rProgress 31.4%\rProgress 31.4%\rProgress 31.5%\rProgress 31.6%\rProgress 31.6%\rProgress 31.7%\rProgress 31.8%\rProgress 31.9%\rProgress 31.9%\rProgress 32.0%\rProgress 32.1%\rProgress 32.1%\rProgress 32.2%\rProgress 32.3%\rProgress 32.3%"
      },
      {
       "output_type": "stream",
       "stream": "stdout",
       "text": "\rProgress 32.4%\rProgress 32.5%\rProgress 32.5%\rProgress 32.6%\rProgress 32.7%\rProgress 32.7%\rProgress 32.8%\rProgress 32.9%\rProgress 32.9%\rProgress 33.0%\rProgress 33.1%\rProgress 33.2%\rProgress 33.2%\rProgress 33.3%\rProgress 33.4%\rProgress 33.4%\rProgress 33.5%"
      },
      {
       "output_type": "stream",
       "stream": "stdout",
       "text": "\rProgress 33.6%\rProgress 33.6%\rProgress 33.7%\rProgress 33.8%\rProgress 33.8%\rProgress 33.9%\rProgress 34.0%\rProgress 34.0%\rProgress 34.1%\rProgress 34.2%\rProgress 34.2%\rProgress 34.3%\rProgress 34.4%\rProgress 34.4%\rProgress 34.5%\rProgress 34.6%\rProgress 34.7%"
      },
      {
       "output_type": "stream",
       "stream": "stdout",
       "text": "\rProgress 34.7%\rProgress 34.8%\rProgress 34.9%\rProgress 34.9%\rProgress 35.0%\rProgress 35.1%\rProgress 35.1%\rProgress 35.2%\rProgress 35.3%\rProgress 35.3%\rProgress 35.4%\rProgress 35.5%\rProgress 35.5%\rProgress 35.6%\rProgress 35.7%\rProgress 35.7%\rProgress 35.8%"
      },
      {
       "output_type": "stream",
       "stream": "stdout",
       "text": "\rProgress 35.9%\rProgress 36.0%\rProgress 36.0%\rProgress 36.1%\rProgress 36.2%\rProgress 36.2%\rProgress 36.3%\rProgress 36.4%\rProgress 36.4%\rProgress 36.5%\rProgress 36.6%\rProgress 36.6%\rProgress 36.7%\rProgress 36.8%\rProgress 36.8%"
      },
      {
       "output_type": "stream",
       "stream": "stdout",
       "text": "\rProgress 36.9%\rProgress 37.0%\rProgress 37.0%\rProgress 37.1%\rProgress 37.2%\rProgress 37.3%\rProgress 37.3%\rProgress 37.4%\rProgress 37.5%"
      },
      {
       "output_type": "stream",
       "stream": "stdout",
       "text": "\rProgress 37.5%\rProgress 37.6%\rProgress 37.7%\rProgress 37.7%\rProgress 37.8%\rProgress 37.9%\rProgress 37.9%\rProgress 38.0%"
      },
      {
       "output_type": "stream",
       "stream": "stdout",
       "text": "\rProgress 38.1%\rProgress 38.1%\rProgress 38.2%\rProgress 38.3%\rProgress 38.3%\rProgress 38.4%\rProgress 38.5%\rProgress 38.6%"
      },
      {
       "output_type": "stream",
       "stream": "stdout",
       "text": "\rProgress 38.6%\rProgress 38.7%\rProgress 38.8%\rProgress 38.8%\rProgress 38.9%\rProgress 39.0%\rProgress 39.0%\rProgress 39.1%\rProgress 39.2%"
      },
      {
       "output_type": "stream",
       "stream": "stdout",
       "text": "\rProgress 39.2%\rProgress 39.3%\rProgress 39.4%\rProgress 39.4%\rProgress 39.5%\rProgress 39.6%"
      },
      {
       "output_type": "stream",
       "stream": "stdout",
       "text": "\rProgress 39.6%\rProgress 39.7%\rProgress 39.8%\rProgress 39.8%\rProgress 39.9%\rProgress 40.0%\rProgress 40.1%\rProgress 40.1%"
      },
      {
       "output_type": "stream",
       "stream": "stdout",
       "text": "\rProgress 40.2%\rProgress 40.3%\rProgress 40.3%\rProgress 40.4%\rProgress 40.5%\rProgress 40.5%\rProgress 40.6%\rProgress 40.7%\rProgress 40.7%"
      },
      {
       "output_type": "stream",
       "stream": "stdout",
       "text": "\rProgress 40.8%\rProgress 40.9%\rProgress 40.9%\rProgress 41.0%\rProgress 41.1%\rProgress 41.1%\rProgress 41.2%\rProgress 41.3%\rProgress 41.4%"
      },
      {
       "output_type": "stream",
       "stream": "stdout",
       "text": "\rProgress 41.4%\rProgress 41.5%\rProgress 41.6%\rProgress 41.6%\rProgress 41.7%\rProgress 41.8%\rProgress 41.8%\rProgress 41.9%\rProgress 42.0%\rProgress 42.0%"
      },
      {
       "output_type": "stream",
       "stream": "stdout",
       "text": "\rProgress 42.1%\rProgress 42.2%\rProgress 42.2%\rProgress 42.3%\rProgress 42.4%\rProgress 42.4%\rProgress 42.5%\rProgress 42.6%\rProgress 42.7%"
      },
      {
       "output_type": "stream",
       "stream": "stdout",
       "text": "\rProgress 42.7%\rProgress 42.8%\rProgress 42.9%\rProgress 42.9%\rProgress 43.0%\rProgress 43.1%\rProgress 43.1%\rProgress 43.2%"
      },
      {
       "output_type": "stream",
       "stream": "stdout",
       "text": "\rProgress 43.3%\rProgress 43.3%\rProgress 43.4%\rProgress 43.5%\rProgress 43.5%\rProgress 43.6%\rProgress 43.7%\rProgress 43.7%"
      },
      {
       "output_type": "stream",
       "stream": "stdout",
       "text": "\rProgress 43.8%\rProgress 43.9%\rProgress 44.0%\rProgress 44.0%\rProgress 44.1%\rProgress 44.2%\rProgress 44.2%\rProgress 44.3%\rProgress 44.4%"
      },
      {
       "output_type": "stream",
       "stream": "stdout",
       "text": "\rProgress 44.4%\rProgress 44.5%\rProgress 44.6%\rProgress 44.6%\rProgress 44.7%\rProgress 44.8%\rProgress 44.8%\rProgress 44.9%\rProgress 45.0%\rProgress 45.0%"
      },
      {
       "output_type": "stream",
       "stream": "stdout",
       "text": "\rProgress 45.1%\rProgress 45.2%\rProgress 45.2%\rProgress 45.3%\rProgress 45.4%\rProgress 45.5%\rProgress 45.5%\rProgress 45.6%\rProgress 45.7%\rProgress 45.7%\rProgress 45.8%"
      },
      {
       "output_type": "stream",
       "stream": "stdout",
       "text": "\rProgress 45.9%\rProgress 45.9%\rProgress 46.0%\rProgress 46.1%\rProgress 46.1%"
      },
      {
       "output_type": "stream",
       "stream": "stdout",
       "text": "\rProgress 46.2%\rProgress 46.3%\rProgress 46.3%\rProgress 46.4%\rProgress 46.5%\rProgress 46.5%"
      },
      {
       "output_type": "stream",
       "stream": "stdout",
       "text": "\rProgress 46.6%\rProgress 46.7%\rProgress 46.8%\rProgress 46.8%\rProgress 46.9%"
      },
      {
       "output_type": "stream",
       "stream": "stdout",
       "text": "\rProgress 47.0%\rProgress 47.0%\rProgress 47.1%\rProgress 47.2%\rProgress 47.2%\rProgress 47.3%"
      },
      {
       "output_type": "stream",
       "stream": "stdout",
       "text": "\rProgress 47.4%\rProgress 47.4%\rProgress 47.5%\rProgress 47.6%\rProgress 47.6%\rProgress 47.7%\rProgress 47.8%\rProgress 47.8%\rProgress 47.9%"
      },
      {
       "output_type": "stream",
       "stream": "stdout",
       "text": "\rProgress 48.0%\rProgress 48.1%\rProgress 48.1%\rProgress 48.2%\rProgress 48.3%"
      },
      {
       "output_type": "stream",
       "stream": "stdout",
       "text": "\rProgress 48.3%\rProgress 48.4%\rProgress 48.5%\rProgress 48.5%\rProgress 48.6%\rProgress 48.7%"
      },
      {
       "output_type": "stream",
       "stream": "stdout",
       "text": "\rProgress 48.7%\rProgress 48.8%\rProgress 48.9%\rProgress 48.9%"
      },
      {
       "output_type": "stream",
       "stream": "stdout",
       "text": "\rProgress 49.0%\rProgress 49.1%\rProgress 49.1%\rProgress 49.2%\rProgress 49.3%\rProgress 49.4%"
      },
      {
       "output_type": "stream",
       "stream": "stdout",
       "text": "\rProgress 49.4%\r2014-05-20 20:05:37.154906 Finished routes time series in 0.40 min\n"
      },
      {
       "html": "<div style=\"max-height:1000px;max-width:1500px;overflow:auto;\">\n<table border=\"1\" class=\"dataframe\">\n  <thead>\n    <tr style=\"text-align: right;\">\n      <th></th>\n      <th>2000-01-01 00:00:00</th>\n      <th>2000-01-01 03:00:00</th>\n      <th>2000-01-01 06:00:00</th>\n      <th>2000-01-01 09:00:00</th>\n      <th>2000-01-01 12:00:00</th>\n      <th>2000-01-01 15:00:00</th>\n      <th>2000-01-01 18:00:00</th>\n      <th>2000-01-01 21:00:00</th>\n    </tr>\n  </thead>\n  <tbody>\n    <tr>\n      <th>1</th>\n      <td>NaN</td>\n      <td>      NaN</td>\n      <td> 5.873077</td>\n      <td> 5.873077</td>\n      <td> 5.873077</td>\n      <td> 5.873077</td>\n      <td> 5.873077</td>\n      <td> 5.394426</td>\n    </tr>\n    <tr>\n      <th>10</th>\n      <td>NaN</td>\n      <td> 6.638426</td>\n      <td> 6.439032</td>\n      <td> 6.575685</td>\n      <td> 6.640693</td>\n      <td> 6.469730</td>\n      <td> 6.619318</td>\n      <td> 6.739783</td>\n    </tr>\n    <tr>\n      <th>11</th>\n      <td>NaN</td>\n      <td>      NaN</td>\n      <td> 6.787549</td>\n      <td> 7.247607</td>\n      <td> 7.161986</td>\n      <td> 6.795588</td>\n      <td>      NaN</td>\n      <td>      NaN</td>\n    </tr>\n    <tr>\n      <th>12</th>\n      <td>NaN</td>\n      <td>      NaN</td>\n      <td> 6.419658</td>\n      <td> 6.588596</td>\n      <td> 6.712910</td>\n      <td> 6.728816</td>\n      <td> 6.766667</td>\n      <td>      NaN</td>\n    </tr>\n    <tr>\n      <th>14</th>\n      <td>NaN</td>\n      <td>      NaN</td>\n      <td> 1.548542</td>\n      <td> 2.494782</td>\n      <td> 3.077083</td>\n      <td> 2.567569</td>\n      <td> 3.077083</td>\n      <td> 3.077083</td>\n    </tr>\n  </tbody>\n</table>\n<p>5 rows \u00d7 8 columns</p>\n</div>",
       "metadata": {},
       "output_type": "pyout",
       "prompt_number": 11,
       "text": "    2000-01-01 00:00:00  2000-01-01 03:00:00  2000-01-01 06:00:00  \\\n1                   NaN                  NaN             5.873077   \n10                  NaN             6.638426             6.439032   \n11                  NaN                  NaN             6.787549   \n12                  NaN                  NaN             6.419658   \n14                  NaN                  NaN             1.548542   \n\n    2000-01-01 09:00:00  2000-01-01 12:00:00  2000-01-01 15:00:00  \\\n1              5.873077             5.873077             5.873077   \n10             6.575685             6.640693             6.469730   \n11             7.247607             7.161986             6.795588   \n12             6.588596             6.712910             6.728816   \n14             2.494782             3.077083             2.567569   \n\n    2000-01-01 18:00:00  2000-01-01 21:00:00  \n1              5.873077             5.394426  \n10             6.619318             6.739783  \n11                  NaN                  NaN  \n12             6.766667                  NaN  \n14             3.077083             3.077083  \n\n[5 rows x 8 columns]"
      }
     ],
     "prompt_number": 11
    },
    {
     "cell_type": "code",
     "collapsed": false,
     "input": "# Get stops stats for first workweek of feed\ndates = feed.get_first_week()[:5]\nstops_stats = feed.get_stops_stats(dates)\nstops_stats",
     "language": "python",
     "metadata": {},
     "outputs": [
      {
       "output_type": "stream",
       "stream": "stdout",
       "text": "2014-05-20 19:59:33.108798 Calculating stops stats...\n2014-05-20 19:59:51.458189"
      },
      {
       "output_type": "stream",
       "stream": "stdout",
       "text": " Finished stops stats in 0.30 min\n"
      },
      {
       "html": "<div style=\"max-height:1000px;max-width:1500px;overflow:auto;\">\n<table border=\"1\" class=\"dataframe\">\n  <thead>\n    <tr style=\"text-align: right;\">\n      <th></th>\n      <th>stop_id</th>\n      <th>min_start_time</th>\n      <th>max_end_time</th>\n      <th>mean_daily_num_vehicles</th>\n      <th>max_headway</th>\n      <th>mean_headway</th>\n    </tr>\n  </thead>\n  <tbody>\n    <tr>\n      <th>0 </th>\n      <td> OOBUS003</td>\n      <td> 06:15:00</td>\n      <td> 23:05:00</td>\n      <td> 256.8</td>\n      <td> 1440</td>\n      <td>  200</td>\n    </tr>\n    <tr>\n      <th>1 </th>\n      <td> OOBUS004</td>\n      <td> 06:27:00</td>\n      <td> 20:42:00</td>\n      <td>  27.0</td>\n      <td> 4380</td>\n      <td> 1903</td>\n    </tr>\n    <tr>\n      <th>2 </th>\n      <td> OOBUS005</td>\n      <td> 06:28:00</td>\n      <td> 20:43:00</td>\n      <td>  25.0</td>\n      <td> 4380</td>\n      <td> 2103</td>\n    </tr>\n    <tr>\n      <th>3 </th>\n      <td> OOBUS006</td>\n      <td> 06:29:00</td>\n      <td> 20:44:00</td>\n      <td>  25.0</td>\n      <td> 4380</td>\n      <td> 2094</td>\n    </tr>\n    <tr>\n      <th>4 </th>\n      <td> OOBUS007</td>\n      <td> 06:30:00</td>\n      <td> 20:45:00</td>\n      <td>  25.0</td>\n      <td> 4380</td>\n      <td> 2094</td>\n    </tr>\n    <tr>\n      <th>5 </th>\n      <td> OOBUS008</td>\n      <td> 06:31:00</td>\n      <td> 20:46:00</td>\n      <td>  45.0</td>\n      <td> 2040</td>\n      <td> 1091</td>\n    </tr>\n    <tr>\n      <th>6 </th>\n      <td> OOBUS009</td>\n      <td> 06:32:00</td>\n      <td> 21:37:00</td>\n      <td>  47.0</td>\n      <td> 2040</td>\n      <td> 1064</td>\n    </tr>\n    <tr>\n      <th>7 </th>\n      <td> OOBUS010</td>\n      <td> 06:33:00</td>\n      <td> 20:48:00</td>\n      <td>  26.0</td>\n      <td> 4380</td>\n      <td> 1994</td>\n    </tr>\n    <tr>\n      <th>8 </th>\n      <td> OOBUS011</td>\n      <td> 06:34:00</td>\n      <td> 20:49:00</td>\n      <td>  44.0</td>\n      <td> 2040</td>\n      <td> 1119</td>\n    </tr>\n    <tr>\n      <th>9 </th>\n      <td> OOBUS012</td>\n      <td> 06:35:00</td>\n      <td> 20:50:00</td>\n      <td>  44.0</td>\n      <td> 2040</td>\n      <td> 1119</td>\n    </tr>\n    <tr>\n      <th>10</th>\n      <td> OOBUS013</td>\n      <td> 06:37:00</td>\n      <td> 20:52:00</td>\n      <td>  44.0</td>\n      <td> 2040</td>\n      <td> 1119</td>\n    </tr>\n    <tr>\n      <th>11</th>\n      <td> OOBUS014</td>\n      <td> 06:38:00</td>\n      <td> 20:53:00</td>\n      <td>  25.0</td>\n      <td> 4380</td>\n      <td> 2094</td>\n    </tr>\n    <tr>\n      <th>12</th>\n      <td> OOBUS015</td>\n      <td> 06:40:00</td>\n      <td> 20:55:00</td>\n      <td>  25.0</td>\n      <td> 4380</td>\n      <td> 2094</td>\n    </tr>\n    <tr>\n      <th>13</th>\n      <td> OOBUS016</td>\n      <td> 06:42:00</td>\n      <td> 20:57:00</td>\n      <td>  25.0</td>\n      <td> 4380</td>\n      <td> 2094</td>\n    </tr>\n    <tr>\n      <th>14</th>\n      <td> OOBUS017</td>\n      <td> 06:45:00</td>\n      <td> 21:00:00</td>\n      <td>  25.0</td>\n      <td> 4380</td>\n      <td> 2094</td>\n    </tr>\n    <tr>\n      <th>15</th>\n      <td> OOBUS018</td>\n      <td> 06:46:00</td>\n      <td> 21:01:00</td>\n      <td>  25.0</td>\n      <td> 4380</td>\n      <td> 2094</td>\n    </tr>\n    <tr>\n      <th>16</th>\n      <td> OOBUS019</td>\n      <td> 06:48:00</td>\n      <td> 21:03:00</td>\n      <td>  25.0</td>\n      <td> 4380</td>\n      <td> 2094</td>\n    </tr>\n    <tr>\n      <th>17</th>\n      <td> OOBUS020</td>\n      <td> 06:35:00</td>\n      <td> 24:28:00</td>\n      <td>  98.2</td>\n      <td> 2220</td>\n      <td>  535</td>\n    </tr>\n    <tr>\n      <th>18</th>\n      <td> OOBUS021</td>\n      <td> 06:50:00</td>\n      <td> 24:30:00</td>\n      <td>  59.8</td>\n      <td> 2760</td>\n      <td>  856</td>\n    </tr>\n    <tr>\n      <th>19</th>\n      <td> OOBUS023</td>\n      <td> 06:28:00</td>\n      <td> 18:40:00</td>\n      <td>  15.0</td>\n      <td> 7200</td>\n      <td> 3350</td>\n    </tr>\n    <tr>\n      <th>20</th>\n      <td> OOBUS024</td>\n      <td> 06:29:00</td>\n      <td> 18:41:00</td>\n      <td>  14.0</td>\n      <td> 7200</td>\n      <td> 3655</td>\n    </tr>\n    <tr>\n      <th>21</th>\n      <td> OOBUS025</td>\n      <td> 06:26:00</td>\n      <td> 18:43:00</td>\n      <td>  30.0</td>\n      <td> 4200</td>\n      <td> 1620</td>\n    </tr>\n    <tr>\n      <th>22</th>\n      <td> OOBUS026</td>\n      <td> 06:27:00</td>\n      <td> 18:37:00</td>\n      <td>  16.0</td>\n      <td> 4440</td>\n      <td> 3092</td>\n    </tr>\n    <tr>\n      <th>23</th>\n      <td> OOBUS027</td>\n      <td> 06:28:00</td>\n      <td> 18:38:00</td>\n      <td>  17.0</td>\n      <td> 4440</td>\n      <td> 2871</td>\n    </tr>\n    <tr>\n      <th>24</th>\n      <td> OOBUS028</td>\n      <td> 06:29:00</td>\n      <td> 18:39:00</td>\n      <td>  19.0</td>\n      <td> 4440</td>\n      <td> 2513</td>\n    </tr>\n    <tr>\n      <th>25</th>\n      <td> OOBUS029</td>\n      <td> 06:30:00</td>\n      <td> 18:40:00</td>\n      <td>  19.0</td>\n      <td> 4440</td>\n      <td> 2471</td>\n    </tr>\n    <tr>\n      <th>26</th>\n      <td> OOBUS030</td>\n      <td> 06:31:00</td>\n      <td> 18:41:00</td>\n      <td>  19.0</td>\n      <td> 4440</td>\n      <td> 2471</td>\n    </tr>\n    <tr>\n      <th>27</th>\n      <td> OOBUS031</td>\n      <td> 06:32:00</td>\n      <td> 18:42:00</td>\n      <td>  19.0</td>\n      <td> 4440</td>\n      <td> 2471</td>\n    </tr>\n    <tr>\n      <th>28</th>\n      <td> OOBUS032</td>\n      <td> 06:33:00</td>\n      <td> 18:43:00</td>\n      <td>  19.0</td>\n      <td> 4440</td>\n      <td> 2471</td>\n    </tr>\n    <tr>\n      <th>29</th>\n      <td> OOBUS033</td>\n      <td> 06:34:00</td>\n      <td> 18:44:00</td>\n      <td>  19.0</td>\n      <td> 4440</td>\n      <td> 2471</td>\n    </tr>\n    <tr>\n      <th>30</th>\n      <td> OOBUS034</td>\n      <td> 06:34:30</td>\n      <td> 18:44:30</td>\n      <td>  19.0</td>\n      <td> 4440</td>\n      <td> 2471</td>\n    </tr>\n    <tr>\n      <th>31</th>\n      <td> OOBUS035</td>\n      <td> 06:35:00</td>\n      <td> 18:45:00</td>\n      <td>  19.0</td>\n      <td> 4440</td>\n      <td> 2471</td>\n    </tr>\n    <tr>\n      <th>32</th>\n      <td> OOBUS036</td>\n      <td> 06:36:00</td>\n      <td> 18:46:00</td>\n      <td>  19.0</td>\n      <td> 4440</td>\n      <td> 2471</td>\n    </tr>\n    <tr>\n      <th>33</th>\n      <td> OOBUS037</td>\n      <td> 06:21:00</td>\n      <td> 22:00:00</td>\n      <td>  66.0</td>\n      <td> 2100</td>\n      <td>  794</td>\n    </tr>\n    <tr>\n      <th>34</th>\n      <td> OOBUS038</td>\n      <td> 06:22:00</td>\n      <td> 20:02:00</td>\n      <td>  37.0</td>\n      <td> 2580</td>\n      <td> 1355</td>\n    </tr>\n    <tr>\n      <th>35</th>\n      <td> OOBUS039</td>\n      <td> 06:39:00</td>\n      <td> 18:49:00</td>\n      <td>  16.0</td>\n      <td> 4440</td>\n      <td> 3000</td>\n    </tr>\n    <tr>\n      <th>36</th>\n      <td> OOBUS040</td>\n      <td> 06:40:00</td>\n      <td> 18:50:00</td>\n      <td>  16.0</td>\n      <td> 4440</td>\n      <td> 3000</td>\n    </tr>\n    <tr>\n      <th>37</th>\n      <td> OOBUS041</td>\n      <td> 06:42:00</td>\n      <td> 18:52:00</td>\n      <td>  16.0</td>\n      <td> 4440</td>\n      <td> 3000</td>\n    </tr>\n    <tr>\n      <th>38</th>\n      <td> OOBUS042</td>\n      <td> 06:43:00</td>\n      <td> 18:53:00</td>\n      <td>  16.0</td>\n      <td> 4440</td>\n      <td> 3000</td>\n    </tr>\n    <tr>\n      <th>39</th>\n      <td> OOBUS043</td>\n      <td> 06:45:00</td>\n      <td> 18:55:00</td>\n      <td>  16.0</td>\n      <td> 4440</td>\n      <td> 3000</td>\n    </tr>\n    <tr>\n      <th>40</th>\n      <td> OOBUS044</td>\n      <td> 06:46:00</td>\n      <td> 18:56:00</td>\n      <td>  16.0</td>\n      <td> 4440</td>\n      <td> 3000</td>\n    </tr>\n    <tr>\n      <th>41</th>\n      <td> OOBUS046</td>\n      <td> 06:19:00</td>\n      <td> 23:35:00</td>\n      <td> 155.6</td>\n      <td> 1380</td>\n      <td>  325</td>\n    </tr>\n    <tr>\n      <th>42</th>\n      <td> OOBUS047</td>\n      <td> 06:20:00</td>\n      <td> 23:36:00</td>\n      <td> 156.6</td>\n      <td> 1380</td>\n      <td>  321</td>\n    </tr>\n    <tr>\n      <th>43</th>\n      <td> OOBUS049</td>\n      <td> 06:26:00</td>\n      <td> 22:25:00</td>\n      <td>  90.4</td>\n      <td> 1800</td>\n      <td>  536</td>\n    </tr>\n    <tr>\n      <th>44</th>\n      <td> OOBUS050</td>\n      <td> 06:27:00</td>\n      <td> 22:26:00</td>\n      <td>  90.4</td>\n      <td> 1800</td>\n      <td>  542</td>\n    </tr>\n    <tr>\n      <th>45</th>\n      <td> OOBUS051</td>\n      <td> 06:28:00</td>\n      <td> 22:27:00</td>\n      <td>  76.4</td>\n      <td> 2100</td>\n      <td>  637</td>\n    </tr>\n    <tr>\n      <th>46</th>\n      <td> OOBUS052</td>\n      <td> 06:29:00</td>\n      <td> 18:36:00</td>\n      <td>  18.0</td>\n      <td> 4200</td>\n      <td> 2668</td>\n    </tr>\n    <tr>\n      <th>47</th>\n      <td> OOBUS053</td>\n      <td> 06:30:00</td>\n      <td> 18:37:00</td>\n      <td>  18.0</td>\n      <td> 4230</td>\n      <td> 2670</td>\n    </tr>\n    <tr>\n      <th>48</th>\n      <td> OOBUS054</td>\n      <td> 06:31:00</td>\n      <td> 18:38:00</td>\n      <td>  18.0</td>\n      <td> 4260</td>\n      <td> 2672</td>\n    </tr>\n    <tr>\n      <th>49</th>\n      <td> OOBUS055</td>\n      <td> 06:34:00</td>\n      <td> 18:46:00</td>\n      <td>  18.0</td>\n      <td> 4020</td>\n      <td> 2625</td>\n    </tr>\n    <tr>\n      <th>50</th>\n      <td> OOBUS056</td>\n      <td> 06:35:00</td>\n      <td> 18:47:00</td>\n      <td>  18.0</td>\n      <td> 4080</td>\n      <td> 2621</td>\n    </tr>\n    <tr>\n      <th>51</th>\n      <td> OOBUS057</td>\n      <td> 06:37:00</td>\n      <td> 18:48:00</td>\n      <td>  20.0</td>\n      <td> 4080</td>\n      <td> 2327</td>\n    </tr>\n    <tr>\n      <th>52</th>\n      <td> OOBUS058</td>\n      <td> 06:39:00</td>\n      <td> 18:49:00</td>\n      <td>  18.0</td>\n      <td> 4080</td>\n      <td> 2614</td>\n    </tr>\n    <tr>\n      <th>53</th>\n      <td> OOBUS059</td>\n      <td> 06:40:00</td>\n      <td> 18:50:00</td>\n      <td>  18.0</td>\n      <td> 4080</td>\n      <td> 2614</td>\n    </tr>\n    <tr>\n      <th>54</th>\n      <td> OOBUS060</td>\n      <td> 06:40:30</td>\n      <td> 18:51:00</td>\n      <td>  18.0</td>\n      <td> 4080</td>\n      <td> 2616</td>\n    </tr>\n    <tr>\n      <th>55</th>\n      <td> OOBUS061</td>\n      <td> 06:41:00</td>\n      <td> 18:52:00</td>\n      <td>  18.0</td>\n      <td> 4080</td>\n      <td> 2618</td>\n    </tr>\n    <tr>\n      <th>56</th>\n      <td> OOBUS062</td>\n      <td> 06:41:30</td>\n      <td> 18:53:00</td>\n      <td>  18.0</td>\n      <td> 4080</td>\n      <td> 2619</td>\n    </tr>\n    <tr>\n      <th>57</th>\n      <td> OOBUS063</td>\n      <td> 06:42:00</td>\n      <td> 18:54:00</td>\n      <td>  18.0</td>\n      <td> 4080</td>\n      <td> 2621</td>\n    </tr>\n    <tr>\n      <th>58</th>\n      <td> OOBUS064</td>\n      <td> 06:42:30</td>\n      <td> 18:55:00</td>\n      <td>  18.0</td>\n      <td> 4080</td>\n      <td> 2623</td>\n    </tr>\n    <tr>\n      <th>59</th>\n      <td> OOBUS065</td>\n      <td> 06:43:00</td>\n      <td> 18:56:00</td>\n      <td>  18.0</td>\n      <td> 4080</td>\n      <td> 2625</td>\n    </tr>\n    <tr>\n      <th></th>\n      <td>...</td>\n      <td>...</td>\n      <td>...</td>\n      <td>...</td>\n      <td>...</td>\n      <td>...</td>\n    </tr>\n  </tbody>\n</table>\n<p>559 rows \u00d7 6 columns</p>\n</div>",
       "metadata": {},
       "output_type": "pyout",
       "prompt_number": 7,
       "text": "     stop_id min_start_time max_end_time  mean_daily_num_vehicles  \\\n0   OOBUS003       06:15:00     23:05:00                    256.8   \n1   OOBUS004       06:27:00     20:42:00                     27.0   \n2   OOBUS005       06:28:00     20:43:00                     25.0   \n3   OOBUS006       06:29:00     20:44:00                     25.0   \n4   OOBUS007       06:30:00     20:45:00                     25.0   \n5   OOBUS008       06:31:00     20:46:00                     45.0   \n6   OOBUS009       06:32:00     21:37:00                     47.0   \n7   OOBUS010       06:33:00     20:48:00                     26.0   \n8   OOBUS011       06:34:00     20:49:00                     44.0   \n9   OOBUS012       06:35:00     20:50:00                     44.0   \n10  OOBUS013       06:37:00     20:52:00                     44.0   \n11  OOBUS014       06:38:00     20:53:00                     25.0   \n12  OOBUS015       06:40:00     20:55:00                     25.0   \n13  OOBUS016       06:42:00     20:57:00                     25.0   \n14  OOBUS017       06:45:00     21:00:00                     25.0   \n15  OOBUS018       06:46:00     21:01:00                     25.0   \n16  OOBUS019       06:48:00     21:03:00                     25.0   \n17  OOBUS020       06:35:00     24:28:00                     98.2   \n18  OOBUS021       06:50:00     24:30:00                     59.8   \n19  OOBUS023       06:28:00     18:40:00                     15.0   \n20  OOBUS024       06:29:00     18:41:00                     14.0   \n21  OOBUS025       06:26:00     18:43:00                     30.0   \n22  OOBUS026       06:27:00     18:37:00                     16.0   \n23  OOBUS027       06:28:00     18:38:00                     17.0   \n24  OOBUS028       06:29:00     18:39:00                     19.0   \n25  OOBUS029       06:30:00     18:40:00                     19.0   \n26  OOBUS030       06:31:00     18:41:00                     19.0   \n27  OOBUS031       06:32:00     18:42:00                     19.0   \n28  OOBUS032       06:33:00     18:43:00                     19.0   \n29  OOBUS033       06:34:00     18:44:00                     19.0   \n30  OOBUS034       06:34:30     18:44:30                     19.0   \n31  OOBUS035       06:35:00     18:45:00                     19.0   \n32  OOBUS036       06:36:00     18:46:00                     19.0   \n33  OOBUS037       06:21:00     22:00:00                     66.0   \n34  OOBUS038       06:22:00     20:02:00                     37.0   \n35  OOBUS039       06:39:00     18:49:00                     16.0   \n36  OOBUS040       06:40:00     18:50:00                     16.0   \n37  OOBUS041       06:42:00     18:52:00                     16.0   \n38  OOBUS042       06:43:00     18:53:00                     16.0   \n39  OOBUS043       06:45:00     18:55:00                     16.0   \n40  OOBUS044       06:46:00     18:56:00                     16.0   \n41  OOBUS046       06:19:00     23:35:00                    155.6   \n42  OOBUS047       06:20:00     23:36:00                    156.6   \n43  OOBUS049       06:26:00     22:25:00                     90.4   \n44  OOBUS050       06:27:00     22:26:00                     90.4   \n45  OOBUS051       06:28:00     22:27:00                     76.4   \n46  OOBUS052       06:29:00     18:36:00                     18.0   \n47  OOBUS053       06:30:00     18:37:00                     18.0   \n48  OOBUS054       06:31:00     18:38:00                     18.0   \n49  OOBUS055       06:34:00     18:46:00                     18.0   \n50  OOBUS056       06:35:00     18:47:00                     18.0   \n51  OOBUS057       06:37:00     18:48:00                     20.0   \n52  OOBUS058       06:39:00     18:49:00                     18.0   \n53  OOBUS059       06:40:00     18:50:00                     18.0   \n54  OOBUS060       06:40:30     18:51:00                     18.0   \n55  OOBUS061       06:41:00     18:52:00                     18.0   \n56  OOBUS062       06:41:30     18:53:00                     18.0   \n57  OOBUS063       06:42:00     18:54:00                     18.0   \n58  OOBUS064       06:42:30     18:55:00                     18.0   \n59  OOBUS065       06:43:00     18:56:00                     18.0   \n         ...            ...          ...                      ...   \n\n    max_headway  mean_headway  \n0          1440           200  \n1          4380          1903  \n2          4380          2103  \n3          4380          2094  \n4          4380          2094  \n5          2040          1091  \n6          2040          1064  \n7          4380          1994  \n8          2040          1119  \n9          2040          1119  \n10         2040          1119  \n11         4380          2094  \n12         4380          2094  \n13         4380          2094  \n14         4380          2094  \n15         4380          2094  \n16         4380          2094  \n17         2220           535  \n18         2760           856  \n19         7200          3350  \n20         7200          3655  \n21         4200          1620  \n22         4440          3092  \n23         4440          2871  \n24         4440          2513  \n25         4440          2471  \n26         4440          2471  \n27         4440          2471  \n28         4440          2471  \n29         4440          2471  \n30         4440          2471  \n31         4440          2471  \n32         4440          2471  \n33         2100           794  \n34         2580          1355  \n35         4440          3000  \n36         4440          3000  \n37         4440          3000  \n38         4440          3000  \n39         4440          3000  \n40         4440          3000  \n41         1380           325  \n42         1380           321  \n43         1800           536  \n44         1800           542  \n45         2100           637  \n46         4200          2668  \n47         4230          2670  \n48         4260          2672  \n49         4020          2625  \n50         4080          2621  \n51         4080          2327  \n52         4080          2614  \n53         4080          2614  \n54         4080          2616  \n55         4080          2618  \n56         4080          2619  \n57         4080          2621  \n58         4080          2623  \n59         4080          2625  \n            ...           ...  \n\n[559 rows x 6 columns]"
      }
     ],
     "prompt_number": 7
    },
    {
     "cell_type": "code",
     "collapsed": false,
     "input": "# Draw histograms for stop headways\ncolors = ['red', 'blue'] \nalpha = 0.7\ncolumns = ['max_headway', 'mean_headway']\ntitles = ['Max Headway','Mean Headway']\nylabels = ['count', 'count']\nxlabels = ['minutes', 'minutes']\nbins = [[5*j for j in range(4*60//5)], [5*j for j in range(4*60//5)]]\nfig, axes = plt.subplots(nrows=1, ncols=2)\nfor (i, column) in enumerate(columns):\n    F = stops_stats[column]/60\n    F.hist(bins=bins[i], ax=axes[i], color=colors[i], alpha=alpha, figsize=(10, 5))\n    axes[i].set_title(titles[i])\n    axes[i].set_xlabel(xlabels[i])\n    axes[i].set_ylabel(ylabels[i])\n\nfig.tight_layout() # Or equivalently,  \"plt.tight_layout()\"\nplt.show()\nfig.savefig(feed_path + 'stats/stops_stats.pdf', dpi=100)\n",
     "language": "python",
     "metadata": {},
     "outputs": [
      {
       "metadata": {},
       "output_type": "display_data",
       "png": "[encoded data removed]",
       "text": "<matplotlib.figure.Figure at 0x107a2d790>"
      }
     ],
     "prompt_number": 8
    },
    {
     "cell_type": "code",
     "collapsed": false,
     "input": "# Create and dump all stats to CSV\nfeed.dump_all_stats()",
     "language": "python",
     "metadata": {},
     "outputs": [
      {
       "output_type": "stream",
       "stream": "stdout",
       "text": "2014-05-20 20:07:12.375157 Beginning process...\n2014-05-20 20:07:12.438618"
      },
      {
       "output_type": "stream",
       "stream": "stdout",
       "text": " Creating trip stats for 1463 trips...\n2014-05-20 20:07:14.376337"
      },
      {
       "output_type": "stream",
       "stream": "stdout",
       "text": " Finished trips stats in 0.02 min\n2014-05-20 20:07:14.381641 Creating routes stats for 1463 trips...\n2014-05-20 20:07:37.114685"
      },
      {
       "output_type": "stream",
       "stream": "stdout",
       "text": " Finished routes stats in 0.37 min\n2014-05-20 20:07:37.116307 Creating routes time series for 1463 trips...\nProgress 0.1%"
      },
      {
       "output_type": "stream",
       "stream": "stdout",
       "text": "\rProgress 0.1%\rProgress 0.2%\rProgress 0.3%\rProgress 0.3%\rProgress 0.4%\rProgress 0.5%\rProgress 0.5%\rProgress 0.6%\rProgress 0.7%\rProgress 0.8%\rProgress 0.8%\rProgress 0.9%\rProgress 1.0%"
      },
      {
       "output_type": "stream",
       "stream": "stdout",
       "text": "\rProgress 1.0%\rProgress 1.1%\rProgress 1.2%\rProgress 1.2%\rProgress 1.3%\rProgress 1.4%\rProgress 1.4%\rProgress 1.5%\rProgress 1.6%\rProgress 1.6%\rProgress 1.7%\rProgress 1.8%\rProgress 1.8%"
      },
      {
       "output_type": "stream",
       "stream": "stdout",
       "text": "\rProgress 1.9%\rProgress 2.0%\rProgress 2.1%\rProgress 2.1%\rProgress 2.2%\rProgress 2.3%\rProgress 2.3%\rProgress 2.4%\rProgress 2.5%\rProgress 2.5%\rProgress 2.6%\rProgress 2.7%\rProgress 2.7%\rProgress 2.8%\rProgress 2.9%\rProgress 2.9%\rProgress 3.0%"
      },
      {
       "output_type": "stream",
       "stream": "stdout",
       "text": "\rProgress 3.1%\rProgress 3.1%\rProgress 3.2%\rProgress 3.3%\rProgress 3.3%\rProgress 3.4%\rProgress 3.5%\rProgress 3.6%\rProgress 3.6%\rProgress 3.7%\rProgress 3.8%\rProgress 3.8%\rProgress 3.9%\rProgress 4.0%\rProgress 4.0%\rProgress 4.1%\rProgress 4.2%"
      },
      {
       "output_type": "stream",
       "stream": "stdout",
       "text": "\rProgress 4.2%\rProgress 4.3%\rProgress 4.4%\rProgress 4.4%\rProgress 4.5%\rProgress 4.6%\rProgress 4.6%\rProgress 4.7%\rProgress 4.8%\rProgress 4.9%\rProgress 4.9%\rProgress 5.0%\rProgress 5.1%\rProgress 5.1%\rProgress 5.2%\rProgress 5.3%"
      },
      {
       "output_type": "stream",
       "stream": "stdout",
       "text": "\rProgress 5.3%\rProgress 5.4%\rProgress 5.5%\rProgress 5.5%\rProgress 5.6%\rProgress 5.7%\rProgress 5.7%\rProgress 5.8%\rProgress 5.9%\rProgress 5.9%\rProgress 6.0%\rProgress 6.1%\rProgress 6.2%\rProgress 6.2%\rProgress 6.3%\rProgress 6.4%\rProgress 6.4%"
      },
      {
       "output_type": "stream",
       "stream": "stdout",
       "text": "\rProgress 6.5%\rProgress 6.6%\rProgress 6.6%\rProgress 6.7%\rProgress 6.8%\rProgress 6.8%\rProgress 6.9%\rProgress 7.0%\rProgress 7.0%\rProgress 7.1%\rProgress 7.2%\rProgress 7.2%\rProgress 7.3%\rProgress 7.4%\rProgress 7.5%"
      },
      {
       "output_type": "stream",
       "stream": "stdout",
       "text": "\rProgress 7.5%\rProgress 7.6%\rProgress 7.7%\rProgress 7.7%\rProgress 7.8%\rProgress 7.9%\rProgress 7.9%\rProgress 8.0%\rProgress 8.1%\rProgress 8.1%\rProgress 8.2%\rProgress 8.3%\rProgress 8.3%\rProgress 8.4%\rProgress 8.5%\rProgress 8.5%"
      },
      {
       "output_type": "stream",
       "stream": "stdout",
       "text": "\rProgress 8.6%\rProgress 8.7%\rProgress 8.7%\rProgress 8.8%\rProgress 8.9%\rProgress 9.0%\rProgress 9.0%\rProgress 9.1%\rProgress 9.2%\rProgress 9.2%\rProgress 9.3%\rProgress 9.4%\rProgress 9.4%\rProgress 9.5%\rProgress 9.6%\rProgress 9.6%"
      },
      {
       "output_type": "stream",
       "stream": "stdout",
       "text": "\rProgress 9.7%\rProgress 9.8%\rProgress 9.8%\rProgress 9.9%\rProgress 10.0%\rProgress 10.0%\rProgress 10.1%\rProgress 10.2%\rProgress 10.3%\rProgress 10.3%\rProgress 10.4%\rProgress 10.5%\rProgress 10.5%\rProgress 10.6%\rProgress 10.7%\rProgress 10.7%\rProgress 10.8%"
      },
      {
       "output_type": "stream",
       "stream": "stdout",
       "text": "\rProgress 10.9%\rProgress 10.9%\rProgress 11.0%\rProgress 11.1%\rProgress 11.1%\rProgress 11.2%\rProgress 11.3%\rProgress 11.3%\rProgress 11.4%\rProgress 11.5%\rProgress 11.6%"
      },
      {
       "output_type": "stream",
       "stream": "stdout",
       "text": "\rProgress 11.6%\rProgress 11.7%\rProgress 11.8%\rProgress 11.8%\rProgress 11.9%\rProgress 12.0%\rProgress 12.0%\rProgress 12.1%\rProgress 12.2%"
      },
      {
       "output_type": "stream",
       "stream": "stdout",
       "text": "\rProgress 12.2%\rProgress 12.3%\rProgress 12.4%\rProgress 12.4%\rProgress 12.5%\rProgress 12.6%\rProgress 12.6%\rProgress 12.7%\rProgress 12.8%\rProgress 12.9%\rProgress 12.9%"
      },
      {
       "output_type": "stream",
       "stream": "stdout",
       "text": "\rProgress 13.0%\rProgress 13.1%\rProgress 13.1%\rProgress 13.2%\rProgress 13.3%\rProgress 13.3%\rProgress 13.4%\rProgress 13.5%\rProgress 13.5%\rProgress 13.6%\rProgress 13.7%\rProgress 13.7%\rProgress 13.8%\rProgress 13.9%"
      },
      {
       "output_type": "stream",
       "stream": "stdout",
       "text": "\rProgress 13.9%\rProgress 14.0%\rProgress 14.1%\rProgress 14.1%\rProgress 14.2%\rProgress 14.3%\rProgress 14.4%\rProgress 14.4%\rProgress 14.5%\rProgress 14.6%\rProgress 14.6%\rProgress 14.7%\rProgress 14.8%\rProgress 14.8%\rProgress 14.9%\rProgress 15.0%"
      },
      {
       "output_type": "stream",
       "stream": "stdout",
       "text": "\rProgress 15.0%\rProgress 15.1%\rProgress 15.2%\rProgress 15.2%\rProgress 15.3%\rProgress 15.4%\rProgress 15.4%\rProgress 15.5%\rProgress 15.6%\rProgress 15.7%\rProgress 15.7%\rProgress 15.8%\rProgress 15.9%\rProgress 15.9%\rProgress 16.0%\rProgress 16.1%"
      },
      {
       "output_type": "stream",
       "stream": "stdout",
       "text": "\rProgress 16.1%\rProgress 16.2%\rProgress 16.3%\rProgress 16.3%\rProgress 16.4%\rProgress 16.5%\rProgress 16.5%\rProgress 16.6%\rProgress 16.7%\rProgress 16.7%\rProgress 16.8%\rProgress 16.9%\rProgress 17.0%\rProgress 17.0%\rProgress 17.1%\rProgress 17.2%"
      },
      {
       "output_type": "stream",
       "stream": "stdout",
       "text": "\rProgress 17.2%\rProgress 17.3%\rProgress 17.4%\rProgress 17.4%\rProgress 17.5%\rProgress 17.6%\rProgress 17.6%\rProgress 17.7%\rProgress 17.8%\rProgress 17.8%\rProgress 17.9%\rProgress 18.0%\rProgress 18.0%\rProgress 18.1%\rProgress 18.2%\rProgress 18.3%"
      },
      {
       "output_type": "stream",
       "stream": "stdout",
       "text": "\rProgress 18.3%\rProgress 18.4%\rProgress 18.5%\rProgress 18.5%\rProgress 18.6%\rProgress 18.7%\rProgress 18.7%\rProgress 18.8%\rProgress 18.9%\rProgress 18.9%\rProgress 19.0%\rProgress 19.1%\rProgress 19.1%\rProgress 19.2%\rProgress 19.3%\rProgress 19.3%\rProgress 19.4%\rProgress 19.5%"
      },
      {
       "output_type": "stream",
       "stream": "stdout",
       "text": "\rProgress 19.5%\rProgress 19.6%\rProgress 19.7%\rProgress 19.8%\rProgress 19.8%\rProgress 19.9%\rProgress 20.0%\rProgress 20.0%\rProgress 20.1%\rProgress 20.2%\rProgress 20.2%\rProgress 20.3%\rProgress 20.4%\rProgress 20.4%\rProgress 20.5%\rProgress 20.6%"
      },
      {
       "output_type": "stream",
       "stream": "stdout",
       "text": "\rProgress 20.6%\rProgress 20.7%\rProgress 20.8%\rProgress 20.8%\rProgress 20.9%\rProgress 21.0%\rProgress 21.1%\rProgress 21.1%\rProgress 21.2%\rProgress 21.3%\rProgress 21.3%\rProgress 21.4%\rProgress 21.5%\rProgress 21.5%\rProgress 21.6%\rProgress 21.7%\rProgress 21.7%"
      },
      {
       "output_type": "stream",
       "stream": "stdout",
       "text": "\rProgress 21.8%\rProgress 21.9%\rProgress 21.9%\rProgress 22.0%\rProgress 22.1%\rProgress 22.1%\rProgress 22.2%\rProgress 22.3%\rProgress 22.4%\rProgress 22.4%\rProgress 22.5%\rProgress 22.6%\rProgress 22.6%\rProgress 22.7%\rProgress 22.8%\rProgress 22.8%\rProgress 22.9%\rProgress 23.0%"
      },
      {
       "output_type": "stream",
       "stream": "stdout",
       "text": "\rProgress 23.0%\rProgress 23.1%\rProgress 23.2%\rProgress 23.2%\rProgress 23.3%\rProgress 23.4%\rProgress 23.4%\rProgress 23.5%\rProgress 23.6%\rProgress 23.7%\rProgress 23.7%\rProgress 23.8%\rProgress 23.9%\rProgress 23.9%\rProgress 24.0%\rProgress 24.1%\rProgress 24.1%\rProgress 24.2%"
      },
      {
       "output_type": "stream",
       "stream": "stdout",
       "text": "\rProgress 24.3%\rProgress 24.3%\rProgress 24.4%\rProgress 24.5%\rProgress 24.5%\rProgress 24.6%\rProgress 24.7%\rProgress 24.7%\rProgress 24.8%\rProgress 24.9%\rProgress 24.9%\rProgress 25.0%\rProgress 25.1%\rProgress 25.2%\rProgress 25.2%\rProgress 25.3%\rProgress 25.4%\rProgress 25.4%"
      },
      {
       "output_type": "stream",
       "stream": "stdout",
       "text": "\rProgress 25.5%\rProgress 25.6%\rProgress 25.6%\rProgress 25.7%\rProgress 25.8%\rProgress 25.8%\rProgress 25.9%\rProgress 26.0%\rProgress 26.0%\rProgress 26.1%\rProgress 26.2%\rProgress 26.2%\rProgress 26.3%\rProgress 26.4%\rProgress 26.5%\rProgress 26.5%\rProgress 26.6%\rProgress 26.7%"
      },
      {
       "output_type": "stream",
       "stream": "stdout",
       "text": "\rProgress 26.7%\rProgress 26.8%\rProgress 26.9%\rProgress 26.9%\rProgress 27.0%\rProgress 27.1%\rProgress 27.1%\rProgress 27.2%\rProgress 27.3%\rProgress 27.3%\rProgress 27.4%\rProgress 27.5%\rProgress 27.5%\rProgress 27.6%\rProgress 27.7%\rProgress 27.8%"
      },
      {
       "output_type": "stream",
       "stream": "stdout",
       "text": "\rProgress 27.8%\rProgress 27.9%\rProgress 28.0%\rProgress 28.0%\rProgress 28.1%\rProgress 28.2%\rProgress 28.2%\rProgress 28.3%\rProgress 28.4%\rProgress 28.4%\rProgress 28.5%\rProgress 28.6%\rProgress 28.6%\rProgress 28.7%\rProgress 28.8%\rProgress 28.8%\rProgress 28.9%\rProgress 29.0%"
      },
      {
       "output_type": "stream",
       "stream": "stdout",
       "text": "\rProgress 29.0%\rProgress 29.1%\rProgress 29.2%\rProgress 29.3%\rProgress 29.3%\rProgress 29.4%\rProgress 29.5%\rProgress 29.5%\rProgress 29.6%\rProgress 29.7%\rProgress 29.7%\rProgress 29.8%\rProgress 29.9%\rProgress 29.9%\rProgress 30.0%\rProgress 30.1%\rProgress 30.1%"
      },
      {
       "output_type": "stream",
       "stream": "stdout",
       "text": "\rProgress 30.2%\rProgress 30.3%\rProgress 30.3%\rProgress 30.4%\rProgress 30.5%\rProgress 30.6%\rProgress 30.6%\rProgress 30.7%\rProgress 30.8%\rProgress 30.8%\rProgress 30.9%\rProgress 31.0%\rProgress 31.0%\rProgress 31.1%\rProgress 31.2%\rProgress 31.2%\rProgress 31.3%\rProgress 31.4%"
      },
      {
       "output_type": "stream",
       "stream": "stdout",
       "text": "\rProgress 31.4%\rProgress 31.5%\rProgress 31.6%\rProgress 31.6%\rProgress 31.7%\rProgress 31.8%\rProgress 31.9%\rProgress 31.9%\rProgress 32.0%\rProgress 32.1%\rProgress 32.1%\rProgress 32.2%\rProgress 32.3%\rProgress 32.3%\rProgress 32.4%"
      },
      {
       "output_type": "stream",
       "stream": "stdout",
       "text": "\rProgress 32.5%\rProgress 32.5%\rProgress 32.6%\rProgress 32.7%\rProgress 32.7%\rProgress 32.8%\rProgress 32.9%\rProgress 32.9%\rProgress 33.0%\rProgress 33.1%\rProgress 33.2%\rProgress 33.2%\rProgress 33.3%\rProgress 33.4%\rProgress 33.4%"
      },
      {
       "output_type": "stream",
       "stream": "stdout",
       "text": "\rProgress 33.5%\rProgress 33.6%\rProgress 33.6%\rProgress 33.7%\rProgress 33.8%\rProgress 33.8%\rProgress 33.9%\rProgress 34.0%\rProgress 34.0%\rProgress 34.1%\rProgress 34.2%\rProgress 34.2%\rProgress 34.3%\rProgress 34.4%\rProgress 34.4%\rProgress 34.5%\rProgress 34.6%"
      },
      {
       "output_type": "stream",
       "stream": "stdout",
       "text": "\rProgress 34.7%\rProgress 34.7%\rProgress 34.8%\rProgress 34.9%\rProgress 34.9%\rProgress 35.0%\rProgress 35.1%\rProgress 35.1%\rProgress 35.2%\rProgress 35.3%\rProgress 35.3%\rProgress 35.4%\rProgress 35.5%\rProgress 35.5%\rProgress 35.6%\rProgress 35.7%\rProgress 35.7%\rProgress 35.8%"
      },
      {
       "output_type": "stream",
       "stream": "stdout",
       "text": "\rProgress 35.9%\rProgress 36.0%\rProgress 36.0%\rProgress 36.1%\rProgress 36.2%\rProgress 36.2%\rProgress 36.3%\rProgress 36.4%\rProgress 36.4%\rProgress 36.5%\rProgress 36.6%\rProgress 36.6%\rProgress 36.7%\rProgress 36.8%\rProgress 36.8%\rProgress 36.9%\rProgress 37.0%\rProgress 37.0%"
      },
      {
       "output_type": "stream",
       "stream": "stdout",
       "text": "\rProgress 37.1%\rProgress 37.2%\rProgress 37.3%\rProgress 37.3%\rProgress 37.4%\rProgress 37.5%\rProgress 37.5%\rProgress 37.6%\rProgress 37.7%\rProgress 37.7%\rProgress 37.8%\rProgress 37.9%\rProgress 37.9%\rProgress 38.0%\rProgress 38.1%\rProgress 38.1%\rProgress 38.2%"
      },
      {
       "output_type": "stream",
       "stream": "stdout",
       "text": "\rProgress 38.3%\rProgress 38.3%\rProgress 38.4%\rProgress 38.5%\rProgress 38.6%\rProgress 38.6%\rProgress 38.7%\rProgress 38.8%\rProgress 38.8%\rProgress 38.9%\rProgress 39.0%\rProgress 39.0%\rProgress 39.1%\rProgress 39.2%"
      },
      {
       "output_type": "stream",
       "stream": "stdout",
       "text": "\rProgress 39.2%\rProgress 39.3%\rProgress 39.4%\rProgress 39.4%\rProgress 39.5%\rProgress 39.6%\rProgress 39.6%\rProgress 39.7%\rProgress 39.8%\rProgress 39.8%\rProgress 39.9%\rProgress 40.0%\rProgress 40.1%\rProgress 40.1%\rProgress 40.2%\rProgress 40.3%"
      },
      {
       "output_type": "stream",
       "stream": "stdout",
       "text": "\rProgress 40.3%\rProgress 40.4%\rProgress 40.5%\rProgress 40.5%\rProgress 40.6%\rProgress 40.7%\rProgress 40.7%\rProgress 40.8%\rProgress 40.9%\rProgress 40.9%\rProgress 41.0%\rProgress 41.1%\rProgress 41.1%\rProgress 41.2%\rProgress 41.3%\rProgress 41.4%\rProgress 41.4%\rProgress 41.5%"
      },
      {
       "output_type": "stream",
       "stream": "stdout",
       "text": "\rProgress 41.6%\rProgress 41.6%\rProgress 41.7%\rProgress 41.8%\rProgress 41.8%\rProgress 41.9%\rProgress 42.0%\rProgress 42.0%\rProgress 42.1%\rProgress 42.2%\rProgress 42.2%\rProgress 42.3%\rProgress 42.4%\rProgress 42.4%\rProgress 42.5%\rProgress 42.6%\rProgress 42.7%\rProgress 42.7%"
      },
      {
       "output_type": "stream",
       "stream": "stdout",
       "text": "\rProgress 42.8%\rProgress 42.9%\rProgress 42.9%\rProgress 43.0%\rProgress 43.1%\rProgress 43.1%\rProgress 43.2%\rProgress 43.3%\rProgress 43.3%\rProgress 43.4%\rProgress 43.5%\rProgress 43.5%\rProgress 43.6%\rProgress 43.7%\rProgress 43.7%\rProgress 43.8%\rProgress 43.9%"
      },
      {
       "output_type": "stream",
       "stream": "stdout",
       "text": "\rProgress 44.0%\rProgress 44.0%\rProgress 44.1%\rProgress 44.2%\rProgress 44.2%\rProgress 44.3%\rProgress 44.4%\rProgress 44.4%\rProgress 44.5%\rProgress 44.6%\rProgress 44.6%\rProgress 44.7%\rProgress 44.8%\rProgress 44.8%\rProgress 44.9%\rProgress 45.0%\rProgress 45.0%"
      },
      {
       "output_type": "stream",
       "stream": "stdout",
       "text": "\rProgress 45.1%\rProgress 45.2%\rProgress 45.2%\rProgress 45.3%\rProgress 45.4%\rProgress 45.5%\rProgress 45.5%\rProgress 45.6%\rProgress 45.7%\rProgress 45.7%\rProgress 45.8%\rProgress 45.9%\rProgress 45.9%\rProgress 46.0%\rProgress 46.1%\rProgress 46.1%\rProgress 46.2%"
      },
      {
       "output_type": "stream",
       "stream": "stdout",
       "text": "\rProgress 46.3%\rProgress 46.3%\rProgress 46.4%\rProgress 46.5%\rProgress 46.5%\rProgress 46.6%\rProgress 46.7%\rProgress 46.8%\rProgress 46.8%\rProgress 46.9%\rProgress 47.0%\rProgress 47.0%\rProgress 47.1%\rProgress 47.2%\rProgress 47.2%\rProgress 47.3%\rProgress 47.4%"
      },
      {
       "output_type": "stream",
       "stream": "stdout",
       "text": "\rProgress 47.4%\rProgress 47.5%\rProgress 47.6%\rProgress 47.6%\rProgress 47.7%\rProgress 47.8%\rProgress 47.8%\rProgress 47.9%\rProgress 48.0%\rProgress 48.1%\rProgress 48.1%\rProgress 48.2%\rProgress 48.3%\rProgress 48.3%\rProgress 48.4%\rProgress 48.5%\rProgress 48.5%\rProgress 48.6%"
      },
      {
       "output_type": "stream",
       "stream": "stdout",
       "text": "\rProgress 48.7%\rProgress 48.7%\rProgress 48.8%\rProgress 48.9%\rProgress 48.9%\rProgress 49.0%\rProgress 49.1%\rProgress 49.1%\rProgress 49.2%\rProgress 49.3%\rProgress 49.4%\rProgress 49.4%\r2014-05-20 20:07:53.880731 Finished routes time series in 0.27 min\n2014-05-20 20:07:53.890927 Creating stops time series for 577 stops...\nProgress 0.2%"
      },
      {
       "output_type": "stream",
       "stream": "stdout",
       "text": "\rProgress 0.3%"
      },
      {
       "output_type": "stream",
       "stream": "stdout",
       "text": "\rProgress 0.5%\rProgress 0.7%\rProgress 0.9%"
      },
      {
       "output_type": "stream",
       "stream": "stdout",
       "text": "\rProgress 1.0%\rProgress 1.2%"
      },
      {
       "output_type": "stream",
       "stream": "stdout",
       "text": "\rProgress 1.4%\rProgress 1.6%"
      },
      {
       "output_type": "stream",
       "stream": "stdout",
       "text": "\rProgress 1.7%\rProgress 1.9%"
      },
      {
       "output_type": "stream",
       "stream": "stdout",
       "text": "\rProgress 2.1%\rProgress 2.3%\rProgress 2.4%"
      },
      {
       "output_type": "stream",
       "stream": "stdout",
       "text": "\rProgress 2.6%\rProgress 2.8%\rProgress 2.9%"
      },
      {
       "output_type": "stream",
       "stream": "stdout",
       "text": "\rProgress 3.1%\rProgress 3.3%"
      },
      {
       "output_type": "stream",
       "stream": "stdout",
       "text": "\rProgress 3.5%"
      },
      {
       "output_type": "stream",
       "stream": "stdout",
       "text": "\rProgress 3.6%\rProgress 3.8%\rProgress 4.0%\rProgress 4.2%"
      },
      {
       "output_type": "stream",
       "stream": "stdout",
       "text": "\rProgress 4.3%\rProgress 4.5%\rProgress 4.7%\rProgress 4.9%"
      },
      {
       "output_type": "stream",
       "stream": "stdout",
       "text": "\rProgress 5.0%\rProgress 5.2%\rProgress 5.4%\rProgress 5.5%"
      },
      {
       "output_type": "stream",
       "stream": "stdout",
       "text": "\rProgress 5.7%\rProgress 5.9%\rProgress 6.1%"
      },
      {
       "output_type": "stream",
       "stream": "stdout",
       "text": "\rProgress 6.2%\rProgress 6.4%\rProgress 6.6%"
      },
      {
       "output_type": "stream",
       "stream": "stdout",
       "text": "\rProgress 6.8%\rProgress 6.9%\rProgress 7.1%\rProgress 7.3%\rProgress 7.5%"
      },
      {
       "output_type": "stream",
       "stream": "stdout",
       "text": "\rProgress 7.6%"
      },
      {
       "output_type": "stream",
       "stream": "stdout",
       "text": "\rProgress 7.8%"
      },
      {
       "output_type": "stream",
       "stream": "stdout",
       "text": "\rProgress 8.0%"
      },
      {
       "output_type": "stream",
       "stream": "stdout",
       "text": "\rProgress 8.1%"
      },
      {
       "output_type": "stream",
       "stream": "stdout",
       "text": "\rProgress 8.3%\rProgress 8.5%\rProgress 8.7%\rProgress 8.8%"
      },
      {
       "output_type": "stream",
       "stream": "stdout",
       "text": "\rProgress 9.0%\rProgress 9.2%"
      },
      {
       "output_type": "stream",
       "stream": "stdout",
       "text": "\rProgress 9.4%\rProgress 9.5%\rProgress 9.7%"
      },
      {
       "output_type": "stream",
       "stream": "stdout",
       "text": "\rProgress 9.9%\rProgress 10.1%\rProgress 10.2%"
      },
      {
       "output_type": "stream",
       "stream": "stdout",
       "text": "\rProgress 10.4%\rProgress 10.6%\rProgress 10.7%\rProgress 10.9%"
      },
      {
       "output_type": "stream",
       "stream": "stdout",
       "text": "\rProgress 11.1%"
      },
      {
       "output_type": "stream",
       "stream": "stdout",
       "text": "\rProgress 11.3%"
      },
      {
       "output_type": "stream",
       "stream": "stdout",
       "text": "\rProgress 11.4%"
      },
      {
       "output_type": "stream",
       "stream": "stdout",
       "text": "\rProgress 11.6%\rProgress 11.8%"
      },
      {
       "output_type": "stream",
       "stream": "stdout",
       "text": "\rProgress 12.0%"
      },
      {
       "output_type": "stream",
       "stream": "stdout",
       "text": "\rProgress 12.1%"
      },
      {
       "output_type": "stream",
       "stream": "stdout",
       "text": "\rProgress 12.3%\rProgress 12.5%"
      },
      {
       "output_type": "stream",
       "stream": "stdout",
       "text": "\rProgress 12.7%\rProgress 12.8%"
      },
      {
       "output_type": "stream",
       "stream": "stdout",
       "text": "\rProgress 13.0%\rProgress 13.2%"
      },
      {
       "output_type": "stream",
       "stream": "stdout",
       "text": "\rProgress 13.3%\rProgress 13.5%"
      },
      {
       "output_type": "stream",
       "stream": "stdout",
       "text": "\rProgress 13.7%\rProgress 13.9%"
      },
      {
       "output_type": "stream",
       "stream": "stdout",
       "text": "\rProgress 14.0%\rProgress 14.2%"
      },
      {
       "output_type": "stream",
       "stream": "stdout",
       "text": "\rProgress 14.4%\rProgress 14.6%"
      },
      {
       "output_type": "stream",
       "stream": "stdout",
       "text": "\rProgress 14.7%\rProgress 14.9%"
      },
      {
       "output_type": "stream",
       "stream": "stdout",
       "text": "\rProgress 15.1%\rProgress 15.3%"
      },
      {
       "output_type": "stream",
       "stream": "stdout",
       "text": "\rProgress 15.4%\rProgress 15.6%"
      },
      {
       "output_type": "stream",
       "stream": "stdout",
       "text": "\rProgress 15.8%\rProgress 15.9%"
      },
      {
       "output_type": "stream",
       "stream": "stdout",
       "text": "\rProgress 16.1%"
      },
      {
       "output_type": "stream",
       "stream": "stdout",
       "text": "\rProgress 16.3%\rProgress 16.5%"
      },
      {
       "output_type": "stream",
       "stream": "stdout",
       "text": "\rProgress 16.6%\rProgress 16.8%"
      },
      {
       "output_type": "stream",
       "stream": "stdout",
       "text": "\rProgress 17.0%"
      },
      {
       "output_type": "stream",
       "stream": "stdout",
       "text": "\rProgress 17.2%"
      },
      {
       "output_type": "stream",
       "stream": "stdout",
       "text": "\rProgress 17.3%"
      },
      {
       "output_type": "stream",
       "stream": "stdout",
       "text": "\rProgress 17.5%"
      },
      {
       "output_type": "stream",
       "stream": "stdout",
       "text": "\rProgress 17.7%"
      },
      {
       "output_type": "stream",
       "stream": "stdout",
       "text": "\rProgress 17.9%\rProgress 18.0%"
      },
      {
       "output_type": "stream",
       "stream": "stdout",
       "text": "\rProgress 18.2%\rProgress 18.4%"
      },
      {
       "output_type": "stream",
       "stream": "stdout",
       "text": "\rProgress 18.5%\rProgress 18.7%"
      },
      {
       "output_type": "stream",
       "stream": "stdout",
       "text": "\rProgress 18.9%\rProgress 19.1%"
      },
      {
       "output_type": "stream",
       "stream": "stdout",
       "text": "\rProgress 19.2%\rProgress 19.4%"
      },
      {
       "output_type": "stream",
       "stream": "stdout",
       "text": "\rProgress 19.6%\rProgress 19.8%"
      },
      {
       "output_type": "stream",
       "stream": "stdout",
       "text": "\rProgress 19.9%\rProgress 20.1%\rProgress 20.3%"
      },
      {
       "output_type": "stream",
       "stream": "stdout",
       "text": "\rProgress 20.5%\rProgress 20.6%\rProgress 20.8%\rProgress 21.0%"
      },
      {
       "output_type": "stream",
       "stream": "stdout",
       "text": "\rProgress 21.1%\rProgress 21.3%\rProgress 21.5%\rProgress 21.7%"
      },
      {
       "output_type": "stream",
       "stream": "stdout",
       "text": "\rProgress 21.8%\rProgress 22.0%\rProgress 22.2%"
      },
      {
       "output_type": "stream",
       "stream": "stdout",
       "text": "\rProgress 22.4%\rProgress 22.5%\rProgress 22.7%"
      },
      {
       "output_type": "stream",
       "stream": "stdout",
       "text": "\rProgress 22.9%\rProgress 23.1%\rProgress 23.2%"
      },
      {
       "output_type": "stream",
       "stream": "stdout",
       "text": "\rProgress 23.4%\rProgress 23.6%"
      },
      {
       "output_type": "stream",
       "stream": "stdout",
       "text": "\rProgress 23.7%\rProgress 23.9%"
      },
      {
       "output_type": "stream",
       "stream": "stdout",
       "text": "\rProgress 24.1%\rProgress 24.3%"
      },
      {
       "output_type": "stream",
       "stream": "stdout",
       "text": "\rProgress 24.4%\rProgress 24.6%\rProgress 24.8%\rProgress 25.0%"
      },
      {
       "output_type": "stream",
       "stream": "stdout",
       "text": "\rProgress 25.1%\rProgress 25.3%\rProgress 25.5%\rProgress 25.6%\rProgress 25.8%"
      },
      {
       "output_type": "stream",
       "stream": "stdout",
       "text": "\rProgress 26.0%\rProgress 26.2%\rProgress 26.3%\rProgress 26.5%\rProgress 26.7%"
      },
      {
       "output_type": "stream",
       "stream": "stdout",
       "text": "\rProgress 26.9%\rProgress 27.0%"
      },
      {
       "output_type": "stream",
       "stream": "stdout",
       "text": "\rProgress 27.2%\rProgress 27.4%"
      },
      {
       "output_type": "stream",
       "stream": "stdout",
       "text": "\rProgress 27.6%\rProgress 27.7%"
      },
      {
       "output_type": "stream",
       "stream": "stdout",
       "text": "\rProgress 27.9%\rProgress 28.1%"
      },
      {
       "output_type": "stream",
       "stream": "stdout",
       "text": "\rProgress 28.2%"
      },
      {
       "output_type": "stream",
       "stream": "stdout",
       "text": "\rProgress 28.4%"
      },
      {
       "output_type": "stream",
       "stream": "stdout",
       "text": "\rProgress 28.6%"
      },
      {
       "output_type": "stream",
       "stream": "stdout",
       "text": "\rProgress 28.8%"
      },
      {
       "output_type": "stream",
       "stream": "stdout",
       "text": "\rProgress 28.9%"
      },
      {
       "output_type": "stream",
       "stream": "stdout",
       "text": "\rProgress 29.1%"
      },
      {
       "output_type": "stream",
       "stream": "stdout",
       "text": "\rProgress 29.3%"
      },
      {
       "output_type": "stream",
       "stream": "stdout",
       "text": "\rProgress 29.5%\rProgress 29.6%"
      },
      {
       "output_type": "stream",
       "stream": "stdout",
       "text": "\rProgress 29.8%\rProgress 30.0%\rProgress 30.2%\rProgress 30.3%"
      },
      {
       "output_type": "stream",
       "stream": "stdout",
       "text": "\rProgress 30.5%\rProgress 30.7%\rProgress 30.8%\rProgress 31.0%\rProgress 31.2%"
      },
      {
       "output_type": "stream",
       "stream": "stdout",
       "text": "\rProgress 31.4%\rProgress 31.5%"
      },
      {
       "output_type": "stream",
       "stream": "stdout",
       "text": "\rProgress 31.7%\rProgress 31.9%"
      },
      {
       "output_type": "stream",
       "stream": "stdout",
       "text": "\rProgress 32.1%\rProgress 32.2%"
      },
      {
       "output_type": "stream",
       "stream": "stdout",
       "text": "\rProgress 32.4%\rProgress 32.6%"
      },
      {
       "output_type": "stream",
       "stream": "stdout",
       "text": "\rProgress 32.8%\rProgress 32.9%\rProgress 33.1%\rProgress 33.3%\rProgress 33.4%"
      },
      {
       "output_type": "stream",
       "stream": "stdout",
       "text": "\rProgress 33.6%\rProgress 33.8%\rProgress 34.0%\rProgress 34.1%"
      },
      {
       "output_type": "stream",
       "stream": "stdout",
       "text": "\rProgress 34.3%\rProgress 34.5%\rProgress 34.7%\rProgress 34.8%"
      },
      {
       "output_type": "stream",
       "stream": "stdout",
       "text": "\rProgress 35.0%\rProgress 35.2%"
      },
      {
       "output_type": "stream",
       "stream": "stdout",
       "text": "\rProgress 35.4%\rProgress 35.5%"
      },
      {
       "output_type": "stream",
       "stream": "stdout",
       "text": "\rProgress 35.7%\rProgress 35.9%"
      },
      {
       "output_type": "stream",
       "stream": "stdout",
       "text": "\rProgress 36.0%\rProgress 36.2%"
      },
      {
       "output_type": "stream",
       "stream": "stdout",
       "text": "\rProgress 36.4%\rProgress 36.6%"
      },
      {
       "output_type": "stream",
       "stream": "stdout",
       "text": "\rProgress 36.7%\rProgress 36.9%"
      },
      {
       "output_type": "stream",
       "stream": "stdout",
       "text": "\rProgress 37.1%\rProgress 37.3%"
      },
      {
       "output_type": "stream",
       "stream": "stdout",
       "text": "\rProgress 37.4%\rProgress 37.6%"
      },
      {
       "output_type": "stream",
       "stream": "stdout",
       "text": "\rProgress 37.8%\rProgress 38.0%"
      },
      {
       "output_type": "stream",
       "stream": "stdout",
       "text": "\rProgress 38.1%\rProgress 38.3%"
      },
      {
       "output_type": "stream",
       "stream": "stdout",
       "text": "\rProgress 38.5%\rProgress 38.6%"
      },
      {
       "output_type": "stream",
       "stream": "stdout",
       "text": "\rProgress 38.8%\rProgress 39.0%"
      },
      {
       "output_type": "stream",
       "stream": "stdout",
       "text": "\rProgress 39.2%\rProgress 39.3%"
      },
      {
       "output_type": "stream",
       "stream": "stdout",
       "text": "\rProgress 39.5%\rProgress 39.7%\rProgress 39.9%"
      },
      {
       "output_type": "stream",
       "stream": "stdout",
       "text": "\rProgress 40.0%\rProgress 40.2%\rProgress 40.4%\rProgress 40.6%\rProgress 40.7%\rProgress 40.9%\rProgress 41.1%\rProgress 41.2%\rProgress 41.4%\rProgress 41.6%\rProgress 41.8%\rProgress 41.9%\rProgress 42.1%\rProgress 42.3%"
      },
      {
       "output_type": "stream",
       "stream": "stdout",
       "text": "\rProgress 42.5%\rProgress 42.6%\rProgress 42.8%\rProgress 43.0%"
      },
      {
       "output_type": "stream",
       "stream": "stdout",
       "text": "\rProgress 43.2%\rProgress 43.3%\rProgress 43.5%\rProgress 43.7%\rProgress 43.8%"
      },
      {
       "output_type": "stream",
       "stream": "stdout",
       "text": "\rProgress 44.0%\rProgress 44.2%\rProgress 44.4%\rProgress 44.5%"
      },
      {
       "output_type": "stream",
       "stream": "stdout",
       "text": "\rProgress 44.7%\rProgress 44.9%"
      },
      {
       "output_type": "stream",
       "stream": "stdout",
       "text": "\rProgress 45.1%\rProgress 45.2%"
      },
      {
       "output_type": "stream",
       "stream": "stdout",
       "text": "\rProgress 45.4%\rProgress 45.6%"
      },
      {
       "output_type": "stream",
       "stream": "stdout",
       "text": "\rProgress 45.8%\rProgress 45.9%\rProgress 46.1%\rProgress 46.3%"
      },
      {
       "output_type": "stream",
       "stream": "stdout",
       "text": "\rProgress 46.4%\rProgress 46.6%\rProgress 46.8%\rProgress 47.0%\rProgress 47.1%"
      },
      {
       "output_type": "stream",
       "stream": "stdout",
       "text": "\rProgress 47.3%\rProgress 47.5%"
      },
      {
       "output_type": "stream",
       "stream": "stdout",
       "text": "\rProgress 47.7%\rProgress 47.8%\rProgress 48.0%\rProgress 48.2%"
      },
      {
       "output_type": "stream",
       "stream": "stdout",
       "text": "\rProgress 48.4%\rProgress 48.5%\rProgress 48.7%\rProgress 48.9%\rProgress 49.0%\rProgress 49.2%\rProgress 49.4%"
      },
      {
       "output_type": "stream",
       "stream": "stdout",
       "text": "\rProgress 49.6%\rProgress 49.7%\rProgress 49.9%\rProgress 50.1%\rProgress 50.3%\rProgress 50.4%\rProgress 50.6%"
      },
      {
       "output_type": "stream",
       "stream": "stdout",
       "text": "\rProgress 50.8%\rProgress 51.0%\rProgress 51.1%\rProgress 51.3%\rProgress 51.5%\rProgress 51.6%\rProgress 51.8%\rProgress 52.0%\rProgress 52.2%\rProgress 52.3%\rProgress 52.5%"
      },
      {
       "output_type": "stream",
       "stream": "stdout",
       "text": "\rProgress 52.7%\rProgress 52.9%\rProgress 53.0%"
      },
      {
       "output_type": "stream",
       "stream": "stdout",
       "text": "\rProgress 53.2%\rProgress 53.4%"
      },
      {
       "output_type": "stream",
       "stream": "stdout",
       "text": "\rProgress 53.6%\rProgress 53.7%"
      },
      {
       "output_type": "stream",
       "stream": "stdout",
       "text": "\rProgress 53.9%\rProgress 54.1%"
      },
      {
       "output_type": "stream",
       "stream": "stdout",
       "text": "\rProgress 54.2%"
      },
      {
       "output_type": "stream",
       "stream": "stdout",
       "text": "\rProgress 54.4%"
      },
      {
       "output_type": "stream",
       "stream": "stdout",
       "text": "\rProgress 54.6%\rProgress 54.8%\rProgress 54.9%"
      },
      {
       "output_type": "stream",
       "stream": "stdout",
       "text": "\rProgress 55.1%\rProgress 55.3%\rProgress 55.5%"
      },
      {
       "output_type": "stream",
       "stream": "stdout",
       "text": "\rProgress 55.6%\rProgress 55.8%\rProgress 56.0%"
      },
      {
       "output_type": "stream",
       "stream": "stdout",
       "text": "\rProgress 56.2%\rProgress 56.3%\rProgress 56.5%"
      },
      {
       "output_type": "stream",
       "stream": "stdout",
       "text": "\rProgress 56.7%"
      },
      {
       "output_type": "stream",
       "stream": "stdout",
       "text": "\rProgress 56.8%\rProgress 57.0%\rProgress 57.2%"
      },
      {
       "output_type": "stream",
       "stream": "stdout",
       "text": "\rProgress 57.4%\rProgress 57.5%\rProgress 57.7%"
      },
      {
       "output_type": "stream",
       "stream": "stdout",
       "text": "\rProgress 57.9%\rProgress 58.1%\rProgress 58.2%"
      },
      {
       "output_type": "stream",
       "stream": "stdout",
       "text": "\rProgress 58.4%\rProgress 58.6%\rProgress 58.8%"
      },
      {
       "output_type": "stream",
       "stream": "stdout",
       "text": "\rProgress 58.9%\rProgress 59.1%\rProgress 59.3%"
      },
      {
       "output_type": "stream",
       "stream": "stdout",
       "text": "\rProgress 59.4%\rProgress 59.6%\rProgress 59.8%"
      },
      {
       "output_type": "stream",
       "stream": "stdout",
       "text": "\rProgress 60.0%\rProgress 60.1%\rProgress 60.3%\rProgress 60.5%"
      },
      {
       "output_type": "stream",
       "stream": "stdout",
       "text": "\rProgress 60.7%\rProgress 60.8%\rProgress 61.0%\rProgress 61.2%\rProgress 61.4%\rProgress 61.5%\rProgress 61.7%"
      },
      {
       "output_type": "stream",
       "stream": "stdout",
       "text": "\rProgress 61.9%\rProgress 62.0%"
      },
      {
       "output_type": "stream",
       "stream": "stdout",
       "text": "\rProgress 62.2%\rProgress 62.4%"
      },
      {
       "output_type": "stream",
       "stream": "stdout",
       "text": "\rProgress 62.6%\rProgress 62.7%"
      },
      {
       "output_type": "stream",
       "stream": "stdout",
       "text": "\rProgress 62.9%\rProgress 63.1%"
      },
      {
       "output_type": "stream",
       "stream": "stdout",
       "text": "\rProgress 63.3%\rProgress 63.4%\rProgress 63.6%"
      },
      {
       "output_type": "stream",
       "stream": "stdout",
       "text": "\rProgress 63.8%\rProgress 64.0%\rProgress 64.1%"
      },
      {
       "output_type": "stream",
       "stream": "stdout",
       "text": "\rProgress 64.3%\rProgress 64.5%\rProgress 64.6%\rProgress 64.8%\rProgress 65.0%\rProgress 65.2%\rProgress 65.3%\rProgress 65.5%\rProgress 65.7%\rProgress 65.9%\rProgress 66.0%"
      },
      {
       "output_type": "stream",
       "stream": "stdout",
       "text": "\rProgress 66.2%\rProgress 66.4%\rProgress 66.6%\rProgress 66.7%\rProgress 66.9%\rProgress 67.1%\rProgress 67.2%\rProgress 67.4%\rProgress 67.6%\rProgress 67.8%\rProgress 67.9%"
      },
      {
       "output_type": "stream",
       "stream": "stdout",
       "text": "\rProgress 68.1%\rProgress 68.3%\rProgress 68.5%\rProgress 68.6%\rProgress 68.8%\rProgress 69.0%\rProgress 69.2%"
      },
      {
       "output_type": "stream",
       "stream": "stdout",
       "text": "\rProgress 69.3%\rProgress 69.5%"
      },
      {
       "output_type": "stream",
       "stream": "stdout",
       "text": "\rProgress 69.7%\rProgress 69.8%\rProgress 70.0%"
      },
      {
       "output_type": "stream",
       "stream": "stdout",
       "text": "\rProgress 70.2%\rProgress 70.4%\rProgress 70.5%"
      },
      {
       "output_type": "stream",
       "stream": "stdout",
       "text": "\rProgress 70.7%\rProgress 70.9%\rProgress 71.1%"
      },
      {
       "output_type": "stream",
       "stream": "stdout",
       "text": "\rProgress 71.2%\rProgress 71.4%"
      },
      {
       "output_type": "stream",
       "stream": "stdout",
       "text": "\rProgress 71.6%\rProgress 71.8%"
      },
      {
       "output_type": "stream",
       "stream": "stdout",
       "text": "\rProgress 71.9%\rProgress 72.1%\rProgress 72.3%"
      },
      {
       "output_type": "stream",
       "stream": "stdout",
       "text": "\rProgress 72.4%\rProgress 72.6%"
      },
      {
       "output_type": "stream",
       "stream": "stdout",
       "text": "\rProgress 72.8%\rProgress 73.0%\rProgress 73.1%"
      },
      {
       "output_type": "stream",
       "stream": "stdout",
       "text": "\rProgress 73.3%\rProgress 73.5%\rProgress 73.7%"
      },
      {
       "output_type": "stream",
       "stream": "stdout",
       "text": "\rProgress 73.8%\rProgress 74.0%\rProgress 74.2%\rProgress 74.4%"
      },
      {
       "output_type": "stream",
       "stream": "stdout",
       "text": "\rProgress 74.5%\rProgress 74.7%\rProgress 74.9%"
      },
      {
       "output_type": "stream",
       "stream": "stdout",
       "text": "\rProgress 75.0%\rProgress 75.2%\rProgress 75.4%"
      },
      {
       "output_type": "stream",
       "stream": "stdout",
       "text": "\rProgress 75.6%\rProgress 75.7%\rProgress 75.9%"
      },
      {
       "output_type": "stream",
       "stream": "stdout",
       "text": "\rProgress 76.1%\rProgress 76.3%"
      },
      {
       "output_type": "stream",
       "stream": "stdout",
       "text": "\rProgress 76.4%\rProgress 76.6%\rProgress 76.8%"
      },
      {
       "output_type": "stream",
       "stream": "stdout",
       "text": "\rProgress 76.9%\rProgress 77.1%\rProgress 77.3%\rProgress 77.5%\rProgress 77.6%\rProgress 77.8%\rProgress 78.0%\rProgress 78.2%"
      },
      {
       "output_type": "stream",
       "stream": "stdout",
       "text": "\rProgress 78.3%\rProgress 78.5%\rProgress 78.7%\rProgress 78.9%\rProgress 79.0%\rProgress 79.2%\rProgress 79.4%\rProgress 79.5%\rProgress 79.7%\rProgress 79.9%\rProgress 80.1%\rProgress 80.2%\rProgress 80.4%\rProgress 80.6%\rProgress 80.8%\rProgress 80.9%"
      },
      {
       "output_type": "stream",
       "stream": "stdout",
       "text": "\rProgress 81.1%\rProgress 81.3%\rProgress 81.5%\rProgress 81.6%\rProgress 81.8%\rProgress 82.0%\rProgress 82.1%\rProgress 82.3%"
      },
      {
       "output_type": "stream",
       "stream": "stdout",
       "text": "\rProgress 82.5%\rProgress 82.7%\rProgress 82.8%\rProgress 83.0%\rProgress 83.2%\rProgress 83.4%\rProgress 83.5%\rProgress 83.7%\rProgress 83.9%\rProgress 84.1%"
      },
      {
       "output_type": "stream",
       "stream": "stdout",
       "text": "\rProgress 84.2%\rProgress 84.4%\rProgress 84.6%\rProgress 84.7%\rProgress 84.9%\rProgress 85.1%\rProgress 85.3%\rProgress 85.4%\rProgress 85.6%"
      },
      {
       "output_type": "stream",
       "stream": "stdout",
       "text": "\rProgress 85.8%\rProgress 86.0%\rProgress 86.1%\rProgress 86.3%\rProgress 86.5%\rProgress 86.7%\rProgress 86.8%"
      },
      {
       "output_type": "stream",
       "stream": "stdout",
       "text": "\rProgress 87.0%\rProgress 87.2%\rProgress 87.3%\rProgress 87.5%"
      },
      {
       "output_type": "stream",
       "stream": "stdout",
       "text": "\rProgress 87.7%\rProgress 87.9%\rProgress 88.0%"
      },
      {
       "output_type": "stream",
       "stream": "stdout",
       "text": "\rProgress 88.2%\rProgress 88.4%\rProgress 88.6%\rProgress 88.7%\rProgress 88.9%\rProgress 89.1%\rProgress 89.3%\rProgress 89.4%\rProgress 89.6%\rProgress 89.8%\rProgress 89.9%\rProgress 90.1%"
      },
      {
       "output_type": "stream",
       "stream": "stdout",
       "text": "\rProgress 90.3%\rProgress 90.5%\rProgress 90.6%\rProgress 90.8%\rProgress 91.0%\rProgress 91.2%\rProgress 91.3%\rProgress 91.5%\rProgress 91.7%\rProgress 91.9%\rProgress 92.0%\rProgress 92.2%\rProgress 92.4%\rProgress 92.5%"
      },
      {
       "output_type": "stream",
       "stream": "stdout",
       "text": "\rProgress 92.7%\rProgress 92.9%\rProgress 93.1%\rProgress 93.2%\rProgress 93.4%"
      },
      {
       "output_type": "stream",
       "stream": "stdout",
       "text": "\rProgress 93.6%\rProgress 93.8%\rProgress 93.9%\rProgress 94.1%\rProgress 94.3%"
      },
      {
       "output_type": "stream",
       "stream": "stdout",
       "text": "\rProgress 94.5%\rProgress 94.6%\rProgress 94.8%\rProgress 95.0%\rProgress 95.1%"
      },
      {
       "output_type": "stream",
       "stream": "stdout",
       "text": "\rProgress 95.3%\rProgress 95.5%\rProgress 95.7%\rProgress 95.8%"
      },
      {
       "output_type": "stream",
       "stream": "stdout",
       "text": "\rProgress 96.0%\rProgress 96.2%\rProgress 96.4%\rProgress 96.5%"
      },
      {
       "output_type": "stream",
       "stream": "stdout",
       "text": "\rProgress 96.7%\rProgress 96.9%\r2014-05-20 20:08:29.327623 Finished routes time series in 0.58 min\n2014-05-20 20:08:30.221558"
      },
      {
       "output_type": "stream",
       "stream": "stdout",
       "text": " Finished process in 1.28 min\n"
      },
      {
       "metadata": {},
       "output_type": "display_data",
       "png": "[encoded data removed]",
       "text": "<matplotlib.figure.Figure at 0x10292f290>"
      }
     ],
     "prompt_number": 12
    }
   ],
   "metadata": {}
  }
 ]
}