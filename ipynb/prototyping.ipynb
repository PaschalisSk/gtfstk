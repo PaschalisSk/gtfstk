{
 "cells": [
  {
   "cell_type": "code",
   "execution_count": null,
   "metadata": {},
   "outputs": [],
   "source": [
    "from __future__ import division\n",
    "import datetime as dt\n",
    "from collections import OrderedDict\n",
    "import sys, os\n",
    "import dateutil.relativedelta as rd\n",
    "import json\n",
    "from pathlib import Path\n",
    "\n",
    "import utm\n",
    "import pandas as pd\n",
    "import numpy as np\n",
    "import shapely.geometry as sg\n",
    "\n",
    "DIR = Path('..')\n",
    "sys.path.append(str(DIR))\n",
    "\n",
    "import gtfstk as gt\n",
    "\n",
    "%load_ext autoreload\n",
    "%autoreload 2\n",
    "\n",
    "DATA_DIR = DIR/'data'"
   ]
  },
  {
   "cell_type": "code",
   "execution_count": null,
   "metadata": {},
   "outputs": [],
   "source": [
    "path = DATA_DIR/'cairns_gtfs.zip'\n",
    "path = \"/home/araichev/transit_flows/maps/data/hamilton_gtfs_20171113.zip\"\n",
    "#print(gt.list_gtfs(path))\n",
    "\n",
    "feed = gt.read_gtfs(path, dist_units='km')\n"
   ]
  },
  {
   "cell_type": "code",
   "execution_count": null,
   "metadata": {},
   "outputs": [],
   "source": [
    "dates = feed.get_week(51)\n",
    "feed.compute_route_stats(dates)"
   ]
  },
  {
   "cell_type": "code",
   "execution_count": null,
   "metadata": {},
   "outputs": [],
   "source": [
    "freq = \"6H\"\n",
    "sts = feed.compute_stop_time_series(dates, freq=freq, split_directions=True)\n",
    "rts = feed.compute_route_time_series(trip_stats, dates, freq=freq)\n",
    "fts = feed.compute_feed_time_series(trip_stats, dates, freq=freq, split_route_types=True)"
   ]
  },
  {
   "cell_type": "code",
   "execution_count": null,
   "metadata": {},
   "outputs": [],
   "source": [
    "fts"
   ]
  },
  {
   "cell_type": "code",
   "execution_count": null,
   "metadata": {},
   "outputs": [],
   "source": [
    "(\n",
    "    rts\n",
    "    .pipe(gt.unstack_time_series)\n",
    "    .merge(feed.routes.filter([\"route_id\", \"route_type\"]), how=\"left\")\n",
    "    .groupby([\"datetime\", \"indicator\", \"route_type\"])\n",
    "    .agg({\"value\": lambda x: x.sum(skipna=True, min_count=1)})  # Preserve NaNs\n",
    "    .reset_index(\"datetime\")\n",
    "#     .fillna(-1)\n",
    "#     .pivot_table(\n",
    "#         index=[\"datetime\"], columns=[\"indicator\", \"route_type\"]\n",
    "#     )\n",
    "#     .value\n",
    "#     .replace({-1: np.nan})\n",
    ")"
   ]
  },
  {
   "cell_type": "code",
   "execution_count": null,
   "metadata": {},
   "outputs": [],
   "source": [
    "# Slicing \n",
    "display(fts.loc[:, (\"num_trips\", slice(None))])\n",
    "display(fts.xs(\"num_trips\", axis=\"columns\"))"
   ]
  },
  {
   "cell_type": "code",
   "execution_count": null,
   "metadata": {},
   "outputs": [],
   "source": [
    "f = fts = feed.compute_feed_time_series(trip_stats, dates[:1], freq=\"12H\", split_route_types=False)\n",
    "display(f)\n",
    "g = gt.unstack_time_series(f)\n",
    "\n",
    "# columns = [c for c in g.columns if c not in [\"datetime\", \"value\"]]\n",
    "# h = g.pivot_table(index=\"datetime\", columns=columns).value.sort_index(\n",
    "#     axis=\"columns\"\n",
    "# )\n",
    "\n",
    "# hours = (h.index[1] - h.index[0]).components.hours\n",
    "# if hours != 0:\n",
    "#     freqy = f\"{hours}H\"\n",
    "# else:\n",
    "#     freqy = \"D\"\n",
    "\n",
    "# print(freqy)\n",
    "\n",
    "h = gt.restack_time_series(g)\n",
    "h"
   ]
  },
  {
   "cell_type": "code",
   "execution_count": null,
   "metadata": {},
   "outputs": [],
   "source": [
    "f.index"
   ]
  },
  {
   "cell_type": "code",
   "execution_count": null,
   "metadata": {},
   "outputs": [],
   "source": [
    "delta.components.hours"
   ]
  },
  {
   "cell_type": "code",
   "execution_count": null,
   "metadata": {},
   "outputs": [],
   "source": [
    "feed1 = feed.copy()\n",
    "cal = feed1.calendar.copy()\n",
    "cal[\"monday\"] = 0\n",
    "feed1.calendar = cal\n",
    "feed1.compute_feed_time_series(trip_stats, dates, freq=\"12H\")"
   ]
  },
  {
   "cell_type": "code",
   "execution_count": null,
   "metadata": {},
   "outputs": [],
   "source": [
    "s1 = pd.Series({\"hello\": 12, \"goodbye\": 13})\n",
    "s2 = s1.copy()\n",
    "pd.DataFrame([s1, s2])"
   ]
  },
  {
   "cell_type": "code",
   "execution_count": null,
   "metadata": {},
   "outputs": [],
   "source": [
    "feed.compute_stop_stats(['20140601', '20140603'])"
   ]
  },
  {
   "cell_type": "code",
   "execution_count": null,
   "metadata": {},
   "outputs": [],
   "source": [
    "trip_stats = feed.compute_trip_stats()\n",
    "feed = feed.append_dist_to_stop_times(trip_stats)\n",
    "\n",
    "# Load screen line\n",
    "with (DATA_DIR/'cairns_screen_line.geojson').open() as src:\n",
    "    line = json.load(src)\n",
    "    line = sg.shape(line['features'][0]['geometry'])\n",
    "\n"
   ]
  },
  {
   "cell_type": "code",
   "execution_count": null,
   "metadata": {},
   "outputs": [],
   "source": [
    "f = feed.compute_screen_line_counts(line, dates[:7])\n",
    "f[f['crossing_time'] < '06:00:00']"
   ]
  },
  {
   "cell_type": "code",
   "execution_count": null,
   "metadata": {},
   "outputs": [],
   "source": [
    "feed.compute_feed_time_series(ts, dates[-2:], freq='12H')"
   ]
  },
  {
   "cell_type": "code",
   "execution_count": null,
   "metadata": {},
   "outputs": [],
   "source": [
    "sd = False\n",
    "#%time p1 = proto1(feed, ts, dates[:14], split_directions=sd)\n",
    "%time p2 = proto2(feed, [dates[0], '20010101'], split_directions=sd, freq='12H')\n",
    "p2"
   ]
  },
  {
   "cell_type": "code",
   "execution_count": null,
   "metadata": {},
   "outputs": [],
   "source": [
    "feed.compute_feed_stats(ts, dates[0])"
   ]
  },
  {
   "cell_type": "code",
   "execution_count": null,
   "metadata": {},
   "outputs": [],
   "source": [
    "feed.describe()"
   ]
  },
  {
   "cell_type": "code",
   "execution_count": null,
   "metadata": {},
   "outputs": [],
   "source": [
    "feed.summarize()"
   ]
  },
  {
   "cell_type": "code",
   "execution_count": null,
   "metadata": {},
   "outputs": [],
   "source": []
  }
 ],
 "metadata": {
  "kernelspec": {
   "display_name": "Python 3",
   "language": "python",
   "name": "python3"
  },
  "language_info": {
   "codemirror_mode": {
    "name": "ipython",
    "version": 3
   },
   "file_extension": ".py",
   "mimetype": "text/x-python",
   "name": "python",
   "nbconvert_exporter": "python",
   "pygments_lexer": "ipython3",
   "version": "3.6.7"
  }
 },
 "nbformat": 4,
 "nbformat_minor": 1
}
