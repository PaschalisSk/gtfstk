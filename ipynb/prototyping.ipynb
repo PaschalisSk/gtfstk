{
 "cells": [
  {
   "cell_type": "code",
   "execution_count": 1,
   "metadata": {
    "collapsed": false
   },
   "outputs": [],
   "source": [
    "from __future__ import division\n",
    "import datetime as dt\n",
    "from collections import OrderedDict\n",
    "import sys, os\n",
    "import dateutil.relativedelta as rd\n",
    "import json\n",
    "from pathlib import Path\n",
    "\n",
    "import utm\n",
    "import pandas as pd\n",
    "import numpy as np\n",
    "import shapely.geometry as sg\n",
    "\n",
    "DIR = Path('..')\n",
    "sys.path.append(str(DIR))\n",
    "\n",
    "import gtfstk as gt\n",
    "\n",
    "%load_ext autoreload\n",
    "%autoreload 2\n",
    "\n",
    "DATA_DIR = DIR/'data'"
   ]
  },
  {
   "cell_type": "code",
   "execution_count": 24,
   "metadata": {
    "collapsed": false
   },
   "outputs": [
    {
     "name": "stdout",
     "output_type": "stream",
     "text": [
      "            file_name  file_size\n",
      "0  calendar_dates.txt        387\n",
      "1          routes.txt       1478\n",
      "2           trips.txt     143081\n",
      "3           stops.txt      26183\n",
      "4          agency.txt        199\n",
      "5      stop_times.txt    2561019\n",
      "6          shapes.txt     864694\n",
      "7        calendar.txt        337\n"
     ]
    }
   ],
   "source": [
    "#path = DATA_DIR/'sample_gtfs.zip'\n",
    "#path = DATA_DIR/'other_feeds'/'gtfs.zip'\n",
    "path = DATA_DIR/'cairns_gtfs.zip'\n",
    "\n",
    "print(gt.list_gtfs(path))\n",
    "\n",
    "feed = gt.read_gtfs(path, dist_units='km')\n",
    "\n",
    "# Pick date\n",
    "dates = feed.get_dates()\n"
   ]
  },
  {
   "cell_type": "code",
   "execution_count": 30,
   "metadata": {
    "collapsed": false
   },
   "outputs": [],
   "source": [
    "trip_stats = feed.compute_trip_stats()\n",
    "feed = feed.append_dist_to_stop_times(trip_stats)\n",
    "\n",
    "# Load screen line\n",
    "with (DATA_DIR/'cairns_screen_line.geojson').open() as src:\n",
    "    line = json.load(src)\n",
    "    line = sg.shape(line['features'][0]['geometry'])\n",
    "\n"
   ]
  },
  {
   "cell_type": "code",
   "execution_count": 36,
   "metadata": {
    "collapsed": false
   },
   "outputs": [
    {
     "data": {
      "text/html": [
       "<div>\n",
       "<style>\n",
       "    .dataframe thead tr:only-child th {\n",
       "        text-align: right;\n",
       "    }\n",
       "\n",
       "    .dataframe thead th {\n",
       "        text-align: left;\n",
       "    }\n",
       "\n",
       "    .dataframe tbody tr th {\n",
       "        vertical-align: top;\n",
       "    }\n",
       "</style>\n",
       "<table border=\"1\" class=\"dataframe\">\n",
       "  <thead>\n",
       "    <tr style=\"text-align: right;\">\n",
       "      <th></th>\n",
       "      <th>date</th>\n",
       "      <th>trip_id</th>\n",
       "      <th>route_id</th>\n",
       "      <th>route_short_name</th>\n",
       "      <th>crossing_time</th>\n",
       "      <th>orientation</th>\n",
       "    </tr>\n",
       "  </thead>\n",
       "  <tbody>\n",
       "    <tr>\n",
       "      <th>362</th>\n",
       "      <td>20140526</td>\n",
       "      <td>CNS2014-CNS_MUL-Weekday-00-4166383</td>\n",
       "      <td>120-423</td>\n",
       "      <td>120</td>\n",
       "      <td>05:42:28</td>\n",
       "      <td>-1</td>\n",
       "    </tr>\n",
       "    <tr>\n",
       "      <th>363</th>\n",
       "      <td>20140526</td>\n",
       "      <td>CNS2014-CNS_MUL-Weekday-00-4166383</td>\n",
       "      <td>120-423</td>\n",
       "      <td>120</td>\n",
       "      <td>05:50:28</td>\n",
       "      <td>1</td>\n",
       "    </tr>\n",
       "    <tr>\n",
       "      <th>68</th>\n",
       "      <td>20140527</td>\n",
       "      <td>CNS2014-CNS_MUL-Weekday-00-4166383</td>\n",
       "      <td>120-423</td>\n",
       "      <td>120</td>\n",
       "      <td>05:42:28</td>\n",
       "      <td>-1</td>\n",
       "    </tr>\n",
       "    <tr>\n",
       "      <th>69</th>\n",
       "      <td>20140527</td>\n",
       "      <td>CNS2014-CNS_MUL-Weekday-00-4166383</td>\n",
       "      <td>120-423</td>\n",
       "      <td>120</td>\n",
       "      <td>05:50:28</td>\n",
       "      <td>1</td>\n",
       "    </tr>\n",
       "    <tr>\n",
       "      <th>0</th>\n",
       "      <td>20140528</td>\n",
       "      <td>CNS2014-CNS_MUL-Weekday-00-4166383</td>\n",
       "      <td>120-423</td>\n",
       "      <td>120</td>\n",
       "      <td>05:42:28</td>\n",
       "      <td>-1</td>\n",
       "    </tr>\n",
       "    <tr>\n",
       "      <th>1</th>\n",
       "      <td>20140528</td>\n",
       "      <td>CNS2014-CNS_MUL-Weekday-00-4166383</td>\n",
       "      <td>120-423</td>\n",
       "      <td>120</td>\n",
       "      <td>05:50:28</td>\n",
       "      <td>1</td>\n",
       "    </tr>\n",
       "    <tr>\n",
       "      <th>262</th>\n",
       "      <td>20140529</td>\n",
       "      <td>CNS2014-CNS_MUL-Weekday-00-4166383</td>\n",
       "      <td>120-423</td>\n",
       "      <td>120</td>\n",
       "      <td>05:42:28</td>\n",
       "      <td>-1</td>\n",
       "    </tr>\n",
       "    <tr>\n",
       "      <th>263</th>\n",
       "      <td>20140529</td>\n",
       "      <td>CNS2014-CNS_MUL-Weekday-00-4166383</td>\n",
       "      <td>120-423</td>\n",
       "      <td>120</td>\n",
       "      <td>05:50:28</td>\n",
       "      <td>1</td>\n",
       "    </tr>\n",
       "    <tr>\n",
       "      <th>136</th>\n",
       "      <td>20140530</td>\n",
       "      <td>CNS2014-CNS_MUL-Weekday-00-4166383</td>\n",
       "      <td>120-423</td>\n",
       "      <td>120</td>\n",
       "      <td>05:42:28</td>\n",
       "      <td>-1</td>\n",
       "    </tr>\n",
       "    <tr>\n",
       "      <th>137</th>\n",
       "      <td>20140530</td>\n",
       "      <td>CNS2014-CNS_MUL-Weekday-00-4166383</td>\n",
       "      <td>120-423</td>\n",
       "      <td>120</td>\n",
       "      <td>05:50:28</td>\n",
       "      <td>1</td>\n",
       "    </tr>\n",
       "    <tr>\n",
       "      <th>204</th>\n",
       "      <td>20140531</td>\n",
       "      <td>CNS2014-CNS_MUL-Saturday-00-4166415</td>\n",
       "      <td>120-423</td>\n",
       "      <td>120</td>\n",
       "      <td>05:58:28</td>\n",
       "      <td>-1</td>\n",
       "    </tr>\n",
       "  </tbody>\n",
       "</table>\n",
       "</div>"
      ],
      "text/plain": [
       "         date                              trip_id route_id route_short_name  \\\n",
       "362  20140526   CNS2014-CNS_MUL-Weekday-00-4166383  120-423              120   \n",
       "363  20140526   CNS2014-CNS_MUL-Weekday-00-4166383  120-423              120   \n",
       "68   20140527   CNS2014-CNS_MUL-Weekday-00-4166383  120-423              120   \n",
       "69   20140527   CNS2014-CNS_MUL-Weekday-00-4166383  120-423              120   \n",
       "0    20140528   CNS2014-CNS_MUL-Weekday-00-4166383  120-423              120   \n",
       "1    20140528   CNS2014-CNS_MUL-Weekday-00-4166383  120-423              120   \n",
       "262  20140529   CNS2014-CNS_MUL-Weekday-00-4166383  120-423              120   \n",
       "263  20140529   CNS2014-CNS_MUL-Weekday-00-4166383  120-423              120   \n",
       "136  20140530   CNS2014-CNS_MUL-Weekday-00-4166383  120-423              120   \n",
       "137  20140530   CNS2014-CNS_MUL-Weekday-00-4166383  120-423              120   \n",
       "204  20140531  CNS2014-CNS_MUL-Saturday-00-4166415  120-423              120   \n",
       "\n",
       "    crossing_time  orientation  \n",
       "362      05:42:28           -1  \n",
       "363      05:50:28            1  \n",
       "68       05:42:28           -1  \n",
       "69       05:50:28            1  \n",
       "0        05:42:28           -1  \n",
       "1        05:50:28            1  \n",
       "262      05:42:28           -1  \n",
       "263      05:50:28            1  \n",
       "136      05:42:28           -1  \n",
       "137      05:50:28            1  \n",
       "204      05:58:28           -1  "
      ]
     },
     "execution_count": 36,
     "metadata": {},
     "output_type": "execute_result"
    }
   ],
   "source": [
    "f = feed.compute_screen_line_counts(line, dates[:7])\n",
    "f[f['crossing_time'] < '06:00:00']"
   ]
  },
  {
   "cell_type": "code",
   "execution_count": 87,
   "metadata": {
    "collapsed": false
   },
   "outputs": [
    {
     "data": {
      "text/html": [
       "<div>\n",
       "<table border=\"1\" class=\"dataframe\">\n",
       "  <thead>\n",
       "    <tr style=\"text-align: right;\">\n",
       "      <th></th>\n",
       "      <th>num_trip_starts</th>\n",
       "      <th>num_trips</th>\n",
       "      <th>service_distance</th>\n",
       "      <th>service_duration</th>\n",
       "      <th>service_speed</th>\n",
       "    </tr>\n",
       "  </thead>\n",
       "  <tbody>\n",
       "    <tr>\n",
       "      <th>2014-12-27 00:00:00</th>\n",
       "      <td>161.0</td>\n",
       "      <td>9.061111</td>\n",
       "      <td>3560.126691</td>\n",
       "      <td>108.733333</td>\n",
       "      <td>32.741815</td>\n",
       "    </tr>\n",
       "    <tr>\n",
       "      <th>2014-12-27 12:00:00</th>\n",
       "      <td>276.0</td>\n",
       "      <td>16.805556</td>\n",
       "      <td>6351.399405</td>\n",
       "      <td>201.666667</td>\n",
       "      <td>31.494543</td>\n",
       "    </tr>\n",
       "    <tr>\n",
       "      <th>2014-12-28 00:00:00</th>\n",
       "      <td>80.0</td>\n",
       "      <td>4.711111</td>\n",
       "      <td>1820.286021</td>\n",
       "      <td>56.533333</td>\n",
       "      <td>32.198456</td>\n",
       "    </tr>\n",
       "    <tr>\n",
       "      <th>2014-12-28 12:00:00</th>\n",
       "      <td>186.0</td>\n",
       "      <td>11.762500</td>\n",
       "      <td>4570.560294</td>\n",
       "      <td>141.150000</td>\n",
       "      <td>32.380873</td>\n",
       "    </tr>\n",
       "  </tbody>\n",
       "</table>\n",
       "</div>"
      ],
      "text/plain": [
       "                     num_trip_starts  num_trips  service_distance  \\\n",
       "2014-12-27 00:00:00            161.0   9.061111       3560.126691   \n",
       "2014-12-27 12:00:00            276.0  16.805556       6351.399405   \n",
       "2014-12-28 00:00:00             80.0   4.711111       1820.286021   \n",
       "2014-12-28 12:00:00            186.0  11.762500       4570.560294   \n",
       "\n",
       "                     service_duration  service_speed  \n",
       "2014-12-27 00:00:00        108.733333      32.741815  \n",
       "2014-12-27 12:00:00        201.666667      31.494543  \n",
       "2014-12-28 00:00:00         56.533333      32.198456  \n",
       "2014-12-28 12:00:00        141.150000      32.380873  "
      ]
     },
     "execution_count": 87,
     "metadata": {},
     "output_type": "execute_result"
    }
   ],
   "source": [
    "feed.compute_feed_time_series(ts, dates[-2:], freq='12H')"
   ]
  },
  {
   "cell_type": "code",
   "execution_count": 67,
   "metadata": {
    "collapsed": false
   },
   "outputs": [
    {
     "name": "stdout",
     "output_type": "stream",
     "text": [
      "CPU times: user 896 ms, sys: 0 ns, total: 896 ms\n",
      "Wall time: 895 ms\n"
     ]
    },
    {
     "data": {
      "text/html": [
       "<div>\n",
       "<table border=\"1\" class=\"dataframe\">\n",
       "  <thead>\n",
       "    <tr>\n",
       "      <th>indicator</th>\n",
       "      <th colspan=\"21\" halign=\"left\">num_trips</th>\n",
       "    </tr>\n",
       "    <tr>\n",
       "      <th>stop_id</th>\n",
       "      <th>750000</th>\n",
       "      <th>750001</th>\n",
       "      <th>750002</th>\n",
       "      <th>750003</th>\n",
       "      <th>750004</th>\n",
       "      <th>750005</th>\n",
       "      <th>750006</th>\n",
       "      <th>750007</th>\n",
       "      <th>750008</th>\n",
       "      <th>750009</th>\n",
       "      <th>...</th>\n",
       "      <th>750437</th>\n",
       "      <th>750440</th>\n",
       "      <th>750448</th>\n",
       "      <th>750449</th>\n",
       "      <th>750450</th>\n",
       "      <th>750452</th>\n",
       "      <th>750453</th>\n",
       "      <th>750454</th>\n",
       "      <th>750455</th>\n",
       "      <th>750456</th>\n",
       "    </tr>\n",
       "  </thead>\n",
       "  <tbody>\n",
       "    <tr>\n",
       "      <th>2014-05-26 00:00:00</th>\n",
       "      <td>13</td>\n",
       "      <td>13</td>\n",
       "      <td>13</td>\n",
       "      <td>13</td>\n",
       "      <td>13</td>\n",
       "      <td>13</td>\n",
       "      <td>12</td>\n",
       "      <td>12</td>\n",
       "      <td>12</td>\n",
       "      <td>12</td>\n",
       "      <td>...</td>\n",
       "      <td>6</td>\n",
       "      <td>5</td>\n",
       "      <td>10</td>\n",
       "      <td>110</td>\n",
       "      <td>36</td>\n",
       "      <td>28</td>\n",
       "      <td>25</td>\n",
       "      <td>11</td>\n",
       "      <td>4</td>\n",
       "      <td>46</td>\n",
       "    </tr>\n",
       "    <tr>\n",
       "      <th>2014-05-26 12:00:00</th>\n",
       "      <td>17</td>\n",
       "      <td>17</td>\n",
       "      <td>17</td>\n",
       "      <td>17</td>\n",
       "      <td>17</td>\n",
       "      <td>17</td>\n",
       "      <td>18</td>\n",
       "      <td>18</td>\n",
       "      <td>18</td>\n",
       "      <td>18</td>\n",
       "      <td>...</td>\n",
       "      <td>10</td>\n",
       "      <td>12</td>\n",
       "      <td>11</td>\n",
       "      <td>179</td>\n",
       "      <td>65</td>\n",
       "      <td>53</td>\n",
       "      <td>49</td>\n",
       "      <td>17</td>\n",
       "      <td>11</td>\n",
       "      <td>79</td>\n",
       "    </tr>\n",
       "  </tbody>\n",
       "</table>\n",
       "<p>2 rows × 416 columns</p>\n",
       "</div>"
      ],
      "text/plain": [
       "indicator           num_trips                                            \\\n",
       "stop_id                750000 750001 750002 750003 750004 750005 750006   \n",
       "2014-05-26 00:00:00        13     13     13     13     13     13     12   \n",
       "2014-05-26 12:00:00        17     17     17     17     17     17     18   \n",
       "\n",
       "indicator                                 ...                                \\\n",
       "stop_id             750007 750008 750009  ...   750437 750440 750448 750449   \n",
       "2014-05-26 00:00:00     12     12     12  ...        6      5     10    110   \n",
       "2014-05-26 12:00:00     18     18     18  ...       10     12     11    179   \n",
       "\n",
       "indicator                                                      \n",
       "stop_id             750450 750452 750453 750454 750455 750456  \n",
       "2014-05-26 00:00:00     36     28     25     11      4     46  \n",
       "2014-05-26 12:00:00     65     53     49     17     11     79  \n",
       "\n",
       "[2 rows x 416 columns]"
      ]
     },
     "execution_count": 67,
     "metadata": {},
     "output_type": "execute_result"
    }
   ],
   "source": [
    "sd = False\n",
    "#%time p1 = proto1(feed, ts, dates[:14], split_directions=sd)\n",
    "%time p2 = proto2(feed, [dates[0], '20010101'], split_directions=sd, freq='12H')\n",
    "p2"
   ]
  },
  {
   "cell_type": "code",
   "execution_count": null,
   "metadata": {
    "collapsed": false
   },
   "outputs": [],
   "source": [
    "feed.compute_feed_stats(ts, dates[0])"
   ]
  },
  {
   "cell_type": "code",
   "execution_count": null,
   "metadata": {
    "collapsed": false
   },
   "outputs": [],
   "source": [
    "feed.describe()"
   ]
  },
  {
   "cell_type": "code",
   "execution_count": null,
   "metadata": {
    "collapsed": false
   },
   "outputs": [],
   "source": [
    "feed.summarize()"
   ]
  },
  {
   "cell_type": "code",
   "execution_count": null,
   "metadata": {
    "collapsed": true
   },
   "outputs": [],
   "source": []
  }
 ],
 "metadata": {
  "kernelspec": {
   "display_name": "Python 3",
   "language": "python",
   "name": "python3"
  },
  "language_info": {
   "codemirror_mode": {
    "name": "ipython",
    "version": 3
   },
   "file_extension": ".py",
   "mimetype": "text/x-python",
   "name": "python",
   "nbconvert_exporter": "python",
   "pygments_lexer": "ipython3",
   "version": "3.5.3"
  }
 },
 "nbformat": 4,
 "nbformat_minor": 0
}
