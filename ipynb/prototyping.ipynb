{
 "cells": [
  {
   "cell_type": "code",
   "execution_count": 1,
   "metadata": {},
   "outputs": [],
   "source": [
    "from __future__ import division\n",
    "import datetime as dt\n",
    "from collections import OrderedDict\n",
    "import sys, os\n",
    "import dateutil.relativedelta as rd\n",
    "import json\n",
    "from pathlib import Path\n",
    "\n",
    "import utm\n",
    "import pandas as pd\n",
    "import numpy as np\n",
    "import shapely.geometry as sg\n",
    "\n",
    "DIR = Path('..')\n",
    "sys.path.append(str(DIR))\n",
    "\n",
    "import gtfstk as gt\n",
    "\n",
    "%load_ext autoreload\n",
    "%autoreload 2\n",
    "\n",
    "DATA_DIR = DIR/'data'"
   ]
  },
  {
   "cell_type": "code",
   "execution_count": 2,
   "metadata": {},
   "outputs": [
    {
     "name": "stdout",
     "output_type": "stream",
     "text": [
      "            file_name  file_size\n",
      "0  calendar_dates.txt        387\n",
      "1          routes.txt       1478\n",
      "2           trips.txt     143081\n",
      "3           stops.txt      26183\n",
      "4          agency.txt        199\n",
      "5      stop_times.txt    2561019\n",
      "6          shapes.txt     864694\n",
      "7        calendar.txt        337\n"
     ]
    }
   ],
   "source": [
    "#path = DATA_DIR/'sample_gtfs.zip'\n",
    "#path = DATA_DIR/'other_feeds'/'gtfs.zip'\n",
    "path = DATA_DIR/'cairns_gtfs.zip'\n",
    "\n",
    "print(gt.list_gtfs(path))\n",
    "\n",
    "feed = gt.read_gtfs(path, dist_units='km')\n"
   ]
  },
  {
   "cell_type": "code",
   "execution_count": 3,
   "metadata": {},
   "outputs": [
    {
     "data": {
      "text/plain": [
       "['20140526',\n",
       " '20140527',\n",
       " '20140528',\n",
       " '20140529',\n",
       " '20140530',\n",
       " '20140531',\n",
       " '20140601',\n",
       " '20140602',\n",
       " '20140603',\n",
       " '20140604',\n",
       " '20140605',\n",
       " '20140606',\n",
       " '20140607',\n",
       " '20140608',\n",
       " '20140609',\n",
       " '20140610',\n",
       " '20140611',\n",
       " '20140612',\n",
       " '20140613',\n",
       " '20140614',\n",
       " '20140615',\n",
       " '20140616',\n",
       " '20140617',\n",
       " '20140618',\n",
       " '20140619',\n",
       " '20140620',\n",
       " '20140621',\n",
       " '20140622',\n",
       " '20140623',\n",
       " '20140624',\n",
       " '20140625',\n",
       " '20140626',\n",
       " '20140627',\n",
       " '20140628',\n",
       " '20140629',\n",
       " '20140630',\n",
       " '20140701',\n",
       " '20140702',\n",
       " '20140703',\n",
       " '20140704',\n",
       " '20140705',\n",
       " '20140706',\n",
       " '20140707',\n",
       " '20140708',\n",
       " '20140709',\n",
       " '20140710',\n",
       " '20140711',\n",
       " '20140712',\n",
       " '20140713',\n",
       " '20140714',\n",
       " '20140715',\n",
       " '20140716',\n",
       " '20140717',\n",
       " '20140718',\n",
       " '20140719',\n",
       " '20140720',\n",
       " '20140721',\n",
       " '20140722',\n",
       " '20140723',\n",
       " '20140724',\n",
       " '20140725',\n",
       " '20140726',\n",
       " '20140727',\n",
       " '20140728',\n",
       " '20140729',\n",
       " '20140730',\n",
       " '20140731',\n",
       " '20140801',\n",
       " '20140802',\n",
       " '20140803',\n",
       " '20140804',\n",
       " '20140805',\n",
       " '20140806',\n",
       " '20140807',\n",
       " '20140808',\n",
       " '20140809',\n",
       " '20140810',\n",
       " '20140811',\n",
       " '20140812',\n",
       " '20140813',\n",
       " '20140814',\n",
       " '20140815',\n",
       " '20140816',\n",
       " '20140817',\n",
       " '20140818',\n",
       " '20140819',\n",
       " '20140820',\n",
       " '20140821',\n",
       " '20140822',\n",
       " '20140823',\n",
       " '20140824',\n",
       " '20140825',\n",
       " '20140826',\n",
       " '20140827',\n",
       " '20140828',\n",
       " '20140829',\n",
       " '20140830',\n",
       " '20140831',\n",
       " '20140901',\n",
       " '20140902',\n",
       " '20140903',\n",
       " '20140904',\n",
       " '20140905',\n",
       " '20140906',\n",
       " '20140907',\n",
       " '20140908',\n",
       " '20140909',\n",
       " '20140910',\n",
       " '20140911',\n",
       " '20140912',\n",
       " '20140913',\n",
       " '20140914',\n",
       " '20140915',\n",
       " '20140916',\n",
       " '20140917',\n",
       " '20140918',\n",
       " '20140919',\n",
       " '20140920',\n",
       " '20140921',\n",
       " '20140922',\n",
       " '20140923',\n",
       " '20140924',\n",
       " '20140925',\n",
       " '20140926',\n",
       " '20140927',\n",
       " '20140928',\n",
       " '20140929',\n",
       " '20140930',\n",
       " '20141001',\n",
       " '20141002',\n",
       " '20141003',\n",
       " '20141004',\n",
       " '20141005',\n",
       " '20141006',\n",
       " '20141007',\n",
       " '20141008',\n",
       " '20141009',\n",
       " '20141010',\n",
       " '20141011',\n",
       " '20141012',\n",
       " '20141013',\n",
       " '20141014',\n",
       " '20141015',\n",
       " '20141016',\n",
       " '20141017',\n",
       " '20141018',\n",
       " '20141019',\n",
       " '20141020',\n",
       " '20141021',\n",
       " '20141022',\n",
       " '20141023',\n",
       " '20141024',\n",
       " '20141025',\n",
       " '20141026',\n",
       " '20141027',\n",
       " '20141028',\n",
       " '20141029',\n",
       " '20141030',\n",
       " '20141031',\n",
       " '20141101',\n",
       " '20141102',\n",
       " '20141103',\n",
       " '20141104',\n",
       " '20141105',\n",
       " '20141106',\n",
       " '20141107',\n",
       " '20141108',\n",
       " '20141109',\n",
       " '20141110',\n",
       " '20141111',\n",
       " '20141112',\n",
       " '20141113',\n",
       " '20141114',\n",
       " '20141115',\n",
       " '20141116',\n",
       " '20141117',\n",
       " '20141118',\n",
       " '20141119',\n",
       " '20141120',\n",
       " '20141121',\n",
       " '20141122',\n",
       " '20141123',\n",
       " '20141124',\n",
       " '20141125',\n",
       " '20141126',\n",
       " '20141127',\n",
       " '20141128',\n",
       " '20141129',\n",
       " '20141130',\n",
       " '20141201',\n",
       " '20141202',\n",
       " '20141203',\n",
       " '20141204',\n",
       " '20141205',\n",
       " '20141206',\n",
       " '20141207',\n",
       " '20141208',\n",
       " '20141209',\n",
       " '20141210',\n",
       " '20141211',\n",
       " '20141212',\n",
       " '20141213',\n",
       " '20141214',\n",
       " '20141215',\n",
       " '20141216',\n",
       " '20141217',\n",
       " '20141218',\n",
       " '20141219',\n",
       " '20141220',\n",
       " '20141221',\n",
       " '20141222',\n",
       " '20141223',\n",
       " '20141224',\n",
       " '20141225',\n",
       " '20141226',\n",
       " '20141227',\n",
       " '20141228']"
      ]
     },
     "execution_count": 3,
     "metadata": {},
     "output_type": "execute_result"
    }
   ],
   "source": [
    "c = feed.calendar_dates\n",
    "feed.calendar_dates = c[:0]\n",
    "feed.get_dates()"
   ]
  },
  {
   "cell_type": "code",
   "execution_count": 13,
   "metadata": {},
   "outputs": [
    {
     "data": {
      "text/html": [
       "<div>\n",
       "<style>\n",
       "    .dataframe thead tr:only-child th {\n",
       "        text-align: right;\n",
       "    }\n",
       "\n",
       "    .dataframe thead th {\n",
       "        text-align: left;\n",
       "    }\n",
       "\n",
       "    .dataframe tbody tr th {\n",
       "        vertical-align: top;\n",
       "    }\n",
       "</style>\n",
       "<table border=\"1\" class=\"dataframe\">\n",
       "  <thead>\n",
       "    <tr>\n",
       "      <th>indicator</th>\n",
       "      <th colspan=\"10\" halign=\"left\">num_trip_ends</th>\n",
       "      <th>...</th>\n",
       "      <th colspan=\"10\" halign=\"left\">service_duration</th>\n",
       "    </tr>\n",
       "    <tr>\n",
       "      <th>route_id</th>\n",
       "      <th colspan=\"2\" halign=\"left\">110-423</th>\n",
       "      <th colspan=\"2\" halign=\"left\">110N-423</th>\n",
       "      <th colspan=\"2\" halign=\"left\">111-423</th>\n",
       "      <th colspan=\"2\" halign=\"left\">112-423</th>\n",
       "      <th colspan=\"2\" halign=\"left\">113-423</th>\n",
       "      <th>...</th>\n",
       "      <th colspan=\"2\" halign=\"left\">142-423</th>\n",
       "      <th colspan=\"2\" halign=\"left\">143-423</th>\n",
       "      <th colspan=\"2\" halign=\"left\">143W-423</th>\n",
       "      <th colspan=\"2\" halign=\"left\">150-423</th>\n",
       "      <th colspan=\"2\" halign=\"left\">150E-423</th>\n",
       "    </tr>\n",
       "    <tr>\n",
       "      <th>direction_id</th>\n",
       "      <th>0</th>\n",
       "      <th>1</th>\n",
       "      <th>0</th>\n",
       "      <th>1</th>\n",
       "      <th>0</th>\n",
       "      <th>1</th>\n",
       "      <th>0</th>\n",
       "      <th>1</th>\n",
       "      <th>0</th>\n",
       "      <th>1</th>\n",
       "      <th>...</th>\n",
       "      <th>0</th>\n",
       "      <th>1</th>\n",
       "      <th>0</th>\n",
       "      <th>1</th>\n",
       "      <th>0</th>\n",
       "      <th>1</th>\n",
       "      <th>0</th>\n",
       "      <th>1</th>\n",
       "      <th>0</th>\n",
       "      <th>1</th>\n",
       "    </tr>\n",
       "  </thead>\n",
       "  <tbody>\n",
       "    <tr>\n",
       "      <th>2014-05-26 00:00:00</th>\n",
       "      <td>NaN</td>\n",
       "      <td>NaN</td>\n",
       "      <td>NaN</td>\n",
       "      <td>NaN</td>\n",
       "      <td>NaN</td>\n",
       "      <td>NaN</td>\n",
       "      <td>NaN</td>\n",
       "      <td>NaN</td>\n",
       "      <td>NaN</td>\n",
       "      <td>NaN</td>\n",
       "      <td>...</td>\n",
       "      <td>NaN</td>\n",
       "      <td>NaN</td>\n",
       "      <td>NaN</td>\n",
       "      <td>NaN</td>\n",
       "      <td>NaN</td>\n",
       "      <td>NaN</td>\n",
       "      <td>NaN</td>\n",
       "      <td>NaN</td>\n",
       "      <td>NaN</td>\n",
       "      <td>NaN</td>\n",
       "    </tr>\n",
       "    <tr>\n",
       "      <th>2014-05-26 12:00:00</th>\n",
       "      <td>NaN</td>\n",
       "      <td>NaN</td>\n",
       "      <td>NaN</td>\n",
       "      <td>NaN</td>\n",
       "      <td>NaN</td>\n",
       "      <td>NaN</td>\n",
       "      <td>NaN</td>\n",
       "      <td>NaN</td>\n",
       "      <td>NaN</td>\n",
       "      <td>NaN</td>\n",
       "      <td>...</td>\n",
       "      <td>NaN</td>\n",
       "      <td>NaN</td>\n",
       "      <td>NaN</td>\n",
       "      <td>NaN</td>\n",
       "      <td>NaN</td>\n",
       "      <td>NaN</td>\n",
       "      <td>NaN</td>\n",
       "      <td>NaN</td>\n",
       "      <td>NaN</td>\n",
       "      <td>NaN</td>\n",
       "    </tr>\n",
       "  </tbody>\n",
       "</table>\n",
       "<p>2 rows × 220 columns</p>\n",
       "</div>"
      ],
      "text/plain": [
       "indicator           num_trip_ends                                          \\\n",
       "route_id                  110-423      110N-423      111-423      112-423   \n",
       "direction_id                    0    1        0    1       0    1       0   \n",
       "2014-05-26 00:00:00           NaN  NaN      NaN  NaN     NaN  NaN     NaN   \n",
       "2014-05-26 12:00:00           NaN  NaN      NaN  NaN     NaN  NaN     NaN   \n",
       "\n",
       "indicator                             ...  service_duration                    \\\n",
       "route_id                 113-423      ...           142-423      143-423        \n",
       "direction_id           1       0    1 ...                 0    1       0    1   \n",
       "2014-05-26 00:00:00  NaN     NaN  NaN ...               NaN  NaN     NaN  NaN   \n",
       "2014-05-26 12:00:00  NaN     NaN  NaN ...               NaN  NaN     NaN  NaN   \n",
       "\n",
       "indicator                                                     \n",
       "route_id            143W-423      150-423      150E-423       \n",
       "direction_id               0    1       0    1        0    1  \n",
       "2014-05-26 00:00:00      NaN  NaN     NaN  NaN      NaN  NaN  \n",
       "2014-05-26 12:00:00      NaN  NaN     NaN  NaN      NaN  NaN  \n",
       "\n",
       "[2 rows x 220 columns]"
      ]
     },
     "execution_count": 13,
     "metadata": {},
     "output_type": "execute_result"
    }
   ],
   "source": [
    "f = gt.build_null_route_time_series(feed, dates[0], freq='12H', split_directions=True)\n",
    "f"
   ]
  },
  {
   "cell_type": "code",
   "execution_count": 44,
   "metadata": {},
   "outputs": [
    {
     "data": {
      "text/plain": [
       "True"
      ]
     },
     "execution_count": 44,
     "metadata": {},
     "output_type": "execute_result"
    }
   ],
   "source": [
    "#f = feed.compute_stop_time_series(dates[:3], split_directions=True, freq='12H')\n",
    "#f = feed.compute_route_time_series(trip_stats, dates[:1], freq='12H', split_directions=True)\n",
    "f = feed.compute_feed_time_series(trip_stats, dates[:1], freq='12H')\n",
    "#f.columns\n",
    "pd.isnull(f.values).all()"
   ]
  },
  {
   "cell_type": "code",
   "execution_count": null,
   "metadata": {
    "collapsed": true
   },
   "outputs": [],
   "source": [
    "ts = feed.compute_route_time_series(trip_stats, dates[0], freq='6H')\n",
    "# inds = ['num_trips', 'num_trip_ends', 'num_trip_starts']\n",
    "# rids = ['110-423', '111-423', '112-423']\n",
    "\n",
    "# ts.loc[:, (inds, rids)]\n",
    "\n",
    "#ts = feed.compute_feed_time_series(trip_stats, [dates[0], dates[2]], freq='6H')\n",
    "# ts = feed.compute_stop_time_series([dates[0], dates[2]], freq='6H')\n",
    "# sid = '750015'\n",
    "# ts.loc[:, ('num_trips', sid)]\n",
    "\n",
    "ts"
   ]
  },
  {
   "cell_type": "code",
   "execution_count": null,
   "metadata": {
    "collapsed": true
   },
   "outputs": [],
   "source": [
    "ts.columns"
   ]
  },
  {
   "cell_type": "code",
   "execution_count": null,
   "metadata": {
    "collapsed": true
   },
   "outputs": [],
   "source": [
    "dts = gt.downsample(ts, freq='D')\n",
    "#dts.loc[:, (inds, rids)]\n",
    "#dts.loc[:, ('num_trips', sid)]\n",
    "dts"
   ]
  },
  {
   "cell_type": "code",
   "execution_count": null,
   "metadata": {
    "collapsed": true
   },
   "outputs": [],
   "source": [
    "f = feed.compute_feed_stats(trip_stats, '2001')\n",
    "f\n"
   ]
  },
  {
   "cell_type": "code",
   "execution_count": null,
   "metadata": {
    "collapsed": true
   },
   "outputs": [],
   "source": [
    "f.date"
   ]
  },
  {
   "cell_type": "code",
   "execution_count": null,
   "metadata": {
    "collapsed": true
   },
   "outputs": [],
   "source": [
    "feed.compute_stop_stats(['20140601', '20140603'])"
   ]
  },
  {
   "cell_type": "code",
   "execution_count": null,
   "metadata": {
    "collapsed": true
   },
   "outputs": [],
   "source": [
    "trip_stats = feed.compute_trip_stats()\n",
    "feed = feed.append_dist_to_stop_times(trip_stats)\n",
    "\n",
    "# Load screen line\n",
    "with (DATA_DIR/'cairns_screen_line.geojson').open() as src:\n",
    "    line = json.load(src)\n",
    "    line = sg.shape(line['features'][0]['geometry'])\n",
    "\n"
   ]
  },
  {
   "cell_type": "code",
   "execution_count": null,
   "metadata": {
    "collapsed": true
   },
   "outputs": [],
   "source": [
    "f = feed.compute_screen_line_counts(line, dates[:7])\n",
    "f[f['crossing_time'] < '06:00:00']"
   ]
  },
  {
   "cell_type": "code",
   "execution_count": null,
   "metadata": {
    "collapsed": true
   },
   "outputs": [],
   "source": [
    "feed.compute_feed_time_series(ts, dates[-2:], freq='12H')"
   ]
  },
  {
   "cell_type": "code",
   "execution_count": null,
   "metadata": {
    "collapsed": true
   },
   "outputs": [],
   "source": [
    "sd = False\n",
    "#%time p1 = proto1(feed, ts, dates[:14], split_directions=sd)\n",
    "%time p2 = proto2(feed, [dates[0], '20010101'], split_directions=sd, freq='12H')\n",
    "p2"
   ]
  },
  {
   "cell_type": "code",
   "execution_count": null,
   "metadata": {
    "collapsed": true
   },
   "outputs": [],
   "source": [
    "feed.compute_feed_stats(ts, dates[0])"
   ]
  },
  {
   "cell_type": "code",
   "execution_count": null,
   "metadata": {
    "collapsed": true
   },
   "outputs": [],
   "source": [
    "feed.describe()"
   ]
  },
  {
   "cell_type": "code",
   "execution_count": null,
   "metadata": {
    "collapsed": true
   },
   "outputs": [],
   "source": [
    "feed.summarize()"
   ]
  },
  {
   "cell_type": "code",
   "execution_count": null,
   "metadata": {
    "collapsed": true
   },
   "outputs": [],
   "source": []
  }
 ],
 "metadata": {
  "kernelspec": {
   "display_name": "Python 3",
   "language": "python",
   "name": "python3"
  },
  "language_info": {
   "codemirror_mode": {
    "name": "ipython",
    "version": 3
   },
   "file_extension": ".py",
   "mimetype": "text/x-python",
   "name": "python",
   "nbconvert_exporter": "python",
   "pygments_lexer": "ipython3",
   "version": "3.5.2"
  }
 },
 "nbformat": 4,
 "nbformat_minor": 1
}
