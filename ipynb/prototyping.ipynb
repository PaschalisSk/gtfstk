{
 "cells": [
  {
   "cell_type": "code",
   "execution_count": 1,
   "metadata": {
    "collapsed": false
   },
   "outputs": [],
   "source": [
    "from __future__ import division\n",
    "import datetime as dt\n",
    "from collections import OrderedDict\n",
    "import sys, os\n",
    "import dateutil.relativedelta as rd\n",
    "import json\n",
    "from pathlib import Path\n",
    "\n",
    "import utm\n",
    "import pandas as pd\n",
    "import numpy as np\n",
    "import shapely.geometry as sg\n",
    "\n",
    "DIR = Path('..')\n",
    "sys.path.append(str(DIR))\n",
    "\n",
    "import gtfstk as gt\n",
    "\n",
    "%load_ext autoreload\n",
    "%autoreload 2\n",
    "\n",
    "DATA_DIR = DIR/'data'"
   ]
  },
  {
   "cell_type": "code",
   "execution_count": 2,
   "metadata": {
    "collapsed": false
   },
   "outputs": [
    {
     "name": "stdout",
     "output_type": "stream",
     "text": [
      "            file_name  file_size\n",
      "0  calendar_dates.txt        387\n",
      "1          routes.txt       1478\n",
      "2           trips.txt     143081\n",
      "3           stops.txt      26183\n",
      "4          agency.txt        199\n",
      "5      stop_times.txt    2561019\n",
      "6          shapes.txt     864694\n",
      "7        calendar.txt        337\n",
      "date 20140526\n"
     ]
    }
   ],
   "source": [
    "#path = DATA_DIR/'sample_gtfs.zip'\n",
    "#path = DATA_DIR/'other_feeds'/'gtfs.zip'\n",
    "path = DATA_DIR/'cairns_gtfs.zip'\n",
    "\n",
    "print(gt.list_gtfs(path))\n",
    "\n",
    "feed = gt.read_gtfs(path, dist_units='km')\n",
    "\n",
    "# Pick date\n",
    "date = feed.get_first_week()[0]\n",
    "print('date', date)\n"
   ]
  },
  {
   "cell_type": "code",
   "execution_count": 3,
   "metadata": {
    "collapsed": false
   },
   "outputs": [],
   "source": [
    "import copy\n",
    "\n",
    "\n",
    "def proto1(feed, dates, split_directions=False,\n",
    "  headway_start_time='07:00:00', headway_end_time='19:00:00'):\n",
    "    frames = []\n",
    "    for date in dates:\n",
    "        f = gt.compute_stop_stats_base(feed.stop_times, feed.get_trips(date),\n",
    "          split_directions=split_directions,\n",
    "          headway_start_time=headway_start_time,\n",
    "          headway_end_time=headway_end_time)\n",
    "        f['date'] = date\n",
    "        frames.append(f)\n",
    "    \n",
    "    return pd.concat(frames)\n",
    "\n",
    "def proto2(feed, dates, split_directions=False,\n",
    "  headway_start_time='07:00:00', headway_end_time='19:00:00'):\n",
    "    \"\"\"\n",
    "    Call ``compute_stop_stats_base()`` with the subset of trips active on the given date and with the keyword arguments ``split_directions``,   ``headway_start_time``, and ``headway_end_time``.\n",
    "\n",
    "    See ``compute_stop_stats_base()`` for a description of the output.\n",
    "\n",
    "    Assume the following feed attributes are not ``None``:\n",
    "\n",
    "    - ``feed.stop_timtes``\n",
    "    - Those used in :func:`get_trips`\n",
    "\n",
    "    NOTES:\n",
    "\n",
    "    This is a more user-friendly version of ``compute_stop_stats_base()``.\n",
    "    The latter function works without a feed, though.\n",
    "    \"\"\"\n",
    "    activity = feed.compute_trip_activity(dates)\n",
    "\n",
    "    # Collect stats for each date, memoizing stats by trip ID sequence\n",
    "    # to avoid unnecessary recomputations.\n",
    "    # Store in dictionary of the form\n",
    "    # trip ID sequence ->\n",
    "    # [stats DataFarme, date list that stats apply]\n",
    "    stats_and_dates_by_ids = {}  \n",
    "    for date in dates:\n",
    "        ids = tuple(activity.loc[activity[date] > 0, 'trip_id'])\n",
    "        if ids in stats_and_dates_by_ids:\n",
    "            # Append date to date list\n",
    "            stats_and_dates_by_ids[ids][1].append(date)\n",
    "        else:\n",
    "            # Compute stats\n",
    "            t = feed.trips\n",
    "            trips = t[t['trip_id'].isin(ids)].copy()\n",
    "            stats = gt.compute_stop_stats_base(feed.stop_times, trips,\n",
    "              split_directions=split_directions,\n",
    "              headway_start_time=headway_start_time,\n",
    "              headway_end_time=headway_end_time)\n",
    "            \n",
    "            # Remember stats\n",
    "            stats_and_dates_by_ids[ids] = [stats, [date]]\n",
    "\n",
    "    # Assemble stats into DataFrame\n",
    "    frames = []\n",
    "    for stats, dates in stats_and_dates_by_ids.values():\n",
    "        for date in dates:\n",
    "            f = stats.copy()\n",
    "            f['date'] = date\n",
    "            frames.append(f)\n",
    "            \n",
    "    f = pd.concat(frames).sort_values(['date', 'stop_id'])\n",
    "    return f"
   ]
  },
  {
   "cell_type": "code",
   "execution_count": 4,
   "metadata": {
    "collapsed": false
   },
   "outputs": [
    {
     "data": {
      "text/plain": [
       "217"
      ]
     },
     "execution_count": 4,
     "metadata": {},
     "output_type": "execute_result"
    }
   ],
   "source": [
    "ts = feed.compute_trip_stats()\n",
    "dates = feed.get_dates()\n",
    "len(dates)"
   ]
  },
  {
   "cell_type": "code",
   "execution_count": 5,
   "metadata": {
    "collapsed": false
   },
   "outputs": [
    {
     "data": {
      "text/html": [
       "<div>\n",
       "<table border=\"1\" class=\"dataframe\">\n",
       "  <thead>\n",
       "    <tr style=\"text-align: right;\">\n",
       "      <th></th>\n",
       "      <th>date</th>\n",
       "      <th>num_routes</th>\n",
       "      <th>num_stops</th>\n",
       "      <th>num_trips</th>\n",
       "      <th>peak_end_time</th>\n",
       "      <th>peak_num_trips</th>\n",
       "      <th>peak_start_time</th>\n",
       "      <th>service_distance</th>\n",
       "      <th>service_duration</th>\n",
       "      <th>service_speed</th>\n",
       "    </tr>\n",
       "  </thead>\n",
       "  <tbody>\n",
       "    <tr>\n",
       "      <th>1</th>\n",
       "      <td>20140526</td>\n",
       "      <td>20</td>\n",
       "      <td>416</td>\n",
       "      <td>622</td>\n",
       "      <td>08:18:00</td>\n",
       "      <td>39</td>\n",
       "      <td>08:16:00</td>\n",
       "      <td>13774.027234</td>\n",
       "      <td>472.600000</td>\n",
       "      <td>29.145212</td>\n",
       "    </tr>\n",
       "    <tr>\n",
       "      <th>2</th>\n",
       "      <td>20140527</td>\n",
       "      <td>20</td>\n",
       "      <td>416</td>\n",
       "      <td>622</td>\n",
       "      <td>08:18:00</td>\n",
       "      <td>39</td>\n",
       "      <td>08:16:00</td>\n",
       "      <td>13774.027234</td>\n",
       "      <td>472.600000</td>\n",
       "      <td>29.145212</td>\n",
       "    </tr>\n",
       "    <tr>\n",
       "      <th>3</th>\n",
       "      <td>20140528</td>\n",
       "      <td>20</td>\n",
       "      <td>416</td>\n",
       "      <td>622</td>\n",
       "      <td>08:18:00</td>\n",
       "      <td>39</td>\n",
       "      <td>08:16:00</td>\n",
       "      <td>13774.027234</td>\n",
       "      <td>472.600000</td>\n",
       "      <td>29.145212</td>\n",
       "    </tr>\n",
       "    <tr>\n",
       "      <th>4</th>\n",
       "      <td>20140529</td>\n",
       "      <td>20</td>\n",
       "      <td>416</td>\n",
       "      <td>622</td>\n",
       "      <td>08:18:00</td>\n",
       "      <td>39</td>\n",
       "      <td>08:16:00</td>\n",
       "      <td>13774.027234</td>\n",
       "      <td>472.600000</td>\n",
       "      <td>29.145212</td>\n",
       "    </tr>\n",
       "    <tr>\n",
       "      <th>6</th>\n",
       "      <td>20140530</td>\n",
       "      <td>22</td>\n",
       "      <td>416</td>\n",
       "      <td>636</td>\n",
       "      <td>08:18:00</td>\n",
       "      <td>39</td>\n",
       "      <td>08:16:00</td>\n",
       "      <td>14290.423827</td>\n",
       "      <td>483.016667</td>\n",
       "      <td>29.585778</td>\n",
       "    </tr>\n",
       "    <tr>\n",
       "      <th>5</th>\n",
       "      <td>20140531</td>\n",
       "      <td>22</td>\n",
       "      <td>415</td>\n",
       "      <td>437</td>\n",
       "      <td>17:37:00</td>\n",
       "      <td>23</td>\n",
       "      <td>17:28:00</td>\n",
       "      <td>9911.526097</td>\n",
       "      <td>310.400000</td>\n",
       "      <td>31.931463</td>\n",
       "    </tr>\n",
       "    <tr>\n",
       "      <th>0</th>\n",
       "      <td>20140601</td>\n",
       "      <td>14</td>\n",
       "      <td>411</td>\n",
       "      <td>266</td>\n",
       "      <td>14:37:00</td>\n",
       "      <td>17</td>\n",
       "      <td>14:31:00</td>\n",
       "      <td>6390.846315</td>\n",
       "      <td>197.683333</td>\n",
       "      <td>32.328706</td>\n",
       "    </tr>\n",
       "  </tbody>\n",
       "</table>\n",
       "</div>"
      ],
      "text/plain": [
       "       date  num_routes  num_stops  num_trips peak_end_time  peak_num_trips  \\\n",
       "1  20140526          20        416        622      08:18:00              39   \n",
       "2  20140527          20        416        622      08:18:00              39   \n",
       "3  20140528          20        416        622      08:18:00              39   \n",
       "4  20140529          20        416        622      08:18:00              39   \n",
       "6  20140530          22        416        636      08:18:00              39   \n",
       "5  20140531          22        415        437      17:37:00              23   \n",
       "0  20140601          14        411        266      14:37:00              17   \n",
       "\n",
       "  peak_start_time  service_distance  service_duration  service_speed  \n",
       "1        08:16:00      13774.027234        472.600000      29.145212  \n",
       "2        08:16:00      13774.027234        472.600000      29.145212  \n",
       "3        08:16:00      13774.027234        472.600000      29.145212  \n",
       "4        08:16:00      13774.027234        472.600000      29.145212  \n",
       "6        08:16:00      14290.423827        483.016667      29.585778  \n",
       "5        17:28:00       9911.526097        310.400000      31.931463  \n",
       "0        14:31:00       6390.846315        197.683333      32.328706  "
      ]
     },
     "execution_count": 5,
     "metadata": {},
     "output_type": "execute_result"
    }
   ],
   "source": [
    "feed.compute_feed_stats(ts, dates[:7])"
   ]
  },
  {
   "cell_type": "code",
   "execution_count": null,
   "metadata": {
    "collapsed": false
   },
   "outputs": [],
   "source": [
    "%time p1 = proto1(feed, dates[:7], split_directions=True)\n",
    "%time p2 = proto2(feed, dates[:7], split_directions=True)\n",
    "p2"
   ]
  },
  {
   "cell_type": "code",
   "execution_count": null,
   "metadata": {
    "collapsed": false
   },
   "outputs": [],
   "source": [
    "feed.compute_feed_stats(ts, dates[0])"
   ]
  },
  {
   "cell_type": "code",
   "execution_count": null,
   "metadata": {
    "collapsed": false
   },
   "outputs": [],
   "source": [
    "feed.describe()"
   ]
  },
  {
   "cell_type": "code",
   "execution_count": null,
   "metadata": {
    "collapsed": false
   },
   "outputs": [],
   "source": [
    "feed.summarize()"
   ]
  },
  {
   "cell_type": "code",
   "execution_count": null,
   "metadata": {
    "collapsed": true
   },
   "outputs": [],
   "source": []
  }
 ],
 "metadata": {
  "kernelspec": {
   "display_name": "Python 3",
   "language": "python",
   "name": "python3"
  },
  "language_info": {
   "codemirror_mode": {
    "name": "ipython",
    "version": 3
   },
   "file_extension": ".py",
   "mimetype": "text/x-python",
   "name": "python",
   "nbconvert_exporter": "python",
   "pygments_lexer": "ipython3",
   "version": "3.5.2"
  }
 },
 "nbformat": 4,
 "nbformat_minor": 0
}
