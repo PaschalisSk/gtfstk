{
 "cells": [
  {
   "cell_type": "code",
   "execution_count": null,
   "metadata": {
    "collapsed": false
   },
   "outputs": [],
   "source": [
    "from __future__ import division\n",
    "import datetime as dt\n",
    "from collections import OrderedDict\n",
    "import sys, os\n",
    "import dateutil.relativedelta as rd\n",
    "import json\n",
    "from pathlib import Path\n",
    "\n",
    "import utm\n",
    "import pandas as pd\n",
    "import numpy as np\n",
    "import shapely.geometry as sg\n",
    "\n",
    "DIR = Path('..')\n",
    "sys.path.append(str(DIR))\n",
    "\n",
    "import gtfstk as gt\n",
    "\n",
    "%load_ext autoreload\n",
    "%autoreload 2\n",
    "\n",
    "DATA_DIR = DIR/'data'"
   ]
  },
  {
   "cell_type": "code",
   "execution_count": 2,
   "metadata": {
    "collapsed": false
   },
   "outputs": [],
   "source": [
    "#path = DATA_DIR/'cairns_gtfs.zip'\n",
    "path = '/home/araichev/gtfs_explorer/data/raw/san_jose_gtfs_20161229.zip'\n",
    "feed = gt.read_gtfs(path, dist_units='km')\n",
    "\n",
    "# Pick date\n",
    "date = feed.get_first_week()[0]\n",
    "print('date', date)\n"
   ]
  },
  {
   "cell_type": "code",
   "execution_count": 18,
   "metadata": {
    "collapsed": false
   },
   "outputs": [
    {
     "name": "stdout",
     "output_type": "stream",
     "text": [
      "2017-04-14 14:22:23.857777\n",
      "2017-04-14 14:22:25.327123\n"
     ]
    },
    {
     "data": {
      "text/html": [
       "<div>\n",
       "<table border=\"1\" class=\"dataframe\">\n",
       "  <thead>\n",
       "    <tr style=\"text-align: right;\">\n",
       "      <th></th>\n",
       "      <th>table</th>\n",
       "      <th>error</th>\n",
       "      <th>error_row_indices</th>\n",
       "    </tr>\n",
       "  </thead>\n",
       "  <tbody>\n",
       "    <tr>\n",
       "      <th>0</th>\n",
       "      <td>trips</td>\n",
       "      <td>block_id unduplicated</td>\n",
       "      <td>[421, 422, 1749, 2423, 2594, 3091, 3266, 3598,...</td>\n",
       "    </tr>\n",
       "  </tbody>\n",
       "</table>\n",
       "</div>"
      ],
      "text/plain": [
       "   table                  error  \\\n",
       "0  trips  block_id unduplicated   \n",
       "\n",
       "                                   error_row_indices  \n",
       "0  [421, 422, 1749, 2423, 2594, 3091, 3266, 3598,...  "
      ]
     },
     "execution_count": 18,
     "metadata": {},
     "output_type": "execute_result"
    }
   ],
   "source": [
    "print(dt.datetime.now())\n",
    "report = feed.validate()\n",
    "print(dt.datetime.now())\n",
    "report"
   ]
  },
  {
   "cell_type": "code",
   "execution_count": 27,
   "metadata": {
    "collapsed": false
   },
   "outputs": [
    {
     "data": {
      "text/html": [
       "<div>\n",
       "<table border=\"1\" class=\"dataframe\">\n",
       "  <thead>\n",
       "    <tr style=\"text-align: right;\">\n",
       "      <th></th>\n",
       "      <th>route_id</th>\n",
       "      <th>service_id</th>\n",
       "      <th>trip_id</th>\n",
       "      <th>trip_headsign</th>\n",
       "      <th>direction_id</th>\n",
       "      <th>block_id</th>\n",
       "      <th>shape_id</th>\n",
       "    </tr>\n",
       "  </thead>\n",
       "  <tbody>\n",
       "    <tr>\n",
       "      <th>422</th>\n",
       "      <td>16</td>\n",
       "      <td>Weekdays</td>\n",
       "      <td>2110901</td>\n",
       "      <td>16 LIVE OAK HS</td>\n",
       "      <td>0</td>\n",
       "      <td>701</td>\n",
       "      <td>16_NBSD1</td>\n",
       "    </tr>\n",
       "  </tbody>\n",
       "</table>\n",
       "</div>"
      ],
      "text/plain": [
       "    route_id service_id  trip_id   trip_headsign  direction_id block_id  \\\n",
       "422       16   Weekdays  2110901  16 LIVE OAK HS             0      701   \n",
       "\n",
       "     shape_id  \n",
       "422  16_NBSD1  "
      ]
     },
     "execution_count": 27,
     "metadata": {},
     "output_type": "execute_result"
    }
   ],
   "source": [
    "f = feed.trips.copy()\n",
    "i = 422\n",
    "f.ix[i -1: i + 1]\n",
    "\n",
    "cond = f['block_id'] == f['block_id'].ix[i]\n",
    "f[cond]"
   ]
  },
  {
   "cell_type": "code",
   "execution_count": 12,
   "metadata": {
    "collapsed": false
   },
   "outputs": [
    {
     "data": {
      "text/plain": [
       "True"
      ]
     },
     "execution_count": 12,
     "metadata": {},
     "output_type": "execute_result"
    }
   ],
   "source": [
    "pd.isnull(f['transfers'].iat[2])\n"
   ]
  },
  {
   "cell_type": "code",
   "execution_count": null,
   "metadata": {
    "collapsed": false
   },
   "outputs": [],
   "source": [
    "report = feed.validate()"
   ]
  },
  {
   "cell_type": "code",
   "execution_count": null,
   "metadata": {
    "collapsed": false
   },
   "outputs": [],
   "source": [
    "report"
   ]
  },
  {
   "cell_type": "code",
   "execution_count": null,
   "metadata": {
    "collapsed": false
   },
   "outputs": [],
   "source": [
    "f = feed.stop_times.copy()\n",
    "i = 10\n",
    "f.ix[9:11]"
   ]
  },
  {
   "cell_type": "code",
   "execution_count": null,
   "metadata": {
    "collapsed": false
   },
   "outputs": [],
   "source": [
    "feed.assess()"
   ]
  },
  {
   "cell_type": "code",
   "execution_count": null,
   "metadata": {
    "collapsed": false
   },
   "outputs": [],
   "source": [
    "ts = feed.compute_trip_stats()\n",
    "#ts.to_csv(str(DATA_DIR/'cairns_trip_stats.csv'), index=False)\n",
    "ts.head()"
   ]
  },
  {
   "cell_type": "code",
   "execution_count": null,
   "metadata": {
    "collapsed": false
   },
   "outputs": [],
   "source": [
    "rts = feed.compute_route_time_series(ts, date)\n",
    "gt.downsample(rts, freq='12H')"
   ]
  },
  {
   "cell_type": "code",
   "execution_count": null,
   "metadata": {
    "collapsed": true
   },
   "outputs": [],
   "source": [
    "trip_id = feed.trips['trip_id'].iat[0]\n",
    "geo = feed.trip_to_geojson(trip_id, include_stops=True)\n",
    "path = DATA_DIR/'trip_{!s}.geojson'.format(route_id)\n",
    "with path.open('w') as tgt:\n",
    "    json.dump(geo, tgt)"
   ]
  },
  {
   "cell_type": "code",
   "execution_count": null,
   "metadata": {
    "collapsed": false
   },
   "outputs": [],
   "source": [
    "route_id = feed.routes['route_id'].iat[0]\n",
    "geo = feed.route_to_geojson(route_id, include_stops=True)\n",
    "path = DATA_DIR/'route_{!s}.geojson'.format(route_id)\n",
    "with path.open('w') as tgt:\n",
    "    json.dump(geo, tgt)"
   ]
  },
  {
   "cell_type": "code",
   "execution_count": null,
   "metadata": {
    "collapsed": false
   },
   "outputs": [],
   "source": [
    "# Add distances to feed\n",
    "#\n",
    "trip_stats = feed.compute_trip_stats(compute_dist_from_shapes=True)\n",
    "feed = feed.append_dist_to_stop_times(trip_stats)\n",
    "feed.stop_times.T"
   ]
  },
  {
   "cell_type": "code",
   "execution_count": null,
   "metadata": {
    "collapsed": false
   },
   "outputs": [],
   "source": [
    "trip_stats = feed.compute_trip_stats()\n",
    "route_stats = feed.compute_route_stats(trip_stats, date)\n",
    "route_stats\n"
   ]
  },
  {
   "cell_type": "code",
   "execution_count": null,
   "metadata": {
    "collapsed": false
   },
   "outputs": [],
   "source": [
    "a = pd.Series([np.nan, np.nan])\n",
    "a.dropna().max()\n",
    "#gt.get_trips(feed, date, \"07:30:00\")\n"
   ]
  },
  {
   "cell_type": "code",
   "execution_count": null,
   "metadata": {
    "collapsed": false
   },
   "outputs": [],
   "source": [
    "\n",
    "# Pick screen line\n",
    "path = DATA_DIR/'cairns_screen_line.geojson'\n",
    "with path.open() as src:\n",
    "    line = json.load(src)\n",
    "    line = sg.shape(line['features'][0]['geometry'])\n",
    "\n",
    "g = feed.compute_screen_line_counts(line, date)\n",
    "g"
   ]
  },
  {
   "cell_type": "code",
   "execution_count": null,
   "metadata": {
    "collapsed": false
   },
   "outputs": [],
   "source": [
    "g.groupby(['route_id', 'orientation']).count()"
   ]
  },
  {
   "cell_type": "code",
   "execution_count": null,
   "metadata": {
    "collapsed": true
   },
   "outputs": [],
   "source": []
  }
 ],
 "metadata": {
  "kernelspec": {
   "display_name": "Python 3",
   "language": "python",
   "name": "python3"
  },
  "language_info": {
   "codemirror_mode": {
    "name": "ipython",
    "version": 3
   },
   "file_extension": ".py",
   "mimetype": "text/x-python",
   "name": "python",
   "nbconvert_exporter": "python",
   "pygments_lexer": "ipython3",
   "version": "3.5.2"
  }
 },
 "nbformat": 4,
 "nbformat_minor": 0
}
