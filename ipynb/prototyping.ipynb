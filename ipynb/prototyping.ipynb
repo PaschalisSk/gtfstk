{
 "cells": [
  {
   "cell_type": "code",
   "execution_count": 1,
   "metadata": {
    "collapsed": false
   },
   "outputs": [],
   "source": [
    "from __future__ import division\n",
    "import datetime as dt\n",
    "from collections import OrderedDict\n",
    "import sys, os\n",
    "import dateutil.relativedelta as rd\n",
    "import json\n",
    "from pathlib import Path\n",
    "\n",
    "import utm\n",
    "import pandas as pd\n",
    "import numpy as np\n",
    "import shapely.geometry as sg\n",
    "\n",
    "DIR = Path('..')\n",
    "sys.path.append(str(DIR))\n",
    "\n",
    "import gtfstk as gt\n",
    "\n",
    "%load_ext autoreload\n",
    "%autoreload 2\n",
    "\n",
    "DATA_DIR = DIR/'data'"
   ]
  },
  {
   "cell_type": "code",
   "execution_count": 2,
   "metadata": {
    "collapsed": false
   },
   "outputs": [
    {
     "name": "stdout",
     "output_type": "stream",
     "text": [
      "            file_name  file_size\n",
      "0  calendar_dates.txt        387\n",
      "1          routes.txt       1478\n",
      "2           trips.txt     143081\n",
      "3           stops.txt      26183\n",
      "4          agency.txt        199\n",
      "5      stop_times.txt    2561019\n",
      "6          shapes.txt     864694\n",
      "7        calendar.txt        337\n",
      "date 20140526\n"
     ]
    }
   ],
   "source": [
    "#path = DATA_DIR/'sample_gtfs.zip'\n",
    "#path = DATA_DIR/'other_feeds'/'gtfs.zip'\n",
    "path = DATA_DIR/'cairns_gtfs.zip'\n",
    "\n",
    "print(gt.list_gtfs(path))\n",
    "\n",
    "feed = gt.read_gtfs(path, dist_units='km')\n",
    "\n",
    "# Pick date\n",
    "date = feed.get_first_week()[0]\n",
    "print('date', date)\n"
   ]
  },
  {
   "cell_type": "code",
   "execution_count": 60,
   "metadata": {
    "collapsed": false
   },
   "outputs": [],
   "source": [
    "import copy\n",
    "\n",
    "\n",
    "def proto1(feed, trip_stats, dates, split_directions=False,\n",
    "  headway_start_time='07:00:00', headway_end_time='19:00:00'):\n",
    "    frames = []\n",
    "    for date in dates:\n",
    "        f = feed.compute_route_stats(trip_stats, date,\n",
    "          split_directions=split_directions,\n",
    "          headway_start_time=headway_start_time,\n",
    "          headway_end_time=headway_end_time)\n",
    "        f['date'] = date\n",
    "        frames.append(f)\n",
    "    \n",
    "    return pd.concat(frames)\n",
    "\n",
    "def proto2(feed, dates, split_directions=False, freq='5Min'):\n",
    "    \"\"\"\n",
    "    \"\"\"\n",
    "    cols = [\n",
    "      'num_trips',\n",
    "      ]\n",
    "    if not dates:\n",
    "        return pd.DataFrame([], columns=cols)\n",
    "\n",
    "    if split_directions:\n",
    "        cols.append('direction_id')\n",
    "\n",
    "    activity = feed.compute_trip_activity(dates)\n",
    "\n",
    "    # Collect stats for each date, memoizing stats by trip ID sequence\n",
    "    # to avoid unnecessary recomputations.\n",
    "    # Store in dictionary of the form\n",
    "    # trip ID sequence ->\n",
    "    # [stats DataFarme, date list that stats apply]\n",
    "    stats_and_dates_by_ids = {}\n",
    "    for date in dates:\n",
    "        ids = tuple(activity.loc[activity[date] > 0, 'trip_id'])\n",
    "        if ids in stats_and_dates_by_ids:\n",
    "            # Append date to date list\n",
    "            stats_and_dates_by_ids[ids][1].append(date)\n",
    "        else:\n",
    "            # Compute stats\n",
    "            t = feed.trips\n",
    "            trips = t[t['trip_id'].isin(ids)].copy()\n",
    "            stats = gt.compute_stop_time_series_base(feed.stop_times, trips,\n",
    "              split_directions=split_directions, freq=freq, date_label=date)\n",
    "\n",
    "            # Remember stats\n",
    "            stats_and_dates_by_ids[ids] = [stats, [date]]\n",
    "\n",
    "    # Assemble stats into DataFrame\n",
    "    frames = []\n",
    "    for stats, dates in stats_and_dates_by_ids.values():\n",
    "        if stats.empty:\n",
    "            continue\n",
    "        for date in dates:\n",
    "            f = stats.copy()\n",
    "            # Replace date\n",
    "            d = gt.datestr_to_date(date)\n",
    "            f.index = f.index.map(lambda t: t.replace(\n",
    "              year=d.year, month=d.month, day=d.day))\n",
    "            frames.append(f)\n",
    "    f = pd.concat(frames).sort_index()\n",
    "\n",
    "    return f\n"
   ]
  },
  {
   "cell_type": "code",
   "execution_count": 9,
   "metadata": {
    "collapsed": false
   },
   "outputs": [
    {
     "data": {
      "text/plain": [
       "217"
      ]
     },
     "execution_count": 9,
     "metadata": {},
     "output_type": "execute_result"
    }
   ],
   "source": [
    "ts = feed.compute_trip_stats()\n",
    "dates = feed.get_dates()\n",
    "len(dates)"
   ]
  },
  {
   "cell_type": "code",
   "execution_count": 84,
   "metadata": {
    "collapsed": false
   },
   "outputs": [
    {
     "data": {
      "text/html": [
       "<div>\n",
       "<table border=\"1\" class=\"dataframe\">\n",
       "  <thead>\n",
       "    <tr style=\"text-align: right;\">\n",
       "      <th></th>\n",
       "      <th>date</th>\n",
       "      <th>route_id</th>\n",
       "      <th>route_short_name</th>\n",
       "      <th>route_type</th>\n",
       "      <th>num_trips</th>\n",
       "      <th>is_bidirectional</th>\n",
       "      <th>is_loop</th>\n",
       "      <th>start_time</th>\n",
       "      <th>end_time</th>\n",
       "      <th>max_headway</th>\n",
       "      <th>min_headway</th>\n",
       "      <th>mean_headway</th>\n",
       "      <th>peak_num_trips</th>\n",
       "      <th>peak_start_time</th>\n",
       "      <th>peak_end_time</th>\n",
       "      <th>service_duration</th>\n",
       "      <th>service_distance</th>\n",
       "      <th>service_speed</th>\n",
       "      <th>mean_trip_distance</th>\n",
       "      <th>mean_trip_duration</th>\n",
       "    </tr>\n",
       "  </thead>\n",
       "  <tbody>\n",
       "  </tbody>\n",
       "</table>\n",
       "</div>"
      ],
      "text/plain": [
       "Empty DataFrame\n",
       "Columns: [date, route_id, route_short_name, route_type, num_trips, is_bidirectional, is_loop, start_time, end_time, max_headway, min_headway, mean_headway, peak_num_trips, peak_start_time, peak_end_time, service_duration, service_distance, service_speed, mean_trip_distance, mean_trip_duration]\n",
       "Index: []"
      ]
     },
     "execution_count": 84,
     "metadata": {},
     "output_type": "execute_result"
    }
   ],
   "source": [
    "feed.compute_route_stats(ts, dates[0])"
   ]
  },
  {
   "cell_type": "code",
   "execution_count": 67,
   "metadata": {
    "collapsed": false
   },
   "outputs": [
    {
     "name": "stdout",
     "output_type": "stream",
     "text": [
      "CPU times: user 896 ms, sys: 0 ns, total: 896 ms\n",
      "Wall time: 895 ms\n"
     ]
    },
    {
     "data": {
      "text/html": [
       "<div>\n",
       "<table border=\"1\" class=\"dataframe\">\n",
       "  <thead>\n",
       "    <tr>\n",
       "      <th>indicator</th>\n",
       "      <th colspan=\"21\" halign=\"left\">num_trips</th>\n",
       "    </tr>\n",
       "    <tr>\n",
       "      <th>stop_id</th>\n",
       "      <th>750000</th>\n",
       "      <th>750001</th>\n",
       "      <th>750002</th>\n",
       "      <th>750003</th>\n",
       "      <th>750004</th>\n",
       "      <th>750005</th>\n",
       "      <th>750006</th>\n",
       "      <th>750007</th>\n",
       "      <th>750008</th>\n",
       "      <th>750009</th>\n",
       "      <th>...</th>\n",
       "      <th>750437</th>\n",
       "      <th>750440</th>\n",
       "      <th>750448</th>\n",
       "      <th>750449</th>\n",
       "      <th>750450</th>\n",
       "      <th>750452</th>\n",
       "      <th>750453</th>\n",
       "      <th>750454</th>\n",
       "      <th>750455</th>\n",
       "      <th>750456</th>\n",
       "    </tr>\n",
       "  </thead>\n",
       "  <tbody>\n",
       "    <tr>\n",
       "      <th>2014-05-26 00:00:00</th>\n",
       "      <td>13</td>\n",
       "      <td>13</td>\n",
       "      <td>13</td>\n",
       "      <td>13</td>\n",
       "      <td>13</td>\n",
       "      <td>13</td>\n",
       "      <td>12</td>\n",
       "      <td>12</td>\n",
       "      <td>12</td>\n",
       "      <td>12</td>\n",
       "      <td>...</td>\n",
       "      <td>6</td>\n",
       "      <td>5</td>\n",
       "      <td>10</td>\n",
       "      <td>110</td>\n",
       "      <td>36</td>\n",
       "      <td>28</td>\n",
       "      <td>25</td>\n",
       "      <td>11</td>\n",
       "      <td>4</td>\n",
       "      <td>46</td>\n",
       "    </tr>\n",
       "    <tr>\n",
       "      <th>2014-05-26 12:00:00</th>\n",
       "      <td>17</td>\n",
       "      <td>17</td>\n",
       "      <td>17</td>\n",
       "      <td>17</td>\n",
       "      <td>17</td>\n",
       "      <td>17</td>\n",
       "      <td>18</td>\n",
       "      <td>18</td>\n",
       "      <td>18</td>\n",
       "      <td>18</td>\n",
       "      <td>...</td>\n",
       "      <td>10</td>\n",
       "      <td>12</td>\n",
       "      <td>11</td>\n",
       "      <td>179</td>\n",
       "      <td>65</td>\n",
       "      <td>53</td>\n",
       "      <td>49</td>\n",
       "      <td>17</td>\n",
       "      <td>11</td>\n",
       "      <td>79</td>\n",
       "    </tr>\n",
       "  </tbody>\n",
       "</table>\n",
       "<p>2 rows × 416 columns</p>\n",
       "</div>"
      ],
      "text/plain": [
       "indicator           num_trips                                            \\\n",
       "stop_id                750000 750001 750002 750003 750004 750005 750006   \n",
       "2014-05-26 00:00:00        13     13     13     13     13     13     12   \n",
       "2014-05-26 12:00:00        17     17     17     17     17     17     18   \n",
       "\n",
       "indicator                                 ...                                \\\n",
       "stop_id             750007 750008 750009  ...   750437 750440 750448 750449   \n",
       "2014-05-26 00:00:00     12     12     12  ...        6      5     10    110   \n",
       "2014-05-26 12:00:00     18     18     18  ...       10     12     11    179   \n",
       "\n",
       "indicator                                                      \n",
       "stop_id             750450 750452 750453 750454 750455 750456  \n",
       "2014-05-26 00:00:00     36     28     25     11      4     46  \n",
       "2014-05-26 12:00:00     65     53     49     17     11     79  \n",
       "\n",
       "[2 rows x 416 columns]"
      ]
     },
     "execution_count": 67,
     "metadata": {},
     "output_type": "execute_result"
    }
   ],
   "source": [
    "sd = False\n",
    "#%time p1 = proto1(feed, ts, dates[:14], split_directions=sd)\n",
    "%time p2 = proto2(feed, [dates[0], '20010101'], split_directions=sd, freq='12H')\n",
    "p2"
   ]
  },
  {
   "cell_type": "code",
   "execution_count": null,
   "metadata": {
    "collapsed": false
   },
   "outputs": [],
   "source": [
    "feed.compute_feed_stats(ts, dates[0])"
   ]
  },
  {
   "cell_type": "code",
   "execution_count": null,
   "metadata": {
    "collapsed": false
   },
   "outputs": [],
   "source": [
    "feed.describe()"
   ]
  },
  {
   "cell_type": "code",
   "execution_count": null,
   "metadata": {
    "collapsed": false
   },
   "outputs": [],
   "source": [
    "feed.summarize()"
   ]
  },
  {
   "cell_type": "code",
   "execution_count": null,
   "metadata": {
    "collapsed": true
   },
   "outputs": [],
   "source": []
  }
 ],
 "metadata": {
  "kernelspec": {
   "display_name": "Python 3",
   "language": "python",
   "name": "python3"
  },
  "language_info": {
   "codemirror_mode": {
    "name": "ipython",
    "version": 3
   },
   "file_extension": ".py",
   "mimetype": "text/x-python",
   "name": "python",
   "nbconvert_exporter": "python",
   "pygments_lexer": "ipython3",
   "version": "3.5.2"
  }
 },
 "nbformat": 4,
 "nbformat_minor": 0
}
