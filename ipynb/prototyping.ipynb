{
 "cells": [
  {
   "cell_type": "code",
   "execution_count": 1,
   "metadata": {
    "collapsed": false
   },
   "outputs": [],
   "source": [
    "from __future__ import division\n",
    "import datetime as dt\n",
    "from collections import OrderedDict\n",
    "import sys, os\n",
    "import dateutil.relativedelta as rd\n",
    "import json\n",
    "from pathlib import Path\n",
    "\n",
    "import utm\n",
    "import pandas as pd\n",
    "import numpy as np\n",
    "import shapely.geometry as sg\n",
    "\n",
    "DIR = Path('..')\n",
    "sys.path.append(str(DIR))\n",
    "\n",
    "import gtfstk as gt\n",
    "\n",
    "%load_ext autoreload\n",
    "%autoreload 2\n",
    "\n",
    "DATA_DIR = DIR/'data'"
   ]
  },
  {
   "cell_type": "code",
   "execution_count": 10,
   "metadata": {
    "collapsed": false
   },
   "outputs": [
    {
     "name": "stdout",
     "output_type": "stream",
     "text": [
      "date 20170213\n"
     ]
    }
   ],
   "source": [
    "# path = DATA_DIR/'cairns_gtfs.zip'\n",
    "path = DATA_DIR/'other_feeds'/'gtfs.zip'\n",
    "#path = DATA_DIR/'other_feeds'/'seq_20170310_gtfs.zip'\n",
    "feed = gt.read_gtfs(path, dist_units='km')\n",
    "\n",
    "# Pick date\n",
    "date = feed.get_first_week()[0]\n",
    "print('date', date)\n"
   ]
  },
  {
   "cell_type": "code",
   "execution_count": 11,
   "metadata": {
    "collapsed": false
   },
   "outputs": [
    {
     "name": "stdout",
     "output_type": "stream",
     "text": [
      "Timing validate\n",
      "2017-04-16 12:27:34.734783 Began process\n",
      "2017-04-16 12:27:49.937048 Finished in 0.25 min\n"
     ]
    },
    {
     "data": {
      "text/html": [
       "<div>\n",
       "<table border=\"1\" class=\"dataframe\">\n",
       "  <thead>\n",
       "    <tr style=\"text-align: right;\">\n",
       "      <th></th>\n",
       "      <th>message_type</th>\n",
       "      <th>message</th>\n",
       "      <th>table</th>\n",
       "      <th>rows</th>\n",
       "    </tr>\n",
       "  </thead>\n",
       "  <tbody>\n",
       "    <tr>\n",
       "      <th>1</th>\n",
       "      <td>error</td>\n",
       "      <td>arrival_time malformed</td>\n",
       "      <td>stop_times</td>\n",
       "      <td>[675, 676, 677, 678, 679, 680, 681, 682, 683, ...</td>\n",
       "    </tr>\n",
       "    <tr>\n",
       "      <th>2</th>\n",
       "      <td>error</td>\n",
       "      <td>departure_time malformed</td>\n",
       "      <td>stop_times</td>\n",
       "      <td>[675, 676, 677, 678, 679, 680, 681, 682, 683, ...</td>\n",
       "    </tr>\n",
       "    <tr>\n",
       "      <th>3</th>\n",
       "      <td>error</td>\n",
       "      <td>block_id unduplicated</td>\n",
       "      <td>trips</td>\n",
       "      <td>[18079, 18167, 18286, 18410, 18503, 18880, 189...</td>\n",
       "    </tr>\n",
       "    <tr>\n",
       "      <th>0</th>\n",
       "      <td>warning</td>\n",
       "      <td>ots_trip_short_name is not a valid column name</td>\n",
       "      <td>trips</td>\n",
       "      <td>[]</td>\n",
       "    </tr>\n",
       "  </tbody>\n",
       "</table>\n",
       "</div>"
      ],
      "text/plain": [
       "  message_type                                         message       table  \\\n",
       "1        error                          arrival_time malformed  stop_times   \n",
       "2        error                        departure_time malformed  stop_times   \n",
       "3        error                           block_id unduplicated       trips   \n",
       "0      warning  ots_trip_short_name is not a valid column name       trips   \n",
       "\n",
       "                                                rows  \n",
       "1  [675, 676, 677, 678, 679, 680, 681, 682, 683, ...  \n",
       "2  [675, 676, 677, 678, 679, 680, 681, 682, 683, ...  \n",
       "3  [18079, 18167, 18286, 18410, 18503, 18880, 189...  \n",
       "0                                                 []  "
      ]
     },
     "execution_count": 11,
     "metadata": {},
     "output_type": "execute_result"
    }
   ],
   "source": [
    "v = gt.time_it(feed.validate)()\n",
    "v"
   ]
  },
  {
   "cell_type": "code",
   "execution_count": 14,
   "metadata": {
    "collapsed": false
   },
   "outputs": [
    {
     "data": {
      "text/html": [
       "<div>\n",
       "<table border=\"1\" class=\"dataframe\">\n",
       "  <thead>\n",
       "    <tr style=\"text-align: right;\">\n",
       "      <th></th>\n",
       "      <th>trip_id</th>\n",
       "      <th>arrival_time</th>\n",
       "      <th>departure_time</th>\n",
       "      <th>stop_id</th>\n",
       "      <th>stop_sequence</th>\n",
       "      <th>stop_headsign</th>\n",
       "      <th>pickup_type</th>\n",
       "      <th>drop_off_type</th>\n",
       "      <th>shape_dist_traveled</th>\n",
       "      <th>timepoint</th>\n",
       "    </tr>\n",
       "  </thead>\n",
       "  <tbody>\n",
       "    <tr>\n",
       "      <th>674</th>\n",
       "      <td>6777785</td>\n",
       "      <td>11:06:00</td>\n",
       "      <td>11:06:00</td>\n",
       "      <td>11025</td>\n",
       "      <td>75</td>\n",
       "      <td>NaN</td>\n",
       "      <td>0</td>\n",
       "      <td>0</td>\n",
       "      <td>23.0183</td>\n",
       "      <td>1</td>\n",
       "    </tr>\n",
       "    <tr>\n",
       "      <th>675</th>\n",
       "      <td>6777786</td>\n",
       "      <td>9:45:00</td>\n",
       "      <td>9:45:00</td>\n",
       "      <td>94</td>\n",
       "      <td>1</td>\n",
       "      <td>NaN</td>\n",
       "      <td>0</td>\n",
       "      <td>0</td>\n",
       "      <td>NaN</td>\n",
       "      <td>1</td>\n",
       "    </tr>\n",
       "    <tr>\n",
       "      <th>676</th>\n",
       "      <td>6777786</td>\n",
       "      <td>9:46:29</td>\n",
       "      <td>9:46:29</td>\n",
       "      <td>10957</td>\n",
       "      <td>2</td>\n",
       "      <td>NaN</td>\n",
       "      <td>0</td>\n",
       "      <td>0</td>\n",
       "      <td>0.6110</td>\n",
       "      <td>0</td>\n",
       "    </tr>\n",
       "  </tbody>\n",
       "</table>\n",
       "</div>"
      ],
      "text/plain": [
       "     trip_id arrival_time departure_time stop_id  stop_sequence stop_headsign  \\\n",
       "674  6777785     11:06:00       11:06:00   11025             75           NaN   \n",
       "675  6777786      9:45:00        9:45:00      94              1           NaN   \n",
       "676  6777786      9:46:29        9:46:29   10957              2           NaN   \n",
       "\n",
       "     pickup_type  drop_off_type  shape_dist_traveled  timepoint  \n",
       "674            0              0              23.0183          1  \n",
       "675            0              0                  NaN          1  \n",
       "676            0              0               0.6110          0  "
      ]
     },
     "execution_count": 14,
     "metadata": {},
     "output_type": "execute_result"
    }
   ],
   "source": [
    "\n",
    "f = feed.stop_times.copy()\n",
    "f.ix[675:676]\n"
   ]
  },
  {
   "cell_type": "code",
   "execution_count": null,
   "metadata": {
    "collapsed": false
   },
   "outputs": [],
   "source": [
    "f[['arrival_time', 'departure_time']].iloc[5].isnull().any()"
   ]
  },
  {
   "cell_type": "code",
   "execution_count": null,
   "metadata": {
    "collapsed": false
   },
   "outputs": [],
   "source": [
    "f = feed.stop_times.copy()\n",
    "f"
   ]
  },
  {
   "cell_type": "code",
   "execution_count": null,
   "metadata": {
    "collapsed": false
   },
   "outputs": [],
   "source": [
    "feed.agency.columns"
   ]
  },
  {
   "cell_type": "code",
   "execution_count": null,
   "metadata": {
    "collapsed": false
   },
   "outputs": [],
   "source": [
    "feed.describe()"
   ]
  },
  {
   "cell_type": "code",
   "execution_count": null,
   "metadata": {
    "collapsed": false
   },
   "outputs": [],
   "source": [
    "report = feed.validate()"
   ]
  },
  {
   "cell_type": "code",
   "execution_count": null,
   "metadata": {
    "collapsed": false
   },
   "outputs": [],
   "source": [
    "report"
   ]
  },
  {
   "cell_type": "code",
   "execution_count": null,
   "metadata": {
    "collapsed": false
   },
   "outputs": [],
   "source": [
    "f = feed.stop_times.copy()\n",
    "i = 10\n",
    "f.ix[9:11]"
   ]
  },
  {
   "cell_type": "code",
   "execution_count": null,
   "metadata": {
    "collapsed": false
   },
   "outputs": [],
   "source": [
    "feed.assess()"
   ]
  },
  {
   "cell_type": "code",
   "execution_count": null,
   "metadata": {
    "collapsed": false
   },
   "outputs": [],
   "source": [
    "ts = feed.compute_trip_stats()\n",
    "#ts.to_csv(str(DATA_DIR/'cairns_trip_stats.csv'), index=False)\n",
    "ts.head()"
   ]
  },
  {
   "cell_type": "code",
   "execution_count": null,
   "metadata": {
    "collapsed": false
   },
   "outputs": [],
   "source": [
    "rts = feed.compute_route_time_series(ts, date)\n",
    "gt.downsample(rts, freq='12H')"
   ]
  },
  {
   "cell_type": "code",
   "execution_count": null,
   "metadata": {
    "collapsed": true
   },
   "outputs": [],
   "source": [
    "trip_id = feed.trips['trip_id'].iat[0]\n",
    "geo = feed.trip_to_geojson(trip_id, include_stops=True)\n",
    "path = DATA_DIR/'trip_{!s}.geojson'.format(route_id)\n",
    "with path.open('w') as tgt:\n",
    "    json.dump(geo, tgt)"
   ]
  },
  {
   "cell_type": "code",
   "execution_count": null,
   "metadata": {
    "collapsed": false
   },
   "outputs": [],
   "source": [
    "route_id = feed.routes['route_id'].iat[0]\n",
    "geo = feed.route_to_geojson(route_id, include_stops=True)\n",
    "path = DATA_DIR/'route_{!s}.geojson'.format(route_id)\n",
    "with path.open('w') as tgt:\n",
    "    json.dump(geo, tgt)"
   ]
  },
  {
   "cell_type": "code",
   "execution_count": null,
   "metadata": {
    "collapsed": false
   },
   "outputs": [],
   "source": [
    "# Add distances to feed\n",
    "#\n",
    "trip_stats = feed.compute_trip_stats(compute_dist_from_shapes=True)\n",
    "feed = feed.append_dist_to_stop_times(trip_stats)\n",
    "feed.stop_times.T"
   ]
  },
  {
   "cell_type": "code",
   "execution_count": null,
   "metadata": {
    "collapsed": false
   },
   "outputs": [],
   "source": [
    "trip_stats = feed.compute_trip_stats()\n",
    "route_stats = feed.compute_route_stats(trip_stats, date)\n",
    "route_stats\n"
   ]
  },
  {
   "cell_type": "code",
   "execution_count": null,
   "metadata": {
    "collapsed": false
   },
   "outputs": [],
   "source": [
    "a = pd.Series([np.nan, np.nan])\n",
    "a.dropna().max()\n",
    "#gt.get_trips(feed, date, \"07:30:00\")\n"
   ]
  },
  {
   "cell_type": "code",
   "execution_count": null,
   "metadata": {
    "collapsed": false
   },
   "outputs": [],
   "source": [
    "\n",
    "# Pick screen line\n",
    "path = DATA_DIR/'cairns_screen_line.geojson'\n",
    "with path.open() as src:\n",
    "    line = json.load(src)\n",
    "    line = sg.shape(line['features'][0]['geometry'])\n",
    "\n",
    "g = feed.compute_screen_line_counts(line, date)\n",
    "g"
   ]
  },
  {
   "cell_type": "code",
   "execution_count": null,
   "metadata": {
    "collapsed": false
   },
   "outputs": [],
   "source": [
    "g.groupby(['route_id', 'orientation']).count()"
   ]
  },
  {
   "cell_type": "code",
   "execution_count": null,
   "metadata": {
    "collapsed": true
   },
   "outputs": [],
   "source": []
  }
 ],
 "metadata": {
  "kernelspec": {
   "display_name": "Python 3",
   "language": "python",
   "name": "python3"
  },
  "language_info": {
   "codemirror_mode": {
    "name": "ipython",
    "version": 3
   },
   "file_extension": ".py",
   "mimetype": "text/x-python",
   "name": "python",
   "nbconvert_exporter": "python",
   "pygments_lexer": "ipython3",
   "version": "3.5.2"
  }
 },
 "nbformat": 4,
 "nbformat_minor": 0
}
