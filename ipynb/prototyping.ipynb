{
 "cells": [
  {
   "cell_type": "code",
   "execution_count": 1,
   "metadata": {},
   "outputs": [],
   "source": [
    "from __future__ import division\n",
    "import datetime as dt\n",
    "from collections import OrderedDict\n",
    "import sys, os\n",
    "import dateutil.relativedelta as rd\n",
    "import json\n",
    "from pathlib import Path\n",
    "\n",
    "import utm\n",
    "import pandas as pd\n",
    "import numpy as np\n",
    "import shapely.geometry as sg\n",
    "\n",
    "DIR = Path('..')\n",
    "sys.path.append(str(DIR))\n",
    "\n",
    "import gtfstk as gt\n",
    "\n",
    "%load_ext autoreload\n",
    "%autoreload 2\n",
    "\n",
    "DATA_DIR = DIR/'data'"
   ]
  },
  {
   "cell_type": "code",
   "execution_count": 2,
   "metadata": {},
   "outputs": [],
   "source": [
    "path = DATA_DIR/'cairns_gtfs.zip'\n",
    "path = \"/home/araichev/transit_flows/maps/data/hamilton_gtfs_20171113.zip\"\n",
    "#print(gt.list_gtfs(path))\n",
    "\n",
    "feed = gt.read_gtfs(path, dist_units='km')\n"
   ]
  },
  {
   "cell_type": "code",
   "execution_count": 6,
   "metadata": {},
   "outputs": [],
   "source": [
    "dates = feed.get_first_week()[:1]\n",
    "trip_stats = feed.compute_trip_stats()\n"
   ]
  },
  {
   "cell_type": "code",
   "execution_count": 7,
   "metadata": {},
   "outputs": [],
   "source": [
    "freq = \"6H\"\n",
    "sts = feed.compute_stop_time_series(dates, freq=freq, split_directions=True)\n",
    "rts = feed.compute_route_time_series(trip_stats, dates, freq=freq)\n",
    "fts = feed.compute_feed_time_series(trip_stats, dates, freq=freq, split_route_types=True)"
   ]
  },
  {
   "cell_type": "code",
   "execution_count": 22,
   "metadata": {},
   "outputs": [
    {
     "data": {
      "text/html": [
       "<div>\n",
       "<style scoped>\n",
       "    .dataframe tbody tr th:only-of-type {\n",
       "        vertical-align: middle;\n",
       "    }\n",
       "\n",
       "    .dataframe tbody tr th {\n",
       "        vertical-align: top;\n",
       "    }\n",
       "\n",
       "    .dataframe thead tr th {\n",
       "        text-align: left;\n",
       "    }\n",
       "\n",
       "    .dataframe thead tr:last-of-type th {\n",
       "        text-align: right;\n",
       "    }\n",
       "</style>\n",
       "<table border=\"1\" class=\"dataframe\">\n",
       "  <thead>\n",
       "    <tr>\n",
       "      <th>indicator</th>\n",
       "      <th colspan=\"10\" halign=\"left\">num_trip_ends</th>\n",
       "      <th>...</th>\n",
       "      <th colspan=\"10\" halign=\"left\">service_speed</th>\n",
       "    </tr>\n",
       "    <tr>\n",
       "      <th>route_id</th>\n",
       "      <th>11712</th>\n",
       "      <th>11713</th>\n",
       "      <th>3771</th>\n",
       "      <th>4602</th>\n",
       "      <th>4604</th>\n",
       "      <th>4606</th>\n",
       "      <th>4608</th>\n",
       "      <th>4610</th>\n",
       "      <th>4612</th>\n",
       "      <th>4616</th>\n",
       "      <th>...</th>\n",
       "      <th>6321</th>\n",
       "      <th>6461</th>\n",
       "      <th>6805</th>\n",
       "      <th>7118</th>\n",
       "      <th>9021</th>\n",
       "      <th>9022</th>\n",
       "      <th>9032</th>\n",
       "      <th>9033</th>\n",
       "      <th>9708</th>\n",
       "      <th>9709</th>\n",
       "    </tr>\n",
       "    <tr>\n",
       "      <th>datetime</th>\n",
       "      <th></th>\n",
       "      <th></th>\n",
       "      <th></th>\n",
       "      <th></th>\n",
       "      <th></th>\n",
       "      <th></th>\n",
       "      <th></th>\n",
       "      <th></th>\n",
       "      <th></th>\n",
       "      <th></th>\n",
       "      <th></th>\n",
       "      <th></th>\n",
       "      <th></th>\n",
       "      <th></th>\n",
       "      <th></th>\n",
       "      <th></th>\n",
       "      <th></th>\n",
       "      <th></th>\n",
       "      <th></th>\n",
       "      <th></th>\n",
       "      <th></th>\n",
       "    </tr>\n",
       "  </thead>\n",
       "  <tbody>\n",
       "    <tr>\n",
       "      <th>2017-11-13 00:00:00</th>\n",
       "      <td>0</td>\n",
       "      <td>0</td>\n",
       "      <td>0</td>\n",
       "      <td>0</td>\n",
       "      <td>0</td>\n",
       "      <td>0</td>\n",
       "      <td>0</td>\n",
       "      <td>0</td>\n",
       "      <td>0</td>\n",
       "      <td>0</td>\n",
       "      <td>...</td>\n",
       "      <td>0.0</td>\n",
       "      <td>0.0</td>\n",
       "      <td>0.0</td>\n",
       "      <td>0.0</td>\n",
       "      <td>0.0</td>\n",
       "      <td>0.0</td>\n",
       "      <td>0.0</td>\n",
       "      <td>0.0</td>\n",
       "      <td>0.0</td>\n",
       "      <td>0.0</td>\n",
       "    </tr>\n",
       "    <tr>\n",
       "      <th>2017-11-13 08:00:00</th>\n",
       "      <td>0</td>\n",
       "      <td>0</td>\n",
       "      <td>0</td>\n",
       "      <td>0</td>\n",
       "      <td>0</td>\n",
       "      <td>0</td>\n",
       "      <td>0</td>\n",
       "      <td>0</td>\n",
       "      <td>0</td>\n",
       "      <td>0</td>\n",
       "      <td>...</td>\n",
       "      <td>0.0</td>\n",
       "      <td>0.0</td>\n",
       "      <td>0.0</td>\n",
       "      <td>0.0</td>\n",
       "      <td>0.0</td>\n",
       "      <td>0.0</td>\n",
       "      <td>0.0</td>\n",
       "      <td>0.0</td>\n",
       "      <td>0.0</td>\n",
       "      <td>0.0</td>\n",
       "    </tr>\n",
       "    <tr>\n",
       "      <th>2017-11-13 16:00:00</th>\n",
       "      <td>0</td>\n",
       "      <td>0</td>\n",
       "      <td>0</td>\n",
       "      <td>0</td>\n",
       "      <td>0</td>\n",
       "      <td>0</td>\n",
       "      <td>0</td>\n",
       "      <td>0</td>\n",
       "      <td>0</td>\n",
       "      <td>0</td>\n",
       "      <td>...</td>\n",
       "      <td>0.0</td>\n",
       "      <td>0.0</td>\n",
       "      <td>0.0</td>\n",
       "      <td>0.0</td>\n",
       "      <td>0.0</td>\n",
       "      <td>0.0</td>\n",
       "      <td>0.0</td>\n",
       "      <td>0.0</td>\n",
       "      <td>0.0</td>\n",
       "      <td>0.0</td>\n",
       "    </tr>\n",
       "  </tbody>\n",
       "</table>\n",
       "<p>3 rows × 252 columns</p>\n",
       "</div>"
      ],
      "text/plain": [
       "indicator           num_trip_ends                                           \\\n",
       "route_id                    11712 11713 3771 4602 4604 4606 4608 4610 4612   \n",
       "datetime                                                                     \n",
       "2017-11-13 00:00:00             0     0    0    0    0    0    0    0    0   \n",
       "2017-11-13 08:00:00             0     0    0    0    0    0    0    0    0   \n",
       "2017-11-13 16:00:00             0     0    0    0    0    0    0    0    0   \n",
       "\n",
       "indicator                 ... service_speed                                \\\n",
       "route_id            4616  ...          6321 6461 6805 7118 9021 9022 9032   \n",
       "datetime                  ...                                               \n",
       "2017-11-13 00:00:00    0  ...           0.0  0.0  0.0  0.0  0.0  0.0  0.0   \n",
       "2017-11-13 08:00:00    0  ...           0.0  0.0  0.0  0.0  0.0  0.0  0.0   \n",
       "2017-11-13 16:00:00    0  ...           0.0  0.0  0.0  0.0  0.0  0.0  0.0   \n",
       "\n",
       "indicator                           \n",
       "route_id            9033 9708 9709  \n",
       "datetime                            \n",
       "2017-11-13 00:00:00  0.0  0.0  0.0  \n",
       "2017-11-13 08:00:00  0.0  0.0  0.0  \n",
       "2017-11-13 16:00:00  0.0  0.0  0.0  \n",
       "\n",
       "[3 rows x 252 columns]"
      ]
     },
     "metadata": {},
     "output_type": "display_data"
    },
    {
     "ename": "AttributeError",
     "evalue": "'Hour' object has no attribute 'to_offset'",
     "output_type": "error",
     "traceback": [
      "\u001b[0;31m---------------------------------------------------------------------------\u001b[0m",
      "\u001b[0;31mAttributeError\u001b[0m                            Traceback (most recent call last)",
      "\u001b[0;32m<ipython-input-22-57b8e74fe597>\u001b[0m in \u001b[0;36m<module>\u001b[0;34m\u001b[0m\n\u001b[1;32m      2\u001b[0m \u001b[0mf\u001b[0m \u001b[0;34m=\u001b[0m \u001b[0mgt\u001b[0m\u001b[0;34m.\u001b[0m\u001b[0mdownsample\u001b[0m\u001b[0;34m(\u001b[0m\u001b[0mrts\u001b[0m\u001b[0;34m,\u001b[0m \u001b[0mfreq\u001b[0m\u001b[0;34m=\u001b[0m\u001b[0mfreq\u001b[0m\u001b[0;34m)\u001b[0m\u001b[0;34m\u001b[0m\u001b[0;34m\u001b[0m\u001b[0m\n\u001b[1;32m      3\u001b[0m \u001b[0mdisplay\u001b[0m\u001b[0;34m(\u001b[0m\u001b[0mf\u001b[0m\u001b[0;34m)\u001b[0m\u001b[0;34m\u001b[0m\u001b[0;34m\u001b[0m\u001b[0m\n\u001b[0;32m----> 4\u001b[0;31m \u001b[0mf\u001b[0m\u001b[0;34m.\u001b[0m\u001b[0mindex\u001b[0m\u001b[0;34m.\u001b[0m\u001b[0mfreq\u001b[0m\u001b[0;34m.\u001b[0m\u001b[0mto_offset\u001b[0m\u001b[0;34m(\u001b[0m\u001b[0;34m)\u001b[0m\u001b[0;34m\u001b[0m\u001b[0;34m\u001b[0m\u001b[0m\n\u001b[0m",
      "\u001b[0;31mAttributeError\u001b[0m: 'Hour' object has no attribute 'to_offset'"
     ]
    }
   ],
   "source": [
    "freq = \"8H\"\n",
    "f = gt.downsample(rts, freq=freq)\n",
    "display(f)\n",
    "f.index.freq.to_offset()\n"
   ]
  },
  {
   "cell_type": "code",
   "execution_count": null,
   "metadata": {},
   "outputs": [],
   "source": [
    "(\n",
    "    rts\n",
    "    .pipe(gt.unstack_time_series)\n",
    "    .merge(feed.routes.filter([\"route_id\", \"route_type\"]), how=\"left\")\n",
    "    .groupby([\"datetime\", \"indicator\", \"route_type\"])\n",
    "    .agg({\"value\": lambda x: x.sum(skipna=True, min_count=1)})  # Preserve NaNs\n",
    "    .reset_index(\"datetime\")\n",
    "#     .fillna(-1)\n",
    "#     .pivot_table(\n",
    "#         index=[\"datetime\"], columns=[\"indicator\", \"route_type\"]\n",
    "#     )\n",
    "#     .value\n",
    "#     .replace({-1: np.nan})\n",
    ")"
   ]
  },
  {
   "cell_type": "code",
   "execution_count": null,
   "metadata": {},
   "outputs": [],
   "source": [
    "# Slicing \n",
    "display(fts.loc[:, (\"num_trips\", slice(None))])\n",
    "display(fts.xs(\"num_trips\", axis=\"columns\"))"
   ]
  },
  {
   "cell_type": "code",
   "execution_count": null,
   "metadata": {},
   "outputs": [],
   "source": [
    "f = fts = feed.compute_feed_time_series(trip_stats, dates[:1], freq=\"12H\", split_route_types=False)\n",
    "display(f)\n",
    "g = gt.unstack_time_series(f)\n",
    "\n",
    "# columns = [c for c in g.columns if c not in [\"datetime\", \"value\"]]\n",
    "# h = g.pivot_table(index=\"datetime\", columns=columns).value.sort_index(\n",
    "#     axis=\"columns\"\n",
    "# )\n",
    "\n",
    "# hours = (h.index[1] - h.index[0]).components.hours\n",
    "# if hours != 0:\n",
    "#     freqy = f\"{hours}H\"\n",
    "# else:\n",
    "#     freqy = \"D\"\n",
    "\n",
    "# print(freqy)\n",
    "\n",
    "h = gt.restack_time_series(g)\n",
    "h"
   ]
  },
  {
   "cell_type": "code",
   "execution_count": null,
   "metadata": {},
   "outputs": [],
   "source": [
    "f.index"
   ]
  },
  {
   "cell_type": "code",
   "execution_count": null,
   "metadata": {},
   "outputs": [],
   "source": [
    "delta.components.hours"
   ]
  },
  {
   "cell_type": "code",
   "execution_count": null,
   "metadata": {},
   "outputs": [],
   "source": [
    "feed1 = feed.copy()\n",
    "cal = feed1.calendar.copy()\n",
    "cal[\"monday\"] = 0\n",
    "feed1.calendar = cal\n",
    "feed1.compute_feed_time_series(trip_stats, dates, freq=\"12H\")"
   ]
  },
  {
   "cell_type": "code",
   "execution_count": null,
   "metadata": {},
   "outputs": [],
   "source": [
    "s1 = pd.Series({\"hello\": 12, \"goodbye\": 13})\n",
    "s2 = s1.copy()\n",
    "pd.DataFrame([s1, s2])"
   ]
  },
  {
   "cell_type": "code",
   "execution_count": null,
   "metadata": {},
   "outputs": [],
   "source": [
    "feed.compute_stop_stats(['20140601', '20140603'])"
   ]
  },
  {
   "cell_type": "code",
   "execution_count": null,
   "metadata": {},
   "outputs": [],
   "source": [
    "trip_stats = feed.compute_trip_stats()\n",
    "feed = feed.append_dist_to_stop_times(trip_stats)\n",
    "\n",
    "# Load screen line\n",
    "with (DATA_DIR/'cairns_screen_line.geojson').open() as src:\n",
    "    line = json.load(src)\n",
    "    line = sg.shape(line['features'][0]['geometry'])\n",
    "\n"
   ]
  },
  {
   "cell_type": "code",
   "execution_count": null,
   "metadata": {},
   "outputs": [],
   "source": [
    "f = feed.compute_screen_line_counts(line, dates[:7])\n",
    "f[f['crossing_time'] < '06:00:00']"
   ]
  },
  {
   "cell_type": "code",
   "execution_count": null,
   "metadata": {},
   "outputs": [],
   "source": [
    "feed.compute_feed_time_series(ts, dates[-2:], freq='12H')"
   ]
  },
  {
   "cell_type": "code",
   "execution_count": null,
   "metadata": {},
   "outputs": [],
   "source": [
    "sd = False\n",
    "#%time p1 = proto1(feed, ts, dates[:14], split_directions=sd)\n",
    "%time p2 = proto2(feed, [dates[0], '20010101'], split_directions=sd, freq='12H')\n",
    "p2"
   ]
  },
  {
   "cell_type": "code",
   "execution_count": null,
   "metadata": {},
   "outputs": [],
   "source": [
    "feed.compute_feed_stats(ts, dates[0])"
   ]
  },
  {
   "cell_type": "code",
   "execution_count": null,
   "metadata": {},
   "outputs": [],
   "source": [
    "feed.describe()"
   ]
  },
  {
   "cell_type": "code",
   "execution_count": null,
   "metadata": {},
   "outputs": [],
   "source": [
    "feed.summarize()"
   ]
  },
  {
   "cell_type": "code",
   "execution_count": null,
   "metadata": {},
   "outputs": [],
   "source": []
  }
 ],
 "metadata": {
  "kernelspec": {
   "display_name": "Python 3",
   "language": "python",
   "name": "python3"
  },
  "language_info": {
   "codemirror_mode": {
    "name": "ipython",
    "version": 3
   },
   "file_extension": ".py",
   "mimetype": "text/x-python",
   "name": "python",
   "nbconvert_exporter": "python",
   "pygments_lexer": "ipython3",
   "version": "3.6.7"
  }
 },
 "nbformat": 4,
 "nbformat_minor": 1
}
