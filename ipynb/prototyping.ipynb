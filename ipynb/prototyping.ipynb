{
 "cells": [
  {
   "cell_type": "code",
   "execution_count": 1,
   "metadata": {},
   "outputs": [],
   "source": [
    "from __future__ import division\n",
    "import datetime as dt\n",
    "from collections import OrderedDict\n",
    "import sys, os\n",
    "import dateutil.relativedelta as rd\n",
    "import json\n",
    "from pathlib import Path\n",
    "\n",
    "import utm\n",
    "import pandas as pd\n",
    "import numpy as np\n",
    "import shapely.geometry as sg\n",
    "\n",
    "DIR = Path('..')\n",
    "sys.path.append(str(DIR))\n",
    "\n",
    "import gtfstk as gt\n",
    "\n",
    "%load_ext autoreload\n",
    "%autoreload 2\n",
    "\n",
    "DATA_DIR = DIR/'data'"
   ]
  },
  {
   "cell_type": "code",
   "execution_count": 2,
   "metadata": {},
   "outputs": [
    {
     "name": "stdout",
     "output_type": "stream",
     "text": [
      "            file_name  file_size\n",
      "0  calendar_dates.txt        387\n",
      "1          routes.txt       1478\n",
      "2           trips.txt     143081\n",
      "3           stops.txt      26183\n",
      "4          agency.txt        199\n",
      "5      stop_times.txt    2561019\n",
      "6          shapes.txt     864694\n",
      "7        calendar.txt        337\n"
     ]
    }
   ],
   "source": [
    "#path = DATA_DIR/'sample_gtfs.zip'\n",
    "#path = DATA_DIR/'other_feeds'/'gtfs.zip'\n",
    "path = DATA_DIR/'cairns_gtfs.zip'\n",
    "\n",
    "print(gt.list_gtfs(path))\n",
    "\n",
    "feed = gt.read_gtfs(path, dist_units='km')\n"
   ]
  },
  {
   "cell_type": "code",
   "execution_count": 26,
   "metadata": {},
   "outputs": [
    {
     "data": {
      "text/plain": [
       "array([-16.743632, 145.66825500000002], dtype=object)"
      ]
     },
     "execution_count": 26,
     "metadata": {},
     "output_type": "execute_result"
    }
   ],
   "source": [
    "feed.shapes.loc[0, [\"shape_pt_lat\", \"shape_pt_lon\"]].values"
   ]
  },
  {
   "cell_type": "code",
   "execution_count": 24,
   "metadata": {},
   "outputs": [
    {
     "data": {
      "text/html": [
       "<div>\n",
       "<style scoped>\n",
       "    .dataframe tbody tr th:only-of-type {\n",
       "        vertical-align: middle;\n",
       "    }\n",
       "\n",
       "    .dataframe tbody tr th {\n",
       "        vertical-align: top;\n",
       "    }\n",
       "\n",
       "    .dataframe thead tr th {\n",
       "        text-align: left;\n",
       "    }\n",
       "</style>\n",
       "<table border=\"1\" class=\"dataframe\">\n",
       "  <thead>\n",
       "    <tr>\n",
       "      <th>indicator</th>\n",
       "      <th colspan=\"21\" halign=\"left\">num_trips</th>\n",
       "    </tr>\n",
       "    <tr>\n",
       "      <th>stop_id</th>\n",
       "      <th colspan=\"2\" halign=\"left\">750000</th>\n",
       "      <th colspan=\"2\" halign=\"left\">750001</th>\n",
       "      <th colspan=\"2\" halign=\"left\">750002</th>\n",
       "      <th colspan=\"2\" halign=\"left\">750003</th>\n",
       "      <th colspan=\"2\" halign=\"left\">750004</th>\n",
       "      <th>...</th>\n",
       "      <th colspan=\"2\" halign=\"left\">750118</th>\n",
       "      <th colspan=\"2\" halign=\"left\">750119</th>\n",
       "      <th colspan=\"2\" halign=\"left\">750120</th>\n",
       "      <th colspan=\"2\" halign=\"left\">750337</th>\n",
       "      <th colspan=\"2\" halign=\"left\">750449</th>\n",
       "    </tr>\n",
       "    <tr>\n",
       "      <th>direction_id</th>\n",
       "      <th>0</th>\n",
       "      <th>1</th>\n",
       "      <th>0</th>\n",
       "      <th>1</th>\n",
       "      <th>0</th>\n",
       "      <th>1</th>\n",
       "      <th>0</th>\n",
       "      <th>1</th>\n",
       "      <th>0</th>\n",
       "      <th>1</th>\n",
       "      <th>...</th>\n",
       "      <th>0</th>\n",
       "      <th>1</th>\n",
       "      <th>0</th>\n",
       "      <th>1</th>\n",
       "      <th>0</th>\n",
       "      <th>1</th>\n",
       "      <th>0</th>\n",
       "      <th>1</th>\n",
       "      <th>0</th>\n",
       "      <th>1</th>\n",
       "    </tr>\n",
       "  </thead>\n",
       "  <tbody>\n",
       "    <tr>\n",
       "      <th>2001-01-01 00:00:00</th>\n",
       "      <td>1</td>\n",
       "      <td>1</td>\n",
       "      <td>1</td>\n",
       "      <td>1</td>\n",
       "      <td>1</td>\n",
       "      <td>1</td>\n",
       "      <td>1</td>\n",
       "      <td>1</td>\n",
       "      <td>1</td>\n",
       "      <td>1</td>\n",
       "      <td>...</td>\n",
       "      <td>1</td>\n",
       "      <td>1</td>\n",
       "      <td>1</td>\n",
       "      <td>1</td>\n",
       "      <td>1</td>\n",
       "      <td>1</td>\n",
       "      <td>1</td>\n",
       "      <td>1</td>\n",
       "      <td>1</td>\n",
       "      <td>1</td>\n",
       "    </tr>\n",
       "    <tr>\n",
       "      <th>2001-01-01 12:00:00</th>\n",
       "      <td>0</td>\n",
       "      <td>0</td>\n",
       "      <td>0</td>\n",
       "      <td>0</td>\n",
       "      <td>0</td>\n",
       "      <td>0</td>\n",
       "      <td>0</td>\n",
       "      <td>0</td>\n",
       "      <td>0</td>\n",
       "      <td>0</td>\n",
       "      <td>...</td>\n",
       "      <td>0</td>\n",
       "      <td>0</td>\n",
       "      <td>0</td>\n",
       "      <td>0</td>\n",
       "      <td>0</td>\n",
       "      <td>0</td>\n",
       "      <td>0</td>\n",
       "      <td>0</td>\n",
       "      <td>0</td>\n",
       "      <td>0</td>\n",
       "    </tr>\n",
       "  </tbody>\n",
       "</table>\n",
       "<p>2 rows × 70 columns</p>\n",
       "</div>"
      ],
      "text/plain": [
       "indicator           num_trips                                            ...  \\\n",
       "stop_id                750000    750001    750002    750003    750004    ...   \n",
       "direction_id                0  1      0  1      0  1      0  1      0  1 ...   \n",
       "2001-01-01 00:00:00         1  1      1  1      1  1      1  1      1  1 ...   \n",
       "2001-01-01 12:00:00         0  0      0  0      0  0      0  0      0  0 ...   \n",
       "\n",
       "indicator                                                              \n",
       "stop_id             750118    750119    750120    750337    750449     \n",
       "direction_id             0  1      0  1      0  1      0  1      0  1  \n",
       "2001-01-01 00:00:00      1  1      1  1      1  1      1  1      1  1  \n",
       "2001-01-01 12:00:00      0  0      0  0      0  0      0  0      0  0  \n",
       "\n",
       "[2 rows x 70 columns]"
      ]
     },
     "execution_count": 24,
     "metadata": {},
     "output_type": "execute_result"
    }
   ],
   "source": [
    "dates = feed.get_first_week()\n",
    "feed1 = feed.copy()\n",
    "del feed1.trips[\"direction_id\"]\n",
    "\n",
    "t = feed1.trips.copy()\n",
    "t.loc[0, \"direction_id\"] = 0\n",
    "t.loc[1, \"direction_id\"] = 1\n",
    "\n",
    "\n",
    "#gt.compute_stop_stats_base(feed1.stop_times, t, split_directions=True)\n",
    "gt.compute_stop_time_series_base(feed1.stop_times, t, split_directions=True, freq=\"12H\")\n",
    "#feed1.compute_stop_stats(dates=dates, split_directions=False)\n",
    "#gt.compute_route_stats_base(f, split_directions=True)\n",
    "#feed1.compute_route_time_series(f, dates=dates, split_directions=True, freq=\"12H\").T\n",
    "#gt.compute_route_time_series_base(f, split_directions=True, freq=\"12H\")"
   ]
  },
  {
   "cell_type": "code",
   "execution_count": null,
   "metadata": {},
   "outputs": [],
   "source": [
    "dates = feed.get_first_week()[6:]\n",
    "feed1 = feed.restrict_to_dates([\"20180101\"])\n",
    "feed1.routes\n"
   ]
  },
  {
   "cell_type": "code",
   "execution_count": null,
   "metadata": {},
   "outputs": [],
   "source": [
    "#f = feed.compute_stop_time_series(dates[:3], split_directions=True, freq='12H')\n",
    "#f = feed.compute_route_time_series(trip_stats, dates[:1], freq='12H', split_directions=True)\n",
    "f = feed.compute_feed_time_series(trip_stats, dates[:1], freq='12H')\n",
    "#f.columns\n",
    "pd.isnull(f.values).all()"
   ]
  },
  {
   "cell_type": "code",
   "execution_count": null,
   "metadata": {},
   "outputs": [],
   "source": [
    "ts = feed.compute_route_time_series(trip_stats, dates[0], freq='6H')\n",
    "# inds = ['num_trips', 'num_trip_ends', 'num_trip_starts']\n",
    "# rids = ['110-423', '111-423', '112-423']\n",
    "\n",
    "# ts.loc[:, (inds, rids)]\n",
    "\n",
    "#ts = feed.compute_feed_time_series(trip_stats, [dates[0], dates[2]], freq='6H')\n",
    "# ts = feed.compute_stop_time_series([dates[0], dates[2]], freq='6H')\n",
    "# sid = '750015'\n",
    "# ts.loc[:, ('num_trips', sid)]\n",
    "\n",
    "ts"
   ]
  },
  {
   "cell_type": "code",
   "execution_count": null,
   "metadata": {},
   "outputs": [],
   "source": [
    "ts.columns"
   ]
  },
  {
   "cell_type": "code",
   "execution_count": null,
   "metadata": {},
   "outputs": [],
   "source": [
    "dts = gt.downsample(ts, freq='D')\n",
    "#dts.loc[:, (inds, rids)]\n",
    "#dts.loc[:, ('num_trips', sid)]\n",
    "dts"
   ]
  },
  {
   "cell_type": "code",
   "execution_count": null,
   "metadata": {},
   "outputs": [],
   "source": [
    "f = feed.compute_feed_stats(trip_stats, '2001')\n",
    "f\n"
   ]
  },
  {
   "cell_type": "code",
   "execution_count": null,
   "metadata": {},
   "outputs": [],
   "source": [
    "f.date"
   ]
  },
  {
   "cell_type": "code",
   "execution_count": null,
   "metadata": {},
   "outputs": [],
   "source": [
    "feed.compute_stop_stats(['20140601', '20140603'])"
   ]
  },
  {
   "cell_type": "code",
   "execution_count": null,
   "metadata": {},
   "outputs": [],
   "source": [
    "trip_stats = feed.compute_trip_stats()\n",
    "feed = feed.append_dist_to_stop_times(trip_stats)\n",
    "\n",
    "# Load screen line\n",
    "with (DATA_DIR/'cairns_screen_line.geojson').open() as src:\n",
    "    line = json.load(src)\n",
    "    line = sg.shape(line['features'][0]['geometry'])\n",
    "\n"
   ]
  },
  {
   "cell_type": "code",
   "execution_count": null,
   "metadata": {},
   "outputs": [],
   "source": [
    "f = feed.compute_screen_line_counts(line, dates[:7])\n",
    "f[f['crossing_time'] < '06:00:00']"
   ]
  },
  {
   "cell_type": "code",
   "execution_count": null,
   "metadata": {},
   "outputs": [],
   "source": [
    "feed.compute_feed_time_series(ts, dates[-2:], freq='12H')"
   ]
  },
  {
   "cell_type": "code",
   "execution_count": null,
   "metadata": {},
   "outputs": [],
   "source": [
    "sd = False\n",
    "#%time p1 = proto1(feed, ts, dates[:14], split_directions=sd)\n",
    "%time p2 = proto2(feed, [dates[0], '20010101'], split_directions=sd, freq='12H')\n",
    "p2"
   ]
  },
  {
   "cell_type": "code",
   "execution_count": null,
   "metadata": {},
   "outputs": [],
   "source": [
    "feed.compute_feed_stats(ts, dates[0])"
   ]
  },
  {
   "cell_type": "code",
   "execution_count": null,
   "metadata": {},
   "outputs": [],
   "source": [
    "feed.describe()"
   ]
  },
  {
   "cell_type": "code",
   "execution_count": null,
   "metadata": {},
   "outputs": [],
   "source": [
    "feed.summarize()"
   ]
  },
  {
   "cell_type": "code",
   "execution_count": null,
   "metadata": {},
   "outputs": [],
   "source": []
  }
 ],
 "metadata": {
  "kernelspec": {
   "display_name": "Python 3",
   "language": "python",
   "name": "python3"
  },
  "language_info": {
   "codemirror_mode": {
    "name": "ipython",
    "version": 3
   },
   "file_extension": ".py",
   "mimetype": "text/x-python",
   "name": "python",
   "nbconvert_exporter": "python",
   "pygments_lexer": "ipython3",
   "version": "3.6.6"
  }
 },
 "nbformat": 4,
 "nbformat_minor": 1
}
