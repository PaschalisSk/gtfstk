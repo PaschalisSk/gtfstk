{
 "cells": [
  {
   "cell_type": "code",
   "execution_count": 1,
   "metadata": {
    "collapsed": false
   },
   "outputs": [],
   "source": [
    "from __future__ import division\n",
    "import datetime as dt\n",
    "from collections import OrderedDict\n",
    "import sys, os\n",
    "import dateutil.relativedelta as rd\n",
    "import json\n",
    "from pathlib import Path\n",
    "\n",
    "import utm\n",
    "import pandas as pd\n",
    "import numpy as np\n",
    "from shapely.geometry import shape as s_shape\n",
    "\n",
    "DIR = Path('..')\n",
    "sys.path.append(str(DIR))\n",
    "\n",
    "import gtfstk as gt\n",
    "\n",
    "%load_ext autoreload\n",
    "%autoreload 2\n",
    "\n",
    "DATA_DIR = DIR/'data'"
   ]
  },
  {
   "cell_type": "code",
   "execution_count": 8,
   "metadata": {
    "collapsed": false
   },
   "outputs": [
    {
     "name": "stdout",
     "output_type": "stream",
     "text": [
      "date 20140526\n"
     ]
    }
   ],
   "source": [
    "path = DATA_DIR/'cairns_gtfs.zip'\n",
    "feed = gt.read_gtfs(path, dist_units='km')\n",
    "\n",
    "# Pick date\n",
    "date = gt.get_first_week(feed)[0]\n",
    "print('date', date)\n"
   ]
  },
  {
   "cell_type": "code",
   "execution_count": 9,
   "metadata": {
    "collapsed": false
   },
   "outputs": [
    {
     "data": {
      "text/html": [
       "<div>\n",
       "<table border=\"1\" class=\"dataframe\">\n",
       "  <thead>\n",
       "    <tr style=\"text-align: right;\">\n",
       "      <th></th>\n",
       "      <th>trip_id</th>\n",
       "      <th>route_id</th>\n",
       "      <th>route_short_name</th>\n",
       "      <th>route_type</th>\n",
       "      <th>direction_id</th>\n",
       "      <th>shape_id</th>\n",
       "      <th>num_stops</th>\n",
       "      <th>start_time</th>\n",
       "      <th>end_time</th>\n",
       "      <th>start_stop_id</th>\n",
       "      <th>end_stop_id</th>\n",
       "      <th>is_loop</th>\n",
       "      <th>duration</th>\n",
       "      <th>distance</th>\n",
       "      <th>speed</th>\n",
       "    </tr>\n",
       "  </thead>\n",
       "  <tbody>\n",
       "    <tr>\n",
       "      <th>703</th>\n",
       "      <td>CNS2014-CNS_MUL-Weekday-00-4165878</td>\n",
       "      <td>110-423</td>\n",
       "      <td>110</td>\n",
       "      <td>3</td>\n",
       "      <td>0</td>\n",
       "      <td>1100023</td>\n",
       "      <td>35</td>\n",
       "      <td>05:50:00</td>\n",
       "      <td>06:50:00</td>\n",
       "      <td>750337</td>\n",
       "      <td>750449</td>\n",
       "      <td>0</td>\n",
       "      <td>1.000000</td>\n",
       "      <td>32.507121</td>\n",
       "      <td>32.507121</td>\n",
       "    </tr>\n",
       "    <tr>\n",
       "      <th>0</th>\n",
       "      <td>CNS2014-CNS_MUL-Saturday-00-4165937</td>\n",
       "      <td>110-423</td>\n",
       "      <td>110</td>\n",
       "      <td>3</td>\n",
       "      <td>0</td>\n",
       "      <td>1100023</td>\n",
       "      <td>35</td>\n",
       "      <td>06:16:00</td>\n",
       "      <td>07:10:00</td>\n",
       "      <td>750337</td>\n",
       "      <td>750449</td>\n",
       "      <td>0</td>\n",
       "      <td>0.900000</td>\n",
       "      <td>32.507121</td>\n",
       "      <td>36.119024</td>\n",
       "    </tr>\n",
       "    <tr>\n",
       "      <th>704</th>\n",
       "      <td>CNS2014-CNS_MUL-Weekday-00-4165879</td>\n",
       "      <td>110-423</td>\n",
       "      <td>110</td>\n",
       "      <td>3</td>\n",
       "      <td>0</td>\n",
       "      <td>1100023</td>\n",
       "      <td>35</td>\n",
       "      <td>06:20:00</td>\n",
       "      <td>07:20:00</td>\n",
       "      <td>750337</td>\n",
       "      <td>750449</td>\n",
       "      <td>0</td>\n",
       "      <td>1.000000</td>\n",
       "      <td>32.507121</td>\n",
       "      <td>32.507121</td>\n",
       "    </tr>\n",
       "    <tr>\n",
       "      <th>705</th>\n",
       "      <td>CNS2014-CNS_MUL-Weekday-00-4165880</td>\n",
       "      <td>110-423</td>\n",
       "      <td>110</td>\n",
       "      <td>3</td>\n",
       "      <td>0</td>\n",
       "      <td>1100023</td>\n",
       "      <td>35</td>\n",
       "      <td>06:50:00</td>\n",
       "      <td>07:50:00</td>\n",
       "      <td>750337</td>\n",
       "      <td>750449</td>\n",
       "      <td>0</td>\n",
       "      <td>1.000000</td>\n",
       "      <td>32.507121</td>\n",
       "      <td>32.507121</td>\n",
       "    </tr>\n",
       "    <tr>\n",
       "      <th>706</th>\n",
       "      <td>CNS2014-CNS_MUL-Weekday-00-4165881</td>\n",
       "      <td>110-423</td>\n",
       "      <td>110</td>\n",
       "      <td>3</td>\n",
       "      <td>0</td>\n",
       "      <td>1100023</td>\n",
       "      <td>35</td>\n",
       "      <td>07:15:00</td>\n",
       "      <td>08:20:00</td>\n",
       "      <td>750337</td>\n",
       "      <td>750449</td>\n",
       "      <td>0</td>\n",
       "      <td>1.083333</td>\n",
       "      <td>32.507121</td>\n",
       "      <td>30.006574</td>\n",
       "    </tr>\n",
       "  </tbody>\n",
       "</table>\n",
       "</div>"
      ],
      "text/plain": [
       "                                 trip_id route_id route_short_name  \\\n",
       "703   CNS2014-CNS_MUL-Weekday-00-4165878  110-423              110   \n",
       "0    CNS2014-CNS_MUL-Saturday-00-4165937  110-423              110   \n",
       "704   CNS2014-CNS_MUL-Weekday-00-4165879  110-423              110   \n",
       "705   CNS2014-CNS_MUL-Weekday-00-4165880  110-423              110   \n",
       "706   CNS2014-CNS_MUL-Weekday-00-4165881  110-423              110   \n",
       "\n",
       "     route_type  direction_id shape_id  num_stops start_time  end_time  \\\n",
       "703           3             0  1100023         35   05:50:00  06:50:00   \n",
       "0             3             0  1100023         35   06:16:00  07:10:00   \n",
       "704           3             0  1100023         35   06:20:00  07:20:00   \n",
       "705           3             0  1100023         35   06:50:00  07:50:00   \n",
       "706           3             0  1100023         35   07:15:00  08:20:00   \n",
       "\n",
       "    start_stop_id end_stop_id  is_loop  duration   distance      speed  \n",
       "703        750337      750449        0  1.000000  32.507121  32.507121  \n",
       "0          750337      750449        0  0.900000  32.507121  36.119024  \n",
       "704        750337      750449        0  1.000000  32.507121  32.507121  \n",
       "705        750337      750449        0  1.000000  32.507121  32.507121  \n",
       "706        750337      750449        0  1.083333  32.507121  30.006574  "
      ]
     },
     "execution_count": 9,
     "metadata": {},
     "output_type": "execute_result"
    }
   ],
   "source": [
    "ts = gt.compute_trip_stats(feed)\n",
    "ts.head()"
   ]
  },
  {
   "cell_type": "code",
   "execution_count": 10,
   "metadata": {
    "collapsed": false
   },
   "outputs": [
    {
     "data": {
      "text/html": [
       "<div>\n",
       "<table border=\"1\" class=\"dataframe\">\n",
       "  <thead>\n",
       "    <tr>\n",
       "      <th>indicator</th>\n",
       "      <th colspan=\"10\" halign=\"left\">num_trip_starts</th>\n",
       "      <th>...</th>\n",
       "      <th colspan=\"10\" halign=\"left\">service_speed</th>\n",
       "    </tr>\n",
       "    <tr>\n",
       "      <th>route_id</th>\n",
       "      <th>110-423</th>\n",
       "      <th>111-423</th>\n",
       "      <th>112-423</th>\n",
       "      <th>113-423</th>\n",
       "      <th>120-423</th>\n",
       "      <th>120N-423</th>\n",
       "      <th>121-423</th>\n",
       "      <th>122-423</th>\n",
       "      <th>123-423</th>\n",
       "      <th>130-423</th>\n",
       "      <th>...</th>\n",
       "      <th>131-423</th>\n",
       "      <th>131N-423</th>\n",
       "      <th>133-423</th>\n",
       "      <th>140-423</th>\n",
       "      <th>141-423</th>\n",
       "      <th>142-423</th>\n",
       "      <th>143-423</th>\n",
       "      <th>143W-423</th>\n",
       "      <th>150-423</th>\n",
       "      <th>150E-423</th>\n",
       "    </tr>\n",
       "  </thead>\n",
       "  <tbody>\n",
       "    <tr>\n",
       "      <th>2014-05-26 00:00:00</th>\n",
       "      <td>23</td>\n",
       "      <td>22</td>\n",
       "      <td>5</td>\n",
       "      <td>3</td>\n",
       "      <td>12</td>\n",
       "      <td>0</td>\n",
       "      <td>14</td>\n",
       "      <td>14</td>\n",
       "      <td>23</td>\n",
       "      <td>12</td>\n",
       "      <td>...</td>\n",
       "      <td>24.049902</td>\n",
       "      <td>NaN</td>\n",
       "      <td>25.035081</td>\n",
       "      <td>25.634669</td>\n",
       "      <td>20.802088</td>\n",
       "      <td>26.021598</td>\n",
       "      <td>24.366138</td>\n",
       "      <td>NaN</td>\n",
       "      <td>31.565566</td>\n",
       "      <td>NaN</td>\n",
       "    </tr>\n",
       "    <tr>\n",
       "      <th>2014-05-26 12:00:00</th>\n",
       "      <td>36</td>\n",
       "      <td>36</td>\n",
       "      <td>10</td>\n",
       "      <td>3</td>\n",
       "      <td>20</td>\n",
       "      <td>2</td>\n",
       "      <td>20</td>\n",
       "      <td>19</td>\n",
       "      <td>37</td>\n",
       "      <td>21</td>\n",
       "      <td>...</td>\n",
       "      <td>24.051800</td>\n",
       "      <td>24.067374</td>\n",
       "      <td>26.439134</td>\n",
       "      <td>25.832253</td>\n",
       "      <td>20.828188</td>\n",
       "      <td>26.417789</td>\n",
       "      <td>24.307749</td>\n",
       "      <td>30.331218</td>\n",
       "      <td>31.547064</td>\n",
       "      <td>34.12138</td>\n",
       "    </tr>\n",
       "  </tbody>\n",
       "</table>\n",
       "<p>2 rows × 100 columns</p>\n",
       "</div>"
      ],
      "text/plain": [
       "indicator           num_trip_starts                                           \\\n",
       "route_id                    110-423 111-423 112-423 113-423 120-423 120N-423   \n",
       "2014-05-26 00:00:00              23      22       5       3      12        0   \n",
       "2014-05-26 12:00:00              36      36      10       3      20        2   \n",
       "\n",
       "indicator                                              ...    service_speed  \\\n",
       "route_id            121-423 122-423 123-423 130-423    ...          131-423   \n",
       "2014-05-26 00:00:00      14      14      23      12    ...        24.049902   \n",
       "2014-05-26 12:00:00      20      19      37      21    ...        24.051800   \n",
       "\n",
       "indicator                                                                   \\\n",
       "route_id              131N-423    133-423    140-423    141-423    142-423   \n",
       "2014-05-26 00:00:00        NaN  25.035081  25.634669  20.802088  26.021598   \n",
       "2014-05-26 12:00:00  24.067374  26.439134  25.832253  20.828188  26.417789   \n",
       "\n",
       "indicator                                                       \n",
       "route_id               143-423   143W-423    150-423  150E-423  \n",
       "2014-05-26 00:00:00  24.366138        NaN  31.565566       NaN  \n",
       "2014-05-26 12:00:00  24.307749  30.331218  31.547064  34.12138  \n",
       "\n",
       "[2 rows x 100 columns]"
      ]
     },
     "execution_count": 10,
     "metadata": {},
     "output_type": "execute_result"
    }
   ],
   "source": [
    "rts = gt.compute_route_time_series(feed, ts, date)\n",
    "gt.downsample(rts, freq='12H')"
   ]
  },
  {
   "cell_type": "code",
   "execution_count": 15,
   "metadata": {
    "collapsed": true
   },
   "outputs": [],
   "source": [
    "trip_id = feed.trips['trip_id'].iat[0]\n",
    "geo = gt.trip_to_geojson(feed, trip_id, include_stops=True)\n",
    "path = DATA_DIR/'trip_{!s}.geojson'.format(route_id)\n",
    "with path.open('w') as tgt:\n",
    "    json.dump(geo, tgt)"
   ]
  },
  {
   "cell_type": "code",
   "execution_count": 16,
   "metadata": {
    "collapsed": false
   },
   "outputs": [],
   "source": [
    "route_id = feed.routes['route_id'].iat[0]\n",
    "geo = gt.route_to_geojson(feed, route_id, include_stops=True)\n",
    "path = DATA_DIR/'route_{!s}.geojson'.format(route_id)\n",
    "with path.open('w') as tgt:\n",
    "    json.dump(geo, tgt)"
   ]
  },
  {
   "cell_type": "code",
   "execution_count": null,
   "metadata": {
    "collapsed": false
   },
   "outputs": [],
   "source": [
    "# Add distances to feed\n",
    "trips_stats = gt.compute_trip_stats(feed, compute_dist_from_shapes=True)\n",
    "feed.stop_times = gt.append_dist_to_stop_times(feed, trips_stats)\n",
    "feed.stop_times.T"
   ]
  },
  {
   "cell_type": "code",
   "execution_count": null,
   "metadata": {
    "collapsed": false
   },
   "outputs": [],
   "source": [
    "trips_stats = gt.compute_trip_stats(feed)\n",
    "routes_stats = gt.compute_route_stats(feed, trips_stats, date)\n",
    "routes_stats\n"
   ]
  },
  {
   "cell_type": "code",
   "execution_count": null,
   "metadata": {
    "collapsed": false
   },
   "outputs": [],
   "source": [
    "a = pd.Series([np.nan, np.nan])\n",
    "a.dropna().max()\n",
    "#gt.get_trips(feed, date, \"07:30:00\")\n"
   ]
  },
  {
   "cell_type": "code",
   "execution_count": null,
   "metadata": {
    "collapsed": true
   },
   "outputs": [],
   "source": [
    "st['departure_time'].unique"
   ]
  },
  {
   "cell_type": "code",
   "execution_count": null,
   "metadata": {
    "collapsed": false
   },
   "outputs": [],
   "source": [
    "tl = gt.compute_trip_locations(feed, date, ['12:00:00'])\n",
    "tl"
   ]
  },
  {
   "cell_type": "code",
   "execution_count": null,
   "metadata": {
    "collapsed": false
   },
   "outputs": [],
   "source": [
    "freq = '12H'\n",
    "f = gt.compute_route_time_series(feed, trips_stats, date, split_directions=True, freq=freq)\n",
    "\n",
    "# cols_and_hows = [\n",
    "#     ('num_trips', 'mean'),\n",
    "#     ('num_trip_starts', 'sum'),\n",
    "#     ('service_distance', 'sum'),\n",
    "#     ('service_duration', 'sum'),\n",
    "#     ]\n",
    "\n",
    "# frames = []\n",
    "# for col, how in cols_and_hows:\n",
    "#     frames.append(f[col].resample(freq).agg({col: how}))    \n",
    "# g = pd.concat(frames, axis=1)\n",
    "# g = g.sortlevel(axis=1)\n",
    "\n",
    "# #f = f.resample(freq).sum()\n",
    "\n",
    "# g.columns.names = f.columns.names\n",
    "\n",
    "# g.T\n",
    "f.T"
   ]
  },
  {
   "cell_type": "code",
   "execution_count": null,
   "metadata": {
    "collapsed": false
   },
   "outputs": [],
   "source": [
    "\n",
    "# Pick screen line\n",
    "path = DATA_DIR/'cairns_screen_line.geojson'\n",
    "with path.open() as src:\n",
    "    line = json.load(src)\n",
    "    line = s_shape(line['features'][0]['geometry'])\n",
    "\n",
    "g = gt.compute_screen_line_counts(feed, line, date)\n",
    "g"
   ]
  },
  {
   "cell_type": "code",
   "execution_count": null,
   "metadata": {
    "collapsed": false
   },
   "outputs": [],
   "source": [
    "g.groupby(['route_id', 'orientation']).count()"
   ]
  },
  {
   "cell_type": "code",
   "execution_count": null,
   "metadata": {
    "collapsed": true
   },
   "outputs": [],
   "source": []
  }
 ],
 "metadata": {
  "kernelspec": {
   "display_name": "Python 3",
   "language": "python",
   "name": "python3"
  },
  "language_info": {
   "codemirror_mode": {
    "name": "ipython",
    "version": 3
   },
   "file_extension": ".py",
   "mimetype": "text/x-python",
   "name": "python",
   "nbconvert_exporter": "python",
   "pygments_lexer": "ipython3",
   "version": "3.5.1"
  }
 },
 "nbformat": 4,
 "nbformat_minor": 0
}
